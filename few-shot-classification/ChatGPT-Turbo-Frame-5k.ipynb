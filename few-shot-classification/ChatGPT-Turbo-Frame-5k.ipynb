{
 "cells": [
  {
   "cell_type": "code",
   "execution_count": 6,
   "id": "1dc74706-decd-4308-9e6a-93f802c8da7a",
   "metadata": {},
   "outputs": [],
   "source": [
    "EXPERIMENT_IDENTIFIER = \"framing_with_5k_nonethnic\""
   ]
  },
  {
   "cell_type": "code",
   "execution_count": 4,
   "id": "f4d22d6b-3825-4e6b-bf89-134a0dd360e9",
   "metadata": {},
   "outputs": [],
   "source": [
    "N = 5000"
   ]
  },
  {
   "cell_type": "code",
   "execution_count": 15,
   "id": "1dfa6cdb-e3e7-4732-bfb4-b9dbe6863f76",
   "metadata": {},
   "outputs": [
    {
     "name": "stdout",
     "output_type": "stream",
     "text": [
      "../data/nonethnic_5000_gpt_3.5_turbo_v3.csv\n"
     ]
    }
   ],
   "source": [
    "!ls ../data/nonethnic_5000_gpt_3.5_turbo_v3.csv"
   ]
  },
  {
   "cell_type": "code",
   "execution_count": 18,
   "id": "abaae08d-414d-49d3-8638-ab95a2f32d5e",
   "metadata": {},
   "outputs": [
    {
     "data": {
      "text/html": [
       "<div>\n",
       "<style scoped>\n",
       "    .dataframe tbody tr th:only-of-type {\n",
       "        vertical-align: middle;\n",
       "    }\n",
       "\n",
       "    .dataframe tbody tr th {\n",
       "        vertical-align: top;\n",
       "    }\n",
       "\n",
       "    .dataframe thead th {\n",
       "        text-align: right;\n",
       "    }\n",
       "</style>\n",
       "<table border=\"1\" class=\"dataframe\">\n",
       "  <thead>\n",
       "    <tr style=\"text-align: right;\">\n",
       "      <th></th>\n",
       "      <th>Unnamed: 0</th>\n",
       "      <th>content</th>\n",
       "      <th>Genre</th>\n",
       "      <th>Journalism Style</th>\n",
       "      <th>Is_ethnic</th>\n",
       "      <th>Featured</th>\n",
       "      <th>Sentiment</th>\n",
       "      <th>Agenda Setting</th>\n",
       "      <th>Framing</th>\n",
       "      <th>Priming</th>\n",
       "      <th>Mobilizing</th>\n",
       "    </tr>\n",
       "  </thead>\n",
       "  <tbody>\n",
       "    <tr>\n",
       "      <th>0</th>\n",
       "      <td>0</td>\n",
       "      <td>&lt;p&gt;ফকিরহাট উপজেলা স্বাস্থ্য ও পরিবার পরিকল্পনা...</td>\n",
       "      <td>['Local news']</td>\n",
       "      <td>Straight</td>\n",
       "      <td>False</td>\n",
       "      <td>Subject</td>\n",
       "      <td>Negative</td>\n",
       "      <td>Health</td>\n",
       "      <td>Tragedy</td>\n",
       "      <td>Awareness</td>\n",
       "      <td>Support</td>\n",
       "    </tr>\n",
       "    <tr>\n",
       "      <th>1</th>\n",
       "      <td>1</td>\n",
       "      <td>ব্লু-হোয়েল শেষে অতঃপর চলছে মোমো আতঙ্ক। তবে মোম...</td>\n",
       "      <td>['Crime']</td>\n",
       "      <td>Straight</td>\n",
       "      <td>False</td>\n",
       "      <td>Subject</td>\n",
       "      <td>Negative</td>\n",
       "      <td>Online Games</td>\n",
       "      <td>Dangerous Influence</td>\n",
       "      <td>Youth</td>\n",
       "      <td>Awareness</td>\n",
       "    </tr>\n",
       "    <tr>\n",
       "      <th>2</th>\n",
       "      <td>2</td>\n",
       "      <td>&lt;p&gt;এদিকে প্রযোজক জানিয়েছেন, ছবিটির জন্য প্রচার...</td>\n",
       "      <td>['Culture &amp; Entertainment']</td>\n",
       "      <td>Straight</td>\n",
       "      <td>False</td>\n",
       "      <td>Not applicable</td>\n",
       "      <td>Neutral</td>\n",
       "      <td>Promotion</td>\n",
       "      <td>Promotion</td>\n",
       "      <td>Advertisement</td>\n",
       "      <td>NaN</td>\n",
       "    </tr>\n",
       "    <tr>\n",
       "      <th>3</th>\n",
       "      <td>3</td>\n",
       "      <td>&lt;p class=\"Hdg1col\"&gt;প্রথমবারের মতো দক্ষিণ আফ্রি...</td>\n",
       "      <td>['Sports']</td>\n",
       "      <td>Straight</td>\n",
       "      <td>False</td>\n",
       "      <td>Subject</td>\n",
       "      <td>Positive</td>\n",
       "      <td>Sports</td>\n",
       "      <td>Competition</td>\n",
       "      <td>Victory</td>\n",
       "      <td>Celebration</td>\n",
       "    </tr>\n",
       "    <tr>\n",
       "      <th>4</th>\n",
       "      <td>4</td>\n",
       "      <td>&lt;p&gt;মফস্বলের শিক্ষার্থীদের ইংরেজি–ভীতি দূর করতে...</td>\n",
       "      <td>['Education']</td>\n",
       "      <td>Straight</td>\n",
       "      <td>False</td>\n",
       "      <td>Subject</td>\n",
       "      <td>Negative</td>\n",
       "      <td>English Language</td>\n",
       "      <td>Competition</td>\n",
       "      <td>Students</td>\n",
       "      <td>Improvement</td>\n",
       "    </tr>\n",
       "  </tbody>\n",
       "</table>\n",
       "</div>"
      ],
      "text/plain": [
       "  Unnamed: 0                                            content  \\\n",
       "0          0  <p>ফকিরহাট উপজেলা স্বাস্থ্য ও পরিবার পরিকল্পনা...   \n",
       "1          1  ব্লু-হোয়েল শেষে অতঃপর চলছে মোমো আতঙ্ক। তবে মোম...   \n",
       "2          2  <p>এদিকে প্রযোজক জানিয়েছেন, ছবিটির জন্য প্রচার...   \n",
       "3          3  <p class=\"Hdg1col\">প্রথমবারের মতো দক্ষিণ আফ্রি...   \n",
       "4          4  <p>মফস্বলের শিক্ষার্থীদের ইংরেজি–ভীতি দূর করতে...   \n",
       "\n",
       "                         Genre Journalism Style Is_ethnic        Featured  \\\n",
       "0               ['Local news']         Straight     False         Subject   \n",
       "1                    ['Crime']         Straight     False         Subject   \n",
       "2  ['Culture & Entertainment']         Straight     False  Not applicable   \n",
       "3                   ['Sports']         Straight     False         Subject   \n",
       "4                ['Education']         Straight     False         Subject   \n",
       "\n",
       "  Sentiment    Agenda Setting              Framing        Priming   Mobilizing  \n",
       "0  Negative            Health              Tragedy      Awareness      Support  \n",
       "1  Negative      Online Games  Dangerous Influence          Youth    Awareness  \n",
       "2   Neutral         Promotion            Promotion  Advertisement          NaN  \n",
       "3  Positive            Sports          Competition        Victory  Celebration  \n",
       "4  Negative  English Language          Competition       Students  Improvement  "
      ]
     },
     "execution_count": 18,
     "metadata": {},
     "output_type": "execute_result"
    }
   ],
   "source": [
    "import pandas as pd\n",
    "import random\n",
    "random.seed(42)\n",
    "\n",
    "nonethnic_df = pd.read_csv(\"../data/nonethnic_5000_gpt_3.5_turbo_v3.csv\")\n",
    "nonethnic_df.head()"
   ]
  },
  {
   "cell_type": "code",
   "execution_count": 31,
   "id": "c8988cb9-14db-4ccf-b646-7fe54d737531",
   "metadata": {},
   "outputs": [
    {
     "data": {
      "text/plain": [
       "np.int64(0)"
      ]
     },
     "execution_count": 31,
     "metadata": {},
     "output_type": "execute_result"
    }
   ],
   "source": [
    "nonethnic_df = nonethnic_df.dropna(subset=['content'])\n",
    "\n",
    "# Optional: Reset the index if you want a clean index after dropping rows\n",
    "nonethnic_df.reset_index(drop=True, inplace=True)\n",
    "nonethnic_df[\"content\"].isna().sum()"
   ]
  },
  {
   "cell_type": "code",
   "execution_count": 34,
   "id": "709ed116-7625-4a50-bb58-1723d0cf7493",
   "metadata": {},
   "outputs": [
    {
     "name": "stdout",
     "output_type": "stream",
     "text": [
      "5006\n"
     ]
    },
    {
     "data": {
      "text/plain": [
       "['<p>ফকিরহাট উপজেলা স্বাস্থ্য ও পরিবার পরিকল্পনা কর্মকর্তা অসীম কুমার সমাদ্দার বলেন, খুলনায় চিকিৎসাধীন অবস্থায় পল্লিচিকিৎসক ও তাঁর ছেলের মৃত্যু হয়েছে। এ নিয়ে ফকিরহাট উপজেলায় মোট চারজনের মৃত্যু হলো।</p>',\n",
       " \"ব্লু-হোয়েল শেষে অতঃপর চলছে মোমো আতঙ্ক। তবে মোমোর ছোবলের মাঝেই হাজির হলো আরেক নতুন মরণগেম। এ নতুন অনলাইন মরণগেমের নাম গ্র্যানি।এই গেমের খপ্পরে পড়ে অসুস্থ হয়ে পড়ছে অনেক কোমলমতি শিক্ষার্থী। বিশেষ করে ভারতে ফাঁদ পেতেছে এ মরণগেম। গ্র্যানির ফাঁদে পা রাখার জন্য অনেককেই এসএমএস বা অনলাইনে আমন্ত্রণ জানানো হয়েছে।ইতিমধ্যে গ্র্যানি নামক এই মোবাইল গেমটি খেলে অসুস্থ হয়ে পড়েছে তিন স্কুলছাত্র। খবর: জি নিউজের।ঘটনাটি ঘটেছে ভারতের জলপাইগুড়ির ময়নাগুড়িতে।খবরে প্রকাশ, অস্বাভাবিক আচরণ করছে গ্র্যানিগেমে আসক্ত ওইসব ছাত্ররা। বাড়ির লোকজনকে মারধর করছে তারা।আবার কখনো তারা নিজেই মরে যেতে চাইছে। 'আমি বাঁচতে চাই না, মরতে দাও' চিৎকার করে বাড়িকে মাথায় তুলছে তারা।পরিস্থিতি ভয়াবহ দেখে স্থানীয় থানার দ্বারস্থ হয়েছে তাদের পরিবার।গ্র্যানিগেম আসক্ত ওই তিন ছাত্রের দুজন দশম শ্রেণির, একজন একাদশ শ্রেণির ছাত্র।জানা গেছে, দিনকয়েক আগে তাদের মধ্যে একজনের কাছে গ্র্যানিগেমের লিংক আসে। গেমটি ডাউনলোড করে খেলতে শুরু করে সে। একাই প্রথম ধাপ খেলে।এরপর সে গ্র্যানিগেমের লিংকটি বাকি দুই বন্ধুর সঙ্গে শেয়ার করে। তারপর বুধবার রাতে তারা তিনজন একসঙ্গে গেমটি খেলতে শুরু করে।গ্র্যানিগেম আসক্ত ওই তিন ছাত্রদের সঙ্গে কথা বলে জানা গেছে, গেমটির আদ্যোপান্ত ভৌতিক ধরনের। গেমে দেখানো হয়, ঘরের মধ্যে থাকা ভূত তাদের খুন করছে আর মোবাইল স্ত্রিন 'রক্তে' ভরে উঠছে।ব্লু-হোয়েল, মোমোর মতো এক্ষেত্রেও খেলোয়াড়কে বিভিন্ন ধরনের 'টাস্ক' করতে নির্দেশ দেয়া হয় জানান তারা।তারা আরও জানায়, চার ধাপের গেমটির তিনটি ধাপ খেলে ফেলেছিল তারা। আর তারপরই তারা সবাই অসুস্থ হয়ে পড়ে।এ ঘটনার পর বৃহস্পতিবার ময়নাগুড়ি থানার আইসি নন্দকুমার দত্ত জানিয়েছেন, ওই ছাত্রদের পরিবার মোবাইলগুলো জমা দিয়ে গেছে। সেগুলো খতিয়ে দেখা হবে।\"]"
      ]
     },
     "execution_count": 34,
     "metadata": {},
     "output_type": "execute_result"
    }
   ],
   "source": [
    "articles = nonethnic_df[\"content\"].values.tolist()\n",
    "print(len(articles))\n",
    "articles[:2]"
   ]
  },
  {
   "cell_type": "code",
   "execution_count": 35,
   "id": "9339cce9-8873-443c-af7b-469ffcd6c825",
   "metadata": {},
   "outputs": [
    {
     "data": {
      "text/plain": [
       "True"
      ]
     },
     "execution_count": 35,
     "metadata": {},
     "output_type": "execute_result"
    }
   ],
   "source": [
    "from dotenv import load_dotenv\n",
    "\n",
    "# Load environment variables from .env file\n",
    "load_dotenv()"
   ]
  },
  {
   "cell_type": "markdown",
   "id": "af9dfafb-e504-429d-b06f-3517986e6a2b",
   "metadata": {},
   "source": [
    "### Loading model"
   ]
  },
  {
   "cell_type": "code",
   "execution_count": 21,
   "id": "7ebd2f22-410f-4c66-b33b-60812821051a",
   "metadata": {},
   "outputs": [
    {
     "name": "stdout",
     "output_type": "stream",
     "text": [
      "Defaulting to user installation because normal site-packages is not writeable\n",
      "Requirement already satisfied: openai in /home/abhijit/.local/lib/python3.10/site-packages (1.43.0)\n",
      "Requirement already satisfied: sniffio in /home/abhijit/.local/lib/python3.10/site-packages (from openai) (1.3.1)\n",
      "Requirement already satisfied: distro<2,>=1.7.0 in /usr/lib/python3/dist-packages (from openai) (1.7.0)\n",
      "Requirement already satisfied: typing-extensions<5,>=4.11 in /home/abhijit/.local/lib/python3.10/site-packages (from openai) (4.12.2)\n",
      "Requirement already satisfied: tqdm>4 in /home/abhijit/.local/lib/python3.10/site-packages (from openai) (4.66.5)\n",
      "Requirement already satisfied: httpx<1,>=0.23.0 in /home/abhijit/.local/lib/python3.10/site-packages (from openai) (0.27.0)\n",
      "Requirement already satisfied: jiter<1,>=0.4.0 in /home/abhijit/.local/lib/python3.10/site-packages (from openai) (0.5.0)\n",
      "Requirement already satisfied: anyio<5,>=3.5.0 in /home/abhijit/.local/lib/python3.10/site-packages (from openai) (4.4.0)\n",
      "Requirement already satisfied: pydantic<3,>=1.9.0 in /home/abhijit/.local/lib/python3.10/site-packages (from openai) (2.8.2)\n",
      "Requirement already satisfied: exceptiongroup>=1.0.2 in /home/abhijit/.local/lib/python3.10/site-packages (from anyio<5,>=3.5.0->openai) (1.2.2)\n",
      "Requirement already satisfied: idna>=2.8 in /usr/lib/python3/dist-packages (from anyio<5,>=3.5.0->openai) (3.3)\n",
      "Requirement already satisfied: httpcore==1.* in /home/abhijit/.local/lib/python3.10/site-packages (from httpx<1,>=0.23.0->openai) (1.0.5)\n",
      "Requirement already satisfied: certifi in /usr/lib/python3/dist-packages (from httpx<1,>=0.23.0->openai) (2020.6.20)\n",
      "Requirement already satisfied: h11<0.15,>=0.13 in /home/abhijit/.local/lib/python3.10/site-packages (from httpcore==1.*->httpx<1,>=0.23.0->openai) (0.14.0)\n",
      "Requirement already satisfied: pydantic-core==2.20.1 in /home/abhijit/.local/lib/python3.10/site-packages (from pydantic<3,>=1.9.0->openai) (2.20.1)\n",
      "Requirement already satisfied: annotated-types>=0.4.0 in /home/abhijit/.local/lib/python3.10/site-packages (from pydantic<3,>=1.9.0->openai) (0.7.0)\n",
      "Note: you may need to restart the kernel to use updated packages.\n"
     ]
    }
   ],
   "source": [
    "pip install openai"
   ]
  },
  {
   "cell_type": "code",
   "execution_count": 22,
   "id": "d1d7b90a-4731-43f5-bfd1-3cb985b6d35b",
   "metadata": {},
   "outputs": [
    {
     "name": "stdout",
     "output_type": "stream",
     "text": [
      "Defaulting to user installation because normal site-packages is not writeable\n",
      "Requirement already satisfied: scikit-learn in /home/abhijit/.local/lib/python3.10/site-packages (1.5.1)\n",
      "Requirement already satisfied: threadpoolctl>=3.1.0 in /home/abhijit/.local/lib/python3.10/site-packages (from scikit-learn) (3.5.0)\n",
      "Requirement already satisfied: joblib>=1.2.0 in /home/abhijit/.local/lib/python3.10/site-packages (from scikit-learn) (1.4.2)\n",
      "Requirement already satisfied: numpy>=1.19.5 in /home/abhijit/.local/lib/python3.10/site-packages (from scikit-learn) (2.0.1)\n",
      "Requirement already satisfied: scipy>=1.6.0 in /home/abhijit/.local/lib/python3.10/site-packages (from scikit-learn) (1.14.1)\n"
     ]
    }
   ],
   "source": [
    "!pip install scikit-learn"
   ]
  },
  {
   "cell_type": "code",
   "execution_count": 23,
   "id": "7f9ca690-6b9d-4f08-87a1-9e6425e12708",
   "metadata": {},
   "outputs": [],
   "source": [
    "from openai import OpenAI\n",
    "import json\n",
    "\n",
    "client = OpenAI()\n",
    "\n",
    "def get_response(news_article):\n",
    "    completion = client.chat.completions.create(\n",
    "        model=\"gpt-4o-mini\",\n",
    "        messages=[\n",
    "            {\"role\": \"system\", \"content\": prompt},\n",
    "            {\"role\": \"user\", \"content\": news_article}\n",
    "        ]\n",
    "    )\n",
    "    return completion.choices[0].message.content"
   ]
  },
  {
   "cell_type": "code",
   "execution_count": 24,
   "id": "95f0d7ce-8b98-4707-860b-31045a982396",
   "metadata": {},
   "outputs": [
    {
     "name": "stdout",
     "output_type": "stream",
     "text": [
      "Decide the text's frame between these options:\n",
      "\n",
      "    - responsibility. This frame presents an issue or problem in such a way as to attribute responsibility for its cause or solution to either the government or to an individual or group.\n",
      "    - human. This frame brings a human face or an emotional angle to the presentation of an event, issue, or problem.\n",
      "    - conflict. This frame emphasizes conflict between individuals, groups, or institutions as a means of capturing audience interest.\n",
      "    - morality. This frame puts the event, problem, or issue in the context of religious tenets or moral prescriptions.\n",
      "    - economic. This frame reports an event, problem, or issue in terms of the consequences it will have economically on an individual, group, institution, region, or country.\n",
      "\n",
      "Also, assign subframe between these options: \n",
      "- Culture\n",
      "- Violence and Victimization\n",
      "- Sports & Entertainment\n",
      "- Nature\n",
      "- Conflict & Protest\n",
      "- Crime\n",
      "- Legal Frameworks\n",
      "- Local news\n",
      "- Health\n",
      "- Education\n",
      "- Investigative Analysis\n",
      "- Economic Growth and Development\n",
      "- Politics\n",
      "- Govt. Actions\n",
      "- Accidents\n",
      "- Empowerment and Advocacy\n",
      "\n",
      "Return a json containing frame type and subframe(s) type. The subframe type should be a list.\n"
     ]
    }
   ],
   "source": [
    "with open('framing_prompt_llm_paper_plus_our_frames.txt', 'r') as file:\n",
    "    prompt = file.read()\n",
    "print(prompt)"
   ]
  },
  {
   "cell_type": "code",
   "execution_count": 25,
   "id": "8439aa8a-5e2d-40d2-928c-7439e03e5eb7",
   "metadata": {},
   "outputs": [
    {
     "name": "stdout",
     "output_type": "stream",
     "text": [
      "Selectin 5000 articles from 5011 total articles.\n"
     ]
    }
   ],
   "source": [
    "print(f\"Selectin {N} articles from {len(articles)} total articles.\")"
   ]
  },
  {
   "cell_type": "code",
   "execution_count": 36,
   "id": "0df38835-a687-45e7-9b9d-1deb18a22a72",
   "metadata": {},
   "outputs": [
    {
     "name": "stderr",
     "output_type": "stream",
     "text": [
      "Processing articles:   2%|█▋                                                                                     | 100/5000 [01:39<1:43:04,  1.26s/it]"
     ]
    },
    {
     "name": "stdout",
     "output_type": "stream",
     "text": [
      "Checkpoint saved at index 100\n"
     ]
    },
    {
     "name": "stderr",
     "output_type": "stream",
     "text": [
      "Processing articles:   4%|███▍                                                                                   | 200/5000 [03:24<1:13:26,  1.09it/s]"
     ]
    },
    {
     "name": "stdout",
     "output_type": "stream",
     "text": [
      "Checkpoint saved at index 200\n"
     ]
    },
    {
     "name": "stderr",
     "output_type": "stream",
     "text": [
      "Processing articles:   6%|█████▏                                                                                 | 300/5000 [05:03<1:19:47,  1.02s/it]"
     ]
    },
    {
     "name": "stdout",
     "output_type": "stream",
     "text": [
      "Checkpoint saved at index 300\n"
     ]
    },
    {
     "name": "stderr",
     "output_type": "stream",
     "text": [
      "Processing articles:   8%|██████▉                                                                                | 400/5000 [06:43<1:11:05,  1.08it/s]"
     ]
    },
    {
     "name": "stdout",
     "output_type": "stream",
     "text": [
      "Checkpoint saved at index 400\n"
     ]
    },
    {
     "name": "stderr",
     "output_type": "stream",
     "text": [
      "Processing articles:  10%|████████▋                                                                              | 500/5000 [08:27<1:14:35,  1.01it/s]"
     ]
    },
    {
     "name": "stdout",
     "output_type": "stream",
     "text": [
      "Checkpoint saved at index 500\n"
     ]
    },
    {
     "name": "stderr",
     "output_type": "stream",
     "text": [
      "Processing articles:  12%|██████████▍                                                                            | 600/5000 [10:14<1:22:51,  1.13s/it]"
     ]
    },
    {
     "name": "stdout",
     "output_type": "stream",
     "text": [
      "Checkpoint saved at index 600\n"
     ]
    },
    {
     "name": "stderr",
     "output_type": "stream",
     "text": [
      "Processing articles:  14%|████████████▏                                                                          | 700/5000 [11:54<1:08:56,  1.04it/s]"
     ]
    },
    {
     "name": "stdout",
     "output_type": "stream",
     "text": [
      "Checkpoint saved at index 700\n"
     ]
    },
    {
     "name": "stderr",
     "output_type": "stream",
     "text": [
      "Processing articles:  16%|█████████████▉                                                                         | 800/5000 [13:40<1:11:06,  1.02s/it]"
     ]
    },
    {
     "name": "stdout",
     "output_type": "stream",
     "text": [
      "Checkpoint saved at index 800\n"
     ]
    },
    {
     "name": "stderr",
     "output_type": "stream",
     "text": [
      "Processing articles:  18%|███████████████▋                                                                       | 900/5000 [15:25<1:06:17,  1.03it/s]"
     ]
    },
    {
     "name": "stdout",
     "output_type": "stream",
     "text": [
      "Checkpoint saved at index 900\n"
     ]
    },
    {
     "name": "stderr",
     "output_type": "stream",
     "text": [
      "Processing articles:  20%|█████████████████▏                                                                    | 1000/5000 [17:09<1:07:17,  1.01s/it]"
     ]
    },
    {
     "name": "stdout",
     "output_type": "stream",
     "text": [
      "Checkpoint saved at index 1000\n"
     ]
    },
    {
     "name": "stderr",
     "output_type": "stream",
     "text": [
      "Processing articles:  22%|██████████████████▉                                                                   | 1100/5000 [18:56<1:04:04,  1.01it/s]"
     ]
    },
    {
     "name": "stdout",
     "output_type": "stream",
     "text": [
      "Checkpoint saved at index 1100\n"
     ]
    },
    {
     "name": "stderr",
     "output_type": "stream",
     "text": [
      "Processing articles:  24%|█████████████████████                                                                   | 1200/5000 [20:38<59:00,  1.07it/s]"
     ]
    },
    {
     "name": "stdout",
     "output_type": "stream",
     "text": [
      "Checkpoint saved at index 1200\n"
     ]
    },
    {
     "name": "stderr",
     "output_type": "stream",
     "text": [
      "Processing articles:  26%|██████████████████████▎                                                               | 1300/5000 [22:22<1:05:31,  1.06s/it]"
     ]
    },
    {
     "name": "stdout",
     "output_type": "stream",
     "text": [
      "Checkpoint saved at index 1300\n"
     ]
    },
    {
     "name": "stderr",
     "output_type": "stream",
     "text": [
      "Processing articles:  28%|████████████████████████                                                              | 1400/5000 [24:08<1:20:01,  1.33s/it]"
     ]
    },
    {
     "name": "stdout",
     "output_type": "stream",
     "text": [
      "Checkpoint saved at index 1400\n"
     ]
    },
    {
     "name": "stderr",
     "output_type": "stream",
     "text": [
      "Processing articles:  30%|██████████████████████████▍                                                             | 1500/5000 [26:01<59:51,  1.03s/it]"
     ]
    },
    {
     "name": "stdout",
     "output_type": "stream",
     "text": [
      "Checkpoint saved at index 1500\n"
     ]
    },
    {
     "name": "stderr",
     "output_type": "stream",
     "text": [
      "Processing articles:  32%|████████████████████████████▏                                                           | 1600/5000 [27:46<58:01,  1.02s/it]"
     ]
    },
    {
     "name": "stdout",
     "output_type": "stream",
     "text": [
      "Checkpoint saved at index 1600\n"
     ]
    },
    {
     "name": "stderr",
     "output_type": "stream",
     "text": [
      "Processing articles:  34%|█████████████████████████████▉                                                          | 1700/5000 [29:32<49:20,  1.11it/s]"
     ]
    },
    {
     "name": "stdout",
     "output_type": "stream",
     "text": [
      "Checkpoint saved at index 1700\n"
     ]
    },
    {
     "name": "stderr",
     "output_type": "stream",
     "text": [
      "Processing articles:  36%|███████████████████████████████▋                                                        | 1800/5000 [31:12<55:01,  1.03s/it]"
     ]
    },
    {
     "name": "stdout",
     "output_type": "stream",
     "text": [
      "Checkpoint saved at index 1800\n"
     ]
    },
    {
     "name": "stderr",
     "output_type": "stream",
     "text": [
      "Processing articles:  38%|█████████████████████████████████▍                                                      | 1900/5000 [32:55<49:18,  1.05it/s]"
     ]
    },
    {
     "name": "stdout",
     "output_type": "stream",
     "text": [
      "Checkpoint saved at index 1900\n"
     ]
    },
    {
     "name": "stderr",
     "output_type": "stream",
     "text": [
      "Processing articles:  40%|███████████████████████████████████▏                                                    | 2000/5000 [34:40<45:51,  1.09it/s]"
     ]
    },
    {
     "name": "stdout",
     "output_type": "stream",
     "text": [
      "Checkpoint saved at index 2000\n"
     ]
    },
    {
     "name": "stderr",
     "output_type": "stream",
     "text": [
      "Processing articles:  42%|████████████████████████████████████▉                                                   | 2100/5000 [36:21<50:28,  1.04s/it]"
     ]
    },
    {
     "name": "stdout",
     "output_type": "stream",
     "text": [
      "Checkpoint saved at index 2100\n"
     ]
    },
    {
     "name": "stderr",
     "output_type": "stream",
     "text": [
      "Processing articles:  44%|██████████████████████████████████████▋                                                 | 2200/5000 [37:59<44:36,  1.05it/s]"
     ]
    },
    {
     "name": "stdout",
     "output_type": "stream",
     "text": [
      "Checkpoint saved at index 2200\n"
     ]
    },
    {
     "name": "stderr",
     "output_type": "stream",
     "text": [
      "Processing articles:  46%|████████████████████████████████████████▍                                               | 2300/5000 [39:46<50:45,  1.13s/it]"
     ]
    },
    {
     "name": "stdout",
     "output_type": "stream",
     "text": [
      "Checkpoint saved at index 2300\n"
     ]
    },
    {
     "name": "stderr",
     "output_type": "stream",
     "text": [
      "Processing articles:  48%|██████████████████████████████████████████▏                                             | 2400/5000 [41:30<40:58,  1.06it/s]"
     ]
    },
    {
     "name": "stdout",
     "output_type": "stream",
     "text": [
      "Checkpoint saved at index 2400\n"
     ]
    },
    {
     "name": "stderr",
     "output_type": "stream",
     "text": [
      "Processing articles:  50%|████████████████████████████████████████████                                            | 2500/5000 [43:28<38:59,  1.07it/s]"
     ]
    },
    {
     "name": "stdout",
     "output_type": "stream",
     "text": [
      "Checkpoint saved at index 2500\n"
     ]
    },
    {
     "name": "stderr",
     "output_type": "stream",
     "text": [
      "Processing articles:  52%|█████████████████████████████████████████████▊                                          | 2600/5000 [45:11<40:53,  1.02s/it]"
     ]
    },
    {
     "name": "stdout",
     "output_type": "stream",
     "text": [
      "Checkpoint saved at index 2600\n"
     ]
    },
    {
     "name": "stderr",
     "output_type": "stream",
     "text": [
      "Processing articles:  54%|███████████████████████████████████████████████▌                                        | 2700/5000 [46:57<38:48,  1.01s/it]"
     ]
    },
    {
     "name": "stdout",
     "output_type": "stream",
     "text": [
      "Checkpoint saved at index 2700\n"
     ]
    },
    {
     "name": "stderr",
     "output_type": "stream",
     "text": [
      "Processing articles:  56%|█████████████████████████████████████████████████▎                                      | 2800/5000 [48:35<37:22,  1.02s/it]"
     ]
    },
    {
     "name": "stdout",
     "output_type": "stream",
     "text": [
      "Checkpoint saved at index 2800\n"
     ]
    },
    {
     "name": "stderr",
     "output_type": "stream",
     "text": [
      "Processing articles:  58%|███████████████████████████████████████████████████                                     | 2900/5000 [50:25<51:54,  1.48s/it]"
     ]
    },
    {
     "name": "stdout",
     "output_type": "stream",
     "text": [
      "Checkpoint saved at index 2900\n"
     ]
    },
    {
     "name": "stderr",
     "output_type": "stream",
     "text": [
      "Processing articles:  60%|████████████████████████████████████████████████████▊                                   | 3000/5000 [52:21<32:08,  1.04it/s]"
     ]
    },
    {
     "name": "stdout",
     "output_type": "stream",
     "text": [
      "Checkpoint saved at index 3000\n"
     ]
    },
    {
     "name": "stderr",
     "output_type": "stream",
     "text": [
      "Processing articles:  62%|██████████████████████████████████████████████████████▌                                 | 3100/5000 [54:00<42:01,  1.33s/it]"
     ]
    },
    {
     "name": "stdout",
     "output_type": "stream",
     "text": [
      "Checkpoint saved at index 3100\n"
     ]
    },
    {
     "name": "stderr",
     "output_type": "stream",
     "text": [
      "Processing articles:  64%|████████████████████████████████████████████████████████▎                               | 3200/5000 [55:51<34:22,  1.15s/it]"
     ]
    },
    {
     "name": "stdout",
     "output_type": "stream",
     "text": [
      "Checkpoint saved at index 3200\n"
     ]
    },
    {
     "name": "stderr",
     "output_type": "stream",
     "text": [
      "Processing articles:  66%|██████████████████████████████████████████████████████████                              | 3300/5000 [57:26<26:47,  1.06it/s]"
     ]
    },
    {
     "name": "stdout",
     "output_type": "stream",
     "text": [
      "Checkpoint saved at index 3300\n"
     ]
    },
    {
     "name": "stderr",
     "output_type": "stream",
     "text": [
      "Processing articles:  68%|███████████████████████████████████████████████████████████▊                            | 3400/5000 [59:07<28:58,  1.09s/it]"
     ]
    },
    {
     "name": "stdout",
     "output_type": "stream",
     "text": [
      "Checkpoint saved at index 3400\n"
     ]
    },
    {
     "name": "stderr",
     "output_type": "stream",
     "text": [
      "Processing articles:  70%|████████████████████████████████████████████████████████████▏                         | 3500/5000 [1:00:44<25:30,  1.02s/it]"
     ]
    },
    {
     "name": "stdout",
     "output_type": "stream",
     "text": [
      "Checkpoint saved at index 3500\n"
     ]
    },
    {
     "name": "stderr",
     "output_type": "stream",
     "text": [
      "Processing articles:  72%|█████████████████████████████████████████████████████████████▉                        | 3600/5000 [1:02:24<25:44,  1.10s/it]"
     ]
    },
    {
     "name": "stdout",
     "output_type": "stream",
     "text": [
      "Checkpoint saved at index 3600\n"
     ]
    },
    {
     "name": "stderr",
     "output_type": "stream",
     "text": [
      "Processing articles:  74%|███████████████████████████████████████████████████████████████▋                      | 3700/5000 [1:04:02<20:20,  1.06it/s]"
     ]
    },
    {
     "name": "stdout",
     "output_type": "stream",
     "text": [
      "Checkpoint saved at index 3700\n"
     ]
    },
    {
     "name": "stderr",
     "output_type": "stream",
     "text": [
      "Processing articles:  76%|█████████████████████████████████████████████████████████████████▎                    | 3800/5000 [1:05:36<19:19,  1.03it/s]"
     ]
    },
    {
     "name": "stdout",
     "output_type": "stream",
     "text": [
      "Checkpoint saved at index 3800\n"
     ]
    },
    {
     "name": "stderr",
     "output_type": "stream",
     "text": [
      "Processing articles:  78%|███████████████████████████████████████████████████████████████████                   | 3900/5000 [1:07:15<20:12,  1.10s/it]"
     ]
    },
    {
     "name": "stdout",
     "output_type": "stream",
     "text": [
      "Checkpoint saved at index 3900\n"
     ]
    },
    {
     "name": "stderr",
     "output_type": "stream",
     "text": [
      "Processing articles:  80%|████████████████████████████████████████████████████████████████████▊                 | 4000/5000 [1:08:55<15:44,  1.06it/s]"
     ]
    },
    {
     "name": "stdout",
     "output_type": "stream",
     "text": [
      "Checkpoint saved at index 4000\n"
     ]
    },
    {
     "name": "stderr",
     "output_type": "stream",
     "text": [
      "Processing articles:  82%|██████████████████████████████████████████████████████████████████████▌               | 4100/5000 [1:10:32<12:22,  1.21it/s]"
     ]
    },
    {
     "name": "stdout",
     "output_type": "stream",
     "text": [
      "Checkpoint saved at index 4100\n"
     ]
    },
    {
     "name": "stderr",
     "output_type": "stream",
     "text": [
      "Processing articles:  84%|████████████████████████████████████████████████████████████████████████▏             | 4200/5000 [1:12:17<15:22,  1.15s/it]"
     ]
    },
    {
     "name": "stdout",
     "output_type": "stream",
     "text": [
      "Checkpoint saved at index 4200\n"
     ]
    },
    {
     "name": "stderr",
     "output_type": "stream",
     "text": [
      "Processing articles:  86%|█████████████████████████████████████████████████████████████████████████▉            | 4300/5000 [1:13:54<11:07,  1.05it/s]"
     ]
    },
    {
     "name": "stdout",
     "output_type": "stream",
     "text": [
      "Checkpoint saved at index 4300\n"
     ]
    },
    {
     "name": "stderr",
     "output_type": "stream",
     "text": [
      "Processing articles:  88%|███████████████████████████████████████████████████████████████████████████▋          | 4400/5000 [1:15:27<09:49,  1.02it/s]"
     ]
    },
    {
     "name": "stdout",
     "output_type": "stream",
     "text": [
      "Checkpoint saved at index 4400\n"
     ]
    },
    {
     "name": "stderr",
     "output_type": "stream",
     "text": [
      "Processing articles:  90%|█████████████████████████████████████████████████████████████████████████████▍        | 4500/5000 [1:17:06<07:25,  1.12it/s]"
     ]
    },
    {
     "name": "stdout",
     "output_type": "stream",
     "text": [
      "Checkpoint saved at index 4500\n"
     ]
    },
    {
     "name": "stderr",
     "output_type": "stream",
     "text": [
      "Processing articles:  92%|███████████████████████████████████████████████████████████████████████████████       | 4600/5000 [1:18:40<05:52,  1.13it/s]"
     ]
    },
    {
     "name": "stdout",
     "output_type": "stream",
     "text": [
      "Checkpoint saved at index 4600\n"
     ]
    },
    {
     "name": "stderr",
     "output_type": "stream",
     "text": [
      "Processing articles:  94%|████████████████████████████████████████████████████████████████████████████████▊     | 4700/5000 [1:20:17<04:59,  1.00it/s]"
     ]
    },
    {
     "name": "stdout",
     "output_type": "stream",
     "text": [
      "Checkpoint saved at index 4700\n"
     ]
    },
    {
     "name": "stderr",
     "output_type": "stream",
     "text": [
      "Processing articles:  96%|██████████████████████████████████████████████████████████████████████████████████▌   | 4800/5000 [1:21:55<03:03,  1.09it/s]"
     ]
    },
    {
     "name": "stdout",
     "output_type": "stream",
     "text": [
      "Checkpoint saved at index 4800\n"
     ]
    },
    {
     "name": "stderr",
     "output_type": "stream",
     "text": [
      "Processing articles:  98%|████████████████████████████████████████████████████████████████████████████████████▎ | 4900/5000 [1:23:38<01:38,  1.01it/s]"
     ]
    },
    {
     "name": "stdout",
     "output_type": "stream",
     "text": [
      "Checkpoint saved at index 4900\n"
     ]
    },
    {
     "name": "stderr",
     "output_type": "stream",
     "text": [
      "Processing articles: 100%|██████████████████████████████████████████████████████████████████████████████████████| 5000/5000 [1:25:19<00:00,  1.02s/it]"
     ]
    },
    {
     "name": "stdout",
     "output_type": "stream",
     "text": [
      "Checkpoint saved at index 5000\n",
      "Processing complete and final checkpoint saved.\n"
     ]
    },
    {
     "name": "stderr",
     "output_type": "stream",
     "text": [
      "\n"
     ]
    }
   ],
   "source": [
    "from tqdm import tqdm\n",
    "import pickle\n",
    "\n",
    "# Define checkpoint file path\n",
    "checkpoint_file = 'responses_checkpoint_framing__4o_mini_nonethnic_v3.pkl'\n",
    "\n",
    "# Load checkpoint if it exists\n",
    "try:\n",
    "    with open(checkpoint_file, 'rb') as f:\n",
    "        responses = pickle.load(f)\n",
    "        start_index = len(responses)\n",
    "        tqdm.write(f\"Resuming from checkpoint at index {start_index}\")\n",
    "except FileNotFoundError:\n",
    "    responses = []\n",
    "    start_index = 0\n",
    "\n",
    "# Fetch responses with checkpoints\n",
    "for i, article in tqdm(enumerate(articles[start_index:N]), total=N - start_index, desc=\"Processing articles\"):\n",
    "    if not isinstance(article, str):\n",
    "        print(article)\n",
    "        raise ValueError(\"Input must be a string.\")\n",
    "    # Ensure we're only processing from the checkpoint onward\n",
    "    response = get_response(article)  # Slice article to handle length limit\n",
    "    responses.append(response)\n",
    "    \n",
    "    # Save checkpoint every 100 responses\n",
    "    if (i + start_index + 1) % 100 == 0:\n",
    "        with open(checkpoint_file, 'wb') as f:\n",
    "            pickle.dump(responses, f)\n",
    "        tqdm.write(f\"Checkpoint saved at index {i + start_index + 1}\")\n",
    "\n",
    "# Save final responses\n",
    "with open(checkpoint_file, 'wb') as f:\n",
    "    pickle.dump(responses, f)\n",
    "tqdm.write(\"Processing complete and final checkpoint saved.\")"
   ]
  },
  {
   "cell_type": "code",
   "execution_count": 37,
   "id": "88ccc11f-2e57-4292-befe-b67b9635af31",
   "metadata": {},
   "outputs": [
    {
     "data": {
      "text/plain": [
       "['```json\\n{\\n  \"frame\": \"human\",\\n  \"subframes\": [\"Health\", \"Local news\"]\\n}\\n```',\n",
       " '```json\\n{\\n  \"frame\": \"human\",\\n  \"subframes\": [\"Violence and Victimization\", \"Health\", \"Education\"]\\n}\\n```',\n",
       " '```json\\n{\\n    \"frame\": \"human\",\\n    \"subframes\": [\"Sports & Entertainment\", \"Local news\"]\\n}\\n```',\n",
       " '```json\\n{\\n  \"frame\": \"human\",\\n  \"subframes\": [\"Sports & Entertainment\", \"Local news\"]\\n}\\n```',\n",
       " '```json\\n{\\n  \"frame\": \"human\",\\n  \"subframes\": [\\n    \"Education\",\\n    \"Local news\"\\n  ]\\n}\\n```',\n",
       " '```json\\n{\\n  \"frame\": \"human\",\\n  \"subframes\": [\"Health\"]\\n}\\n```',\n",
       " '```json\\n{\\n  \"frame\": \"responsibility\",\\n  \"subframes\": [\"Govt. Actions\"]\\n}\\n```',\n",
       " '```json\\n{\\n  \"frame\": \"economic\",\\n  \"subframes\": [\\n    \"Economic Growth and Development\"\\n  ]\\n}\\n```',\n",
       " '```json\\n{\\n  \"frame\": \"responsibility\",\\n  \"subframes\": [\"Govt. Actions\", \"Local news\"]\\n}\\n```',\n",
       " '```json\\n{\\n    \"frame\": \"responsibility\",\\n    \"subframes\": [\"Local news\", \"Crime\"]\\n}\\n```']"
      ]
     },
     "execution_count": 37,
     "metadata": {},
     "output_type": "execute_result"
    }
   ],
   "source": [
    "responses[:10]"
   ]
  },
  {
   "cell_type": "code",
   "execution_count": 38,
   "id": "a0b27832-69ba-41dc-9d3e-1e7b614053f9",
   "metadata": {},
   "outputs": [
    {
     "data": {
      "text/plain": [
       "['../data/nonethnic_gpt4omini_turbo_framing_with_5k_nonethnic_articles_5000.joblib']"
      ]
     },
     "execution_count": 38,
     "metadata": {},
     "output_type": "execute_result"
    }
   ],
   "source": [
    "import joblib\n",
    "joblib.dump(responses, f\"../data/nonethnic_gpt4omini_turbo_{EXPERIMENT_IDENTIFIER}_articles_{N}.joblib\")"
   ]
  },
  {
   "cell_type": "code",
   "execution_count": 39,
   "id": "8450b605-7521-430c-9959-605c2f9e4824",
   "metadata": {},
   "outputs": [
    {
     "data": {
      "text/plain": [
       "['../data/nonethnic_gpt4omini_framing_with_5k_nonethnic_responses_5000.joblib']"
      ]
     },
     "execution_count": 39,
     "metadata": {},
     "output_type": "execute_result"
    }
   ],
   "source": [
    "joblib.dump(articles, f\"../data/nonethnic_gpt4omini_{EXPERIMENT_IDENTIFIER}_responses_{N}.joblib\")"
   ]
  },
  {
   "cell_type": "code",
   "execution_count": 53,
   "id": "ecbc827f-3f84-4f33-b694-bd999506ec68",
   "metadata": {},
   "outputs": [],
   "source": [
    "import re\n",
    "\n",
    "def fix_quotes(json_str):\n",
    "    print(f\"Before fixing: {json_str}\")\n",
    "    apostrophe = '\"'\n",
    "    parts = json_str.split(\",\")\n",
    "    fixed_parts = []\n",
    "    for part in parts:\n",
    "        if \"genre\" not in part:\n",
    "\n",
    "            # Detecting error\n",
    "            count_apostrophe = 0\n",
    "            for alphabet in part:\n",
    "                if alphabet == apostrophe:\n",
    "                    count_apostrophe+=1\n",
    "            # Fixing\n",
    "            if count_apostrophe > 4:\n",
    "                better_part = []\n",
    "                count_apostrophe = 0\n",
    "                for alphabet in part:\n",
    "                    if alphabet == apostrophe:\n",
    "                        count_apostrophe+=1\n",
    "                    if count_apostrophe == 4:\n",
    "                        better_part.append(\"'\")\n",
    "                        count_apostrophe = 0\n",
    "                    else:\n",
    "                        better_part.append(alphabet)\n",
    "                part = \"\".join(better_part)\n",
    "                \n",
    "            fixed_parts.append(part)\n",
    "        else:\n",
    "            fixed_parts.append(part)\n",
    "        \n",
    "    temp = \", \".join(fixed_parts)\n",
    "    print(f\"After fixing: {temp}\")\n",
    "    return temp\n",
    "    \n",
    "def post_process_chatgpt_turbo_3_5_response_to_json(text):\n",
    "    #print(f\"Before fixing: {text}\")\n",
    "\n",
    "    json_string = text.replace(\"```\", \"\").replace(\"json\",\"\").replace(\"\\n\",\"\").replace(\"'\", '\"').replace(\"\\t\",\"\").replace('\"s ', '\\'s ')\n",
    "    json_string = json_string.replace(\"_type\",\"\")\n",
    "    json_string = json_string.replace(\"subframes\", \"subframe\")\n",
    "    #print(f\"After fixing: {json_string}\")\n",
    "    try:\n",
    "        json_output = json.loads(json_string)\n",
    "        return json_output\n",
    "    except:\n",
    "        json_output = json.loads(fix_quotes(json_string))\n",
    "        return json_output"
   ]
  },
  {
   "cell_type": "code",
   "execution_count": 57,
   "id": "2fdc2b40-9cdc-4478-b0ce-fe62faa780f9",
   "metadata": {},
   "outputs": [
    {
     "data": {
      "text/html": [
       "<div>\n",
       "<style scoped>\n",
       "    .dataframe tbody tr th:only-of-type {\n",
       "        vertical-align: middle;\n",
       "    }\n",
       "\n",
       "    .dataframe tbody tr th {\n",
       "        vertical-align: top;\n",
       "    }\n",
       "\n",
       "    .dataframe thead th {\n",
       "        text-align: right;\n",
       "    }\n",
       "</style>\n",
       "<table border=\"1\" class=\"dataframe\">\n",
       "  <thead>\n",
       "    <tr style=\"text-align: right;\">\n",
       "      <th></th>\n",
       "      <th>content</th>\n",
       "      <th>Frame</th>\n",
       "      <th>Sub-Frame(s)</th>\n",
       "    </tr>\n",
       "  </thead>\n",
       "  <tbody>\n",
       "    <tr>\n",
       "      <th>0</th>\n",
       "      <td>&lt;p&gt;ফকিরহাট উপজেলা স্বাস্থ্য ও পরিবার পরিকল্পনা...</td>\n",
       "      <td>human</td>\n",
       "      <td>[Health, Local news]</td>\n",
       "    </tr>\n",
       "    <tr>\n",
       "      <th>1</th>\n",
       "      <td>ব্লু-হোয়েল শেষে অতঃপর চলছে মোমো আতঙ্ক। তবে মোম...</td>\n",
       "      <td>human</td>\n",
       "      <td>[Violence and Victimization, Health, Education]</td>\n",
       "    </tr>\n",
       "    <tr>\n",
       "      <th>2</th>\n",
       "      <td>&lt;p&gt;এদিকে প্রযোজক জানিয়েছেন, ছবিটির জন্য প্রচার...</td>\n",
       "      <td>human</td>\n",
       "      <td>[Sports &amp; Entertainment, Local news]</td>\n",
       "    </tr>\n",
       "    <tr>\n",
       "      <th>3</th>\n",
       "      <td>&lt;p class=\"Hdg1col\"&gt;প্রথমবারের মতো দক্ষিণ আফ্রি...</td>\n",
       "      <td>human</td>\n",
       "      <td>[Sports &amp; Entertainment, Local news]</td>\n",
       "    </tr>\n",
       "    <tr>\n",
       "      <th>4</th>\n",
       "      <td>&lt;p&gt;মফস্বলের শিক্ষার্থীদের ইংরেজি–ভীতি দূর করতে...</td>\n",
       "      <td>human</td>\n",
       "      <td>[Education, Local news]</td>\n",
       "    </tr>\n",
       "    <tr>\n",
       "      <th>...</th>\n",
       "      <td>...</td>\n",
       "      <td>...</td>\n",
       "      <td>...</td>\n",
       "    </tr>\n",
       "    <tr>\n",
       "      <th>4995</th>\n",
       "      <td>&lt;p&gt;নকআউট রাউন্ডে পাঁচবারের বিশ্ব চ্যাম্পিয়নদের...</td>\n",
       "      <td>sports &amp; entertainment</td>\n",
       "      <td>[]</td>\n",
       "    </tr>\n",
       "    <tr>\n",
       "      <th>4996</th>\n",
       "      <td>&lt;p&gt;ঢাকার উর্দু রোড থেকে কেনা পাঞ্জাবিটির পাইকা...</td>\n",
       "      <td>responsibility</td>\n",
       "      <td>[Govt. Actions, Local news]</td>\n",
       "    </tr>\n",
       "    <tr>\n",
       "      <th>4997</th>\n",
       "      <td>&lt;p class=\"TEXT\"&gt;নগরের প্রবেশমুখে বিশৃঙ্খলার বি...</td>\n",
       "      <td>responsibility</td>\n",
       "      <td>[Govt. Actions, Local news]</td>\n",
       "    </tr>\n",
       "    <tr>\n",
       "      <th>4998</th>\n",
       "      <td>&lt;p&gt;জাতীয় পার্টির ফজলার রহমান বলেন, নির্বাচনের ...</td>\n",
       "      <td>conflict</td>\n",
       "      <td>[Politics, Conflict &amp; Protest]</td>\n",
       "    </tr>\n",
       "    <tr>\n",
       "      <th>4999</th>\n",
       "      <td>&lt;p&gt;এদিকে উপজেলা পরিষদের চেয়ারম্যানের ওপর হামলা...</td>\n",
       "      <td>conflict</td>\n",
       "      <td>[Politics, Conflict &amp; Protest]</td>\n",
       "    </tr>\n",
       "  </tbody>\n",
       "</table>\n",
       "<p>5000 rows × 3 columns</p>\n",
       "</div>"
      ],
      "text/plain": [
       "                                                content  \\\n",
       "0     <p>ফকিরহাট উপজেলা স্বাস্থ্য ও পরিবার পরিকল্পনা...   \n",
       "1     ব্লু-হোয়েল শেষে অতঃপর চলছে মোমো আতঙ্ক। তবে মোম...   \n",
       "2     <p>এদিকে প্রযোজক জানিয়েছেন, ছবিটির জন্য প্রচার...   \n",
       "3     <p class=\"Hdg1col\">প্রথমবারের মতো দক্ষিণ আফ্রি...   \n",
       "4     <p>মফস্বলের শিক্ষার্থীদের ইংরেজি–ভীতি দূর করতে...   \n",
       "...                                                 ...   \n",
       "4995  <p>নকআউট রাউন্ডে পাঁচবারের বিশ্ব চ্যাম্পিয়নদের...   \n",
       "4996  <p>ঢাকার উর্দু রোড থেকে কেনা পাঞ্জাবিটির পাইকা...   \n",
       "4997  <p class=\"TEXT\">নগরের প্রবেশমুখে বিশৃঙ্খলার বি...   \n",
       "4998  <p>জাতীয় পার্টির ফজলার রহমান বলেন, নির্বাচনের ...   \n",
       "4999  <p>এদিকে উপজেলা পরিষদের চেয়ারম্যানের ওপর হামলা...   \n",
       "\n",
       "                       Frame                                     Sub-Frame(s)  \n",
       "0                      human                             [Health, Local news]  \n",
       "1                      human  [Violence and Victimization, Health, Education]  \n",
       "2                      human             [Sports & Entertainment, Local news]  \n",
       "3                      human             [Sports & Entertainment, Local news]  \n",
       "4                      human                          [Education, Local news]  \n",
       "...                      ...                                              ...  \n",
       "4995  sports & entertainment                                               []  \n",
       "4996          responsibility                      [Govt. Actions, Local news]  \n",
       "4997          responsibility                      [Govt. Actions, Local news]  \n",
       "4998                conflict                   [Politics, Conflict & Protest]  \n",
       "4999                conflict                   [Politics, Conflict & Protest]  \n",
       "\n",
       "[5000 rows x 3 columns]"
      ]
     },
     "execution_count": 57,
     "metadata": {},
     "output_type": "execute_result"
    }
   ],
   "source": [
    "annotated_df = pd.DataFrame(articles[:N])\n",
    "annotated_df.columns = [\"content\"]\n",
    "annotated_df[\"Frame\"] = [post_process_chatgpt_turbo_3_5_response_to_json(response)[\"frame\"] for response in responses]\n",
    "annotated_df[\"Sub-Frame(s)\"] = [post_process_chatgpt_turbo_3_5_response_to_json(response)[\"subframe\"] for response in responses]\n",
    "annotated_df"
   ]
  },
  {
   "cell_type": "code",
   "execution_count": 58,
   "id": "8dcd45ce-4940-4da1-91e7-8fe0f967a2cd",
   "metadata": {},
   "outputs": [],
   "source": [
    "annotated_df.to_csv(f\"../data/nonethnic_frame_gpt-40-mini_validation_{N}.csv\")"
   ]
  },
  {
   "cell_type": "code",
   "execution_count": 24,
   "id": "4da43bcd-6fa8-43a8-bb01-aa0eb92a4656",
   "metadata": {},
   "outputs": [],
   "source": [
    "with open(checkpoint_file, 'rb') as f:\n",
    "    responses = pickle.load(f)"
   ]
  },
  {
   "cell_type": "code",
   "execution_count": 38,
   "id": "9d750444-223a-4192-af69-624717321c2b",
   "metadata": {},
   "outputs": [
    {
     "data": {
      "text/plain": [
       "5000"
      ]
     },
     "execution_count": 38,
     "metadata": {},
     "output_type": "execute_result"
    }
   ],
   "source": [
    "len(responses)"
   ]
  },
  {
   "cell_type": "code",
   "execution_count": 40,
   "id": "36cd5950-fb50-48a8-acf7-e56f023f8bc9",
   "metadata": {},
   "outputs": [
    {
     "data": {
      "text/html": [
       "<div>\n",
       "<style scoped>\n",
       "    .dataframe tbody tr th:only-of-type {\n",
       "        vertical-align: middle;\n",
       "    }\n",
       "\n",
       "    .dataframe tbody tr th {\n",
       "        vertical-align: top;\n",
       "    }\n",
       "\n",
       "    .dataframe thead th {\n",
       "        text-align: right;\n",
       "    }\n",
       "</style>\n",
       "<table border=\"1\" class=\"dataframe\">\n",
       "  <thead>\n",
       "    <tr style=\"text-align: right;\">\n",
       "      <th></th>\n",
       "      <th>content</th>\n",
       "    </tr>\n",
       "  </thead>\n",
       "  <tbody>\n",
       "    <tr>\n",
       "      <th>0</th>\n",
       "      <td>&lt;p&gt;ফকিরহাট উপজেলা স্বাস্থ্য ও পরিবার পরিকল্পনা...</td>\n",
       "    </tr>\n",
       "    <tr>\n",
       "      <th>1</th>\n",
       "      <td>ব্লু-হোয়েল শেষে অতঃপর চলছে মোমো আতঙ্ক। তবে মোম...</td>\n",
       "    </tr>\n",
       "    <tr>\n",
       "      <th>2</th>\n",
       "      <td>&lt;p&gt;এদিকে প্রযোজক জানিয়েছেন, ছবিটির জন্য প্রচার...</td>\n",
       "    </tr>\n",
       "    <tr>\n",
       "      <th>3</th>\n",
       "      <td>&lt;p class=\"Hdg1col\"&gt;প্রথমবারের মতো দক্ষিণ আফ্রি...</td>\n",
       "    </tr>\n",
       "    <tr>\n",
       "      <th>4</th>\n",
       "      <td>&lt;p&gt;মফস্বলের শিক্ষার্থীদের ইংরেজি–ভীতি দূর করতে...</td>\n",
       "    </tr>\n",
       "    <tr>\n",
       "      <th>...</th>\n",
       "      <td>...</td>\n",
       "    </tr>\n",
       "    <tr>\n",
       "      <th>4995</th>\n",
       "      <td>জন্মের দেড় বছর পেরিয়ে গেলেও শরীরে অস্ত্রোপচার ...</td>\n",
       "    </tr>\n",
       "    <tr>\n",
       "      <th>4996</th>\n",
       "      <td>&lt;p&gt;শিক্ষামন্ত্রী নুরুল ইসলাম নাহিদ বলেছেন, প্র...</td>\n",
       "    </tr>\n",
       "    <tr>\n",
       "      <th>4997</th>\n",
       "      <td>&lt;p class=\"TEXT\"&gt;দেশে করোনা শনাক্তকরণ পরীক্ষা শ...</td>\n",
       "    </tr>\n",
       "    <tr>\n",
       "      <th>4998</th>\n",
       "      <td>বিএনপির ভারপ্রাপ্ত মহাসচিব মির্জা ফখরুল ইসলাম ...</td>\n",
       "    </tr>\n",
       "    <tr>\n",
       "      <th>4999</th>\n",
       "      <td>&lt;p&gt;প্রযুক্তিবিষয়ক ওয়েবসাইট দ্য ভার্জ জানিয়েছে,...</td>\n",
       "    </tr>\n",
       "  </tbody>\n",
       "</table>\n",
       "<p>5000 rows × 1 columns</p>\n",
       "</div>"
      ],
      "text/plain": [
       "                                                content\n",
       "0     <p>ফকিরহাট উপজেলা স্বাস্থ্য ও পরিবার পরিকল্পনা...\n",
       "1     ব্লু-হোয়েল শেষে অতঃপর চলছে মোমো আতঙ্ক। তবে মোম...\n",
       "2     <p>এদিকে প্রযোজক জানিয়েছেন, ছবিটির জন্য প্রচার...\n",
       "3     <p class=\"Hdg1col\">প্রথমবারের মতো দক্ষিণ আফ্রি...\n",
       "4     <p>মফস্বলের শিক্ষার্থীদের ইংরেজি–ভীতি দূর করতে...\n",
       "...                                                 ...\n",
       "4995  জন্মের দেড় বছর পেরিয়ে গেলেও শরীরে অস্ত্রোপচার ...\n",
       "4996  <p>শিক্ষামন্ত্রী নুরুল ইসলাম নাহিদ বলেছেন, প্র...\n",
       "4997  <p class=\"TEXT\">দেশে করোনা শনাক্তকরণ পরীক্ষা শ...\n",
       "4998  বিএনপির ভারপ্রাপ্ত মহাসচিব মির্জা ফখরুল ইসলাম ...\n",
       "4999  <p>প্রযুক্তিবিষয়ক ওয়েবসাইট দ্য ভার্জ জানিয়েছে,...\n",
       "\n",
       "[5000 rows x 1 columns]"
      ]
     },
     "execution_count": 40,
     "metadata": {},
     "output_type": "execute_result"
    }
   ],
   "source": [
    "ethnic_sample_df = pd.DataFrame(articles)\n",
    "ethnic_sample_df.columns = [\"content\"]\n",
    "ethnic_sample_df"
   ]
  },
  {
   "cell_type": "code",
   "execution_count": 75,
   "id": "c2e1d8a1-b16e-4cc9-a688-8767b41340e5",
   "metadata": {},
   "outputs": [
    {
     "data": {
      "text/html": [
       "<div>\n",
       "<style scoped>\n",
       "    .dataframe tbody tr th:only-of-type {\n",
       "        vertical-align: middle;\n",
       "    }\n",
       "\n",
       "    .dataframe tbody tr th {\n",
       "        vertical-align: top;\n",
       "    }\n",
       "\n",
       "    .dataframe thead th {\n",
       "        text-align: right;\n",
       "    }\n",
       "</style>\n",
       "<table border=\"1\" class=\"dataframe\">\n",
       "  <thead>\n",
       "    <tr style=\"text-align: right;\">\n",
       "      <th></th>\n",
       "      <th>content</th>\n",
       "      <th>Genre</th>\n",
       "      <th>Journalism Style</th>\n",
       "      <th>Is_ethnic</th>\n",
       "      <th>Featured</th>\n",
       "      <th>Sentiment</th>\n",
       "      <th>Agenda Setting</th>\n",
       "      <th>Framing</th>\n",
       "      <th>Priming</th>\n",
       "      <th>Mobilizing</th>\n",
       "    </tr>\n",
       "  </thead>\n",
       "  <tbody>\n",
       "    <tr>\n",
       "      <th>0</th>\n",
       "      <td>&lt;p&gt;ফকিরহাট উপজেলা স্বাস্থ্য ও পরিবার পরিকল্পনা...</td>\n",
       "      <td>[Local news]</td>\n",
       "      <td>Straight</td>\n",
       "      <td>False</td>\n",
       "      <td>Subject</td>\n",
       "      <td>Negative</td>\n",
       "      <td>Health</td>\n",
       "      <td>Tragedy</td>\n",
       "      <td>Awareness</td>\n",
       "      <td>Support</td>\n",
       "    </tr>\n",
       "    <tr>\n",
       "      <th>1</th>\n",
       "      <td>ব্লু-হোয়েল শেষে অতঃপর চলছে মোমো আতঙ্ক। তবে মোম...</td>\n",
       "      <td>[Crime]</td>\n",
       "      <td>Straight</td>\n",
       "      <td>False</td>\n",
       "      <td>Subject</td>\n",
       "      <td>Negative</td>\n",
       "      <td>Online Games</td>\n",
       "      <td>Dangerous Influence</td>\n",
       "      <td>Youth</td>\n",
       "      <td>Awareness</td>\n",
       "    </tr>\n",
       "    <tr>\n",
       "      <th>2</th>\n",
       "      <td>&lt;p&gt;এদিকে প্রযোজক জানিয়েছেন, ছবিটির জন্য প্রচার...</td>\n",
       "      <td>[Culture &amp; Entertainment]</td>\n",
       "      <td>Straight</td>\n",
       "      <td>False</td>\n",
       "      <td>Not applicable</td>\n",
       "      <td>Neutral</td>\n",
       "      <td>Promotion</td>\n",
       "      <td>Promotion</td>\n",
       "      <td>Advertisement</td>\n",
       "      <td>None</td>\n",
       "    </tr>\n",
       "    <tr>\n",
       "      <th>3</th>\n",
       "      <td>&lt;p class=\"Hdg1col\"&gt;প্রথমবারের মতো দক্ষিণ আফ্রি...</td>\n",
       "      <td>[Sports]</td>\n",
       "      <td>Straight</td>\n",
       "      <td>False</td>\n",
       "      <td>Subject</td>\n",
       "      <td>Positive</td>\n",
       "      <td>Sports</td>\n",
       "      <td>Competition</td>\n",
       "      <td>Victory</td>\n",
       "      <td>Celebration</td>\n",
       "    </tr>\n",
       "    <tr>\n",
       "      <th>4</th>\n",
       "      <td>&lt;p&gt;মফস্বলের শিক্ষার্থীদের ইংরেজি–ভীতি দূর করতে...</td>\n",
       "      <td>[Education]</td>\n",
       "      <td>Straight</td>\n",
       "      <td>False</td>\n",
       "      <td>Subject</td>\n",
       "      <td>Negative</td>\n",
       "      <td>English Language</td>\n",
       "      <td>Competition</td>\n",
       "      <td>Students</td>\n",
       "      <td>Improvement</td>\n",
       "    </tr>\n",
       "    <tr>\n",
       "      <th>...</th>\n",
       "      <td>...</td>\n",
       "      <td>...</td>\n",
       "      <td>...</td>\n",
       "      <td>...</td>\n",
       "      <td>...</td>\n",
       "      <td>...</td>\n",
       "      <td>...</td>\n",
       "      <td>...</td>\n",
       "      <td>...</td>\n",
       "      <td>...</td>\n",
       "    </tr>\n",
       "    <tr>\n",
       "      <th>4995</th>\n",
       "      <td>জন্মের দেড় বছর পেরিয়ে গেলেও শরীরে অস্ত্রোপচার ...</td>\n",
       "      <td>[Health, Local News]</td>\n",
       "      <td>Straight</td>\n",
       "      <td>False</td>\n",
       "      <td>Personal Experience</td>\n",
       "      <td>Positive</td>\n",
       "      <td>Treatment</td>\n",
       "      <td>Family Issues</td>\n",
       "      <td>Healthcare</td>\n",
       "      <td>Community Support</td>\n",
       "    </tr>\n",
       "    <tr>\n",
       "      <th>4996</th>\n",
       "      <td>&lt;p&gt;শিক্ষামন্ত্রী নুরুল ইসলাম নাহিদ বলেছেন, প্র...</td>\n",
       "      <td>[Politics, Education]</td>\n",
       "      <td>Straight</td>\n",
       "      <td>False</td>\n",
       "      <td>Subject</td>\n",
       "      <td>Neutral</td>\n",
       "      <td>Education</td>\n",
       "      <td>Policy</td>\n",
       "      <td>Feedback</td>\n",
       "      <td>Reform</td>\n",
       "    </tr>\n",
       "    <tr>\n",
       "      <th>4997</th>\n",
       "      <td>&lt;p class=\"TEXT\"&gt;দেশে করোনা শনাক্তকরণ পরীক্ষা শ...</td>\n",
       "      <td>[Health]</td>\n",
       "      <td>Straight</td>\n",
       "      <td>False</td>\n",
       "      <td>Expert or Commentator</td>\n",
       "      <td>Neutral</td>\n",
       "      <td>Testing</td>\n",
       "      <td>Prevention</td>\n",
       "      <td>Healthcare</td>\n",
       "      <td>Awareness</td>\n",
       "    </tr>\n",
       "    <tr>\n",
       "      <th>4998</th>\n",
       "      <td>বিএনপির ভারপ্রাপ্ত মহাসচিব মির্জা ফখরুল ইসলাম ...</td>\n",
       "      <td>[Politics, Crime]</td>\n",
       "      <td>Straight</td>\n",
       "      <td>False</td>\n",
       "      <td>Subject</td>\n",
       "      <td>Negative</td>\n",
       "      <td>Legal</td>\n",
       "      <td>Controversy</td>\n",
       "      <td>Court</td>\n",
       "      <td>Protest</td>\n",
       "    </tr>\n",
       "    <tr>\n",
       "      <th>4999</th>\n",
       "      <td>&lt;p&gt;প্রযুক্তিবিষয়ক ওয়েবসাইট দ্য ভার্জ জানিয়েছে,...</td>\n",
       "      <td>[Technology]</td>\n",
       "      <td>Straight</td>\n",
       "      <td>False</td>\n",
       "      <td>None</td>\n",
       "      <td>Positive</td>\n",
       "      <td>Innovation</td>\n",
       "      <td>Convenience</td>\n",
       "      <td>Remote</td>\n",
       "      <td>Tech-Savvy</td>\n",
       "    </tr>\n",
       "  </tbody>\n",
       "</table>\n",
       "<p>5000 rows × 10 columns</p>\n",
       "</div>"
      ],
      "text/plain": [
       "                                                content  \\\n",
       "0     <p>ফকিরহাট উপজেলা স্বাস্থ্য ও পরিবার পরিকল্পনা...   \n",
       "1     ব্লু-হোয়েল শেষে অতঃপর চলছে মোমো আতঙ্ক। তবে মোম...   \n",
       "2     <p>এদিকে প্রযোজক জানিয়েছেন, ছবিটির জন্য প্রচার...   \n",
       "3     <p class=\"Hdg1col\">প্রথমবারের মতো দক্ষিণ আফ্রি...   \n",
       "4     <p>মফস্বলের শিক্ষার্থীদের ইংরেজি–ভীতি দূর করতে...   \n",
       "...                                                 ...   \n",
       "4995  জন্মের দেড় বছর পেরিয়ে গেলেও শরীরে অস্ত্রোপচার ...   \n",
       "4996  <p>শিক্ষামন্ত্রী নুরুল ইসলাম নাহিদ বলেছেন, প্র...   \n",
       "4997  <p class=\"TEXT\">দেশে করোনা শনাক্তকরণ পরীক্ষা শ...   \n",
       "4998  বিএনপির ভারপ্রাপ্ত মহাসচিব মির্জা ফখরুল ইসলাম ...   \n",
       "4999  <p>প্রযুক্তিবিষয়ক ওয়েবসাইট দ্য ভার্জ জানিয়েছে,...   \n",
       "\n",
       "                          Genre Journalism Style Is_ethnic  \\\n",
       "0                  [Local news]         Straight     False   \n",
       "1                       [Crime]         Straight     False   \n",
       "2     [Culture & Entertainment]         Straight     False   \n",
       "3                      [Sports]         Straight     False   \n",
       "4                   [Education]         Straight     False   \n",
       "...                         ...              ...       ...   \n",
       "4995       [Health, Local News]         Straight     False   \n",
       "4996      [Politics, Education]         Straight     False   \n",
       "4997                   [Health]         Straight     False   \n",
       "4998          [Politics, Crime]         Straight     False   \n",
       "4999               [Technology]         Straight     False   \n",
       "\n",
       "                   Featured Sentiment    Agenda Setting              Framing  \\\n",
       "0                   Subject  Negative            Health              Tragedy   \n",
       "1                   Subject  Negative      Online Games  Dangerous Influence   \n",
       "2            Not applicable   Neutral         Promotion            Promotion   \n",
       "3                   Subject  Positive            Sports          Competition   \n",
       "4                   Subject  Negative  English Language          Competition   \n",
       "...                     ...       ...               ...                  ...   \n",
       "4995    Personal Experience  Positive         Treatment        Family Issues   \n",
       "4996                Subject   Neutral         Education               Policy   \n",
       "4997  Expert or Commentator   Neutral           Testing           Prevention   \n",
       "4998                Subject  Negative             Legal          Controversy   \n",
       "4999                   None  Positive        Innovation          Convenience   \n",
       "\n",
       "            Priming         Mobilizing  \n",
       "0         Awareness            Support  \n",
       "1             Youth          Awareness  \n",
       "2     Advertisement               None  \n",
       "3           Victory        Celebration  \n",
       "4          Students        Improvement  \n",
       "...             ...                ...  \n",
       "4995     Healthcare  Community Support  \n",
       "4996       Feedback             Reform  \n",
       "4997     Healthcare          Awareness  \n",
       "4998          Court            Protest  \n",
       "4999         Remote         Tech-Savvy  \n",
       "\n",
       "[5000 rows x 10 columns]"
      ]
     },
     "execution_count": 75,
     "metadata": {},
     "output_type": "execute_result"
    }
   ],
   "source": [
    "ethnic_sample_df[\"Genre\"] = [post_process_chatgpt_turbo_3_5_response_to_json(response)[\"genre\"] for response in responses]\n",
    "ethnic_sample_df[\"Journalism Style\"] = [post_process_chatgpt_turbo_3_5_response_to_json(response)[\"journalism_style\"] for response in responses]\n",
    "ethnic_sample_df[\"Featured\"] = [ post_process_chatgpt_turbo_3_5_response_to_json(response).get('featured', pd.NA) for response in responses ]\n",
    "ethnic_sample_df[\"Is_ethnic\"] = [post_process_chatgpt_turbo_3_5_response_to_json(response)[\"is_indigenous\"] for response in responses]\n",
    "ethnic_sample_df[\"Sentiment\"] = [ post_process_chatgpt_turbo_3_5_response_to_json(response).get('sentiment', pd.NA) for response in responses ]\n",
    "ethnic_sample_df[\"Agenda Setting\"] = [ post_process_chatgpt_turbo_3_5_response_to_json(response).get('agenda_setting', pd.NA) for response in responses ]\n",
    "ethnic_sample_df[\"Framing\"] = [ post_process_chatgpt_turbo_3_5_response_to_json(response).get('framing', pd.NA) for response in responses ]\n",
    "ethnic_sample_df[\"Priming\"] = [ post_process_chatgpt_turbo_3_5_response_to_json(response).get('priming', pd.NA) for response in responses ]\n",
    "ethnic_sample_df[\"Mobilizing\"] = [ post_process_chatgpt_turbo_3_5_response_to_json(response).get('mobilizing', pd.NA) for response in responses ]\n",
    "\n",
    "ethnic_sample_df"
   ]
  },
  {
   "cell_type": "code",
   "execution_count": 76,
   "id": "847283e8-a9e1-4975-af2e-9962ff149eb6",
   "metadata": {},
   "outputs": [
    {
     "data": {
      "text/plain": [
       "content               0\n",
       "Genre                 0\n",
       "Journalism Style     44\n",
       "Is_ethnic             1\n",
       "Featured            972\n",
       "Sentiment            81\n",
       "Agenda Setting       73\n",
       "Framing              72\n",
       "Priming              75\n",
       "Mobilizing           78\n",
       "dtype: int64"
      ]
     },
     "execution_count": 76,
     "metadata": {},
     "output_type": "execute_result"
    }
   ],
   "source": [
    "ethnic_sample_df.isna().sum()"
   ]
  },
  {
   "cell_type": "code",
   "execution_count": 77,
   "id": "e9b414cf-2698-4664-a2eb-82977a619fb7",
   "metadata": {},
   "outputs": [],
   "source": [
    "ethnic_sample_df.to_csv(f\"../data/nonethnic_{N}_gpt_3.5_turbo_v3.csv\")"
   ]
  },
  {
   "cell_type": "markdown",
   "id": "834e7fe3-55f6-4f12-941a-10963cd69f1d",
   "metadata": {
    "jp-MarkdownHeadingCollapsed": true
   },
   "source": [
    "### Evaluating"
   ]
  },
  {
   "cell_type": "code",
   "execution_count": 25,
   "id": "ef927981-c54b-4a84-811f-279576906789",
   "metadata": {},
   "outputs": [],
   "source": [
    "true_labels = [1,1,0,0,1,1,1,1,1,1,0,1,0,1,1,1,1,1,0,1,1,0,0,1,0,1,0,1,1,0,1,0,0,1,0,1,1,1,1,0,1,1,1,0,1,1,1,0,\n",
    "               1,1,1,0,1,0,0,0,1,1,1,1,0,1,0,1,\n",
    "               0,1,0,1,1,1,1,0,1,1,1,0,0,0,0,0,1,1,0,0,0,0,1,0,1,1,1,1,1,0,1,1,1,1,0,1]"
   ]
  },
  {
   "cell_type": "code",
   "execution_count": 27,
   "id": "63890706-dfb3-43eb-851c-78f22e159fea",
   "metadata": {},
   "outputs": [
    {
     "data": {
      "text/plain": [
       "[1, 0, 1, 0, 1]"
      ]
     },
     "execution_count": 27,
     "metadata": {},
     "output_type": "execute_result"
    }
   ],
   "source": [
    "predicted_labels = ethnic_sample_df[\"Is_ethnic\"].values.tolist()\n",
    "predicted_labels = [1 if item == True else 0 for item in predicted_labels]\n",
    "predicted_labels[:10]"
   ]
  },
  {
   "cell_type": "code",
   "execution_count": 28,
   "id": "9d24050a-abf4-4bab-b2db-d681de39b5df",
   "metadata": {},
   "outputs": [
    {
     "name": "stdout",
     "output_type": "stream",
     "text": [
      "Precision: 0.6666666666666666\n",
      "Recall: 0.6666666666666666\n",
      "Accuracy: 0.6\n",
      "F1 Score: 0.6666666666666666\n"
     ]
    }
   ],
   "source": [
    "from sklearn.metrics import precision_score, recall_score, accuracy_score, f1_score\n",
    "\n",
    "# Calculating precision, recall, accuracy, and F1 score\n",
    "precision = precision_score(true_labels[:N], predicted_labels)\n",
    "recall = recall_score(true_labels[:N], predicted_labels)\n",
    "accuracy = accuracy_score(true_labels[:N], predicted_labels)\n",
    "f1 = f1_score(true_labels[:N], predicted_labels)\n",
    "\n",
    "# Print the results\n",
    "print(f\"Precision: {precision}\")\n",
    "print(f\"Recall: {recall}\")\n",
    "print(f\"Accuracy: {accuracy}\")\n",
    "print(f\"F1 Score: {f1}\")"
   ]
  },
  {
   "cell_type": "code",
   "execution_count": 108,
   "id": "4084c337-7946-4c2f-ad3c-bb9fb37125fc",
   "metadata": {},
   "outputs": [
    {
     "data": {
      "text/plain": [
       "[True,\n",
       " True,\n",
       " False,\n",
       " False,\n",
       " True,\n",
       " True,\n",
       " True,\n",
       " True,\n",
       " True,\n",
       " True,\n",
       " True,\n",
       " False,\n",
       " True,\n",
       " True,\n",
       " True,\n",
       " True,\n",
       " True,\n",
       " True,\n",
       " False,\n",
       " True,\n",
       " False,\n",
       " False,\n",
       " False,\n",
       " True,\n",
       " False,\n",
       " True,\n",
       " False,\n",
       " True,\n",
       " True,\n",
       " False,\n",
       " True,\n",
       " True,\n",
       " False,\n",
       " True,\n",
       " False,\n",
       " True,\n",
       " True,\n",
       " True,\n",
       " True,\n",
       " False,\n",
       " False,\n",
       " True,\n",
       " True,\n",
       " False,\n",
       " True,\n",
       " True,\n",
       " True,\n",
       " False,\n",
       " True,\n",
       " True,\n",
       " True,\n",
       " True,\n",
       " True,\n",
       " True,\n",
       " True,\n",
       " True,\n",
       " False,\n",
       " True,\n",
       " True,\n",
       " False,\n",
       " False,\n",
       " False,\n",
       " False,\n",
       " True,\n",
       " False,\n",
       " True,\n",
       " False,\n",
       " True,\n",
       " True,\n",
       " True,\n",
       " False,\n",
       " True,\n",
       " True,\n",
       " True,\n",
       " False,\n",
       " False,\n",
       " False,\n",
       " True,\n",
       " False,\n",
       " True,\n",
       " True,\n",
       " True,\n",
       " False,\n",
       " False,\n",
       " True,\n",
       " False,\n",
       " False,\n",
       " True,\n",
       " True,\n",
       " True,\n",
       " True,\n",
       " True,\n",
       " True,\n",
       " False,\n",
       " True,\n",
       " False,\n",
       " False,\n",
       " True,\n",
       " False,\n",
       " True]"
      ]
     },
     "execution_count": 108,
     "metadata": {},
     "output_type": "execute_result"
    }
   ],
   "source": [
    "ethnic_sample_df[\"Is_ethnic\"].values.tolist()"
   ]
  },
  {
   "cell_type": "markdown",
   "id": "38140c7d-5caa-4aae-850b-d06211e86785",
   "metadata": {},
   "source": [
    "### MISC"
   ]
  },
  {
   "cell_type": "code",
   "execution_count": 11,
   "id": "52aff79a-ea89-423e-9bab-5eadd5de83a0",
   "metadata": {},
   "outputs": [],
   "source": [
    "abhi_labels = [1,1,0,0,1,1,1,0,1,1,0,0,1,1,1,1,1,1,0,\n",
    "               1,1,0,0,1,0,1,0,1,1,0,1,1,0,0,0,1,1,1,\n",
    "               1,0,1,1,1,1,1,0,1,0,1,1,1,0,1,1,0,1,1,\n",
    "               1,1,0,0,1,0,1,1,1,1,1,1,1,1,0,1,1,1,0,\n",
    "               0,0,1,0,1,\n",
    "               1,0,0,0,1,1,0,1,1,1,1,1,0,1,1,1,1,1,1,]\n",
    "sharif_labels = [ 1,1,0,0,1,1,1,1,1,1,0,1,0,1,1,1,1,1,0,1,1,0,0,0,0,1,0,1,0,0,1,0,0,1,0,1,0,1,1,0,1,1,1,0,1,1,1,0,\n",
    "                 1,1,1,0,1,0,0,0,0,0,1,1,0,0,0,1,0,1,0,1,0,1,1,0,0,1,0,0,0,0,0,0,1,1,0,0,0,0,1,0,0,1,1,1,1,0,1,1,1,1,0,1 ]"
   ]
  },
  {
   "cell_type": "code",
   "execution_count": 21,
   "id": "4850d8a3-451c-4819-9703-bff2ee6265ab",
   "metadata": {},
   "outputs": [
    {
     "ename": "NameError",
     "evalue": "name 'abhi_labels' is not defined",
     "output_type": "error",
     "traceback": [
      "\u001b[0;31m---------------------------------------------------------------------------\u001b[0m",
      "\u001b[0;31mNameError\u001b[0m                                 Traceback (most recent call last)",
      "Cell \u001b[0;32mIn[21], line 13\u001b[0m\n\u001b[1;32m     10\u001b[0m     conflicting_posts \u001b[38;5;241m=\u001b[39m [(i, labels1[i], labels2[i]) \u001b[38;5;28;01mfor\u001b[39;00m i \u001b[38;5;129;01min\u001b[39;00m conflict_indices]\n\u001b[1;32m     12\u001b[0m     \u001b[38;5;28;01mreturn\u001b[39;00m agreement_score, \u001b[38;5;28mlen\u001b[39m(conflicting_posts)\n\u001b[0;32m---> 13\u001b[0m annotator_agreement_score(\u001b[43mabhi_labels\u001b[49m, sharif_labels)\n",
      "\u001b[0;31mNameError\u001b[0m: name 'abhi_labels' is not defined"
     ]
    }
   ],
   "source": [
    "import numpy as np\n",
    "def annotator_agreement_score(labels1, labels2):\n",
    "    # Calculate agreement score\n",
    "    total_labels = len(labels1)\n",
    "    agreements = np.sum(np.array(labels1) == np.array(labels2))\n",
    "    agreement_score = agreements / total_labels\n",
    "\n",
    "    # Find conflicting posts\n",
    "    conflict_indices = [i for i in range(total_labels) if labels1[i] != labels2[i]]\n",
    "    conflicting_posts = [(i, labels1[i], labels2[i]) for i in conflict_indices]\n",
    "\n",
    "    return agreement_score, len(conflicting_posts)\n",
    "annotator_agreement_score(abhi_labels, sharif_labels)"
   ]
  },
  {
   "cell_type": "code",
   "execution_count": 80,
   "id": "210653ce-4af2-4635-8d54-afc1ef7f7048",
   "metadata": {},
   "outputs": [
    {
     "name": "stdout",
     "output_type": "stream",
     "text": [
      "Yes count: 63\n",
      "No count: 37\n"
     ]
    }
   ],
   "source": [
    "from collections import Counter\n",
    "\n",
    "counts = Counter(true_labels)\n",
    "print(\"Yes count:\", counts[1])\n",
    "print(\"No count:\", counts[0])"
   ]
  },
  {
   "cell_type": "code",
   "execution_count": 45,
   "id": "57496762-496b-4f93-96fd-3157c7da19ac",
   "metadata": {},
   "outputs": [
    {
     "data": {
      "text/plain": [
       "[np.int64(2),\n",
       " 'গাইবান্ধার গোবিন্দগঞ্জের রংপুর চিনিকলের সাহেবগঞ্জ ইক্ষু খামারে দেয়া কাঁটাতারের বেড়ার পিলার ভাংচুর করেছে দুর্বৃত্তরা।সোমবার রাতে খামার সংলগ্ন জয়পুর পাড়ার দক্ষিণ অংশে দেয়া ২৬টি পিলার ভাংচুর করা হয়।খামারের জমি সাঁওতালদের কাছ থেকে দখলমুক্ত করার পর মিল কর্তৃপক্ষ এই কাঁটাতারের বেড়া দেয়। এরপর সোমবার রাতে সাঁওতাল পল্লী সংলগ্ন খামারের বেড়ার পিলার ভাংচুর করে দুর্বৃত্তরা।রংপুর সুগার মিলের ব্যবস্থাপনা পরিচালক আব্দুল আউয়াল জানান, দুস্কৃতকারীরা রাতের আধারে খামারের পশ্চিম অংশে সাঁওতাল পল্লী জয়পুর পাড়া সংলগ্ন ২৬টি পিলার ভাংচুর করে। এ ঘটনায় ১৩ জনের নাম উল্লেখ করে খামারের উপ-ব্যবস্থাপক মো. হুমায়ন কবির মঙ্গলবার রাতে গোবিন্দগঞ্জ থানায় একটি জিডি করেন।গোবিন্দগঞ্জ থানার ওসি সুব্রত কুমার সরকার বিষয়টি নিশ্চিত করে বলেন, ঘটনার বিষয়টি খতিয়ে দেখা হচ্ছে।গত ৬ নভেম্বর আদিবাসী সাঁওতালদের সঙ্গে আইনশৃংখলা বাহিনী চিনিকলের শ্রমিক-কর্মচারীদের সংঘর্ষের পর ইক্ষু খামার থেকে সাঁওতাল বসতি উচ্ছেদ, লুটপাট, গুলিতে ৩ সাঁওতাল নিহত হওয়ার ঘটনায় সেখানে এখনও অস্থিরতা রয়েছে।',\n",
       " 'Crime',\n",
       " 'Investigative',\n",
       " 'Victim',\n",
       " np.True_,\n",
       " 'Negative',\n",
       " 'Revealing',\n",
       " 'Conflict',\n",
       " 'Violence',\n",
       " 'Awareness']"
      ]
     },
     "execution_count": 45,
     "metadata": {},
     "output_type": "execute_result"
    }
   ],
   "source": [
    "ethnic_sample_df.iloc[2].values.tolist()"
   ]
  },
  {
   "cell_type": "code",
   "execution_count": 78,
   "id": "f83b724d-cf14-4533-be11-eafe032f86b8",
   "metadata": {},
   "outputs": [],
   "source": [
    "ethnic_sample_df = ethnic_df.sample(n=100, random_state=3)"
   ]
  },
  {
   "cell_type": "code",
   "execution_count": 79,
   "id": "e338b168-edf1-4adb-8fd6-469a8b705cd2",
   "metadata": {},
   "outputs": [],
   "source": [
    "ethnic_sample_df.to_csv(\"../data/annotated_100_ethnic_article_against_5_metrics.csv\")"
   ]
  },
  {
   "cell_type": "markdown",
   "id": "d36d4a0c-71c5-482b-9dab-4d49bf671ec5",
   "metadata": {},
   "source": [
    "### Temp"
   ]
  },
  {
   "cell_type": "code",
   "execution_count": 46,
   "id": "319dc672-c973-4013-9f6a-5c87fe917f3a",
   "metadata": {},
   "outputs": [],
   "source": [
    "predicted_sentiment_labels = [1,0,1,1,0,1,0,2,2,0,1,0,2,2,0,1,2,2,0,2,0,2,0,1,0,0,0,0,0,0,0,0,1,2,0,2,0,0,2,1,2,2,2,1,0,1,\n",
    "                              0,1,0,2,0,1,2,0,0,0,2,1,0,2,1,2,1,1,0,0,2,0,0,1,1,2,1,0,0,2,0,2,1,0,1,2,2,0,0,1,1,0,1,0,0,0,0,\n",
    "                              2,0,1,1,2,1,1,0,2,2,0,0,0,0,0,2]\n",
    "sharif_sentiment_labels = [1,0,1,1,1,0,0,0,1,0,0,0,1,2,0,0,0,0,0,2,0,0,0,0,0,0,0,0,0,0,0,0,1,2,0,0,0,0,0,1,0,0,2,1,0,0,0,1,0,\n",
    "                           0,0,1,0,0,0,0,0,0,0,0,1,0,0,1,0,0,2,0,0,1,1,1,1,0,0,0,0,0,1,0,1,2,0,0,0,0,1,0,1,0,0,0,0,0,0,1,1,2,\n",
    "                           1,1,0,2,1,0,0,0,0,0,0,]\n",
    "abhijit_sentiment_labels = [1,0,1,1,0,0,0,0,2,0,2,0,2,2,0,0,0,0,0,2,0,0,0,2,0,0,0,0,0,0,0,0,1,2,0,0,0,0,0,1,0,0,1,1,0,0,0,1,0,\n",
    "                            0,0,1,0,0,0,0,0,0,0,0,1,0,2,1,0,0,2,0,0,2,1,1,1,0,0,0,0,0,1,0,1,2,2,0,0,0,1,0,1,0,0,0,2,2,0,1,1,0,\n",
    "                            2,2,0,2,1,1,0,0,0,0,0,]\n",
    "true_sentiment_labels = [1,0,1,1,0,0,0,0,1,0,0,0,2,2,0,0,0,0,0,2,0,0,0,2,0,0,0,0,0,0,0,0,1,2,0,0,0,0,0,1,0,0,2,1,0,0,0,1,0,0,\n",
    "                             0,1,0,0,0,0,0,0,0,0,1,0,2,1,0,0,2,0,0,1,1,1,1,0,0,0,0,0,1,0,1,2,2,0,0,0,1,0,1,0,0,0,0,2,0,1,1,2,1,1,0,\n",
    "                             2,1,1,0,0,0,0,0,]"
   ]
  },
  {
   "cell_type": "code",
   "execution_count": 48,
   "id": "f30bea66-1f84-4c1a-9f82-577ca7f5703c",
   "metadata": {},
   "outputs": [
    {
     "data": {
      "text/plain": [
       "(np.float64(0.8623853211009175), 15)"
      ]
     },
     "execution_count": 48,
     "metadata": {},
     "output_type": "execute_result"
    }
   ],
   "source": [
    "annotator_agreement_score(abhijit_sentiment_labels, sharif_sentiment_labels)"
   ]
  },
  {
   "cell_type": "code",
   "execution_count": 53,
   "id": "0c589292-9bbb-4511-a1d8-3e71d08010f0",
   "metadata": {},
   "outputs": [
    {
     "ename": "NameError",
     "evalue": "name 'true_sentiment_labels' is not defined",
     "output_type": "error",
     "traceback": [
      "\u001b[0;31m---------------------------------------------------------------------------\u001b[0m",
      "\u001b[0;31mNameError\u001b[0m                                 Traceback (most recent call last)",
      "Cell \u001b[0;32mIn[53], line 3\u001b[0m\n\u001b[1;32m      1\u001b[0m \u001b[38;5;28;01mfrom\u001b[39;00m \u001b[38;5;21;01mcollections\u001b[39;00m \u001b[38;5;28;01mimport\u001b[39;00m Counter\n\u001b[0;32m----> 3\u001b[0m counts \u001b[38;5;241m=\u001b[39m Counter(\u001b[43mtrue_sentiment_labels\u001b[49m)\n\u001b[1;32m      4\u001b[0m \u001b[38;5;28mprint\u001b[39m(\u001b[38;5;124m\"\u001b[39m\u001b[38;5;124mPos count:\u001b[39m\u001b[38;5;124m\"\u001b[39m, counts[\u001b[38;5;241m1\u001b[39m])\n\u001b[1;32m      5\u001b[0m \u001b[38;5;28mprint\u001b[39m(\u001b[38;5;124m\"\u001b[39m\u001b[38;5;124mNeg count:\u001b[39m\u001b[38;5;124m\"\u001b[39m, counts[\u001b[38;5;241m0\u001b[39m])\n",
      "\u001b[0;31mNameError\u001b[0m: name 'true_sentiment_labels' is not defined"
     ]
    }
   ],
   "source": [
    "from collections import Counter\n",
    "\n",
    "counts = Counter(true_sentiment_labels)\n",
    "print(\"Pos count:\", counts[1])\n",
    "print(\"Neg count:\", counts[0])\n",
    "print(\"Neu count:\", counts[2])"
   ]
  },
  {
   "cell_type": "code",
   "execution_count": 52,
   "id": "f1128df2-4ee0-4ddd-bfea-18de611c6e73",
   "metadata": {},
   "outputs": [
    {
     "ename": "NameError",
     "evalue": "name 'counts' is not defined",
     "output_type": "error",
     "traceback": [
      "\u001b[0;31m---------------------------------------------------------------------------\u001b[0m",
      "\u001b[0;31mNameError\u001b[0m                                 Traceback (most recent call last)",
      "Cell \u001b[0;32mIn[52], line 1\u001b[0m\n\u001b[0;32m----> 1\u001b[0m \u001b[43mcounts\u001b[49m\n",
      "\u001b[0;31mNameError\u001b[0m: name 'counts' is not defined"
     ]
    }
   ],
   "source": [
    "counts"
   ]
  },
  {
   "cell_type": "code",
   "execution_count": 50,
   "id": "0cbeecfc-f292-42a8-a05e-681d93fb64a7",
   "metadata": {},
   "outputs": [],
   "source": [
    "N = 109"
   ]
  },
  {
   "cell_type": "code",
   "execution_count": 52,
   "id": "fd6cc444-ee98-4525-9825-b2f647b175c6",
   "metadata": {},
   "outputs": [
    {
     "name": "stdout",
     "output_type": "stream",
     "text": [
      "Accuracy: 0.74\n",
      "Precision: 0.85\n",
      "Recall: 0.74\n",
      "F1 Score: 0.77\n",
      "\n",
      "Classification Report:\n",
      "              precision    recall  f1-score   support\n",
      "\n",
      "           0       0.98      0.69      0.81        71\n",
      "           1       0.72      0.84      0.78        25\n",
      "           2       0.37      0.85      0.51        13\n",
      "\n",
      "    accuracy                           0.74       109\n",
      "   macro avg       0.69      0.79      0.70       109\n",
      "weighted avg       0.85      0.74      0.77       109\n",
      "\n"
     ]
    }
   ],
   "source": [
    "from sklearn.metrics import precision_score, recall_score, f1_score, accuracy_score, classification_report\n",
    "\n",
    "accuracy = accuracy_score(true_sentiment_labels, predicted_sentiment_labels)\n",
    "print(f'Accuracy: {accuracy:.2f}')\n",
    "\n",
    "# Calculate precision, recall, and F1 score (average='weighted' considers the imbalance in classes)\n",
    "precision = precision_score(true_sentiment_labels, predicted_sentiment_labels, average='weighted')\n",
    "recall = recall_score(true_sentiment_labels, predicted_sentiment_labels, average='weighted')\n",
    "f1 = f1_score(true_sentiment_labels, predicted_sentiment_labels, average='weighted')\n",
    "\n",
    "print(f'Precision: {precision:.2f}')\n",
    "print(f'Recall: {recall:.2f}')\n",
    "print(f'F1 Score: {f1:.2f}')\n",
    "\n",
    "# Print a detailed classification report\n",
    "print(\"\\nClassification Report:\")\n",
    "print(classification_report(true_sentiment_labels, predicted_sentiment_labels))"
   ]
  }
 ],
 "metadata": {
  "kernelspec": {
   "display_name": "Python 3 (ipykernel)",
   "language": "python",
   "name": "python3"
  },
  "language_info": {
   "codemirror_mode": {
    "name": "ipython",
    "version": 3
   },
   "file_extension": ".py",
   "mimetype": "text/x-python",
   "name": "python",
   "nbconvert_exporter": "python",
   "pygments_lexer": "ipython3",
   "version": "3.10.12"
  }
 },
 "nbformat": 4,
 "nbformat_minor": 5
}
