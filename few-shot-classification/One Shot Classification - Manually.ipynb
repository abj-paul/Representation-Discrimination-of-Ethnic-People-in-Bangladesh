{
 "cells": [
  {
   "cell_type": "code",
   "execution_count": 2,
   "id": "f383cf75-5284-4899-bab5-7e19a4682a36",
   "metadata": {},
   "outputs": [
    {
     "name": "stdout",
     "output_type": "stream",
     "text": [
      "ethnic_dataset_cleaned.joblib  ethnic_dataset.joblib\n"
     ]
    }
   ],
   "source": [
    "!ls ../data"
   ]
  },
  {
   "cell_type": "code",
   "execution_count": 3,
   "id": "9b021702-3694-4d17-b4a7-23f7de8f8c94",
   "metadata": {},
   "outputs": [
    {
     "data": {
      "text/plain": [
       "'আন্তর্জাতিক আদিবাসী দিবস উপলক্ষে বুধবার বিভিন্ন স্থানে সভা-সমাবেশ ও রযালি অনুষ্ঠিত হয়েছে। উপজাতিদের বিভিন্ন সংগঠন এসব কর্মসূচির আয়োজন করে। যুগান্তর ব্যুরো ও প্রতিনিধিদের পাঠানো খবর-সিলেট ব্যুরো : রযালিতে সিলেট প্রেস ক্লাবের সভাপতি ইকরামুল কবির, ইমজার সভাপতি আল আজাদসহ সিলেটের সাংস্কৃতিক অঙ্গনের ব্যক্তি ও উপজাতি জনগোষ্ঠীর লোকজন ছাড়াও বিভিন্ন শ্রেণী-পেশার মানুষ অংশগ্রহণ করেন। এছাড়া দিবসটি উপলক্ষে শাহজালাল বিজ্ঞান ও প্রযুক্তি বিশ্ববিদ্যালয়ে আলোচনা সভা অনুষ্ঠিত হয়েছে। ‘অ্যাসোসিয়েশন অব ইন্ডিজেনাস স্টুডেন্টস, সাস্ট’ ও সমাজকর্ম বিভাগ আলাদা আলাদাভাবে দিবসটি উপলক্ষে রযালি, সেমিনার ও আলোচনা সভার আয়োজন করে।ময়মনসিংহ ব্যুরো : অনুষ্ঠানের উদ্বোধন করেন জেলা পরিষদের চেয়ারম্যান অধ্যাপক ইউসুফ খান পাঠান। বক্তব্য রাখেন হিন্দু বৌদ্ধ খ্রিস্টান ঐক্য পরিষদের সভাপতি বিকাশ রায়, সিপিবি সভাপতি এমদাদুল হক মিল্লাত, মহিলা পরিষদের সভানেত্রী ফেরদৌস আরা মাহমুদা হেলেন, হিল্লুুল নকরেক, অরণ্য-ই চিরান, স্বর্ণকান্ত হাজং সাংবাদিক শরীফুজ্জামান টিটু প্রমুখ।শেরপুর : বাগাছাস সভাপতি রুনু নকরেটের সভাপতিত্বে অনুষ্ঠিত আলোচনা সভায় প্রধান অতিথি ছিলেন ঝিনাইগাতী উপজেলা চেয়ারম্যান আমিনুল ইসলাম বাদশা। বক্তব্য রাখেন, উপজেলা ভাইস চেয়ারম্যান আমিরুর ইসলাম মক্কু, বাগাছাসের কেন্দ্রীয় কমিটি সাবেক সভাপতি পবিত্র ম্র্রং, সাংবাদিক রফিক মজিদ, উপজাতি ছাত্রনেতা নিরু চিরান, রবি কোচ, সত্যজিৎ মৃ প্রমুখ।কলমাকান্দা (নেত্রকোনা) : হাটগোবিন্দপুর বিদ্যালয় মাঠে অনুষ্ঠানে বক্তব্য রাখেন উপজেলা ভাইস চেয়ারম্যান কলি আক্তার, পপি সিডস প্রোগ্রাম ম্যানেজার শরিফুল ইসলাম, টিউলিপ ম্রং, অশোক চিসিম, ইউলসন কুবি প্রমুখ।দুর্গাপুর (নেত্রকোনা) : রযালি শেষে টিডব্লিউএ’র সভাপতি বঙ্কিম মানখিনের সভাপতিত্বে সভায় উপজাতি নেতা সায়মন তজুর সঞ্চালনায় প্রধান অতিথি ছিলেন সহকারী কমিশনার ভূমি মো. ইয়ামিন হোসেন। বক্তব্য রাখেন ভারপ্রাপ্ত পুলিশ কর্মকর্তা মিজানুর রহমান, আদিবাসী নারীনেত্রী স্বপ্না হাজং, লুদিয়া রুমা সাংমা, এনজিও সমন্বয় পরিষদের সভাপতি মি. পঙ্কজ মারাক, স্বপন হাজং প্রমুখ।শ্রীমঙ্গল : বুধবার রযালি ও পথসভার উদ্বোধন করেন বৃহত্তম আদিবাসী ফোরামের সহ-সভাপতি জিডিসন প্রধান সুচিয়াং। উপস্থিত ছিলেন সংগঠনের মহাসচিব ফিলা পত্মি, চা জনগোষ্ঠী আদিবাসী ফ্রন্টের সভাপতি পরিমল সিং বাড়াইক, খাসি সোসিয়াল কাউন্সিলের সাজু মারছিয়াং প্রমুখ।ধোবাউড়া (ময়মনসিংহ) : আলোচনা সভায় বাগাছাস ধোবাউড়া শাখার সভাপতি সাগর ডিব্রার সভাপতিত্বে বক্তব্য রাখেন ট্রাইবাল ওয়েলফেয়ার অ্যাসোসিয়েশনের চেয়ারম্যান এডুয়ার্ট নাফাক, ভাইস চেয়ারম্যান হেরোথ চিরান, বাগাছাস কেন্দ্রীয় প্রচার সম্পাদক শক্তি চিরান, ধোবাউড়া শাখার সম্পাদক ন্যান্সি ডিব্রা প্রমুখ।কলাপাড়া : সভায় সভাপতিত্ব করেন রাখাইন মংচো। প্রধান অতিথির বক্তব্য রাখেন উপজেলা চেয়ারম্যান আবদুল মোতালেব তালুকদার। বিশেষ অতিথি ছিলেন ইউএনও এবিএম সাদিকুর রহমান, কৃষি কর্মকর্তা মসিউর রহমান, অধ্যক্ষ ড. শহীদুল ইসলাম বিশ্বাস, মাহমুদুর রহমান, সাংবাদিক জসিম পারভেজ, রাখাইন চোথেন মং ও অংনয় প্রমুখ।হালুয়াঘাট (ময়মনসিংহ) : গারো স্টুডন্ট ইউনিয়ন (গাসু) এবং সেন্টএন্ড্রুজ বয়েজ ও সেন্ট মেরিস গার্লস সিএমডি হোস্টেলের নেতারা অংশগ্রহণে একটি রযালি হালুয়াঘাট বাজার প্রদক্ষিণ করে। '"
      ]
     },
     "execution_count": 3,
     "metadata": {},
     "output_type": "execute_result"
    }
   ],
   "source": [
    "import joblib\n",
    "cleaned_10187_articles = joblib.load(\"../data/ethnic_dataset_cleaned.joblib\")\n",
    "cleaned_10187_articles[0]"
   ]
  },
  {
   "cell_type": "markdown",
   "id": "d45e4d82-8190-4149-beb0-d74d08469e5f",
   "metadata": {},
   "source": [
    "index=0 article is kinda about ethnic people's culture. So it is ethnic people related article."
   ]
  },
  {
   "cell_type": "markdown",
   "id": "8ff3f37e-340e-496b-a326-e1f4385ab499",
   "metadata": {},
   "source": [
    "ChatGPT: Yes, the news article content is related to ethnic tribes in Bangladesh. The text discusses various events and gatherings held on International Indigenous Peoples' Day, mentioning the participation and organization by different ethnic communities and indigenous groups in regions like Sylhet, Mymensingh, Sherpur, Netrokona, and others. Specific tribes such as the Khasi, Garo, and Rakhine are referenced, indicating a focus on ethnic tribes in Bangladesh."
   ]
  },
  {
   "cell_type": "code",
   "execution_count": 4,
   "id": "cd1a3473-ebe0-486a-986c-9e62c3a712de",
   "metadata": {},
   "outputs": [
    {
     "data": {
      "text/plain": [
       "'টানা সাতদিন সীমান্তের জিরো পয়েন্টে থেকে অবশেষে বিপর্যস্ত অবস্থায় বাংলাদেশে আশ্রয় নিয়েছে হাজার হাজার রোহিঙ্গা।মঙ্গলবার সন্ধ্যা থেকে থেমে থেমে চলা বৃষ্টিপাতের মধ্যে তারা বাংলাদেশে ঢুকতে পেরেছে বলে জানিয়েছে আগত রোহিঙ্গারা।নতুন করে আসা রোহিঙ্গারা বাংলাদেশে ঢুকে পুরোনো রোহিঙ্গা বস্তি ও বিভিন্ন বাসা-বাড়িতে আশ্রয় নিয়েছে।আন্তর্জাতিক অভিবাসন সংস্থার (আইএমও) তথ্য মতে আগত রোহিঙ্গার সংখ্যা ১৮ হাজার। আর ক্যাম্প সংশ্লিষ্টদের মতে এ সংখ্যা অর্ধলাখের কম নয়। এদিকে নিজ দেশ মিয়ানমার সামরিক বাহিনীর নিপীড়নের শিকার হয়ে সীমান্তের জিরোপয়েন্টে আসা রোহিঙ্গাদের প্রতি মানবিক আচরণ দেখাতে মঙ্গলবার সন্ধ্যায় নির্দেশ দেন প্রধানমন্ত্রী শেখ হাসিনা।গণভবনে পররাষ্ট্রমন্ত্রী আবুল হাসান মাহমুদ আলী, প্রতিমন্ত্রী শাহরিয়ার আলম ও রিয়াল অ্যাডমিরাল খোরশেদ আলমের সঙ্গে বৈঠক করেন প্রধানমন্ত্রী। ওই বৈঠকে তিনি এ নির্দেশ দেন বলে একাধিক সূত্র নিশ্চিত করেছে।বালুখালী বস্তি এলাকায় স্বপরিবারে আশ্রয় নেয়া মিয়ানমারের আরাকান (রাখাইন) রাজ্যের ঢেকিবনিয়া মিয়াপাড়ার দিল বাহার বেগম (৪১) জানান, স্বামী সেদেশের সেনাবাহিনীর হাতে আটক হওয়ার পর তিন সন্তান নিয়ে অন্যদের সঙ্গে ২৭ আগস্ট সীমান্ত এলাকায় এসেছিলাম। কিন্তু তিনদিন ধরে জিরো পয়েন্টে অন্যদের সঙ্গে অবরুদ্ধ ছিলাম। পানি-খাবার সব কিছুর সংকটে শিশুদের কান্নায় অস্থির হয়ে উঠি। কী করব ভেবে পাচ্ছিলাম না। মঙ্গলবার সন্ধ্যার পর আল্লাহ রহমত হিসেবে বৃষ্টি পাঠালেন। জিরো পয়েন্টে অবস্থান নেয়ারা বৃষ্টিতে ভিজে বিপর্যস্ত হয়। এরপর সব কিছু গুছিয়ে সবাই বাংলাদেশে ঢুকে পড়ি। আমরা ওখানে কয়েক হাজার ছিলাম। বাংলাদেশে ঢুকে যে যেখানে পেরেছে আশ্রয় নিয়েছি।এদিকে সংবাদ সম্মেলন করে গত এক সপ্তাহে ১৮ হাজার রোহিঙ্গা বাংলাদেশে প্রবেশ করেছে বলে জানিয়েছে আন্তর্জাতিক অভিবাসন সংস্থা (আইওএম)।বুধবার দুপুরে আইওএম কক্সবাজার কার্যালয়ে অফিস প্রধান সংযুক্তা সাহানী এক সংবাদ সম্মেলনে এ তথ্য জানান।এদিকে, বুধবার সীমান্তের রেজু আমতলী গিয়ে দেখা যায়-শত শত রোহিঙ্গারা জড়ো হয়ে টমটম গাড়ী যোগে উখিয়ার কুতুপালং ও বালুখালী রোহিঙ্গা বস্তিতে আশ্রয় নিচ্ছে। তাদের সাথে নিয় আসা গরু, ছাগল, মুরগি স্থানীয় কতিপয় সুবিধাভোগী নামমাত্র মূল্যে কিনে নিচ্ছে।উখিয়ার বালুখালী বস্তির লালু মাঝি জানান, বুধবার পর্যন্ত তার ক্যাম্পে ১ হাজার ৩৮৫ পরিবার নতুন করে আশ্রয় নিয়েছে। যাদের অধিকাংশই পুরুষহীন পরিবার।আমতলী সীমান্ত দিয়ে বাংলাদেশে প্রবেশ করা মংডুর সাহেব বাজার নারাইন সং গ্রামের মৃত নুর আহম্মদের ছেলে ৭৫ বছর বয়সী রোহিঙ্গা আবদুল গফুর বলেন, গত পাচঁ দিন ধরে পাহাড়ের গহীন জঙ্গলে না খেয়ে অবস্থান করেছি। বৃষ্টি ও ক্ষুধার কারণে আর লুকিয়ে থাকা সম্ভব হচ্ছিল না। তাই বুধবার সকালে ওয়ালিদং পাহাড় পার হয়ে কোনো রকম এখানে এসেছি।বিজিবি কক্সবাজার সেক্টর কমান্ডার (ভারপ্রাপ্ত) লে. কর্নেল আনোয়ারুল আজিম বলেন, মঙ্গলবার সন্ধ্যা থেকে পাহাড়ি এলাকায় প্রচুর বৃষ্টিপাত হচ্ছে। ফলে শুধুমাত্র নির্ধারিত পয়েন্ট ছাড়া বাকি স্থলে টহল পাহারা নিয়মিত করা সম্ভভ হয়নি। একারণে সব দিক দিয়ে বিপর্যস্ত কিছু রোহিঙ্গা হয়তো অনুপ্রবেশ করতে পারে। ওপারে এখনো গোলাগুলি ও বোমার শব্দ পাওয়া যাচ্ছে। তাই জিরোপয়েন্ট অবস্থানকারিদের প্রতি আমরা কঠোরতা দেখাচ্ছি না। তবে, আগের মতোই আমরা তাদের প্রতিহত করছি। ৩৪ বিজিবি ও ২ বিজিবি এবং নাইক্ষংছড়ি বিজিবি সতর্ক পাহারা অব্যহত রেখেছে।চার নারী-শিশুর মরদেহ উদ্ধারবাংলাদেশে প্রবেশের চেষ্টাকালে টেকনাফের শাহপরীর দ্বীপ রোহিঙ্গা বোঝাই একটি নৌকা ডুবির ঘটনা ঘটেছে। এ ঘটনায় শিশুসহ চারজনের লাশ উদ্ধার করা হয়েছে।বুধবার সকালে উপজেলার সাবরাং ইউনিয়নের শাহপরীর দ্বীপ সমুদ্র সৈকত এলাকা থেকে তাদের লাশ উদ্ধার করেছে স্থানীয় লোকজন।সাবরাং ইউনিয়ন পরিষদের সদস্য নুরুল আমিন বলেন, রাতে যেকোনো সময়ে নৌকাটি ঢেউয়ের কবলে পড়ে ডুবে যায় বলে ধারণা করা হচ্ছে।সকালে খবর পেয়ে স্থানীয় লোকজন শাহপরীর দ্বীপ দক্ষিণপাড়া ও মাঝেরপাড়া সৈকত থেকে এ চারজনের লাশ উদ্ধার করা হয়েছে।ডুবে যাওয়া নৌকাটি অংশ বিশেষ সৈকতের বালুতে আটকে পড়ে রয়েছে। উদ্ধার চারজনের মধ্যে দুইজন নারী ও দুইজন শিশু কন্যা।টেকনাফ থানার অফিসার ইনচার্জ মাইন উদ্দিন খান তথ্যের সত্যতা নিশ্চিত করেছেন।'"
      ]
     },
     "execution_count": 4,
     "metadata": {},
     "output_type": "execute_result"
    }
   ],
   "source": [
    "cleaned_10187_articles[10]"
   ]
  },
  {
   "cell_type": "markdown",
   "id": "d6740199-1cca-4b8c-93c8-67c36dca98d8",
   "metadata": {},
   "source": [
    "index=10 article is about Rohingya folks. So it is not ethnic people related article"
   ]
  },
  {
   "cell_type": "markdown",
   "id": "d1759d37-308d-43fc-8a34-709e9cc2da36",
   "metadata": {},
   "source": [
    "ChatGPT: No, the content of this news article is not related to ethnic tribes in Bangladesh. Instead, it is focused on the plight of the Rohingya refugees fleeing from Myanmar to Bangladesh due to military oppression. The article describes their difficult journey, the humanitarian response from the Bangladeshi government, and the ongoing situation at the border. The Rohingya are an ethnic minority from Myanmar, not indigenous tribes of Bangladesh."
   ]
  },
  {
   "cell_type": "markdown",
   "id": "703d2fed-28f9-4bcf-9c00-84db742627e1",
   "metadata": {},
   "source": [
    "Let us try some more examples to be sure."
   ]
  },
  {
   "cell_type": "markdown",
   "id": "c589830f-49eb-4977-a7e8-d4151c559b05",
   "metadata": {},
   "source": [
    "cleaned_10187_articles[1210]"
   ]
  },
  {
   "cell_type": "markdown",
   "id": "a8e1933b-60d4-4ada-ba7b-a979cb66242a",
   "metadata": {},
   "source": [
    "Yes. It highlights their fight."
   ]
  },
  {
   "cell_type": "markdown",
   "id": "d4a966e7-e1c9-45ef-b79b-739cad2085ed",
   "metadata": {},
   "source": [
    "ChatGPT: Yes, the content of this news article is related to ethnic tribes in Bangladesh. It discusses the two-decade anniversary of the Chittagong Hill Tracts Peace Accord, mentioning the grievances of the indigenous people due to the incomplete implementation of the accord and the slow pace of refugee rehabilitation. The article highlights various programs and events organized by different groups, including the Jana Sanghati Samiti (JSS) and others, to mark the occasion and voice their demands. The Chittagong Hill Tracts are home to several indigenous ethnic groups, and the issues discussed in the article pertain directly to their rights and living conditions."
   ]
  },
  {
   "cell_type": "code",
   "execution_count": 8,
   "id": "5a28c38a-55a2-4109-8979-4fe3c62c5c64",
   "metadata": {},
   "outputs": [
    {
     "data": {
      "text/plain": [
       "'খাগড়াছড়ির মাটিরাঙায় পর্যটক কেন্দ্র রিছাং ঝরনায় বেড়াতে গিয়ে পানিতে ডুবে অপু চন্দ্র দাশ (২২) ও প্রীতম দেবনাথ (১৮) নামে দুই পর্যটকের মৃত্যু হয়েছে।বৃহস্পতিবার বিকালে এই ঘটনা ঘটে। নিহত প্রিতম খাগড়াছড়ি রুখাই চৌধুরী পাড়ার বাসিন্দা মৃত দুলাল দেব নাথের ছেলে এবং অপু চন্দ্র দাশ ঢাকার নটরডেম কলেজের শিক্ষার্থী।স্থানীয় ইউপি সদস্য চন্দ্র শেখর ত্রিপুরা জানান, মূল রিছাং ঝরনার উপরে আরেকটি ঝরনা রয়েছে। যেটি অনেক গভীর ও দুর্গম। বৃহস্পতিবার বিকালে নিহতরা ওই ঝরনায় গোসল করতে যান। এ সময় পানিতে ডুবে তাদের মৃত্যু হতে পারে।খাগড়াছড়ি টুরিস্ট পুলিশের পরিদর্শক সন্তোষ ধামাই জানান, বিকালে স্থানীয় একজন পানিতে লাশ দুটি দেখতে পান। মাটিরাঙা থানার পুলিশ ও সেনাবাহিনীর সহায়তায় লাশ উদ্ধার করা হয়েছে।নিহতদের লাশ ময়নাতদন্তের জন্য খাগড়াছড়ি সদর হাসপাতালের মর্গে পাঠানো হয়েছে।মাটিরাঙা থানার ওসি মোহাম্মদ আলী জানান, দুই পর্যটক বৃহস্পতিবার ঝরনায় বেড়াতে আসেন। ঝরনার উৎসমুখে জমে থাকা গভীর পানিতে ডুবে দুই পর্যটকের মৃত্যু হতে পারে। পানিতে দুই পর্যটকের লাশ ভেসে উঠলে পুলিশ ঘটনাস্থল পৌঁছে লাশ উদ্ধার করেছে।এর আগে চলতি বছরের ৭ সেপ্টেম্বর রিছাং ঝরনায় মলাই জ্যোতি চাকমা নামে এক স্কুল শিক্ষার্থী মারা যায়।'"
      ]
     },
     "execution_count": 8,
     "metadata": {},
     "output_type": "execute_result"
    }
   ],
   "source": [
    "cleaned_10187_articles[9812]"
   ]
  },
  {
   "cell_type": "markdown",
   "id": "3be0f4da-aff0-4b6b-a0f4-d6c0a3184385",
   "metadata": {},
   "source": [
    "No, its not. It just describes an accident in South Bangladesh."
   ]
  },
  {
   "cell_type": "markdown",
   "id": "072fe1c0-6295-422c-b3cf-99ed693112a3",
   "metadata": {},
   "source": [
    "ChatGPT: No, the content of this news article is not directly related to ethnic tribes in Bangladesh. It reports on the tragic drowning of two tourists, Apur Chandra Das and Pritam Debnath, at the Rishang Waterfall in Matiranga, Khagrachari. While the incident occurred in the Chittagong Hill Tracts, an area inhabited by several ethnic tribes, the article itself focuses on the details of the accident and the subsequent actions taken by the local authorities, rather than on the indigenous communities or their issues."
   ]
  },
  {
   "cell_type": "code",
   "execution_count": null,
   "id": "0e3a7cb7-9d33-4144-9cc1-649fba070049",
   "metadata": {},
   "outputs": [],
   "source": []
  }
 ],
 "metadata": {
  "kernelspec": {
   "display_name": "Python 3 (ipykernel)",
   "language": "python",
   "name": "python3"
  },
  "language_info": {
   "codemirror_mode": {
    "name": "ipython",
    "version": 3
   },
   "file_extension": ".py",
   "mimetype": "text/x-python",
   "name": "python",
   "nbconvert_exporter": "python",
   "pygments_lexer": "ipython3",
   "version": "3.10.14"
  }
 },
 "nbformat": 4,
 "nbformat_minor": 5
}
