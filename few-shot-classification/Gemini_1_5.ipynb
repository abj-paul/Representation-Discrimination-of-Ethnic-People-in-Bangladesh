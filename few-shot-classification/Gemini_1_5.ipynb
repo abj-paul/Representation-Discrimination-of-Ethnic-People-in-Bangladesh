{
 "cells": [
  {
   "cell_type": "code",
   "execution_count": 191,
   "metadata": {},
   "outputs": [
    {
     "data": {
      "text/html": [
       "<div>\n",
       "<style scoped>\n",
       "    .dataframe tbody tr th:only-of-type {\n",
       "        vertical-align: middle;\n",
       "    }\n",
       "\n",
       "    .dataframe tbody tr th {\n",
       "        vertical-align: top;\n",
       "    }\n",
       "\n",
       "    .dataframe thead th {\n",
       "        text-align: right;\n",
       "    }\n",
       "</style>\n",
       "<table border=\"1\" class=\"dataframe\">\n",
       "  <thead>\n",
       "    <tr style=\"text-align: right;\">\n",
       "      <th></th>\n",
       "      <th>Unnamed: 0</th>\n",
       "      <th>content</th>\n",
       "    </tr>\n",
       "  </thead>\n",
       "  <tbody>\n",
       "    <tr>\n",
       "      <th>0</th>\n",
       "      <td>0</td>\n",
       "      <td>আন্তর্জাতিক আদিবাসী দিবস উপলক্ষে বুধবার বিভিন্...</td>\n",
       "    </tr>\n",
       "    <tr>\n",
       "      <th>1</th>\n",
       "      <td>1</td>\n",
       "      <td>রমেল হত্যায় মানবাধিকার কমিশনের তদন্ত শুরুরাঙ্গ...</td>\n",
       "    </tr>\n",
       "    <tr>\n",
       "      <th>2</th>\n",
       "      <td>2</td>\n",
       "      <td>সিনিয়র শিক্ষক, প্রগতি মডেল স্কুল অ্যান্ড কলেজ,...</td>\n",
       "    </tr>\n",
       "    <tr>\n",
       "      <th>3</th>\n",
       "      <td>3</td>\n",
       "      <td>আফরোজা বেগমসিনিয়র শিক্ষক, উত্তরা হাইস্কুল অ্যা...</td>\n",
       "    </tr>\n",
       "    <tr>\n",
       "      <th>4</th>\n",
       "      <td>4</td>\n",
       "      <td>নারায়ণগঞ্জের রূপগঞ্জ ও ফতুল্লা, গাজীপুরের কালি...</td>\n",
       "    </tr>\n",
       "    <tr>\n",
       "      <th>...</th>\n",
       "      <td>...</td>\n",
       "      <td>...</td>\n",
       "    </tr>\n",
       "    <tr>\n",
       "      <th>5337</th>\n",
       "      <td>5337</td>\n",
       "      <td>খাগড়াছড়ির দীঘিনালায় জেএসএস (এমএন লারমা) সমর্থি...</td>\n",
       "    </tr>\n",
       "    <tr>\n",
       "      <th>5338</th>\n",
       "      <td>5338</td>\n",
       "      <td>শান্তি-সম্প্রীতি স্থাপনে দুই দশক আগে পার্বত্য ...</td>\n",
       "    </tr>\n",
       "    <tr>\n",
       "      <th>5339</th>\n",
       "      <td>5339</td>\n",
       "      <td>জনপ্রিয় ম্যাগাজিন অনুষ্ঠান ‘ইত্যাদি’ আজ শুক্রব...</td>\n",
       "    </tr>\n",
       "    <tr>\n",
       "      <th>5340</th>\n",
       "      <td>5340</td>\n",
       "      <td>সরকারি বেতন স্কেলের নবম থেকে ১৩তম গ্রেড পর্যন্...</td>\n",
       "    </tr>\n",
       "    <tr>\n",
       "      <th>5341</th>\n",
       "      <td>5341</td>\n",
       "      <td>রাঙামাটির নানিয়াচরে ২৪ ঘণ্টার ব্যবধানে চাঞ্চল্...</td>\n",
       "    </tr>\n",
       "  </tbody>\n",
       "</table>\n",
       "<p>5342 rows × 2 columns</p>\n",
       "</div>"
      ],
      "text/plain": [
       "      Unnamed: 0                                            content\n",
       "0              0  আন্তর্জাতিক আদিবাসী দিবস উপলক্ষে বুধবার বিভিন্...\n",
       "1              1  রমেল হত্যায় মানবাধিকার কমিশনের তদন্ত শুরুরাঙ্গ...\n",
       "2              2  সিনিয়র শিক্ষক, প্রগতি মডেল স্কুল অ্যান্ড কলেজ,...\n",
       "3              3  আফরোজা বেগমসিনিয়র শিক্ষক, উত্তরা হাইস্কুল অ্যা...\n",
       "4              4  নারায়ণগঞ্জের রূপগঞ্জ ও ফতুল্লা, গাজীপুরের কালি...\n",
       "...          ...                                                ...\n",
       "5337        5337  খাগড়াছড়ির দীঘিনালায় জেএসএস (এমএন লারমা) সমর্থি...\n",
       "5338        5338  শান্তি-সম্প্রীতি স্থাপনে দুই দশক আগে পার্বত্য ...\n",
       "5339        5339  জনপ্রিয় ম্যাগাজিন অনুষ্ঠান ‘ইত্যাদি’ আজ শুক্রব...\n",
       "5340        5340  সরকারি বেতন স্কেলের নবম থেকে ১৩তম গ্রেড পর্যন্...\n",
       "5341        5341  রাঙামাটির নানিয়াচরে ২৪ ঘণ্টার ব্যবধানে চাঞ্চল্...\n",
       "\n",
       "[5342 rows x 2 columns]"
      ]
     },
     "execution_count": 191,
     "metadata": {},
     "output_type": "execute_result"
    }
   ],
   "source": [
    "import pandas as pd\n",
    "df = pd.read_csv(\"../annotation-tool/backend/ethnic_dataset_exp0_5342.csv\")\n",
    "df"
   ]
  },
  {
   "cell_type": "code",
   "execution_count": 192,
   "metadata": {},
   "outputs": [
    {
     "data": {
      "text/plain": [
       "4893"
      ]
     },
     "execution_count": 192,
     "metadata": {},
     "output_type": "execute_result"
    }
   ],
   "source": [
    "updated_articles = []\n",
    "for article in df[\"content\"].values.tolist():\n",
    "    if \"রাখাইন\" not in article:\n",
    "        updated_articles.append(article)\n",
    "len(updated_articles)"
   ]
  },
  {
   "cell_type": "markdown",
   "metadata": {},
   "source": [
    "## Temp Ends"
   ]
  },
  {
   "cell_type": "code",
   "execution_count": 173,
   "metadata": {},
   "outputs": [],
   "source": [
    "EXPERIMENT_IDENTIFIER = \"exp2\""
   ]
  },
  {
   "cell_type": "code",
   "execution_count": 70,
   "metadata": {
    "id": "J6Pd9SFJ1yVi"
   },
   "outputs": [
    {
     "name": "stdout",
     "output_type": "stream",
     "text": [
      "\u001b[33mWARNING: Retrying (Retry(total=4, connect=None, read=None, redirect=None, status=None)) after connection broken by 'NewConnectionError('<pip._vendor.urllib3.connection.HTTPSConnection object at 0x7cf310f47ac0>: Failed to establish a new connection: [Errno -3] Temporary failure in name resolution')': /simple/google-generativeai/\u001b[0m\u001b[33m\n",
      "\u001b[0m\u001b[33mWARNING: Retrying (Retry(total=3, connect=None, read=None, redirect=None, status=None)) after connection broken by 'NewConnectionError('<pip._vendor.urllib3.connection.HTTPSConnection object at 0x7cf310f47df0>: Failed to establish a new connection: [Errno -3] Temporary failure in name resolution')': /simple/google-generativeai/\u001b[0m\u001b[33m\n",
      "\u001b[0m\u001b[33mWARNING: Retrying (Retry(total=2, connect=None, read=None, redirect=None, status=None)) after connection broken by 'NewConnectionError('<pip._vendor.urllib3.connection.HTTPSConnection object at 0x7cf310f47d00>: Failed to establish a new connection: [Errno -3] Temporary failure in name resolution')': /simple/google-generativeai/\u001b[0m\u001b[33m\n",
      "\u001b[0mDefaulting to user installation because normal site-packages is not writeable\n",
      "Requirement already satisfied: python-dotenv in /home/abhijit/.local/lib/python3.10/site-packages (1.0.1)\n",
      "Defaulting to user installation because normal site-packages is not writeable\n",
      "Requirement already satisfied: pandas in /home/abhijit/.local/lib/python3.10/site-packages (2.2.2)\n",
      "Requirement already satisfied: numpy>=1.22.4 in /home/abhijit/.local/lib/python3.10/site-packages (from pandas) (2.0.1)\n",
      "Requirement already satisfied: python-dateutil>=2.8.2 in /home/abhijit/.local/lib/python3.10/site-packages (from pandas) (2.9.0.post0)\n",
      "Requirement already satisfied: tzdata>=2022.7 in /home/abhijit/.local/lib/python3.10/site-packages (from pandas) (2024.1)\n",
      "Requirement already satisfied: pytz>=2020.1 in /usr/lib/python3/dist-packages (from pandas) (2022.1)\n",
      "Requirement already satisfied: six>=1.5 in /usr/lib/python3/dist-packages (from python-dateutil>=2.8.2->pandas) (1.16.0)\n",
      "Defaulting to user installation because normal site-packages is not writeable\n",
      "Requirement already satisfied: joblib in /home/abhijit/.local/lib/python3.10/site-packages (1.4.2)\n",
      "Defaulting to user installation because normal site-packages is not writeable\n",
      "Collecting matplotlib\n",
      "  Downloading matplotlib-3.9.2-cp310-cp310-manylinux_2_17_x86_64.manylinux2014_x86_64.whl (8.3 MB)\n",
      "\u001b[2K     \u001b[90m━━━━━━━━━━━━━━━━━━━━━━━━━━━━━━━━━━━━━━━━\u001b[0m \u001b[32m8.3/8.3 MB\u001b[0m \u001b[31m122.5 kB/s\u001b[0m eta \u001b[36m0:00:00\u001b[0m00:01\u001b[0m00:02\u001b[0m\n",
      "\u001b[?25hCollecting contourpy>=1.0.1\n",
      "  Downloading contourpy-1.2.1-cp310-cp310-manylinux_2_17_x86_64.manylinux2014_x86_64.whl (305 kB)\n",
      "\u001b[2K     \u001b[90m━━━━━━━━━━━━━━━━━━━━━━━━━━━━━━━━━━━━━━\u001b[0m \u001b[32m305.2/305.2 KB\u001b[0m \u001b[31m24.2 kB/s\u001b[0m eta \u001b[36m0:00:00\u001b[0ma \u001b[36m0:00:01\u001b[0m\n",
      "\u001b[?25hCollecting kiwisolver>=1.3.1\n",
      "  Downloading kiwisolver-1.4.5-cp310-cp310-manylinux_2_12_x86_64.manylinux2010_x86_64.whl (1.6 MB)\n",
      "\u001b[2K     \u001b[90m━━━━━━━━━━━━━━━━━━━━━━━━━━━━━━━━━━━━━━━━\u001b[0m \u001b[32m1.6/1.6 MB\u001b[0m \u001b[31m44.8 kB/s\u001b[0m eta \u001b[36m0:00:00\u001b[0m00:01\u001b[0m00:01\u001b[0mm\n",
      "\u001b[?25hCollecting fonttools>=4.22.0\n",
      "  Downloading fonttools-4.53.1-cp310-cp310-manylinux_2_17_x86_64.manylinux2014_x86_64.whl (4.6 MB)\n",
      "\u001b[2K     \u001b[90m━━━━━━━━━━━━━━━━━━━━━━━━━━━━━━━━━━━━━━━━\u001b[0m \u001b[32m4.6/4.6 MB\u001b[0m \u001b[31m90.7 kB/s\u001b[0m eta \u001b[36m0:00:00\u001b[0m00:01\u001b[0m00:02\u001b[0mm\n",
      "\u001b[?25hRequirement already satisfied: pyparsing>=2.3.1 in /usr/lib/python3/dist-packages (from matplotlib) (2.4.7)\n",
      "Collecting cycler>=0.10\n",
      "  Downloading cycler-0.12.1-py3-none-any.whl (8.3 kB)\n",
      "Requirement already satisfied: python-dateutil>=2.7 in /home/abhijit/.local/lib/python3.10/site-packages (from matplotlib) (2.9.0.post0)\n",
      "Requirement already satisfied: numpy>=1.23 in /home/abhijit/.local/lib/python3.10/site-packages (from matplotlib) (2.0.1)\n",
      "Requirement already satisfied: pillow>=8 in /usr/lib/python3/dist-packages (from matplotlib) (9.0.1)\n",
      "Requirement already satisfied: packaging>=20.0 in /home/abhijit/.local/lib/python3.10/site-packages (from matplotlib) (24.1)\n",
      "Requirement already satisfied: six>=1.5 in /usr/lib/python3/dist-packages (from python-dateutil>=2.7->matplotlib) (1.16.0)\n",
      "Installing collected packages: kiwisolver, fonttools, cycler, contourpy, matplotlib\n",
      "Successfully installed contourpy-1.2.1 cycler-0.12.1 fonttools-4.53.1 kiwisolver-1.4.5 matplotlib-3.9.2\n"
     ]
    }
   ],
   "source": [
    "!pip install -q -U google-generativeai\n",
    "!pip install python-dotenv\n",
    "!pip install pandas\n",
    "!pip install joblib\n",
    "!pip install matplotlib"
   ]
  },
  {
   "cell_type": "code",
   "execution_count": 174,
   "metadata": {},
   "outputs": [
    {
     "data": {
      "text/plain": [
       "True"
      ]
     },
     "execution_count": 174,
     "metadata": {},
     "output_type": "execute_result"
    }
   ],
   "source": [
    "from dotenv import load_dotenv\n",
    "\n",
    "# Load environment variables from .env file\n",
    "load_dotenv()"
   ]
  },
  {
   "cell_type": "code",
   "execution_count": 175,
   "metadata": {
    "id": "phApfNJ_JzD7"
   },
   "outputs": [
    {
     "name": "stdout",
     "output_type": "stream",
     "text": [
      "cleaned_10k_articles.csv\t\t      grouped_docs_110724.joblib\n",
      "docs_per_topic_28July.joblib\t\t      openai-request.py\n",
      "envAnnotation\t\t\t\t      __pycache__\n",
      "ethnic_dataset_exp0_5342_annotated_1-151.csv  result_annotations.csv\n",
      "ethnic_dataset_exp0_5342_annotated.csv\t      server.py\n",
      "ethnic_dataset_exp0_5342.csv\t\t      shuffled_50_annotation.zip\n",
      "first_100_annotation.zip\n"
     ]
    }
   ],
   "source": [
    "!ls ../annotation-tool/backend"
   ]
  },
  {
   "cell_type": "markdown",
   "metadata": {},
   "source": [
    "### Library Codes"
   ]
  },
  {
   "cell_type": "code",
   "execution_count": 176,
   "metadata": {},
   "outputs": [],
   "source": [
    "import os\n",
    "import google.generativeai as genai\n",
    "import json\n",
    "\n",
    "def get_response_from_gemini(articles):\n",
    "    genai.configure(api_key=os.environ[\"GEMINI_API_KEY\"])\n",
    "\n",
    "    # Create the model\n",
    "    generation_config = {\n",
    "      \"temperature\": 1,\n",
    "      \"top_p\": 0.95,\n",
    "      \"top_k\": 64,\n",
    "      \"max_output_tokens\": 8192,\n",
    "      \"response_mime_type\": \"text/plain\",\n",
    "    }\n",
    "    \n",
    "    model = genai.GenerativeModel(\n",
    "      model_name=\"gemini-1.5-flash\",\n",
    "      generation_config=generation_config,\n",
    "      # safety_settings = Adjust safety settings\n",
    "      # See https://ai.google.dev/gemini-api/docs/safety-settings\n",
    "    )\n",
    "    responses = []\n",
    "    for index,article in enumerate(articles):\n",
    "        response = model.generate_content([\n",
    "          \"You are a Bangla news article analyzer. I will give you a news article and you will say which genre(s) it belongs to. The genres are: Crime, Politics, Natual Disaster, Sciene & Environment, Government actions, Business & Economy, International Affairs, Education, Health, Sports, Protests, Culture, Entertainment, Lifestyle, Discourse. Additionally, you will also say if the description is Straight, Investigation, Commentary. Return me just a json of {\\\"genre\\\": GENRE, \\\"description_style\\\": STYLE}.\",\n",
    "          \"News article:  আন্তর্জাতিক\\n আদিবাসী দিবস উপলক্ষে বুধবার বিভিন্ন স্থানে সভা-সমাবেশ ও রযালি অনুষ্ঠিত \\nহয়েছে। উপজাতিদের\\n বিভিন্ন সংগঠন এসব কর্মসূচির আয়োজন করে। যুগান্তর ব্যুরো ও প্রতিনিধিদের \\nপাঠানো খবর-সিলেট ব্যুরো : রযালিতে সিলেট প্রেস ক্লাবের সভাপতি ইকরামুল \\nকবির, ইমজার সভাপতি আল আজাদসহ সিলেটের সাংস্কৃতিক অঙ্গনের ব্যক্তি ও উপজাতি\\n জনগোষ্ঠীর লোকজন ছাড়াও বিভিন্ন শ্রেণী-পেশার মানুষ অংশগ্রহণ করেন। এছাড়া \\nদিবসটি উপলক্ষে শাহজালাল বিজ্ঞান ও প্রযুক্তি বিশ্ববিদ্যালয়ে আলোচনা সভা \\nঅনুষ্ঠিত হয়েছে। ‘অ্যাসোসিয়েশন অব ইন্ডিজেনাস স্টুডেন্টস, সাস্ট’ ও \\nসমাজকর্ম বিভাগ আলাদা আলাদাভাবে দিবসটি উপলক্ষে রযালি, সেমিনার ও আলোচনা \\nসভার আয়োজন করে।ময়মনসিংহ ব্যুরো : অনুষ্ঠানের উদ্বোধন করেন জেলা পরিষদের \\nচেয়ারম্যান অধ্যাপক ইউসুফ খান পাঠান। বক্তব্য রাখেন হিন্দু বৌদ্ধ খ্রিস্টান\\n ঐক্য পরিষদের সভাপতি বিকাশ রায়, সিপিবি সভাপতি এমদাদুল হক মিল্লাত, মহিলা \\nপরিষদের সভানেত্রী ফেরদৌস আরা মাহমুদা হেলেন, হিল্লুুল নকরেক, অরণ্য-ই \\nচিরান, স্বর্ণকান্ত হাজং সাংবাদিক \\nশরীফুজ্জামান টিটু প্রমুখ।শেরপুর : বাগাছাস সভাপতি রুনু নকরেটের সভাপতিত্বে\\n অনুষ্ঠিত আলোচনা সভায় প্রধান অতিথি ছিলেন ঝিনাইগাতী উপজেলা চেয়ারম্যান \\nআমিনুল ইসলাম বাদশা। বক্তব্য রাখেন, উপজেলা ভাইস চেয়ারম্যান আমিরুর ইসলাম \\nমক্কু, বাগাছাসের কেন্দ্রীয় কমিটি সাবেক সভাপতি পবিত্র ম্র্রং, সাংবাদিক \\nরফিক মজিদ, উপজাতি ছাত্রনেতা নিরু চিরান, \\nরবি কোচ, সত্যজিৎ মৃ প্রমুখ।কলমাকান্দা (নেত্রকোনা) : হাটগোবিন্দপুর \\nবিদ্যালয় মাঠে অনুষ্ঠানে বক্তব্য রাখেন উপজেলা ভাইস চেয়ারম্যান কলি আক্তার,\\n পপি সিডস প্রোগ্রাম ম্যানেজার শরিফুল ইসলাম, টিউলিপ ম্রং, অশোক চিসিম, \\nইউলসন কুবি প্রমুখ।দুর্গাপুর (নেত্রকোনা) : রযালি শেষে টিডব্লিউএ’র সভাপতি \\nবঙ্কিম মানখিনের সভাপতিত্বে সভায় উপজাতি \\nনেতা সায়মন তজুর সঞ্চালনায় প্রধান অতিথি ছিলেন সহকারী কমিশনার ভূমি মো. \\nইয়ামিন হোসেন। বক্তব্য রাখেন ভারপ্রাপ্ত পুলিশ কর্মকর্তা মিজানুর রহমান, \\nআদিবাসী নারীনেত্রী স্বপ্না হাজং, লুদিয়া রুমা সাংমা, এনজিও সমন্বয় পরিষদের\\n সভাপতি মি. পঙ্কজ মারাক, স্বপন হাজং প্রমুখ।শ্রীমঙ্গল : বুধবার রযালি ও \\nপথসভার উদ্বোধন করেন বৃহত্তম আদিবাসী ফোরামের সহ-সভাপতি জিডিসন প্রধান \\nসুচিয়াং। উপস্থিত ছিলেন সংগঠনের মহাসচিব ফিলা পত্মি, চা জনগোষ্ঠী আদিবাসী\\n ফ্রন্টের সভাপতি পরিমল সিং বাড়াইক, খাসি সোসিয়াল কাউন্সিলের সাজু মারছিয়াং\\n প্রমুখ।ধোবাউড়া (ময়মনসিংহ) : আলোচনা সভায় বাগাছাস ধোবাউড়া শাখার সভাপতি \\nসাগর ডিব্রার সভাপতিত্বে বক্তব্য রাখেন ট্রাইবাল ওয়েলফেয়ার অ্যাসোসিয়েশনের \\nচেয়ারম্যান এডুয়ার্ট নাফাক, ভাইস চেয়ারম্যান হেরোথ চিরান, বাগাছাস \\nকেন্দ্রীয় প্রচার সম্পাদক শক্তি চিরান, ধোবাউড়া শাখার সম্পাদক ন্যান্সি \\nডিব্রা প্রমুখ।কলাপাড়া : সভায় সভাপতিত্ব করেন রাখাইন মংচো।\\n প্রধান অতিথির বক্তব্য রাখেন উপজেলা চেয়ারম্যান আবদুল মোতালেব তালুকদার। \\nবিশেষ অতিথি ছিলেন ইউএনও এবিএম সাদিকুর রহমান, কৃষি কর্মকর্তা মসিউর রহমান,\\n অধ্যক্ষ ড. শহীদুল ইসলাম বিশ্বাস, মাহমুদুর রহমান, সাংবাদিক জসিম পারভেজ, \\nরাখাইন চোথেন মং ও অংনয় প্রমুখ।হালুয়াঘাট (ময়মনসিংহ) : গারো\\n স্টুডন্ট ইউনিয়ন (গাসু) এবং সেন্টএন্ড্রুজ বয়েজ ও সেন্ট মেরিস গার্লস \\nসিএমডি হোস্টেলের নেতারা অংশগ্রহণে একটি রযালি হালুয়াঘাট বাজার প্রদক্ষিণ \\nকরে।\",\n",
    "          \"Genre: {'genre': ['Culture'],\\n'description_style': 'Commentary'}\",\n",
    "          \"News article:  গাইবান্ধার গোবিন্দগঞ্জের রংপুর চিনিকলের \\nসাহেবগঞ্জ ইক্ষু খামারে দেয়া কাঁটাতারের বেড়ার পিলার ভাংচুর করেছে \\nদুর্বৃত্তরা।সোমবার রাতে খামার সংলগ্ন জয়পুর পাড়ার দক্ষিণ অংশে দেয়া ২৬টি \\nপিলার ভাংচুর করা হয়।খামারের জমি সাঁওতালদের কাছ থেকে দখলমুক্ত করার পর মিল কর্তৃপক্ষ এই কাঁটাতারের বেড়া দেয়। এরপর সোমবার রাতে সাঁওতাল\\n পল্লী সংলগ্ন খামারের বেড়ার পিলার ভাংচুর করে দুর্বৃত্তরা।রংপুর সুগার \\nমিলের ব্যবস্থাপনা পরিচালক আব্দুল আউয়াল জানান, দুস্কৃতকারীরা রাতের আধারে \\nখামারের পশ্চিম অংশে সাঁওতাল পল্লী জয়পুর \\nপাড়া সংলগ্ন ২৬টি পিলার ভাংচুর করে। এ ঘটনায় ১৩ জনের নাম উল্লেখ করে \\nখামারের উপ-ব্যবস্থাপক মো. হুমায়ন কবির মঙ্গলবার রাতে গোবিন্দগঞ্জ থানায় \\nএকটি জিডি করেন।গোবিন্দগঞ্জ থানার ওসি সুব্রত কুমার সরকার বিষয়টি নিশ্চিত \\nকরে বলেন, ঘটনার বিষয়টি খতিয়ে দেখা হচ্ছে।গত ৬ নভেম্বর আদিবাসী সাঁওতালদের সঙ্গে আইনশৃংখলা বাহিনী চিনিকলের শ্রমিক-কর্মচারীদের সংঘর্ষের পর ইক্ষু খামার থেকে সাঁওতাল বসতি উচ্ছেদ, লুটপাট, গুলিতে ৩ সাঁওতাল নিহত হওয়ার ঘটনায় সেখানে এখনও অস্থিরতা রয়েছে।\",\n",
    "          \"Genre: {'genre': ['Discourse', 'Crime'],\\n'description_style': 'Investigative'}\",\n",
    "          f\"News article:  {article}\",\n",
    "          \"Genre: \",\n",
    "        ])\n",
    "        print(f\"{index}){response.text}\")\n",
    "        responses.append(response)\n",
    "    return responses\n",
    "\n",
    "def post_process_gemini_1_5_flash_response_to_json(text):\n",
    "    json_string = text.replace(\"```\", \"\").replace(\"json\",\"\").replace(\"\\n\",\"\").replace(\"'\", '\"')\n",
    "    json_output = json.loads(json_string)\n",
    "    return json_output"
   ]
  },
  {
   "cell_type": "markdown",
   "metadata": {},
   "source": [
    "### Ethnic Artciles"
   ]
  },
  {
   "cell_type": "code",
   "execution_count": 177,
   "metadata": {},
   "outputs": [
    {
     "data": {
      "text/html": [
       "<div>\n",
       "<style scoped>\n",
       "    .dataframe tbody tr th:only-of-type {\n",
       "        vertical-align: middle;\n",
       "    }\n",
       "\n",
       "    .dataframe tbody tr th {\n",
       "        vertical-align: top;\n",
       "    }\n",
       "\n",
       "    .dataframe thead th {\n",
       "        text-align: right;\n",
       "    }\n",
       "</style>\n",
       "<table border=\"1\" class=\"dataframe\">\n",
       "  <thead>\n",
       "    <tr style=\"text-align: right;\">\n",
       "      <th></th>\n",
       "      <th>Unnamed: 0</th>\n",
       "      <th>content</th>\n",
       "    </tr>\n",
       "  </thead>\n",
       "  <tbody>\n",
       "    <tr>\n",
       "      <th>0</th>\n",
       "      <td>0</td>\n",
       "      <td>আন্তর্জাতিক আদিবাসী দিবস উপলক্ষে বুধবার বিভিন্...</td>\n",
       "    </tr>\n",
       "    <tr>\n",
       "      <th>1</th>\n",
       "      <td>1</td>\n",
       "      <td>রমেল হত্যায় মানবাধিকার কমিশনের তদন্ত শুরুরাঙ্গ...</td>\n",
       "    </tr>\n",
       "    <tr>\n",
       "      <th>2</th>\n",
       "      <td>2</td>\n",
       "      <td>সিনিয়র শিক্ষক, প্রগতি মডেল স্কুল অ্যান্ড কলেজ,...</td>\n",
       "    </tr>\n",
       "    <tr>\n",
       "      <th>3</th>\n",
       "      <td>3</td>\n",
       "      <td>আফরোজা বেগমসিনিয়র শিক্ষক, উত্তরা হাইস্কুল অ্যা...</td>\n",
       "    </tr>\n",
       "    <tr>\n",
       "      <th>4</th>\n",
       "      <td>4</td>\n",
       "      <td>নারায়ণগঞ্জের রূপগঞ্জ ও ফতুল্লা, গাজীপুরের কালি...</td>\n",
       "    </tr>\n",
       "  </tbody>\n",
       "</table>\n",
       "</div>"
      ],
      "text/plain": [
       "   Unnamed: 0                                            content\n",
       "0           0  আন্তর্জাতিক আদিবাসী দিবস উপলক্ষে বুধবার বিভিন্...\n",
       "1           1  রমেল হত্যায় মানবাধিকার কমিশনের তদন্ত শুরুরাঙ্গ...\n",
       "2           2  সিনিয়র শিক্ষক, প্রগতি মডেল স্কুল অ্যান্ড কলেজ,...\n",
       "3           3  আফরোজা বেগমসিনিয়র শিক্ষক, উত্তরা হাইস্কুল অ্যা...\n",
       "4           4  নারায়ণগঞ্জের রূপগঞ্জ ও ফতুল্লা, গাজীপুরের কালি..."
      ]
     },
     "execution_count": 177,
     "metadata": {},
     "output_type": "execute_result"
    }
   ],
   "source": [
    "import pandas as pd\n",
    "ethnic_df = pd.read_csv(\"../annotation-tool/backend/ethnic_dataset_exp0_5342.csv\")\n",
    "ethnic_df.head()"
   ]
  },
  {
   "cell_type": "code",
   "execution_count": 190,
   "metadata": {},
   "outputs": [],
   "source": [
    "N = 1000"
   ]
  },
  {
   "cell_type": "code",
   "execution_count": 179,
   "metadata": {},
   "outputs": [
    {
     "name": "stdout",
     "output_type": "stream",
     "text": [
      "0)```json\n",
      "{\"genre\": [\"Culture\"], \"description_style\": \"Straight\"}\n",
      "```\n",
      "1)```json\n",
      "{\"genre\": [\"Crime\", \"Politics\", \"Protests\", \"Discourse\"], \"description_style\": \"Investigative\"}\n",
      "```\n"
     ]
    }
   ],
   "source": [
    "responses = get_response_from_gemini(ethnic_df[\"content\"].values.tolist()[:N])"
   ]
  },
  {
   "cell_type": "code",
   "execution_count": 180,
   "metadata": {},
   "outputs": [
    {
     "data": {
      "text/html": [
       "<div>\n",
       "<style scoped>\n",
       "    .dataframe tbody tr th:only-of-type {\n",
       "        vertical-align: middle;\n",
       "    }\n",
       "\n",
       "    .dataframe tbody tr th {\n",
       "        vertical-align: top;\n",
       "    }\n",
       "\n",
       "    .dataframe thead th {\n",
       "        text-align: right;\n",
       "    }\n",
       "</style>\n",
       "<table border=\"1\" class=\"dataframe\">\n",
       "  <thead>\n",
       "    <tr style=\"text-align: right;\">\n",
       "      <th></th>\n",
       "      <th>Unnamed: 0</th>\n",
       "      <th>content</th>\n",
       "      <th>Genre</th>\n",
       "      <th>Description Style</th>\n",
       "    </tr>\n",
       "  </thead>\n",
       "  <tbody>\n",
       "    <tr>\n",
       "      <th>0</th>\n",
       "      <td>0</td>\n",
       "      <td>আন্তর্জাতিক আদিবাসী দিবস উপলক্ষে বুধবার বিভিন্...</td>\n",
       "      <td>[Culture]</td>\n",
       "      <td>Straight</td>\n",
       "    </tr>\n",
       "    <tr>\n",
       "      <th>1</th>\n",
       "      <td>1</td>\n",
       "      <td>রমেল হত্যায় মানবাধিকার কমিশনের তদন্ত শুরুরাঙ্গ...</td>\n",
       "      <td>[Crime, Politics, Protests, Discourse]</td>\n",
       "      <td>Investigative</td>\n",
       "    </tr>\n",
       "  </tbody>\n",
       "</table>\n",
       "</div>"
      ],
      "text/plain": [
       "   Unnamed: 0                                            content  \\\n",
       "0           0  আন্তর্জাতিক আদিবাসী দিবস উপলক্ষে বুধবার বিভিন্...   \n",
       "1           1  রমেল হত্যায় মানবাধিকার কমিশনের তদন্ত শুরুরাঙ্গ...   \n",
       "\n",
       "                                    Genre Description Style  \n",
       "0                               [Culture]          Straight  \n",
       "1  [Crime, Politics, Protests, Discourse]     Investigative  "
      ]
     },
     "execution_count": 180,
     "metadata": {},
     "output_type": "execute_result"
    }
   ],
   "source": [
    "ethnic_df = ethnic_df.iloc[:N,]\n",
    "ethnic_df[\"Genre\"] = [post_process_gemini_1_5_flash_response_to_json(response.text)[\"genre\"] for response in responses]\n",
    "ethnic_df[\"Description Style\"] = [post_process_gemini_1_5_flash_response_to_json(response.text)[\"description_style\"] for response in responses]\n",
    "\n",
    "ethnic_df.head()"
   ]
  },
  {
   "cell_type": "code",
   "execution_count": 181,
   "metadata": {},
   "outputs": [],
   "source": [
    "ethnic_df.to_csv(f\"../data/ethnic_100_gemini15Flash_annotated_{EXPERIMENT_IDENTIFIER}.csv\")"
   ]
  },
  {
   "cell_type": "code",
   "execution_count": 182,
   "metadata": {},
   "outputs": [
    {
     "data": {
      "image/png": "[encoded data removed]",
      "text/plain": [
       "<Figure size 400x300 with 1 Axes>"
      ]
     },
     "metadata": {},
     "output_type": "display_data"
    }
   ],
   "source": [
    "import matplotlib.pyplot as plt\n",
    "\n",
    "style_counts = ethnic_df['Description Style'].value_counts()\n",
    "\n",
    "plt.figure(figsize=(4, 3))\n",
    "plt.title('Frequency of Description Styles (Ethnic Articles)')\n",
    "plt.xlabel('Description Style')\n",
    "plt.ylabel('Frequency')\n",
    "plt.savefig(f'../data/description_style_frequency_ethnic5132_100_{EXPERIMENT_IDENTIFIER}.png')\n",
    "plt.show()"
   ]
  },
  {
   "cell_type": "code",
   "execution_count": 183,
   "metadata": {},
   "outputs": [
    {
     "data": {
      "image/png": "[encoded data removed]",
      "text/plain": [
       "<Figure size 600x400 with 1 Axes>"
      ]
     },
     "metadata": {},
     "output_type": "display_data"
    }
   ],
   "source": [
    "from collections import Counter\n",
    "all_genres = [genre for sublist in ethnic_df['Genre'] for genre in sublist]\n",
    "\n",
    "# Count the frequency of each genre\n",
    "genre_counts = Counter(all_genres)\n",
    "\n",
    "# Plot the data\n",
    "plt.figure(figsize=(6, 4))\n",
    "plt.bar(genre_counts.keys(), genre_counts.values(), color='skyblue')\n",
    "plt.title('Frequency of Genres')\n",
    "plt.xlabel('Genre')\n",
    "plt.ylabel('Frequency')\n",
    "plt.xticks(rotation=45, ha='right')\n",
    "plt.grid(axis='y', linestyle='--', alpha=0.7)\n",
    "plt.savefig(f'../data/genre_frequency_ethnic5132_100_{EXPERIMENT_IDENTIFIER}.png')\n",
    "plt.show()"
   ]
  },
  {
   "cell_type": "markdown",
   "metadata": {},
   "source": [
    "### Non Ethnic Data"
   ]
  },
  {
   "cell_type": "code",
   "execution_count": 184,
   "metadata": {},
   "outputs": [
    {
     "data": {
      "text/html": [
       "<div>\n",
       "<style scoped>\n",
       "    .dataframe tbody tr th:only-of-type {\n",
       "        vertical-align: middle;\n",
       "    }\n",
       "\n",
       "    .dataframe tbody tr th {\n",
       "        vertical-align: top;\n",
       "    }\n",
       "\n",
       "    .dataframe thead th {\n",
       "        text-align: right;\n",
       "    }\n",
       "</style>\n",
       "<table border=\"1\" class=\"dataframe\">\n",
       "  <thead>\n",
       "    <tr style=\"text-align: right;\">\n",
       "      <th></th>\n",
       "      <th>content</th>\n",
       "    </tr>\n",
       "  </thead>\n",
       "  <tbody>\n",
       "    <tr>\n",
       "      <th>0</th>\n",
       "      <td>&lt;p&gt;কার্তিক শেষ হলো কাল। আজ অগ্রহায়ণের প্রথম দ...</td>\n",
       "    </tr>\n",
       "    <tr>\n",
       "      <th>1</th>\n",
       "      <td>&lt;p&gt;রাজধানী ঢাকার ২১টি এলাকা চিকুনগুনিয়া বিস্তা...</td>\n",
       "    </tr>\n",
       "    <tr>\n",
       "      <th>2</th>\n",
       "      <td>&lt;p&gt;আজ বৃহস্পতিবার সচিবালয়ে স্বাস্থ্য অধিদপ্তরে...</td>\n",
       "    </tr>\n",
       "    <tr>\n",
       "      <th>3</th>\n",
       "      <td>&lt;p&gt;চিকুনগুনিয়া ও ডেঙ্গু প্রতিরোধে আতঙ্ক না ছড়ি...</td>\n",
       "    </tr>\n",
       "    <tr>\n",
       "      <th>4</th>\n",
       "      <td>&lt;p&gt;সভায় স্বাস্থ্যসেবা বিভাগের সচিব সিরাজুল হক ...</td>\n",
       "    </tr>\n",
       "  </tbody>\n",
       "</table>\n",
       "</div>"
      ],
      "text/plain": [
       "                                             content\n",
       "0  <p>কার্তিক শেষ হলো কাল। আজ অগ্রহায়ণের প্রথম দ...\n",
       "1  <p>রাজধানী ঢাকার ২১টি এলাকা চিকুনগুনিয়া বিস্তা...\n",
       "2  <p>আজ বৃহস্পতিবার সচিবালয়ে স্বাস্থ্য অধিদপ্তরে...\n",
       "3  <p>চিকুনগুনিয়া ও ডেঙ্গু প্রতিরোধে আতঙ্ক না ছড়ি...\n",
       "4  <p>সভায় স্বাস্থ্যসেবা বিভাগের সচিব সিরাজুল হক ..."
      ]
     },
     "execution_count": 184,
     "metadata": {},
     "output_type": "execute_result"
    }
   ],
   "source": [
    "nonethnic_articles = joblib.load(\"../data/nonethnic_dataset.joblib\")\n",
    "nonethnic_df = pd.DataFrame()\n",
    "nonethnic_df[\"content\"] = nonethnic_articles\n",
    "nonethnic_df.head()"
   ]
  },
  {
   "cell_type": "code",
   "execution_count": 185,
   "metadata": {},
   "outputs": [
    {
     "name": "stdout",
     "output_type": "stream",
     "text": [
      "0)```json\n",
      "{\"genre\": [\"Culture\", \"Entertainment\"], \"description_style\": \"Straight\"}\n",
      "```\n",
      "1)```json\n",
      "{\"genre\": [\"Health\"], \"description_style\": \"Straight\"}\n",
      "```\n"
     ]
    }
   ],
   "source": [
    "responses = get_response_from_gemini(nonethnic_df[\"content\"].values.tolist()[:N])"
   ]
  },
  {
   "cell_type": "code",
   "execution_count": 186,
   "metadata": {},
   "outputs": [
    {
     "data": {
      "text/html": [
       "<div>\n",
       "<style scoped>\n",
       "    .dataframe tbody tr th:only-of-type {\n",
       "        vertical-align: middle;\n",
       "    }\n",
       "\n",
       "    .dataframe tbody tr th {\n",
       "        vertical-align: top;\n",
       "    }\n",
       "\n",
       "    .dataframe thead th {\n",
       "        text-align: right;\n",
       "    }\n",
       "</style>\n",
       "<table border=\"1\" class=\"dataframe\">\n",
       "  <thead>\n",
       "    <tr style=\"text-align: right;\">\n",
       "      <th></th>\n",
       "      <th>content</th>\n",
       "      <th>Genre</th>\n",
       "      <th>Description Style</th>\n",
       "    </tr>\n",
       "  </thead>\n",
       "  <tbody>\n",
       "    <tr>\n",
       "      <th>0</th>\n",
       "      <td>&lt;p&gt;কার্তিক শেষ হলো কাল। আজ অগ্রহায়ণের প্রথম দ...</td>\n",
       "      <td>[Culture, Entertainment]</td>\n",
       "      <td>Straight</td>\n",
       "    </tr>\n",
       "    <tr>\n",
       "      <th>1</th>\n",
       "      <td>&lt;p&gt;রাজধানী ঢাকার ২১টি এলাকা চিকুনগুনিয়া বিস্তা...</td>\n",
       "      <td>[Health]</td>\n",
       "      <td>Straight</td>\n",
       "    </tr>\n",
       "  </tbody>\n",
       "</table>\n",
       "</div>"
      ],
      "text/plain": [
       "                                             content  \\\n",
       "0  <p>কার্তিক শেষ হলো কাল। আজ অগ্রহায়ণের প্রথম দ...   \n",
       "1  <p>রাজধানী ঢাকার ২১টি এলাকা চিকুনগুনিয়া বিস্তা...   \n",
       "\n",
       "                      Genre Description Style  \n",
       "0  [Culture, Entertainment]          Straight  \n",
       "1                  [Health]          Straight  "
      ]
     },
     "execution_count": 186,
     "metadata": {},
     "output_type": "execute_result"
    }
   ],
   "source": [
    "nonethnic_df = nonethnic_df.iloc[:N, ]\n",
    "nonethnic_df[\"Genre\"] = [post_process_gemini_1_5_flash_response_to_json(response.text)[\"genre\"] for response in responses]\n",
    "nonethnic_df[\"Description Style\"] = [post_process_gemini_1_5_flash_response_to_json(response.text)[\"description_style\"] for response in responses]\n",
    "\n",
    "nonethnic_df.head()"
   ]
  },
  {
   "cell_type": "code",
   "execution_count": 187,
   "metadata": {},
   "outputs": [],
   "source": [
    "nonethnic_df.to_csv(f\"../data/nonethnic_100_gemini15Flash_annotated_{EXPERIMENT_IDENTIFIER}.csv\")"
   ]
  },
  {
   "cell_type": "code",
   "execution_count": 188,
   "metadata": {},
   "outputs": [
    {
     "data": {
      "image/png": "[encoded data removed]",
      "text/plain": [
       "<Figure size 800x600 with 1 Axes>"
      ]
     },
     "metadata": {},
     "output_type": "display_data"
    }
   ],
   "source": [
    "style_counts = nonethnic_df['Description Style'].value_counts()\n",
    "\n",
    "# Plot the data\n",
    "plt.figure(figsize=(8, 6))\n",
    "style_counts.plot(kind='bar', color='skyblue')\n",
    "plt.title('Frequency of Description Styles')\n",
    "plt.xlabel('Description Style')\n",
    "plt.ylabel('Frequency')\n",
    "plt.xticks(rotation=45)\n",
    "plt.grid(axis='y', linestyle='--', alpha=0.7)\n",
    "plt.savefig(f'../data/description_style_frequency_nonethnic5133_100_{EXPERIMENT_IDENTIFIER}.png')\n",
    "plt.show()"
   ]
  },
  {
   "cell_type": "code",
   "execution_count": 189,
   "metadata": {},
   "outputs": [
    {
     "data": {
      "image/png": "[encoded data removed]",
      "text/plain": [
       "<Figure size 1200x800 with 1 Axes>"
      ]
     },
     "metadata": {},
     "output_type": "display_data"
    }
   ],
   "source": [
    "from collections import Counter\n",
    "all_genres = [genre for sublist in nonethnic_df['Genre'] for genre in sublist]\n",
    "\n",
    "# Count the frequency of each genre\n",
    "genre_counts = Counter(all_genres)\n",
    "\n",
    "# Plot the data\n",
    "plt.figure(figsize=(12, 8))\n",
    "plt.bar(genre_counts.keys(), genre_counts.values(), color='skyblue')\n",
    "plt.title('Frequency of Genres')\n",
    "plt.xlabel('Genre')\n",
    "plt.ylabel('Frequency')\n",
    "plt.xticks(rotation=45, ha='right')\n",
    "plt.grid(axis='y', linestyle='--', alpha=0.7)\n",
    "plt.savefig(f'../data/genre_frequency_nonethnic5133_100_{EXPERIMENT_IDENTIFIER}.png')\n",
    "plt.show()"
   ]
  },
  {
   "cell_type": "code",
   "execution_count": null,
   "metadata": {},
   "outputs": [],
   "source": []
  }
 ],
 "metadata": {
  "colab": {
   "provenance": []
  },
  "kernelspec": {
   "display_name": "Python 3 (ipykernel)",
   "language": "python",
   "name": "python3"
  },
  "language_info": {
   "codemirror_mode": {
    "name": "ipython",
    "version": 3
   },
   "file_extension": ".py",
   "mimetype": "text/x-python",
   "name": "python",
   "nbconvert_exporter": "python",
   "pygments_lexer": "ipython3",
   "version": "3.10.12"
  }
 },
 "nbformat": 4,
 "nbformat_minor": 4
}
