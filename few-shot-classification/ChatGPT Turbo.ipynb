{
 "cells": [
  {
   "cell_type": "code",
   "execution_count": 1,
   "id": "1dc74706-decd-4308-9e6a-93f802c8da7a",
   "metadata": {},
   "outputs": [],
   "source": [
    "EXPERIMENT_IDENTIFIER = \"prompt_experiment_1\""
   ]
  },
  {
   "cell_type": "code",
   "execution_count": 2,
   "id": "f4d22d6b-3825-4e6b-bf89-134a0dd360e9",
   "metadata": {},
   "outputs": [],
   "source": [
    "N = 5"
   ]
  },
  {
   "cell_type": "code",
   "execution_count": 3,
   "id": "abaae08d-414d-49d3-8638-ab95a2f32d5e",
   "metadata": {},
   "outputs": [
    {
     "data": {
      "text/html": [
       "<div>\n",
       "<style scoped>\n",
       "    .dataframe tbody tr th:only-of-type {\n",
       "        vertical-align: middle;\n",
       "    }\n",
       "\n",
       "    .dataframe tbody tr th {\n",
       "        vertical-align: top;\n",
       "    }\n",
       "\n",
       "    .dataframe thead th {\n",
       "        text-align: right;\n",
       "    }\n",
       "</style>\n",
       "<table border=\"1\" class=\"dataframe\">\n",
       "  <thead>\n",
       "    <tr style=\"text-align: right;\">\n",
       "      <th></th>\n",
       "      <th>Unnamed: 0</th>\n",
       "      <th>content</th>\n",
       "    </tr>\n",
       "  </thead>\n",
       "  <tbody>\n",
       "    <tr>\n",
       "      <th>0</th>\n",
       "      <td>0</td>\n",
       "      <td>রমেল হত্যায় মানবাধিকার কমিশনের তদন্ত শুরুরাঙ্গ...</td>\n",
       "    </tr>\n",
       "    <tr>\n",
       "      <th>1</th>\n",
       "      <td>1</td>\n",
       "      <td>নারায়ণগঞ্জের রূপগঞ্জ ও ফতুল্লা, গাজীপুরের কালি...</td>\n",
       "    </tr>\n",
       "    <tr>\n",
       "      <th>2</th>\n",
       "      <td>2</td>\n",
       "      <td>গাইবান্ধার গোবিন্দগঞ্জের রংপুর চিনিকলের সাহেবগ...</td>\n",
       "    </tr>\n",
       "    <tr>\n",
       "      <th>3</th>\n",
       "      <td>3</td>\n",
       "      <td>চাঞ্চল্যকর পিলখানা হত্যা মামলায় ডেথ রেফারেন্স ...</td>\n",
       "    </tr>\n",
       "    <tr>\n",
       "      <th>4</th>\n",
       "      <td>4</td>\n",
       "      <td>অবাধে মাটি কেটে নেয়ার ধ্বংসের দ্বারপ্রান্তে ধো...</td>\n",
       "    </tr>\n",
       "    <tr>\n",
       "      <th>...</th>\n",
       "      <td>...</td>\n",
       "      <td>...</td>\n",
       "    </tr>\n",
       "    <tr>\n",
       "      <th>4888</th>\n",
       "      <td>4888</td>\n",
       "      <td>খাগড়াছড়ির দীঘিনালায় জেএসএস (এমএন লারমা) সমর্থি...</td>\n",
       "    </tr>\n",
       "    <tr>\n",
       "      <th>4889</th>\n",
       "      <td>4889</td>\n",
       "      <td>শান্তি-সম্প্রীতি স্থাপনে দুই দশক আগে পার্বত্য ...</td>\n",
       "    </tr>\n",
       "    <tr>\n",
       "      <th>4890</th>\n",
       "      <td>4890</td>\n",
       "      <td>জনপ্রিয় ম্যাগাজিন অনুষ্ঠান ‘ইত্যাদি’ আজ শুক্রব...</td>\n",
       "    </tr>\n",
       "    <tr>\n",
       "      <th>4891</th>\n",
       "      <td>4891</td>\n",
       "      <td>সরকারি বেতন স্কেলের নবম থেকে ১৩তম গ্রেড পর্যন্...</td>\n",
       "    </tr>\n",
       "    <tr>\n",
       "      <th>4892</th>\n",
       "      <td>4892</td>\n",
       "      <td>রাঙামাটির নানিয়াচরে ২৪ ঘণ্টার ব্যবধানে চাঞ্চল্...</td>\n",
       "    </tr>\n",
       "  </tbody>\n",
       "</table>\n",
       "<p>4893 rows × 2 columns</p>\n",
       "</div>"
      ],
      "text/plain": [
       "      Unnamed: 0                                            content\n",
       "0              0  রমেল হত্যায় মানবাধিকার কমিশনের তদন্ত শুরুরাঙ্গ...\n",
       "1              1  নারায়ণগঞ্জের রূপগঞ্জ ও ফতুল্লা, গাজীপুরের কালি...\n",
       "2              2  গাইবান্ধার গোবিন্দগঞ্জের রংপুর চিনিকলের সাহেবগ...\n",
       "3              3  চাঞ্চল্যকর পিলখানা হত্যা মামলায় ডেথ রেফারেন্স ...\n",
       "4              4  অবাধে মাটি কেটে নেয়ার ধ্বংসের দ্বারপ্রান্তে ধো...\n",
       "...          ...                                                ...\n",
       "4888        4888  খাগড়াছড়ির দীঘিনালায় জেএসএস (এমএন লারমা) সমর্থি...\n",
       "4889        4889  শান্তি-সম্প্রীতি স্থাপনে দুই দশক আগে পার্বত্য ...\n",
       "4890        4890  জনপ্রিয় ম্যাগাজিন অনুষ্ঠান ‘ইত্যাদি’ আজ শুক্রব...\n",
       "4891        4891  সরকারি বেতন স্কেলের নবম থেকে ১৩তম গ্রেড পর্যন্...\n",
       "4892        4892  রাঙামাটির নানিয়াচরে ২৪ ঘণ্টার ব্যবধানে চাঞ্চল্...\n",
       "\n",
       "[4893 rows x 2 columns]"
      ]
     },
     "execution_count": 3,
     "metadata": {},
     "output_type": "execute_result"
    }
   ],
   "source": [
    "import pandas as pd\n",
    "ethnic_df = pd.read_csv(\"../data/ethnic_dataset_4893_after_removing_rakhain.csv\")\n",
    "ethnic_df"
   ]
  },
  {
   "cell_type": "code",
   "execution_count": 4,
   "id": "9339cce9-8873-443c-af7b-469ffcd6c825",
   "metadata": {},
   "outputs": [
    {
     "data": {
      "text/plain": [
       "True"
      ]
     },
     "execution_count": 4,
     "metadata": {},
     "output_type": "execute_result"
    }
   ],
   "source": [
    "from dotenv import load_dotenv\n",
    "\n",
    "# Load environment variables from .env file\n",
    "load_dotenv()"
   ]
  },
  {
   "cell_type": "markdown",
   "id": "af9dfafb-e504-429d-b06f-3517986e6a2b",
   "metadata": {},
   "source": [
    "### Loading model"
   ]
  },
  {
   "cell_type": "code",
   "execution_count": 5,
   "id": "7ebd2f22-410f-4c66-b33b-60812821051a",
   "metadata": {},
   "outputs": [
    {
     "name": "stdout",
     "output_type": "stream",
     "text": [
      "Defaulting to user installation because normal site-packages is not writeable\n",
      "Requirement already satisfied: openai in /home/abhijit/.local/lib/python3.10/site-packages (1.43.0)\n",
      "Requirement already satisfied: jiter<1,>=0.4.0 in /home/abhijit/.local/lib/python3.10/site-packages (from openai) (0.5.0)\n",
      "Requirement already satisfied: tqdm>4 in /home/abhijit/.local/lib/python3.10/site-packages (from openai) (4.66.5)\n",
      "Requirement already satisfied: anyio<5,>=3.5.0 in /home/abhijit/.local/lib/python3.10/site-packages (from openai) (4.4.0)\n",
      "Requirement already satisfied: typing-extensions<5,>=4.11 in /home/abhijit/.local/lib/python3.10/site-packages (from openai) (4.12.2)\n",
      "Requirement already satisfied: httpx<1,>=0.23.0 in /home/abhijit/.local/lib/python3.10/site-packages (from openai) (0.27.0)\n",
      "Requirement already satisfied: sniffio in /home/abhijit/.local/lib/python3.10/site-packages (from openai) (1.3.1)\n",
      "Requirement already satisfied: distro<2,>=1.7.0 in /usr/lib/python3/dist-packages (from openai) (1.7.0)\n",
      "Requirement already satisfied: pydantic<3,>=1.9.0 in /home/abhijit/.local/lib/python3.10/site-packages (from openai) (2.8.2)\n",
      "Requirement already satisfied: exceptiongroup>=1.0.2 in /home/abhijit/.local/lib/python3.10/site-packages (from anyio<5,>=3.5.0->openai) (1.2.2)\n",
      "Requirement already satisfied: idna>=2.8 in /usr/lib/python3/dist-packages (from anyio<5,>=3.5.0->openai) (3.3)\n",
      "Requirement already satisfied: httpcore==1.* in /home/abhijit/.local/lib/python3.10/site-packages (from httpx<1,>=0.23.0->openai) (1.0.5)\n",
      "Requirement already satisfied: certifi in /usr/lib/python3/dist-packages (from httpx<1,>=0.23.0->openai) (2020.6.20)\n",
      "Requirement already satisfied: h11<0.15,>=0.13 in /home/abhijit/.local/lib/python3.10/site-packages (from httpcore==1.*->httpx<1,>=0.23.0->openai) (0.14.0)\n",
      "Requirement already satisfied: annotated-types>=0.4.0 in /home/abhijit/.local/lib/python3.10/site-packages (from pydantic<3,>=1.9.0->openai) (0.7.0)\n",
      "Requirement already satisfied: pydantic-core==2.20.1 in /home/abhijit/.local/lib/python3.10/site-packages (from pydantic<3,>=1.9.0->openai) (2.20.1)\n",
      "Note: you may need to restart the kernel to use updated packages.\n"
     ]
    }
   ],
   "source": [
    "pip install openai"
   ]
  },
  {
   "cell_type": "code",
   "execution_count": 6,
   "id": "a109126e-927b-4b08-a268-17150d2afef1",
   "metadata": {},
   "outputs": [
    {
     "name": "stdout",
     "output_type": "stream",
     "text": [
      "Your working tree currently has untracked changes and Grit will rewrite files in place. Do you want to proceed? [y/N] \u001b[?25l"
     ]
    }
   ],
   "source": [
    "!openai migrate"
   ]
  },
  {
   "cell_type": "code",
   "execution_count": 7,
   "id": "419fc536-53e5-48da-8c46-1db1ce978c22",
   "metadata": {},
   "outputs": [
    {
     "name": "stdout",
     "output_type": "stream",
     "text": [
      "Defaulting to user installation because normal site-packages is not writeable\n",
      "Requirement already satisfied: rich in /home/abhijit/.local/lib/python3.10/site-packages (13.8.0)\n",
      "Requirement already satisfied: pygments<3.0.0,>=2.13.0 in /home/abhijit/.local/lib/python3.10/site-packages (from rich) (2.18.0)\n",
      "Requirement already satisfied: markdown-it-py>=2.2.0 in /home/abhijit/.local/lib/python3.10/site-packages (from rich) (3.0.0)\n",
      "Requirement already satisfied: mdurl~=0.1 in /home/abhijit/.local/lib/python3.10/site-packages (from markdown-it-py>=2.2.0->rich) (0.1.2)\n",
      "Note: you may need to restart the kernel to use updated packages.\n"
     ]
    }
   ],
   "source": [
    "pip install rich"
   ]
  },
  {
   "cell_type": "code",
   "execution_count": 30,
   "id": "7f9ca690-6b9d-4f08-87a1-9e6425e12708",
   "metadata": {},
   "outputs": [],
   "source": [
    "from openai import OpenAI\n",
    "import json\n",
    "\n",
    "client = OpenAI()\n",
    "\n",
    "def get_response(news_article):\n",
    "    completion = client.chat.completions.create(\n",
    "        model=\"gpt-3.5-turbo\",\n",
    "        messages=[\n",
    "            {\"role\": \"system\", \"content\": prompt},\n",
    "            {\"role\": \"user\", \"content\": news_article}\n",
    "        ]\n",
    "    )\n",
    "    return completion.choices[0].message.content\n",
    "    \n",
    "def post_process_chatgpt_turbo_3_5_response_to_json(text):\n",
    "    json_string = text.replace(\"```\", \"\").replace(\"json\",\"\").replace(\"\\n\",\"\").replace(\"'\", '\"').replace(\"\\t\",\"\")\n",
    "    #print(f\"Midway: {json_string}\")\n",
    "    json_output = json.loads(json_string)\n",
    "    return json_output"
   ]
  },
  {
   "cell_type": "code",
   "execution_count": 53,
   "id": "95f0d7ce-8b98-4707-860b-31045a982396",
   "metadata": {},
   "outputs": [
    {
     "name": "stdout",
     "output_type": "stream",
     "text": [
      "You are a Bangla news article analyzer. I will give you a news article and you will say which genre(s) it belongs to, whether it is an article about ethnic people or not, its description style, sentiment and how ethnic people are featured in that article if its an ethnic article.\n",
      "\n",
      "  The genres are:  Politics, Crime, International Affairs,  Business & Economy,  Sports,  Culture & Entertainment,  Jobs,  Lifestyle,  Health,  Environment,  Local news,  Education,  Technology,  Religion,  Science,  Protests and Social Movements, Govt Actions.\n",
      "  Journalism styles are: Straight , Investigative, Commentary. Straight journalism focuses on delivering information without any personal bias or interpretation. Commentary journalism focuses on providing an opinion or analysis, often with a specific angle or bias. Investigative Journalism uncovers hidden information through in-depth research and reporting, often with the goal of revealing systemic issues or wrongdoing.\n",
      "  Identify how ethnic people are featured in that article, choosing from the following categories: Subject, Spokesperson, Expert or Commentator, Personal Experience, Popular Opinion, Eyewitness.\n",
      "  The sentiments are: Positive, Negative, Neutral\n",
      "  Tell me about Agenda setting, framing, priming, mobilizing about it in one word each.\n",
      "  An article is not about ethnic people if it only mentions their name on the passing. It should return true or false.\n",
      "\n",
      "Return me just a json of {\"genre\": GENRE, \"journalism_style\": STYLE, \"featured\": FEATURE_CATEGORY, \"is_ethnic\": true, \"sentiment\": \"Positive\", \"agenda_setting\": AGENDA_SETTING, \"framing\": FRAMING, \"priming\": PRIMING, \"mobilizing\": MOBILIZIING}.\n",
      "\n"
     ]
    }
   ],
   "source": [
    "with open('prompt.txt', 'r') as file:\n",
    "    prompt = file.read()\n",
    "print(prompt)"
   ]
  },
  {
   "cell_type": "code",
   "execution_count": 54,
   "id": "0df38835-a687-45e7-9b9d-1deb18a22a72",
   "metadata": {},
   "outputs": [
    {
     "name": "stderr",
     "output_type": "stream",
     "text": [
      "100%|███████████████████████████████████████████████████████████████████████████████████████████████████████████████████| 5/5 [00:08<00:00,  1.79s/it]\n"
     ]
    }
   ],
   "source": [
    "from tqdm import tqdm\n",
    "\n",
    "articles = ethnic_df[\"content\"].values.tolist()\n",
    "responses = []\n",
    "for article in tqdm(articles[:N]):\n",
    "    responses.append(get_response(article))"
   ]
  },
  {
   "cell_type": "code",
   "execution_count": 55,
   "id": "9d750444-223a-4192-af69-624717321c2b",
   "metadata": {},
   "outputs": [
    {
     "data": {
      "text/plain": [
       "['{\\n\"genre\": \"Crime\",\\n\"journalism_style\": \"Straight\",\\n\"featured\": \"Subject\",\\n\"is_ethnic\": true,\\n\"sentiment\": \"Negative\",\\n\"agenda_setting\": \"Investigation\",\\n\"framing\": \"Criminalizing\",\\n\"priming\": \"Legal\",\\n\"mobilizing\": \"Community\"\\n}',\n",
       " '{\\n  \"genre\": \"Crime\",\\n  \"journalism_style\": \"Straight\",\\n  \"featured\": \"Eyewitness\",\\n  \"is_ethnic\": false,\\n  \"sentiment\": \"Negative\",\\n  \"agenda_setting\": \"Critical\",\\n  \"framing\": \"Informative\",\\n  \"priming\": \"Awareness\",\\n  \"mobilizing\": \"Action\"\\n}',\n",
       " '{\\n  \"genre\": \"Crime\",\\n  \"journalism_style\": \"Straight\",\\n  \"featured\": \"Eyewitness\",\\n  \"is_ethnic\": true,\\n  \"sentiment\": \"Negative\",\\n  \"agenda_setting\": \"Exposing\",\\n  \"framing\": \"Conflict\",\\n  \"priming\": \"Violence\",\\n  \"mobilizing\": \"Justice\"\\n}',\n",
       " '{\\n    \"genre\": \"Crime\",\\n    \"journalism_style\": \"Straight\",\\n    \"featured\": \"Subject\",\\n    \"is_ethnic\": false,\\n    \"sentiment\": \"Negative\",\\n    \"agenda_setting\": \"Justice\",\\n    \"framing\": \"Legal proceedings\",\\n    \"priming\": \"Punishment\",\\n    \"mobilizing\": \"Activism\"\\n}',\n",
       " '{\\n  \"genre\": \"Environment\",\\n  \"journalism_style\": \"Straight\",\\n  \"featured\": \"Subject\",\\n  \"is_ethnic\": true,\\n  \"sentiment\": \"Negative\",\\n  \"agenda_setting\": \"Awareness\",\\n  \"framing\": \"Conservation\",\\n  \"priming\": \"Ecological\",\\n  \"mobilizing\": \"Community\"\\n}']"
      ]
     },
     "execution_count": 55,
     "metadata": {},
     "output_type": "execute_result"
    }
   ],
   "source": [
    "responses"
   ]
  },
  {
   "cell_type": "code",
   "execution_count": 56,
   "id": "69c40064-ea6f-4df5-8a2e-311fd1244b50",
   "metadata": {},
   "outputs": [
    {
     "data": {
      "text/html": [
       "<div>\n",
       "<style scoped>\n",
       "    .dataframe tbody tr th:only-of-type {\n",
       "        vertical-align: middle;\n",
       "    }\n",
       "\n",
       "    .dataframe tbody tr th {\n",
       "        vertical-align: top;\n",
       "    }\n",
       "\n",
       "    .dataframe thead th {\n",
       "        text-align: right;\n",
       "    }\n",
       "</style>\n",
       "<table border=\"1\" class=\"dataframe\">\n",
       "  <thead>\n",
       "    <tr style=\"text-align: right;\">\n",
       "      <th></th>\n",
       "      <th>Unnamed: 0</th>\n",
       "      <th>content</th>\n",
       "      <th>Genre</th>\n",
       "      <th>Journalism Style</th>\n",
       "      <th>Featured</th>\n",
       "      <th>Is_ethnic</th>\n",
       "      <th>Sentiment</th>\n",
       "      <th>Agenda Setting</th>\n",
       "      <th>Framing</th>\n",
       "      <th>Priming</th>\n",
       "      <th>Mobilizing</th>\n",
       "    </tr>\n",
       "  </thead>\n",
       "  <tbody>\n",
       "    <tr>\n",
       "      <th>0</th>\n",
       "      <td>0</td>\n",
       "      <td>রমেল হত্যায় মানবাধিকার কমিশনের তদন্ত শুরুরাঙ্গ...</td>\n",
       "      <td>Crime</td>\n",
       "      <td>Straight</td>\n",
       "      <td>Subject</td>\n",
       "      <td>True</td>\n",
       "      <td>Negative</td>\n",
       "      <td>Investigation</td>\n",
       "      <td>Criminalizing</td>\n",
       "      <td>Legal</td>\n",
       "      <td>Community</td>\n",
       "    </tr>\n",
       "    <tr>\n",
       "      <th>1</th>\n",
       "      <td>1</td>\n",
       "      <td>নারায়ণগঞ্জের রূপগঞ্জ ও ফতুল্লা, গাজীপুরের কালি...</td>\n",
       "      <td>Crime</td>\n",
       "      <td>Straight</td>\n",
       "      <td>Eyewitness</td>\n",
       "      <td>False</td>\n",
       "      <td>Negative</td>\n",
       "      <td>Critical</td>\n",
       "      <td>Informative</td>\n",
       "      <td>Awareness</td>\n",
       "      <td>Action</td>\n",
       "    </tr>\n",
       "    <tr>\n",
       "      <th>2</th>\n",
       "      <td>2</td>\n",
       "      <td>গাইবান্ধার গোবিন্দগঞ্জের রংপুর চিনিকলের সাহেবগ...</td>\n",
       "      <td>Crime</td>\n",
       "      <td>Straight</td>\n",
       "      <td>Eyewitness</td>\n",
       "      <td>True</td>\n",
       "      <td>Negative</td>\n",
       "      <td>Exposing</td>\n",
       "      <td>Conflict</td>\n",
       "      <td>Violence</td>\n",
       "      <td>Justice</td>\n",
       "    </tr>\n",
       "    <tr>\n",
       "      <th>3</th>\n",
       "      <td>3</td>\n",
       "      <td>চাঞ্চল্যকর পিলখানা হত্যা মামলায় ডেথ রেফারেন্স ...</td>\n",
       "      <td>Crime</td>\n",
       "      <td>Straight</td>\n",
       "      <td>Subject</td>\n",
       "      <td>False</td>\n",
       "      <td>Negative</td>\n",
       "      <td>Justice</td>\n",
       "      <td>Legal proceedings</td>\n",
       "      <td>Punishment</td>\n",
       "      <td>Activism</td>\n",
       "    </tr>\n",
       "    <tr>\n",
       "      <th>4</th>\n",
       "      <td>4</td>\n",
       "      <td>অবাধে মাটি কেটে নেয়ার ধ্বংসের দ্বারপ্রান্তে ধো...</td>\n",
       "      <td>Environment</td>\n",
       "      <td>Straight</td>\n",
       "      <td>Subject</td>\n",
       "      <td>True</td>\n",
       "      <td>Negative</td>\n",
       "      <td>Awareness</td>\n",
       "      <td>Conservation</td>\n",
       "      <td>Ecological</td>\n",
       "      <td>Community</td>\n",
       "    </tr>\n",
       "  </tbody>\n",
       "</table>\n",
       "</div>"
      ],
      "text/plain": [
       "   Unnamed: 0                                            content        Genre  \\\n",
       "0           0  রমেল হত্যায় মানবাধিকার কমিশনের তদন্ত শুরুরাঙ্গ...        Crime   \n",
       "1           1  নারায়ণগঞ্জের রূপগঞ্জ ও ফতুল্লা, গাজীপুরের কালি...        Crime   \n",
       "2           2  গাইবান্ধার গোবিন্দগঞ্জের রংপুর চিনিকলের সাহেবগ...        Crime   \n",
       "3           3  চাঞ্চল্যকর পিলখানা হত্যা মামলায় ডেথ রেফারেন্স ...        Crime   \n",
       "4           4  অবাধে মাটি কেটে নেয়ার ধ্বংসের দ্বারপ্রান্তে ধো...  Environment   \n",
       "\n",
       "  Journalism Style    Featured  Is_ethnic Sentiment Agenda Setting  \\\n",
       "0         Straight     Subject       True  Negative  Investigation   \n",
       "1         Straight  Eyewitness      False  Negative       Critical   \n",
       "2         Straight  Eyewitness       True  Negative       Exposing   \n",
       "3         Straight     Subject      False  Negative        Justice   \n",
       "4         Straight     Subject       True  Negative      Awareness   \n",
       "\n",
       "             Framing     Priming Mobilizing  \n",
       "0      Criminalizing       Legal  Community  \n",
       "1        Informative   Awareness     Action  \n",
       "2           Conflict    Violence    Justice  \n",
       "3  Legal proceedings  Punishment   Activism  \n",
       "4       Conservation  Ecological  Community  "
      ]
     },
     "execution_count": 56,
     "metadata": {},
     "output_type": "execute_result"
    }
   ],
   "source": [
    "ethnic_sample_df = ethnic_df.iloc[:N].copy()\n",
    "ethnic_sample_df[\"Genre\"] = [post_process_chatgpt_turbo_3_5_response_to_json(response)[\"genre\"] for response in responses]\n",
    "ethnic_sample_df[\"Journalism Style\"] = [post_process_chatgpt_turbo_3_5_response_to_json(response)[\"journalism_style\"] for response in responses]\n",
    "ethnic_sample_df[\"Featured\"] = [post_process_chatgpt_turbo_3_5_response_to_json(response)[\"featured\"] for response in responses]\n",
    "ethnic_sample_df[\"Is_ethnic\"] = [post_process_chatgpt_turbo_3_5_response_to_json(response)[\"is_ethnic\"] for response in responses]\n",
    "ethnic_sample_df[\"Sentiment\"] = [post_process_chatgpt_turbo_3_5_response_to_json(response)[\"sentiment\"] for response in responses]\n",
    "ethnic_sample_df[\"Agenda Setting\"] = [post_process_chatgpt_turbo_3_5_response_to_json(response)[\"agenda_setting\"] for response in responses]\n",
    "ethnic_sample_df[\"Framing\"] = [post_process_chatgpt_turbo_3_5_response_to_json(response)[\"framing\"] for response in responses]\n",
    "ethnic_sample_df[\"Priming\"] = [post_process_chatgpt_turbo_3_5_response_to_json(response)[\"priming\"] for response in responses]\n",
    "ethnic_sample_df[\"Mobilizing\"] = [post_process_chatgpt_turbo_3_5_response_to_json(response)[\"mobilizing\"] for response in responses]\n",
    "\n",
    "ethnic_sample_df.head()"
   ]
  },
  {
   "cell_type": "code",
   "execution_count": 57,
   "id": "e9b414cf-2698-4664-a2eb-82977a619fb7",
   "metadata": {},
   "outputs": [],
   "source": [
    "ethnic_sample_df.to_csv(f\"../data/ethnic_{N}_chatgpt4o_mini_{EXPERIMENT_IDENTIFIER}.csv\")"
   ]
  },
  {
   "cell_type": "code",
   "execution_count": 58,
   "id": "8a2a99f2-f1b3-45e9-9112-05c53b94c49f",
   "metadata": {},
   "outputs": [
    {
     "data": {
      "text/plain": [
       "['../data/ethnic_5_chatgpt4o_mini_prompt_experiment_1.joblib']"
      ]
     },
     "execution_count": 58,
     "metadata": {},
     "output_type": "execute_result"
    }
   ],
   "source": [
    "import joblib\n",
    "joblib.dump(responses, f\"../data/ethnic_{N}_chatgpt4o_mini_{EXPERIMENT_IDENTIFIER}.joblib\")"
   ]
  },
  {
   "cell_type": "code",
   "execution_count": 45,
   "id": "57496762-496b-4f93-96fd-3157c7da19ac",
   "metadata": {},
   "outputs": [
    {
     "data": {
      "text/plain": [
       "[np.int64(2),\n",
       " 'গাইবান্ধার গোবিন্দগঞ্জের রংপুর চিনিকলের সাহেবগঞ্জ ইক্ষু খামারে দেয়া কাঁটাতারের বেড়ার পিলার ভাংচুর করেছে দুর্বৃত্তরা।সোমবার রাতে খামার সংলগ্ন জয়পুর পাড়ার দক্ষিণ অংশে দেয়া ২৬টি পিলার ভাংচুর করা হয়।খামারের জমি সাঁওতালদের কাছ থেকে দখলমুক্ত করার পর মিল কর্তৃপক্ষ এই কাঁটাতারের বেড়া দেয়। এরপর সোমবার রাতে সাঁওতাল পল্লী সংলগ্ন খামারের বেড়ার পিলার ভাংচুর করে দুর্বৃত্তরা।রংপুর সুগার মিলের ব্যবস্থাপনা পরিচালক আব্দুল আউয়াল জানান, দুস্কৃতকারীরা রাতের আধারে খামারের পশ্চিম অংশে সাঁওতাল পল্লী জয়পুর পাড়া সংলগ্ন ২৬টি পিলার ভাংচুর করে। এ ঘটনায় ১৩ জনের নাম উল্লেখ করে খামারের উপ-ব্যবস্থাপক মো. হুমায়ন কবির মঙ্গলবার রাতে গোবিন্দগঞ্জ থানায় একটি জিডি করেন।গোবিন্দগঞ্জ থানার ওসি সুব্রত কুমার সরকার বিষয়টি নিশ্চিত করে বলেন, ঘটনার বিষয়টি খতিয়ে দেখা হচ্ছে।গত ৬ নভেম্বর আদিবাসী সাঁওতালদের সঙ্গে আইনশৃংখলা বাহিনী চিনিকলের শ্রমিক-কর্মচারীদের সংঘর্ষের পর ইক্ষু খামার থেকে সাঁওতাল বসতি উচ্ছেদ, লুটপাট, গুলিতে ৩ সাঁওতাল নিহত হওয়ার ঘটনায় সেখানে এখনও অস্থিরতা রয়েছে।',\n",
       " 'Crime',\n",
       " 'Investigative',\n",
       " 'Victim',\n",
       " np.True_,\n",
       " 'Negative',\n",
       " 'Revealing',\n",
       " 'Conflict',\n",
       " 'Violence',\n",
       " 'Awareness']"
      ]
     },
     "execution_count": 45,
     "metadata": {},
     "output_type": "execute_result"
    }
   ],
   "source": [
    "ethnic_sample_df.iloc[2].values.tolist()"
   ]
  },
  {
   "cell_type": "code",
   "execution_count": 78,
   "id": "f83b724d-cf14-4533-be11-eafe032f86b8",
   "metadata": {},
   "outputs": [],
   "source": [
    "ethnic_sample_df = ethnic_df.sample(n=100, random_state=3)"
   ]
  },
  {
   "cell_type": "code",
   "execution_count": 79,
   "id": "e338b168-edf1-4adb-8fd6-469a8b705cd2",
   "metadata": {},
   "outputs": [],
   "source": [
    "ethnic_sample_df.to_csv(\"../data/annotated_100_ethnic_article_against_5_metrics.csv\")"
   ]
  },
  {
   "cell_type": "code",
   "execution_count": null,
   "id": "319dc672-c973-4013-9f6a-5c87fe917f3a",
   "metadata": {},
   "outputs": [],
   "source": []
  }
 ],
 "metadata": {
  "kernelspec": {
   "display_name": "Python 3 (ipykernel)",
   "language": "python",
   "name": "python3"
  },
  "language_info": {
   "codemirror_mode": {
    "name": "ipython",
    "version": 3
   },
   "file_extension": ".py",
   "mimetype": "text/x-python",
   "name": "python",
   "nbconvert_exporter": "python",
   "pygments_lexer": "ipython3",
   "version": "3.10.12"
  }
 },
 "nbformat": 4,
 "nbformat_minor": 5
}
