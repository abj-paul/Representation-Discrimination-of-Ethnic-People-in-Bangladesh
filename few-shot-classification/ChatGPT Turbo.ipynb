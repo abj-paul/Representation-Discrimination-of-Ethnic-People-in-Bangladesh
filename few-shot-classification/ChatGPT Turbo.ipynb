{
 "cells": [
  {
   "cell_type": "code",
   "execution_count": 70,
   "id": "1dc74706-decd-4308-9e6a-93f802c8da7a",
   "metadata": {},
   "outputs": [],
   "source": [
    "EXPERIMENT_IDENTIFIER = \"prompt_experiment_1\""
   ]
  },
  {
   "cell_type": "code",
   "execution_count": 4,
   "id": "abaae08d-414d-49d3-8638-ab95a2f32d5e",
   "metadata": {},
   "outputs": [
    {
     "data": {
      "text/html": [
       "<div>\n",
       "<style scoped>\n",
       "    .dataframe tbody tr th:only-of-type {\n",
       "        vertical-align: middle;\n",
       "    }\n",
       "\n",
       "    .dataframe tbody tr th {\n",
       "        vertical-align: top;\n",
       "    }\n",
       "\n",
       "    .dataframe thead th {\n",
       "        text-align: right;\n",
       "    }\n",
       "</style>\n",
       "<table border=\"1\" class=\"dataframe\">\n",
       "  <thead>\n",
       "    <tr style=\"text-align: right;\">\n",
       "      <th></th>\n",
       "      <th>Unnamed: 0</th>\n",
       "      <th>content</th>\n",
       "    </tr>\n",
       "  </thead>\n",
       "  <tbody>\n",
       "    <tr>\n",
       "      <th>0</th>\n",
       "      <td>0</td>\n",
       "      <td>রমেল হত্যায় মানবাধিকার কমিশনের তদন্ত শুরুরাঙ্গ...</td>\n",
       "    </tr>\n",
       "    <tr>\n",
       "      <th>1</th>\n",
       "      <td>1</td>\n",
       "      <td>নারায়ণগঞ্জের রূপগঞ্জ ও ফতুল্লা, গাজীপুরের কালি...</td>\n",
       "    </tr>\n",
       "    <tr>\n",
       "      <th>2</th>\n",
       "      <td>2</td>\n",
       "      <td>গাইবান্ধার গোবিন্দগঞ্জের রংপুর চিনিকলের সাহেবগ...</td>\n",
       "    </tr>\n",
       "    <tr>\n",
       "      <th>3</th>\n",
       "      <td>3</td>\n",
       "      <td>চাঞ্চল্যকর পিলখানা হত্যা মামলায় ডেথ রেফারেন্স ...</td>\n",
       "    </tr>\n",
       "    <tr>\n",
       "      <th>4</th>\n",
       "      <td>4</td>\n",
       "      <td>অবাধে মাটি কেটে নেয়ার ধ্বংসের দ্বারপ্রান্তে ধো...</td>\n",
       "    </tr>\n",
       "    <tr>\n",
       "      <th>...</th>\n",
       "      <td>...</td>\n",
       "      <td>...</td>\n",
       "    </tr>\n",
       "    <tr>\n",
       "      <th>4888</th>\n",
       "      <td>4888</td>\n",
       "      <td>খাগড়াছড়ির দীঘিনালায় জেএসএস (এমএন লারমা) সমর্থি...</td>\n",
       "    </tr>\n",
       "    <tr>\n",
       "      <th>4889</th>\n",
       "      <td>4889</td>\n",
       "      <td>শান্তি-সম্প্রীতি স্থাপনে দুই দশক আগে পার্বত্য ...</td>\n",
       "    </tr>\n",
       "    <tr>\n",
       "      <th>4890</th>\n",
       "      <td>4890</td>\n",
       "      <td>জনপ্রিয় ম্যাগাজিন অনুষ্ঠান ‘ইত্যাদি’ আজ শুক্রব...</td>\n",
       "    </tr>\n",
       "    <tr>\n",
       "      <th>4891</th>\n",
       "      <td>4891</td>\n",
       "      <td>সরকারি বেতন স্কেলের নবম থেকে ১৩তম গ্রেড পর্যন্...</td>\n",
       "    </tr>\n",
       "    <tr>\n",
       "      <th>4892</th>\n",
       "      <td>4892</td>\n",
       "      <td>রাঙামাটির নানিয়াচরে ২৪ ঘণ্টার ব্যবধানে চাঞ্চল্...</td>\n",
       "    </tr>\n",
       "  </tbody>\n",
       "</table>\n",
       "<p>4893 rows × 2 columns</p>\n",
       "</div>"
      ],
      "text/plain": [
       "      Unnamed: 0                                            content\n",
       "0              0  রমেল হত্যায় মানবাধিকার কমিশনের তদন্ত শুরুরাঙ্গ...\n",
       "1              1  নারায়ণগঞ্জের রূপগঞ্জ ও ফতুল্লা, গাজীপুরের কালি...\n",
       "2              2  গাইবান্ধার গোবিন্দগঞ্জের রংপুর চিনিকলের সাহেবগ...\n",
       "3              3  চাঞ্চল্যকর পিলখানা হত্যা মামলায় ডেথ রেফারেন্স ...\n",
       "4              4  অবাধে মাটি কেটে নেয়ার ধ্বংসের দ্বারপ্রান্তে ধো...\n",
       "...          ...                                                ...\n",
       "4888        4888  খাগড়াছড়ির দীঘিনালায় জেএসএস (এমএন লারমা) সমর্থি...\n",
       "4889        4889  শান্তি-সম্প্রীতি স্থাপনে দুই দশক আগে পার্বত্য ...\n",
       "4890        4890  জনপ্রিয় ম্যাগাজিন অনুষ্ঠান ‘ইত্যাদি’ আজ শুক্রব...\n",
       "4891        4891  সরকারি বেতন স্কেলের নবম থেকে ১৩তম গ্রেড পর্যন্...\n",
       "4892        4892  রাঙামাটির নানিয়াচরে ২৪ ঘণ্টার ব্যবধানে চাঞ্চল্...\n",
       "\n",
       "[4893 rows x 2 columns]"
      ]
     },
     "execution_count": 4,
     "metadata": {},
     "output_type": "execute_result"
    }
   ],
   "source": [
    "import pandas as pd\n",
    "ethnic_df = pd.read_csv(\"../data/ethnic_dataset_4893_after_removing_rakhain.csv\")\n",
    "ethnic_df"
   ]
  },
  {
   "cell_type": "code",
   "execution_count": 41,
   "id": "f4d22d6b-3825-4e6b-bf89-134a0dd360e9",
   "metadata": {},
   "outputs": [],
   "source": [
    "N = 5"
   ]
  },
  {
   "cell_type": "code",
   "execution_count": 17,
   "id": "9339cce9-8873-443c-af7b-469ffcd6c825",
   "metadata": {},
   "outputs": [
    {
     "data": {
      "text/plain": [
       "True"
      ]
     },
     "execution_count": 17,
     "metadata": {},
     "output_type": "execute_result"
    }
   ],
   "source": [
    "from dotenv import load_dotenv\n",
    "\n",
    "# Load environment variables from .env file\n",
    "load_dotenv()"
   ]
  },
  {
   "cell_type": "markdown",
   "id": "af9dfafb-e504-429d-b06f-3517986e6a2b",
   "metadata": {},
   "source": [
    "### Loading model"
   ]
  },
  {
   "cell_type": "code",
   "execution_count": 6,
   "id": "7ebd2f22-410f-4c66-b33b-60812821051a",
   "metadata": {},
   "outputs": [
    {
     "name": "stdout",
     "output_type": "stream",
     "text": [
      "Defaulting to user installation because normal site-packages is not writeable\n",
      "Collecting openai\n",
      "  Downloading openai-1.43.0-py3-none-any.whl (365 kB)\n",
      "\u001b[2K     \u001b[38;2;114;156;31m━━━━━━━━━━━━━━━━━━━━━━━━━━━━━━━━━━━━━━━\u001b[0m \u001b[32m365.7/365.7 KB\u001b[0m \u001b[31m1.3 MB/s\u001b[0m eta \u001b[36m0:00:00\u001b[0m MB/s\u001b[0m eta \u001b[36m0:00:01\u001b[0m:01\u001b[0m\n",
      "\u001b[?25hRequirement already satisfied: httpx<1,>=0.23.0 in /home/abhijit/.local/lib/python3.10/site-packages (from openai) (0.27.0)\n",
      "Requirement already satisfied: distro<2,>=1.7.0 in /usr/lib/python3/dist-packages (from openai) (1.7.0)\n",
      "Requirement already satisfied: tqdm>4 in /home/abhijit/.local/lib/python3.10/site-packages (from openai) (4.66.5)\n",
      "Requirement already satisfied: anyio<5,>=3.5.0 in /home/abhijit/.local/lib/python3.10/site-packages (from openai) (4.4.0)\n",
      "Requirement already satisfied: typing-extensions<5,>=4.11 in /home/abhijit/.local/lib/python3.10/site-packages (from openai) (4.12.2)\n",
      "Collecting jiter<1,>=0.4.0\n",
      "  Downloading jiter-0.5.0-cp310-cp310-manylinux_2_17_x86_64.manylinux2014_x86_64.whl (318 kB)\n",
      "\u001b[2K     \u001b[38;2;114;156;31m━━━━━━━━━━━━━━━━━━━━━━━━━━━━━━━━━━━━━━━\u001b[0m \u001b[32m318.9/318.9 KB\u001b[0m \u001b[31m6.5 MB/s\u001b[0m eta \u001b[36m0:00:00\u001b[0m MB/s\u001b[0m eta \u001b[36m0:00:01\u001b[0m\n",
      "\u001b[?25hRequirement already satisfied: sniffio in /home/abhijit/.local/lib/python3.10/site-packages (from openai) (1.3.1)\n",
      "Requirement already satisfied: pydantic<3,>=1.9.0 in /home/abhijit/.local/lib/python3.10/site-packages (from openai) (2.8.2)\n",
      "Requirement already satisfied: idna>=2.8 in /usr/lib/python3/dist-packages (from anyio<5,>=3.5.0->openai) (3.3)\n",
      "Requirement already satisfied: exceptiongroup>=1.0.2 in /home/abhijit/.local/lib/python3.10/site-packages (from anyio<5,>=3.5.0->openai) (1.2.2)\n",
      "Requirement already satisfied: httpcore==1.* in /home/abhijit/.local/lib/python3.10/site-packages (from httpx<1,>=0.23.0->openai) (1.0.5)\n",
      "Requirement already satisfied: certifi in /usr/lib/python3/dist-packages (from httpx<1,>=0.23.0->openai) (2020.6.20)\n",
      "Requirement already satisfied: h11<0.15,>=0.13 in /home/abhijit/.local/lib/python3.10/site-packages (from httpcore==1.*->httpx<1,>=0.23.0->openai) (0.14.0)\n",
      "Requirement already satisfied: annotated-types>=0.4.0 in /home/abhijit/.local/lib/python3.10/site-packages (from pydantic<3,>=1.9.0->openai) (0.7.0)\n",
      "Requirement already satisfied: pydantic-core==2.20.1 in /home/abhijit/.local/lib/python3.10/site-packages (from pydantic<3,>=1.9.0->openai) (2.20.1)\n",
      "Installing collected packages: jiter, openai\n",
      "Successfully installed jiter-0.5.0 openai-1.43.0\n",
      "Note: you may need to restart the kernel to use updated packages.\n"
     ]
    }
   ],
   "source": [
    "pip install openai"
   ]
  },
  {
   "cell_type": "code",
   "execution_count": 9,
   "id": "a109126e-927b-4b08-a268-17150d2afef1",
   "metadata": {},
   "outputs": [
    {
     "name": "stdout",
     "output_type": "stream",
     "text": [
      "Downloading Grit CLI from https://github.com/getgrit/gritql/releases/latest/download/marzano-x86_64-unknown-linux-gnu.tar.gz\n",
      "Error: Failed to fetch standard library grit module getgrit/stdlib: Failed to clone repo getgrit/stdlib: failed to connect to github.com: Connection timed out; class=Os (2)\n"
     ]
    }
   ],
   "source": [
    "!openai migrate"
   ]
  },
  {
   "cell_type": "code",
   "execution_count": 35,
   "id": "419fc536-53e5-48da-8c46-1db1ce978c22",
   "metadata": {},
   "outputs": [
    {
     "name": "stdout",
     "output_type": "stream",
     "text": [
      "Defaulting to user installation because normal site-packages is not writeable\n",
      "Collecting rich\n",
      "  Downloading rich-13.8.0-py3-none-any.whl (241 kB)\n",
      "\u001b[2K     \u001b[38;2;114;156;31m━━━━━━━━━━━━━━━━━━━━━━━━━━━━━━━━━━━━━\u001b[0m \u001b[32m241.6/241.6 KB\u001b[0m \u001b[31m911.3 kB/s\u001b[0m eta \u001b[36m0:00:00\u001b[0m kB/s\u001b[0m eta \u001b[36m0:00:01\u001b[0m:01\u001b[0m\n",
      "\u001b[?25hRequirement already satisfied: pygments<3.0.0,>=2.13.0 in /home/abhijit/.local/lib/python3.10/site-packages (from rich) (2.18.0)\n",
      "Collecting markdown-it-py>=2.2.0\n",
      "  Downloading markdown_it_py-3.0.0-py3-none-any.whl (87 kB)\n",
      "\u001b[2K     \u001b[38;2;114;156;31m━━━━━━━━━━━━━━━━━━━━━━━━━━━━━━━━━━━━━━━━\u001b[0m \u001b[32m87.5/87.5 KB\u001b[0m \u001b[31m1.3 MB/s\u001b[0m eta \u001b[36m0:00:00\u001b[0m[31m1.2 MB/s\u001b[0m eta \u001b[36m0:00:01\u001b[0m\n",
      "\u001b[?25hCollecting mdurl~=0.1\n",
      "  Downloading mdurl-0.1.2-py3-none-any.whl (10.0 kB)\n",
      "Installing collected packages: mdurl, markdown-it-py, rich\n",
      "Successfully installed markdown-it-py-3.0.0 mdurl-0.1.2 rich-13.8.0\n",
      "Note: you may need to restart the kernel to use updated packages.\n"
     ]
    }
   ],
   "source": [
    "pip install rich"
   ]
  },
  {
   "cell_type": "code",
   "execution_count": 71,
   "id": "7f9ca690-6b9d-4f08-87a1-9e6425e12708",
   "metadata": {},
   "outputs": [],
   "source": [
    "from openai import OpenAI\n",
    "import json\n",
    "\n",
    "client = OpenAI()\n",
    "\n",
    "def get_response(news_article):\n",
    "    completion = client.chat.completions.create(\n",
    "        model=\"gpt-4o-mini\",\n",
    "        messages=[\n",
    "            {\"role\": \"system\", \"content\": \"You are a Bangla news article analyzer. I will give you a news article and you will say which genre(s) it belongs to. The genres are:  Politics, Crime, International Affairs,  Business & Economy,  Sports,  Culture & Entertainment,  Jobs,  Lifestyle,  Health,  Environment,  Local news,  Education,  Technology,  Religion,  Science,  Protests and Social Movements, Govt Actions.  Additionally, you will also say if the description is Straight, Investigation, Commentary. Identify the perspective of any ethnic person mentioned in the article, choosing from the following categories: Subject, Spokesperson, Expert or Commentator, Personal Experience, Popular Opinion, Eyewitness. Also, you will say whether this article is about Bangladeshi Ethnic People or not. Finally, you will say the sentiment of the article. Return me just a json of {\\\"genre\\\": GENRE, \\\"description_style\\\": STYLE, \\\"perspective\\\": PERSPECTIVE, \\\"is_ethnic\\\": True, \\\"sentiment\\\": \\\"positive\\\"}.\"},\n",
    "            {\"role\": \"user\", \"content\": news_article}\n",
    "        ]\n",
    "    )\n",
    "    return completion.choices[0].message.content\n",
    "    \n",
    "def post_process_chatgpt_turbo_3_5_response_to_json(text):\n",
    "    json_string = text.replace(\"```\", \"\").replace(\"json\",\"\").replace(\"\\n\",\"\").replace(\"'\", '\"')\n",
    "    json_output = json.loads(json_string)\n",
    "    return json_output"
   ]
  },
  {
   "cell_type": "code",
   "execution_count": 72,
   "id": "0df38835-a687-45e7-9b9d-1deb18a22a72",
   "metadata": {},
   "outputs": [
    {
     "name": "stderr",
     "output_type": "stream",
     "text": [
      "100%|███████████████████████████████████████████████████████████████████████████████████████████████████████████████████| 5/5 [00:05<00:00,  1.11s/it]\n"
     ]
    }
   ],
   "source": [
    "from tqdm import tqdm\n",
    "\n",
    "articles = ethnic_df[\"content\"].values.tolist()\n",
    "responses = []\n",
    "for article in tqdm(articles[:N]):\n",
    "    responses.append(get_response(article))"
   ]
  },
  {
   "cell_type": "code",
   "execution_count": 73,
   "id": "9d750444-223a-4192-af69-624717321c2b",
   "metadata": {},
   "outputs": [
    {
     "data": {
      "text/plain": [
       "['```json\\n{\\n  \"genre\": [\"Politics\", \"Crime\", \"Local news\", \"Protests and Social Movements\"],\\n  \"description_style\": \"Straight\",\\n  \"perspective\": \"Eyewitness\",\\n  \"is_ethnic\": true,\\n  \"sentiment\": \"negative\"\\n}\\n```',\n",
       " '```json\\n{\\n  \"genre\": \"Crime\",\\n  \"description_style\": \"Straight\",\\n  \"perspective\": \"Eyewitness\",\\n  \"is_ethnic\": true,\\n  \"sentiment\": \"negative\"\\n}\\n```',\n",
       " '```json\\n{\\n  \"genre\": [\"Crime\", \"Politics\", \"Local news\"],\\n  \"description_style\": \"Straight\",\\n  \"perspective\": \"Eyewitness\",\\n  \"is_ethnic\": true,\\n  \"sentiment\": \"negative\"\\n}\\n```',\n",
       " '```json\\n{\\n  \"genre\": \"Crime\",\\n  \"description_style\": \"Straight\",\\n  \"perspective\": \"Eyewitness\",\\n  \"is_ethnic\": false,\\n  \"sentiment\": \"neutral\"\\n}\\n```',\n",
       " '```json\\n{\\n  \"genre\": [\"Environment\", \"Local news\", \"Govt Actions\"],\\n  \"description_style\": \"Straight\",\\n  \"perspective\": \"Eyewitness\",\\n  \"is_ethnic\": true,\\n  \"sentiment\": \"negative\"\\n}\\n```']"
      ]
     },
     "execution_count": 73,
     "metadata": {},
     "output_type": "execute_result"
    }
   ],
   "source": [
    "responses"
   ]
  },
  {
   "cell_type": "code",
   "execution_count": 74,
   "id": "69c40064-ea6f-4df5-8a2e-311fd1244b50",
   "metadata": {},
   "outputs": [
    {
     "name": "stderr",
     "output_type": "stream",
     "text": [
      "/tmp/ipykernel_4231/2263428076.py:2: SettingWithCopyWarning: \n",
      "A value is trying to be set on a copy of a slice from a DataFrame.\n",
      "Try using .loc[row_indexer,col_indexer] = value instead\n",
      "\n",
      "See the caveats in the documentation: https://pandas.pydata.org/pandas-docs/stable/user_guide/indexing.html#returning-a-view-versus-a-copy\n",
      "  ethnic_sample_df[\"Genre\"] = [post_process_chatgpt_turbo_3_5_response_to_json(response)[\"genre\"] for response in responses]\n",
      "/tmp/ipykernel_4231/2263428076.py:3: SettingWithCopyWarning: \n",
      "A value is trying to be set on a copy of a slice from a DataFrame.\n",
      "Try using .loc[row_indexer,col_indexer] = value instead\n",
      "\n",
      "See the caveats in the documentation: https://pandas.pydata.org/pandas-docs/stable/user_guide/indexing.html#returning-a-view-versus-a-copy\n",
      "  ethnic_sample_df[\"Description Style\"] = [post_process_chatgpt_turbo_3_5_response_to_json(response)[\"description_style\"] for response in responses]\n",
      "/tmp/ipykernel_4231/2263428076.py:4: SettingWithCopyWarning: \n",
      "A value is trying to be set on a copy of a slice from a DataFrame.\n",
      "Try using .loc[row_indexer,col_indexer] = value instead\n",
      "\n",
      "See the caveats in the documentation: https://pandas.pydata.org/pandas-docs/stable/user_guide/indexing.html#returning-a-view-versus-a-copy\n",
      "  ethnic_sample_df[\"Perspective\"] = [post_process_chatgpt_turbo_3_5_response_to_json(response)[\"perspective\"] for response in responses]\n",
      "/tmp/ipykernel_4231/2263428076.py:5: SettingWithCopyWarning: \n",
      "A value is trying to be set on a copy of a slice from a DataFrame.\n",
      "Try using .loc[row_indexer,col_indexer] = value instead\n",
      "\n",
      "See the caveats in the documentation: https://pandas.pydata.org/pandas-docs/stable/user_guide/indexing.html#returning-a-view-versus-a-copy\n",
      "  ethnic_sample_df[\"Is_ethnic\"] = [post_process_chatgpt_turbo_3_5_response_to_json(response)[\"is_ethnic\"] for response in responses]\n",
      "/tmp/ipykernel_4231/2263428076.py:6: SettingWithCopyWarning: \n",
      "A value is trying to be set on a copy of a slice from a DataFrame.\n",
      "Try using .loc[row_indexer,col_indexer] = value instead\n",
      "\n",
      "See the caveats in the documentation: https://pandas.pydata.org/pandas-docs/stable/user_guide/indexing.html#returning-a-view-versus-a-copy\n",
      "  ethnic_sample_df[\"Sentiment\"] = [post_process_chatgpt_turbo_3_5_response_to_json(response)[\"sentiment\"] for response in responses]\n"
     ]
    },
    {
     "data": {
      "text/html": [
       "<div>\n",
       "<style scoped>\n",
       "    .dataframe tbody tr th:only-of-type {\n",
       "        vertical-align: middle;\n",
       "    }\n",
       "\n",
       "    .dataframe tbody tr th {\n",
       "        vertical-align: top;\n",
       "    }\n",
       "\n",
       "    .dataframe thead th {\n",
       "        text-align: right;\n",
       "    }\n",
       "</style>\n",
       "<table border=\"1\" class=\"dataframe\">\n",
       "  <thead>\n",
       "    <tr style=\"text-align: right;\">\n",
       "      <th></th>\n",
       "      <th>Unnamed: 0</th>\n",
       "      <th>content</th>\n",
       "      <th>Genre</th>\n",
       "      <th>Description Style</th>\n",
       "      <th>Perspective</th>\n",
       "      <th>Is_ethnic</th>\n",
       "      <th>Sentiment</th>\n",
       "    </tr>\n",
       "  </thead>\n",
       "  <tbody>\n",
       "    <tr>\n",
       "      <th>0</th>\n",
       "      <td>0</td>\n",
       "      <td>রমেল হত্যায় মানবাধিকার কমিশনের তদন্ত শুরুরাঙ্গ...</td>\n",
       "      <td>[Politics, Crime, Local news, Protests and Soc...</td>\n",
       "      <td>Straight</td>\n",
       "      <td>Eyewitness</td>\n",
       "      <td>True</td>\n",
       "      <td>negative</td>\n",
       "    </tr>\n",
       "    <tr>\n",
       "      <th>1</th>\n",
       "      <td>1</td>\n",
       "      <td>নারায়ণগঞ্জের রূপগঞ্জ ও ফতুল্লা, গাজীপুরের কালি...</td>\n",
       "      <td>Crime</td>\n",
       "      <td>Straight</td>\n",
       "      <td>Eyewitness</td>\n",
       "      <td>True</td>\n",
       "      <td>negative</td>\n",
       "    </tr>\n",
       "    <tr>\n",
       "      <th>2</th>\n",
       "      <td>2</td>\n",
       "      <td>গাইবান্ধার গোবিন্দগঞ্জের রংপুর চিনিকলের সাহেবগ...</td>\n",
       "      <td>[Crime, Politics, Local news]</td>\n",
       "      <td>Straight</td>\n",
       "      <td>Eyewitness</td>\n",
       "      <td>True</td>\n",
       "      <td>negative</td>\n",
       "    </tr>\n",
       "    <tr>\n",
       "      <th>3</th>\n",
       "      <td>3</td>\n",
       "      <td>চাঞ্চল্যকর পিলখানা হত্যা মামলায় ডেথ রেফারেন্স ...</td>\n",
       "      <td>Crime</td>\n",
       "      <td>Straight</td>\n",
       "      <td>Eyewitness</td>\n",
       "      <td>False</td>\n",
       "      <td>neutral</td>\n",
       "    </tr>\n",
       "    <tr>\n",
       "      <th>4</th>\n",
       "      <td>4</td>\n",
       "      <td>অবাধে মাটি কেটে নেয়ার ধ্বংসের দ্বারপ্রান্তে ধো...</td>\n",
       "      <td>[Environment, Local news, Govt Actions]</td>\n",
       "      <td>Straight</td>\n",
       "      <td>Eyewitness</td>\n",
       "      <td>True</td>\n",
       "      <td>negative</td>\n",
       "    </tr>\n",
       "  </tbody>\n",
       "</table>\n",
       "</div>"
      ],
      "text/plain": [
       "   Unnamed: 0                                            content  \\\n",
       "0           0  রমেল হত্যায় মানবাধিকার কমিশনের তদন্ত শুরুরাঙ্গ...   \n",
       "1           1  নারায়ণগঞ্জের রূপগঞ্জ ও ফতুল্লা, গাজীপুরের কালি...   \n",
       "2           2  গাইবান্ধার গোবিন্দগঞ্জের রংপুর চিনিকলের সাহেবগ...   \n",
       "3           3  চাঞ্চল্যকর পিলখানা হত্যা মামলায় ডেথ রেফারেন্স ...   \n",
       "4           4  অবাধে মাটি কেটে নেয়ার ধ্বংসের দ্বারপ্রান্তে ধো...   \n",
       "\n",
       "                                               Genre Description Style  \\\n",
       "0  [Politics, Crime, Local news, Protests and Soc...          Straight   \n",
       "1                                              Crime          Straight   \n",
       "2                      [Crime, Politics, Local news]          Straight   \n",
       "3                                              Crime          Straight   \n",
       "4            [Environment, Local news, Govt Actions]          Straight   \n",
       "\n",
       "  Perspective  Is_ethnic Sentiment  \n",
       "0  Eyewitness       True  negative  \n",
       "1  Eyewitness       True  negative  \n",
       "2  Eyewitness       True  negative  \n",
       "3  Eyewitness      False   neutral  \n",
       "4  Eyewitness       True  negative  "
      ]
     },
     "execution_count": 74,
     "metadata": {},
     "output_type": "execute_result"
    }
   ],
   "source": [
    "ethnic_sample_df = ethnic_df.iloc[:N]\n",
    "ethnic_sample_df[\"Genre\"] = [post_process_chatgpt_turbo_3_5_response_to_json(response)[\"genre\"] for response in responses]\n",
    "ethnic_sample_df[\"Description Style\"] = [post_process_chatgpt_turbo_3_5_response_to_json(response)[\"description_style\"] for response in responses]\n",
    "ethnic_sample_df[\"Perspective\"] = [post_process_chatgpt_turbo_3_5_response_to_json(response)[\"perspective\"] for response in responses]\n",
    "ethnic_sample_df[\"Is_ethnic\"] = [post_process_chatgpt_turbo_3_5_response_to_json(response)[\"is_ethnic\"] for response in responses]\n",
    "ethnic_sample_df[\"Sentiment\"] = [post_process_chatgpt_turbo_3_5_response_to_json(response)[\"sentiment\"] for response in responses]\n",
    "\n",
    "ethnic_sample_df.head()"
   ]
  },
  {
   "cell_type": "code",
   "execution_count": 75,
   "id": "e9b414cf-2698-4664-a2eb-82977a619fb7",
   "metadata": {},
   "outputs": [],
   "source": [
    "ethnic_sample_df.to_csv(f\"../data/ethnic_{N}_chatgpt4o_mini_{EXPERIMENT_IDENTIFIER}.csv\")"
   ]
  },
  {
   "cell_type": "code",
   "execution_count": 76,
   "id": "8a2a99f2-f1b3-45e9-9112-05c53b94c49f",
   "metadata": {},
   "outputs": [
    {
     "data": {
      "text/plain": [
       "['../data/ethnic_5_chatgpt4o_mini_prompt_experiment_1.csv']"
      ]
     },
     "execution_count": 76,
     "metadata": {},
     "output_type": "execute_result"
    }
   ],
   "source": [
    "import joblib\n",
    "joblib.dump(responses, f\"../data/ethnic_{N}_chatgpt4o_mini_{EXPERIMENT_IDENTIFIER}.csv\")"
   ]
  },
  {
   "cell_type": "code",
   "execution_count": 77,
   "id": "57496762-496b-4f93-96fd-3157c7da19ac",
   "metadata": {},
   "outputs": [
    {
     "data": {
      "text/plain": [
       "[np.int64(4),\n",
       " 'অবাধে মাটি কেটে নেয়ার ধ্বংসের দ্বারপ্রান্তে ধোবাউড়া উপজেলার সিরামিকস পাহাড়। জানা গেছে, ১নং দক্ষিণ মাইজপাড়া ইউনিয়নে পুটিমারী বাজারের পাশেই অবস্থিত সিরামিকস পাহাড় স্থানীয় প্রভাবশালীদের সহায়তায় এক শ্রেণীর অসাধু চক্র পরিবেশ অধিদফতরের ছাড়পত্র না নিয়েই নির্বিচারে মাটি কেটে ধ্বংস করে দিচ্ছে। একই অবস্থা সেখানকার আদিবাসীদের বসতি গারো পাহাড়েও। প্রতিদিন শত শত ট্রাক সাদামাটি কেটে নিয়ে গ্রাস করছে প্রাকৃতিক এ সৌন্দর্যকে। প্রভাবশালী চক্র সংশ্লিষ্ট প্রশাসনকে ম্যানেজ করে তাদের রাজত্ব কায়েম করেছে। সরেজমিনে পরিদর্শন করে স্থানীয়দের সঙ্গে কথা বলে এমনই তথ্য পাওয়া গেছে। স্থানীয়দের অভিযোগ খনিজ সম্পদ ব্যুরো থেকে ১ হাজার বস্তা মাটি নেয়ার অনুমোদন এনে স্থানীয় প্রভাবশালীদের সহায়তায় হাজার হাজার বস্তা মাটি নিয়ে যায়। এ বিষয়ে প্রশাসনের কোনো দৃষ্টি নেই। তবে ২০১৪ সালের শেষের দিকে নতুন যোগদান করা উপজেলা নির্বাহী অফিসার মোহাম্মদ আনিসুজ্জমান খান সরেজমিনে পরিদর্শন করে মাটি কাটা সাময়িক বন্ধ করে দেন। এ ব্যাপারে তিনি একটি কমিটি গঠনও করে দেন। কিন্তু কিছুদিন বন্ধ থাকার পর আবারও শুরু হয়েছে মাটি কাটা। স্থানীয়রা জানান, এগ্রো সিরামিক কোম্পানির মালিক তপন দীর্ঘদিন ধরে মাটি কেটে নিচ্ছেন। এ ব্যাপারে তিনি বলেন, আমি খনিজ সম্পদ মন্ত্রণালয়ের অনুমতি নিয়েই মাটি কাটছি। নিয়ম অনুযায়ী এসব পাহাড় কাটলে সঙ্গে সঙ্গে মাটি দিয়ে ভরাট করে দিতে হয়। কিন্তু সেদিকে কোনো খেয়াল নেই। এলাকাবাসীর অভিযোগ পাহাড়ে প্রভাবশালীদের তৎপরতায় প্রাণভয়ে কেউ প্রতিবাদ করতে পারছে না। নির্বিচারে পাহাড় কাটার ফলে একদিকে যেমন পাহাড়ের প্রাকৃতিক ভারসাম্য নষ্ট হচ্ছে অপরদিকে পর্যটন নগরীর অপার সম্ভাবনাটিও বিলীন হয়ে যাচ্ছে। এখনও চলছে পাহাড় কাটার মহোৎসব। এ ব্যাপারে স্থানীয় ইউপি চেয়ারম্যান গাজীউর রহমান বলেন প্রশাসন এসে বেশ কয়েকবার বন্ধ করে দেয়ার পরও থামছে না মাটি কাটা। উপজেলা নির্বাহী অফিসার মোহাম্মদ আনিসুজ্জামান খান জানিয়েছেন খুব শিগগিরই তদন্ত করে ব্যবস্থা নেয়া হবে। ',\n",
       " ['Environment', 'Local news', 'Govt Actions'],\n",
       " 'Straight',\n",
       " 'Eyewitness',\n",
       " np.True_,\n",
       " 'negative']"
      ]
     },
     "execution_count": 77,
     "metadata": {},
     "output_type": "execute_result"
    }
   ],
   "source": [
    "ethnic_sample_df.iloc[4].values.tolist()"
   ]
  },
  {
   "cell_type": "code",
   "execution_count": 78,
   "id": "f83b724d-cf14-4533-be11-eafe032f86b8",
   "metadata": {},
   "outputs": [],
   "source": [
    "ethnic_sample_df = ethnic_df.sample(n=100, random_state=3)"
   ]
  },
  {
   "cell_type": "code",
   "execution_count": 79,
   "id": "e338b168-edf1-4adb-8fd6-469a8b705cd2",
   "metadata": {},
   "outputs": [],
   "source": [
    "ethnic_sample_df.to_csv(\"../data/annotated_100_ethnic_article_against_5_metrics.csv\")"
   ]
  },
  {
   "cell_type": "code",
   "execution_count": null,
   "id": "319dc672-c973-4013-9f6a-5c87fe917f3a",
   "metadata": {},
   "outputs": [],
   "source": []
  }
 ],
 "metadata": {
  "kernelspec": {
   "display_name": "Python 3 (ipykernel)",
   "language": "python",
   "name": "python3"
  },
  "language_info": {
   "codemirror_mode": {
    "name": "ipython",
    "version": 3
   },
   "file_extension": ".py",
   "mimetype": "text/x-python",
   "name": "python",
   "nbconvert_exporter": "python",
   "pygments_lexer": "ipython3",
   "version": "3.10.12"
  }
 },
 "nbformat": 4,
 "nbformat_minor": 5
}
