{
 "cells": [
  {
   "cell_type": "code",
   "execution_count": 105,
   "id": "1dc74706-decd-4308-9e6a-93f802c8da7a",
   "metadata": {},
   "outputs": [],
   "source": [

    "EXPERIMENT_IDENTIFIER = \"completed\""
   ]
  },
  {
   "cell_type": "code",
   "execution_count": 64,
   "id": "f4d22d6b-3825-4e6b-bf89-134a0dd360e9",
   "metadata": {},
   "outputs": [],
   "source": [
    "N = 5"
   ]
  },
  {
   "cell_type": "code",
   "execution_count": 65,
   "id": "1dfa6cdb-e3e7-4732-bfb4-b9dbe6863f76",
   "metadata": {},
   "outputs": [
    {
     "name": "stdout",
     "output_type": "stream",
     "text": [
      "ls: cannot access '../data/annotated_100_ethnic_article_against_5_metrics.csv': No such file or directory\n"
     ]
    }
   ],
   "source": [
    "!ls ../data/annotated_100_ethnic_article_against_5_metrics.csv"
   ]
  },
  {
   "cell_type": "code",
   "execution_count": 66,
   "id": "abaae08d-414d-49d3-8638-ab95a2f32d5e",
   "metadata": {},
   "outputs": [
    {

    }
   ],
   "source": [
    "import pandas as pd\n",
    "ethnic_df = pd.read_csv(\"../data/annotated_100_ethnic_article_against_5_metrics.csv\")\n",
    "ethnic_df.drop([\"Unnamed: 0.1\", \"Unnamed: 0\"], axis=1, inplace=True)\n",
    "ethnic_df"
   ]
  },
  {
   "cell_type": "code",
   "execution_count": 67,
   "id": "9339cce9-8873-443c-af7b-469ffcd6c825",
   "metadata": {},
   "outputs": [
    {
     "data": {
      "text/plain": [
       "True"
      ]
     },
     "execution_count": 67,
     "metadata": {},
     "output_type": "execute_result"
    }
   ],
   "source": [
    "from dotenv import load_dotenv\n",
    "\n",
    "# Load environment variables from .env file\n",
    "load_dotenv()"
   ]
  },
  {
   "cell_type": "markdown",
   "id": "af9dfafb-e504-429d-b06f-3517986e6a2b",
   "metadata": {},
   "source": [
    "### Loading model"
   ]
  },
  {
   "cell_type": "code",
   "execution_count": 6,
   "id": "7ebd2f22-410f-4c66-b33b-60812821051a",
   "metadata": {},
   "outputs": [
    {
     "name": "stdout",
     "output_type": "stream",
     "text": [
      "Defaulting to user installation because normal site-packages is not writeable\n",
      "Requirement already satisfied: openai in /home/abhijit/.local/lib/python3.10/site-packages (1.43.0)\n",
      "Requirement already satisfied: anyio<5,>=3.5.0 in /home/abhijit/.local/lib/python3.10/site-packages (from openai) (4.4.0)\n",
      "Requirement already satisfied: tqdm>4 in /home/abhijit/.local/lib/python3.10/site-packages (from openai) (4.66.5)\n",
      "Requirement already satisfied: pydantic<3,>=1.9.0 in /home/abhijit/.local/lib/python3.10/site-packages (from openai) (2.8.2)\n",
      "Requirement already satisfied: jiter<1,>=0.4.0 in /home/abhijit/.local/lib/python3.10/site-packages (from openai) (0.5.0)\n",
      "Requirement already satisfied: sniffio in /home/abhijit/.local/lib/python3.10/site-packages (from openai) (1.3.1)\n",
      "Requirement already satisfied: typing-extensions<5,>=4.11 in /home/abhijit/.local/lib/python3.10/site-packages (from openai) (4.12.2)\n",
      "Requirement already satisfied: distro<2,>=1.7.0 in /usr/lib/python3/dist-packages (from openai) (1.7.0)\n",
      "Requirement already satisfied: httpx<1,>=0.23.0 in /home/abhijit/.local/lib/python3.10/site-packages (from openai) (0.27.0)\n",
      "Requirement already satisfied: idna>=2.8 in /usr/lib/python3/dist-packages (from anyio<5,>=3.5.0->openai) (3.3)\n",
      "Requirement already satisfied: exceptiongroup>=1.0.2 in /home/abhijit/.local/lib/python3.10/site-packages (from anyio<5,>=3.5.0->openai) (1.2.2)\n",
      "Requirement already satisfied: certifi in /usr/lib/python3/dist-packages (from httpx<1,>=0.23.0->openai) (2020.6.20)\n",
      "Requirement already satisfied: httpcore==1.* in /home/abhijit/.local/lib/python3.10/site-packages (from httpx<1,>=0.23.0->openai) (1.0.5)\n",
      "Requirement already satisfied: h11<0.15,>=0.13 in /home/abhijit/.local/lib/python3.10/site-packages (from httpcore==1.*->httpx<1,>=0.23.0->openai) (0.14.0)\n",
      "Requirement already satisfied: annotated-types>=0.4.0 in /home/abhijit/.local/lib/python3.10/site-packages (from pydantic<3,>=1.9.0->openai) (0.7.0)\n",
      "Requirement already satisfied: pydantic-core==2.20.1 in /home/abhijit/.local/lib/python3.10/site-packages (from pydantic<3,>=1.9.0->openai) (2.20.1)\n",
      "Note: you may need to restart the kernel to use updated packages.\n"
     ]
    }
   ],
   "source": [
    "pip install openai"
   ]
  },
  {
   "cell_type": "code",
   "execution_count": 7,
   "id": "d1d7b90a-4731-43f5-bfd1-3cb985b6d35b",
   "metadata": {},
   "outputs": [
    {
     "name": "stdout",
     "output_type": "stream",
     "text": [
      "Defaulting to user installation because normal site-packages is not writeable\n",
      "Requirement already satisfied: scikit-learn in /home/abhijit/.local/lib/python3.10/site-packages (1.5.1)\n",
      "Requirement already satisfied: threadpoolctl>=3.1.0 in /home/abhijit/.local/lib/python3.10/site-packages (from scikit-learn) (3.5.0)\n",
      "Requirement already satisfied: scipy>=1.6.0 in /home/abhijit/.local/lib/python3.10/site-packages (from scikit-learn) (1.14.1)\n",
      "Requirement already satisfied: numpy>=1.19.5 in /home/abhijit/.local/lib/python3.10/site-packages (from scikit-learn) (2.0.1)\n",
      "Requirement already satisfied: joblib>=1.2.0 in /home/abhijit/.local/lib/python3.10/site-packages (from scikit-learn) (1.4.2)\n"
     ]
    }
   ],
   "source": [
    "!pip install scikit-learn"
   ]
  },
  {
   "cell_type": "code",
   "execution_count": 82,
   "id": "7f9ca690-6b9d-4f08-87a1-9e6425e12708",
   "metadata": {},
   "outputs": [],
   "source": [
    "from openai import OpenAI\n",
    "import json\n",
    "\n",
    "client = OpenAI()\n",
    "\n",
    "def get_response(news_article):\n",
    "    completion = client.chat.completions.create(\n",
    "        model=\"gpt-3.5-turbo\",\n",
    "        messages=[\n",
    "            {\"role\": \"system\", \"content\": prompt},\n",
    "            {\"role\": \"user\", \"content\": news_article}\n",
    "        ]\n",
    "    )\n",
    "    return completion.choices[0].message.content\n",
    "    \n",
    "def post_process_chatgpt_turbo_3_5_response_to_json(text):\n",
    "    json_string = text.replace(\"```\", \"\").replace(\"json\",\"\").replace(\"\\n\",\"\").replace(\"'\", '\"').replace(\"\\t\",\"\").replace('\"s ', '\\'s ')\n",
    "    #print(f\"Midway: {json_string}\")\n",
    "    json_output = json.loads(json_string)\n",
    "    return json_output"
   ]
  },
  {
   "cell_type": "code",
   "execution_count": 93,
   "id": "95f0d7ce-8b98-4707-860b-31045a982396",
   "metadata": {},
   "outputs": [
    {
     "name": "stdout",
     "output_type": "stream",
     "text": [
      "You are a Bangla news article analyzer. Given an article, analyze the following aspects:\n",
      "\n",
      "    1. Genre: Identify the genre(s) of the article. Choose from: Politics, Crime, International Affairs, Business & Economy, Sports, Culture & Entertainment, Jobs, Lifestyle, Health, Environment, Local news, Education, Technology, Religion, Science, Protests and Social Movements, Govt Actions.\n",
      "    2. Journalism Style: Determine the journalism style used in the article. Choose from: Straight, Investigative, Commentary.\n",
      "    3. indigenous People Representation:\n",
      "        - Identify if indigenous people are featured in the article.\n",
      "        - If yes, categorize their role as one of the following: Subject, Spokesperson, Expert or Commentator, Personal Experience, Popular Opinion, Eyewitness.\n",
      "        - If indigenous people are only mentioned in passing, return false. Otherwise, return true.\n",
      "    4. Sentiment: Assess the sentiment of the article towards indigenous people. Choose from: Positive, Negative, Neutral.\n",
      "    5. Agenda Setting: Summarize the agenda-setting aspect in one word.\n",
      "    6. Framing: Summarize the framing aspect in one word.\n",
      "    7. Priming: Summarize the priming aspect in one word.\n",
      "    8. Mobilizing: Summarize the mobilizing aspect in one word.\n",
      "\n",
      "Return a JSON object in the following format:\n",
      "\n",
      "{\n",
      "  \"genre\": [\"GENRE(s)\"],\n",
      "  \"journalism_style\": \"STYLE\",\n",
      "  \"featured\": \"FEATURE_CATEGORY\",\n",
      "  \"is_indigenous\": true,\n",
      "  \"sentiment\": \"Positive\",\n",
      "  \"agenda_setting\": \"AGENDA_SETTING\",\n",
      "  \"framing\": \"FRAMING\",\n",
      "  \"priming\": \"PRIMING\",\n",
      "  \"mobilizing\": \"MOBILIZING\"\n",
      "}\n"
     ]
    }
   ],
   "source": [
    "with open('prompt.txt', 'r') as file:\n",
    "    prompt = file.read()\n",
    "print(prompt)"
   ]
  },
  {
   "cell_type": "code",
   "execution_count": 94,
   "id": "0df38835-a687-45e7-9b9d-1deb18a22a72",
   "metadata": {},
   "outputs": [
    {
     "name": "stderr",
     "output_type": "stream",
     "text": [
      "100%|███████████████████████████████████████████████████████████████████████████████████████████████████████████████| 100/100 [02:59<00:00,  1.80s/it]\n"
     ]
    }
   ],
   "source": [
    "from tqdm import tqdm\n",
    "\n",
    "articles = ethnic_df[\"content\"].values.tolist()\n",
    "responses = []\n",
    "for article in tqdm(articles[:N]):\n",
    "    responses.append(get_response(article[:10000]))"
   ]
  },
  {
   "cell_type": "code",
   "execution_count": 95,
   "id": "9d750444-223a-4192-af69-624717321c2b",
   "metadata": {},
   "outputs": [
    {
     "data": {
      "text/plain": [
       "['{\\n  \"genre\": [\"Crime\", \"Politics\"],\\n  \"journalism_style\": \"Straight\",\\n  \"featured\": \"Subject\",\\n  \"is_indigenous\": true,\\n  \"sentiment\": \"Negative\",\\n  \"agenda_setting\": \"Violence\",\\n  \"framing\": \"Resignation\",\\n  \"priming\": \"Assassination\",\\n  \"mobilizing\": \"Arrests\"\\n}',\n",
       " '{\\n  \"genre\": [\"Crime\"],\\n  \"journalism_style\": \"Straight\",\\n  \"featured\": \"Subject\",\\n  \"is_indigenous\": true,\\n  \"sentiment\": \"Negative\",\\n  \"agenda_setting\": \"Conflict\",\\n  \"framing\": \"Violence\",\\n  \"priming\": \"Armed\",\\n  \"mobilizing\": \"Clash\"\\n}',\n",
       " '{\\n  \"genre\": [\"Crime\"],\\n  \"journalism_style\": \"Straight\",\\n  \"featured\": \"Subject\",\\n  \"is_indigenous\": false,\\n  \"sentiment\": \"Negative\",\\n  \"agenda_setting\": \"Immigration\",\\n  \"framing\": \"Detainment\",\\n  \"priming\": \"Border Security\",\\n  \"mobilizing\": \"Enforcement\"\\n}',\n",
       " '{\\n  \"genre\": [\"Culture & Entertainment\", \"Local news\"],\\n  \"journalism_style\": \"Straight\",\\n  \"featured\": \"\",\\n  \"is_indigenous\": false,\\n  \"sentiment\": \"Positive\",\\n  \"agenda_setting\": \"Language\",\\n  \"framing\": \"Unity\",\\n  \"priming\": \"Cultural Exchange\",\\n  \"mobilizing\": \"Unity\"\\n}',\n",
       " '{\\n  \"genre\": [\"Crime\"],\\n  \"journalism_style\": \"Straight\",\\n  \"featured\": \"Subject\",\\n  \"is_indigenous\": true,\\n  \"sentiment\": \"Negative\",\\n  \"agenda_setting\": \"Corruption\",\\n  \"framing\": \"Arrest\",\\n  \"priming\": \"Illegal Activity\",\\n  \"mobilizing\": \"Enforcement\"\\n}']"
      ]
     },
     "execution_count": 95,
     "metadata": {},
     "output_type": "execute_result"
    }
   ],
   "source": [
    "responses[:5]"
   ]
  },
  {
   "cell_type": "code",
   "execution_count": 96,
   "id": "ef927981-c54b-4a84-811f-279576906789",
   "metadata": {},
   "outputs": [],
   "source": [
    "true_labels = [1,1,0,0,1,1,1,1,1,1,0,1,0,1,1,1,1,1,0,1,1,0,0,1,0,1,0,1,1,0,1,0,0,1,0,1,1,1,1,0,1,1,1,0,1,1,1,0,\n",
    "               1,1,1,0,1,0,0,0,1,1,1,1,0,1,0,1,\n",
    "               0,1,0,1,1,1,1,0,1,1,1,0,0,0,0,0,1,1,0,0,0,0,1,0,1,1,1,1,1,0,1,1,1,1,0,1]"
   ]
  },
  {
   "cell_type": "code",
   "execution_count": 98,
   "id": "c2e1d8a1-b16e-4cc9-a688-8767b41340e5",
   "metadata": {},
   "outputs": [
    {
     "data": {
      "text/html": [
       "<div>\n",
       "<style scoped>\n",
       "    .dataframe tbody tr th:only-of-type {\n",
       "        vertical-align: middle;\n",
       "    }\n",
       "\n",
       "    .dataframe tbody tr th {\n",
       "        vertical-align: top;\n",
       "    }\n",
       "\n",
       "    .dataframe thead th {\n",
       "        text-align: right;\n",
       "    }\n",
       "</style>\n",
       "<table border=\"1\" class=\"dataframe\">\n",
       "  <thead>\n",
       "    <tr style=\"text-align: right;\">\n",
       "      <th></th>\n",
       "      <th>content</th>\n",
       "      <th>Genre</th>\n",
       "      <th>Journalism Style</th>\n",
       "      <th>Featured</th>\n",
       "      <th>Is_ethnic</th>\n",
       "      <th>Sentiment</th>\n",
       "      <th>Agenda Setting</th>\n",
       "      <th>Framing</th>\n",
       "      <th>Priming</th>\n",
       "      <th>Mobilizing</th>\n",
       "    </tr>\n",
       "  </thead>\n",
       "  <tbody>\n",
       "    <tr>\n",
       "      <th>0</th>\n",
       "      <td>রাঙ্গামাটিতে আওয়ামী লীগে ভর্তি আতঙ্ক ছড়িয়ে পড়ে...</td>\n",
       "      <td>[Crime, Politics]</td>\n",
       "      <td>Straight</td>\n",
       "      <td>Subject</td>\n",
       "      <td>True</td>\n",
       "      <td>Negative</td>\n",
       "      <td>Violence</td>\n",
       "      <td>Resignation</td>\n",
       "      <td>Assassination</td>\n",
       "      <td>Arrests</td>\n",
       "    </tr>\n",
       "    <tr>\n",
       "      <th>1</th>\n",
       "      <td>রাঙামাটির লংগদু উপজেলায় সশস্ত্র দুই গ্রুপের সং...</td>\n",
       "      <td>[Crime]</td>\n",
       "      <td>Straight</td>\n",
       "      <td>Subject</td>\n",
       "      <td>True</td>\n",
       "      <td>Negative</td>\n",
       "      <td>Conflict</td>\n",
       "      <td>Violence</td>\n",
       "      <td>Armed</td>\n",
       "      <td>Clash</td>\n",
       "    </tr>\n",
       "    <tr>\n",
       "      <th>2</th>\n",
       "      <td>ব্রাহ্মণবাড়িয়ার আখাউড়া উপজেলায় ভারতের ত্রিপুরা...</td>\n",
       "      <td>[Crime]</td>\n",
       "      <td>Straight</td>\n",
       "      <td>Subject</td>\n",
       "      <td>False</td>\n",
       "      <td>Negative</td>\n",
       "      <td>Immigration</td>\n",
       "      <td>Detainment</td>\n",
       "      <td>Border Security</td>\n",
       "      <td>Enforcement</td>\n",
       "    </tr>\n",
       "    <tr>\n",
       "      <th>3</th>\n",
       "      <td>ভৌগলিক সীমারেখা ভুলে কেবল ভাষার টানে দুই বাংলা...</td>\n",
       "      <td>[Culture &amp; Entertainment, Local news]</td>\n",
       "      <td>Straight</td>\n",
       "      <td></td>\n",
       "      <td>False</td>\n",
       "      <td>Positive</td>\n",
       "      <td>Language</td>\n",
       "      <td>Unity</td>\n",
       "      <td>Cultural Exchange</td>\n",
       "      <td>Unity</td>\n",
       "    </tr>\n",
       "    <tr>\n",
       "      <th>4</th>\n",
       "      <td>চাঁদাবাজির ১১ লাখ টাকাসহ পার্বত্য চট্টগ্রাম জন...</td>\n",
       "      <td>[Crime]</td>\n",
       "      <td>Straight</td>\n",
       "      <td>Subject</td>\n",
       "      <td>True</td>\n",
       "      <td>Negative</td>\n",
       "      <td>Corruption</td>\n",
       "      <td>Arrest</td>\n",
       "      <td>Illegal Activity</td>\n",
       "      <td>Enforcement</td>\n",
       "    </tr>\n",
       "  </tbody>\n",
       "</table>\n",
       "</div>"
      ],
      "text/plain": [
       "                                             content  \\\n",
       "0  রাঙ্গামাটিতে আওয়ামী লীগে ভর্তি আতঙ্ক ছড়িয়ে পড়ে...   \n",
       "1  রাঙামাটির লংগদু উপজেলায় সশস্ত্র দুই গ্রুপের সং...   \n",
       "2  ব্রাহ্মণবাড়িয়ার আখাউড়া উপজেলায় ভারতের ত্রিপুরা...   \n",
       "3  ভৌগলিক সীমারেখা ভুলে কেবল ভাষার টানে দুই বাংলা...   \n",
       "4  চাঁদাবাজির ১১ লাখ টাকাসহ পার্বত্য চট্টগ্রাম জন...   \n",
       "\n",
       "                                   Genre Journalism Style Featured  Is_ethnic  \\\n",
       "0                      [Crime, Politics]         Straight  Subject       True   \n",
       "1                                [Crime]         Straight  Subject       True   \n",
       "2                                [Crime]         Straight  Subject      False   \n",
       "3  [Culture & Entertainment, Local news]         Straight               False   \n",
       "4                                [Crime]         Straight  Subject       True   \n",
       "\n",
       "  Sentiment Agenda Setting      Framing            Priming   Mobilizing  \n",
       "0  Negative       Violence  Resignation      Assassination      Arrests  \n",
       "1  Negative       Conflict     Violence              Armed        Clash  \n",
       "2  Negative    Immigration   Detainment    Border Security  Enforcement  \n",
       "3  Positive       Language        Unity  Cultural Exchange        Unity  \n",
       "4  Negative     Corruption       Arrest   Illegal Activity  Enforcement  "
      ]
     },
     "execution_count": 98,
     "metadata": {},
     "output_type": "execute_result"
    }
   ],
   "source": [
    "ethnic_sample_df = ethnic_df.iloc[:N].copy()\n",
    "ethnic_sample_df[\"Genre\"] = [post_process_chatgpt_turbo_3_5_response_to_json(response)[\"genre\"] for response in responses]\n",
    "ethnic_sample_df[\"Journalism Style\"] = [post_process_chatgpt_turbo_3_5_response_to_json(response)[\"journalism_style\"] for response in responses]\n",
    "ethnic_sample_df[\"Featured\"] = [post_process_chatgpt_turbo_3_5_response_to_json(response)[\"featured\"] for response in responses]\n",
    "ethnic_sample_df[\"Is_ethnic\"] = [post_process_chatgpt_turbo_3_5_response_to_json(response)[\"is_indigenous\"] for response in responses]\n",
    "ethnic_sample_df[\"Sentiment\"] = [post_process_chatgpt_turbo_3_5_response_to_json(response)[\"sentiment\"] for response in responses]\n",
    "ethnic_sample_df[\"Agenda Setting\"] = [post_process_chatgpt_turbo_3_5_response_to_json(response)[\"agenda_setting\"] for response in responses]\n",
    "ethnic_sample_df[\"Framing\"] = [post_process_chatgpt_turbo_3_5_response_to_json(response)[\"framing\"] for response in responses]\n",
    "ethnic_sample_df[\"Priming\"] = [post_process_chatgpt_turbo_3_5_response_to_json(response)[\"priming\"] for response in responses]\n",
    "ethnic_sample_df[\"Mobilizing\"] = [post_process_chatgpt_turbo_3_5_response_to_json(response)[\"mobilizing\"] for response in responses]\n",
    "\n",
    "ethnic_sample_df.head()"
   ]
  },
  {
   "cell_type": "code",
   "execution_count": 99,
   "id": "63890706-dfb3-43eb-851c-78f22e159fea",
   "metadata": {},
   "outputs": [
    {
     "data": {
      "text/plain": [
       "[1, 1, 0, 0, 1, 1, 1, 1, 1, 1]"
      ]
     },
     "execution_count": 99,
     "metadata": {},
     "output_type": "execute_result"
    }
   ],
   "source": [
    "predicted_labels = ethnic_sample_df[\"Is_ethnic\"].values.tolist()\n",
    "predicted_labels = [1 if item == True else 0 for item in predicted_labels]\n",
    "predicted_labels[:10]"
   ]
  },
  {
   "cell_type": "code",
   "execution_count": 100,
   "id": "9d24050a-abf4-4bab-b2db-d681de39b5df",
   "metadata": {},
   "outputs": [
    {
     "name": "stdout",
     "output_type": "stream",
     "text": [
      "Precision: 0.8125\n",
      "Recall: 0.8253968253968254\n",
      "Accuracy: 0.77\n",
      "F1 Score: 0.8188976377952756\n"
     ]
    }
   ],
   "source": [
    "from sklearn.metrics import precision_score, recall_score, accuracy_score, f1_score\n",
    "\n",
    "# Calculating precision, recall, accuracy, and F1 score\n",
    "precision = precision_score(true_labels[:N], predicted_labels)\n",
    "recall = recall_score(true_labels[:N], predicted_labels)\n",
    "accuracy = accuracy_score(true_labels[:N], predicted_labels)\n",
    "f1 = f1_score(true_labels[:N], predicted_labels)\n",
    "\n",
    "# Print the results\n",
    "print(f\"Precision: {precision}\")\n",
    "print(f\"Recall: {recall}\")\n",
    "print(f\"Accuracy: {accuracy}\")\n",
    "print(f\"F1 Score: {f1}\")"
   ]
  },
  {
   "cell_type": "code",
   "execution_count": 106,
   "id": "e9b414cf-2698-4664-a2eb-82977a619fb7",
   "metadata": {},
   "outputs": [],
   "source": [
    "ethnic_sample_df.to_csv(f\"../data/ethnic_{N}_gpt_3.5_turbo_{EXPERIMENT_IDENTIFIER}.csv\")"
   ]
  },
  {
   "cell_type": "code",
   "execution_count": 107,
   "id": "8a2a99f2-f1b3-45e9-9112-05c53b94c49f",
   "metadata": {},
   "outputs": [
    {
     "data": {
      "text/plain": [
       "['../data/ethnic_100_gpt3.5_turbo_final_indigenous_prompt.joblib']"
      ]
     },
     "execution_count": 107,
     "metadata": {},
     "output_type": "execute_result"
    }
   ],
   "source": [
    "import joblib\n",
    "joblib.dump(responses, f\"../data/ethnic_{N}_gpt3.5_turbo_{EXPERIMENT_IDENTIFIER}.joblib\")"
   ]
  },
  {
   "cell_type": "code",
   "execution_count": 108,
   "id": "4084c337-7946-4c2f-ad3c-bb9fb37125fc",
   "metadata": {},
   "outputs": [
    {
     "data": {
      "text/plain": [
       "[True,\n",
       " True,\n",
       " False,\n",
       " False,\n",
       " True,\n",
       " True,\n",
       " True,\n",
       " True,\n",
       " True,\n",
       " True,\n",
       " True,\n",
       " False,\n",
       " True,\n",
       " True,\n",
       " True,\n",
       " True,\n",
       " True,\n",
       " True,\n",
       " False,\n",
       " True,\n",
       " False,\n",
       " False,\n",
       " False,\n",
       " True,\n",
       " False,\n",
       " True,\n",
       " False,\n",
       " True,\n",
       " True,\n",
       " False,\n",
       " True,\n",
       " True,\n",
       " False,\n",
       " True,\n",
       " False,\n",
       " True,\n",
       " True,\n",
       " True,\n",
       " True,\n",
       " False,\n",
       " False,\n",
       " True,\n",
       " True,\n",
       " False,\n",
       " True,\n",
       " True,\n",
       " True,\n",
       " False,\n",
       " True,\n",
       " True,\n",
       " True,\n",
       " True,\n",
       " True,\n",
       " True,\n",
       " True,\n",
       " True,\n",
       " False,\n",
       " True,\n",
       " True,\n",
       " False,\n",
       " False,\n",
       " False,\n",
       " False,\n",
       " True,\n",
       " False,\n",
       " True,\n",
       " False,\n",
       " True,\n",
       " True,\n",
       " True,\n",
       " False,\n",
       " True,\n",
       " True,\n",
       " True,\n",
       " False,\n",
       " False,\n",
       " False,\n",
       " True,\n",
       " False,\n",
       " True,\n",
       " True,\n",
       " True,\n",
       " False,\n",
       " False,\n",
       " True,\n",
       " False,\n",
       " False,\n",
       " True,\n",
       " True,\n",
       " True,\n",
       " True,\n",
       " True,\n",
       " True,\n",
       " False,\n",
       " True,\n",
       " False,\n",
       " False,\n",
       " True,\n",
       " False,\n",
       " True]"
      ]
     },
     "execution_count": 108,
     "metadata": {},
     "output_type": "execute_result"
    }
   ],
   "source": [
    "ethnic_sample_df[\"Is_ethnic\"].values.tolist()"
   ]
  },
  {
   "cell_type": "markdown",
   "id": "38140c7d-5caa-4aae-850b-d06211e86785",
   "metadata": {
    "jp-MarkdownHeadingCollapsed": true
   },
   "source": [
    "### MISC"
   ]
  },
  {
   "cell_type": "code",
   "execution_count": 11,
   "id": "52aff79a-ea89-423e-9bab-5eadd5de83a0",
   "metadata": {},
   "outputs": [],
   "source": [
    "abhi_labels = [1,1,0,0,1,1,1,0,1,1,0,0,1,1,1,1,1,1,0,\n",
    "               1,1,0,0,1,0,1,0,1,1,0,1,1,0,0,0,1,1,1,\n",
    "               1,0,1,1,1,1,1,0,1,0,1,1,1,0,1,1,0,1,1,\n",
    "               1,1,0,0,1,0,1,1,1,1,1,1,1,1,0,1,1,1,0,\n",
    "               0,0,1,0,1,\n",
    "               1,0,0,0,1,1,0,1,1,1,1,1,0,1,1,1,1,1,1,]\n",
    "sharif_labels = [ 1,1,0,0,1,1,1,1,1,1,0,1,0,1,1,1,1,1,0,1,1,0,0,0,0,1,0,1,0,0,1,0,0,1,0,1,0,1,1,0,1,1,1,0,1,1,1,0,\n",
    "                 1,1,1,0,1,0,0,0,0,0,1,1,0,0,0,1,0,1,0,1,0,1,1,0,0,1,0,0,0,0,0,0,1,1,0,0,0,0,1,0,0,1,1,1,1,0,1,1,1,1,0,1 ]"
   ]
  },
  {
   "cell_type": "code",
   "execution_count": 14,
   "id": "4850d8a3-451c-4819-9703-bff2ee6265ab",
   "metadata": {},
   "outputs": [
    {
     "data": {
      "text/plain": [
       "(np.float64(0.75), 25)"
      ]
     },
     "execution_count": 14,
     "metadata": {},
     "output_type": "execute_result"
    }
   ],
   "source": [
    "import numpy as np\n",
    "def annotator_agreement_score(labels1, labels2):\n",
    "    # Calculate agreement score\n",
    "    total_labels = len(labels1)\n",
    "    agreements = np.sum(np.array(labels1) == np.array(labels2))\n",
    "    agreement_score = agreements / total_labels\n",
    "\n",
    "    # Find conflicting posts\n",
    "    conflict_indices = [i for i in range(total_labels) if labels1[i] != labels2[i]]\n",
    "    conflicting_posts = [(i, labels1[i], labels2[i]) for i in conflict_indices]\n",
    "\n",
    "    return agreement_score, len(conflicting_posts)\n",
    "annotator_agreement_score(abhi_labels, sharif_labels)"
   ]
  },
  {
   "cell_type": "code",
   "execution_count": 80,
   "id": "210653ce-4af2-4635-8d54-afc1ef7f7048",
   "metadata": {},
   "outputs": [
    {
     "name": "stdout",
     "output_type": "stream",
     "text": [
      "Yes count: 63\n",
      "No count: 37\n"
     ]
    }
   ],
   "source": [
    "from collections import Counter\n",
    "\n",
    "counts = Counter(true_labels)\n",
    "print(\"Yes count:\", counts[1])\n",
    "print(\"No count:\", counts[0])"
   ]
  },
  {
   "cell_type": "code",
   "execution_count": 45,
   "id": "57496762-496b-4f93-96fd-3157c7da19ac",
   "metadata": {},
   "outputs": [
    {
     "data": {
      "text/plain": [
       "[np.int64(2),\n",
       " 'গাইবান্ধার গোবিন্দগঞ্জের রংপুর চিনিকলের সাহেবগঞ্জ ইক্ষু খামারে দেয়া কাঁটাতারের বেড়ার পিলার ভাংচুর করেছে দুর্বৃত্তরা।সোমবার রাতে খামার সংলগ্ন জয়পুর পাড়ার দক্ষিণ অংশে দেয়া ২৬টি পিলার ভাংচুর করা হয়।খামারের জমি সাঁওতালদের কাছ থেকে দখলমুক্ত করার পর মিল কর্তৃপক্ষ এই কাঁটাতারের বেড়া দেয়। এরপর সোমবার রাতে সাঁওতাল পল্লী সংলগ্ন খামারের বেড়ার পিলার ভাংচুর করে দুর্বৃত্তরা।রংপুর সুগার মিলের ব্যবস্থাপনা পরিচালক আব্দুল আউয়াল জানান, দুস্কৃতকারীরা রাতের আধারে খামারের পশ্চিম অংশে সাঁওতাল পল্লী জয়পুর পাড়া সংলগ্ন ২৬টি পিলার ভাংচুর করে। এ ঘটনায় ১৩ জনের নাম উল্লেখ করে খামারের উপ-ব্যবস্থাপক মো. হুমায়ন কবির মঙ্গলবার রাতে গোবিন্দগঞ্জ থানায় একটি জিডি করেন।গোবিন্দগঞ্জ থানার ওসি সুব্রত কুমার সরকার বিষয়টি নিশ্চিত করে বলেন, ঘটনার বিষয়টি খতিয়ে দেখা হচ্ছে।গত ৬ নভেম্বর আদিবাসী সাঁওতালদের সঙ্গে আইনশৃংখলা বাহিনী চিনিকলের শ্রমিক-কর্মচারীদের সংঘর্ষের পর ইক্ষু খামার থেকে সাঁওতাল বসতি উচ্ছেদ, লুটপাট, গুলিতে ৩ সাঁওতাল নিহত হওয়ার ঘটনায় সেখানে এখনও অস্থিরতা রয়েছে।',\n",
       " 'Crime',\n",
       " 'Investigative',\n",
       " 'Victim',\n",
       " np.True_,\n",
       " 'Negative',\n",
       " 'Revealing',\n",
       " 'Conflict',\n",
       " 'Violence',\n",
       " 'Awareness']"
      ]
     },
     "execution_count": 45,
     "metadata": {},
     "output_type": "execute_result"
    }
   ],
   "source": [
    "ethnic_sample_df.iloc[2].values.tolist()"
   ]
  },
  {
   "cell_type": "code",
   "execution_count": 78,
   "id": "f83b724d-cf14-4533-be11-eafe032f86b8",
   "metadata": {},
   "outputs": [],
   "source": [
    "ethnic_sample_df = ethnic_df.sample(n=100, random_state=3)"
   ]
  },
  {
   "cell_type": "code",
   "execution_count": 79,
   "id": "e338b168-edf1-4adb-8fd6-469a8b705cd2",
   "metadata": {},
   "outputs": [],
   "source": [
    "ethnic_sample_df.to_csv(\"../data/annotated_100_ethnic_article_against_5_metrics.csv\")"
   ]
  },
  {
   "cell_type": "code",
   "execution_count": null,
   "id": "319dc672-c973-4013-9f6a-5c87fe917f3a",
   "metadata": {},
   "outputs": [],
   "source": []
  }
 ],
 "metadata": {
  "kernelspec": {
   "display_name": "Python 3 (ipykernel)",
   "language": "python",
   "name": "python3"
  },
  "language_info": {
   "codemirror_mode": {
    "name": "ipython",
    "version": 3
   },
   "file_extension": ".py",
   "mimetype": "text/x-python",
   "name": "python",
   "nbconvert_exporter": "python",
   "pygments_lexer": "ipython3",
   "version": "3.10.12"
  }
 },
 "nbformat": 4,
 "nbformat_minor": 5
}
