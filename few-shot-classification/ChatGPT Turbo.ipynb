{
 "cells": [
  {
   "cell_type": "code",
   "execution_count": 3,
   "id": "1dc74706-decd-4308-9e6a-93f802c8da7a",
   "metadata": {},
   "outputs": [],
   "source": [
    "EXPERIMENT_IDENTIFIER = \"completed\""
   ]
  },
  {
   "cell_type": "code",
   "execution_count": 4,
   "id": "f4d22d6b-3825-4e6b-bf89-134a0dd360e9",
   "metadata": {},
   "outputs": [],
   "source": [
    "N = 4892"
   ]
  },
  {
   "cell_type": "code",
   "execution_count": 5,
   "id": "1dfa6cdb-e3e7-4732-bfb4-b9dbe6863f76",
   "metadata": {},
   "outputs": [
    {
     "name": "stdout",
     "output_type": "stream",
     "text": [
      "../data/ethnic_dataset_4893_after_removing_rakhain.csv\n"
     ]
    }
   ],
   "source": [
    "!ls ../data/ethnic_dataset_4893_after_removing_rakhain.csv"
   ]
  },
  {
   "cell_type": "code",
   "execution_count": 6,
   "id": "abaae08d-414d-49d3-8638-ab95a2f32d5e",
   "metadata": {},
   "outputs": [
    {
     "data": {
      "text/html": [
       "<div>\n",
       "<style scoped>\n",
       "    .dataframe tbody tr th:only-of-type {\n",
       "        vertical-align: middle;\n",
       "    }\n",
       "\n",
       "    .dataframe tbody tr th {\n",
       "        vertical-align: top;\n",
       "    }\n",
       "\n",
       "    .dataframe thead th {\n",
       "        text-align: right;\n",
       "    }\n",
       "</style>\n",
       "<table border=\"1\" class=\"dataframe\">\n",
       "  <thead>\n",
       "    <tr style=\"text-align: right;\">\n",
       "      <th></th>\n",
       "      <th>content</th>\n",
       "    </tr>\n",
       "  </thead>\n",
       "  <tbody>\n",
       "    <tr>\n",
       "      <th>0</th>\n",
       "      <td>রমেল হত্যায় মানবাধিকার কমিশনের তদন্ত শুরুরাঙ্গ...</td>\n",
       "    </tr>\n",
       "    <tr>\n",
       "      <th>1</th>\n",
       "      <td>নারায়ণগঞ্জের রূপগঞ্জ ও ফতুল্লা, গাজীপুরের কালি...</td>\n",
       "    </tr>\n",
       "    <tr>\n",
       "      <th>2</th>\n",
       "      <td>গাইবান্ধার গোবিন্দগঞ্জের রংপুর চিনিকলের সাহেবগ...</td>\n",
       "    </tr>\n",
       "    <tr>\n",
       "      <th>3</th>\n",
       "      <td>চাঞ্চল্যকর পিলখানা হত্যা মামলায় ডেথ রেফারেন্স ...</td>\n",
       "    </tr>\n",
       "    <tr>\n",
       "      <th>4</th>\n",
       "      <td>অবাধে মাটি কেটে নেয়ার ধ্বংসের দ্বারপ্রান্তে ধো...</td>\n",
       "    </tr>\n",
       "    <tr>\n",
       "      <th>...</th>\n",
       "      <td>...</td>\n",
       "    </tr>\n",
       "    <tr>\n",
       "      <th>4888</th>\n",
       "      <td>খাগড়াছড়ির দীঘিনালায় জেএসএস (এমএন লারমা) সমর্থি...</td>\n",
       "    </tr>\n",
       "    <tr>\n",
       "      <th>4889</th>\n",
       "      <td>শান্তি-সম্প্রীতি স্থাপনে দুই দশক আগে পার্বত্য ...</td>\n",
       "    </tr>\n",
       "    <tr>\n",
       "      <th>4890</th>\n",
       "      <td>জনপ্রিয় ম্যাগাজিন অনুষ্ঠান ‘ইত্যাদি’ আজ শুক্রব...</td>\n",
       "    </tr>\n",
       "    <tr>\n",
       "      <th>4891</th>\n",
       "      <td>সরকারি বেতন স্কেলের নবম থেকে ১৩তম গ্রেড পর্যন্...</td>\n",
       "    </tr>\n",
       "    <tr>\n",
       "      <th>4892</th>\n",
       "      <td>রাঙামাটির নানিয়াচরে ২৪ ঘণ্টার ব্যবধানে চাঞ্চল্...</td>\n",
       "    </tr>\n",
       "  </tbody>\n",
       "</table>\n",
       "<p>4893 rows × 1 columns</p>\n",
       "</div>"
      ],
      "text/plain": [
       "                                                content\n",
       "0     রমেল হত্যায় মানবাধিকার কমিশনের তদন্ত শুরুরাঙ্গ...\n",
       "1     নারায়ণগঞ্জের রূপগঞ্জ ও ফতুল্লা, গাজীপুরের কালি...\n",
       "2     গাইবান্ধার গোবিন্দগঞ্জের রংপুর চিনিকলের সাহেবগ...\n",
       "3     চাঞ্চল্যকর পিলখানা হত্যা মামলায় ডেথ রেফারেন্স ...\n",
       "4     অবাধে মাটি কেটে নেয়ার ধ্বংসের দ্বারপ্রান্তে ধো...\n",
       "...                                                 ...\n",
       "4888  খাগড়াছড়ির দীঘিনালায় জেএসএস (এমএন লারমা) সমর্থি...\n",
       "4889  শান্তি-সম্প্রীতি স্থাপনে দুই দশক আগে পার্বত্য ...\n",
       "4890  জনপ্রিয় ম্যাগাজিন অনুষ্ঠান ‘ইত্যাদি’ আজ শুক্রব...\n",
       "4891  সরকারি বেতন স্কেলের নবম থেকে ১৩তম গ্রেড পর্যন্...\n",
       "4892  রাঙামাটির নানিয়াচরে ২৪ ঘণ্টার ব্যবধানে চাঞ্চল্...\n",
       "\n",
       "[4893 rows x 1 columns]"
      ]
     },
     "execution_count": 6,
     "metadata": {},
     "output_type": "execute_result"
    }
   ],
   "source": [
    "import pandas as pd\n",
    "ethnic_df = pd.read_csv(\"../data/ethnic_dataset_4893_after_removing_rakhain.csv\")\n",
    "ethnic_df.drop([\"Unnamed: 0\"], axis=1, inplace=True)\n",
    "ethnic_df"
   ]
  },
  {
   "cell_type": "code",
   "execution_count": 7,
   "id": "9339cce9-8873-443c-af7b-469ffcd6c825",
   "metadata": {},
   "outputs": [
    {
     "data": {
      "text/plain": [
       "True"
      ]
     },
     "execution_count": 7,
     "metadata": {},
     "output_type": "execute_result"
    }
   ],
   "source": [
    "from dotenv import load_dotenv\n",
    "\n",
    "# Load environment variables from .env file\n",
    "load_dotenv()"
   ]
  },
  {
   "cell_type": "markdown",
   "id": "af9dfafb-e504-429d-b06f-3517986e6a2b",
   "metadata": {},
   "source": [
    "### Loading model"
   ]
  },
  {
   "cell_type": "code",
   "execution_count": 8,
   "id": "7ebd2f22-410f-4c66-b33b-60812821051a",
   "metadata": {},
   "outputs": [
    {
     "name": "stdout",
     "output_type": "stream",
     "text": [
      "Defaulting to user installation because normal site-packages is not writeable\n",
      "Requirement already satisfied: openai in /home/abhijit/.local/lib/python3.10/site-packages (1.43.0)\n",
      "Requirement already satisfied: tqdm>4 in /home/abhijit/.local/lib/python3.10/site-packages (from openai) (4.66.5)\n",
      "Requirement already satisfied: httpx<1,>=0.23.0 in /home/abhijit/.local/lib/python3.10/site-packages (from openai) (0.27.0)\n",
      "Requirement already satisfied: distro<2,>=1.7.0 in /usr/lib/python3/dist-packages (from openai) (1.7.0)\n",
      "Requirement already satisfied: anyio<5,>=3.5.0 in /home/abhijit/.local/lib/python3.10/site-packages (from openai) (4.4.0)\n",
      "Requirement already satisfied: pydantic<3,>=1.9.0 in /home/abhijit/.local/lib/python3.10/site-packages (from openai) (2.8.2)\n",
      "Requirement already satisfied: sniffio in /home/abhijit/.local/lib/python3.10/site-packages (from openai) (1.3.1)\n",
      "Requirement already satisfied: typing-extensions<5,>=4.11 in /home/abhijit/.local/lib/python3.10/site-packages (from openai) (4.12.2)\n",
      "Requirement already satisfied: jiter<1,>=0.4.0 in /home/abhijit/.local/lib/python3.10/site-packages (from openai) (0.5.0)\n",
      "Requirement already satisfied: exceptiongroup>=1.0.2 in /home/abhijit/.local/lib/python3.10/site-packages (from anyio<5,>=3.5.0->openai) (1.2.2)\n",
      "Requirement already satisfied: idna>=2.8 in /usr/lib/python3/dist-packages (from anyio<5,>=3.5.0->openai) (3.3)\n",
      "Requirement already satisfied: httpcore==1.* in /home/abhijit/.local/lib/python3.10/site-packages (from httpx<1,>=0.23.0->openai) (1.0.5)\n",
      "Requirement already satisfied: certifi in /usr/lib/python3/dist-packages (from httpx<1,>=0.23.0->openai) (2020.6.20)\n",
      "Requirement already satisfied: h11<0.15,>=0.13 in /home/abhijit/.local/lib/python3.10/site-packages (from httpcore==1.*->httpx<1,>=0.23.0->openai) (0.14.0)\n",
      "Requirement already satisfied: annotated-types>=0.4.0 in /home/abhijit/.local/lib/python3.10/site-packages (from pydantic<3,>=1.9.0->openai) (0.7.0)\n",
      "Requirement already satisfied: pydantic-core==2.20.1 in /home/abhijit/.local/lib/python3.10/site-packages (from pydantic<3,>=1.9.0->openai) (2.20.1)\n",
      "Note: you may need to restart the kernel to use updated packages.\n"
     ]
    }
   ],
   "source": [
    "pip install openai"
   ]
  },
  {
   "cell_type": "code",
   "execution_count": 9,
   "id": "d1d7b90a-4731-43f5-bfd1-3cb985b6d35b",
   "metadata": {},
   "outputs": [
    {
     "name": "stdout",
     "output_type": "stream",
     "text": [
      "Defaulting to user installation because normal site-packages is not writeable\n",
      "Requirement already satisfied: scikit-learn in /home/abhijit/.local/lib/python3.10/site-packages (1.5.1)\n",
      "Requirement already satisfied: numpy>=1.19.5 in /home/abhijit/.local/lib/python3.10/site-packages (from scikit-learn) (2.0.1)\n",
      "Requirement already satisfied: threadpoolctl>=3.1.0 in /home/abhijit/.local/lib/python3.10/site-packages (from scikit-learn) (3.5.0)\n",
      "Requirement already satisfied: joblib>=1.2.0 in /home/abhijit/.local/lib/python3.10/site-packages (from scikit-learn) (1.4.2)\n",
      "Requirement already satisfied: scipy>=1.6.0 in /home/abhijit/.local/lib/python3.10/site-packages (from scikit-learn) (1.14.1)\n"
     ]
    }
   ],
   "source": [
    "!pip install scikit-learn"
   ]
  },
  {
   "cell_type": "code",
   "execution_count": 18,
   "id": "7f9ca690-6b9d-4f08-87a1-9e6425e12708",
   "metadata": {},
   "outputs": [],
   "source": [
    "from openai import OpenAI\n",
    "import json\n",
    "\n",
    "client = OpenAI()\n",
    "\n",
    "def get_response(news_article):\n",
    "    completion = client.chat.completions.create(\n",
    "        model=\"gpt-3.5-turbo\",\n",
    "        messages=[\n",
    "            {\"role\": \"system\", \"content\": prompt},\n",
    "            {\"role\": \"user\", \"content\": news_article}\n",
    "        ]\n",
    "    )\n",
    "    return completion.choices[0].message.content"
   ]
  },
  {
   "cell_type": "code",
   "execution_count": 11,
   "id": "95f0d7ce-8b98-4707-860b-31045a982396",
   "metadata": {},
   "outputs": [
    {
     "name": "stdout",
     "output_type": "stream",
     "text": [
      "You are a Bangla news article analyzer. Given an article, analyze the following aspects:\n",
      "\n",
      "    1. Genre: Identify the genre(s) of the article. Choose from: Politics, Crime, International Affairs, Business & Economy, Sports, Culture & Entertainment, Jobs, Lifestyle, Health, Environment, Local news, Education, Technology, Religion, Science, Protests and Social Movements, Govt Actions.\n",
      "    2. Journalism Style: Determine the journalism style used in the article. Choose from: Straight, Investigative, Commentary.\n",
      "    3. indigenous People Representation:\n",
      "        - Identify if indigenous people are featured in the article.\n",
      "        - If yes, categorize their role as one of the following: Subject, Spokesperson, Expert or Commentator, Personal Experience, Popular Opinion, Eyewitness.\n",
      "        - If indigenous people are only mentioned in passing, return false. Otherwise, return true.\n",
      "    4. Sentiment: Assess the sentiment of the article towards indigenous people. Choose from: Positive, Negative, Neutral.\n",
      "    5. Agenda Setting: Summarize the agenda-setting aspect in one word.\n",
      "    6. Framing: Summarize the framing aspect in one word.\n",
      "    7. Priming: Summarize the priming aspect in one word.\n",
      "    8. Mobilizing: Summarize the mobilizing aspect in one word.\n",
      "\n",
      "Return a JSON object in the following format:\n",
      "\n",
      "{\n",
      "  \"genre\": [\"GENRE(s)\"],\n",
      "  \"journalism_style\": \"STYLE\",\n",
      "  \"featured\": \"FEATURE_CATEGORY\",\n",
      "  \"is_indigenous\": true,\n",
      "  \"sentiment\": \"Positive\",\n",
      "  \"agenda_setting\": \"AGENDA_SETTING\",\n",
      "  \"framing\": \"FRAMING\",\n",
      "  \"priming\": \"PRIMING\",\n",
      "  \"mobilizing\": \"MOBILIZING\"\n",
      "}\n"
     ]
    }
   ],
   "source": [
    "with open('prompt.txt', 'r') as file:\n",
    "    prompt = file.read()\n",
    "print(prompt)"
   ]
  },
  {
   "cell_type": "code",
   "execution_count": 14,
   "id": "0df38835-a687-45e7-9b9d-1deb18a22a72",
   "metadata": {},
   "outputs": [
    {
     "name": "stderr",
     "output_type": "stream",
     "text": [
      "Processing articles:   2%|█▊                                                                                     | 100/4892 [02:37<2:21:27,  1.77s/it]"
     ]
    },
    {
     "name": "stdout",
     "output_type": "stream",
     "text": [
      "Checkpoint saved at index 100\n"
     ]
    },
    {
     "name": "stderr",
     "output_type": "stream",
     "text": [
      "Processing articles:   4%|███▌                                                                                   | 200/4892 [05:14<2:16:43,  1.75s/it]"
     ]
    },
    {
     "name": "stdout",
     "output_type": "stream",
     "text": [
      "Checkpoint saved at index 200\n"
     ]
    },
    {
     "name": "stderr",
     "output_type": "stream",
     "text": [
      "Processing articles:   6%|█████▎                                                                                 | 300/4892 [07:47<1:56:11,  1.52s/it]"
     ]
    },
    {
     "name": "stdout",
     "output_type": "stream",
     "text": [
      "Checkpoint saved at index 300\n"
     ]
    },
    {
     "name": "stderr",
     "output_type": "stream",
     "text": [
      "Processing articles:   8%|███████                                                                                | 400/4892 [10:25<2:07:12,  1.70s/it]"
     ]
    },
    {
     "name": "stdout",
     "output_type": "stream",
     "text": [
      "Checkpoint saved at index 400\n"
     ]
    },
    {
     "name": "stderr",
     "output_type": "stream",
     "text": [
      "Processing articles:  10%|████████▉                                                                              | 500/4892 [13:03<1:46:53,  1.46s/it]"
     ]
    },
    {
     "name": "stdout",
     "output_type": "stream",
     "text": [
      "Checkpoint saved at index 500\n"
     ]
    },
    {
     "name": "stderr",
     "output_type": "stream",
     "text": [
      "Processing articles:  12%|██████████▋                                                                            | 600/4892 [15:40<2:05:03,  1.75s/it]"
     ]
    },
    {
     "name": "stdout",
     "output_type": "stream",
     "text": [
      "Checkpoint saved at index 600\n"
     ]
    },
    {
     "name": "stderr",
     "output_type": "stream",
     "text": [
      "Processing articles:  14%|████████████▍                                                                          | 700/4892 [18:17<1:54:24,  1.64s/it]"
     ]
    },
    {
     "name": "stdout",
     "output_type": "stream",
     "text": [
      "Checkpoint saved at index 700\n"
     ]
    },
    {
     "name": "stderr",
     "output_type": "stream",
     "text": [
      "Processing articles:  16%|██████████████▏                                                                        | 800/4892 [20:56<1:43:35,  1.52s/it]"
     ]
    },
    {
     "name": "stdout",
     "output_type": "stream",
     "text": [
      "Checkpoint saved at index 800\n"
     ]
    },
    {
     "name": "stderr",
     "output_type": "stream",
     "text": [
      "Processing articles:  18%|████████████████                                                                       | 900/4892 [23:35<1:41:46,  1.53s/it]"
     ]
    },
    {
     "name": "stdout",
     "output_type": "stream",
     "text": [
      "Checkpoint saved at index 900\n"
     ]
    },
    {
     "name": "stderr",
     "output_type": "stream",
     "text": [
      "Processing articles:  20%|█████████████████▌                                                                    | 1000/4892 [26:17<1:37:30,  1.50s/it]"
     ]
    },
    {
     "name": "stdout",
     "output_type": "stream",
     "text": [
      "Checkpoint saved at index 1000\n"
     ]
    },
    {
     "name": "stderr",
     "output_type": "stream",
     "text": [
      "Processing articles:  22%|███████████████████▎                                                                  | 1100/4892 [28:51<1:31:45,  1.45s/it]"
     ]
    },
    {
     "name": "stdout",
     "output_type": "stream",
     "text": [
      "Checkpoint saved at index 1100\n"
     ]
    },
    {
     "name": "stderr",
     "output_type": "stream",
     "text": [
      "Processing articles:  25%|█████████████████████                                                                 | 1200/4892 [31:25<1:36:22,  1.57s/it]"
     ]
    },
    {
     "name": "stdout",
     "output_type": "stream",
     "text": [
      "Checkpoint saved at index 1200\n"
     ]
    },
    {
     "name": "stderr",
     "output_type": "stream",
     "text": [
      "Processing articles:  27%|██████████████████████▊                                                               | 1300/4892 [33:59<1:25:10,  1.42s/it]"
     ]
    },
    {
     "name": "stdout",
     "output_type": "stream",
     "text": [
      "Checkpoint saved at index 1300\n"
     ]
    },
    {
     "name": "stderr",
     "output_type": "stream",
     "text": [
      "Processing articles:  29%|████████████████████████▌                                                             | 1400/4892 [36:40<1:30:34,  1.56s/it]"
     ]
    },
    {
     "name": "stdout",
     "output_type": "stream",
     "text": [
      "Checkpoint saved at index 1400\n"
     ]
    },
    {
     "name": "stderr",
     "output_type": "stream",
     "text": [
      "Processing articles:  31%|██████████████████████████▎                                                           | 1500/4892 [39:20<1:25:20,  1.51s/it]"
     ]
    },
    {
     "name": "stdout",
     "output_type": "stream",
     "text": [
      "Checkpoint saved at index 1500\n"
     ]
    },
    {
     "name": "stderr",
     "output_type": "stream",
     "text": [
      "Processing articles:  33%|████████████████████████████▏                                                         | 1600/4892 [42:05<1:32:46,  1.69s/it]"
     ]
    },
    {
     "name": "stdout",
     "output_type": "stream",
     "text": [
      "Checkpoint saved at index 1600\n"
     ]
    },
    {
     "name": "stderr",
     "output_type": "stream",
     "text": [
      "Processing articles:  35%|█████████████████████████████▉                                                        | 1700/4892 [44:42<1:27:47,  1.65s/it]"
     ]
    },
    {
     "name": "stdout",
     "output_type": "stream",
     "text": [
      "Checkpoint saved at index 1700\n"
     ]
    },
    {
     "name": "stderr",
     "output_type": "stream",
     "text": [
      "Processing articles:  37%|███████████████████████████████▋                                                      | 1800/4892 [47:17<1:29:27,  1.74s/it]"
     ]
    },
    {
     "name": "stdout",
     "output_type": "stream",
     "text": [
      "Checkpoint saved at index 1800\n"
     ]
    },
    {
     "name": "stderr",
     "output_type": "stream",
     "text": [
      "Processing articles:  39%|█████████████████████████████████▍                                                    | 1900/4892 [49:59<1:14:36,  1.50s/it]"
     ]
    },
    {
     "name": "stdout",
     "output_type": "stream",
     "text": [
      "Checkpoint saved at index 1900\n"
     ]
    },
    {
     "name": "stderr",
     "output_type": "stream",
     "text": [
      "Processing articles:  41%|███████████████████████████████████▏                                                  | 2000/4892 [52:34<1:20:31,  1.67s/it]"
     ]
    },
    {
     "name": "stdout",
     "output_type": "stream",
     "text": [
      "Checkpoint saved at index 2000\n"
     ]
    },
    {
     "name": "stderr",
     "output_type": "stream",
     "text": [
      "Processing articles:  43%|████████████████████████████████████▉                                                 | 2100/4892 [55:07<1:26:57,  1.87s/it]"
     ]
    },
    {
     "name": "stdout",
     "output_type": "stream",
     "text": [
      "Checkpoint saved at index 2100\n"
     ]
    },
    {
     "name": "stderr",
     "output_type": "stream",
     "text": [
      "Processing articles:  45%|██████████████████████████████████████▋                                               | 2200/4892 [57:41<1:13:47,  1.64s/it]"
     ]
    },
    {
     "name": "stdout",
     "output_type": "stream",
     "text": [
      "Checkpoint saved at index 2200\n"
     ]
    },
    {
     "name": "stderr",
     "output_type": "stream",
     "text": [
      "Processing articles:  47%|███████████████████████████████████████▍                                            | 2300/4892 [1:00:11<1:07:27,  1.56s/it]"
     ]
    },
    {
     "name": "stdout",
     "output_type": "stream",
     "text": [
      "Checkpoint saved at index 2300\n"
     ]
    },
    {
     "name": "stderr",
     "output_type": "stream",
     "text": [
      "Processing articles:  49%|█████████████████████████████████████████▏                                          | 2400/4892 [1:02:48<1:07:13,  1.62s/it]"
     ]
    },
    {
     "name": "stdout",
     "output_type": "stream",
     "text": [
      "Checkpoint saved at index 2400\n"
     ]
    },
    {
     "name": "stderr",
     "output_type": "stream",
     "text": [
      "Processing articles:  51%|██████████████████████████████████████████▉                                         | 2500/4892 [1:05:35<1:06:44,  1.67s/it]"
     ]
    },
    {
     "name": "stdout",
     "output_type": "stream",
     "text": [
      "Checkpoint saved at index 2500\n"
     ]
    },
    {
     "name": "stderr",
     "output_type": "stream",
     "text": [
      "Processing articles:  53%|████████████████████████████████████████████▋                                       | 2600/4892 [1:08:19<1:03:56,  1.67s/it]"
     ]
    },
    {
     "name": "stdout",
     "output_type": "stream",
     "text": [
      "Checkpoint saved at index 2600\n"
     ]
    },
    {
     "name": "stderr",
     "output_type": "stream",
     "text": [
      "Processing articles:  55%|███████████████████████████████████████████████▍                                      | 2700/4892 [1:11:08<56:51,  1.56s/it]"
     ]
    },
    {
     "name": "stdout",
     "output_type": "stream",
     "text": [
      "Checkpoint saved at index 2700\n"
     ]
    },
    {
     "name": "stderr",
     "output_type": "stream",
     "text": [
      "Processing articles:  57%|████████████████████████████████████████████████                                    | 2800/4892 [1:13:48<1:05:29,  1.88s/it]"
     ]
    },
    {
     "name": "stdout",
     "output_type": "stream",
     "text": [
      "Checkpoint saved at index 2800\n"
     ]
    },
    {
     "name": "stderr",
     "output_type": "stream",
     "text": [
      "Processing articles:  59%|██████████████████████████████████████████████████▉                                   | 2900/4892 [1:16:17<53:02,  1.60s/it]"
     ]
    },
    {
     "name": "stdout",
     "output_type": "stream",
     "text": [
      "Checkpoint saved at index 2900\n"
     ]
    },
    {
     "name": "stderr",
     "output_type": "stream",
     "text": [
      "Processing articles:  61%|████████████████████████████████████████████████████▋                                 | 3000/4892 [1:18:54<48:04,  1.52s/it]"
     ]
    },
    {
     "name": "stdout",
     "output_type": "stream",
     "text": [
      "Checkpoint saved at index 3000\n"
     ]
    },
    {
     "name": "stderr",
     "output_type": "stream",
     "text": [
      "Processing articles:  63%|██████████████████████████████████████████████████████▍                               | 3100/4892 [1:21:20<43:34,  1.46s/it]"
     ]
    },
    {
     "name": "stdout",
     "output_type": "stream",
     "text": [
      "Checkpoint saved at index 3100\n"
     ]
    },
    {
     "name": "stderr",
     "output_type": "stream",
     "text": [
      "Processing articles:  65%|████████████████████████████████████████████████████████▎                             | 3200/4892 [1:23:58<50:38,  1.80s/it]"
     ]
    },
    {
     "name": "stdout",
     "output_type": "stream",
     "text": [
      "Checkpoint saved at index 3200\n"
     ]
    },
    {
     "name": "stderr",
     "output_type": "stream",
     "text": [
      "Processing articles:  67%|██████████████████████████████████████████████████████████                            | 3300/4892 [1:26:34<40:46,  1.54s/it]"
     ]
    },
    {
     "name": "stdout",
     "output_type": "stream",
     "text": [
      "Checkpoint saved at index 3300\n"
     ]
    },
    {
     "name": "stderr",
     "output_type": "stream",
     "text": [
      "Processing articles:  70%|███████████████████████████████████████████████████████████▊                          | 3400/4892 [1:29:17<35:12,  1.42s/it]"
     ]
    },
    {
     "name": "stdout",
     "output_type": "stream",
     "text": [
      "Checkpoint saved at index 3400\n"
     ]
    },
    {
     "name": "stderr",
     "output_type": "stream",
     "text": [
      "Processing articles:  72%|█████████████████████████████████████████████████████████████▌                        | 3500/4892 [1:31:58<38:23,  1.65s/it]"
     ]
    },
    {
     "name": "stdout",
     "output_type": "stream",
     "text": [
      "Checkpoint saved at index 3500\n"
     ]
    },
    {
     "name": "stderr",
     "output_type": "stream",
     "text": [
      "Processing articles:  74%|███████████████████████████████████████████████████████████████▎                      | 3600/4892 [1:34:37<36:18,  1.69s/it]"
     ]
    },
    {
     "name": "stdout",
     "output_type": "stream",
     "text": [
      "Checkpoint saved at index 3600\n"
     ]
    },
    {
     "name": "stderr",
     "output_type": "stream",
     "text": [
      "Processing articles:  76%|█████████████████████████████████████████████████████████████████                     | 3700/4892 [1:37:17<30:05,  1.51s/it]"
     ]
    },
    {
     "name": "stdout",
     "output_type": "stream",
     "text": [
      "Checkpoint saved at index 3700\n"
     ]
    },
    {
     "name": "stderr",
     "output_type": "stream",
     "text": [
      "Processing articles:  78%|██████████████████████████████████████████████████████████████████▊                   | 3800/4892 [1:39:52<27:07,  1.49s/it]"
     ]
    },
    {
     "name": "stdout",
     "output_type": "stream",
     "text": [
      "Checkpoint saved at index 3800\n"
     ]
    },
    {
     "name": "stderr",
     "output_type": "stream",
     "text": [
      "Processing articles:  80%|████████████████████████████████████████████████████████████████████▌                 | 3900/4892 [1:42:23<23:48,  1.44s/it]"
     ]
    },
    {
     "name": "stdout",
     "output_type": "stream",
     "text": [
      "Checkpoint saved at index 3900\n"
     ]
    },
    {
     "name": "stderr",
     "output_type": "stream",
     "text": [
      "Processing articles:  82%|██████████████████████████████████████████████████████████████████████▎               | 4000/4892 [1:44:51<24:24,  1.64s/it]"
     ]
    },
    {
     "name": "stdout",
     "output_type": "stream",
     "text": [
      "Checkpoint saved at index 4000\n"
     ]
    },
    {
     "name": "stderr",
     "output_type": "stream",
     "text": [
      "Processing articles:  84%|████████████████████████████████████████████████████████████████████████              | 4100/4892 [1:47:19<18:26,  1.40s/it]"
     ]
    },
    {
     "name": "stdout",
     "output_type": "stream",
     "text": [
      "Checkpoint saved at index 4100\n"
     ]
    },
    {
     "name": "stderr",
     "output_type": "stream",
     "text": [
      "Processing articles:  86%|█████████████████████████████████████████████████████████████████████████▊            | 4200/4892 [1:49:51<17:55,  1.55s/it]"
     ]
    },
    {
     "name": "stdout",
     "output_type": "stream",
     "text": [
      "Checkpoint saved at index 4200\n"
     ]
    },
    {
     "name": "stderr",
     "output_type": "stream",
     "text": [
      "Processing articles:  88%|███████████████████████████████████████████████████████████████████████████▌          | 4300/4892 [1:52:30<15:36,  1.58s/it]"
     ]
    },
    {
     "name": "stdout",
     "output_type": "stream",
     "text": [
      "Checkpoint saved at index 4300\n"
     ]
    },
    {
     "name": "stderr",
     "output_type": "stream",
     "text": [
      "Processing articles:  90%|█████████████████████████████████████████████████████████████████████████████▎        | 4400/4892 [1:54:58<11:12,  1.37s/it]"
     ]
    },
    {
     "name": "stdout",
     "output_type": "stream",
     "text": [
      "Checkpoint saved at index 4400\n"
     ]
    },
    {
     "name": "stderr",
     "output_type": "stream",
     "text": [
      "Processing articles:  92%|███████████████████████████████████████████████████████████████████████████████       | 4500/4892 [1:57:34<10:10,  1.56s/it]"
     ]
    },
    {
     "name": "stdout",
     "output_type": "stream",
     "text": [
      "Checkpoint saved at index 4500\n"
     ]
    },
    {
     "name": "stderr",
     "output_type": "stream",
     "text": [
      "Processing articles:  94%|████████████████████████████████████████████████████████████████████████████████▊     | 4600/4892 [2:00:06<08:02,  1.65s/it]"
     ]
    },
    {
     "name": "stdout",
     "output_type": "stream",
     "text": [
      "Checkpoint saved at index 4600\n"
     ]
    },
    {
     "name": "stderr",
     "output_type": "stream",
     "text": [
      "Processing articles:  96%|██████████████████████████████████████████████████████████████████████████████████▌   | 4700/4892 [2:02:30<04:28,  1.40s/it]"
     ]
    },
    {
     "name": "stdout",
     "output_type": "stream",
     "text": [
      "Checkpoint saved at index 4700\n"
     ]
    },
    {
     "name": "stderr",
     "output_type": "stream",
     "text": [
      "Processing articles:  98%|████████████████████████████████████████████████████████████████████████████████████▍ | 4800/4892 [2:04:58<02:57,  1.93s/it]"
     ]
    },
    {
     "name": "stdout",
     "output_type": "stream",
     "text": [
      "Checkpoint saved at index 4800\n"
     ]
    },
    {
     "name": "stderr",
     "output_type": "stream",
     "text": [
      "Processing articles: 100%|██████████████████████████████████████████████████████████████████████████████████████| 4892/4892 [2:07:12<00:00,  1.56s/it]"
     ]
    },
    {
     "name": "stdout",
     "output_type": "stream",
     "text": [
      "Processing complete and final checkpoint saved.\n"
     ]
    },
    {
     "name": "stderr",
     "output_type": "stream",
     "text": [
      "\n"
     ]
    }
   ],
   "source": [
    "from tqdm import tqdm\n",
    "import pickle\n",
    "\n",
    "# Define checkpoint file path\n",
    "checkpoint_file = 'responses_checkpoint.pkl'\n",
    "\n",
    "# Load checkpoint if it exists\n",
    "try:\n",
    "    with open(checkpoint_file, 'rb') as f:\n",
    "        responses = pickle.load(f)\n",
    "        start_index = len(responses)\n",
    "        tqdm.write(f\"Resuming from checkpoint at index {start_index}\")\n",
    "except FileNotFoundError:\n",
    "    responses = []\n",
    "    start_index = 0\n",
    "\n",
    "# Fetch responses with checkpoints\n",
    "for i, article in tqdm(enumerate(articles[start_index:N]), total=N - start_index, desc=\"Processing articles\"):\n",
    "    if i >= start_index:\n",
    "        response = get_response(article[:10000])\n",
    "        responses.append(response)\n",
    "        \n",
    "        # Save checkpoint every 100 responses\n",
    "        if (i + 1) % 100 == 0:\n",
    "            with open(checkpoint_file, 'wb') as f:\n",
    "                pickle.dump(responses, f)\n",
    "            tqdm.write(f\"Checkpoint saved at index {i + 1}\")\n",
    "\n",
    "# Save final responses\n",
    "with open(checkpoint_file, 'wb') as f:\n",
    "    pickle.dump(responses, f)\n",
    "tqdm.write(\"Processing complete and final checkpoint saved.\")\n"
   ]
  },
  {
   "cell_type": "code",
   "execution_count": 15,
   "id": "a0b27832-69ba-41dc-9d3e-1e7b614053f9",
   "metadata": {},
   "outputs": [
    {
     "data": {
      "text/plain": [
       "['../data/ethnic_4892_gpt3.5_turbo_completed.joblib']"
      ]
     },
     "execution_count": 15,
     "metadata": {},
     "output_type": "execute_result"
    }
   ],
   "source": [
    "import joblib\n",
    "joblib.dump(responses, f\"../data/ethnic_{N}_gpt3.5_turbo_{EXPERIMENT_IDENTIFIER}.joblib\")"
   ]
  },
  {
   "cell_type": "code",
   "execution_count": 16,
   "id": "9d750444-223a-4192-af69-624717321c2b",
   "metadata": {},
   "outputs": [
    {
     "data": {
      "text/plain": [
       "['{\\n  \"genre\": [\"Crime\"],\\n  \"journalism_style\": \"Straight\",\\n  \"featured\": \"Subject\",\\n  \"is_indigenous\": true,\\n  \"sentiment\": \"Negative\",\\n  \"agenda_setting\": \"Investigation\",\\n  \"framing\": \"Criminal Investigation\",\\n  \"priming\": \"Allegations\",\\n  \"mobilizing\": \"Arrests\"\\n}',\n",
       " '{\\n  \"genre\": [\"Crime\"],\\n  \"journalism_style\": \"Straight\",\\n  \"featured\": \"Subject\",\\n  \"is_indigenous\": false,\\n  \"sentiment\": \"Negative\",\\n  \"agenda_setting\": \"Crime\",\\n  \"framing\": \"Drug Trafficking\",\\n  \"priming\": \"Arrests\",\\n  \"mobilizing\": \"Enforcement\"\\n}',\n",
       " '{\\n  \"genre\": [\"Crime\"],\\n  \"journalism_style\": \"Straight\",\\n  \"featured\": \"Subject\",\\n  \"is_indigenous\": true,\\n  \"sentiment\": \"Negative\",\\n  \"agenda_setting\": \"Conflict\",\\n  \"framing\": \"Violence\",\\n  \"priming\": \"Tension\",\\n  \"mobilizing\": \"Justice\"\\n}',\n",
       " '{\\n  \"genre\": [\"Crime\"],\\n  \"journalism_style\": \"Straight\",\\n  \"featured\": \"Subject\",\\n  \"is_indigenous\": false,\\n  \"sentiment\": \"Negative\",\\n  \"agenda_setting\": \"Justice\",\\n  \"framing\": \"Judicial\",\\n  \"priming\": \"Punishment\",\\n  \"mobilizing\": \"Action\"\\n}',\n",
       " '{\\n  \"genre\": [\"Environment\"],\\n  \"journalism_style\": \"Straight\",\\n  \"featured\": \"Subject\",\\n  \"is_indigenous\": true,\\n  \"sentiment\": \"Negative\",\\n  \"agenda_setting\": \"Land Degradation\",\\n  \"framing\": \"Environmental Destruction\",\\n  \"priming\": \"Neglect\",\\n  \"mobilizing\": \"Awareness\"\\n}']"
      ]
     },
     "execution_count": 16,
     "metadata": {},
     "output_type": "execute_result"
    }
   ],
   "source": [
    "responses[:5]"
   ]
  },
  {
   "cell_type": "code",
   "execution_count": 54,
   "id": "ecbc827f-3f84-4f33-b694-bd999506ec68",
   "metadata": {},
   "outputs": [],
   "source": [
    "import re\n",
    "\n",
    "def fix_quotes(json_str):\n",
    "    #print(f\"Before fixing: {json_str}\")\n",
    "    apostrophe = '\"'\n",
    "    parts = json_str.split(\",\")\n",
    "    fixed_parts = []\n",
    "    for part in parts:\n",
    "        if \"genre\" not in part:\n",
    "\n",
    "            # Detecting error\n",
    "            count_apostrophe = 0\n",
    "            for alphabet in part:\n",
    "                if alphabet == apostrophe:\n",
    "                    count_apostrophe+=1\n",
    "            # Fixing\n",
    "            if count_apostrophe > 4:\n",
    "                better_part = []\n",
    "                count_apostrophe = 0\n",
    "                for alphabet in part:\n",
    "                    if alphabet == apostrophe:\n",
    "                        count_apostrophe+=1\n",
    "                    if count_apostrophe == 4:\n",
    "                        better_part.append(\"'\")\n",
    "                        count_apostrophe = 0\n",
    "                    else:\n",
    "                        better_part.append(alphabet)\n",
    "                part = \"\".join(better_part)\n",
    "                \n",
    "            fixed_parts.append(part)\n",
    "        else:\n",
    "            fixed_parts.append(part)\n",
    "        \n",
    "    temp = \", \".join(fixed_parts)\n",
    "    #print(f\"After fixing: {temp}\")\n",
    "    return temp\n",
    "    \n",
    "def post_process_chatgpt_turbo_3_5_response_to_json(text):\n",
    "    json_string = text.replace(\"```\", \"\").replace(\"json\",\"\").replace(\"\\n\",\"\").replace(\"'\", '\"').replace(\"\\t\",\"\").replace('\"s ', '\\'s ')\n",
    "    try:\n",
    "        json_output = json.loads(json_string)\n",
    "        return json_output\n",
    "    except:\n",
    "        json_output = json.loads(fix_quotes(json_string))\n",
    "        return json_output"
   ]
  },
  {
   "cell_type": "code",
   "execution_count": 55,
   "id": "c2e1d8a1-b16e-4cc9-a688-8767b41340e5",
   "metadata": {},
   "outputs": [
    {
     "data": {
      "text/html": [
       "<div>\n",
       "<style scoped>\n",
       "    .dataframe tbody tr th:only-of-type {\n",
       "        vertical-align: middle;\n",
       "    }\n",
       "\n",
       "    .dataframe tbody tr th {\n",
       "        vertical-align: top;\n",
       "    }\n",
       "\n",
       "    .dataframe thead th {\n",
       "        text-align: right;\n",
       "    }\n",
       "</style>\n",
       "<table border=\"1\" class=\"dataframe\">\n",
       "  <thead>\n",
       "    <tr style=\"text-align: right;\">\n",
       "      <th></th>\n",
       "      <th>content</th>\n",
       "      <th>Genre</th>\n",
       "      <th>Journalism Style</th>\n",
       "      <th>Featured</th>\n",
       "      <th>Is_ethnic</th>\n",
       "      <th>Sentiment</th>\n",
       "      <th>Agenda Setting</th>\n",
       "      <th>Framing</th>\n",
       "      <th>Priming</th>\n",
       "      <th>Mobilizing</th>\n",
       "    </tr>\n",
       "  </thead>\n",
       "  <tbody>\n",
       "    <tr>\n",
       "      <th>0</th>\n",
       "      <td>রমেল হত্যায় মানবাধিকার কমিশনের তদন্ত শুরুরাঙ্গ...</td>\n",
       "      <td>[Crime]</td>\n",
       "      <td>Straight</td>\n",
       "      <td>Subject</td>\n",
       "      <td>True</td>\n",
       "      <td>Negative</td>\n",
       "      <td>Investigation</td>\n",
       "      <td>Criminal Investigation</td>\n",
       "      <td>Allegations</td>\n",
       "      <td>Arrests</td>\n",
       "    </tr>\n",
       "    <tr>\n",
       "      <th>1</th>\n",
       "      <td>নারায়ণগঞ্জের রূপগঞ্জ ও ফতুল্লা, গাজীপুরের কালি...</td>\n",
       "      <td>[Crime]</td>\n",
       "      <td>Straight</td>\n",
       "      <td>Subject</td>\n",
       "      <td>False</td>\n",
       "      <td>Negative</td>\n",
       "      <td>Crime</td>\n",
       "      <td>Drug Trafficking</td>\n",
       "      <td>Arrests</td>\n",
       "      <td>Enforcement</td>\n",
       "    </tr>\n",
       "    <tr>\n",
       "      <th>2</th>\n",
       "      <td>গাইবান্ধার গোবিন্দগঞ্জের রংপুর চিনিকলের সাহেবগ...</td>\n",
       "      <td>[Crime]</td>\n",
       "      <td>Straight</td>\n",
       "      <td>Subject</td>\n",
       "      <td>True</td>\n",
       "      <td>Negative</td>\n",
       "      <td>Conflict</td>\n",
       "      <td>Violence</td>\n",
       "      <td>Tension</td>\n",
       "      <td>Justice</td>\n",
       "    </tr>\n",
       "    <tr>\n",
       "      <th>3</th>\n",
       "      <td>চাঞ্চল্যকর পিলখানা হত্যা মামলায় ডেথ রেফারেন্স ...</td>\n",
       "      <td>[Crime]</td>\n",
       "      <td>Straight</td>\n",
       "      <td>Subject</td>\n",
       "      <td>False</td>\n",
       "      <td>Negative</td>\n",
       "      <td>Justice</td>\n",
       "      <td>Judicial</td>\n",
       "      <td>Punishment</td>\n",
       "      <td>Action</td>\n",
       "    </tr>\n",
       "    <tr>\n",
       "      <th>4</th>\n",
       "      <td>অবাধে মাটি কেটে নেয়ার ধ্বংসের দ্বারপ্রান্তে ধো...</td>\n",
       "      <td>[Environment]</td>\n",
       "      <td>Straight</td>\n",
       "      <td>Subject</td>\n",
       "      <td>True</td>\n",
       "      <td>Negative</td>\n",
       "      <td>Land Degradation</td>\n",
       "      <td>Environmental Destruction</td>\n",
       "      <td>Neglect</td>\n",
       "      <td>Awareness</td>\n",
       "    </tr>\n",
       "  </tbody>\n",
       "</table>\n",
       "</div>"
      ],
      "text/plain": [
       "                                             content          Genre  \\\n",
       "0  রমেল হত্যায় মানবাধিকার কমিশনের তদন্ত শুরুরাঙ্গ...        [Crime]   \n",
       "1  নারায়ণগঞ্জের রূপগঞ্জ ও ফতুল্লা, গাজীপুরের কালি...        [Crime]   \n",
       "2  গাইবান্ধার গোবিন্দগঞ্জের রংপুর চিনিকলের সাহেবগ...        [Crime]   \n",
       "3  চাঞ্চল্যকর পিলখানা হত্যা মামলায় ডেথ রেফারেন্স ...        [Crime]   \n",
       "4  অবাধে মাটি কেটে নেয়ার ধ্বংসের দ্বারপ্রান্তে ধো...  [Environment]   \n",
       "\n",
       "  Journalism Style Featured  Is_ethnic Sentiment    Agenda Setting  \\\n",
       "0         Straight  Subject       True  Negative     Investigation   \n",
       "1         Straight  Subject      False  Negative             Crime   \n",
       "2         Straight  Subject       True  Negative          Conflict   \n",
       "3         Straight  Subject      False  Negative           Justice   \n",
       "4         Straight  Subject       True  Negative  Land Degradation   \n",
       "\n",
       "                     Framing      Priming   Mobilizing  \n",
       "0     Criminal Investigation  Allegations      Arrests  \n",
       "1           Drug Trafficking      Arrests  Enforcement  \n",
       "2                   Violence      Tension      Justice  \n",
       "3                   Judicial   Punishment       Action  \n",
       "4  Environmental Destruction      Neglect    Awareness  "
      ]
     },
     "execution_count": 55,
     "metadata": {},
     "output_type": "execute_result"
    }
   ],
   "source": [
    "ethnic_sample_df = ethnic_df.iloc[:N].copy()\n",
    "ethnic_sample_df[\"Genre\"] = [post_process_chatgpt_turbo_3_5_response_to_json(response)[\"genre\"] for response in responses]\n",
    "ethnic_sample_df[\"Journalism Style\"] = [post_process_chatgpt_turbo_3_5_response_to_json(response)[\"journalism_style\"] for response in responses]\n",
    "ethnic_sample_df[\"Featured\"] = [post_process_chatgpt_turbo_3_5_response_to_json(response)[\"featured\"] for response in responses]\n",
    "ethnic_sample_df[\"Is_ethnic\"] = [post_process_chatgpt_turbo_3_5_response_to_json(response)[\"is_indigenous\"] for response in responses]\n",
    "ethnic_sample_df[\"Sentiment\"] = [post_process_chatgpt_turbo_3_5_response_to_json(response)[\"sentiment\"] for response in responses]\n",
    "ethnic_sample_df[\"Agenda Setting\"] = [post_process_chatgpt_turbo_3_5_response_to_json(response)[\"agenda_setting\"] for response in responses]\n",
    "ethnic_sample_df[\"Framing\"] = [post_process_chatgpt_turbo_3_5_response_to_json(response)[\"framing\"] for response in responses]\n",
    "ethnic_sample_df[\"Priming\"] = [post_process_chatgpt_turbo_3_5_response_to_json(response)[\"priming\"] for response in responses]\n",
    "ethnic_sample_df[\"Mobilizing\"] = [post_process_chatgpt_turbo_3_5_response_to_json(response)[\"mobilizing\"] for response in responses]\n",
    "\n",
    "ethnic_sample_df.head()"
   ]
  },
  {
   "cell_type": "code",
   "execution_count": 56,
   "id": "e9b414cf-2698-4664-a2eb-82977a619fb7",
   "metadata": {},
   "outputs": [],
   "source": [
    "import joblib\n",
    "\n",
    "ethnic_sample_df.to_csv(f\"../data/ethnic_{N}_gpt_3.5_turbo_{EXPERIMENT_IDENTIFIER}.csv\")"
   ]
  },
  {
   "cell_type": "markdown",
   "id": "834e7fe3-55f6-4f12-941a-10963cd69f1d",
   "metadata": {
    "jp-MarkdownHeadingCollapsed": true
   },
   "source": [
    "### Evaluating"
   ]
  },
  {
   "cell_type": "code",
   "execution_count": 25,
   "id": "ef927981-c54b-4a84-811f-279576906789",
   "metadata": {},
   "outputs": [],
   "source": [
    "true_labels = [1,1,0,0,1,1,1,1,1,1,0,1,0,1,1,1,1,1,0,1,1,0,0,1,0,1,0,1,1,0,1,0,0,1,0,1,1,1,1,0,1,1,1,0,1,1,1,0,\n",
    "               1,1,1,0,1,0,0,0,1,1,1,1,0,1,0,1,\n",
    "               0,1,0,1,1,1,1,0,1,1,1,0,0,0,0,0,1,1,0,0,0,0,1,0,1,1,1,1,1,0,1,1,1,1,0,1]"
   ]
  },
  {
   "cell_type": "code",
   "execution_count": 27,
   "id": "63890706-dfb3-43eb-851c-78f22e159fea",
   "metadata": {},
   "outputs": [
    {
     "data": {
      "text/plain": [
       "[1, 0, 1, 0, 1]"
      ]
     },
     "execution_count": 27,
     "metadata": {},
     "output_type": "execute_result"
    }
   ],
   "source": [
    "predicted_labels = ethnic_sample_df[\"Is_ethnic\"].values.tolist()\n",
    "predicted_labels = [1 if item == True else 0 for item in predicted_labels]\n",
    "predicted_labels[:10]"
   ]
  },
  {
   "cell_type": "code",
   "execution_count": 28,
   "id": "9d24050a-abf4-4bab-b2db-d681de39b5df",
   "metadata": {},
   "outputs": [
    {
     "name": "stdout",
     "output_type": "stream",
     "text": [
      "Precision: 0.6666666666666666\n",
      "Recall: 0.6666666666666666\n",
      "Accuracy: 0.6\n",
      "F1 Score: 0.6666666666666666\n"
     ]
    }
   ],
   "source": [
    "from sklearn.metrics import precision_score, recall_score, accuracy_score, f1_score\n",
    "\n",
    "# Calculating precision, recall, accuracy, and F1 score\n",
    "precision = precision_score(true_labels[:N], predicted_labels)\n",
    "recall = recall_score(true_labels[:N], predicted_labels)\n",
    "accuracy = accuracy_score(true_labels[:N], predicted_labels)\n",
    "f1 = f1_score(true_labels[:N], predicted_labels)\n",
    "\n",
    "# Print the results\n",
    "print(f\"Precision: {precision}\")\n",
    "print(f\"Recall: {recall}\")\n",
    "print(f\"Accuracy: {accuracy}\")\n",
    "print(f\"F1 Score: {f1}\")"
   ]
  },
  {
   "cell_type": "code",
   "execution_count": 108,
   "id": "4084c337-7946-4c2f-ad3c-bb9fb37125fc",
   "metadata": {},
   "outputs": [
    {
     "data": {
      "text/plain": [
       "[True,\n",
       " True,\n",
       " False,\n",
       " False,\n",
       " True,\n",
       " True,\n",
       " True,\n",
       " True,\n",
       " True,\n",
       " True,\n",
       " True,\n",
       " False,\n",
       " True,\n",
       " True,\n",
       " True,\n",
       " True,\n",
       " True,\n",
       " True,\n",
       " False,\n",
       " True,\n",
       " False,\n",
       " False,\n",
       " False,\n",
       " True,\n",
       " False,\n",
       " True,\n",
       " False,\n",
       " True,\n",
       " True,\n",
       " False,\n",
       " True,\n",
       " True,\n",
       " False,\n",
       " True,\n",
       " False,\n",
       " True,\n",
       " True,\n",
       " True,\n",
       " True,\n",
       " False,\n",
       " False,\n",
       " True,\n",
       " True,\n",
       " False,\n",
       " True,\n",
       " True,\n",
       " True,\n",
       " False,\n",
       " True,\n",
       " True,\n",
       " True,\n",
       " True,\n",
       " True,\n",
       " True,\n",
       " True,\n",
       " True,\n",
       " False,\n",
       " True,\n",
       " True,\n",
       " False,\n",
       " False,\n",
       " False,\n",
       " False,\n",
       " True,\n",
       " False,\n",
       " True,\n",
       " False,\n",
       " True,\n",
       " True,\n",
       " True,\n",
       " False,\n",
       " True,\n",
       " True,\n",
       " True,\n",
       " False,\n",
       " False,\n",
       " False,\n",
       " True,\n",
       " False,\n",
       " True,\n",
       " True,\n",
       " True,\n",
       " False,\n",
       " False,\n",
       " True,\n",
       " False,\n",
       " False,\n",
       " True,\n",
       " True,\n",
       " True,\n",
       " True,\n",
       " True,\n",
       " True,\n",
       " False,\n",
       " True,\n",
       " False,\n",
       " False,\n",
       " True,\n",
       " False,\n",
       " True]"
      ]
     },
     "execution_count": 108,
     "metadata": {},
     "output_type": "execute_result"
    }
   ],
   "source": [
    "ethnic_sample_df[\"Is_ethnic\"].values.tolist()"
   ]
  },
  {
   "cell_type": "markdown",
   "id": "38140c7d-5caa-4aae-850b-d06211e86785",
   "metadata": {},
   "source": [
    "### MISC"
   ]
  },
  {
   "cell_type": "code",
   "execution_count": 11,
   "id": "52aff79a-ea89-423e-9bab-5eadd5de83a0",
   "metadata": {},
   "outputs": [],
   "source": [
    "abhi_labels = [1,1,0,0,1,1,1,0,1,1,0,0,1,1,1,1,1,1,0,\n",
    "               1,1,0,0,1,0,1,0,1,1,0,1,1,0,0,0,1,1,1,\n",
    "               1,0,1,1,1,1,1,0,1,0,1,1,1,0,1,1,0,1,1,\n",
    "               1,1,0,0,1,0,1,1,1,1,1,1,1,1,0,1,1,1,0,\n",
    "               0,0,1,0,1,\n",
    "               1,0,0,0,1,1,0,1,1,1,1,1,0,1,1,1,1,1,1,]\n",
    "sharif_labels = [ 1,1,0,0,1,1,1,1,1,1,0,1,0,1,1,1,1,1,0,1,1,0,0,0,0,1,0,1,0,0,1,0,0,1,0,1,0,1,1,0,1,1,1,0,1,1,1,0,\n",
    "                 1,1,1,0,1,0,0,0,0,0,1,1,0,0,0,1,0,1,0,1,0,1,1,0,0,1,0,0,0,0,0,0,1,1,0,0,0,0,1,0,0,1,1,1,1,0,1,1,1,1,0,1 ]"
   ]
  },
  {
   "cell_type": "code",
   "execution_count": 14,
   "id": "4850d8a3-451c-4819-9703-bff2ee6265ab",
   "metadata": {},
   "outputs": [
    {
     "data": {
      "text/plain": [
       "(np.float64(0.75), 25)"
      ]
     },
     "execution_count": 14,
     "metadata": {},
     "output_type": "execute_result"
    }
   ],
   "source": [
    "import numpy as np\n",
    "def annotator_agreement_score(labels1, labels2):\n",
    "    # Calculate agreement score\n",
    "    total_labels = len(labels1)\n",
    "    agreements = np.sum(np.array(labels1) == np.array(labels2))\n",
    "    agreement_score = agreements / total_labels\n",
    "\n",
    "    # Find conflicting posts\n",
    "    conflict_indices = [i for i in range(total_labels) if labels1[i] != labels2[i]]\n",
    "    conflicting_posts = [(i, labels1[i], labels2[i]) for i in conflict_indices]\n",
    "\n",
    "    return agreement_score, len(conflicting_posts)\n",
    "annotator_agreement_score(abhi_labels, sharif_labels)"
   ]
  },
  {
   "cell_type": "code",
   "execution_count": 80,
   "id": "210653ce-4af2-4635-8d54-afc1ef7f7048",
   "metadata": {},
   "outputs": [
    {
     "name": "stdout",
     "output_type": "stream",
     "text": [
      "Yes count: 63\n",
      "No count: 37\n"
     ]
    }
   ],
   "source": [
    "from collections import Counter\n",
    "\n",
    "counts = Counter(true_labels)\n",
    "print(\"Yes count:\", counts[1])\n",
    "print(\"No count:\", counts[0])"
   ]
  },
  {
   "cell_type": "code",
   "execution_count": 45,
   "id": "57496762-496b-4f93-96fd-3157c7da19ac",
   "metadata": {},
   "outputs": [
    {
     "data": {
      "text/plain": [
       "[np.int64(2),\n",
       " 'গাইবান্ধার গোবিন্দগঞ্জের রংপুর চিনিকলের সাহেবগঞ্জ ইক্ষু খামারে দেয়া কাঁটাতারের বেড়ার পিলার ভাংচুর করেছে দুর্বৃত্তরা।সোমবার রাতে খামার সংলগ্ন জয়পুর পাড়ার দক্ষিণ অংশে দেয়া ২৬টি পিলার ভাংচুর করা হয়।খামারের জমি সাঁওতালদের কাছ থেকে দখলমুক্ত করার পর মিল কর্তৃপক্ষ এই কাঁটাতারের বেড়া দেয়। এরপর সোমবার রাতে সাঁওতাল পল্লী সংলগ্ন খামারের বেড়ার পিলার ভাংচুর করে দুর্বৃত্তরা।রংপুর সুগার মিলের ব্যবস্থাপনা পরিচালক আব্দুল আউয়াল জানান, দুস্কৃতকারীরা রাতের আধারে খামারের পশ্চিম অংশে সাঁওতাল পল্লী জয়পুর পাড়া সংলগ্ন ২৬টি পিলার ভাংচুর করে। এ ঘটনায় ১৩ জনের নাম উল্লেখ করে খামারের উপ-ব্যবস্থাপক মো. হুমায়ন কবির মঙ্গলবার রাতে গোবিন্দগঞ্জ থানায় একটি জিডি করেন।গোবিন্দগঞ্জ থানার ওসি সুব্রত কুমার সরকার বিষয়টি নিশ্চিত করে বলেন, ঘটনার বিষয়টি খতিয়ে দেখা হচ্ছে।গত ৬ নভেম্বর আদিবাসী সাঁওতালদের সঙ্গে আইনশৃংখলা বাহিনী চিনিকলের শ্রমিক-কর্মচারীদের সংঘর্ষের পর ইক্ষু খামার থেকে সাঁওতাল বসতি উচ্ছেদ, লুটপাট, গুলিতে ৩ সাঁওতাল নিহত হওয়ার ঘটনায় সেখানে এখনও অস্থিরতা রয়েছে।',\n",
       " 'Crime',\n",
       " 'Investigative',\n",
       " 'Victim',\n",
       " np.True_,\n",
       " 'Negative',\n",
       " 'Revealing',\n",
       " 'Conflict',\n",
       " 'Violence',\n",
       " 'Awareness']"
      ]
     },
     "execution_count": 45,
     "metadata": {},
     "output_type": "execute_result"
    }
   ],
   "source": [
    "ethnic_sample_df.iloc[2].values.tolist()"
   ]
  },
  {
   "cell_type": "code",
   "execution_count": 78,
   "id": "f83b724d-cf14-4533-be11-eafe032f86b8",
   "metadata": {},
   "outputs": [],
   "source": [
    "ethnic_sample_df = ethnic_df.sample(n=100, random_state=3)"
   ]
  },
  {
   "cell_type": "code",
   "execution_count": 79,
   "id": "e338b168-edf1-4adb-8fd6-469a8b705cd2",
   "metadata": {},
   "outputs": [],
   "source": [
    "ethnic_sample_df.to_csv(\"../data/annotated_100_ethnic_article_against_5_metrics.csv\")"
   ]
  },
  {
   "cell_type": "code",
   "execution_count": null,
   "id": "319dc672-c973-4013-9f6a-5c87fe917f3a",
   "metadata": {},
   "outputs": [],
   "source": []
  }
 ],
 "metadata": {
  "kernelspec": {
   "display_name": "Python 3 (ipykernel)",
   "language": "python",
   "name": "python3"
  },
  "language_info": {
   "codemirror_mode": {
    "name": "ipython",
    "version": 3
   },
   "file_extension": ".py",
   "mimetype": "text/x-python",
   "name": "python",
   "nbconvert_exporter": "python",
   "pygments_lexer": "ipython3",
   "version": "3.10.12"
  }
 },
 "nbformat": 4,
 "nbformat_minor": 5
}
