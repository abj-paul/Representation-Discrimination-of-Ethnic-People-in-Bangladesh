{
 "cells": [
  {
   "cell_type": "code",
   "execution_count": 3,
   "id": "1dc74706-decd-4308-9e6a-93f802c8da7a",
   "metadata": {},
   "outputs": [],
   "source": [
    "EXPERIMENT_IDENTIFIER = \"framing_with_4893_ethnic\""
   ]
  },
  {
   "cell_type": "code",
   "execution_count": 9,
   "id": "f4d22d6b-3825-4e6b-bf89-134a0dd360e9",
   "metadata": {},
   "outputs": [],
   "source": [
    "N = 4892"
   ]
  },
  {
   "cell_type": "code",
   "execution_count": 10,
   "id": "1dfa6cdb-e3e7-4732-bfb4-b9dbe6863f76",
   "metadata": {},
   "outputs": [
    {
     "name": "stdout",
     "output_type": "stream",
     "text": [
      "../data/ethnic_4892_gpt_3.5_turbo_completed.csv\n"
     ]
    }
   ],
   "source": [
    "!ls ../data/ethnic_4892_gpt_3.5_turbo_completed.csv"
   ]
  },
  {
   "cell_type": "code",
   "execution_count": 11,
   "id": "abaae08d-414d-49d3-8638-ab95a2f32d5e",
   "metadata": {},
   "outputs": [
    {
     "data": {
      "text/html": [
       "<div>\n",
       "<style scoped>\n",
       "    .dataframe tbody tr th:only-of-type {\n",
       "        vertical-align: middle;\n",
       "    }\n",
       "\n",
       "    .dataframe tbody tr th {\n",
       "        vertical-align: top;\n",
       "    }\n",
       "\n",
       "    .dataframe thead th {\n",
       "        text-align: right;\n",
       "    }\n",
       "</style>\n",
       "<table border=\"1\" class=\"dataframe\">\n",
       "  <thead>\n",
       "    <tr style=\"text-align: right;\">\n",
       "      <th></th>\n",
       "      <th>Unnamed: 0</th>\n",
       "      <th>content</th>\n",
       "      <th>Genre</th>\n",
       "      <th>Journalism Style</th>\n",
       "      <th>Featured</th>\n",
       "      <th>Is_ethnic</th>\n",
       "      <th>Sentiment</th>\n",
       "      <th>Agenda Setting</th>\n",
       "      <th>Framing</th>\n",
       "      <th>Priming</th>\n",
       "      <th>Mobilizing</th>\n",
       "    </tr>\n",
       "  </thead>\n",
       "  <tbody>\n",
       "    <tr>\n",
       "      <th>0</th>\n",
       "      <td>0</td>\n",
       "      <td>রমেল হত্যায় মানবাধিকার কমিশনের তদন্ত শুরুরাঙ্গ...</td>\n",
       "      <td>['Crime']</td>\n",
       "      <td>Straight</td>\n",
       "      <td>Subject</td>\n",
       "      <td>True</td>\n",
       "      <td>Negative</td>\n",
       "      <td>Investigation</td>\n",
       "      <td>Criminal Investigation</td>\n",
       "      <td>Allegations</td>\n",
       "      <td>Arrests</td>\n",
       "    </tr>\n",
       "    <tr>\n",
       "      <th>1</th>\n",
       "      <td>1</td>\n",
       "      <td>নারায়ণগঞ্জের রূপগঞ্জ ও ফতুল্লা, গাজীপুরের কালি...</td>\n",
       "      <td>['Crime']</td>\n",
       "      <td>Straight</td>\n",
       "      <td>Subject</td>\n",
       "      <td>False</td>\n",
       "      <td>Negative</td>\n",
       "      <td>Crime</td>\n",
       "      <td>Drug Trafficking</td>\n",
       "      <td>Arrests</td>\n",
       "      <td>Enforcement</td>\n",
       "    </tr>\n",
       "    <tr>\n",
       "      <th>2</th>\n",
       "      <td>2</td>\n",
       "      <td>গাইবান্ধার গোবিন্দগঞ্জের রংপুর চিনিকলের সাহেবগ...</td>\n",
       "      <td>['Crime']</td>\n",
       "      <td>Straight</td>\n",
       "      <td>Subject</td>\n",
       "      <td>True</td>\n",
       "      <td>Negative</td>\n",
       "      <td>Conflict</td>\n",
       "      <td>Violence</td>\n",
       "      <td>Tension</td>\n",
       "      <td>Justice</td>\n",
       "    </tr>\n",
       "    <tr>\n",
       "      <th>3</th>\n",
       "      <td>3</td>\n",
       "      <td>চাঞ্চল্যকর পিলখানা হত্যা মামলায় ডেথ রেফারেন্স ...</td>\n",
       "      <td>['Crime']</td>\n",
       "      <td>Straight</td>\n",
       "      <td>Subject</td>\n",
       "      <td>False</td>\n",
       "      <td>Negative</td>\n",
       "      <td>Justice</td>\n",
       "      <td>Judicial</td>\n",
       "      <td>Punishment</td>\n",
       "      <td>Action</td>\n",
       "    </tr>\n",
       "    <tr>\n",
       "      <th>4</th>\n",
       "      <td>4</td>\n",
       "      <td>অবাধে মাটি কেটে নেয়ার ধ্বংসের দ্বারপ্রান্তে ধো...</td>\n",
       "      <td>['Environment']</td>\n",
       "      <td>Straight</td>\n",
       "      <td>Subject</td>\n",
       "      <td>True</td>\n",
       "      <td>Negative</td>\n",
       "      <td>Land Degradation</td>\n",
       "      <td>Environmental Destruction</td>\n",
       "      <td>Neglect</td>\n",
       "      <td>Awareness</td>\n",
       "    </tr>\n",
       "    <tr>\n",
       "      <th>...</th>\n",
       "      <td>...</td>\n",
       "      <td>...</td>\n",
       "      <td>...</td>\n",
       "      <td>...</td>\n",
       "      <td>...</td>\n",
       "      <td>...</td>\n",
       "      <td>...</td>\n",
       "      <td>...</td>\n",
       "      <td>...</td>\n",
       "      <td>...</td>\n",
       "      <td>...</td>\n",
       "    </tr>\n",
       "    <tr>\n",
       "      <th>4887</th>\n",
       "      <td>4887</td>\n",
       "      <td>রাঙ্গামাটিতে প্রকাশ্যে বিক্রম চাকমা (৩৫) ওরফে ...</td>\n",
       "      <td>['Crime']</td>\n",
       "      <td>Straight</td>\n",
       "      <td>Subject</td>\n",
       "      <td>True</td>\n",
       "      <td>Negative</td>\n",
       "      <td>Violence</td>\n",
       "      <td>Murder</td>\n",
       "      <td>Terrorism</td>\n",
       "      <td>Justice</td>\n",
       "    </tr>\n",
       "    <tr>\n",
       "      <th>4888</th>\n",
       "      <td>4888</td>\n",
       "      <td>খাগড়াছড়ির দীঘিনালায় জেএসএস (এমএন লারমা) সমর্থি...</td>\n",
       "      <td>['Politics']</td>\n",
       "      <td>Straight</td>\n",
       "      <td>Subject</td>\n",
       "      <td>True</td>\n",
       "      <td>Negative</td>\n",
       "      <td>Election</td>\n",
       "      <td>Controversy</td>\n",
       "      <td>Allegations</td>\n",
       "      <td>Protest</td>\n",
       "    </tr>\n",
       "    <tr>\n",
       "      <th>4889</th>\n",
       "      <td>4889</td>\n",
       "      <td>শান্তি-সম্প্রীতি স্থাপনে দুই দশক আগে পার্বত্য ...</td>\n",
       "      <td>['Crime', 'Protests and Social Movements']</td>\n",
       "      <td>Straight</td>\n",
       "      <td>Subject</td>\n",
       "      <td>True</td>\n",
       "      <td>Negative</td>\n",
       "      <td>Violence</td>\n",
       "      <td>Conflict</td>\n",
       "      <td>Unrest</td>\n",
       "      <td>Resistance</td>\n",
       "    </tr>\n",
       "    <tr>\n",
       "      <th>4890</th>\n",
       "      <td>4890</td>\n",
       "      <td>জনপ্রিয় ম্যাগাজিন অনুষ্ঠান ‘ইত্যাদি’ আজ শুক্রব...</td>\n",
       "      <td>['Culture &amp; Entertainment']</td>\n",
       "      <td>Straight</td>\n",
       "      <td>Popular Opinion</td>\n",
       "      <td>False</td>\n",
       "      <td>Positive</td>\n",
       "      <td>Tourism</td>\n",
       "      <td>Cultural Heritage</td>\n",
       "      <td>Local Attractions</td>\n",
       "      <td>Promotion</td>\n",
       "    </tr>\n",
       "    <tr>\n",
       "      <th>4891</th>\n",
       "      <td>4891</td>\n",
       "      <td>সরকারি বেতন স্কেলের নবম থেকে ১৩তম গ্রেড পর্যন্...</td>\n",
       "      <td>['Jobs', 'Govt Actions']</td>\n",
       "      <td>Straight</td>\n",
       "      <td>Subject</td>\n",
       "      <td>False</td>\n",
       "      <td>Neutral</td>\n",
       "      <td>Employment</td>\n",
       "      <td>Policy</td>\n",
       "      <td>Recruitment</td>\n",
       "      <td>Inclusion</td>\n",
       "    </tr>\n",
       "  </tbody>\n",
       "</table>\n",
       "<p>4892 rows × 11 columns</p>\n",
       "</div>"
      ],
      "text/plain": [
       "      Unnamed: 0                                            content  \\\n",
       "0              0  রমেল হত্যায় মানবাধিকার কমিশনের তদন্ত শুরুরাঙ্গ...   \n",
       "1              1  নারায়ণগঞ্জের রূপগঞ্জ ও ফতুল্লা, গাজীপুরের কালি...   \n",
       "2              2  গাইবান্ধার গোবিন্দগঞ্জের রংপুর চিনিকলের সাহেবগ...   \n",
       "3              3  চাঞ্চল্যকর পিলখানা হত্যা মামলায় ডেথ রেফারেন্স ...   \n",
       "4              4  অবাধে মাটি কেটে নেয়ার ধ্বংসের দ্বারপ্রান্তে ধো...   \n",
       "...          ...                                                ...   \n",
       "4887        4887  রাঙ্গামাটিতে প্রকাশ্যে বিক্রম চাকমা (৩৫) ওরফে ...   \n",
       "4888        4888  খাগড়াছড়ির দীঘিনালায় জেএসএস (এমএন লারমা) সমর্থি...   \n",
       "4889        4889  শান্তি-সম্প্রীতি স্থাপনে দুই দশক আগে পার্বত্য ...   \n",
       "4890        4890  জনপ্রিয় ম্যাগাজিন অনুষ্ঠান ‘ইত্যাদি’ আজ শুক্রব...   \n",
       "4891        4891  সরকারি বেতন স্কেলের নবম থেকে ১৩তম গ্রেড পর্যন্...   \n",
       "\n",
       "                                           Genre Journalism Style  \\\n",
       "0                                      ['Crime']         Straight   \n",
       "1                                      ['Crime']         Straight   \n",
       "2                                      ['Crime']         Straight   \n",
       "3                                      ['Crime']         Straight   \n",
       "4                                ['Environment']         Straight   \n",
       "...                                          ...              ...   \n",
       "4887                                   ['Crime']         Straight   \n",
       "4888                                ['Politics']         Straight   \n",
       "4889  ['Crime', 'Protests and Social Movements']         Straight   \n",
       "4890                 ['Culture & Entertainment']         Straight   \n",
       "4891                    ['Jobs', 'Govt Actions']         Straight   \n",
       "\n",
       "             Featured  Is_ethnic Sentiment    Agenda Setting  \\\n",
       "0             Subject       True  Negative     Investigation   \n",
       "1             Subject      False  Negative             Crime   \n",
       "2             Subject       True  Negative          Conflict   \n",
       "3             Subject      False  Negative           Justice   \n",
       "4             Subject       True  Negative  Land Degradation   \n",
       "...               ...        ...       ...               ...   \n",
       "4887          Subject       True  Negative          Violence   \n",
       "4888          Subject       True  Negative          Election   \n",
       "4889          Subject       True  Negative          Violence   \n",
       "4890  Popular Opinion      False  Positive           Tourism   \n",
       "4891          Subject      False   Neutral        Employment   \n",
       "\n",
       "                        Framing            Priming   Mobilizing  \n",
       "0        Criminal Investigation        Allegations      Arrests  \n",
       "1              Drug Trafficking            Arrests  Enforcement  \n",
       "2                      Violence            Tension      Justice  \n",
       "3                      Judicial         Punishment       Action  \n",
       "4     Environmental Destruction            Neglect    Awareness  \n",
       "...                         ...                ...          ...  \n",
       "4887                     Murder          Terrorism      Justice  \n",
       "4888                Controversy        Allegations      Protest  \n",
       "4889                   Conflict             Unrest   Resistance  \n",
       "4890          Cultural Heritage  Local Attractions    Promotion  \n",
       "4891                     Policy        Recruitment    Inclusion  \n",
       "\n",
       "[4892 rows x 11 columns]"
      ]
     },
     "execution_count": 11,
     "metadata": {},
     "output_type": "execute_result"
    }
   ],
   "source": [
    "import pandas as pd\n",
    "import random\n",
    "random.seed(42)\n",
    "\n",
    "ethnic_df = pd.read_csv(\"../data/ethnic_4892_gpt_3.5_turbo_completed.csv\")\n",
    "ethnic_df"
   ]
  },
  {
   "cell_type": "code",
   "execution_count": 12,
   "id": "3d60936d-677a-45f0-acd7-42b5a2bb3640",
   "metadata": {},
   "outputs": [
    {
     "data": {
      "text/plain": [
       "['রমেল হত্যায় মানবাধিকার কমিশনের তদন্ত শুরুরাঙ্গামাটি প্রতিনিধিরাঙ্গামাটিতে পাহাড়ি ছাত্র পরিষদের (পিসিপি) নেতা রমেল চাকমার মৃত্যু নিয়ে অভিযোগ তদন্তে কার্যক্রম শুরু করেছে জাতীয় মানবাধিকার কমিশন। ঘটনাটিকে হত্যা দাবি করে নির্যাতনের কারণে রমেলের মৃত্যু হয়েছে বলে অভিযোগ করা হয়। এ ঘটনায় অভিযোগ তদন্তে তিন সদস্যের একটি কমিটি গঠন করে জাতীয় মানবাধিকার কমিশন। তদন্ত কমিটিতে জাতীয় মানবাধিকার কমিশনের সদস্য ও রাঙ্গামাটি সরকারি কলেজের সাবেক অধ্যক্ষ প্রফেসর বাঞ্চিতা চাকমাকে আহ্বায়ক, কমিশনের রাঙ্গামাটি অফিসের উপ-পরিচালক গাজী মো. সালাউদ্দিনকে সদস্যসচিব ও রাঙ্গামাটি জেলা প্রশাসনের নির্বাহী ম্যাজিস্ট্রেট অলি উজ্জামানকে সদস্য করা হয়েছে।সোনাগাজীতে অস্ত্রসহ যুবলীগ নেতা গ্রেফতারফেনী প্রতিনিধিফেনীর সোনাগাজী উপজেলার চরমজলিশপুর ইউনিয়নের কুঠিরহাটে ১টি বিদেশী পিস্তল ও ৪ রাউন্ড গুলিসহ যুবলীগ নেতা কামালকে গ্রেফতার করেছে পুলিশ। কামাল মজলিশপুরের আওয়ামী লীগের সাবেক সভাপতি মনজুতের রহমানের ছেলে ও ইউনিয়ন যুবলীগের সাবেক যুগ্ম-আহ্বায়ক। পুলিশ সূত্রে জানা যায়, গোপন সংবাদের ভিত্তিতে মঙ্গলবার সকাল ১১টা কুঠিরহাট বাজারে অভিযান চালিয়ে তাকে গ্রেফতার করে এসআই ডালিম মজুমদার।ফেনীতে সংখ্যালঘু পাড়ায় সশস্ত্র হামলা : আহত ৮ফেনী প্রতিনিধিফেনীর শহরতলীর পূর্ব মধুপুরে দাসপাড়ায় তুচ্ছ ঘটনায় স্থানীয় ক্যাডারদের হামলা ও ভাংচুরে নারী-পুরুষসহ ৮ জন আহত হয়েছেন। আহতদের মধ্যে ৩ জনকে আশঙ্কাজনক অবস্থায় ফেনী সদর হাসপাতালে ভর্তি করা হয়েছে। অন্যরা প্রাথমিক চিকিৎসা নিয়েছেন। রোববার রাত সাড়ে ১০টায় ফেনী পৌরসভার ১৫নং ওয়ার্ডে মায়েরবাড়ীর সংখ্যালঘু পাড়ায় এ সংঘর্ষের ঘটনা ঘটে।লক্ষ্মীপুরে ছাত্রলীগের দু’পক্ষের সংঘর্ষলক্ষ্মীপুর প্রতিনিধিলক্ষ্মীপুরে আধিপত্য বিস্তারকে কেন্দ্র করে ছাত্রলীগের দু’গ্রুপের মধ্যে পাল্টা-পাল্টি হামলা ও ধাওয়া পাল্টা-ধাওয়ার ঘটনা ঘটেছে। এতে ছাত্রলীগ নেতা সিপাত চৌধুরী ও তানভির মাহমুদ অন্তর আহত হয়। রোববার রাতে পৌর শহরের বাগবাড়িতে এ ঘটনা ঘটে। আহত সিপাতের অবস্থা আশঙ্কাজনক। তাকে ঢাকা মেডিকেল কলেজ হাসপাতালে প্রেরণ করা হয়েছে।সেন্টমার্টিনের বসতি না ভাঙার দাবিকক্সবাজার প্রতিনিধিস্থাপনা নির্মাণে অভিন্ন নীতিমালা প্রণয়নের দাবি জানিয়ে প্রবালদ্বীপ সেন্টমার্টিনের বসতি রক্ষায় প্রধানমন্ত্রীর হস্তক্ষেপ কামনা করেছেন দ্বীপবাসী। এসব স্থাপনা উচ্ছেদ করা হলে পর্যটন ব্যবসায় ধ্বস নামার পাশাপাশি সেন্টমার্টিনের ১০ হাজার অধিবাসীর মানবিক বিপর্যয় ঘটার আশঙ্কা রয়েছে বলে দাবি করেন তারা। মঙ্গলবার দুপুরে কক্সবাজার জেলা প্রশাসকের কার্যালয়ের সামনে মানববন্ধনে এ দাবি জানান সেন্টমার্টিনের অধিবাসীরা।দাগনভূঞায় পানিতে ডুবে শিশুর মৃত্যুদাগনভূঞা প্রতিনিধিদাগনভূঞা উপজেলার দেবরামপুর গ্রামে সোমবার দুপুরে পানিতে ডুবে শিশুর করুণ মৃত্যু হয়েছে। পুলিশ ও স্থানীয় সূত্রে জানা যায়, ওইদিন বেলা ১১টায় উপজেলার দেবরামপুর গ্রামের মোল্লা বাড়ির জাহেদুল হাসানের আড়াই বছর বয়সী মেয়ে সুরাইয়া হাসান মীম পুকুরের পানিতে পড়ে যায়। পরিবারের লোকজন তাকে অনেক খোঁজাখুঁজি করলে অবশেষে শিশুটির মৃতদেহ পুকুরে ভাসতে দেখা যায়।চট্টগ্রামে অনুষ্ঠানে হামলাকারীদের শাস্তি দাবিচট্টগ্রাম ব্যুরোজেলা শিল্পকলা একাডেমিতে অনুষ্ঠান চলাকালীন সময়ে হামলাকারীদের ২৪ ঘণ্টার মধ্যে গ্রেফতারের দাবি জানিয়েছেন চট্টগ্রামের সংস্কৃতিকর্মীরা। সোমবার জেলা শিল্পকলা একাডেমির সামনে সর্বস্তরের শিল্পী, সাহিত্যিক, সাংবাদিক ও প্রগতিবাদী ব্যানারে অনুষ্ঠিত মানববন্ধনে এ দাবি জানানো হয়। এ সময় বিভিন্ন সাংস্কৃতিক সংগঠনের শতাধিক সদস্য উপস্থিত ছিলেন।রায়পুরে বাণিজ্য মেলা : দু’জনকে পুলিশে সোপর্দরায়পুর (লক্ষ্মীপুর) প্রতিনিধিলক্ষ্মীপুরের রায়পুরে বাণিজ্য মেলার নামে প্রশাসনের নিষেধ অমান্য করে অবৈধভাবে লটারি বিক্রি করায় সিএনজিসহ দু’চালককে আটক করেছে পুলিশ। আটককৃত দু’জন রিপন ও নজরুল জেলা সদরের বাসিন্দা। সোমবার দুপুরে শহরের মোহাম্মদিয়া হোটেলের সামনে পথচারী ও ক্ষুদ্র ব্যবসায়ীদের কাছে লটারি বিক্রির সময় কয়েকজন সচেতন ব্যবসায়ী দুই সিএনজিচালককে আটক করে থানা পুলিশে সোপর্দ করেছেন।নানিয়ারচরে পিসিপি কর্মী আটকরাঙ্গামাটি প্রতিনিধিরাঙ্গামাটির নানিয়ারচরে রিপন আলো চাকমা নামে এক পিসিপি কর্মীকে আটক করেছে নিরাপত্তাবাহিনী। রিপন আলো চাকমা ইউপিডিএফ সমর্থনপুষ্ট ছাত্র সংগঠন বৃহত্তর চট্টগ্রাম পাহাড়ি ছাত্র পরিষদের (পিসিপি) রাঙ্গামাটি জেলা শাখার সহ-সাধারণ সম্পাদক।ওসি বলেন, আটক রিপন আলো চাকমাকে মঙ্গলবার দুপুরে রাঙ্গামাটির আদালতে চালান দেয়া হয়েছে।চাঁদপুরে পোলট্রি ব্যবসায়ীদের মানববন্ধনচাঁদপুর প্রতিনিধিপোলট্রির বাচ্চার দাম বৃদ্ধির প্রতিবাদে চাঁদপুরে পোলট্রি ব্যবসায়ীরা মানববন্ধন করেছে। মঙ্গলবার সকাল সাড়ে ১১টায় চাঁদপুর জেলা প্রশাসকের কার্যালয়ের সামনে এ মানববন্ধন কর্মসূচি পালন করা হয়। মানববন্ধন ব্যবসায়ী নেতারা দাবি করে বলেন, হ্যাচারি ও ফিড ব্যবসায়ীরা তিনগুণ বেশি দামে মুরগির বাচ্চা বিক্রি করছে।ফরিদগঞ্জে প্রাথমিক শিক্ষক সমিতির মানববন্ধনফরিদগঞ্জ (চাঁদপুর) প্রতিনিধিসহকারী শিক্ষক ও প্রধান শিক্ষকদের শতভাগ বিভাগীয় পদোন্নতি প্রদান, সহকারী শিক্ষকদের প্রধান শিক্ষকের এক ধাপ নিচে বেতন ও প্রধান শিক্ষকদের ১ গ্রেডসহ ক্রসপন্ডিং স্কেল দ্রুত বাস্তবায়ন ও প্রধানমন্ত্রীর হস্তক্ষেপের দাবিতে মঙ্গলবার সকালে বাংলাদেশ উপজেলা প্রাথমিক শিক্ষক সমিতি ফরিদগঞ্জ শাখা মানববন্ধন করেছে।লক্ষ্মীপুরে ছাত্রলীগের ৪ নেতা বহিষ্কারলক্ষ্মীপুর প্রতিনিধিসংগঠনের শৃঙ্খলাবিরোধী কর্মকাণ্ডে জড়িত থাকার অভিযোগ এনে লক্ষ্মীপুরে ৪ ছাত্রলীগ নেতাকে সাময়িকভাবে বহিষ্কার করা হয়েছে। বহিষ্কৃতরা হলেন- লক্ষ্মীপুর জেলা ছাত্রলীগের উপ-দফতরবিষয়ক সম্পাদক সেবাব নেওয়াজ, সহ-সম্পাদক পলক আহম্মদ, সদস্য পিয়াস পাঠান ও ছাত্রলীগ সদস্য মিনহাজ আলম সজিব।পটিয়ায় ১০ বসতবাড়িসহ দোকানঘরে হামলা ভাংচুরচট্টগ্রাম ব্যুরোপটিয়ায় পরকীয়ার জেরে রাতের আঁধারে ১০ বসতঘরসহ দুই দোকানঘরে হামলা ও ভাংচুর চালিয়েছে দুর্বৃত্তরা। সোমবার রাতে পৌরসদরের কাগজীপাড়ায় এ ঘটনা ঘটে। ক্ষতিগ্রস্তরা হল- কামাল মিস্ত্রি, মো. আনোয়ার, জালাল মিয়া, এয়াকুব, সাইফুরের দোকানঘর, শাহ মোহছেন স্টোর, ফরিদ সওদাগরসহ নুর জাহান বেগম। এ ঘটনায় নুর জাহান বেগম বাদী হয়ে অভিযোগ দায়ের করেছেন। ১নং ওয়ার্ডের কাগজীপাড়া এলাকায় গৃহবধূর সঙ্গে সাইফুদ্দীন ভোলার অবৈধ সম্পর্কের জের ধরে কথা কাটাকাটি হয়। ',\n",
       " 'নারায়ণগঞ্জের রূপগঞ্জ ও ফতুল্লা, গাজীপুরের কালিয়াকৈর এবং মুন্সীগঞ্জের সিরাজদিখানে অভিযান চালিয়ে মাদক ব্যবসায়ী নারীসহ ৬ জনকে আটক করেছে পুলিশ। যুগান্তর প্রতিনিধিদের পাঠানো খবর-ফতুল্লা : নারায়াণগঞ্জের ফতুল্লার মাসদাইর থেকে আপন দত্ত (৩৫) নামে এক ইয়াবা পাচারকারীকে আটক করেছে পুলিশ। রোববার ভোরে মাসদাইর কবরস্থানের সামনে থেকে তাকে ১১শ’ ১০ পিস ইয়াবাসহ আটক করা হয়। গ্রেফতারকৃত আপন কুমিল্লার রাজমনিপুরের রমনী দত্তের ছেলে।কালিয়াকৈর : গাজীপুরের কালিয়াকৈর উপজেলার মৌচাক ইউনিয়নের যোগীরচালা এলাকায় রোববার চোলাইমদসহ আটক দুই নারী ব্যবসায়ীকে দুই বছর করে কারাদণ্ড দিয়েছেন ভ্রাম্যমাণ আদালত। দন্ডপ্রাপ্ত শ্যামলী (৪৫) উপজেলার যোগীরচালা কোচপাড়া এলাকার বিশু বর্মনের স্ত্রী ও রীতা রানী বর্মন (২৬) কৃষ্ণচন্দ্র বর্মনের স্ত্রী।গোপন সংবাদের ভিত্তিতে মাদকবিরোধী টাস্কফোর্স উপজেলার যোগীরচালা কোচপাড়া এলাকায় অভিযান চালায়। অভিযানকালে শ্যামলীকে ৮০ লিটার এবং রীতা রানী বর্মনকে ৬০ লিটার চোলাইমদসহ হাতেনাতে আটক করা হয়।সিরাজদিখান : মুন্সীগঞ্জের সিরাজদিখান উপজেলার তুলসীখালি সেতুর সামনে থেকে হাসান হাওলাদার (৩৫) নামে এক ব্যক্তিকে ১৫শ’ পিস ইয়াবাসহ আটক করেছে পুলিশ। শনিবার রাতে গোপন সংবাদের ভিত্তিতে তাকে আটক করে সিরাজদিখান শেখর নগর পুলিশ তদন্ত কেন্দ্রের ইনচার্জ মো. হাফিজুর রহমান মানিক। আটককৃত হাসানের বাড়ি কেরানীগঞ্জ থানার রসুলপুরে। সে দীর্ঘদিন ধরে মাদক ব্যবসা করে আসছিল। তার বিরুদ্ধে রোববার সিরাজদিখান থানায় মামলা হয়েছে।রূপগঞ্জ : নারায়ণগঞ্জের রূপগঞ্জে দুই মাদক ব্যবসায়ীকে গ্রেফতার করেছে পুলিশ। রোববার সকালে উপজেলার পাড়াগাঁও এলাকা থেকে তাদেরকে গ্রেফতার করা হয়েছে। গ্রেফতারকৃতরা হল- উপজেলার পাড়াগাঁও এলাকার মোস্তয়া মিয়া ও একই এলাকার মৃত নুরুল ইসলামের ছেলে আমজাদ হোসেন। ']"
      ]
     },
     "execution_count": 12,
     "metadata": {},
     "output_type": "execute_result"
    }
   ],
   "source": [
    "articles = ethnic_df[\"content\"].values.tolist()\n",
    "articles[:2]"
   ]
  },
  {
   "cell_type": "code",
   "execution_count": 13,
   "id": "9339cce9-8873-443c-af7b-469ffcd6c825",
   "metadata": {},
   "outputs": [
    {
     "data": {
      "text/plain": [
       "True"
      ]
     },
     "execution_count": 13,
     "metadata": {},
     "output_type": "execute_result"
    }
   ],
   "source": [
    "from dotenv import load_dotenv\n",
    "\n",
    "# Load environment variables from .env file\n",
    "load_dotenv()"
   ]
  },
  {
   "cell_type": "markdown",
   "id": "af9dfafb-e504-429d-b06f-3517986e6a2b",
   "metadata": {},
   "source": [
    "### Loading model"
   ]
  },
  {
   "cell_type": "code",
   "execution_count": 14,
   "id": "7ebd2f22-410f-4c66-b33b-60812821051a",
   "metadata": {},
   "outputs": [
    {
     "name": "stdout",
     "output_type": "stream",
     "text": [
      "Defaulting to user installation because normal site-packages is not writeable\n",
      "Requirement already satisfied: openai in /home/abhijit/.local/lib/python3.10/site-packages (1.43.0)\n",
      "Requirement already satisfied: tqdm>4 in /home/abhijit/.local/lib/python3.10/site-packages (from openai) (4.66.5)\n",
      "Requirement already satisfied: jiter<1,>=0.4.0 in /home/abhijit/.local/lib/python3.10/site-packages (from openai) (0.5.0)\n",
      "Requirement already satisfied: sniffio in /home/abhijit/.local/lib/python3.10/site-packages (from openai) (1.3.1)\n",
      "Requirement already satisfied: anyio<5,>=3.5.0 in /home/abhijit/.local/lib/python3.10/site-packages (from openai) (4.4.0)\n",
      "Requirement already satisfied: distro<2,>=1.7.0 in /usr/lib/python3/dist-packages (from openai) (1.7.0)\n",
      "Requirement already satisfied: httpx<1,>=0.23.0 in /home/abhijit/.local/lib/python3.10/site-packages (from openai) (0.27.0)\n",
      "Requirement already satisfied: typing-extensions<5,>=4.11 in /home/abhijit/.local/lib/python3.10/site-packages (from openai) (4.12.2)\n",
      "Requirement already satisfied: pydantic<3,>=1.9.0 in /home/abhijit/.local/lib/python3.10/site-packages (from openai) (2.8.2)\n",
      "Requirement already satisfied: exceptiongroup>=1.0.2 in /home/abhijit/.local/lib/python3.10/site-packages (from anyio<5,>=3.5.0->openai) (1.2.2)\n",
      "Requirement already satisfied: idna>=2.8 in /usr/lib/python3/dist-packages (from anyio<5,>=3.5.0->openai) (3.3)\n",
      "Requirement already satisfied: httpcore==1.* in /home/abhijit/.local/lib/python3.10/site-packages (from httpx<1,>=0.23.0->openai) (1.0.5)\n",
      "Requirement already satisfied: certifi in /usr/lib/python3/dist-packages (from httpx<1,>=0.23.0->openai) (2020.6.20)\n",
      "Requirement already satisfied: h11<0.15,>=0.13 in /home/abhijit/.local/lib/python3.10/site-packages (from httpcore==1.*->httpx<1,>=0.23.0->openai) (0.14.0)\n",
      "Requirement already satisfied: annotated-types>=0.4.0 in /home/abhijit/.local/lib/python3.10/site-packages (from pydantic<3,>=1.9.0->openai) (0.7.0)\n",
      "Requirement already satisfied: pydantic-core==2.20.1 in /home/abhijit/.local/lib/python3.10/site-packages (from pydantic<3,>=1.9.0->openai) (2.20.1)\n",
      "Note: you may need to restart the kernel to use updated packages.\n"
     ]
    }
   ],
   "source": [
    "pip install openai"
   ]
  },
  {
   "cell_type": "code",
   "execution_count": 15,
   "id": "d1d7b90a-4731-43f5-bfd1-3cb985b6d35b",
   "metadata": {},
   "outputs": [
    {
     "name": "stdout",
     "output_type": "stream",
     "text": [
      "Defaulting to user installation because normal site-packages is not writeable\n",
      "Requirement already satisfied: scikit-learn in /home/abhijit/.local/lib/python3.10/site-packages (1.5.1)\n",
      "Requirement already satisfied: joblib>=1.2.0 in /home/abhijit/.local/lib/python3.10/site-packages (from scikit-learn) (1.4.2)\n",
      "Requirement already satisfied: scipy>=1.6.0 in /home/abhijit/.local/lib/python3.10/site-packages (from scikit-learn) (1.14.1)\n",
      "Requirement already satisfied: numpy>=1.19.5 in /home/abhijit/.local/lib/python3.10/site-packages (from scikit-learn) (2.0.1)\n",
      "Requirement already satisfied: threadpoolctl>=3.1.0 in /home/abhijit/.local/lib/python3.10/site-packages (from scikit-learn) (3.5.0)\n"
     ]
    }
   ],
   "source": [
    "!pip install scikit-learn"
   ]
  },
  {
   "cell_type": "code",
   "execution_count": 16,
   "id": "7f9ca690-6b9d-4f08-87a1-9e6425e12708",
   "metadata": {},
   "outputs": [],
   "source": [
    "from openai import OpenAI\n",
    "import json\n",
    "\n",
    "client = OpenAI()\n",
    "\n",
    "def get_response(news_article):\n",
    "    completion = client.chat.completions.create(\n",
    "        model=\"gpt-4o-mini\",\n",
    "        messages=[\n",
    "            {\"role\": \"system\", \"content\": prompt},\n",
    "            {\"role\": \"user\", \"content\": news_article}\n",
    "        ]\n",
    "    )\n",
    "    return completion.choices[0].message.content"
   ]
  },
  {
   "cell_type": "code",
   "execution_count": 17,
   "id": "95f0d7ce-8b98-4707-860b-31045a982396",
   "metadata": {},
   "outputs": [
    {
     "name": "stdout",
     "output_type": "stream",
     "text": [
      "Decide the text's frame between these options:\n",
      "\n",
      "    - responsibility. This frame presents an issue or problem in such a way as to attribute responsibility for its cause or solution to either the government or to an individual or group.\n",
      "    - human. This frame brings a human face or an emotional angle to the presentation of an event, issue, or problem.\n",
      "    - conflict. This frame emphasizes conflict between individuals, groups, or institutions as a means of capturing audience interest.\n",
      "    - morality. This frame puts the event, problem, or issue in the context of religious tenets or moral prescriptions.\n",
      "    - economic. This frame reports an event, problem, or issue in terms of the consequences it will have economically on an individual, group, institution, region, or country.\n",
      "\n",
      "Also, assign subframe between these options: \n",
      "- Culture\n",
      "- Violence and Victimization\n",
      "- Sports & Entertainment\n",
      "- Nature\n",
      "- Conflict & Protest\n",
      "- Crime\n",
      "- Legal Frameworks\n",
      "- Local news\n",
      "- Health\n",
      "- Education\n",
      "- Investigative Analysis\n",
      "- Economic Growth and Development\n",
      "- Politics\n",
      "- Govt. Actions\n",
      "- Accidents\n",
      "- Empowerment and Advocacy\n",
      "\n",
      "Return a json containing frame type and subframe(s) type. The subframe type should be a list.\n"
     ]
    }
   ],
   "source": [
    "with open('framing_prompt_llm_paper_plus_our_frames.txt', 'r') as file:\n",
    "    prompt = file.read()\n",
    "print(prompt)"
   ]
  },
  {
   "cell_type": "code",
   "execution_count": 18,
   "id": "8439aa8a-5e2d-40d2-928c-7439e03e5eb7",
   "metadata": {},
   "outputs": [
    {
     "name": "stdout",
     "output_type": "stream",
     "text": [
      "Selectin 4892 articles from 4892 total articles.\n"
     ]
    }
   ],
   "source": [
    "print(f\"Selectin {N} articles from {len(articles)} total articles.\")"
   ]
  },
  {
   "cell_type": "code",
   "execution_count": 20,
   "id": "0df38835-a687-45e7-9b9d-1deb18a22a72",
   "metadata": {},
   "outputs": [
    {
     "name": "stderr",
     "output_type": "stream",
     "text": [
      "Processing articles:   2%|█▊                                                                                     | 100/4892 [02:09<1:49:19,  1.37s/it]"
     ]
    },
    {
     "name": "stdout",
     "output_type": "stream",
     "text": [
      "Checkpoint saved at index 100\n"
     ]
    },
    {
     "name": "stderr",
     "output_type": "stream",
     "text": [
      "Processing articles:   4%|███▌                                                                                   | 200/4892 [04:13<1:21:59,  1.05s/it]"
     ]
    },
    {
     "name": "stdout",
     "output_type": "stream",
     "text": [
      "Checkpoint saved at index 200\n"
     ]
    },
    {
     "name": "stderr",
     "output_type": "stream",
     "text": [
      "Processing articles:   6%|█████▎                                                                                 | 300/4892 [06:15<1:31:29,  1.20s/it]"
     ]
    },
    {
     "name": "stdout",
     "output_type": "stream",
     "text": [
      "Checkpoint saved at index 300\n"
     ]
    },
    {
     "name": "stderr",
     "output_type": "stream",
     "text": [
      "Processing articles:   8%|███████                                                                                | 400/4892 [08:14<1:17:37,  1.04s/it]"
     ]
    },
    {
     "name": "stdout",
     "output_type": "stream",
     "text": [
      "Checkpoint saved at index 400\n"
     ]
    },
    {
     "name": "stderr",
     "output_type": "stream",
     "text": [
      "Processing articles:  10%|████████▉                                                                              | 500/4892 [10:06<1:23:16,  1.14s/it]"
     ]
    },
    {
     "name": "stdout",
     "output_type": "stream",
     "text": [
      "Checkpoint saved at index 500\n"
     ]
    },
    {
     "name": "stderr",
     "output_type": "stream",
     "text": [
      "Processing articles:  12%|██████████▋                                                                            | 600/4892 [11:58<1:40:11,  1.40s/it]"
     ]
    },
    {
     "name": "stdout",
     "output_type": "stream",
     "text": [
      "Checkpoint saved at index 600\n"
     ]
    },
    {
     "name": "stderr",
     "output_type": "stream",
     "text": [
      "Processing articles:  14%|████████████▍                                                                          | 700/4892 [13:56<1:25:37,  1.23s/it]"
     ]
    },
    {
     "name": "stdout",
     "output_type": "stream",
     "text": [
      "Checkpoint saved at index 700\n"
     ]
    },
    {
     "name": "stderr",
     "output_type": "stream",
     "text": [
      "Processing articles:  16%|██████████████▏                                                                        | 800/4892 [15:54<1:23:10,  1.22s/it]"
     ]
    },
    {
     "name": "stdout",
     "output_type": "stream",
     "text": [
      "Checkpoint saved at index 800\n"
     ]
    },
    {
     "name": "stderr",
     "output_type": "stream",
     "text": [
      "Processing articles:  18%|████████████████                                                                       | 900/4892 [17:50<1:20:32,  1.21s/it]"
     ]
    },
    {
     "name": "stdout",
     "output_type": "stream",
     "text": [
      "Checkpoint saved at index 900\n"
     ]
    },
    {
     "name": "stderr",
     "output_type": "stream",
     "text": [
      "Processing articles:  20%|█████████████████▌                                                                    | 1000/4892 [19:47<1:15:35,  1.17s/it]"
     ]
    },
    {
     "name": "stdout",
     "output_type": "stream",
     "text": [
      "Checkpoint saved at index 1000\n"
     ]
    },
    {
     "name": "stderr",
     "output_type": "stream",
     "text": [
      "Processing articles:  22%|███████████████████▎                                                                  | 1100/4892 [21:47<1:18:11,  1.24s/it]"
     ]
    },
    {
     "name": "stdout",
     "output_type": "stream",
     "text": [
      "Checkpoint saved at index 1100\n"
     ]
    },
    {
     "name": "stderr",
     "output_type": "stream",
     "text": [
      "Processing articles:  25%|█████████████████████                                                                 | 1200/4892 [23:51<1:14:09,  1.21s/it]"
     ]
    },
    {
     "name": "stdout",
     "output_type": "stream",
     "text": [
      "Checkpoint saved at index 1200\n"
     ]
    },
    {
     "name": "stderr",
     "output_type": "stream",
     "text": [
      "Processing articles:  27%|██████████████████████▊                                                               | 1300/4892 [25:47<1:04:03,  1.07s/it]"
     ]
    },
    {
     "name": "stdout",
     "output_type": "stream",
     "text": [
      "Checkpoint saved at index 1300\n"
     ]
    },
    {
     "name": "stderr",
     "output_type": "stream",
     "text": [
      "Processing articles:  29%|████████████████████████▌                                                             | 1400/4892 [27:47<1:05:09,  1.12s/it]"
     ]
    },
    {
     "name": "stdout",
     "output_type": "stream",
     "text": [
      "Checkpoint saved at index 1400\n"
     ]
    },
    {
     "name": "stderr",
     "output_type": "stream",
     "text": [
      "Processing articles:  31%|██████████████████████████▉                                                             | 1500/4892 [29:48<58:15,  1.03s/it]"
     ]
    },
    {
     "name": "stdout",
     "output_type": "stream",
     "text": [
      "Checkpoint saved at index 1500\n"
     ]
    },
    {
     "name": "stderr",
     "output_type": "stream",
     "text": [
      "Processing articles:  33%|████████████████████████████▏                                                         | 1600/4892 [31:42<1:07:41,  1.23s/it]"
     ]
    },
    {
     "name": "stdout",
     "output_type": "stream",
     "text": [
      "Checkpoint saved at index 1600\n"
     ]
    },
    {
     "name": "stderr",
     "output_type": "stream",
     "text": [
      "Processing articles:  35%|█████████████████████████████▉                                                        | 1700/4892 [33:38<1:03:19,  1.19s/it]"
     ]
    },
    {
     "name": "stdout",
     "output_type": "stream",
     "text": [
      "Checkpoint saved at index 1700\n"
     ]
    },
    {
     "name": "stderr",
     "output_type": "stream",
     "text": [
      "Processing articles:  37%|████████████████████████████████▍                                                       | 1800/4892 [35:40<58:09,  1.13s/it]"
     ]
    },
    {
     "name": "stdout",
     "output_type": "stream",
     "text": [
      "Checkpoint saved at index 1800\n"
     ]
    },
    {
     "name": "stderr",
     "output_type": "stream",
     "text": [
      "Processing articles:  39%|██████████████████████████████████▏                                                     | 1900/4892 [37:38<58:19,  1.17s/it]"
     ]
    },
    {
     "name": "stdout",
     "output_type": "stream",
     "text": [
      "Checkpoint saved at index 1900\n"
     ]
    },
    {
     "name": "stderr",
     "output_type": "stream",
     "text": [
      "Processing articles:  41%|███████████████████████████████████▉                                                    | 2000/4892 [39:35<54:49,  1.14s/it]"
     ]
    },
    {
     "name": "stdout",
     "output_type": "stream",
     "text": [
      "Checkpoint saved at index 2000\n"
     ]
    },
    {
     "name": "stderr",
     "output_type": "stream",
     "text": [
      "Processing articles:  43%|████████████████████████████████████▉                                                 | 2100/4892 [41:35<1:01:13,  1.32s/it]"
     ]
    },
    {
     "name": "stdout",
     "output_type": "stream",
     "text": [
      "Checkpoint saved at index 2100\n"
     ]
    },
    {
     "name": "stderr",
     "output_type": "stream",
     "text": [
      "Processing articles:  45%|███████████████████████████████████████▌                                                | 2200/4892 [43:34<52:56,  1.18s/it]"
     ]
    },
    {
     "name": "stdout",
     "output_type": "stream",
     "text": [
      "Checkpoint saved at index 2200\n"
     ]
    },
    {
     "name": "stderr",
     "output_type": "stream",
     "text": [
      "Processing articles:  47%|█████████████████████████████████████████▎                                              | 2300/4892 [45:34<47:05,  1.09s/it]"
     ]
    },
    {
     "name": "stdout",
     "output_type": "stream",
     "text": [
      "Checkpoint saved at index 2300\n"
     ]
    },
    {
     "name": "stderr",
     "output_type": "stream",
     "text": [
      "Processing articles:  49%|███████████████████████████████████████████▏                                            | 2400/4892 [47:33<53:26,  1.29s/it]"
     ]
    },
    {
     "name": "stdout",
     "output_type": "stream",
     "text": [
      "Checkpoint saved at index 2400\n"
     ]
    },
    {
     "name": "stderr",
     "output_type": "stream",
     "text": [
      "Processing articles:  51%|████████████████████████████████████████████▉                                           | 2500/4892 [49:48<53:13,  1.34s/it]"
     ]
    },
    {
     "name": "stdout",
     "output_type": "stream",
     "text": [
      "Checkpoint saved at index 2500\n"
     ]
    },
    {
     "name": "stderr",
     "output_type": "stream",
     "text": [
      "Processing articles:  53%|██████████████████████████████████████████████▊                                         | 2600/4892 [51:47<49:07,  1.29s/it]"
     ]
    },
    {
     "name": "stdout",
     "output_type": "stream",
     "text": [
      "Checkpoint saved at index 2600\n"
     ]
    },
    {
     "name": "stderr",
     "output_type": "stream",
     "text": [
      "Processing articles:  55%|████████████████████████████████████████████████▌                                       | 2700/4892 [54:05<39:13,  1.07s/it]"
     ]
    },
    {
     "name": "stdout",
     "output_type": "stream",
     "text": [
      "Checkpoint saved at index 2700\n"
     ]
    },
    {
     "name": "stderr",
     "output_type": "stream",
     "text": [
      "Processing articles:  57%|██████████████████████████████████████████████████▎                                     | 2800/4892 [56:00<39:26,  1.13s/it]"
     ]
    },
    {
     "name": "stdout",
     "output_type": "stream",
     "text": [
      "Checkpoint saved at index 2800\n"
     ]
    },
    {
     "name": "stderr",
     "output_type": "stream",
     "text": [
      "Processing articles:  59%|████████████████████████████████████████████████████▏                                   | 2900/4892 [58:04<35:44,  1.08s/it]"
     ]
    },
    {
     "name": "stdout",
     "output_type": "stream",
     "text": [
      "Checkpoint saved at index 2900\n"
     ]
    },
    {
     "name": "stderr",
     "output_type": "stream",
     "text": [
      "Processing articles:  61%|████████████████████████████████████████████████████▋                                 | 3000/4892 [1:00:00<36:29,  1.16s/it]"
     ]
    },
    {
     "name": "stdout",
     "output_type": "stream",
     "text": [
      "Checkpoint saved at index 3000\n"
     ]
    },
    {
     "name": "stderr",
     "output_type": "stream",
     "text": [
      "Processing articles:  63%|██████████████████████████████████████████████████████▍                               | 3100/4892 [1:02:03<35:40,  1.19s/it]"
     ]
    },
    {
     "name": "stdout",
     "output_type": "stream",
     "text": [
      "Checkpoint saved at index 3100\n"
     ]
    },
    {
     "name": "stderr",
     "output_type": "stream",
     "text": [
      "Processing articles:  65%|████████████████████████████████████████████████████████▎                             | 3200/4892 [1:03:56<36:06,  1.28s/it]"
     ]
    },
    {
     "name": "stdout",
     "output_type": "stream",
     "text": [
      "Checkpoint saved at index 3200\n"
     ]
    },
    {
     "name": "stderr",
     "output_type": "stream",
     "text": [
      "Processing articles:  67%|██████████████████████████████████████████████████████████                            | 3300/4892 [1:06:04<33:43,  1.27s/it]"
     ]
    },
    {
     "name": "stdout",
     "output_type": "stream",
     "text": [
      "Checkpoint saved at index 3300\n"
     ]
    },
    {
     "name": "stderr",
     "output_type": "stream",
     "text": [
      "Processing articles:  70%|███████████████████████████████████████████████████████████▊                          | 3400/4892 [1:07:58<27:59,  1.13s/it]"
     ]
    },
    {
     "name": "stdout",
     "output_type": "stream",
     "text": [
      "Checkpoint saved at index 3400\n"
     ]
    },
    {
     "name": "stderr",
     "output_type": "stream",
     "text": [
      "Processing articles:  72%|█████████████████████████████████████████████████████████████▌                        | 3500/4892 [1:09:44<23:05,  1.00it/s]"
     ]
    },
    {
     "name": "stdout",
     "output_type": "stream",
     "text": [
      "Checkpoint saved at index 3500\n"
     ]
    },
    {
     "name": "stderr",
     "output_type": "stream",
     "text": [
      "Processing articles:  74%|███████████████████████████████████████████████████████████████▎                      | 3600/4892 [1:11:33<24:36,  1.14s/it]"
     ]
    },
    {
     "name": "stdout",
     "output_type": "stream",
     "text": [
      "Checkpoint saved at index 3600\n"
     ]
    },
    {
     "name": "stderr",
     "output_type": "stream",
     "text": [
      "Processing articles:  76%|█████████████████████████████████████████████████████████████████                     | 3700/4892 [1:13:28<20:00,  1.01s/it]"
     ]
    },
    {
     "name": "stdout",
     "output_type": "stream",
     "text": [
      "Checkpoint saved at index 3700\n"
     ]
    },
    {
     "name": "stderr",
     "output_type": "stream",
     "text": [
      "Processing articles:  78%|██████████████████████████████████████████████████████████████████▊                   | 3800/4892 [1:15:20<18:25,  1.01s/it]"
     ]
    },
    {
     "name": "stdout",
     "output_type": "stream",
     "text": [
      "Checkpoint saved at index 3800\n"
     ]
    },
    {
     "name": "stderr",
     "output_type": "stream",
     "text": [
      "Processing articles:  80%|████████████████████████████████████████████████████████████████████▌                 | 3900/4892 [1:17:08<18:05,  1.09s/it]"
     ]
    },
    {
     "name": "stdout",
     "output_type": "stream",
     "text": [
      "Checkpoint saved at index 3900\n"
     ]
    },
    {
     "name": "stderr",
     "output_type": "stream",
     "text": [
      "Processing articles:  82%|██████████████████████████████████████████████████████████████████████▎               | 4000/4892 [1:19:05<16:34,  1.12s/it]"
     ]
    },
    {
     "name": "stdout",
     "output_type": "stream",
     "text": [
      "Checkpoint saved at index 4000\n"
     ]
    },
    {
     "name": "stderr",
     "output_type": "stream",
     "text": [
      "Processing articles:  84%|████████████████████████████████████████████████████████████████████████              | 4100/4892 [1:20:56<13:13,  1.00s/it]"
     ]
    },
    {
     "name": "stdout",
     "output_type": "stream",
     "text": [
      "Checkpoint saved at index 4100\n"
     ]
    },
    {
     "name": "stderr",
     "output_type": "stream",
     "text": [
      "Processing articles:  86%|█████████████████████████████████████████████████████████████████████████▊            | 4200/4892 [1:22:45<12:20,  1.07s/it]"
     ]
    },
    {
     "name": "stdout",
     "output_type": "stream",
     "text": [
      "Checkpoint saved at index 4200\n"
     ]
    },
    {
     "name": "stderr",
     "output_type": "stream",
     "text": [
      "Processing articles:  88%|███████████████████████████████████████████████████████████████████████████▌          | 4300/4892 [1:24:39<10:14,  1.04s/it]"
     ]
    },
    {
     "name": "stdout",
     "output_type": "stream",
     "text": [
      "Checkpoint saved at index 4300\n"
     ]
    },
    {
     "name": "stderr",
     "output_type": "stream",
     "text": [
      "Processing articles:  90%|█████████████████████████████████████████████████████████████████████████████▎        | 4400/4892 [1:26:23<08:14,  1.01s/it]"
     ]
    },
    {
     "name": "stdout",
     "output_type": "stream",
     "text": [
      "Checkpoint saved at index 4400\n"
     ]
    },
    {
     "name": "stderr",
     "output_type": "stream",
     "text": [
      "Processing articles:  92%|███████████████████████████████████████████████████████████████████████████████       | 4500/4892 [1:28:11<07:41,  1.18s/it]"
     ]
    },
    {
     "name": "stdout",
     "output_type": "stream",
     "text": [
      "Checkpoint saved at index 4500\n"
     ]
    },
    {
     "name": "stderr",
     "output_type": "stream",
     "text": [
      "Processing articles:  94%|████████████████████████████████████████████████████████████████████████████████▊     | 4600/4892 [1:30:10<05:19,  1.09s/it]"
     ]
    },
    {
     "name": "stdout",
     "output_type": "stream",
     "text": [
      "Checkpoint saved at index 4600\n"
     ]
    },
    {
     "name": "stderr",
     "output_type": "stream",
     "text": [
      "Processing articles:  96%|██████████████████████████████████████████████████████████████████████████████████▌   | 4700/4892 [1:32:02<03:33,  1.11s/it]"
     ]
    },
    {
     "name": "stdout",
     "output_type": "stream",
     "text": [
      "Checkpoint saved at index 4700\n"
     ]
    },
    {
     "name": "stderr",
     "output_type": "stream",
     "text": [
      "Processing articles:  98%|████████████████████████████████████████████████████████████████████████████████████▍ | 4800/4892 [1:34:12<01:27,  1.05it/s]"
     ]
    },
    {
     "name": "stdout",
     "output_type": "stream",
     "text": [
      "Checkpoint saved at index 4800\n"
     ]
    },
    {
     "name": "stderr",
     "output_type": "stream",
     "text": [
      "Processing articles: 100%|██████████████████████████████████████████████████████████████████████████████████████| 4892/4892 [1:35:50<00:00,  1.18s/it]"
     ]
    },
    {
     "name": "stdout",
     "output_type": "stream",
     "text": [
      "Processing complete and final checkpoint saved.\n"
     ]
    },
    {
     "name": "stderr",
     "output_type": "stream",
     "text": [
      "\n"
     ]
    }
   ],
   "source": [
    "from tqdm import tqdm\n",
    "import pickle\n",
    "\n",
    "# Define checkpoint file path\n",
    "checkpoint_file = 'responses_checkpoint_framing__4o_mini_ethnic.pkl'\n",
    "\n",
    "# Load checkpoint if it exists\n",
    "try:\n",
    "    with open(checkpoint_file, 'rb') as f:\n",
    "        responses = pickle.load(f)\n",
    "        start_index = len(responses)\n",
    "        tqdm.write(f\"Resuming from checkpoint at index {start_index}\")\n",
    "except FileNotFoundError:\n",
    "    responses = []\n",
    "    start_index = 0\n",
    "\n",
    "# Fetch responses with checkpoints\n",
    "for i, article in tqdm(enumerate(articles[start_index:N]), total=N - start_index, desc=\"Processing articles\"):\n",
    "    # Ensure we're only processing from the checkpoint onward\n",
    "    response = get_response(article)  # Slice article to handle length limit\n",
    "    responses.append(response)\n",
    "    \n",
    "    # Save checkpoint every 100 responses\n",
    "    if (i + start_index + 1) % 100 == 0:\n",
    "        with open(checkpoint_file, 'wb') as f:\n",
    "            pickle.dump(responses, f)\n",
    "        tqdm.write(f\"Checkpoint saved at index {i + start_index + 1}\")\n",
    "\n",
    "# Save final responses\n",
    "with open(checkpoint_file, 'wb') as f:\n",
    "    pickle.dump(responses, f)\n",
    "tqdm.write(\"Processing complete and final checkpoint saved.\")"
   ]
  },
  {
   "cell_type": "code",
   "execution_count": 26,
   "id": "88ccc11f-2e57-4292-befe-b67b9635af31",
   "metadata": {},
   "outputs": [
    {
     "data": {
      "text/plain": [
       "['```json\\n{\\n  \"frame\": \"conflict\",\\n  \"subframes\": [\\n    \"Violence and Victimization\",\\n    \"Conflict & Protest\",\\n    \"Crime\",\\n    \"Politics\"\\n  ]\\n}\\n```',\n",
       " '```json\\n{\\n  \"frame\": \"responsibility\",\\n  \"subframes\": [\"Crime\", \"Local news\", \"Govt. Actions\"]\\n}\\n```',\n",
       " '```json\\n{\\n  \"frame\": \"conflict\",\\n  \"subframes\": [\\n    \"Conflict & Protest\",\\n    \"Violence and Victimization\"\\n  ]\\n}\\n```',\n",
       " '```json\\n{\\n    \"frame\": \"responsibility\",\\n    \"subframes\": [\"Legal Frameworks\"]\\n}\\n```',\n",
       " '```json\\n{\\n  \"frame\": \"responsibility\",\\n  \"subframes\": [\"Politics\", \"Conflict & Protest\", \"Local news\"]\\n}\\n```',\n",
       " '```json\\n{\\n  \"frame\": \"human\",\\n  \"subframes\": [\\n    \"Culture\",\\n    \"Politics\",\\n    \"Violence and Victimization\"\\n  ]\\n}\\n```',\n",
       " '```json\\n{\\n  \"frame\": \"responsibility\",\\n  \"subframe\": [\"Violence and Victimization\", \"Conflict & Protest\", \"Crime\", \"Local news\"]\\n}\\n```',\n",
       " '```json\\n{\\n  \"frame\": \"responsibility\",\\n  \"subframes\": [\"Politics\", \"Empowerment and Advocacy\"]\\n}\\n```',\n",
       " '```json\\n{\\n  \"frame\": \"responsibility\",\\n  \"subframes\": [\"Politics\", \"Local news\", \"Conflict & Protest\"]\\n}\\n```',\n",
       " '```json\\n{\\n  \"frame\": \"human\",\\n  \"subframes\": [\\n    \"Sports & Entertainment\",\\n    \"Empowerment and Advocacy\"\\n  ]\\n}\\n```']"
      ]
     },
     "execution_count": 26,
     "metadata": {},
     "output_type": "execute_result"
    }
   ],
   "source": [
    "responses[:10]"
   ]
  },
  {
   "cell_type": "code",
   "execution_count": 27,
   "id": "a0b27832-69ba-41dc-9d3e-1e7b614053f9",
   "metadata": {},
   "outputs": [
    {
     "data": {
      "text/plain": [
       "['../data/ethnic_gpt4omini_turbo_framing_with_4893_ethnic_articles_4892.joblib']"
      ]
     },
     "execution_count": 27,
     "metadata": {},
     "output_type": "execute_result"
    }
   ],
   "source": [
    "import joblib\n",
    "joblib.dump(responses, f\"../data/ethnic_gpt4omini_turbo_{EXPERIMENT_IDENTIFIER}_articles_{N}.joblib\")"
   ]
  },
  {
   "cell_type": "code",
   "execution_count": 28,
   "id": "8450b605-7521-430c-9959-605c2f9e4824",
   "metadata": {},
   "outputs": [
    {
     "data": {
      "text/plain": [
       "['../data/ethnic_gpt4omini_framing_with_4893_ethnic_responses_4892.joblib']"
      ]
     },
     "execution_count": 28,
     "metadata": {},
     "output_type": "execute_result"
    }
   ],
   "source": [
    "joblib.dump(articles, f\"../data/ethnic_gpt4omini_{EXPERIMENT_IDENTIFIER}_responses_{N}.joblib\")"
   ]
  },
  {
   "cell_type": "code",
   "execution_count": 37,
   "id": "ecbc827f-3f84-4f33-b694-bd999506ec68",
   "metadata": {},
   "outputs": [],
   "source": [
    "import re\n",
    "\n",
    "def fix_quotes(json_str):\n",
    "    print(f\"Before fixing: {json_str}\")\n",
    "    apostrophe = '\"'\n",
    "    parts = json_str.split(\",\")\n",
    "    fixed_parts = []\n",
    "    for part in parts:\n",
    "        if \"genre\" not in part:\n",
    "\n",
    "            # Detecting error\n",
    "            count_apostrophe = 0\n",
    "            for alphabet in part:\n",
    "                if alphabet == apostrophe:\n",
    "                    count_apostrophe+=1\n",
    "            # Fixing\n",
    "            if count_apostrophe > 4:\n",
    "                better_part = []\n",
    "                count_apostrophe = 0\n",
    "                for alphabet in part:\n",
    "                    if alphabet == apostrophe:\n",
    "                        count_apostrophe+=1\n",
    "                    if count_apostrophe == 4:\n",
    "                        better_part.append(\"'\")\n",
    "                        count_apostrophe = 0\n",
    "                    else:\n",
    "                        better_part.append(alphabet)\n",
    "                part = \"\".join(better_part)\n",
    "                \n",
    "            fixed_parts.append(part)\n",
    "        else:\n",
    "            fixed_parts.append(part)\n",
    "        \n",
    "    temp = \", \".join(fixed_parts)\n",
    "    print(f\"After fixing: {temp}\")\n",
    "    return temp\n",
    "    \n",
    "def post_process_chatgpt_turbo_3_5_response_to_json(text):\n",
    "    #print(f\"Before fixing: {text}\")\n",
    "\n",
    "    json_string = text.replace(\"```\", \"\").replace(\"json\",\"\").replace(\"\\n\",\"\").replace(\"'\", '\"').replace(\"\\t\",\"\").replace('\"s ', '\\'s ')\n",
    "    json_string = json_string.replace(\"_type\",\"\").replace(\"subframes\", \"subframe\")\n",
    "    try:\n",
    "        json_output = json.loads(json_string)\n",
    "        return json_output\n",
    "    except:\n",
    "        json_output = json.loads(fix_quotes(json_string))\n",
    "        return json_output"
   ]
  },
  {
   "cell_type": "code",
   "execution_count": 38,
   "id": "2fdc2b40-9cdc-4478-b0ce-fe62faa780f9",
   "metadata": {},
   "outputs": [
    {
     "data": {
      "text/html": [
       "<div>\n",
       "<style scoped>\n",
       "    .dataframe tbody tr th:only-of-type {\n",
       "        vertical-align: middle;\n",
       "    }\n",
       "\n",
       "    .dataframe tbody tr th {\n",
       "        vertical-align: top;\n",
       "    }\n",
       "\n",
       "    .dataframe thead th {\n",
       "        text-align: right;\n",
       "    }\n",
       "</style>\n",
       "<table border=\"1\" class=\"dataframe\">\n",
       "  <thead>\n",
       "    <tr style=\"text-align: right;\">\n",
       "      <th></th>\n",
       "      <th>content</th>\n",
       "      <th>Frame</th>\n",
       "      <th>Sub-Frame(s)</th>\n",
       "    </tr>\n",
       "  </thead>\n",
       "  <tbody>\n",
       "    <tr>\n",
       "      <th>0</th>\n",
       "      <td>রমেল হত্যায় মানবাধিকার কমিশনের তদন্ত শুরুরাঙ্গ...</td>\n",
       "      <td>conflict</td>\n",
       "      <td>[Violence and Victimization, Conflict &amp; Protes...</td>\n",
       "    </tr>\n",
       "    <tr>\n",
       "      <th>1</th>\n",
       "      <td>নারায়ণগঞ্জের রূপগঞ্জ ও ফতুল্লা, গাজীপুরের কালি...</td>\n",
       "      <td>responsibility</td>\n",
       "      <td>[Crime, Local news, Govt. Actions]</td>\n",
       "    </tr>\n",
       "    <tr>\n",
       "      <th>2</th>\n",
       "      <td>গাইবান্ধার গোবিন্দগঞ্জের রংপুর চিনিকলের সাহেবগ...</td>\n",
       "      <td>conflict</td>\n",
       "      <td>[Conflict &amp; Protest, Violence and Victimization]</td>\n",
       "    </tr>\n",
       "    <tr>\n",
       "      <th>3</th>\n",
       "      <td>চাঞ্চল্যকর পিলখানা হত্যা মামলায় ডেথ রেফারেন্স ...</td>\n",
       "      <td>responsibility</td>\n",
       "      <td>[Legal Frameworks]</td>\n",
       "    </tr>\n",
       "    <tr>\n",
       "      <th>4</th>\n",
       "      <td>অবাধে মাটি কেটে নেয়ার ধ্বংসের দ্বারপ্রান্তে ধো...</td>\n",
       "      <td>responsibility</td>\n",
       "      <td>[Politics, Conflict &amp; Protest, Local news]</td>\n",
       "    </tr>\n",
       "    <tr>\n",
       "      <th>...</th>\n",
       "      <td>...</td>\n",
       "      <td>...</td>\n",
       "      <td>...</td>\n",
       "    </tr>\n",
       "    <tr>\n",
       "      <th>4887</th>\n",
       "      <td>রাঙ্গামাটিতে প্রকাশ্যে বিক্রম চাকমা (৩৫) ওরফে ...</td>\n",
       "      <td>conflict</td>\n",
       "      <td>[Violence and Victimization, Politics]</td>\n",
       "    </tr>\n",
       "    <tr>\n",
       "      <th>4888</th>\n",
       "      <td>খাগড়াছড়ির দীঘিনালায় জেএসএস (এমএন লারমা) সমর্থি...</td>\n",
       "      <td>conflict</td>\n",
       "      <td>[Politics, Conflict &amp; Protest]</td>\n",
       "    </tr>\n",
       "    <tr>\n",
       "      <th>4889</th>\n",
       "      <td>শান্তি-সম্প্রীতি স্থাপনে দুই দশক আগে পার্বত্য ...</td>\n",
       "      <td>conflict</td>\n",
       "      <td>[Conflict &amp; Protest, Violence and Victimization]</td>\n",
       "    </tr>\n",
       "    <tr>\n",
       "      <th>4890</th>\n",
       "      <td>জনপ্রিয় ম্যাগাজিন অনুষ্ঠান ‘ইত্যাদি’ আজ শুক্রব...</td>\n",
       "      <td>human</td>\n",
       "      <td>[Culture, Health, Local news]</td>\n",
       "    </tr>\n",
       "    <tr>\n",
       "      <th>4891</th>\n",
       "      <td>সরকারি বেতন স্কেলের নবম থেকে ১৩তম গ্রেড পর্যন্...</td>\n",
       "      <td>responsibility</td>\n",
       "      <td>[Govt. Actions, Politics]</td>\n",
       "    </tr>\n",
       "  </tbody>\n",
       "</table>\n",
       "<p>4892 rows × 3 columns</p>\n",
       "</div>"
      ],
      "text/plain": [
       "                                                content           Frame  \\\n",
       "0     রমেল হত্যায় মানবাধিকার কমিশনের তদন্ত শুরুরাঙ্গ...        conflict   \n",
       "1     নারায়ণগঞ্জের রূপগঞ্জ ও ফতুল্লা, গাজীপুরের কালি...  responsibility   \n",
       "2     গাইবান্ধার গোবিন্দগঞ্জের রংপুর চিনিকলের সাহেবগ...        conflict   \n",
       "3     চাঞ্চল্যকর পিলখানা হত্যা মামলায় ডেথ রেফারেন্স ...  responsibility   \n",
       "4     অবাধে মাটি কেটে নেয়ার ধ্বংসের দ্বারপ্রান্তে ধো...  responsibility   \n",
       "...                                                 ...             ...   \n",
       "4887  রাঙ্গামাটিতে প্রকাশ্যে বিক্রম চাকমা (৩৫) ওরফে ...        conflict   \n",
       "4888  খাগড়াছড়ির দীঘিনালায় জেএসএস (এমএন লারমা) সমর্থি...        conflict   \n",
       "4889  শান্তি-সম্প্রীতি স্থাপনে দুই দশক আগে পার্বত্য ...        conflict   \n",
       "4890  জনপ্রিয় ম্যাগাজিন অনুষ্ঠান ‘ইত্যাদি’ আজ শুক্রব...           human   \n",
       "4891  সরকারি বেতন স্কেলের নবম থেকে ১৩তম গ্রেড পর্যন্...  responsibility   \n",
       "\n",
       "                                           Sub-Frame(s)  \n",
       "0     [Violence and Victimization, Conflict & Protes...  \n",
       "1                    [Crime, Local news, Govt. Actions]  \n",
       "2      [Conflict & Protest, Violence and Victimization]  \n",
       "3                                    [Legal Frameworks]  \n",
       "4            [Politics, Conflict & Protest, Local news]  \n",
       "...                                                 ...  \n",
       "4887             [Violence and Victimization, Politics]  \n",
       "4888                     [Politics, Conflict & Protest]  \n",
       "4889   [Conflict & Protest, Violence and Victimization]  \n",
       "4890                      [Culture, Health, Local news]  \n",
       "4891                          [Govt. Actions, Politics]  \n",
       "\n",
       "[4892 rows x 3 columns]"
      ]
     },
     "execution_count": 38,
     "metadata": {},
     "output_type": "execute_result"
    }
   ],
   "source": [
    "annotated_df = pd.DataFrame(articles)\n",
    "annotated_df.columns = [\"content\"]\n",
    "annotated_df[\"Frame\"] = [post_process_chatgpt_turbo_3_5_response_to_json(response)[\"frame\"] for response in responses]\n",
    "annotated_df[\"Sub-Frame(s)\"] = [post_process_chatgpt_turbo_3_5_response_to_json(response)[\"subframe\"] for response in responses]\n",
    "annotated_df"
   ]
  },
  {
   "cell_type": "code",
   "execution_count": 39,
   "id": "8dcd45ce-4940-4da1-91e7-8fe0f967a2cd",
   "metadata": {},
   "outputs": [],
   "source": [
    "annotated_df.to_csv(\"../data/ethnic_frame_gpt-40-mini_validation_4892_v1.csv\")"
   ]
  },
  {
   "cell_type": "code",
   "execution_count": 24,
   "id": "4da43bcd-6fa8-43a8-bb01-aa0eb92a4656",
   "metadata": {},
   "outputs": [],
   "source": [
    "with open(checkpoint_file, 'rb') as f:\n",
    "    responses = pickle.load(f)"
   ]
  },
  {
   "cell_type": "code",
   "execution_count": 38,
   "id": "9d750444-223a-4192-af69-624717321c2b",
   "metadata": {},
   "outputs": [
    {
     "data": {
      "text/plain": [
       "5000"
      ]
     },
     "execution_count": 38,
     "metadata": {},
     "output_type": "execute_result"
    }
   ],
   "source": [
    "len(responses)"
   ]
  },
  {
   "cell_type": "code",
   "execution_count": 40,
   "id": "36cd5950-fb50-48a8-acf7-e56f023f8bc9",
   "metadata": {},
   "outputs": [
    {
     "data": {
      "text/html": [
       "<div>\n",
       "<style scoped>\n",
       "    .dataframe tbody tr th:only-of-type {\n",
       "        vertical-align: middle;\n",
       "    }\n",
       "\n",
       "    .dataframe tbody tr th {\n",
       "        vertical-align: top;\n",
       "    }\n",
       "\n",
       "    .dataframe thead th {\n",
       "        text-align: right;\n",
       "    }\n",
       "</style>\n",
       "<table border=\"1\" class=\"dataframe\">\n",
       "  <thead>\n",
       "    <tr style=\"text-align: right;\">\n",
       "      <th></th>\n",
       "      <th>content</th>\n",
       "    </tr>\n",
       "  </thead>\n",
       "  <tbody>\n",
       "    <tr>\n",
       "      <th>0</th>\n",
       "      <td>&lt;p&gt;ফকিরহাট উপজেলা স্বাস্থ্য ও পরিবার পরিকল্পনা...</td>\n",
       "    </tr>\n",
       "    <tr>\n",
       "      <th>1</th>\n",
       "      <td>ব্লু-হোয়েল শেষে অতঃপর চলছে মোমো আতঙ্ক। তবে মোম...</td>\n",
       "    </tr>\n",
       "    <tr>\n",
       "      <th>2</th>\n",
       "      <td>&lt;p&gt;এদিকে প্রযোজক জানিয়েছেন, ছবিটির জন্য প্রচার...</td>\n",
       "    </tr>\n",
       "    <tr>\n",
       "      <th>3</th>\n",
       "      <td>&lt;p class=\"Hdg1col\"&gt;প্রথমবারের মতো দক্ষিণ আফ্রি...</td>\n",
       "    </tr>\n",
       "    <tr>\n",
       "      <th>4</th>\n",
       "      <td>&lt;p&gt;মফস্বলের শিক্ষার্থীদের ইংরেজি–ভীতি দূর করতে...</td>\n",
       "    </tr>\n",
       "    <tr>\n",
       "      <th>...</th>\n",
       "      <td>...</td>\n",
       "    </tr>\n",
       "    <tr>\n",
       "      <th>4995</th>\n",
       "      <td>জন্মের দেড় বছর পেরিয়ে গেলেও শরীরে অস্ত্রোপচার ...</td>\n",
       "    </tr>\n",
       "    <tr>\n",
       "      <th>4996</th>\n",
       "      <td>&lt;p&gt;শিক্ষামন্ত্রী নুরুল ইসলাম নাহিদ বলেছেন, প্র...</td>\n",
       "    </tr>\n",
       "    <tr>\n",
       "      <th>4997</th>\n",
       "      <td>&lt;p class=\"TEXT\"&gt;দেশে করোনা শনাক্তকরণ পরীক্ষা শ...</td>\n",
       "    </tr>\n",
       "    <tr>\n",
       "      <th>4998</th>\n",
       "      <td>বিএনপির ভারপ্রাপ্ত মহাসচিব মির্জা ফখরুল ইসলাম ...</td>\n",
       "    </tr>\n",
       "    <tr>\n",
       "      <th>4999</th>\n",
       "      <td>&lt;p&gt;প্রযুক্তিবিষয়ক ওয়েবসাইট দ্য ভার্জ জানিয়েছে,...</td>\n",
       "    </tr>\n",
       "  </tbody>\n",
       "</table>\n",
       "<p>5000 rows × 1 columns</p>\n",
       "</div>"
      ],
      "text/plain": [
       "                                                content\n",
       "0     <p>ফকিরহাট উপজেলা স্বাস্থ্য ও পরিবার পরিকল্পনা...\n",
       "1     ব্লু-হোয়েল শেষে অতঃপর চলছে মোমো আতঙ্ক। তবে মোম...\n",
       "2     <p>এদিকে প্রযোজক জানিয়েছেন, ছবিটির জন্য প্রচার...\n",
       "3     <p class=\"Hdg1col\">প্রথমবারের মতো দক্ষিণ আফ্রি...\n",
       "4     <p>মফস্বলের শিক্ষার্থীদের ইংরেজি–ভীতি দূর করতে...\n",
       "...                                                 ...\n",
       "4995  জন্মের দেড় বছর পেরিয়ে গেলেও শরীরে অস্ত্রোপচার ...\n",
       "4996  <p>শিক্ষামন্ত্রী নুরুল ইসলাম নাহিদ বলেছেন, প্র...\n",
       "4997  <p class=\"TEXT\">দেশে করোনা শনাক্তকরণ পরীক্ষা শ...\n",
       "4998  বিএনপির ভারপ্রাপ্ত মহাসচিব মির্জা ফখরুল ইসলাম ...\n",
       "4999  <p>প্রযুক্তিবিষয়ক ওয়েবসাইট দ্য ভার্জ জানিয়েছে,...\n",
       "\n",
       "[5000 rows x 1 columns]"
      ]
     },
     "execution_count": 40,
     "metadata": {},
     "output_type": "execute_result"
    }
   ],
   "source": [
    "ethnic_sample_df = pd.DataFrame(articles)\n",
    "ethnic_sample_df.columns = [\"content\"]\n",
    "ethnic_sample_df"
   ]
  },
  {
   "cell_type": "code",
   "execution_count": 75,
   "id": "c2e1d8a1-b16e-4cc9-a688-8767b41340e5",
   "metadata": {},
   "outputs": [
    {
     "data": {
      "text/html": [
       "<div>\n",
       "<style scoped>\n",
       "    .dataframe tbody tr th:only-of-type {\n",
       "        vertical-align: middle;\n",
       "    }\n",
       "\n",
       "    .dataframe tbody tr th {\n",
       "        vertical-align: top;\n",
       "    }\n",
       "\n",
       "    .dataframe thead th {\n",
       "        text-align: right;\n",
       "    }\n",
       "</style>\n",
       "<table border=\"1\" class=\"dataframe\">\n",
       "  <thead>\n",
       "    <tr style=\"text-align: right;\">\n",
       "      <th></th>\n",
       "      <th>content</th>\n",
       "      <th>Genre</th>\n",
       "      <th>Journalism Style</th>\n",
       "      <th>Is_ethnic</th>\n",
       "      <th>Featured</th>\n",
       "      <th>Sentiment</th>\n",
       "      <th>Agenda Setting</th>\n",
       "      <th>Framing</th>\n",
       "      <th>Priming</th>\n",
       "      <th>Mobilizing</th>\n",
       "    </tr>\n",
       "  </thead>\n",
       "  <tbody>\n",
       "    <tr>\n",
       "      <th>0</th>\n",
       "      <td>&lt;p&gt;ফকিরহাট উপজেলা স্বাস্থ্য ও পরিবার পরিকল্পনা...</td>\n",
       "      <td>[Local news]</td>\n",
       "      <td>Straight</td>\n",
       "      <td>False</td>\n",
       "      <td>Subject</td>\n",
       "      <td>Negative</td>\n",
       "      <td>Health</td>\n",
       "      <td>Tragedy</td>\n",
       "      <td>Awareness</td>\n",
       "      <td>Support</td>\n",
       "    </tr>\n",
       "    <tr>\n",
       "      <th>1</th>\n",
       "      <td>ব্লু-হোয়েল শেষে অতঃপর চলছে মোমো আতঙ্ক। তবে মোম...</td>\n",
       "      <td>[Crime]</td>\n",
       "      <td>Straight</td>\n",
       "      <td>False</td>\n",
       "      <td>Subject</td>\n",
       "      <td>Negative</td>\n",
       "      <td>Online Games</td>\n",
       "      <td>Dangerous Influence</td>\n",
       "      <td>Youth</td>\n",
       "      <td>Awareness</td>\n",
       "    </tr>\n",
       "    <tr>\n",
       "      <th>2</th>\n",
       "      <td>&lt;p&gt;এদিকে প্রযোজক জানিয়েছেন, ছবিটির জন্য প্রচার...</td>\n",
       "      <td>[Culture &amp; Entertainment]</td>\n",
       "      <td>Straight</td>\n",
       "      <td>False</td>\n",
       "      <td>Not applicable</td>\n",
       "      <td>Neutral</td>\n",
       "      <td>Promotion</td>\n",
       "      <td>Promotion</td>\n",
       "      <td>Advertisement</td>\n",
       "      <td>None</td>\n",
       "    </tr>\n",
       "    <tr>\n",
       "      <th>3</th>\n",
       "      <td>&lt;p class=\"Hdg1col\"&gt;প্রথমবারের মতো দক্ষিণ আফ্রি...</td>\n",
       "      <td>[Sports]</td>\n",
       "      <td>Straight</td>\n",
       "      <td>False</td>\n",
       "      <td>Subject</td>\n",
       "      <td>Positive</td>\n",
       "      <td>Sports</td>\n",
       "      <td>Competition</td>\n",
       "      <td>Victory</td>\n",
       "      <td>Celebration</td>\n",
       "    </tr>\n",
       "    <tr>\n",
       "      <th>4</th>\n",
       "      <td>&lt;p&gt;মফস্বলের শিক্ষার্থীদের ইংরেজি–ভীতি দূর করতে...</td>\n",
       "      <td>[Education]</td>\n",
       "      <td>Straight</td>\n",
       "      <td>False</td>\n",
       "      <td>Subject</td>\n",
       "      <td>Negative</td>\n",
       "      <td>English Language</td>\n",
       "      <td>Competition</td>\n",
       "      <td>Students</td>\n",
       "      <td>Improvement</td>\n",
       "    </tr>\n",
       "    <tr>\n",
       "      <th>...</th>\n",
       "      <td>...</td>\n",
       "      <td>...</td>\n",
       "      <td>...</td>\n",
       "      <td>...</td>\n",
       "      <td>...</td>\n",
       "      <td>...</td>\n",
       "      <td>...</td>\n",
       "      <td>...</td>\n",
       "      <td>...</td>\n",
       "      <td>...</td>\n",
       "    </tr>\n",
       "    <tr>\n",
       "      <th>4995</th>\n",
       "      <td>জন্মের দেড় বছর পেরিয়ে গেলেও শরীরে অস্ত্রোপচার ...</td>\n",
       "      <td>[Health, Local News]</td>\n",
       "      <td>Straight</td>\n",
       "      <td>False</td>\n",
       "      <td>Personal Experience</td>\n",
       "      <td>Positive</td>\n",
       "      <td>Treatment</td>\n",
       "      <td>Family Issues</td>\n",
       "      <td>Healthcare</td>\n",
       "      <td>Community Support</td>\n",
       "    </tr>\n",
       "    <tr>\n",
       "      <th>4996</th>\n",
       "      <td>&lt;p&gt;শিক্ষামন্ত্রী নুরুল ইসলাম নাহিদ বলেছেন, প্র...</td>\n",
       "      <td>[Politics, Education]</td>\n",
       "      <td>Straight</td>\n",
       "      <td>False</td>\n",
       "      <td>Subject</td>\n",
       "      <td>Neutral</td>\n",
       "      <td>Education</td>\n",
       "      <td>Policy</td>\n",
       "      <td>Feedback</td>\n",
       "      <td>Reform</td>\n",
       "    </tr>\n",
       "    <tr>\n",
       "      <th>4997</th>\n",
       "      <td>&lt;p class=\"TEXT\"&gt;দেশে করোনা শনাক্তকরণ পরীক্ষা শ...</td>\n",
       "      <td>[Health]</td>\n",
       "      <td>Straight</td>\n",
       "      <td>False</td>\n",
       "      <td>Expert or Commentator</td>\n",
       "      <td>Neutral</td>\n",
       "      <td>Testing</td>\n",
       "      <td>Prevention</td>\n",
       "      <td>Healthcare</td>\n",
       "      <td>Awareness</td>\n",
       "    </tr>\n",
       "    <tr>\n",
       "      <th>4998</th>\n",
       "      <td>বিএনপির ভারপ্রাপ্ত মহাসচিব মির্জা ফখরুল ইসলাম ...</td>\n",
       "      <td>[Politics, Crime]</td>\n",
       "      <td>Straight</td>\n",
       "      <td>False</td>\n",
       "      <td>Subject</td>\n",
       "      <td>Negative</td>\n",
       "      <td>Legal</td>\n",
       "      <td>Controversy</td>\n",
       "      <td>Court</td>\n",
       "      <td>Protest</td>\n",
       "    </tr>\n",
       "    <tr>\n",
       "      <th>4999</th>\n",
       "      <td>&lt;p&gt;প্রযুক্তিবিষয়ক ওয়েবসাইট দ্য ভার্জ জানিয়েছে,...</td>\n",
       "      <td>[Technology]</td>\n",
       "      <td>Straight</td>\n",
       "      <td>False</td>\n",
       "      <td>None</td>\n",
       "      <td>Positive</td>\n",
       "      <td>Innovation</td>\n",
       "      <td>Convenience</td>\n",
       "      <td>Remote</td>\n",
       "      <td>Tech-Savvy</td>\n",
       "    </tr>\n",
       "  </tbody>\n",
       "</table>\n",
       "<p>5000 rows × 10 columns</p>\n",
       "</div>"
      ],
      "text/plain": [
       "                                                content  \\\n",
       "0     <p>ফকিরহাট উপজেলা স্বাস্থ্য ও পরিবার পরিকল্পনা...   \n",
       "1     ব্লু-হোয়েল শেষে অতঃপর চলছে মোমো আতঙ্ক। তবে মোম...   \n",
       "2     <p>এদিকে প্রযোজক জানিয়েছেন, ছবিটির জন্য প্রচার...   \n",
       "3     <p class=\"Hdg1col\">প্রথমবারের মতো দক্ষিণ আফ্রি...   \n",
       "4     <p>মফস্বলের শিক্ষার্থীদের ইংরেজি–ভীতি দূর করতে...   \n",
       "...                                                 ...   \n",
       "4995  জন্মের দেড় বছর পেরিয়ে গেলেও শরীরে অস্ত্রোপচার ...   \n",
       "4996  <p>শিক্ষামন্ত্রী নুরুল ইসলাম নাহিদ বলেছেন, প্র...   \n",
       "4997  <p class=\"TEXT\">দেশে করোনা শনাক্তকরণ পরীক্ষা শ...   \n",
       "4998  বিএনপির ভারপ্রাপ্ত মহাসচিব মির্জা ফখরুল ইসলাম ...   \n",
       "4999  <p>প্রযুক্তিবিষয়ক ওয়েবসাইট দ্য ভার্জ জানিয়েছে,...   \n",
       "\n",
       "                          Genre Journalism Style Is_ethnic  \\\n",
       "0                  [Local news]         Straight     False   \n",
       "1                       [Crime]         Straight     False   \n",
       "2     [Culture & Entertainment]         Straight     False   \n",
       "3                      [Sports]         Straight     False   \n",
       "4                   [Education]         Straight     False   \n",
       "...                         ...              ...       ...   \n",
       "4995       [Health, Local News]         Straight     False   \n",
       "4996      [Politics, Education]         Straight     False   \n",
       "4997                   [Health]         Straight     False   \n",
       "4998          [Politics, Crime]         Straight     False   \n",
       "4999               [Technology]         Straight     False   \n",
       "\n",
       "                   Featured Sentiment    Agenda Setting              Framing  \\\n",
       "0                   Subject  Negative            Health              Tragedy   \n",
       "1                   Subject  Negative      Online Games  Dangerous Influence   \n",
       "2            Not applicable   Neutral         Promotion            Promotion   \n",
       "3                   Subject  Positive            Sports          Competition   \n",
       "4                   Subject  Negative  English Language          Competition   \n",
       "...                     ...       ...               ...                  ...   \n",
       "4995    Personal Experience  Positive         Treatment        Family Issues   \n",
       "4996                Subject   Neutral         Education               Policy   \n",
       "4997  Expert or Commentator   Neutral           Testing           Prevention   \n",
       "4998                Subject  Negative             Legal          Controversy   \n",
       "4999                   None  Positive        Innovation          Convenience   \n",
       "\n",
       "            Priming         Mobilizing  \n",
       "0         Awareness            Support  \n",
       "1             Youth          Awareness  \n",
       "2     Advertisement               None  \n",
       "3           Victory        Celebration  \n",
       "4          Students        Improvement  \n",
       "...             ...                ...  \n",
       "4995     Healthcare  Community Support  \n",
       "4996       Feedback             Reform  \n",
       "4997     Healthcare          Awareness  \n",
       "4998          Court            Protest  \n",
       "4999         Remote         Tech-Savvy  \n",
       "\n",
       "[5000 rows x 10 columns]"
      ]
     },
     "execution_count": 75,
     "metadata": {},
     "output_type": "execute_result"
    }
   ],
   "source": [
    "ethnic_sample_df[\"Genre\"] = [post_process_chatgpt_turbo_3_5_response_to_json(response)[\"genre\"] for response in responses]\n",
    "ethnic_sample_df[\"Journalism Style\"] = [post_process_chatgpt_turbo_3_5_response_to_json(response)[\"journalism_style\"] for response in responses]\n",
    "ethnic_sample_df[\"Featured\"] = [ post_process_chatgpt_turbo_3_5_response_to_json(response).get('featured', pd.NA) for response in responses ]\n",
    "ethnic_sample_df[\"Is_ethnic\"] = [post_process_chatgpt_turbo_3_5_response_to_json(response)[\"is_indigenous\"] for response in responses]\n",
    "ethnic_sample_df[\"Sentiment\"] = [ post_process_chatgpt_turbo_3_5_response_to_json(response).get('sentiment', pd.NA) for response in responses ]\n",
    "ethnic_sample_df[\"Agenda Setting\"] = [ post_process_chatgpt_turbo_3_5_response_to_json(response).get('agenda_setting', pd.NA) for response in responses ]\n",
    "ethnic_sample_df[\"Framing\"] = [ post_process_chatgpt_turbo_3_5_response_to_json(response).get('framing', pd.NA) for response in responses ]\n",
    "ethnic_sample_df[\"Priming\"] = [ post_process_chatgpt_turbo_3_5_response_to_json(response).get('priming', pd.NA) for response in responses ]\n",
    "ethnic_sample_df[\"Mobilizing\"] = [ post_process_chatgpt_turbo_3_5_response_to_json(response).get('mobilizing', pd.NA) for response in responses ]\n",
    "\n",
    "ethnic_sample_df"
   ]
  },
  {
   "cell_type": "code",
   "execution_count": 76,
   "id": "847283e8-a9e1-4975-af2e-9962ff149eb6",
   "metadata": {},
   "outputs": [
    {
     "data": {
      "text/plain": [
       "content               0\n",
       "Genre                 0\n",
       "Journalism Style     44\n",
       "Is_ethnic             1\n",
       "Featured            972\n",
       "Sentiment            81\n",
       "Agenda Setting       73\n",
       "Framing              72\n",
       "Priming              75\n",
       "Mobilizing           78\n",
       "dtype: int64"
      ]
     },
     "execution_count": 76,
     "metadata": {},
     "output_type": "execute_result"
    }
   ],
   "source": [
    "ethnic_sample_df.isna().sum()"
   ]
  },
  {
   "cell_type": "code",
   "execution_count": 77,
   "id": "e9b414cf-2698-4664-a2eb-82977a619fb7",
   "metadata": {},
   "outputs": [],
   "source": [
    "ethnic_sample_df.to_csv(f\"../data/nonethnic_{N}_gpt_3.5_turbo_v3.csv\")"
   ]
  },
  {
   "cell_type": "markdown",
   "id": "834e7fe3-55f6-4f12-941a-10963cd69f1d",
   "metadata": {
    "jp-MarkdownHeadingCollapsed": true
   },
   "source": [
    "### Evaluating"
   ]
  },
  {
   "cell_type": "code",
   "execution_count": 25,
   "id": "ef927981-c54b-4a84-811f-279576906789",
   "metadata": {},
   "outputs": [],
   "source": [
    "true_labels = [1,1,0,0,1,1,1,1,1,1,0,1,0,1,1,1,1,1,0,1,1,0,0,1,0,1,0,1,1,0,1,0,0,1,0,1,1,1,1,0,1,1,1,0,1,1,1,0,\n",
    "               1,1,1,0,1,0,0,0,1,1,1,1,0,1,0,1,\n",
    "               0,1,0,1,1,1,1,0,1,1,1,0,0,0,0,0,1,1,0,0,0,0,1,0,1,1,1,1,1,0,1,1,1,1,0,1]"
   ]
  },
  {
   "cell_type": "code",
   "execution_count": 27,
   "id": "63890706-dfb3-43eb-851c-78f22e159fea",
   "metadata": {},
   "outputs": [
    {
     "data": {
      "text/plain": [
       "[1, 0, 1, 0, 1]"
      ]
     },
     "execution_count": 27,
     "metadata": {},
     "output_type": "execute_result"
    }
   ],
   "source": [
    "predicted_labels = ethnic_sample_df[\"Is_ethnic\"].values.tolist()\n",
    "predicted_labels = [1 if item == True else 0 for item in predicted_labels]\n",
    "predicted_labels[:10]"
   ]
  },
  {
   "cell_type": "code",
   "execution_count": 28,
   "id": "9d24050a-abf4-4bab-b2db-d681de39b5df",
   "metadata": {},
   "outputs": [
    {
     "name": "stdout",
     "output_type": "stream",
     "text": [
      "Precision: 0.6666666666666666\n",
      "Recall: 0.6666666666666666\n",
      "Accuracy: 0.6\n",
      "F1 Score: 0.6666666666666666\n"
     ]
    }
   ],
   "source": [
    "from sklearn.metrics import precision_score, recall_score, accuracy_score, f1_score\n",
    "\n",
    "# Calculating precision, recall, accuracy, and F1 score\n",
    "precision = precision_score(true_labels[:N], predicted_labels)\n",
    "recall = recall_score(true_labels[:N], predicted_labels)\n",
    "accuracy = accuracy_score(true_labels[:N], predicted_labels)\n",
    "f1 = f1_score(true_labels[:N], predicted_labels)\n",
    "\n",
    "# Print the results\n",
    "print(f\"Precision: {precision}\")\n",
    "print(f\"Recall: {recall}\")\n",
    "print(f\"Accuracy: {accuracy}\")\n",
    "print(f\"F1 Score: {f1}\")"
   ]
  },
  {
   "cell_type": "code",
   "execution_count": 108,
   "id": "4084c337-7946-4c2f-ad3c-bb9fb37125fc",
   "metadata": {},
   "outputs": [
    {
     "data": {
      "text/plain": [
       "[True,\n",
       " True,\n",
       " False,\n",
       " False,\n",
       " True,\n",
       " True,\n",
       " True,\n",
       " True,\n",
       " True,\n",
       " True,\n",
       " True,\n",
       " False,\n",
       " True,\n",
       " True,\n",
       " True,\n",
       " True,\n",
       " True,\n",
       " True,\n",
       " False,\n",
       " True,\n",
       " False,\n",
       " False,\n",
       " False,\n",
       " True,\n",
       " False,\n",
       " True,\n",
       " False,\n",
       " True,\n",
       " True,\n",
       " False,\n",
       " True,\n",
       " True,\n",
       " False,\n",
       " True,\n",
       " False,\n",
       " True,\n",
       " True,\n",
       " True,\n",
       " True,\n",
       " False,\n",
       " False,\n",
       " True,\n",
       " True,\n",
       " False,\n",
       " True,\n",
       " True,\n",
       " True,\n",
       " False,\n",
       " True,\n",
       " True,\n",
       " True,\n",
       " True,\n",
       " True,\n",
       " True,\n",
       " True,\n",
       " True,\n",
       " False,\n",
       " True,\n",
       " True,\n",
       " False,\n",
       " False,\n",
       " False,\n",
       " False,\n",
       " True,\n",
       " False,\n",
       " True,\n",
       " False,\n",
       " True,\n",
       " True,\n",
       " True,\n",
       " False,\n",
       " True,\n",
       " True,\n",
       " True,\n",
       " False,\n",
       " False,\n",
       " False,\n",
       " True,\n",
       " False,\n",
       " True,\n",
       " True,\n",
       " True,\n",
       " False,\n",
       " False,\n",
       " True,\n",
       " False,\n",
       " False,\n",
       " True,\n",
       " True,\n",
       " True,\n",
       " True,\n",
       " True,\n",
       " True,\n",
       " False,\n",
       " True,\n",
       " False,\n",
       " False,\n",
       " True,\n",
       " False,\n",
       " True]"
      ]
     },
     "execution_count": 108,
     "metadata": {},
     "output_type": "execute_result"
    }
   ],
   "source": [
    "ethnic_sample_df[\"Is_ethnic\"].values.tolist()"
   ]
  },
  {
   "cell_type": "markdown",
   "id": "38140c7d-5caa-4aae-850b-d06211e86785",
   "metadata": {},
   "source": [
    "### MISC"
   ]
  },
  {
   "cell_type": "code",
   "execution_count": 11,
   "id": "52aff79a-ea89-423e-9bab-5eadd5de83a0",
   "metadata": {},
   "outputs": [],
   "source": [
    "abhi_labels = [1,1,0,0,1,1,1,0,1,1,0,0,1,1,1,1,1,1,0,\n",
    "               1,1,0,0,1,0,1,0,1,1,0,1,1,0,0,0,1,1,1,\n",
    "               1,0,1,1,1,1,1,0,1,0,1,1,1,0,1,1,0,1,1,\n",
    "               1,1,0,0,1,0,1,1,1,1,1,1,1,1,0,1,1,1,0,\n",
    "               0,0,1,0,1,\n",
    "               1,0,0,0,1,1,0,1,1,1,1,1,0,1,1,1,1,1,1,]\n",
    "sharif_labels = [ 1,1,0,0,1,1,1,1,1,1,0,1,0,1,1,1,1,1,0,1,1,0,0,0,0,1,0,1,0,0,1,0,0,1,0,1,0,1,1,0,1,1,1,0,1,1,1,0,\n",
    "                 1,1,1,0,1,0,0,0,0,0,1,1,0,0,0,1,0,1,0,1,0,1,1,0,0,1,0,0,0,0,0,0,1,1,0,0,0,0,1,0,0,1,1,1,1,0,1,1,1,1,0,1 ]"
   ]
  },
  {
   "cell_type": "code",
   "execution_count": 21,
   "id": "4850d8a3-451c-4819-9703-bff2ee6265ab",
   "metadata": {},
   "outputs": [
    {
     "ename": "NameError",
     "evalue": "name 'abhi_labels' is not defined",
     "output_type": "error",
     "traceback": [
      "\u001b[0;31m---------------------------------------------------------------------------\u001b[0m",
      "\u001b[0;31mNameError\u001b[0m                                 Traceback (most recent call last)",
      "Cell \u001b[0;32mIn[21], line 13\u001b[0m\n\u001b[1;32m     10\u001b[0m     conflicting_posts \u001b[38;5;241m=\u001b[39m [(i, labels1[i], labels2[i]) \u001b[38;5;28;01mfor\u001b[39;00m i \u001b[38;5;129;01min\u001b[39;00m conflict_indices]\n\u001b[1;32m     12\u001b[0m     \u001b[38;5;28;01mreturn\u001b[39;00m agreement_score, \u001b[38;5;28mlen\u001b[39m(conflicting_posts)\n\u001b[0;32m---> 13\u001b[0m annotator_agreement_score(\u001b[43mabhi_labels\u001b[49m, sharif_labels)\n",
      "\u001b[0;31mNameError\u001b[0m: name 'abhi_labels' is not defined"
     ]
    }
   ],
   "source": [
    "import numpy as np\n",
    "def annotator_agreement_score(labels1, labels2):\n",
    "    # Calculate agreement score\n",
    "    total_labels = len(labels1)\n",
    "    agreements = np.sum(np.array(labels1) == np.array(labels2))\n",
    "    agreement_score = agreements / total_labels\n",
    "\n",
    "    # Find conflicting posts\n",
    "    conflict_indices = [i for i in range(total_labels) if labels1[i] != labels2[i]]\n",
    "    conflicting_posts = [(i, labels1[i], labels2[i]) for i in conflict_indices]\n",
    "\n",
    "    return agreement_score, len(conflicting_posts)\n",
    "annotator_agreement_score(abhi_labels, sharif_labels)"
   ]
  },
  {
   "cell_type": "code",
   "execution_count": 80,
   "id": "210653ce-4af2-4635-8d54-afc1ef7f7048",
   "metadata": {},
   "outputs": [
    {
     "name": "stdout",
     "output_type": "stream",
     "text": [
      "Yes count: 63\n",
      "No count: 37\n"
     ]
    }
   ],
   "source": [
    "from collections import Counter\n",
    "\n",
    "counts = Counter(true_labels)\n",
    "print(\"Yes count:\", counts[1])\n",
    "print(\"No count:\", counts[0])"
   ]
  },
  {
   "cell_type": "code",
   "execution_count": 45,
   "id": "57496762-496b-4f93-96fd-3157c7da19ac",
   "metadata": {},
   "outputs": [
    {
     "data": {
      "text/plain": [
       "[np.int64(2),\n",
       " 'গাইবান্ধার গোবিন্দগঞ্জের রংপুর চিনিকলের সাহেবগঞ্জ ইক্ষু খামারে দেয়া কাঁটাতারের বেড়ার পিলার ভাংচুর করেছে দুর্বৃত্তরা।সোমবার রাতে খামার সংলগ্ন জয়পুর পাড়ার দক্ষিণ অংশে দেয়া ২৬টি পিলার ভাংচুর করা হয়।খামারের জমি সাঁওতালদের কাছ থেকে দখলমুক্ত করার পর মিল কর্তৃপক্ষ এই কাঁটাতারের বেড়া দেয়। এরপর সোমবার রাতে সাঁওতাল পল্লী সংলগ্ন খামারের বেড়ার পিলার ভাংচুর করে দুর্বৃত্তরা।রংপুর সুগার মিলের ব্যবস্থাপনা পরিচালক আব্দুল আউয়াল জানান, দুস্কৃতকারীরা রাতের আধারে খামারের পশ্চিম অংশে সাঁওতাল পল্লী জয়পুর পাড়া সংলগ্ন ২৬টি পিলার ভাংচুর করে। এ ঘটনায় ১৩ জনের নাম উল্লেখ করে খামারের উপ-ব্যবস্থাপক মো. হুমায়ন কবির মঙ্গলবার রাতে গোবিন্দগঞ্জ থানায় একটি জিডি করেন।গোবিন্দগঞ্জ থানার ওসি সুব্রত কুমার সরকার বিষয়টি নিশ্চিত করে বলেন, ঘটনার বিষয়টি খতিয়ে দেখা হচ্ছে।গত ৬ নভেম্বর আদিবাসী সাঁওতালদের সঙ্গে আইনশৃংখলা বাহিনী চিনিকলের শ্রমিক-কর্মচারীদের সংঘর্ষের পর ইক্ষু খামার থেকে সাঁওতাল বসতি উচ্ছেদ, লুটপাট, গুলিতে ৩ সাঁওতাল নিহত হওয়ার ঘটনায় সেখানে এখনও অস্থিরতা রয়েছে।',\n",
       " 'Crime',\n",
       " 'Investigative',\n",
       " 'Victim',\n",
       " np.True_,\n",
       " 'Negative',\n",
       " 'Revealing',\n",
       " 'Conflict',\n",
       " 'Violence',\n",
       " 'Awareness']"
      ]
     },
     "execution_count": 45,
     "metadata": {},
     "output_type": "execute_result"
    }
   ],
   "source": [
    "ethnic_sample_df.iloc[2].values.tolist()"
   ]
  },
  {
   "cell_type": "code",
   "execution_count": 78,
   "id": "f83b724d-cf14-4533-be11-eafe032f86b8",
   "metadata": {},
   "outputs": [],
   "source": [
    "ethnic_sample_df = ethnic_df.sample(n=100, random_state=3)"
   ]
  },
  {
   "cell_type": "code",
   "execution_count": 79,
   "id": "e338b168-edf1-4adb-8fd6-469a8b705cd2",
   "metadata": {},
   "outputs": [],
   "source": [
    "ethnic_sample_df.to_csv(\"../data/annotated_100_ethnic_article_against_5_metrics.csv\")"
   ]
  },
  {
   "cell_type": "markdown",
   "id": "d36d4a0c-71c5-482b-9dab-4d49bf671ec5",
   "metadata": {},
   "source": [
    "### Temp"
   ]
  },
  {
   "cell_type": "code",
   "execution_count": 46,
   "id": "319dc672-c973-4013-9f6a-5c87fe917f3a",
   "metadata": {},
   "outputs": [],
   "source": [
    "predicted_sentiment_labels = [1,0,1,1,0,1,0,2,2,0,1,0,2,2,0,1,2,2,0,2,0,2,0,1,0,0,0,0,0,0,0,0,1,2,0,2,0,0,2,1,2,2,2,1,0,1,\n",
    "                              0,1,0,2,0,1,2,0,0,0,2,1,0,2,1,2,1,1,0,0,2,0,0,1,1,2,1,0,0,2,0,2,1,0,1,2,2,0,0,1,1,0,1,0,0,0,0,\n",
    "                              2,0,1,1,2,1,1,0,2,2,0,0,0,0,0,2]\n",
    "sharif_sentiment_labels = [1,0,1,1,1,0,0,0,1,0,0,0,1,2,0,0,0,0,0,2,0,0,0,0,0,0,0,0,0,0,0,0,1,2,0,0,0,0,0,1,0,0,2,1,0,0,0,1,0,\n",
    "                           0,0,1,0,0,0,0,0,0,0,0,1,0,0,1,0,0,2,0,0,1,1,1,1,0,0,0,0,0,1,0,1,2,0,0,0,0,1,0,1,0,0,0,0,0,0,1,1,2,\n",
    "                           1,1,0,2,1,0,0,0,0,0,0,]\n",
    "abhijit_sentiment_labels = [1,0,1,1,0,0,0,0,2,0,2,0,2,2,0,0,0,0,0,2,0,0,0,2,0,0,0,0,0,0,0,0,1,2,0,0,0,0,0,1,0,0,1,1,0,0,0,1,0,\n",
    "                            0,0,1,0,0,0,0,0,0,0,0,1,0,2,1,0,0,2,0,0,2,1,1,1,0,0,0,0,0,1,0,1,2,2,0,0,0,1,0,1,0,0,0,2,2,0,1,1,0,\n",
    "                            2,2,0,2,1,1,0,0,0,0,0,]\n",
    "true_sentiment_labels = [1,0,1,1,0,0,0,0,1,0,0,0,2,2,0,0,0,0,0,2,0,0,0,2,0,0,0,0,0,0,0,0,1,2,0,0,0,0,0,1,0,0,2,1,0,0,0,1,0,0,\n",
    "                             0,1,0,0,0,0,0,0,0,0,1,0,2,1,0,0,2,0,0,1,1,1,1,0,0,0,0,0,1,0,1,2,2,0,0,0,1,0,1,0,0,0,0,2,0,1,1,2,1,1,0,\n",
    "                             2,1,1,0,0,0,0,0,]"
   ]
  },
  {
   "cell_type": "code",
   "execution_count": 48,
   "id": "f30bea66-1f84-4c1a-9f82-577ca7f5703c",
   "metadata": {},
   "outputs": [
    {
     "data": {
      "text/plain": [
       "(np.float64(0.8623853211009175), 15)"
      ]
     },
     "execution_count": 48,
     "metadata": {},
     "output_type": "execute_result"
    }
   ],
   "source": [
    "annotator_agreement_score(abhijit_sentiment_labels, sharif_sentiment_labels)"
   ]
  },
  {
   "cell_type": "code",
   "execution_count": 53,
   "id": "0c589292-9bbb-4511-a1d8-3e71d08010f0",
   "metadata": {},
   "outputs": [
    {
     "ename": "NameError",
     "evalue": "name 'true_sentiment_labels' is not defined",
     "output_type": "error",
     "traceback": [
      "\u001b[0;31m---------------------------------------------------------------------------\u001b[0m",
      "\u001b[0;31mNameError\u001b[0m                                 Traceback (most recent call last)",
      "Cell \u001b[0;32mIn[53], line 3\u001b[0m\n\u001b[1;32m      1\u001b[0m \u001b[38;5;28;01mfrom\u001b[39;00m \u001b[38;5;21;01mcollections\u001b[39;00m \u001b[38;5;28;01mimport\u001b[39;00m Counter\n\u001b[0;32m----> 3\u001b[0m counts \u001b[38;5;241m=\u001b[39m Counter(\u001b[43mtrue_sentiment_labels\u001b[49m)\n\u001b[1;32m      4\u001b[0m \u001b[38;5;28mprint\u001b[39m(\u001b[38;5;124m\"\u001b[39m\u001b[38;5;124mPos count:\u001b[39m\u001b[38;5;124m\"\u001b[39m, counts[\u001b[38;5;241m1\u001b[39m])\n\u001b[1;32m      5\u001b[0m \u001b[38;5;28mprint\u001b[39m(\u001b[38;5;124m\"\u001b[39m\u001b[38;5;124mNeg count:\u001b[39m\u001b[38;5;124m\"\u001b[39m, counts[\u001b[38;5;241m0\u001b[39m])\n",
      "\u001b[0;31mNameError\u001b[0m: name 'true_sentiment_labels' is not defined"
     ]
    }
   ],
   "source": [
    "from collections import Counter\n",
    "\n",
    "counts = Counter(true_sentiment_labels)\n",
    "print(\"Pos count:\", counts[1])\n",
    "print(\"Neg count:\", counts[0])\n",
    "print(\"Neu count:\", counts[2])"
   ]
  },
  {
   "cell_type": "code",
   "execution_count": 52,
   "id": "f1128df2-4ee0-4ddd-bfea-18de611c6e73",
   "metadata": {},
   "outputs": [
    {
     "ename": "NameError",
     "evalue": "name 'counts' is not defined",
     "output_type": "error",
     "traceback": [
      "\u001b[0;31m---------------------------------------------------------------------------\u001b[0m",
      "\u001b[0;31mNameError\u001b[0m                                 Traceback (most recent call last)",
      "Cell \u001b[0;32mIn[52], line 1\u001b[0m\n\u001b[0;32m----> 1\u001b[0m \u001b[43mcounts\u001b[49m\n",
      "\u001b[0;31mNameError\u001b[0m: name 'counts' is not defined"
     ]
    }
   ],
   "source": [
    "counts"
   ]
  },
  {
   "cell_type": "code",
   "execution_count": 50,
   "id": "0cbeecfc-f292-42a8-a05e-681d93fb64a7",
   "metadata": {},
   "outputs": [],
   "source": [
    "N = 109"
   ]
  },
  {
   "cell_type": "code",
   "execution_count": 52,
   "id": "fd6cc444-ee98-4525-9825-b2f647b175c6",
   "metadata": {},
   "outputs": [
    {
     "name": "stdout",
     "output_type": "stream",
     "text": [
      "Accuracy: 0.74\n",
      "Precision: 0.85\n",
      "Recall: 0.74\n",
      "F1 Score: 0.77\n",
      "\n",
      "Classification Report:\n",
      "              precision    recall  f1-score   support\n",
      "\n",
      "           0       0.98      0.69      0.81        71\n",
      "           1       0.72      0.84      0.78        25\n",
      "           2       0.37      0.85      0.51        13\n",
      "\n",
      "    accuracy                           0.74       109\n",
      "   macro avg       0.69      0.79      0.70       109\n",
      "weighted avg       0.85      0.74      0.77       109\n",
      "\n"
     ]
    }
   ],
   "source": [
    "from sklearn.metrics import precision_score, recall_score, f1_score, accuracy_score, classification_report\n",
    "\n",
    "accuracy = accuracy_score(true_sentiment_labels, predicted_sentiment_labels)\n",
    "print(f'Accuracy: {accuracy:.2f}')\n",
    "\n",
    "# Calculate precision, recall, and F1 score (average='weighted' considers the imbalance in classes)\n",
    "precision = precision_score(true_sentiment_labels, predicted_sentiment_labels, average='weighted')\n",
    "recall = recall_score(true_sentiment_labels, predicted_sentiment_labels, average='weighted')\n",
    "f1 = f1_score(true_sentiment_labels, predicted_sentiment_labels, average='weighted')\n",
    "\n",
    "print(f'Precision: {precision:.2f}')\n",
    "print(f'Recall: {recall:.2f}')\n",
    "print(f'F1 Score: {f1:.2f}')\n",
    "\n",
    "# Print a detailed classification report\n",
    "print(\"\\nClassification Report:\")\n",
    "print(classification_report(true_sentiment_labels, predicted_sentiment_labels))"
   ]
  }
 ],
 "metadata": {
  "kernelspec": {
   "display_name": "Python 3 (ipykernel)",
   "language": "python",
   "name": "python3"
  },
  "language_info": {
   "codemirror_mode": {
    "name": "ipython",
    "version": 3
   },
   "file_extension": ".py",
   "mimetype": "text/x-python",
   "name": "python",
   "nbconvert_exporter": "python",
   "pygments_lexer": "ipython3",
   "version": "3.10.12"
  }
 },
 "nbformat": 4,
 "nbformat_minor": 5
}
