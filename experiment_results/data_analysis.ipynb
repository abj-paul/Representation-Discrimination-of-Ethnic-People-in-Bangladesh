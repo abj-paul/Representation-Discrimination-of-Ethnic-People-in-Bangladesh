{
  "cells": [
    {
      "cell_type": "code",
      "execution_count": null,
      "metadata": {
        "colab": {
          "base_uri": "https://localhost:8080/"
        },
        "id": "aQ2qWlPUU8f7",
        "outputId": "612ee5d3-6bf4-41d0-c2b8-498c2ce082b2"
      },
      "outputs": [
        {
          "output_type": "stream",
          "name": "stdout",
          "text": [
            "Mounted at /content/drive\n"
          ]
        }
      ],
      "source": [
        "from google.colab import drive\n",
        "drive.mount(\"/content/drive\")"
      ]
    },
    {
      "cell_type": "code",
      "execution_count": null,
      "metadata": {
        "colab": {
          "base_uri": "https://localhost:8080/"
        },
        "id": "rSxt9AhiVpPC",
        "outputId": "a9c3ef6f-1c37-4eed-e7c7-3d29bd6c968f"
      },
      "outputs": [
        {
          "output_type": "stream",
          "name": "stdout",
          "text": [
            " annotate_10k_articles.csv\n",
            " ethnic_dataset_cleaned.joblib\n",
            "'Experimentation Results.gsheet'\n",
            " first_100_annotation.zip\n",
            " Representation_Discrimination_10187.ipynb\n",
            "'Representation_Discrimination - Word Embedding Based Approach.ipynb'\n",
            " shuffled_50_annotation.zip\n"
          ]
        }
      ],
      "source": [
        "!ls /content/drive/MyDrive/Representation\\ Discrimination"
      ]
    },
    {
      "cell_type": "markdown",
      "source": [
        "### Annotated 100 Articles"
      ],
      "metadata": {
        "id": "PRrDWys0e2aH"
      }
    },
    {
      "cell_type": "code",
      "source": [
        "!unzip /content/drive/MyDrive/Representation\\ Discrimination/first_100_annotation.zip\n",
        "!ls"
      ],
      "metadata": {
        "colab": {
          "base_uri": "https://localhost:8080/"
        },
        "id": "vmjnIkL9T85m",
        "outputId": "63e9c14b-406a-4bd7-e8f4-f9b02879c86c"
      },
      "execution_count": null,
      "outputs": [
        {
          "output_type": "stream",
          "name": "stdout",
          "text": [
            "Archive:  /content/drive/MyDrive/Representation Discrimination/first_100_annotation.zip\n",
            "   creating: first_100_annotation/\n",
            "  inflating: first_100_annotation/cleaned_10k_articles.csv  \n",
            "  inflating: first_100_annotation/annotation.csv  \n",
            "drive  first_100_annotation  sample_data\n"
          ]
        }
      ]
    },
    {
      "cell_type": "code",
      "source": [
        "import pandas as pd\n",
        "first_100_articles = pd.read_csv(\"first_100_annotation/cleaned_10k_articles.csv\")\n",
        "first_100_articles_annotations = pd.read_csv(\"first_100_annotation/annotation.csv\")\n",
        "first_100_articles_annotations.head()"
      ],
      "metadata": {
        "id": "a87MoyXjesjK",
        "colab": {
          "base_uri": "https://localhost:8080/",
          "height": 206
        },
        "outputId": "f3e1663b-937f-4066-ff86-44d9c48eca64"
      },
      "execution_count": null,
      "outputs": [
        {
          "output_type": "execute_result",
          "data": {
            "text/plain": [
              "   Unnamed: 0  id  isEthnic          reason\n",
              "0           0   0      True        Cultural\n",
              "1           1   1     False  Rohingya issue\n",
              "2           2   2     False      Individual\n",
              "3           3   3     False      Individual\n",
              "4           4   4      True           Crime"
            ],
            "text/html": [
              "\n",
              "  <div id=\"df-7edd3570-6026-471b-9d2e-311277938784\" class=\"colab-df-container\">\n",
              "    <div>\n",
              "<style scoped>\n",
              "    .dataframe tbody tr th:only-of-type {\n",
              "        vertical-align: middle;\n",
              "    }\n",
              "\n",
              "    .dataframe tbody tr th {\n",
              "        vertical-align: top;\n",
              "    }\n",
              "\n",
              "    .dataframe thead th {\n",
              "        text-align: right;\n",
              "    }\n",
              "</style>\n",
              "<table border=\"1\" class=\"dataframe\">\n",
              "  <thead>\n",
              "    <tr style=\"text-align: right;\">\n",
              "      <th></th>\n",
              "      <th>Unnamed: 0</th>\n",
              "      <th>id</th>\n",
              "      <th>isEthnic</th>\n",
              "      <th>reason</th>\n",
              "    </tr>\n",
              "  </thead>\n",
              "  <tbody>\n",
              "    <tr>\n",
              "      <th>0</th>\n",
              "      <td>0</td>\n",
              "      <td>0</td>\n",
              "      <td>True</td>\n",
              "      <td>Cultural</td>\n",
              "    </tr>\n",
              "    <tr>\n",
              "      <th>1</th>\n",
              "      <td>1</td>\n",
              "      <td>1</td>\n",
              "      <td>False</td>\n",
              "      <td>Rohingya issue</td>\n",
              "    </tr>\n",
              "    <tr>\n",
              "      <th>2</th>\n",
              "      <td>2</td>\n",
              "      <td>2</td>\n",
              "      <td>False</td>\n",
              "      <td>Individual</td>\n",
              "    </tr>\n",
              "    <tr>\n",
              "      <th>3</th>\n",
              "      <td>3</td>\n",
              "      <td>3</td>\n",
              "      <td>False</td>\n",
              "      <td>Individual</td>\n",
              "    </tr>\n",
              "    <tr>\n",
              "      <th>4</th>\n",
              "      <td>4</td>\n",
              "      <td>4</td>\n",
              "      <td>True</td>\n",
              "      <td>Crime</td>\n",
              "    </tr>\n",
              "  </tbody>\n",
              "</table>\n",
              "</div>\n",
              "    <div class=\"colab-df-buttons\">\n",
              "\n",
              "  <div class=\"colab-df-container\">\n",
              "    <button class=\"colab-df-convert\" onclick=\"convertToInteractive('df-7edd3570-6026-471b-9d2e-311277938784')\"\n",
              "            title=\"Convert this dataframe to an interactive table.\"\n",
              "            style=\"display:none;\">\n",
              "\n",
              "  <svg xmlns=\"http://www.w3.org/2000/svg\" height=\"24px\" viewBox=\"0 -960 960 960\">\n",
              "    <path d=\"M120-120v-720h720v720H120Zm60-500h600v-160H180v160Zm220 220h160v-160H400v160Zm0 220h160v-160H400v160ZM180-400h160v-160H180v160Zm440 0h160v-160H620v160ZM180-180h160v-160H180v160Zm440 0h160v-160H620v160Z\"/>\n",
              "  </svg>\n",
              "    </button>\n",
              "\n",
              "  <style>\n",
              "    .colab-df-container {\n",
              "      display:flex;\n",
              "      gap: 12px;\n",
              "    }\n",
              "\n",
              "    .colab-df-convert {\n",
              "      background-color: #E8F0FE;\n",
              "      border: none;\n",
              "      border-radius: 50%;\n",
              "      cursor: pointer;\n",
              "      display: none;\n",
              "      fill: #1967D2;\n",
              "      height: 32px;\n",
              "      padding: 0 0 0 0;\n",
              "      width: 32px;\n",
              "    }\n",
              "\n",
              "    .colab-df-convert:hover {\n",
              "      background-color: #E2EBFA;\n",
              "      box-shadow: 0px 1px 2px rgba(60, 64, 67, 0.3), 0px 1px 3px 1px rgba(60, 64, 67, 0.15);\n",
              "      fill: #174EA6;\n",
              "    }\n",
              "\n",
              "    .colab-df-buttons div {\n",
              "      margin-bottom: 4px;\n",
              "    }\n",
              "\n",
              "    [theme=dark] .colab-df-convert {\n",
              "      background-color: #3B4455;\n",
              "      fill: #D2E3FC;\n",
              "    }\n",
              "\n",
              "    [theme=dark] .colab-df-convert:hover {\n",
              "      background-color: #434B5C;\n",
              "      box-shadow: 0px 1px 3px 1px rgba(0, 0, 0, 0.15);\n",
              "      filter: drop-shadow(0px 1px 2px rgba(0, 0, 0, 0.3));\n",
              "      fill: #FFFFFF;\n",
              "    }\n",
              "  </style>\n",
              "\n",
              "    <script>\n",
              "      const buttonEl =\n",
              "        document.querySelector('#df-7edd3570-6026-471b-9d2e-311277938784 button.colab-df-convert');\n",
              "      buttonEl.style.display =\n",
              "        google.colab.kernel.accessAllowed ? 'block' : 'none';\n",
              "\n",
              "      async function convertToInteractive(key) {\n",
              "        const element = document.querySelector('#df-7edd3570-6026-471b-9d2e-311277938784');\n",
              "        const dataTable =\n",
              "          await google.colab.kernel.invokeFunction('convertToInteractive',\n",
              "                                                    [key], {});\n",
              "        if (!dataTable) return;\n",
              "\n",
              "        const docLinkHtml = 'Like what you see? Visit the ' +\n",
              "          '<a target=\"_blank\" href=https://colab.research.google.com/notebooks/data_table.ipynb>data table notebook</a>'\n",
              "          + ' to learn more about interactive tables.';\n",
              "        element.innerHTML = '';\n",
              "        dataTable['output_type'] = 'display_data';\n",
              "        await google.colab.output.renderOutput(dataTable, element);\n",
              "        const docLink = document.createElement('div');\n",
              "        docLink.innerHTML = docLinkHtml;\n",
              "        element.appendChild(docLink);\n",
              "      }\n",
              "    </script>\n",
              "  </div>\n",
              "\n",
              "\n",
              "<div id=\"df-63b42c99-3702-4166-a389-a7c96693197a\">\n",
              "  <button class=\"colab-df-quickchart\" onclick=\"quickchart('df-63b42c99-3702-4166-a389-a7c96693197a')\"\n",
              "            title=\"Suggest charts\"\n",
              "            style=\"display:none;\">\n",
              "\n",
              "<svg xmlns=\"http://www.w3.org/2000/svg\" height=\"24px\"viewBox=\"0 0 24 24\"\n",
              "     width=\"24px\">\n",
              "    <g>\n",
              "        <path d=\"M19 3H5c-1.1 0-2 .9-2 2v14c0 1.1.9 2 2 2h14c1.1 0 2-.9 2-2V5c0-1.1-.9-2-2-2zM9 17H7v-7h2v7zm4 0h-2V7h2v10zm4 0h-2v-4h2v4z\"/>\n",
              "    </g>\n",
              "</svg>\n",
              "  </button>\n",
              "\n",
              "<style>\n",
              "  .colab-df-quickchart {\n",
              "      --bg-color: #E8F0FE;\n",
              "      --fill-color: #1967D2;\n",
              "      --hover-bg-color: #E2EBFA;\n",
              "      --hover-fill-color: #174EA6;\n",
              "      --disabled-fill-color: #AAA;\n",
              "      --disabled-bg-color: #DDD;\n",
              "  }\n",
              "\n",
              "  [theme=dark] .colab-df-quickchart {\n",
              "      --bg-color: #3B4455;\n",
              "      --fill-color: #D2E3FC;\n",
              "      --hover-bg-color: #434B5C;\n",
              "      --hover-fill-color: #FFFFFF;\n",
              "      --disabled-bg-color: #3B4455;\n",
              "      --disabled-fill-color: #666;\n",
              "  }\n",
              "\n",
              "  .colab-df-quickchart {\n",
              "    background-color: var(--bg-color);\n",
              "    border: none;\n",
              "    border-radius: 50%;\n",
              "    cursor: pointer;\n",
              "    display: none;\n",
              "    fill: var(--fill-color);\n",
              "    height: 32px;\n",
              "    padding: 0;\n",
              "    width: 32px;\n",
              "  }\n",
              "\n",
              "  .colab-df-quickchart:hover {\n",
              "    background-color: var(--hover-bg-color);\n",
              "    box-shadow: 0 1px 2px rgba(60, 64, 67, 0.3), 0 1px 3px 1px rgba(60, 64, 67, 0.15);\n",
              "    fill: var(--button-hover-fill-color);\n",
              "  }\n",
              "\n",
              "  .colab-df-quickchart-complete:disabled,\n",
              "  .colab-df-quickchart-complete:disabled:hover {\n",
              "    background-color: var(--disabled-bg-color);\n",
              "    fill: var(--disabled-fill-color);\n",
              "    box-shadow: none;\n",
              "  }\n",
              "\n",
              "  .colab-df-spinner {\n",
              "    border: 2px solid var(--fill-color);\n",
              "    border-color: transparent;\n",
              "    border-bottom-color: var(--fill-color);\n",
              "    animation:\n",
              "      spin 1s steps(1) infinite;\n",
              "  }\n",
              "\n",
              "  @keyframes spin {\n",
              "    0% {\n",
              "      border-color: transparent;\n",
              "      border-bottom-color: var(--fill-color);\n",
              "      border-left-color: var(--fill-color);\n",
              "    }\n",
              "    20% {\n",
              "      border-color: transparent;\n",
              "      border-left-color: var(--fill-color);\n",
              "      border-top-color: var(--fill-color);\n",
              "    }\n",
              "    30% {\n",
              "      border-color: transparent;\n",
              "      border-left-color: var(--fill-color);\n",
              "      border-top-color: var(--fill-color);\n",
              "      border-right-color: var(--fill-color);\n",
              "    }\n",
              "    40% {\n",
              "      border-color: transparent;\n",
              "      border-right-color: var(--fill-color);\n",
              "      border-top-color: var(--fill-color);\n",
              "    }\n",
              "    60% {\n",
              "      border-color: transparent;\n",
              "      border-right-color: var(--fill-color);\n",
              "    }\n",
              "    80% {\n",
              "      border-color: transparent;\n",
              "      border-right-color: var(--fill-color);\n",
              "      border-bottom-color: var(--fill-color);\n",
              "    }\n",
              "    90% {\n",
              "      border-color: transparent;\n",
              "      border-bottom-color: var(--fill-color);\n",
              "    }\n",
              "  }\n",
              "</style>\n",
              "\n",
              "  <script>\n",
              "    async function quickchart(key) {\n",
              "      const quickchartButtonEl =\n",
              "        document.querySelector('#' + key + ' button');\n",
              "      quickchartButtonEl.disabled = true;  // To prevent multiple clicks.\n",
              "      quickchartButtonEl.classList.add('colab-df-spinner');\n",
              "      try {\n",
              "        const charts = await google.colab.kernel.invokeFunction(\n",
              "            'suggestCharts', [key], {});\n",
              "      } catch (error) {\n",
              "        console.error('Error during call to suggestCharts:', error);\n",
              "      }\n",
              "      quickchartButtonEl.classList.remove('colab-df-spinner');\n",
              "      quickchartButtonEl.classList.add('colab-df-quickchart-complete');\n",
              "    }\n",
              "    (() => {\n",
              "      let quickchartButtonEl =\n",
              "        document.querySelector('#df-63b42c99-3702-4166-a389-a7c96693197a button');\n",
              "      quickchartButtonEl.style.display =\n",
              "        google.colab.kernel.accessAllowed ? 'block' : 'none';\n",
              "    })();\n",
              "  </script>\n",
              "</div>\n",
              "\n",
              "    </div>\n",
              "  </div>\n"
            ],
            "application/vnd.google.colaboratory.intrinsic+json": {
              "type": "dataframe",
              "variable_name": "first_100_articles_annotations",
              "summary": "{\n  \"name\": \"first_100_articles_annotations\",\n  \"rows\": 104,\n  \"fields\": [\n    {\n      \"column\": \"Unnamed: 0\",\n      \"properties\": {\n        \"dtype\": \"number\",\n        \"std\": 30,\n        \"min\": 0,\n        \"max\": 103,\n        \"num_unique_values\": 104,\n        \"samples\": [\n          30,\n          65,\n          64\n        ],\n        \"semantic_type\": \"\",\n        \"description\": \"\"\n      }\n    },\n    {\n      \"column\": \"id\",\n      \"properties\": {\n        \"dtype\": \"number\",\n        \"std\": 30,\n        \"min\": 0,\n        \"max\": 103,\n        \"num_unique_values\": 104,\n        \"samples\": [\n          30,\n          65,\n          64\n        ],\n        \"semantic_type\": \"\",\n        \"description\": \"\"\n      }\n    },\n    {\n      \"column\": \"isEthnic\",\n      \"properties\": {\n        \"dtype\": \"boolean\",\n        \"num_unique_values\": 2,\n        \"samples\": [\n          false,\n          true\n        ],\n        \"semantic_type\": \"\",\n        \"description\": \"\"\n      }\n    },\n    {\n      \"column\": \"reason\",\n      \"properties\": {\n        \"dtype\": \"category\",\n        \"num_unique_values\": 43,\n        \"samples\": [\n          \"Region: \\u09b0\\u09be\\u0999\\u09cd\\u0997\\u09c1\\u09a8\\u09bf\\u09df\\u09be\\u09df\",\n          \"Politics: \\u09aa\\u09be\\u09b0\\u09cd\\u09ac\\u09a4\\u09cd\\u09af \\u099a\\u09c1\\u0995\\u09cd\\u09a4\\u09bf\"\n        ],\n        \"semantic_type\": \"\",\n        \"description\": \"\"\n      }\n    }\n  ]\n}"
            }
          },
          "metadata": {},
          "execution_count": 5
        }
      ]
    },
    {
      "source": [
        "from matplotlib import pyplot as plt\n",
        "import seaborn as sns\n",
        "first_100_articles_annotations.groupby('isEthnic').size().plot(kind='barh', color=sns.palettes.mpl_palette('Dark2'))\n",
        "plt.gca().spines[['top', 'right',]].set_visible(False)"
      ],
      "cell_type": "code",
      "execution_count": null,
      "outputs": [
        {
          "output_type": "display_data",
          "data": {
            "text/plain": [
              "<Figure size 640x480 with 1 Axes>"
            ],
            "image/png": "[encoded data removed]"
          },
          "metadata": {}
        }
      ],
      "metadata": {
        "colab": {
          "base_uri": "https://localhost:8080/",
          "height": 430
        },
        "id": "PpyF96PuUWga",
        "outputId": "d8066b34-71e2-4a57-dde2-89d8b641a6b1"
      }
    },
    {
      "cell_type": "code",
      "source": [
        "first_100_articles_annotations[\"reason\"].value_counts()"
      ],
      "metadata": {
        "colab": {
          "base_uri": "https://localhost:8080/"
        },
        "id": "c6L6O1KJUNJ9",
        "outputId": "c3c077e5-fd5f-45e9-8507-503ffdca7795"
      },
      "execution_count": null,
      "outputs": [
        {
          "output_type": "execute_result",
          "data": {
            "text/plain": [
              "reason\n",
              "Individual                                                26\n",
              "Rohingya issue                                            16\n",
              "Sports                                                     6\n",
              "Discourse                                                  5\n",
              "News                                                       4\n",
              "Random                                                     3\n",
              "Conflict                                                   3\n",
              "Crime                                                      2\n",
              "Lesson                                                     2\n",
              "Conflict: কল্পনা চাকমা                                     2\n",
              "Our mistake: চাকরি                                         2\n",
              "Culture                                                    2\n",
              "Region: খাগড়াছড়ি                                           1\n",
              "Cultural                                                   1\n",
              "Conflict: ইউপিডিএফ                                         1\n",
              "পার্বত্য শান্তিচুক্তি                                      1\n",
              "Protest:  চট্টগ্রাম পাহাড়ি ছাত্র পরিষদ (পিসিপি)।           1\n",
              "Region: রাঙ্গুনিয়ায়                                        1\n",
              "Individual:  মাদকদ্রব্য নিয়ন্ত্রণ অধিদফতরের কর্মকর্তা      1\n",
              "Region: চট্টগ্রামের                                        1\n",
              "Region: CUET                                               1\n",
              "পর্যটনের                                                   1\n",
              "ভারতের ত্রিপুরা                                            1\n",
              "আদিবাসী কোটা                                               1\n",
              "সহিংস হামলায়                                               1\n",
              "Region                                                     1\n",
              "Our mistake: চাকা                                          1\n",
              "Mention                                                    1\n",
              "Region: রাঙ্গামাটি                                         1\n",
              "Politics: পার্বত্য চুক্তি                                  1\n",
              "Region: বান্দরবানে                                         1\n",
              "Conflict: হামলায় ক্ষতিগ্রস্ত                               1\n",
              "Study                                                      1\n",
              "Region and About Them                                      1\n",
              "Our mistake: চাকরিটা, এগারোর                               1\n",
              "Our mistake: এগারোখ্যাত                                    1\n",
              "Politics: Election                                         1\n",
              "দশ ট্রাক অস্ত্র মামলা                                      1\n",
              "Conflict: ভূমিবিরোধ                                        1\n",
              "Language                                                   1\n",
              "Conflict: সেখানকার আদিবাসীদের বসতি গারো পাহাড়েও।           1\n",
              "Pahari Elaka                                               1\n",
              "রোহিঙ্গাদের                                                1\n",
              "Name: count, dtype: int64"
            ]
          },
          "metadata": {},
          "execution_count": 12
        }
      ]
    },
    {
      "cell_type": "code",
      "source": [],
      "metadata": {
        "id": "d0SpisZsUvqu"
      },
      "execution_count": null,
      "outputs": []
    },
    {
      "cell_type": "markdown",
      "source": [
        "### Annotated Random Shuffle"
      ],
      "metadata": {
        "id": "mhweCooYVY4a"
      }
    },
    {
      "cell_type": "code",
      "source": [
        "!unzip /content/drive/MyDrive/Representation\\ Discrimination/shuffled_50_annotation.zip\n",
        "!ls"
      ],
      "metadata": {
        "colab": {
          "base_uri": "https://localhost:8080/"
        },
        "id": "ut-ytObXVaoo",
        "outputId": "8c94c4ae-acb6-4e85-89db-0367c4dd0e5a"
      },
      "execution_count": null,
      "outputs": [
        {
          "output_type": "stream",
          "name": "stdout",
          "text": [
            "Archive:  /content/drive/MyDrive/Representation Discrimination/shuffled_50_annotation.zip\n",
            "   creating: shuffled_50_annotation/\n",
            "  inflating: shuffled_50_annotation/cleaned_10k_articles.csv  \n",
            "  inflating: shuffled_50_annotation/annotation.csv  \n",
            "drive  first_100_annotation  sample_data  shuffled_50_annotation\n"
          ]
        }
      ]
    },
    {
      "cell_type": "code",
      "source": [
        "import pandas as pd\n",
        "shuffled_50_articles = pd.read_csv(\"shuffled_50_annotation/cleaned_10k_articles.csv\")\n",
        "shuffled_50_annotations = pd.read_csv(\"shuffled_50_annotation/annotation.csv\")\n",
        "shuffled_50_annotations.head()"
      ],
      "metadata": {
        "colab": {
          "base_uri": "https://localhost:8080/",
          "height": 206
        },
        "id": "GlmY9GKRVfLC",
        "outputId": "9112178f-61ea-465d-8b26-932a8f12ee39"
      },
      "execution_count": null,
      "outputs": [
        {
          "output_type": "execute_result",
          "data": {
            "text/plain": [
              "   Unnamed: 0  id  isEthnic                reason\n",
              "0           0   0     False  Our mistake: চাকরিতে\n",
              "1           1   1     False  Our mistake: চাকরিতে\n",
              "2           2   2     False  Our mistake: চাকরিতে\n",
              "3           3   3      True              Election\n",
              "4           4   4     False        Rohingya issue"
            ],
            "text/html": [
              "\n",
              "  <div id=\"df-12bd5caa-90ec-4e24-a0bb-b9e8e21c909b\" class=\"colab-df-container\">\n",
              "    <div>\n",
              "<style scoped>\n",
              "    .dataframe tbody tr th:only-of-type {\n",
              "        vertical-align: middle;\n",
              "    }\n",
              "\n",
              "    .dataframe tbody tr th {\n",
              "        vertical-align: top;\n",
              "    }\n",
              "\n",
              "    .dataframe thead th {\n",
              "        text-align: right;\n",
              "    }\n",
              "</style>\n",
              "<table border=\"1\" class=\"dataframe\">\n",
              "  <thead>\n",
              "    <tr style=\"text-align: right;\">\n",
              "      <th></th>\n",
              "      <th>Unnamed: 0</th>\n",
              "      <th>id</th>\n",
              "      <th>isEthnic</th>\n",
              "      <th>reason</th>\n",
              "    </tr>\n",
              "  </thead>\n",
              "  <tbody>\n",
              "    <tr>\n",
              "      <th>0</th>\n",
              "      <td>0</td>\n",
              "      <td>0</td>\n",
              "      <td>False</td>\n",
              "      <td>Our mistake: চাকরিতে</td>\n",
              "    </tr>\n",
              "    <tr>\n",
              "      <th>1</th>\n",
              "      <td>1</td>\n",
              "      <td>1</td>\n",
              "      <td>False</td>\n",
              "      <td>Our mistake: চাকরিতে</td>\n",
              "    </tr>\n",
              "    <tr>\n",
              "      <th>2</th>\n",
              "      <td>2</td>\n",
              "      <td>2</td>\n",
              "      <td>False</td>\n",
              "      <td>Our mistake: চাকরিতে</td>\n",
              "    </tr>\n",
              "    <tr>\n",
              "      <th>3</th>\n",
              "      <td>3</td>\n",
              "      <td>3</td>\n",
              "      <td>True</td>\n",
              "      <td>Election</td>\n",
              "    </tr>\n",
              "    <tr>\n",
              "      <th>4</th>\n",
              "      <td>4</td>\n",
              "      <td>4</td>\n",
              "      <td>False</td>\n",
              "      <td>Rohingya issue</td>\n",
              "    </tr>\n",
              "  </tbody>\n",
              "</table>\n",
              "</div>\n",
              "    <div class=\"colab-df-buttons\">\n",
              "\n",
              "  <div class=\"colab-df-container\">\n",
              "    <button class=\"colab-df-convert\" onclick=\"convertToInteractive('df-12bd5caa-90ec-4e24-a0bb-b9e8e21c909b')\"\n",
              "            title=\"Convert this dataframe to an interactive table.\"\n",
              "            style=\"display:none;\">\n",
              "\n",
              "  <svg xmlns=\"http://www.w3.org/2000/svg\" height=\"24px\" viewBox=\"0 -960 960 960\">\n",
              "    <path d=\"M120-120v-720h720v720H120Zm60-500h600v-160H180v160Zm220 220h160v-160H400v160Zm0 220h160v-160H400v160ZM180-400h160v-160H180v160Zm440 0h160v-160H620v160ZM180-180h160v-160H180v160Zm440 0h160v-160H620v160Z\"/>\n",
              "  </svg>\n",
              "    </button>\n",
              "\n",
              "  <style>\n",
              "    .colab-df-container {\n",
              "      display:flex;\n",
              "      gap: 12px;\n",
              "    }\n",
              "\n",
              "    .colab-df-convert {\n",
              "      background-color: #E8F0FE;\n",
              "      border: none;\n",
              "      border-radius: 50%;\n",
              "      cursor: pointer;\n",
              "      display: none;\n",
              "      fill: #1967D2;\n",
              "      height: 32px;\n",
              "      padding: 0 0 0 0;\n",
              "      width: 32px;\n",
              "    }\n",
              "\n",
              "    .colab-df-convert:hover {\n",
              "      background-color: #E2EBFA;\n",
              "      box-shadow: 0px 1px 2px rgba(60, 64, 67, 0.3), 0px 1px 3px 1px rgba(60, 64, 67, 0.15);\n",
              "      fill: #174EA6;\n",
              "    }\n",
              "\n",
              "    .colab-df-buttons div {\n",
              "      margin-bottom: 4px;\n",
              "    }\n",
              "\n",
              "    [theme=dark] .colab-df-convert {\n",
              "      background-color: #3B4455;\n",
              "      fill: #D2E3FC;\n",
              "    }\n",
              "\n",
              "    [theme=dark] .colab-df-convert:hover {\n",
              "      background-color: #434B5C;\n",
              "      box-shadow: 0px 1px 3px 1px rgba(0, 0, 0, 0.15);\n",
              "      filter: drop-shadow(0px 1px 2px rgba(0, 0, 0, 0.3));\n",
              "      fill: #FFFFFF;\n",
              "    }\n",
              "  </style>\n",
              "\n",
              "    <script>\n",
              "      const buttonEl =\n",
              "        document.querySelector('#df-12bd5caa-90ec-4e24-a0bb-b9e8e21c909b button.colab-df-convert');\n",
              "      buttonEl.style.display =\n",
              "        google.colab.kernel.accessAllowed ? 'block' : 'none';\n",
              "\n",
              "      async function convertToInteractive(key) {\n",
              "        const element = document.querySelector('#df-12bd5caa-90ec-4e24-a0bb-b9e8e21c909b');\n",
              "        const dataTable =\n",
              "          await google.colab.kernel.invokeFunction('convertToInteractive',\n",
              "                                                    [key], {});\n",
              "        if (!dataTable) return;\n",
              "\n",
              "        const docLinkHtml = 'Like what you see? Visit the ' +\n",
              "          '<a target=\"_blank\" href=https://colab.research.google.com/notebooks/data_table.ipynb>data table notebook</a>'\n",
              "          + ' to learn more about interactive tables.';\n",
              "        element.innerHTML = '';\n",
              "        dataTable['output_type'] = 'display_data';\n",
              "        await google.colab.output.renderOutput(dataTable, element);\n",
              "        const docLink = document.createElement('div');\n",
              "        docLink.innerHTML = docLinkHtml;\n",
              "        element.appendChild(docLink);\n",
              "      }\n",
              "    </script>\n",
              "  </div>\n",
              "\n",
              "\n",
              "<div id=\"df-16dd0de1-3ec3-4535-b196-dbfed8a83db4\">\n",
              "  <button class=\"colab-df-quickchart\" onclick=\"quickchart('df-16dd0de1-3ec3-4535-b196-dbfed8a83db4')\"\n",
              "            title=\"Suggest charts\"\n",
              "            style=\"display:none;\">\n",
              "\n",
              "<svg xmlns=\"http://www.w3.org/2000/svg\" height=\"24px\"viewBox=\"0 0 24 24\"\n",
              "     width=\"24px\">\n",
              "    <g>\n",
              "        <path d=\"M19 3H5c-1.1 0-2 .9-2 2v14c0 1.1.9 2 2 2h14c1.1 0 2-.9 2-2V5c0-1.1-.9-2-2-2zM9 17H7v-7h2v7zm4 0h-2V7h2v10zm4 0h-2v-4h2v4z\"/>\n",
              "    </g>\n",
              "</svg>\n",
              "  </button>\n",
              "\n",
              "<style>\n",
              "  .colab-df-quickchart {\n",
              "      --bg-color: #E8F0FE;\n",
              "      --fill-color: #1967D2;\n",
              "      --hover-bg-color: #E2EBFA;\n",
              "      --hover-fill-color: #174EA6;\n",
              "      --disabled-fill-color: #AAA;\n",
              "      --disabled-bg-color: #DDD;\n",
              "  }\n",
              "\n",
              "  [theme=dark] .colab-df-quickchart {\n",
              "      --bg-color: #3B4455;\n",
              "      --fill-color: #D2E3FC;\n",
              "      --hover-bg-color: #434B5C;\n",
              "      --hover-fill-color: #FFFFFF;\n",
              "      --disabled-bg-color: #3B4455;\n",
              "      --disabled-fill-color: #666;\n",
              "  }\n",
              "\n",
              "  .colab-df-quickchart {\n",
              "    background-color: var(--bg-color);\n",
              "    border: none;\n",
              "    border-radius: 50%;\n",
              "    cursor: pointer;\n",
              "    display: none;\n",
              "    fill: var(--fill-color);\n",
              "    height: 32px;\n",
              "    padding: 0;\n",
              "    width: 32px;\n",
              "  }\n",
              "\n",
              "  .colab-df-quickchart:hover {\n",
              "    background-color: var(--hover-bg-color);\n",
              "    box-shadow: 0 1px 2px rgba(60, 64, 67, 0.3), 0 1px 3px 1px rgba(60, 64, 67, 0.15);\n",
              "    fill: var(--button-hover-fill-color);\n",
              "  }\n",
              "\n",
              "  .colab-df-quickchart-complete:disabled,\n",
              "  .colab-df-quickchart-complete:disabled:hover {\n",
              "    background-color: var(--disabled-bg-color);\n",
              "    fill: var(--disabled-fill-color);\n",
              "    box-shadow: none;\n",
              "  }\n",
              "\n",
              "  .colab-df-spinner {\n",
              "    border: 2px solid var(--fill-color);\n",
              "    border-color: transparent;\n",
              "    border-bottom-color: var(--fill-color);\n",
              "    animation:\n",
              "      spin 1s steps(1) infinite;\n",
              "  }\n",
              "\n",
              "  @keyframes spin {\n",
              "    0% {\n",
              "      border-color: transparent;\n",
              "      border-bottom-color: var(--fill-color);\n",
              "      border-left-color: var(--fill-color);\n",
              "    }\n",
              "    20% {\n",
              "      border-color: transparent;\n",
              "      border-left-color: var(--fill-color);\n",
              "      border-top-color: var(--fill-color);\n",
              "    }\n",
              "    30% {\n",
              "      border-color: transparent;\n",
              "      border-left-color: var(--fill-color);\n",
              "      border-top-color: var(--fill-color);\n",
              "      border-right-color: var(--fill-color);\n",
              "    }\n",
              "    40% {\n",
              "      border-color: transparent;\n",
              "      border-right-color: var(--fill-color);\n",
              "      border-top-color: var(--fill-color);\n",
              "    }\n",
              "    60% {\n",
              "      border-color: transparent;\n",
              "      border-right-color: var(--fill-color);\n",
              "    }\n",
              "    80% {\n",
              "      border-color: transparent;\n",
              "      border-right-color: var(--fill-color);\n",
              "      border-bottom-color: var(--fill-color);\n",
              "    }\n",
              "    90% {\n",
              "      border-color: transparent;\n",
              "      border-bottom-color: var(--fill-color);\n",
              "    }\n",
              "  }\n",
              "</style>\n",
              "\n",
              "  <script>\n",
              "    async function quickchart(key) {\n",
              "      const quickchartButtonEl =\n",
              "        document.querySelector('#' + key + ' button');\n",
              "      quickchartButtonEl.disabled = true;  // To prevent multiple clicks.\n",
              "      quickchartButtonEl.classList.add('colab-df-spinner');\n",
              "      try {\n",
              "        const charts = await google.colab.kernel.invokeFunction(\n",
              "            'suggestCharts', [key], {});\n",
              "      } catch (error) {\n",
              "        console.error('Error during call to suggestCharts:', error);\n",
              "      }\n",
              "      quickchartButtonEl.classList.remove('colab-df-spinner');\n",
              "      quickchartButtonEl.classList.add('colab-df-quickchart-complete');\n",
              "    }\n",
              "    (() => {\n",
              "      let quickchartButtonEl =\n",
              "        document.querySelector('#df-16dd0de1-3ec3-4535-b196-dbfed8a83db4 button');\n",
              "      quickchartButtonEl.style.display =\n",
              "        google.colab.kernel.accessAllowed ? 'block' : 'none';\n",
              "    })();\n",
              "  </script>\n",
              "</div>\n",
              "\n",
              "    </div>\n",
              "  </div>\n"
            ],
            "application/vnd.google.colaboratory.intrinsic+json": {
              "type": "dataframe",
              "variable_name": "shuffled_50_annotations",
              "summary": "{\n  \"name\": \"shuffled_50_annotations\",\n  \"rows\": 51,\n  \"fields\": [\n    {\n      \"column\": \"Unnamed: 0\",\n      \"properties\": {\n        \"dtype\": \"number\",\n        \"std\": 14,\n        \"min\": 0,\n        \"max\": 50,\n        \"num_unique_values\": 51,\n        \"samples\": [\n          43,\n          40,\n          46\n        ],\n        \"semantic_type\": \"\",\n        \"description\": \"\"\n      }\n    },\n    {\n      \"column\": \"id\",\n      \"properties\": {\n        \"dtype\": \"number\",\n        \"std\": 14,\n        \"min\": 0,\n        \"max\": 50,\n        \"num_unique_values\": 51,\n        \"samples\": [\n          43,\n          40,\n          46\n        ],\n        \"semantic_type\": \"\",\n        \"description\": \"\"\n      }\n    },\n    {\n      \"column\": \"isEthnic\",\n      \"properties\": {\n        \"dtype\": \"boolean\",\n        \"num_unique_values\": 2,\n        \"samples\": [\n          true,\n          false\n        ],\n        \"semantic_type\": \"\",\n        \"description\": \"\"\n      }\n    },\n    {\n      \"column\": \"reason\",\n      \"properties\": {\n        \"dtype\": \"string\",\n        \"num_unique_values\": 31,\n        \"samples\": [\n          \"Our mistake: \\u098f\\u0997\\u09be\\u09b0\\u09cb\\u099f\\u09be\\u09b0\",\n          \"Culture: \\u09b8\\u09be\\u0982\\u0997\\u09cd\\u09b0\\u09be\\u0987 \\u0989\\u09a6\\u09af\\u09be\\u09aa\\u09a8\"\n        ],\n        \"semantic_type\": \"\",\n        \"description\": \"\"\n      }\n    }\n  ]\n}"
            }
          },
          "metadata": {},
          "execution_count": 15
        }
      ]
    },
    {
      "cell_type": "code",
      "source": [
        "from matplotlib import pyplot as plt\n",
        "import seaborn as sns\n",
        "shuffled_50_annotations.groupby('isEthnic').size().plot(kind='barh', color=sns.palettes.mpl_palette('Dark2'))\n",
        "plt.gca().spines[['top', 'right',]].set_visible(False)"
      ],
      "metadata": {
        "colab": {
          "base_uri": "https://localhost:8080/",
          "height": 430
        },
        "id": "ABJa7rYcVrA4",
        "outputId": "040e243b-b12b-4ee8-c787-66b2d938d37d"
      },
      "execution_count": null,
      "outputs": [
        {
          "output_type": "display_data",
          "data": {
            "text/plain": [
              "<Figure size 640x480 with 1 Axes>"
            ],
            "image/png": "[encoded data removed]"
          },
          "metadata": {}
        }
      ]
    },
    {
      "cell_type": "code",
      "source": [
        "shuffled_50_annotations[\"reason\"].value_counts()"
      ],
      "metadata": {
        "colab": {
          "base_uri": "https://localhost:8080/"
        },
        "id": "QoSZmnZaVtC5",
        "outputId": "245eb6f3-ffba-497f-a12a-fbfafbdb7972"
      },
      "execution_count": null,
      "outputs": [
        {
          "output_type": "execute_result",
          "data": {
            "text/plain": [
              "reason\n",
              "Individual                                                   8\n",
              "Rohingya issue                                               5\n",
              "News                                                         4\n",
              "Our mistake: চাকরিতে                                         3\n",
              "অপহৃত                                                        2\n",
              "Sports                                                       2\n",
              "Election                                                     2\n",
              "Conflict: ইউপিডিএফ                                           2\n",
              "Our mistake: আকন্দ                                           1\n",
              "News: About মিটন চাকমা                                       1\n",
              "Our mistake: এগারোটার                                        1\n",
              "Culture: (বৈসুক, সাংগ্রাইং, বিজু)                            1\n",
              "Conflict: বিচ্ছিন্নতাবাদী সংগঠন আরাকান আর্মির শীর্ষ নেতা     1\n",
              "Crime: গারো তরুণী ধর্ষণে                                     1\n",
              "Our mistake: চাকরি                                           1\n",
              "Conflict: গুলিবিদ্ধ সাঁওতাল                                  1\n",
              "Crime: About কৃত্যিকা ত্রিপুরা                               1\n",
              "Culture: চীবর দানোত্সব পার্বত্য                              1\n",
              "Culture: সাংগ্রাই উদযাপন                                     1\n",
              "News: About শক্তিমান চাকমা                                   1\n",
              "ConflicT: ইউপিডিএফ                                           1\n",
              "রাঙ্গামাটির crime of indigenous people                       1\n",
              "শিল্পচর্চাকে                                                 1\n",
              "পার্বত্য চট্টগ্রাম জনসংহতি সমিতি                             1\n",
              "About ইতি চাকমা                                              1\n",
              "পাহাড়ি বাঙালি                                                1\n",
              "পশ্চিমবঙ্গের পাহাড়ি                                         1\n",
              "হারানো বিজ্ঞপ্তি                                             1\n",
              "কল্পনা চাকমা                                                 1\n",
              "চাকরির                                                       1\n",
              "Culture: নবান্ন উৎসব                                         1\n",
              "Name: count, dtype: int64"
            ]
          },
          "metadata": {},
          "execution_count": 18
        }
      ]
    },
    {
      "cell_type": "markdown",
      "source": [
        "### H0: There is no difference in size between ethnic and normal articles."
      ],
      "metadata": {
        "id": "IvubUUTIETb3"
      }
    },
    {
      "cell_type": "code",
      "source": [
        "import pandas as pd\n",
        "ethnic_articles = pd.read_csv(\"/content/drive/MyDrive/Representation Discrimination/data/ethnic_dataset_4893_after_removing_rakhain.csv\")[\"content\"].values.tolist()\n",
        "ethnic_articles[0]"
      ],
      "metadata": {
        "id": "d8qxXT1-V3do",
        "colab": {
          "base_uri": "https://localhost:8080/",
          "height": 105
        },
        "outputId": "b463c77b-9a96-4daf-baa9-378508e446b8"
      },
      "execution_count": null,
      "outputs": [
        {
          "output_type": "execute_result",
          "data": {
            "text/plain": [
              "'রমেল হত্যায় মানবাধিকার কমিশনের তদন্ত শুরুরাঙ্গামাটি প্রতিনিধিরাঙ্গামাটিতে পাহাড়ি ছাত্র পরিষদের (পিসিপি) নেতা রমেল চাকমার মৃত্যু নিয়ে অভিযোগ তদন্তে কার্যক্রম শুরু করেছে জাতীয় মানবাধিকার কমিশন। ঘটনাটিকে হত্যা দাবি করে নির্যাতনের কারণে রমেলের মৃত্যু হয়েছে বলে অভিযোগ করা হয়। এ ঘটনায় অভিযোগ তদন্তে তিন সদস্যের একটি কমিটি গঠন করে জাতীয় মানবাধিকার কমিশন। তদন্ত কমিটিতে জাতীয় মানবাধিকার কমিশনের সদস্য ও রাঙ্গামাটি সরকারি কলেজের সাবেক অধ্যক্ষ প্রফেসর বাঞ্চিতা চাকমাকে আহ্বায়ক, কমিশনের রাঙ্গামাটি অফিসের উপ-পরিচালক গাজী মো. সালাউদ্দিনকে সদস্যসচিব ও রাঙ্গামাটি জেলা প্রশাসনের নির্বাহী ম্যাজিস্ট্রেট অলি উজ্জামানকে সদস্য করা হয়েছে।সোনাগাজীতে অস্ত্রসহ যুবলীগ নেতা গ্রেফতারফেনী প্রতিনিধিফেনীর সোনাগাজী উপজেলার চরমজলিশপুর ইউনিয়নের কুঠিরহাটে ১টি বিদেশী পিস্তল ও ৪ রাউন্ড গুলিসহ যুবলীগ নেতা কামালকে গ্রেফতার করেছে পুলিশ। কামাল মজলিশপুরের আওয়ামী লীগের সাবেক সভাপতি মনজুতের রহমানের ছেলে ও ইউনিয়ন যুবলীগের সাবেক যুগ্ম-আহ্বায়ক। পুলিশ সূত্রে জানা যায়, গোপন সংবাদের ভিত্তিতে মঙ্গলবার সকাল ১১টা কুঠিরহাট বাজারে অভিযান চালিয়ে তাকে গ্রেফতার করে এসআই ডালিম মজুমদার।ফেনীতে সংখ্যালঘু পাড়ায় সশস্ত্র হামলা : আহত ৮ফেনী প্রতিনিধিফেনীর শহরতলীর পূর্ব মধুপুরে দাসপাড়ায় তুচ্ছ ঘটনায় স্থানীয় ক্যাডারদের হামলা ও ভাংচুরে নারী-পুরুষসহ ৮ জন আহত হয়েছেন। আহতদের মধ্যে ৩ জনকে আশঙ্কাজনক অবস্থায় ফেনী সদর হাসপাতালে ভর্তি করা হয়েছে। অন্যরা প্রাথমিক চিকিৎসা নিয়েছেন। রোববার রাত সাড়ে ১০টায় ফেনী পৌরসভার ১৫নং ওয়ার্ডে মায়েরবাড়ীর সংখ্যালঘু পাড়ায় এ সংঘর্ষের ঘটনা ঘটে।লক্ষ্মীপুরে ছাত্রলীগের দু’পক্ষের সংঘর্ষলক্ষ্মীপুর প্রতিনিধিলক্ষ্মীপুরে আধিপত্য বিস্তারকে কেন্দ্র করে ছাত্রলীগের দু’গ্রুপের মধ্যে পাল্টা-পাল্টি হামলা ও ধাওয়া পাল্টা-ধাওয়ার ঘটনা ঘটেছে। এতে ছাত্রলীগ নেতা সিপাত চৌধুরী ও তানভির মাহমুদ অন্তর আহত হয়। রোববার রাতে পৌর শহরের বাগবাড়িতে এ ঘটনা ঘটে। আহত সিপাতের অবস্থা আশঙ্কাজনক। তাকে ঢাকা মেডিকেল কলেজ হাসপাতালে প্রেরণ করা হয়েছে।সেন্টমার্টিনের বসতি না ভাঙার দাবিকক্সবাজার প্রতিনিধিস্থাপনা নির্মাণে অভিন্ন নীতিমালা প্রণয়নের দাবি জানিয়ে প্রবালদ্বীপ সেন্টমার্টিনের বসতি রক্ষায় প্রধানমন্ত্রীর হস্তক্ষেপ কামনা করেছেন দ্বীপবাসী। এসব স্থাপনা উচ্ছেদ করা হলে পর্যটন ব্যবসায় ধ্বস নামার পাশাপাশি সেন্টমার্টিনের ১০ হাজার অধিবাসীর মানবিক বিপর্যয় ঘটার আশঙ্কা রয়েছে বলে দাবি করেন তারা। মঙ্গলবার দুপুরে কক্সবাজার জেলা প্রশাসকের কার্যালয়ের সামনে মানববন্ধনে এ দাবি জানান সেন্টমার্টিনের অধিবাসীরা।দাগনভূঞায় পানিতে ডুবে শিশুর মৃত্যুদাগনভূঞা প্রতিনিধিদাগনভূঞা উপজেলার দেবরামপুর গ্রামে সোমবার দুপুরে পানিতে ডুবে শিশুর করুণ মৃত্যু হয়েছে। পুলিশ ও স্থানীয় সূত্রে জানা যায়, ওইদিন বেলা ১১টায় উপজেলার দেবরামপুর গ্রামের মোল্লা বাড়ির জাহেদুল হাসানের আড়াই বছর বয়সী মেয়ে সুরাইয়া হাসান মীম পুকুরের পানিতে পড়ে যায়। পরিবারের লোকজন তাকে অনেক খোঁজাখুঁজি করলে অবশেষে শিশুটির মৃতদেহ পুকুরে ভাসতে দেখা যায়।চট্টগ্রামে অনুষ্ঠানে হামলাকারীদের শাস্তি দাবিচট্টগ্রাম ব্যুরোজেলা শিল্পকলা একাডেমিতে অনুষ্ঠান চলাকালীন সময়ে হামলাকারীদের ২৪ ঘণ্টার মধ্যে গ্রেফতারের দাবি জানিয়েছেন চট্টগ্রামের সংস্কৃতিকর্মীরা। সোমবার জেলা শিল্পকলা একাডেমির সামনে সর্বস্তরের শিল্পী, সাহিত্যিক, সাংবাদিক ও প্রগতিবাদী ব্যানারে অনুষ্ঠিত মানববন্ধনে এ দাবি জানানো হয়। এ সময় বিভিন্ন সাংস্কৃতিক সংগঠনের শতাধিক সদস্য উপস্থিত ছিলেন।রায়পুরে বাণিজ্য মেলা : দু’জনকে পুলিশে সোপর্দরায়পুর (লক্ষ্মীপুর) প্রতিনিধিলক্ষ্মীপুরের রায়পুরে বাণিজ্য মেলার নামে প্রশাসনের নিষেধ অমান্য করে অবৈধভাবে লটারি বিক্রি করায় সিএনজিসহ দু’চালককে আটক করেছে পুলিশ। আটককৃত দু’জন রিপন ও নজরুল জেলা সদরের বাসিন্দা। সোমবার দুপুরে শহরের মোহাম্মদিয়া হোটেলের সামনে পথচারী ও ক্ষুদ্র ব্যবসায়ীদের কাছে লটারি বিক্রির সময় কয়েকজন সচেতন ব্যবসায়ী দুই সিএনজিচালককে আটক করে থানা পুলিশে সোপর্দ করেছেন।নানিয়ারচরে পিসিপি কর্মী আটকরাঙ্গামাটি প্রতিনিধিরাঙ্গামাটির নানিয়ারচরে রিপন আলো চাকমা নামে এক পিসিপি কর্মীকে আটক করেছে নিরাপত্তাবাহিনী। রিপন আলো চাকমা ইউপিডিএফ সমর্থনপুষ্ট ছাত্র সংগঠন বৃহত্তর চট্টগ্রাম পাহাড়ি ছাত্র পরিষদের (পিসিপি) রাঙ্গামাটি জেলা শাখার সহ-সাধারণ সম্পাদক।ওসি বলেন, আটক রিপন আলো চাকমাকে মঙ্গলবার দুপুরে রাঙ্গামাটির আদালতে চালান দেয়া হয়েছে।চাঁদপুরে পোলট্রি ব্যবসায়ীদের মানববন্ধনচাঁদপুর প্রতিনিধিপোলট্রির বাচ্চার দাম বৃদ্ধির প্রতিবাদে চাঁদপুরে পোলট্রি ব্যবসায়ীরা মানববন্ধন করেছে। মঙ্গলবার সকাল সাড়ে ১১টায় চাঁদপুর জেলা প্রশাসকের কার্যালয়ের সামনে এ মানববন্ধন কর্মসূচি পালন করা হয়। মানববন্ধন ব্যবসায়ী নেতারা দাবি করে বলেন, হ্যাচারি ও ফিড ব্যবসায়ীরা তিনগুণ বেশি দামে মুরগির বাচ্চা বিক্রি করছে।ফরিদগঞ্জে প্রাথমিক শিক্ষক সমিতির মানববন্ধনফরিদগঞ্জ (চাঁদপুর) প্রতিনিধিসহকারী শিক্ষক ও প্রধান শিক্ষকদের শতভাগ বিভাগীয় পদোন্নতি প্রদান, সহকারী শিক্ষকদের প্রধান শিক্ষকের এক ধাপ নিচে বেতন ও প্রধান শিক্ষকদের ১ গ্রেডসহ ক্রসপন্ডিং স্কেল দ্রুত বাস্তবায়ন ও প্রধানমন্ত্রীর হস্তক্ষেপের দাবিতে মঙ্গলবার সকালে বাংলাদেশ উপজেলা প্রাথমিক শিক্ষক সমিতি ফরিদগঞ্জ শাখা মানববন্ধন করেছে।লক্ষ্মীপুরে ছাত্রলীগের ৪ নেতা বহিষ্কারলক্ষ্মীপুর প্রতিনিধিসংগঠনের শৃঙ্খলাবিরোধী কর্মকাণ্ডে জড়িত থাকার অভিযোগ এনে লক্ষ্মীপুরে ৪ ছাত্রলীগ নেতাকে সাময়িকভাবে বহিষ্কার করা হয়েছে। বহিষ্কৃতরা হলেন- লক্ষ্মীপুর জেলা ছাত্রলীগের উপ-দফতরবিষয়ক সম্পাদক সেবাব নেওয়াজ, সহ-সম্পাদক পলক আহম্মদ, সদস্য পিয়াস পাঠান ও ছাত্রলীগ সদস্য মিনহাজ আলম সজিব।পটিয়ায় ১০ বসতবাড়িসহ দোকানঘরে হামলা ভাংচুরচট্টগ্রাম ব্যুরোপটিয়ায় পরকীয়ার জেরে রাতের আঁধারে ১০ বসতঘরসহ দুই দোকানঘরে হামলা ও ভাংচুর চালিয়েছে দুর্বৃত্তরা। সোমবার রাতে পৌরসদরের কাগজীপাড়ায় এ ঘটনা ঘটে। ক্ষতিগ্রস্তরা হল- কামাল মিস্ত্রি, মো. আনোয়ার, জালাল মিয়া, এয়াকুব, সাইফুরের দোকানঘর, শাহ মোহছেন স্টোর, ফরিদ সওদাগরসহ নুর জাহান বেগম। এ ঘটনায় নুর জাহান বেগম বাদী হয়ে অভিযোগ দায়ের করেছেন। ১নং ওয়ার্ডের কাগজীপাড়া এলাকায় গৃহবধূর সঙ্গে সাইফুদ্দীন ভোলার অবৈধ সম্পর্কের জের ধরে কথা কাটাকাটি হয়। '"
            ],
            "application/vnd.google.colaboratory.intrinsic+json": {
              "type": "string"
            }
          },
          "metadata": {},
          "execution_count": 12
        }
      ]
    },
    {
      "cell_type": "code",
      "source": [
        "import joblib\n",
        "nonethnic_articles = joblib.load(\"/content/drive/MyDrive/Representation Discrimination/data/nonethnic_dataset_100k.joblib\")\n",
        "nonethnic_articles[0]"
      ],
      "metadata": {
        "colab": {
          "base_uri": "https://localhost:8080/",
          "height": 105
        },
        "id": "Xhy6Dl7BByYX",
        "outputId": "128679f2-78a5-4735-d767-2b0e7999fac1"
      },
      "execution_count": null,
      "outputs": [
        {
          "output_type": "execute_result",
          "data": {
            "text/plain": [
              "'<p>কার্তিক শেষ হলো কাল। আজ অগ্রহায়ণের প্রথম দিন। শীতের আগমনী বার্তা এখন রাজধানীর আকাশে-বাতাসে। এমন আবহাওয়ায় গতকাল সন্ধ্যায় সেগুনবাগিচার শিল্পকলা একাডেমির জাতীয় নাট্যশালায় মিলনায়তন নিক্বণধ্বনিতে জমে উঠেছিল। এখানে শুরু হয় নয় দিনের দ্বিতীয় জাতীয় নৃত্যনাট্য উৎসব।<br />সোমবার সন্ধ্যায় শিল্পকলা একাডেমির মূল হলে উৎসবের উদ্বোধন করেন অর্থমন্ত্রী আবুল মাল আবদুল মুহিত। অর্থমন্ত্রী সমাজ রক্ষা, উন্নয়ন, মানবিক গুণাবলি বিকাশের জন্যও নৃত্যনাট্য চর্চার গুরুত্ব রয়েছে বলে মন্তব্য করেন। তিনি বলেন, ‘সংস্কৃতির নানা মাধ্যমের মধ্যে নৃত্যনাট্য একটি শক্তিশালী মাধ্যম, যা নানা শিক্ষা দেয়। এই মাধ্যম থেকে রস আস্বাদন করে আমরা সমৃদ্ধ হতে পারি।’<br />অনুষ্ঠানে বিশেষ অতিথির বক্তব্য দেন সংস্কৃতিসচিব আকতারী মমতাজ। আরও বক্তব্য দেন নাট্যব্যক্তিত্ব নাসির উদ্দীন ইউসুফ, প্রবীণ নৃত্যশিল্পী রাহিজা খানম ও বাংলাদেশ নৃত্যশিল্পী সংস্থার সভাপতি মিনু হক। সভাপতিত্ব করেন শিল্পকলা একাডেমির মহাপরিচালক লিয়াকত আলী। রাহিজা খানম সংস্কৃতি খাতে বাজেটের অপ্রতুলতার দিকটি তুলে ধরে বলেন, ‘বাজেটের জন্য আমরা অনেক ভালো কাজ করতে চেয়েও পারি না।’ তার কথার সূত্র ধরে সংস্কৃতি খাতে সরকারি পৃষ্ঠপোষকতা বাড়ানোর দাবি জানান নাসির উদ্দীন ইউসুফ। জাতীয় উৎসবগুলো কেন্দ্রীয়ভাবে হওয়ার চেয়ে সারা দেশের স্কুল-কলেজে হওয়াই গুরুত্বপূর্ণ বলে মন্তব্য করেন তিনি।<br />উদ্বোধন ও বক্তৃতাপর্ব শেষে ফারহানা চৌধুরীর পরিচালনায় বাংলাদেশ একাডেমি অব ফাইন আর্টস পরিবেশন করে নৃত্যনাট্য নকশী কাঁথার মাঠ।</p>'"
            ],
            "application/vnd.google.colaboratory.intrinsic+json": {
              "type": "string"
            }
          },
          "metadata": {},
          "execution_count": 13
        }
      ]
    },
    {
      "cell_type": "code",
      "source": [
        "import numpy as np\n",
        "def mean_std(articles):\n",
        "  article_lengths = [len(article.split()) for article in articles]\n",
        "  std = np.std(article_lengths, ddof=1)\n",
        "  mean = sum(article_lengths) / len(articles)\n",
        "  return mean, std"
      ],
      "metadata": {
        "id": "KtzztdHtB3fp"
      },
      "execution_count": null,
      "outputs": []
    },
    {
      "cell_type": "code",
      "source": [
        "print(mean_std(ethnic_articles))\n",
        "print(mean_std(nonethnic_articles))"
      ],
      "metadata": {
        "colab": {
          "base_uri": "https://localhost:8080/"
        },
        "id": "iBoXb6RvCOzP",
        "outputId": "0dbc5765-98af-41a7-a53c-8e25a2e1d924"
      },
      "execution_count": null,
      "outputs": [
        {
          "output_type": "stream",
          "name": "stdout",
          "text": [
            "(440.65563049254035, 706.595721789325)\n",
            "(124.93548193554193, 153.38580707868059)\n"
          ]
        }
      ]
    },
    {
      "cell_type": "code",
      "source": [
        "import scipy.stats as stats\n",
        "t_stat, p_value = stats.ttest_ind_from_stats(\n",
        "    mean1=mean_std(ethnic_articles)[0], std1=mean_std(ethnic_articles)[1], nobs1=len(ethnic_articles),\n",
        "    mean2=mean_std(nonethnic_articles)[0], std2=mean_std(nonethnic_articles)[0], nobs2=len(nonethnic_articles),\n",
        "    equal_var=False  # Welch's t-test, assumes unequal variances\n",
        ")\n",
        "\n",
        "print(f\"T-statistic: {t_stat}\")\n",
        "print(f\"P-value: {p_value}\")"
      ],
      "metadata": {
        "colab": {
          "base_uri": "https://localhost:8080/"
        },
        "id": "5BTE-iXvCSn3",
        "outputId": "6c22f71f-b8a9-4b92-d0e7-abb4eb2f3fdd"
      },
      "execution_count": null,
      "outputs": [
        {
          "output_type": "stream",
          "name": "stdout",
          "text": [
            "T-statistic: 31.23107961932892\n",
            "P-value: 1.840763388749358e-195\n"
          ]
        }
      ]
    },
    {
      "cell_type": "code",
      "source": [],
      "metadata": {
        "id": "lxVx_PKPEo0M"
      },
      "execution_count": null,
      "outputs": []
    }
  ],
  "metadata": {
    "colab": {
      "machine_shape": "hm",
      "provenance": []
    },
    "kernelspec": {
      "display_name": "Python 3",
      "name": "python3"
    },
    "language_info": {
      "name": "python"
    }
  },
  "nbformat": 4,
  "nbformat_minor": 0
}