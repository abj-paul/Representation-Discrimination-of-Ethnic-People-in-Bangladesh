{
  "cells": [
    {
      "cell_type": "code",
      "execution_count": 1,
      "metadata": {
        "colab": {
          "base_uri": "https://localhost:8080/"
        },
        "id": "aQ2qWlPUU8f7",
        "outputId": "8b4d2eff-ae56-4be8-d18e-8c406b24922b"
      },
      "outputs": [
        {
          "output_type": "stream",
          "name": "stdout",
          "text": [
            "Mounted at /content/drive\n"
          ]
        }
      ],
      "source": [
        "from google.colab import drive\n",
        "drive.mount(\"/content/drive\")"
      ]
    },
    {
      "cell_type": "code",
      "execution_count": 2,
      "metadata": {
        "id": "w8P8cR3cp0gc"
      },
      "outputs": [],
      "source": [
        "import pandas as pd\n",
        "ethnic_dataset_curation0 = pd.read_csv(\"/content/drive/MyDrive/Representation Discrimination/ethnic_dataset_curation0.csv\")"
      ]
    },
    {
      "cell_type": "code",
      "source": [
        "import joblib\n",
        "data_stemmed_list = joblib.load(\"/content/drive/MyDrive/Representation Discrimination/checkpoints/data_stemmed_list_110724.joblib\")"
      ],
      "metadata": {
        "id": "Uu_m42yqlRGe"
      },
      "execution_count": 4,
      "outputs": []
    },
    {
      "cell_type": "code",
      "source": [
        "articles = ethnic_dataset_curation0[\"content\"].values.tolist()\n",
        "articles[0]"
      ],
      "metadata": {
        "colab": {
          "base_uri": "https://localhost:8080/",
          "height": 105
        },
        "id": "RMB1AL-BJOqH",
        "outputId": "f89123e7-6ef0-4725-e840-b7327060f966"
      },
      "execution_count": 5,
      "outputs": [
        {
          "output_type": "execute_result",
          "data": {
            "text/plain": [
              "'আন্তর্জাতিক আদিবাসী দিবস উপলক্ষে বুধবার বিভিন্ন স্থানে সভা-সমাবেশ ও রযালি অনুষ্ঠিত হয়েছে। উপজাতিদের বিভিন্ন সংগঠন এসব কর্মসূচির আয়োজন করে। যুগান্তর ব্যুরো ও প্রতিনিধিদের পাঠানো খবর-সিলেট ব্যুরো : রযালিতে সিলেট প্রেস ক্লাবের সভাপতি ইকরামুল কবির, ইমজার সভাপতি আল আজাদসহ সিলেটের সাংস্কৃতিক অঙ্গনের ব্যক্তি ও উপজাতি জনগোষ্ঠীর লোকজন ছাড়াও বিভিন্ন শ্রেণী-পেশার মানুষ অংশগ্রহণ করেন। এছাড়া দিবসটি উপলক্ষে শাহজালাল বিজ্ঞান ও প্রযুক্তি বিশ্ববিদ্যালয়ে আলোচনা সভা অনুষ্ঠিত হয়েছে। ‘অ্যাসোসিয়েশন অব ইন্ডিজেনাস স্টুডেন্টস, সাস্ট’ ও সমাজকর্ম বিভাগ আলাদা আলাদাভাবে দিবসটি উপলক্ষে রযালি, সেমিনার ও আলোচনা সভার আয়োজন করে।ময়মনসিংহ ব্যুরো : অনুষ্ঠানের উদ্বোধন করেন জেলা পরিষদের চেয়ারম্যান অধ্যাপক ইউসুফ খান পাঠান। বক্তব্য রাখেন হিন্দু বৌদ্ধ খ্রিস্টান ঐক্য পরিষদের সভাপতি বিকাশ রায়, সিপিবি সভাপতি এমদাদুল হক মিল্লাত, মহিলা পরিষদের সভানেত্রী ফেরদৌস আরা মাহমুদা হেলেন, হিল্লুুল নকরেক, অরণ্য-ই চিরান, স্বর্ণকান্ত হাজং সাংবাদিক শরীফুজ্জামান টিটু প্রমুখ।শেরপুর : বাগাছাস সভাপতি রুনু নকরেটের সভাপতিত্বে অনুষ্ঠিত আলোচনা সভায় প্রধান অতিথি ছিলেন ঝিনাইগাতী উপজেলা চেয়ারম্যান আমিনুল ইসলাম বাদশা। বক্তব্য রাখেন, উপজেলা ভাইস চেয়ারম্যান আমিরুর ইসলাম মক্কু, বাগাছাসের কেন্দ্রীয় কমিটি সাবেক সভাপতি পবিত্র ম্র্রং, সাংবাদিক রফিক মজিদ, উপজাতি ছাত্রনেতা নিরু চিরান, রবি কোচ, সত্যজিৎ মৃ প্রমুখ।কলমাকান্দা (নেত্রকোনা) : হাটগোবিন্দপুর বিদ্যালয় মাঠে অনুষ্ঠানে বক্তব্য রাখেন উপজেলা ভাইস চেয়ারম্যান কলি আক্তার, পপি সিডস প্রোগ্রাম ম্যানেজার শরিফুল ইসলাম, টিউলিপ ম্রং, অশোক চিসিম, ইউলসন কুবি প্রমুখ।দুর্গাপুর (নেত্রকোনা) : রযালি শেষে টিডব্লিউএ’র সভাপতি বঙ্কিম মানখিনের সভাপতিত্বে সভায় উপজাতি নেতা সায়মন তজুর সঞ্চালনায় প্রধান অতিথি ছিলেন সহকারী কমিশনার ভূমি মো. ইয়ামিন হোসেন। বক্তব্য রাখেন ভারপ্রাপ্ত পুলিশ কর্মকর্তা মিজানুর রহমান, আদিবাসী নারীনেত্রী স্বপ্না হাজং, লুদিয়া রুমা সাংমা, এনজিও সমন্বয় পরিষদের সভাপতি মি. পঙ্কজ মারাক, স্বপন হাজং প্রমুখ।শ্রীমঙ্গল : বুধবার রযালি ও পথসভার উদ্বোধন করেন বৃহত্তম আদিবাসী ফোরামের সহ-সভাপতি জিডিসন প্রধান সুচিয়াং। উপস্থিত ছিলেন সংগঠনের মহাসচিব ফিলা পত্মি, চা জনগোষ্ঠী আদিবাসী ফ্রন্টের সভাপতি পরিমল সিং বাড়াইক, খাসি সোসিয়াল কাউন্সিলের সাজু মারছিয়াং প্রমুখ।ধোবাউড়া (ময়মনসিংহ) : আলোচনা সভায় বাগাছাস ধোবাউড়া শাখার সভাপতি সাগর ডিব্রার সভাপতিত্বে বক্তব্য রাখেন ট্রাইবাল ওয়েলফেয়ার অ্যাসোসিয়েশনের চেয়ারম্যান এডুয়ার্ট নাফাক, ভাইস চেয়ারম্যান হেরোথ চিরান, বাগাছাস কেন্দ্রীয় প্রচার সম্পাদক শক্তি চিরান, ধোবাউড়া শাখার সম্পাদক ন্যান্সি ডিব্রা প্রমুখ।কলাপাড়া : সভায় সভাপতিত্ব করেন রাখাইন মংচো। প্রধান অতিথির বক্তব্য রাখেন উপজেলা চেয়ারম্যান আবদুল মোতালেব তালুকদার। বিশেষ অতিথি ছিলেন ইউএনও এবিএম সাদিকুর রহমান, কৃষি কর্মকর্তা মসিউর রহমান, অধ্যক্ষ ড. শহীদুল ইসলাম বিশ্বাস, মাহমুদুর রহমান, সাংবাদিক জসিম পারভেজ, রাখাইন চোথেন মং ও অংনয় প্রমুখ।হালুয়াঘাট (ময়মনসিংহ) : গারো স্টুডন্ট ইউনিয়ন (গাসু) এবং সেন্টএন্ড্রুজ বয়েজ ও সেন্ট মেরিস গার্লস সিএমডি হোস্টেলের নেতারা অংশগ্রহণে একটি রযালি হালুয়াঘাট বাজার প্রদক্ষিণ করে। '"
            ],
            "application/vnd.google.colaboratory.intrinsic+json": {
              "type": "string"
            }
          },
          "metadata": {},
          "execution_count": 5
        }
      ]
    },
    {
      "cell_type": "markdown",
      "source": [
        "### COREX"
      ],
      "metadata": {
        "id": "CSvMJjSP5229"
      }
    },
    {
      "cell_type": "code",
      "source": [
        "!pip install corextopic\n",
        "!!wget -O stop_words.txt https://raw.githubusercontent.com/aljubaer/Topic-Modeling-in-Bengali/master/code/stop_words.txt\n"
      ],
      "metadata": {
        "colab": {
          "base_uri": "https://localhost:8080/"
        },
        "id": "ODQoykXA55jR",
        "outputId": "83299926-576a-4149-ca15-2900cfe610b1"
      },
      "execution_count": 6,
      "outputs": [
        {
          "output_type": "stream",
          "name": "stdout",
          "text": [
            "Collecting corextopic\n",
            "  Downloading corextopic-1.1-py3-none-any.whl.metadata (12 kB)\n",
            "Downloading corextopic-1.1-py3-none-any.whl (27 kB)\n",
            "Installing collected packages: corextopic\n",
            "Successfully installed corextopic-1.1\n"
          ]
        },
        {
          "output_type": "execute_result",
          "data": {
            "text/plain": [
              "['--2024-07-28 03:03:28--  https://raw.githubusercontent.com/aljubaer/Topic-Modeling-in-Bengali/master/code/stop_words.txt',\n",
              " 'Resolving raw.githubusercontent.com (raw.githubusercontent.com)... 185.199.108.133, 185.199.109.133, 185.199.110.133, ...',\n",
              " 'Connecting to raw.githubusercontent.com (raw.githubusercontent.com)|185.199.108.133|:443... connected.',\n",
              " 'HTTP request sent, awaiting response... 200 OK',\n",
              " 'Length: 5443 (5.3K) [text/plain]',\n",
              " 'Saving to: ‘stop_words.txt’',\n",
              " '',\n",
              " '',\n",
              " 'stop_words.txt        0%[                    ]       0  --.-KB/s               ',\n",
              " 'stop_words.txt      100%[===================>]   5.32K  --.-KB/s    in 0s      ',\n",
              " '',\n",
              " '2024-07-28 03:03:28 (53.0 MB/s) - ‘stop_words.txt’ saved [5443/5443]',\n",
              " '']"
            ]
          },
          "metadata": {},
          "execution_count": 6
        }
      ]
    },
    {
      "cell_type": "code",
      "source": [
        "stopwords_file = open('stop_words.txt', \"r+\", encoding='utf-8')\n",
        "all_stopwords = stopwords_file.read()\n",
        "stopwords = [word.strip() for word in all_stopwords.split()]\n",
        "print(stopwords)"
      ],
      "metadata": {
        "colab": {
          "base_uri": "https://localhost:8080/"
        },
        "id": "WkMiexkAK3bG",
        "outputId": "e56202bd-fd3e-421a-c1dc-a2a180994581"
      },
      "execution_count": 7,
      "outputs": [
        {
          "output_type": "stream",
          "name": "stdout",
          "text": [
            "['অতএব', 'অথচ', 'অথবা', 'অনুযায়ী', 'অনেক', 'অনেকে', 'অনেকেই', 'অন্তত', 'অন্য', 'অবধি', 'অবশ্য', 'অর্থাত', 'আই', 'আগামী', 'আগে', 'আগেই', 'আছে', 'আজ', 'আদ্যভাগে', 'আপনার', 'আপনি', 'আবার', 'আমরা', 'আমাকে', 'আমাদের', 'আমার', 'আমি', 'আর', 'আরও', 'ই', 'ইত্যাদি', 'ইহা', 'উচিত', 'উত্তর', 'উনি', 'উপর', 'উপরে', 'এ', 'এঁদের', 'এঁরা', 'এই', 'একই', 'একটি', 'একবার', 'একে', 'এক্', 'এখন', 'এখনও', 'এখানে', 'এখানেই', 'এটা', 'এটাই', 'এটি', 'এত', 'এতটাই', 'এতে', 'এদের', 'এব', 'এবং', 'এবার', 'এমন', 'এমনকী', 'এমনি', 'এর', 'এরা', 'এল', 'এস', 'এসে', 'ঐ', 'ও', 'ওঁদের', 'ওঁর', 'ওঁরা', 'ওই', 'ওকে', 'ওখানে', 'ওদের', 'ওর', 'ওরা', 'কখনও', 'কত', 'কবে', 'কমনে', 'কয়েক', 'কয়েকটি', 'করছে', 'করছেন', 'করতে', 'করবে', 'করবেন', 'করলে', 'করলেন', 'করা', 'করাই', 'করায়', 'করার', 'করি', 'করিতে', 'করিয়া', 'করিয়ে', 'করে', 'করেই', 'করেছিলেন', 'করেছে', 'করেছেন', 'করেন', 'কাউকে', 'কাছ', 'কাছে', 'কাজ', 'কাজে', 'কারও', 'কারণ', 'কি', 'কিংবা', 'কিছু', 'কিছুই', 'কিন্তু', 'কী', 'কে', 'কেউ', 'কেউই', 'কেখা', 'কেন', 'কোটি', 'কোন', 'কোনও', 'কোনো', 'ক্ষেত্রে', 'কয়েক', 'খুব', 'গিয়ে', 'গিয়েছে', 'গিয়ে', 'গুলি', 'গেছে', 'গেল', 'গেলে', 'গোটা', 'চলে', 'চান', 'চায়', 'চার', 'চালু', 'চেয়ে', 'চেষ্টা', 'ছাড়া', 'ছাড়াও', 'ছিল', 'ছিলেন', 'জন', 'জনকে', 'জনের', 'জন্য', 'জন্যওজে', 'জানতে', 'জানা', 'জানানো', 'জানায়', 'জানিয়ে', 'জানিয়েছে', 'জে', 'জ্নজন', 'টি', 'ঠিক', 'তখন', 'তত', 'তথা', 'তবু', 'তবে', 'তা', 'তাঁকে', 'তাঁদের', 'তাঁর', 'তাঁরা', 'তাঁাহারা', 'তাই', 'তাও', 'তাকে', 'তাতে', 'তাদের', 'তার', 'তারপর', 'তারা', 'তারৈ', 'তাহলে', 'তাহা', 'তাহাতে', 'তাহার', 'তিনঐ', 'তিনি', 'তিনিও', 'তুমি', 'তুলে', 'তেমন', 'তো', 'তোমার', 'থাকবে', 'থাকবেন', 'থাকা', 'থাকায়', 'থাকে', 'থাকেন', 'থেকে', 'থেকেই', 'থেকেও', 'দিকে', 'দিতে', 'দিন', 'দিয়ে', 'দিয়েছে', 'দিয়েছেন', 'দিলেন', 'দু', 'দুই', 'দুটি', 'দুটো', 'দেওয়া', 'দেওয়ার', 'দেওয়া', 'দেখতে', 'দেখা', 'দেখে', 'দেন', 'দেয়', 'দ্বারা', 'ধরা', 'ধরে', 'ধামার', 'নতুন', 'নয়', 'না', 'নাই', 'নাকি', 'নাগাদ', 'নানা', 'নিজে', 'নিজেই', 'নিজেদের', 'নিজের', 'নিতে', 'নিয়ে', 'নিয়ে', 'নেই', 'নেওয়া', 'নেওয়ার', 'নেওয়া', 'নয়', 'পক্ষে', 'পর', 'পরে', 'পরেই', 'পরেও', 'পর্যন্ত', 'পাওয়া', 'পাচ', 'পারি', 'পারে', 'পারেন', 'পি', 'পেয়ে', 'পেয়্র্', 'প্রতি', 'প্রথম', 'প্রভৃতি', 'প্রযন্ত', 'প্রাথমিক', 'প্রায়', 'প্রায়', 'ফলে', 'ফিরে', 'ফের', 'বক্তব্য', 'বদলে', 'বন', 'বরং', 'বলতে', 'বলল', 'বললেন', 'বলা', 'বলে', 'বলেছেন', 'বলেন', 'বসে', 'বহু', 'বা', 'বাদে', 'বার', 'বি', 'বিনা', 'বিভিন্ন', 'বিশেষ', 'বিষয়টি', 'বেশ', 'বেশি', 'ব্যবহার', 'ব্যাপারে', 'ভাবে', 'ভাবেই', 'মতো', 'মতোই', 'মধ্যভাগে', 'মধ্যে', 'মধ্যেই', 'মধ্যেও', 'মনে', 'মাত্র', 'মাধ্যমে', 'মোট', 'মোটেই', 'যখন', 'যত', 'যতটা', 'যথেষ্ট', 'যদি', 'যদিও', 'যা', 'যাঁর', 'যাঁরা', 'যাওয়া', 'যাওয়ার', 'যাওয়া', 'যাকে', 'যাচ্ছে', 'যাতে', 'যাদের', 'যান', 'যাবে', 'যায়', 'যার', 'যারা', 'যিনি', 'যে', 'যেখানে', 'যেতে', 'যেন', 'যেমন', 'র', 'রকম', 'রয়েছে', 'রাখা', 'রেখে', 'লক্ষ', 'শুধু', 'শুরু', 'সঙ্গে', 'সঙ্গেও', 'সব', 'সবার', 'সমস্ত', 'সম্প্রতি', 'সহ', 'সহিত', 'সাধারণ', 'সামনে', 'সি', 'সুতরাং', 'সে', 'সেই', 'সেখান', 'সেখানে', 'সেটা', 'সেটাই', 'সেটাও', 'সেটি', 'স্পষ্ট', 'স্বয়ং', 'হইতে', 'হইবে', 'হইয়া', 'হওয়া', 'হওয়ায়', 'হওয়ার', 'হচ্ছে', 'হত', 'হতে', 'হতেই', 'হন', 'হবে', 'হবেন', 'হয়', 'হয়তো', 'হয়নি', 'হয়ে', 'হয়েই', 'হয়েছিল', 'হয়েছে', 'হয়েছেন', 'হল', 'হলে', 'হলেই', 'হলেও', 'হলো', 'হাজার', 'হিসাবে', 'হৈলে', 'হোক', 'হয়']\n"
          ]
        }
      ]
    },
    {
      "cell_type": "code",
      "source": [
        "import numpy as np\n",
        "from sklearn.feature_extraction.text import CountVectorizer\n",
        "from corextopic import corextopic as ct\n",
        "import scipy.sparse as ss\n",
        "import regex\n",
        "\n",
        "def custom_analyzer(text):\n",
        "    words = regex.findall(r'\\w{2,}', text) # extract words of at least 2 letters\n",
        "    for w in words:\n",
        "        yield w\n",
        "\n",
        "vectorizer = CountVectorizer(stop_words=stopwords, analyzer = custom_analyzer, max_features=20000, binary=True)\n",
        "doc_word = vectorizer.fit_transform(articles)\n",
        "doc_word = ss.csr_matrix(doc_word)\n",
        "\n",
        "doc_word.shape # n_docs x m_words"
      ],
      "metadata": {
        "id": "6r-HFRtX4eF8",
        "colab": {
          "base_uri": "https://localhost:8080/"
        },
        "outputId": "e55b767b-7745-4482-9931-7d4a5b7e51fb"
      },
      "execution_count": 41,
      "outputs": [
        {
          "output_type": "execute_result",
          "data": {
            "text/plain": [
              "(5342, 20000)"
            ]
          },
          "metadata": {},
          "execution_count": 41
        }
      ]
    },
    {
      "cell_type": "code",
      "source": [
        "words = list(np.asarray(vectorizer.get_feature_names_out()))"
      ],
      "metadata": {
        "id": "crVMtbI7PdqA"
      },
      "execution_count": 42,
      "outputs": []
    },
    {
      "cell_type": "code",
      "source": [
        "not_digit_inds = [ind for ind,word in enumerate(words) if not word.isdigit()]\n",
        "doc_word = doc_word[:,not_digit_inds]\n",
        "words    = [word for ind,word in enumerate(words) if not word.isdigit()]\n",
        "\n",
        "doc_word.shape # n_docs x m_words\n"
      ],
      "metadata": {
        "colab": {
          "base_uri": "https://localhost:8080/"
        },
        "id": "lHyxkNg1Sa_z",
        "outputId": "2eb58b07-304e-4d0f-a581-d304280aeaf2"
      },
      "execution_count": 43,
      "outputs": [
        {
          "output_type": "execute_result",
          "data": {
            "text/plain": [
              "(5342, 19648)"
            ]
          },
          "metadata": {},
          "execution_count": 43
        }
      ]
    },
    {
      "cell_type": "code",
      "source": [
        "words[:20]"
      ],
      "metadata": {
        "colab": {
          "base_uri": "https://localhost:8080/"
        },
        "id": "HAaCzrZpSezJ",
        "outputId": "2db46505-5d7d-4226-eae7-fa12a73429f3"
      },
      "execution_count": 44,
      "outputs": [
        {
          "output_type": "execute_result",
          "data": {
            "text/plain": [
              "['Answer',\n",
              " 'Bangladesh',\n",
              " 'Dhaka',\n",
              " 'English',\n",
              " 'Fill',\n",
              " 'He',\n",
              " 'How',\n",
              " 'IMG0',\n",
              " 'IMG1',\n",
              " 'It',\n",
              " 'No',\n",
              " 'So',\n",
              " 'The',\n",
              " 'There',\n",
              " 'They',\n",
              " 'UNDP',\n",
              " 'UNESCO',\n",
              " 'UNICEF',\n",
              " 'WHO',\n",
              " 'What']"
            ]
          },
          "metadata": {},
          "execution_count": 44
        }
      ]
    },
    {
      "cell_type": "code",
      "source": [
        "anchors = [[\"ক্রীড়া\", \"রুপা\", \"স্বর্ণপদক\",  \"ব্রোঞ্জপদক\"], [\"নির্বাচন\",\"প্রার্থী\", \"চেয়ারম্যান\"], [\"পর্যটক\"], [\"উদযাপন\", \"নবান্ন\", \"উৎসব\"], [\"বিদ্রোহ\", \"কল্পনা\"], [\"মামলা\"] , [\"সরকার\", \"লুটপাট\", \"দুর্নীতি\", \"প্রশিক্ষণ\"], [ \"সেতু\", \"সংস্কার\", \"সংকট\", \"পানি\"], [\"বাংলাদেশ\", \"বিমানবাহিনী\", \"অফিসার\", \"ক্যাডেট\"] ]\n",
        "corex_model = ct.Corex(n_hidden=50, seed=1)\n",
        "corex_model.fit(doc_word, words=words, anchors=anchors, anchor_strength=3, docs=articles)"
      ],
      "metadata": {
        "colab": {
          "base_uri": "https://localhost:8080/"
        },
        "id": "hB4u2m4AKS-5",
        "outputId": "c6318d6f-f85e-44af-8c38-a2ede119938a"
      },
      "execution_count": 73,
      "outputs": [
        {
          "output_type": "stream",
          "name": "stdout",
          "text": [
            "WARNING: Anchor word not in word column labels provided to CorEx: বিমানবাহিনী\n"
          ]
        },
        {
          "output_type": "execute_result",
          "data": {
            "text/plain": [
              "<corextopic.corextopic.Corex at 0x7e4c303bf3d0>"
            ]
          },
          "metadata": {},
          "execution_count": 73
        }
      ]
    },
    {
      "cell_type": "code",
      "source": [
        "corex_model.tc"
      ],
      "metadata": {
        "colab": {
          "base_uri": "https://localhost:8080/"
        },
        "id": "tOmRVwW-nzqr",
        "outputId": "25e54a21-363b-419e-de15-8778207c35eb"
      },
      "execution_count": 85,
      "outputs": [
        {
          "output_type": "execute_result",
          "data": {
            "text/plain": [
              "137.05506096485365"
            ]
          },
          "metadata": {},
          "execution_count": 85
        }
      ]
    },
    {
      "cell_type": "code",
      "source": [
        "topics = corex_model.get_topics()\n",
        "for topic_n, topic in enumerate(topics):\n",
        "    # w: word, mi: mutual information, s: sign\n",
        "    topic = [(w, mi, s) if s > 0 else ('~' + str(w), mi, s) for w, mi, s in topic]\n",
        "    # Unpack the info about the topic\n",
        "    topic_words, mis, signs = zip(*topic)\n",
        "\n",
        "    topic_str = str(topic_n + 1) + ': ' + ', '.join(topic_words)\n",
        "    print(topic_str)\n"
      ],
      "metadata": {
        "colab": {
          "base_uri": "https://localhost:8080/"
        },
        "id": "KrToCYveLkmP",
        "outputId": "7491dc91-fe2b-415c-8a3e-af5f8f0cb185"
      },
      "execution_count": 74,
      "outputs": [
        {
          "output_type": "stream",
          "name": "stdout",
          "text": [
            "1: ক্রীড়া, আক্তার, ফুটবল, মহিলা, খাতুন, জাহান, মাঠে, সুলতানা, বঙ্গবন্ধু, পারভীন\n",
            "2: চেয়ারম্যান, রহমান, হক, আলম, আলী, আবু, হোসেন, উদ্দিন, ইসলাম, খান\n",
            "3: পর্যটক, পাহাড়, পাহাড়ের, নদীর, চলাচল, পর্যটকদের, পর্যটন, পানির, পানিতে, পাহাড়ি\n",
            "4: উৎসব, উদযাপন, সাংস্কৃতিক, বাংলা, ভাষা, উৎসবের, সংস্কৃতি, ধর্মীয়, সামাজিক, গান\n",
            "5: মনে, তখন, ছিল, যখন, বলতে, কি, নিজের, বিদ্রোহ, কীভাবে, হয়েছিল\n",
            "6: মামলা, পুলিশ, থানার, উদ্ধার, নিহত, ঘটনায়, ঘটনা, থানায়, ঘটনার, এলাকায়\n",
            "7: সরকার, প্রশিক্ষণ, মন্ত্রী, দুর্নীতি, মহাসচিব, শহীদুজ্জামান, পি, গণ, লুটপাট, অহিদ\n",
            "8: অনেক, পানি, বেশি, আছে, এখন, দেখা, সংকট, থাকে, কারণে, পারে\n",
            "9: বাংলাদেশ, ক্যাডেট, কাপেং, অ্যাসোসিয়েশন, ~দীঘিনালা, ইন্দিরা, ওজন, পল্লব, সৌজন্য, জঙ্গিবাদের\n",
            "10: সহকারী, কমিশনার, নির্বাহী, অতিরিক্ত, উপ, বন্দর, প্রকৌশলী, অফিসের, মংলা, পরিবহন\n",
            "11: চৌধুরী, রায়, সাংবাদিক, মজুমদার, দেওয়ান, শামসুল, আকবর, কাজল, দে, কান্তি\n",
            "12: চলে, একজন, থাকার, পেছনে, আরেক, বেঁচে, সেখান, দেখি, আগেই, আসেন\n",
            "13: চাষ, গাছ, বিক্রি, ধান, ফসল, গাছের, বন, চাষের, খাবার, বাগান\n",
            "14: জমি, প্রকল্প, উন্নয়ন, জমিতে, কোটি, প্রকল্পের, নির্মাণ, একর, ভূমি, টাকার\n",
            "15: রোহিঙ্গা, মিয়ানমারের, মিয়ানমার, রোহিঙ্গাদের, রাখাইন, রোহিঙ্গারা, মিয়ানমারে, মংডু, আশ্রয়, রাখাইনে\n",
            "16: চাকরি, এবার, পরীক্ষা, চূড়ান্ত, হার, পাস, করোনা, চাকরির, বাদ, পেতে\n",
            "17: দেখে, চোখ, লেখা, উঠে, ভেতর, ছবি, দাঁড়িয়ে, চোখের, মনের, দৃশ্য\n",
            "18: কী, কত, কোন, প্রশ্ন, নিচের, কোথায়, কোনটি, লাভ, নাম, ধর্মের\n",
            "19: যেমন, তৈরি, নানা, যার, সবচেয়ে, ইত্যাদি, প্রাকৃতিক, পৃথিবীর, তেমনি, প্রকৃতির\n",
            "20: তার, গ্রামের, ছেলে, তাকে, স্ত্রী, মা, বাড়ি, বাবা, এক, বাড়িতে\n",
            "21: ভারতের, বাংলাদেশে, রাজ্যের, ভারত, রাজ্যে, রাজ্য, জাতিসংঘের, দেশটির, উত্তর, ভারতীয়\n",
            "22: আগুন, হামলা, বাড়িঘর, পুড়িয়ে, পুড়ে, অগ্নিসংযোগ, হামলার, বাড়িঘরে, আগুনে, জ্বালিয়ে\n",
            "23: সরকারি, এবং, করা, প্রদান, প্রশাসন, বেসরকারি, বিতরণ, এতে, প্রশাসনের, হয়েছে\n",
            "24: আওয়ামী, লীগ, লীগের, নির্বাচনে, বিএনপি, বিএনপির, দলীয়, ভোট, আসনের, নির্বাচনের\n",
            "25: ক্ষেত্রে, সালের, প্রধানমন্ত্রী, বর্তমান, গ্রহণ, মন্ত্রণালয়, নিয়োগ, অনুযায়ী, সিদ্ধান্ত, উন্নয়নের\n",
            "26: রয়েছে, ধরনের, বলা, বসবাস, ব্যবহার, অঞ্চলে, এমনকি, কয়েকটি, প্রতিটি, খুবই\n",
            "27: একটু, গেল, হাত, বললেন, মায়ের, দ্বিতীয়, ঢাকার, মেয়েরা, নিয়েই, যোগ\n",
            "28: শিক্ষক, শিক্ষা, বিদ্যালয়ের, স্কুল, প্রাথমিক, বিদ্যালয়, কলেজ, শিক্ষার্থীদের, উচ্চ, বিদ্যালয়ে\n",
            "29: ঐতিহ্য, ইতিহাস, উপভোগ, গানের, মুগ্ধ, আনন্দ, আনন্দের, বরণ, সৌন্দর্যের, ঘিরে\n",
            "30: আমাদের, আর, আমরা, কথা, সেই, আমি, নয়, তাই, মতো, যদি\n",
            "31: শুরু, দিন, আগে, ধরে, থেকেই, নতুন, বছরের, শেষ, তিন, দু\n",
            "32: অতিথি, সভাপতিত্বে, অনুষ্ঠানে, উপস্থিত, প্রধান, ছিলেন, অনুষ্ঠিত, উদ্বোধন, সভায়, উপলক্ষে\n",
            "33: কোনো, যে, কিন্তু, নেই, তা, কিছু, বা, তবে, দিতে, সুযোগ\n",
            "34: মাঝে, দক্ষিণ, শহর, শহরের, পশ্চিম, সামনে, সবুজ, পূর্ব, বাজার, বের\n",
            "35: হতে, যাবে, অন্যান্য, তাতে, পাশাপাশি, অথবা, বৃদ্ধি, বলছে, সময়ের, অবশ্য\n",
            "36: গেছে, অভিযোগ, ওই, ব্যাপারে, জানা, বিরুদ্ধে, দেয়ার, গত, টাকা, বিষয়টি\n",
            "37: না, করতে, হবে, জন্য, হচ্ছে, করার, কাজ, বলেন, তিনি, এসব\n",
            "38: সরকারের, বলেছেন, চুক্তি, আইন, চুক্তির, মানবাধিকার, বাস্তবায়ন, জনগণের, কমিশন, আহ্বান\n",
            "39: আদিবাসী, ক্ষুদ্র, সাঁওতাল, নৃ, সাঁওতালদের, আদিবাসীদের, গোষ্ঠীর, অধিকার, সাহেবগঞ্জ, সরেন\n",
            "40: ডা, মো, সদর, হোসেনের, সার্জন, জন, স্বাস্থ্য, সিভিল, কর্মকর্তা, নুর\n",
            "41: নিয়ে, তারা, সঙ্গে, তাদের, পর, দিয়ে, সে, একটি, বলে, সেখানে\n",
            "42: হয়ে, প্রায়, যায়, পড়ে, আসে, পাওয়া, আসা, থাকা, কয়েক, পরিবার\n",
            "43: বিশ্ববিদ্যালয়ের, অধ্যাপক, বিশ্ববিদ্যালয়, ঢাকা, জাতীয়, বিজ্ঞান, প্রযুক্তি, প্রফেসর, বিশ্ববিদ্যালয়ে, মুজিবুর\n",
            "44: সভাপতি, বক্তব্য, সম্পাদক, প্রমুখ, রাখেন, সাধারণ, সমাবেশে, সমাবেশ, কেন্দ্রীয়, কমিটির\n",
            "45: আদালত, আদালতে, মামলায়, আদালতের, মামলার, আসামি, দায়ের, ম্যাজিস্ট্রেট, কারাদণ্ড, ভ্রাম্যমাণ\n",
            "46: বাংলাদেশের, দেশের, দেশ, সালে, দেশে, প্রথম, রাষ্ট্র, স্বাধীনতা, আন্তর্জাতিক, বিষয়\n",
            "47: সিলেট, হবিগঞ্জ, মৌলভীবাজার, সুনামগঞ্জ, সিলেটের, কিশোরগঞ্জ, গাজীপুর, কমলগঞ্জ, শ্রীমঙ্গল, মৌলভীবাজারের\n",
            "48: পর্যন্ত, মধ্যে, এর, হাজার, দেয়া, বিভিন্ন, নেয়া, মাধ্যমে, সময়ে, লাখ\n",
            "49: হিসেবে, রাজনৈতিক, ঐতিহাসিক, অর্জন, সকল, অংশ, সম্পর্ক, সমৃদ্ধ, সমাজের, সমাজ\n",
            "50: সব, মানুষ, মানুষের, যেন, প্রতি, নিজেদের, হোক, করবে, এসেছে, অর্থনৈতিক\n"
          ]
        }
      ]
    },
    {
      "cell_type": "code",
      "source": [
        "top_docs = corex_model.get_top_docs(n_docs=200, sort_by=\"tc\")\n",
        "THRESHOLD = 20.0\n",
        "docs_per_topic = []\n",
        "total_docs = 0\n",
        "for topic_n, top_docs in enumerate(top_docs):\n",
        "    docs, probs = zip(*top_docs)\n",
        "    top_docs_above_threshold = [doc for doc,prob in zip(docs,probs) if prob > THRESHOLD]\n",
        "    docs_per_topic.append(top_docs_above_threshold)\n",
        "    total_docs += len(top_docs_above_threshold)\n",
        "    print(f'Topic {topic_n}: {len(top_docs_above_threshold)}')\n",
        "print(total_docs)"
      ],
      "metadata": {
        "id": "BjiiODF2MIKe",
        "colab": {
          "base_uri": "https://localhost:8080/"
        },
        "outputId": "b1d77019-bc7c-495c-d614-79bcd5bc008d"
      },
      "execution_count": 104,
      "outputs": [
        {
          "output_type": "stream",
          "name": "stdout",
          "text": [
            "WARNING: sorting by logz not well tested\n",
            "Topic 0: 200\n",
            "Topic 1: 200\n",
            "Topic 2: 126\n",
            "Topic 3: 199\n",
            "Topic 4: 172\n",
            "Topic 5: 200\n",
            "Topic 6: 0\n",
            "Topic 7: 194\n",
            "Topic 8: 0\n",
            "Topic 9: 106\n",
            "Topic 10: 106\n",
            "Topic 11: 120\n",
            "Topic 12: 120\n",
            "Topic 13: 55\n",
            "Topic 14: 200\n",
            "Topic 15: 23\n",
            "Topic 16: 89\n",
            "Topic 17: 200\n",
            "Topic 18: 164\n",
            "Topic 19: 141\n",
            "Topic 20: 93\n",
            "Topic 21: 60\n",
            "Topic 22: 21\n",
            "Topic 23: 158\n",
            "Topic 24: 126\n",
            "Topic 25: 6\n",
            "Topic 26: 74\n",
            "Topic 27: 120\n",
            "Topic 28: 169\n",
            "Topic 29: 200\n",
            "Topic 30: 27\n",
            "Topic 31: 200\n",
            "Topic 32: 122\n",
            "Topic 33: 37\n",
            "Topic 34: 70\n",
            "Topic 35: 40\n",
            "Topic 36: 34\n",
            "Topic 37: 136\n",
            "Topic 38: 47\n",
            "Topic 39: 142\n",
            "Topic 40: 84\n",
            "Topic 41: 28\n",
            "Topic 42: 43\n",
            "Topic 43: 193\n",
            "Topic 44: 150\n",
            "Topic 45: 134\n",
            "Topic 46: 139\n",
            "Topic 47: 20\n",
            "Topic 48: 68\n",
            "Topic 49: 40\n",
            "5396\n"
          ]
        }
      ]
    },
    {
      "cell_type": "code",
      "source": [
        "joblib.dump(docs_per_topic, \"/content/drive/MyDrive/Representation Discrimination/docs_per_topic_28July.joblib\")"
      ],
      "metadata": {
        "colab": {
          "base_uri": "https://localhost:8080/"
        },
        "id": "VEHOHNXJh1YI",
        "outputId": "7354ee44-52a0-4cff-c6f6-ffd264d13940"
      },
      "execution_count": 109,
      "outputs": [
        {
          "output_type": "execute_result",
          "data": {
            "text/plain": [
              "['/content/drive/MyDrive/Representation Discrimination/docs_per_topic_28July.joblib']"
            ]
          },
          "metadata": {},
          "execution_count": 109
        }
      ]
    },
    {
      "cell_type": "code",
      "source": [],
      "metadata": {
        "id": "id6T2za3qDHM"
      },
      "execution_count": null,
      "outputs": []
    }
  ],
  "metadata": {
    "colab": {
      "machine_shape": "hm",
      "provenance": []
    },
    "kernelspec": {
      "display_name": "Python 3",
      "name": "python3"
    },
    "language_info": {
      "name": "python"
    }
  },
  "nbformat": 4,
  "nbformat_minor": 0
}