{
  "cells": [
    {
      "cell_type": "code",
      "execution_count": null,
      "metadata": {
        "colab": {
          "base_uri": "https://localhost:8080/"
        },
        "id": "aQ2qWlPUU8f7",
        "outputId": "b6b39528-650d-4b30-8677-eed05ddd073d"
      },
      "outputs": [
        {
          "output_type": "stream",
          "name": "stdout",
          "text": [
            "Mounted at /content/drive\n"
          ]
        }
      ],
      "source": [
        "from google.colab import drive\n",
        "drive.mount(\"/content/drive\")"
      ]
    },
    {
      "cell_type": "code",
      "source": [
        "!ls /content/drive/MyDrive/Representation\\ Discrimination/data"
      ],
      "metadata": {
        "colab": {
          "base_uri": "https://localhost:8080/"
        },
        "id": "TARfkJujj-Pc",
        "outputId": "4cf48d34-ad77-4e60-d96a-93b04238f338"
      },
      "execution_count": null,
      "outputs": [
        {
          "output_type": "stream",
          "name": "stdout",
          "text": [
            "description_style_frequency_ethnic5132_100_exp2.png\n",
            "description_style_frequency_ethnic5132_100.png\n",
            "description_style_frequency_nonethnic5133_100_exp2.png\n",
            "description_style_frequency_nonethnic5133_100.png\n",
            "description_style_frequency.png\n",
            "ethnic_100_gemini15Flash_annotated.csv\n",
            "ethnic_100_gemini15Flash_annotated_exp2.csv\n",
            "ethnic-article-finding-process.png\n",
            "ethnic_dataset_4893_after_removing_rakhain.csv\n",
            "ethnic_dataset_cleaned.joblib\n",
            "ethnic_dataset_exp0_5342_annotated_1-151.csv\n",
            "ethnic_dataset_exp0_5342_gemini1.5flash_annotate_1_100.joblib\n",
            "ethnic_dataset_exp0_5342_gemini1.5flash_annotate_1_100_nonethnic.joblib\n",
            "genre_frequency_ethnic5132_100_exp2.png\n",
            "genre_frequency_nonethnic5133_100_exp2.png\n",
            "genre_frequency_nonethnic5133_100.png\n",
            "genre_frequency.png\n",
            "nonethnic_100_gemini15Flash_annotated.csv\n",
            "nonethnic_100_gemini15Flash_annotated_exp2.csv\n",
            "nonethnic_dataset_100k.joblib\n",
            "nonethnic_dataset_exp0_5342_gemini1.5flash_annotate_1_100.joblib\n",
            "nonethnic_dataset.joblib\n",
            "SolaimanLipi.ttf\n"
          ]
        }
      ]
    },
    {
      "cell_type": "code",
      "execution_count": null,
      "metadata": {
        "id": "w8P8cR3cp0gc",
        "colab": {
          "base_uri": "https://localhost:8080/"
        },
        "outputId": "04f581b5-cd82-4ff1-927d-a3cba5052cba"
      },
      "outputs": [
        {
          "output_type": "execute_result",
          "data": {
            "text/plain": [
              "100003"
            ]
          },
          "metadata": {},
          "execution_count": 3
        }
      ],
      "source": [
        "import pandas as pd\n",
        "import joblib\n",
        "nonethnic_articles = joblib.load(\"/content/drive/MyDrive/Representation Discrimination/data/nonethnic_dataset_100k.joblib\")\n",
        "len(nonethnic_articles)"
      ]
    },
    {
      "cell_type": "code",
      "source": [
        "nonethnic_articles[0]"
      ],
      "metadata": {
        "colab": {
          "base_uri": "https://localhost:8080/",
          "height": 105
        },
        "id": "RMB1AL-BJOqH",
        "outputId": "c040c9cb-0b9f-4d5f-aee7-bfbf3b879bc9"
      },
      "execution_count": null,
      "outputs": [
        {
          "output_type": "execute_result",
          "data": {
            "text/plain": [
              "'<p>কার্তিক শেষ হলো কাল। আজ অগ্রহায়ণের প্রথম দিন। শীতের আগমনী বার্তা এখন রাজধানীর আকাশে-বাতাসে। এমন আবহাওয়ায় গতকাল সন্ধ্যায় সেগুনবাগিচার শিল্পকলা একাডেমির জাতীয় নাট্যশালায় মিলনায়তন নিক্বণধ্বনিতে জমে উঠেছিল। এখানে শুরু হয় নয় দিনের দ্বিতীয় জাতীয় নৃত্যনাট্য উৎসব।<br />সোমবার সন্ধ্যায় শিল্পকলা একাডেমির মূল হলে উৎসবের উদ্বোধন করেন অর্থমন্ত্রী আবুল মাল আবদুল মুহিত। অর্থমন্ত্রী সমাজ রক্ষা, উন্নয়ন, মানবিক গুণাবলি বিকাশের জন্যও নৃত্যনাট্য চর্চার গুরুত্ব রয়েছে বলে মন্তব্য করেন। তিনি বলেন, ‘সংস্কৃতির নানা মাধ্যমের মধ্যে নৃত্যনাট্য একটি শক্তিশালী মাধ্যম, যা নানা শিক্ষা দেয়। এই মাধ্যম থেকে রস আস্বাদন করে আমরা সমৃদ্ধ হতে পারি।’<br />অনুষ্ঠানে বিশেষ অতিথির বক্তব্য দেন সংস্কৃতিসচিব আকতারী মমতাজ। আরও বক্তব্য দেন নাট্যব্যক্তিত্ব নাসির উদ্দীন ইউসুফ, প্রবীণ নৃত্যশিল্পী রাহিজা খানম ও বাংলাদেশ নৃত্যশিল্পী সংস্থার সভাপতি মিনু হক। সভাপতিত্ব করেন শিল্পকলা একাডেমির মহাপরিচালক লিয়াকত আলী। রাহিজা খানম সংস্কৃতি খাতে বাজেটের অপ্রতুলতার দিকটি তুলে ধরে বলেন, ‘বাজেটের জন্য আমরা অনেক ভালো কাজ করতে চেয়েও পারি না।’ তার কথার সূত্র ধরে সংস্কৃতি খাতে সরকারি পৃষ্ঠপোষকতা বাড়ানোর দাবি জানান নাসির উদ্দীন ইউসুফ। জাতীয় উৎসবগুলো কেন্দ্রীয়ভাবে হওয়ার চেয়ে সারা দেশের স্কুল-কলেজে হওয়াই গুরুত্বপূর্ণ বলে মন্তব্য করেন তিনি।<br />উদ্বোধন ও বক্তৃতাপর্ব শেষে ফারহানা চৌধুরীর পরিচালনায় বাংলাদেশ একাডেমি অব ফাইন আর্টস পরিবেশন করে নৃত্যনাট্য নকশী কাঁথার মাঠ।</p>'"
            ],
            "application/vnd.google.colaboratory.intrinsic+json": {
              "type": "string"
            }
          },
          "metadata": {},
          "execution_count": 4
        }
      ]
    },
    {
      "cell_type": "markdown",
      "source": [
        "### COREX"
      ],
      "metadata": {
        "id": "CSvMJjSP5229"
      }
    },
    {
      "cell_type": "code",
      "source": [
        "!pip install corextopic\n",
        "!!wget -O stop_words.txt https://raw.githubusercontent.com/aljubaer/Topic-Modeling-in-Bengali/master/code/stop_words.txt\n"
      ],
      "metadata": {
        "colab": {
          "base_uri": "https://localhost:8080/"
        },
        "id": "ODQoykXA55jR",
        "outputId": "8d7faa44-da7c-4421-d823-18c20b9ee47d"
      },
      "execution_count": null,
      "outputs": [
        {
          "output_type": "stream",
          "name": "stdout",
          "text": [
            "Collecting corextopic\n",
            "  Downloading corextopic-1.1-py3-none-any.whl.metadata (12 kB)\n",
            "Downloading corextopic-1.1-py3-none-any.whl (27 kB)\n",
            "Installing collected packages: corextopic\n",
            "Successfully installed corextopic-1.1\n"
          ]
        },
        {
          "output_type": "execute_result",
          "data": {
            "text/plain": [
              "['--2024-08-17 04:55:53--  https://raw.githubusercontent.com/aljubaer/Topic-Modeling-in-Bengali/master/code/stop_words.txt',\n",
              " 'Resolving raw.githubusercontent.com (raw.githubusercontent.com)... 185.199.108.133, 185.199.109.133, 185.199.111.133, ...',\n",
              " 'Connecting to raw.githubusercontent.com (raw.githubusercontent.com)|185.199.108.133|:443... connected.',\n",
              " 'HTTP request sent, awaiting response... 200 OK',\n",
              " 'Length: 5443 (5.3K) [text/plain]',\n",
              " 'Saving to: ‘stop_words.txt’',\n",
              " '',\n",
              " '',\n",
              " 'stop_words.txt        0%[                    ]       0  --.-KB/s               ',\n",
              " 'stop_words.txt      100%[===================>]   5.32K  --.-KB/s    in 0s      ',\n",
              " '',\n",
              " '2024-08-17 04:55:53 (32.8 MB/s) - ‘stop_words.txt’ saved [5443/5443]',\n",
              " '']"
            ]
          },
          "metadata": {},
          "execution_count": 5
        }
      ]
    },
    {
      "cell_type": "code",
      "source": [
        "stopwords_file = open('stop_words.txt', \"r+\", encoding='utf-8')\n",
        "all_stopwords = stopwords_file.read()\n",
        "stopwords = [word.strip() for word in all_stopwords.split()]\n",
        "print(stopwords)"
      ],
      "metadata": {
        "colab": {
          "base_uri": "https://localhost:8080/"
        },
        "id": "WkMiexkAK3bG",
        "outputId": "9ebf7fdd-5858-42f1-c4de-e8229a93d6de"
      },
      "execution_count": null,
      "outputs": [
        {
          "output_type": "stream",
          "name": "stdout",
          "text": [
            "['অতএব', 'অথচ', 'অথবা', 'অনুযায়ী', 'অনেক', 'অনেকে', 'অনেকেই', 'অন্তত', 'অন্য', 'অবধি', 'অবশ্য', 'অর্থাত', 'আই', 'আগামী', 'আগে', 'আগেই', 'আছে', 'আজ', 'আদ্যভাগে', 'আপনার', 'আপনি', 'আবার', 'আমরা', 'আমাকে', 'আমাদের', 'আমার', 'আমি', 'আর', 'আরও', 'ই', 'ইত্যাদি', 'ইহা', 'উচিত', 'উত্তর', 'উনি', 'উপর', 'উপরে', 'এ', 'এঁদের', 'এঁরা', 'এই', 'একই', 'একটি', 'একবার', 'একে', 'এক্', 'এখন', 'এখনও', 'এখানে', 'এখানেই', 'এটা', 'এটাই', 'এটি', 'এত', 'এতটাই', 'এতে', 'এদের', 'এব', 'এবং', 'এবার', 'এমন', 'এমনকী', 'এমনি', 'এর', 'এরা', 'এল', 'এস', 'এসে', 'ঐ', 'ও', 'ওঁদের', 'ওঁর', 'ওঁরা', 'ওই', 'ওকে', 'ওখানে', 'ওদের', 'ওর', 'ওরা', 'কখনও', 'কত', 'কবে', 'কমনে', 'কয়েক', 'কয়েকটি', 'করছে', 'করছেন', 'করতে', 'করবে', 'করবেন', 'করলে', 'করলেন', 'করা', 'করাই', 'করায়', 'করার', 'করি', 'করিতে', 'করিয়া', 'করিয়ে', 'করে', 'করেই', 'করেছিলেন', 'করেছে', 'করেছেন', 'করেন', 'কাউকে', 'কাছ', 'কাছে', 'কাজ', 'কাজে', 'কারও', 'কারণ', 'কি', 'কিংবা', 'কিছু', 'কিছুই', 'কিন্তু', 'কী', 'কে', 'কেউ', 'কেউই', 'কেখা', 'কেন', 'কোটি', 'কোন', 'কোনও', 'কোনো', 'ক্ষেত্রে', 'কয়েক', 'খুব', 'গিয়ে', 'গিয়েছে', 'গিয়ে', 'গুলি', 'গেছে', 'গেল', 'গেলে', 'গোটা', 'চলে', 'চান', 'চায়', 'চার', 'চালু', 'চেয়ে', 'চেষ্টা', 'ছাড়া', 'ছাড়াও', 'ছিল', 'ছিলেন', 'জন', 'জনকে', 'জনের', 'জন্য', 'জন্যওজে', 'জানতে', 'জানা', 'জানানো', 'জানায়', 'জানিয়ে', 'জানিয়েছে', 'জে', 'জ্নজন', 'টি', 'ঠিক', 'তখন', 'তত', 'তথা', 'তবু', 'তবে', 'তা', 'তাঁকে', 'তাঁদের', 'তাঁর', 'তাঁরা', 'তাঁাহারা', 'তাই', 'তাও', 'তাকে', 'তাতে', 'তাদের', 'তার', 'তারপর', 'তারা', 'তারৈ', 'তাহলে', 'তাহা', 'তাহাতে', 'তাহার', 'তিনঐ', 'তিনি', 'তিনিও', 'তুমি', 'তুলে', 'তেমন', 'তো', 'তোমার', 'থাকবে', 'থাকবেন', 'থাকা', 'থাকায়', 'থাকে', 'থাকেন', 'থেকে', 'থেকেই', 'থেকেও', 'দিকে', 'দিতে', 'দিন', 'দিয়ে', 'দিয়েছে', 'দিয়েছেন', 'দিলেন', 'দু', 'দুই', 'দুটি', 'দুটো', 'দেওয়া', 'দেওয়ার', 'দেওয়া', 'দেখতে', 'দেখা', 'দেখে', 'দেন', 'দেয়', 'দ্বারা', 'ধরা', 'ধরে', 'ধামার', 'নতুন', 'নয়', 'না', 'নাই', 'নাকি', 'নাগাদ', 'নানা', 'নিজে', 'নিজেই', 'নিজেদের', 'নিজের', 'নিতে', 'নিয়ে', 'নিয়ে', 'নেই', 'নেওয়া', 'নেওয়ার', 'নেওয়া', 'নয়', 'পক্ষে', 'পর', 'পরে', 'পরেই', 'পরেও', 'পর্যন্ত', 'পাওয়া', 'পাচ', 'পারি', 'পারে', 'পারেন', 'পি', 'পেয়ে', 'পেয়্র্', 'প্রতি', 'প্রথম', 'প্রভৃতি', 'প্রযন্ত', 'প্রাথমিক', 'প্রায়', 'প্রায়', 'ফলে', 'ফিরে', 'ফের', 'বক্তব্য', 'বদলে', 'বন', 'বরং', 'বলতে', 'বলল', 'বললেন', 'বলা', 'বলে', 'বলেছেন', 'বলেন', 'বসে', 'বহু', 'বা', 'বাদে', 'বার', 'বি', 'বিনা', 'বিভিন্ন', 'বিশেষ', 'বিষয়টি', 'বেশ', 'বেশি', 'ব্যবহার', 'ব্যাপারে', 'ভাবে', 'ভাবেই', 'মতো', 'মতোই', 'মধ্যভাগে', 'মধ্যে', 'মধ্যেই', 'মধ্যেও', 'মনে', 'মাত্র', 'মাধ্যমে', 'মোট', 'মোটেই', 'যখন', 'যত', 'যতটা', 'যথেষ্ট', 'যদি', 'যদিও', 'যা', 'যাঁর', 'যাঁরা', 'যাওয়া', 'যাওয়ার', 'যাওয়া', 'যাকে', 'যাচ্ছে', 'যাতে', 'যাদের', 'যান', 'যাবে', 'যায়', 'যার', 'যারা', 'যিনি', 'যে', 'যেখানে', 'যেতে', 'যেন', 'যেমন', 'র', 'রকম', 'রয়েছে', 'রাখা', 'রেখে', 'লক্ষ', 'শুধু', 'শুরু', 'সঙ্গে', 'সঙ্গেও', 'সব', 'সবার', 'সমস্ত', 'সম্প্রতি', 'সহ', 'সহিত', 'সাধারণ', 'সামনে', 'সি', 'সুতরাং', 'সে', 'সেই', 'সেখান', 'সেখানে', 'সেটা', 'সেটাই', 'সেটাও', 'সেটি', 'স্পষ্ট', 'স্বয়ং', 'হইতে', 'হইবে', 'হইয়া', 'হওয়া', 'হওয়ায়', 'হওয়ার', 'হচ্ছে', 'হত', 'হতে', 'হতেই', 'হন', 'হবে', 'হবেন', 'হয়', 'হয়তো', 'হয়নি', 'হয়ে', 'হয়েই', 'হয়েছিল', 'হয়েছে', 'হয়েছেন', 'হল', 'হলে', 'হলেই', 'হলেও', 'হলো', 'হাজার', 'হিসাবে', 'হৈলে', 'হোক', 'হয়']\n"
          ]
        }
      ]
    },
    {
      "cell_type": "code",
      "source": [
        "import numpy as np\n",
        "from sklearn.feature_extraction.text import CountVectorizer\n",
        "from corextopic import corextopic as ct\n",
        "import scipy.sparse as ss\n",
        "import regex\n",
        "\n",
        "def custom_analyzer(text):\n",
        "    words = regex.findall(r'\\w{2,}', text) # extract words of at least 2 letters\n",
        "    for w in words:\n",
        "        yield w\n",
        "\n",
        "vectorizer = CountVectorizer(stop_words=stopwords, analyzer = custom_analyzer, max_features=50000, binary=True)\n",
        "doc_word = vectorizer.fit_transform(nonethnic_articles)\n",
        "doc_word = ss.csr_matrix(doc_word)\n",
        "\n",
        "doc_word.shape # n_docs x m_words"
      ],
      "metadata": {
        "id": "6r-HFRtX4eF8",
        "colab": {
          "base_uri": "https://localhost:8080/"
        },
        "outputId": "74b1d397-82a4-4646-b101-d2f751d5a60f"
      },
      "execution_count": null,
      "outputs": [
        {
          "output_type": "stream",
          "name": "stderr",
          "text": [
            "/usr/local/lib/python3.10/dist-packages/sklearn/feature_extraction/text.py:547: UserWarning: The parameter 'stop_words' will not be used since 'analyzer' != 'word'\n",
            "  warnings.warn(\n"
          ]
        },
        {
          "output_type": "execute_result",
          "data": {
            "text/plain": [
              "(100003, 50000)"
            ]
          },
          "metadata": {},
          "execution_count": 7
        }
      ]
    },
    {
      "cell_type": "code",
      "source": [
        "words = list(np.asarray(vectorizer.get_feature_names_out()))"
      ],
      "metadata": {
        "id": "crVMtbI7PdqA"
      },
      "execution_count": null,
      "outputs": []
    },
    {
      "cell_type": "code",
      "source": [
        "not_digit_inds = [ind for ind,word in enumerate(words) if not word.isdigit()]\n",
        "doc_word = doc_word[:,not_digit_inds]\n",
        "words    = [word for ind,word in enumerate(words) if not word.isdigit()]\n",
        "\n",
        "doc_word.shape # n_docs x m_words\n"
      ],
      "metadata": {
        "colab": {
          "base_uri": "https://localhost:8080/"
        },
        "id": "lHyxkNg1Sa_z",
        "outputId": "17c0bbe7-7f3f-4eb0-cc8d-aa014d98474f"
      },
      "execution_count": null,
      "outputs": [
        {
          "output_type": "execute_result",
          "data": {
            "text/plain": [
              "(100003, 48906)"
            ]
          },
          "metadata": {},
          "execution_count": 9
        }
      ]
    },
    {
      "cell_type": "code",
      "source": [
        "words[10000:10020]"
      ],
      "metadata": {
        "colab": {
          "base_uri": "https://localhost:8080/"
        },
        "id": "HAaCzrZpSezJ",
        "outputId": "ab765447-7f1b-420a-ebe5-48eead300c13"
      },
      "execution_count": null,
      "outputs": [
        {
          "output_type": "execute_result",
          "data": {
            "text/plain": [
              "['কানু',\n",
              " 'কানুন',\n",
              " 'কানুনের',\n",
              " 'কানে',\n",
              " 'কানেকটিকাট',\n",
              " 'কানেকটিভিটি',\n",
              " 'কানেকশন',\n",
              " 'কানেক্ট',\n",
              " 'কানেক্টিভিটি',\n",
              " 'কানের',\n",
              " 'কান্ট্রি',\n",
              " 'কান্ডারি',\n",
              " 'কান্ত',\n",
              " 'কান্তি',\n",
              " 'কান্তে',\n",
              " 'কান্দাপাড়া',\n",
              " 'কান্দাহার',\n",
              " 'কান্দি',\n",
              " 'কান্দিরপাড়',\n",
              " 'কান্দে']"
            ]
          },
          "metadata": {},
          "execution_count": 10
        }
      ]
    },
    {
      "cell_type": "code",
      "source": [
        "anchors_genre_mapping = {\n",
        "    \"Politics\": [\"নির্বাচন\", \"দল\", \"মন্ত্রী\", \"সংসদ\", \"ভোট\", \"প্রার্থী\", \"সরকার\"],\n",
        "    \"Crime\": [\"হত্যা\", \"ডাকাতি\", \"ধর্ষণ\", \"মামলা\", \"পুলিশ\", \"গ্রেফতার\", \"জেল\"],\n",
        "    \"International Affairs\": [\"জাতিসংঘ\", \"বৈঠক\", \"যুদ্ধ\", \"শান্তি\", \"চুক্তি\", \"কূটনীতি\"],\n",
        "    \"Business & Economy\": [\"শেয়ারবাজার\", \"বিনিয়োগ\", \"মুদ্রাস্ফীতি\", \"ব্যাংক\", \"বাণিজ্য\", \"বাজেট\"],\n",
        "    \"Sports\": [\"খেলা\", \"ক্রিকেট\", \"ফুটবল\", \"ম্যাচ\", \"স্বর্ণপদক\", \"প্রতিযোগিতা\"],\n",
        "    \"Culture & Entertainment\": [\"সিনেমা\", \"নাটক\", \"সংগীত\", \"উৎসব\", \"নাচ\", \"অভিনয়\"],\n",
        "    \"Jobs\": [\"নিয়োগ\", \"পরীক্ষা\", \"চাকরি\", \"কর্মসংস্থান\", \"ইন্টারভিউ\"],\n",
        "    \"Lifestyle\": [\"ফ্যাশন\", \"খাদ্য\", \"ভ্রমণ\", \"বাড়ি\", \"স্বাস্থ্য\", \"রূপচর্চা\"],\n",
        "    \"Health\": [\"রোগ\", \"চিকিৎসা\", \"হাসপাতাল\", \"স্বাস্থ্যবিধি\", \"ওষুধ\", \"টিকা\"],\n",
        "    \"Environment\": [\"জলবায়ু\", \"দূষণ\", \"বনায়ন\", \"প্রাণী\", \"সংরক্ষণ\", \"নদী\"],\n",
        "    \"Local News\": [\"ইউনিয়ন\", \"গ্রাম\", \"মসজিদ\", \"সড়ক\", \"উন্নয়ন\", \"বাজার\"],\n",
        "    \"Education\": [\"পাঠ্যক্রম\", \"স্কুল\", \"পরীক্ষা\", \"শিক্ষার্থী\", \"শিক্ষক\", \"বিশ্ববিদ্যালয়\"],\n",
        "    \"Technology\": [\"আইটি\", \"মোবাইল\", \"ইন্টারনেট\", \"সফটওয়্যার\", \"ডেটা\", \"প্রযুক্তি\"],\n",
        "    \"Religion\": [\"ইসলাম\", \"মসজিদ\", \"ধর্ম\", \"পূজা\", \"উপাসনা\", \"ধর্মপ্রচার\"],\n",
        "    \"Science\": [\"গবেষণা\", \"বিজ্ঞানী\", \"আবিষ্কার\", \"প্রযুক্তি\", \"মহাকাশ\", \"পরিবেশ\"],\n",
        "    \"Protests and Social Movements\": [\"বিক্ষোভ\", \"ধর্মঘট\", \"আন্দোলন\", \"মানববন্ধন\", \"অধিকার\", \"পিকেটিং\"],\n",
        "    \"Government Actions\": [\"নীতি\", \"উন্নয়ন\", \"বাজেট\", \"প্রকল্প\", \"আইন\", \"প্রশিক্ষণ\"]\n",
        "}"
      ],
      "metadata": {
        "id": "3CDgjff-sNeL"
      },
      "execution_count": null,
      "outputs": []
    },
    {
      "cell_type": "code",
      "source": [
        "anchors = anchors_genre_mapping.values()\n",
        "corex_model = ct.Corex(n_hidden=50, seed=1)\n",
        "corex_model.fit(doc_word, words=words, anchors=anchors, anchor_strength=3, docs=nonethnic_articles)"
      ],
      "metadata": {
        "colab": {
          "base_uri": "https://localhost:8080/"
        },
        "id": "hB4u2m4AKS-5",
        "outputId": "ff313709-15da-4a8c-a82c-07dc1386a895"
      },
      "execution_count": null,
      "outputs": [
        {
          "output_type": "stream",
          "name": "stdout",
          "text": [
            "WARNING: Anchor word not in word column labels provided to CorEx: চাকরি\n",
            "WARNING: Anchor word not in word column labels provided to CorEx: বনায়ন\n",
            "WARNING: Anchor word not in word column labels provided to CorEx: ধর্মপ্রচার\n"
          ]
        },
        {
          "output_type": "execute_result",
          "data": {
            "text/plain": [
              "<corextopic.corextopic.Corex at 0x78e8278da770>"
            ]
          },
          "metadata": {},
          "execution_count": 12
        }
      ]
    },
    {
      "cell_type": "code",
      "source": [
        "corex_model.tc"
      ],
      "metadata": {
        "colab": {
          "base_uri": "https://localhost:8080/"
        },
        "id": "tOmRVwW-nzqr",
        "outputId": "b31a32f0-7143-4bcb-9fa7-991025aa721f"
      },
      "execution_count": null,
      "outputs": [
        {
          "output_type": "execute_result",
          "data": {
            "text/plain": [
              "55.4916729561928"
            ]
          },
          "metadata": {},
          "execution_count": 13
        }
      ]
    },
    {
      "cell_type": "code",
      "source": [
        "topics = corex_model.get_topics()\n",
        "for topic_n, topic in enumerate(topics):\n",
        "    # w: word, mi: mutual information, s: sign\n",
        "    topic = [(w, mi, s) if s > 0 else ('~' + str(w), mi, s) for w, mi, s in topic]\n",
        "    # Unpack the info about the topic\n",
        "    topic_words, mis, signs = zip(*topic)\n",
        "\n",
        "    topic_str = str(topic_n + 1) + ': ' + ', '.join(topic_words)\n",
        "    print(topic_str)\n"
      ],
      "metadata": {
        "colab": {
          "base_uri": "https://localhost:8080/"
        },
        "id": "KrToCYveLkmP",
        "outputId": "cefce79a-4e4b-4a11-e3b9-2fe97190b08f"
      },
      "execution_count": null,
      "outputs": [
        {
          "output_type": "stream",
          "name": "stdout",
          "text": [
            "1: সরকার, নির্বাচন, সংসদ, প্রার্থী, মন্ত্রী, ভোট, নির্বাচনে, সরকারের, দল, নির্বাচনের\n",
            "2: পুলিশ, মামলা, হত্যা, গ্রেফতার, থানার, ঘটনায়, থানায়, উদ্ধার, ওসি, পুলিশের\n",
            "3: বৈঠক, চুক্তি, শান্তি, যুদ্ধ, প্রেসিডেন্ট, জাতিসংঘ, মার্কিন, দেশটির, যুক্তরাষ্ট্রের, যুক্তরাষ্ট্র\n",
            "4: ব্যাংক, বাণিজ্য, বাজেট, ব্যাংকের, শতাংশ, প্রতিষ্ঠান, অর্থ, খাতে, পণ্য, খাতের\n",
            "5: ম্যাচ, ক্রিকেট, খেলা, ফুটবল, ম্যাচে, বিপক্ষে, রান, ম্যাচের, উইকেট, দলের\n",
            "6: নাটক, উৎসব, সিনেমা, সংগীত, গান, অভিনয়, ছবির, ছবি, শিল্পী, গানের\n",
            "7: পরীক্ষা, হবে, জন্য, হলে, দিতে, নিতে, পর্যন্ত, আরও, সিদ্ধান্ত, থাকবে\n",
            "8: স্বাস্থ্য, খাদ্য, বাড়ি, ভ্রমণ, ফ্যাশন, কমপ্লেক্সে, কমপ্লেক্সের, কমপ্লেক্স, স্বাস্থ্যসেবা, পুষ্টি\n",
            "9: চিকিৎসা, হাসপাতাল, হাসপাতালে, ওষুধ, মেডিকেল, রোগ, টিকা, কলেজ, আক্রান্ত, হাসপাতালের\n",
            "10: নদী, সংরক্ষণ, পানি, প্রাণী, নদীর, পানির, পানিতে, দূষণ, বৃষ্টি, মাটি\n",
            "11: বাজার, গ্রাম, মসজিদ, সড়ক, উন্নয়ন, নির্মাণ, ইউনিয়ন, নির্মাণের, ভবন, সরেজমিনে\n",
            "12: শিক্ষক, পরীক্ষা, শিক্ষার্থী, স্কুল, বিশ্ববিদ্যালয়ের, শিক্ষার্থীদের, বিশ্ববিদ্যালয়, শিক্ষা, শিক্ষার্থীরা, কলেজের\n",
            "13: মোবাইল, প্রযুক্তি, ইন্টারনেট, আইটি, ফোন, কম্পিউটার, ডেটা, ফেসবুক, ফোনে, ডিজিটাল\n",
            "14: ইসলাম, রহমান, হোসেন, প্রমুখ, ছিলেন, উপস্থিত, হক, আলম, চৌধুরী, দেন\n",
            "15: পরিবেশ, প্রযুক্তি, গবেষণা, বা, পারে, ক্ষেত্রে, ধরনের, তৈরি, যা, ব্যবহার\n",
            "16: অধিকার, আন্দোলন, বিক্ষোভ, মানববন্ধন, দাবিতে, দাবি, কর্মসূচি, প্রতিবাদে, মিছিল, ধর্মঘট\n",
            "17: আইন, প্রকল্প, প্রশিক্ষণ, নীতি, বাজেট, উন্নয়ন, উন্নয়ন, বাস্তবায়ন, অনুযায়ী, আইনের\n",
            "18: করা, হয়েছে, হয়, জানান, ~class, করেছে, ইত্তেফাক, ~TEXT, এতে, জানায়\n",
            "19: হয়, হয়েছে, নিয়ে, সময়, হয়ে, দিয়ে, যায়, দেওয়া, রয়েছে, নয়\n",
            "20: আদালতে, আদালত, মামলায়, মামলার, বিরুদ্ধে, আদালতের, আইনজীবী, শুনানি, আদেশ, বিচারপতি\n",
            "21: মানুষের, মানুষ, প্রতি, যারা, জীবন, সবার, সামাজিক, মানুষকে, জীবনের, সমাজের\n",
            "22: সড়ক, চলাচল, বাস, যাত্রী, চালক, সড়কের, দুর্ঘটনা, যানবাহন, ট্রাক, মহাসড়কের\n",
            "23: একটা, তো, ভালো, খুব, একটু, গেল, বললেন, হয়তো, করলেন, মন\n",
            "24: হচ্ছে, কাজ, করছে, বলা, নতুন, যাচ্ছে, করছেন, সম্পর্কে, কাজে, সম্প্রতি\n",
            "25: উপজেলা, মো, কর্মকর্তা, উদ্দিন, আবদুল, ভারপ্রাপ্ত, গতকাল, মেয়র, দুপুরে, সিটি\n",
            "26: উপজেলার, গ্রামের, দিকে, এলাকায়, ইউনিয়নের, এলাকার, সদর, সকাল, রাত, স্থানীয়\n",
            "27: মা, বাবা, ছেলে, স্ত্রী, মেয়ে, পরিবারের, বাড়িতে, বাড়ি, ভাই, স্বামী\n",
            "28: না, যে, আমরা, কিন্তু, আমি, কোনো, আমাদের, তা, নেই, অনেক\n",
            "29: বেশি, যেমন, সবচেয়ে, কম, তেমনি, তুলনায়, পৃথিবীর, বিশাল, অর্থাৎ, চেয়েও\n",
            "30: the, to, of, in, is, and, The, চামচ, are, for\n",
            "31: চেষ্টা, একজন, সেখানে, এসে, সামনে, নাম, তাঁদের, তাঁরা, বের, গেলে\n",
            "32: গত, বলে, তাদের, তারা, সালের, তিন, দিয়েছে, এদিকে, মাসে, চার\n",
            "33: বাংলাদেশের, বাংলাদেশ, আন্তর্জাতিক, হিসেবে, ভারতের, ভারত, সালে, অব, দেশ, বিশ্বের\n",
            "34: www, com, href, target, _blank, https, prothomalo, topic, http, article\n",
            "35: তখন, যখন, সে, আবার, কেউ, যেন, চলে, যেতে, সবাই, দেখে\n",
            "36: কারণে, সব, ফলে, থাকে, এসব, দেশে, নানা, পাশাপাশি, সংখ্যা, সময়ে\n",
            "37: সম্পাদক, সভাপতি, আওয়ামী, লীগের, সাধারণ, নেতা, বিএনপির, বক্তব্য, লীগ, সদস্য\n",
            "38: তিনি, বলেন, কথা, সঙ্গে, বলেছেন, কাছে, জানতে, তাঁর, দিয়েছেন, চাইলে\n",
            "39: মতো, হলো, নিজেদের, এগিয়ে, কঠিন, আপনি, আপনার, বলেই, সহজ, নিজেকে\n",
            "40: করেন, দেয়া, করেছেন, নেয়া, দেয়ার, শেষে, পক্ষে, নেয়ার, হল, নেন\n",
            "41: রাজধানীর, ঢাকা, ঢাকার, দাফন, কবরস্থানে, মুক্তিযোদ্ধা, দোয়া, জানাজা, মসজিদে, ইন্তেকাল\n",
            "42: আর, এই, সেই, নিজের, বড়, এবার, অবশ্য, তারকা, দারুণ, আগের\n",
            "43: মধ্যে, এর, রয়েছে, শুরু, করার, বছরের, আগামী, করবে, মোট, বর্তমানে\n",
            "44: অনুষ্ঠানে, আয়োজন, দেশের, উপলক্ষে, অতিথি, বিশেষ, আয়োজিত, অনুষ্ঠানের, বঙ্গবন্ধু, দিবস\n",
            "45: করতে, ওপর, দিন, করলে, একই, সৃষ্টি, হাতে, ব্যাপারে, পেতে, উঠেছে\n",
            "46: এবং, বিভিন্ন, মাধ্যমে, বিষয়ে, ব্যবস্থা, তথ্য, সংশ্লিষ্ট, গ্রহণ, প্রকাশ, দেওয়া\n",
            "47: করে, থেকে, যায়, নিয়ে, একটি, এক, তার, সময়, গেছে, দিয়ে\n",
            "48: পর, হয়ে, তবে, আগে, ছিল, বছর, শেষ, দেখা, দুই, হয়নি\n",
            "49: টাকা, হাজার, লাখ, কোটি, টাকার, বিক্রি, দাম, পরিমাণ, খরচ, টাকায়\n",
            "50: জেলা, চেয়ারম্যান, প্রধান, নির্বাহী, এম, পরিষদের, সচিব, বিভাগের, সরকারি, প্রশাসক\n"
          ]
        }
      ]
    },
    {
      "cell_type": "code",
      "source": [
        "top_docs = corex_model.get_top_docs(n_docs=20000, sort_by=\"tc\")\n",
        "THRESHOLD = 25.0\n",
        "docs_per_topic = []\n",
        "total_docs = 0\n",
        "for topic_n, top_docs in enumerate(top_docs):\n",
        "    docs, probs = zip(*top_docs)\n",
        "    top_docs_above_threshold = [doc for doc,prob in zip(docs,probs) if prob > THRESHOLD]\n",
        "    docs_per_topic.append(top_docs_above_threshold)\n",
        "    total_docs += len(top_docs_above_threshold)\n",
        "    print(f'Topic {topic_n}: {len(top_docs_above_threshold)}')\n",
        "print(total_docs)"
      ],
      "metadata": {
        "id": "BjiiODF2MIKe",
        "colab": {
          "base_uri": "https://localhost:8080/"
        },
        "outputId": "8dacc665-9beb-4dc7-8797-d76407118478"
      },
      "execution_count": null,
      "outputs": [
        {
          "output_type": "stream",
          "name": "stdout",
          "text": [
            "WARNING: sorting by logz not well tested\n",
            "Topic 0: 1139\n",
            "Topic 1: 2568\n",
            "Topic 2: 1185\n",
            "Topic 3: 1235\n",
            "Topic 4: 3750\n",
            "Topic 5: 1589\n",
            "Topic 6: 28\n",
            "Topic 7: 21\n",
            "Topic 8: 987\n",
            "Topic 9: 892\n",
            "Topic 10: 124\n",
            "Topic 11: 1000\n",
            "Topic 12: 669\n",
            "Topic 13: 1210\n",
            "Topic 14: 882\n",
            "Topic 15: 609\n",
            "Topic 16: 502\n",
            "Topic 17: 1\n",
            "Topic 18: 1553\n",
            "Topic 19: 1257\n",
            "Topic 20: 482\n",
            "Topic 21: 757\n",
            "Topic 22: 1276\n",
            "Topic 23: 23\n",
            "Topic 24: 74\n",
            "Topic 25: 435\n",
            "Topic 26: 540\n",
            "Topic 27: 1705\n",
            "Topic 28: 137\n",
            "Topic 29: 702\n",
            "Topic 30: 28\n",
            "Topic 31: 10\n",
            "Topic 32: 255\n",
            "Topic 33: 563\n",
            "Topic 34: 436\n",
            "Topic 35: 494\n",
            "Topic 36: 1603\n",
            "Topic 37: 29\n",
            "Topic 38: 365\n",
            "Topic 39: 3\n",
            "Topic 40: 159\n",
            "Topic 41: 229\n",
            "Topic 42: 9\n",
            "Topic 43: 986\n",
            "Topic 44: 5\n",
            "Topic 45: 227\n",
            "Topic 46: 92\n",
            "Topic 47: 113\n",
            "Topic 48: 404\n",
            "Topic 49: 97\n",
            "33439\n"
          ]
        }
      ]
    },
    {
      "cell_type": "code",
      "source": [
        "import matplotlib.pyplot as plt\n",
        "from collections import defaultdict\n",
        "\n",
        "# Raw data\n",
        "data = [\n",
        "    (1139, 'Politics, Govt Actions'),\n",
        "    (2568, 'Crime & Legal issues'),\n",
        "    (1185, 'International Affairs'),\n",
        "    (1235, 'Business & Economy'),\n",
        "    (3750, 'Sports'),\n",
        "    (1589, 'Culture & Entertainment'),\n",
        "    (28, 'Education'),\n",
        "    (21, 'Health, Lifestyle'),\n",
        "    (987, 'Health'),\n",
        "    (892, 'Environment'),\n",
        "    (124, 'Local News, Govt Actions'),\n",
        "    (1000, 'Education'),\n",
        "    (669, 'Technology'),\n",
        "    (882, 'Science, Technology'),\n",
        "    (609, 'Protests and Social Movements'),\n",
        "    (502, 'Govt Actions, Business & Economy'),\n",
        "    (1257, 'Crime & Legal issues'),\n",
        "    (482, 'Lifestyle'),\n",
        "    (757, 'Local News'),\n",
        "    (74, 'Govt Actions'),\n",
        "    (435, 'Local News'),\n",
        "    (255, 'International Affairs, Politics'),\n",
        "    (1603, 'Politics'),\n",
        "    (986, 'Culture & Entertainment'),\n",
        "    (227, 'Govt Actions'),\n",
        "    (404, 'Business & Economy'),\n",
        "    (97, 'Local News, Govt Actions'),\n",
        "]\n",
        "\n",
        "# Aggregating the data by genre and skipping \"General\"\n",
        "genre_counts = defaultdict(int)\n",
        "\n",
        "for count, genres in data:\n",
        "    if 'General' not in genres:  # Skipping any entry with \"General\"\n",
        "        for genre in genres.split(','):\n",
        "            genre_counts[genre.strip()] += count\n",
        "\n",
        "# Calculate total counts\n",
        "total_counts = sum(genre_counts.values())\n",
        "\n",
        "# Convert counts to percentages\n",
        "genre_percentages = {genre: (count / total_counts) * 100 for genre, count in genre_counts.items()}\n",
        "\n",
        "# Sorting the genres for better visualization\n",
        "sorted_genres = sorted(genre_percentages.items(), key=lambda item: item[1], reverse=True)\n",
        "\n",
        "# Plotting the data\n",
        "plt.figure(figsize=(14, 8))\n",
        "genres, percentages = zip(*sorted_genres)\n",
        "plt.barh(genres, percentages, color='skyblue')\n",
        "plt.xlabel('Percentage (%)')\n",
        "plt.ylabel('News Genre')\n",
        "plt.title('News Genre Distribution (Percentage)')\n",
        "plt.grid(axis='x', linestyle='--', alpha=0.7)\n",
        "plt.show()\n"
      ],
      "metadata": {
        "colab": {
          "base_uri": "https://localhost:8080/",
          "height": 668
        },
        "id": "oSj3fan6yyqh",
        "outputId": "311650fd-f02d-493a-aa38-29c6b2b29896"
      },
      "execution_count": null,
      "outputs": [
        {
          "output_type": "display_data",
          "data": {
            "text/plain": [
              "<Figure size 1400x800 with 1 Axes>"
            ],
            "image/png": "[encoded data removed]"
          },
          "metadata": {}
        }
      ]
    },
    {
      "cell_type": "code",
      "source": [
        "TIME = \"150824\"\n",
        "EXPERIMENT_NAME = \"nonethnic_100k_corex\""
      ],
      "metadata": {
        "id": "ExomiD9bhO7P"
      },
      "execution_count": null,
      "outputs": []
    },
    {
      "cell_type": "code",
      "source": [
        "joblib.dump(docs_per_topic, \"/content/drive/MyDrive/Representation Discrimination/{EXPERIMENT_NAME}_docs_per_topic_{TIME}.joblib\")"
      ],
      "metadata": {
        "colab": {
          "base_uri": "https://localhost:8080/"
        },
        "id": "VEHOHNXJh1YI",
        "outputId": "e9b8e925-df68-497a-c077-a438dd406ab4"
      },
      "execution_count": null,
      "outputs": [
        {
          "output_type": "execute_result",
          "data": {
            "text/plain": [
              "['/content/drive/MyDrive/Representation Discrimination/{EXPERIMENT_NAME}_docs_per_topic_{TIME}.joblib']"
            ]
          },
          "metadata": {},
          "execution_count": 49
        }
      ]
    },
    {
      "cell_type": "code",
      "source": [
        "import joblib\n",
        "temp = joblib.load(\"/content/drive/MyDrive/Representation Discrimination/nonethnic_dataset.joblib\")\n",
        "len(temp)"
      ],
      "metadata": {
        "colab": {
          "base_uri": "https://localhost:8080/"
        },
        "id": "jIc7bHhLMrL0",
        "outputId": "1f962067-1043-43f0-84f5-592b09dca347"
      },
      "execution_count": null,
      "outputs": [
        {
          "output_type": "execute_result",
          "data": {
            "text/plain": [
              "5343"
            ]
          },
          "metadata": {},
          "execution_count": 52
        }
      ]
    },
    {
      "cell_type": "code",
      "source": [],
      "metadata": {
        "id": "drA5UQR1NJAi"
      },
      "execution_count": null,
      "outputs": []
    }
  ],
  "metadata": {
    "colab": {
      "machine_shape": "hm",
      "provenance": []
    },
    "kernelspec": {
      "display_name": "Python 3",
      "name": "python3"
    },
    "language_info": {
      "name": "python"
    }
  },
  "nbformat": 4,
  "nbformat_minor": 0
}