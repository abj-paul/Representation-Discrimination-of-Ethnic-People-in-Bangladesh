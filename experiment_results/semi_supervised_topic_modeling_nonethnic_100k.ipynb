{
  "cells": [
    {
      "cell_type": "code",
      "execution_count": 19,
      "metadata": {
        "colab": {
          "base_uri": "https://localhost:8080/"
        },
        "id": "aQ2qWlPUU8f7",
        "outputId": "72ed328e-21e2-4c36-d6c3-0cd34fd39ad7"
      },
      "outputs": [
        {
          "output_type": "stream",
          "name": "stdout",
          "text": [
            "Drive already mounted at /content/drive; to attempt to forcibly remount, call drive.mount(\"/content/drive\", force_remount=True).\n"
          ]
        }
      ],
      "source": [
        "from google.colab import drive\n",
        "drive.mount(\"/content/drive\")"
      ]
    },
    {
      "cell_type": "code",
      "source": [
        "!ls /content/drive/MyDrive/Representation\\ Discrimination/data"
      ],
      "metadata": {
        "colab": {
          "base_uri": "https://localhost:8080/"
        },
        "id": "TARfkJujj-Pc",
        "outputId": "85d4818a-1ff2-412a-ba6a-dfed167f4b20"
      },
      "execution_count": 20,
      "outputs": [
        {
          "output_type": "stream",
          "name": "stdout",
          "text": [
            "nonethnic_dataset_100k.joblib\n"
          ]
        }
      ]
    },
    {
      "cell_type": "code",
      "execution_count": 21,
      "metadata": {
        "id": "w8P8cR3cp0gc",
        "colab": {
          "base_uri": "https://localhost:8080/"
        },
        "outputId": "1f59e541-6b9d-453a-a6ea-a13c9e3b93a1"
      },
      "outputs": [
        {
          "output_type": "execute_result",
          "data": {
            "text/plain": [
              "100003"
            ]
          },
          "metadata": {},
          "execution_count": 21
        }
      ],
      "source": [
        "import pandas as pd\n",
        "import joblib\n",
        "nonethnic_articles = joblib.load(\"/content/drive/MyDrive/Representation Discrimination/data/nonethnic_dataset_100k.joblib\")\n",
        "len(nonethnic_articles)"
      ]
    },
    {
      "cell_type": "code",
      "source": [
        "nonethnic_articles[0]"
      ],
      "metadata": {
        "colab": {
          "base_uri": "https://localhost:8080/",
          "height": 105
        },
        "id": "RMB1AL-BJOqH",
        "outputId": "9bea430b-5636-40da-c773-ea1d0ab68309"
      },
      "execution_count": 22,
      "outputs": [
        {
          "output_type": "execute_result",
          "data": {
            "text/plain": [
              "'<p>কার্তিক শেষ হলো কাল। আজ অগ্রহায়ণের প্রথম দিন। শীতের আগমনী বার্তা এখন রাজধানীর আকাশে-বাতাসে। এমন আবহাওয়ায় গতকাল সন্ধ্যায় সেগুনবাগিচার শিল্পকলা একাডেমির জাতীয় নাট্যশালায় মিলনায়তন নিক্বণধ্বনিতে জমে উঠেছিল। এখানে শুরু হয় নয় দিনের দ্বিতীয় জাতীয় নৃত্যনাট্য উৎসব।<br />সোমবার সন্ধ্যায় শিল্পকলা একাডেমির মূল হলে উৎসবের উদ্বোধন করেন অর্থমন্ত্রী আবুল মাল আবদুল মুহিত। অর্থমন্ত্রী সমাজ রক্ষা, উন্নয়ন, মানবিক গুণাবলি বিকাশের জন্যও নৃত্যনাট্য চর্চার গুরুত্ব রয়েছে বলে মন্তব্য করেন। তিনি বলেন, ‘সংস্কৃতির নানা মাধ্যমের মধ্যে নৃত্যনাট্য একটি শক্তিশালী মাধ্যম, যা নানা শিক্ষা দেয়। এই মাধ্যম থেকে রস আস্বাদন করে আমরা সমৃদ্ধ হতে পারি।’<br />অনুষ্ঠানে বিশেষ অতিথির বক্তব্য দেন সংস্কৃতিসচিব আকতারী মমতাজ। আরও বক্তব্য দেন নাট্যব্যক্তিত্ব নাসির উদ্দীন ইউসুফ, প্রবীণ নৃত্যশিল্পী রাহিজা খানম ও বাংলাদেশ নৃত্যশিল্পী সংস্থার সভাপতি মিনু হক। সভাপতিত্ব করেন শিল্পকলা একাডেমির মহাপরিচালক লিয়াকত আলী। রাহিজা খানম সংস্কৃতি খাতে বাজেটের অপ্রতুলতার দিকটি তুলে ধরে বলেন, ‘বাজেটের জন্য আমরা অনেক ভালো কাজ করতে চেয়েও পারি না।’ তার কথার সূত্র ধরে সংস্কৃতি খাতে সরকারি পৃষ্ঠপোষকতা বাড়ানোর দাবি জানান নাসির উদ্দীন ইউসুফ। জাতীয় উৎসবগুলো কেন্দ্রীয়ভাবে হওয়ার চেয়ে সারা দেশের স্কুল-কলেজে হওয়াই গুরুত্বপূর্ণ বলে মন্তব্য করেন তিনি।<br />উদ্বোধন ও বক্তৃতাপর্ব শেষে ফারহানা চৌধুরীর পরিচালনায় বাংলাদেশ একাডেমি অব ফাইন আর্টস পরিবেশন করে নৃত্যনাট্য নকশী কাঁথার মাঠ।</p>'"
            ],
            "application/vnd.google.colaboratory.intrinsic+json": {
              "type": "string"
            }
          },
          "metadata": {},
          "execution_count": 22
        }
      ]
    },
    {
      "cell_type": "markdown",
      "source": [
        "### COREX"
      ],
      "metadata": {
        "id": "CSvMJjSP5229"
      }
    },
    {
      "cell_type": "code",
      "source": [
        "!pip install corextopic\n",
        "!!wget -O stop_words.txt https://raw.githubusercontent.com/aljubaer/Topic-Modeling-in-Bengali/master/code/stop_words.txt\n"
      ],
      "metadata": {
        "colab": {
          "base_uri": "https://localhost:8080/"
        },
        "id": "ODQoykXA55jR",
        "outputId": "21e23cf6-ad6a-4fa1-e269-390ffb652d0e"
      },
      "execution_count": null,
      "outputs": [
        {
          "output_type": "stream",
          "name": "stdout",
          "text": [
            "Collecting corextopic\n",
            "  Downloading corextopic-1.1-py3-none-any.whl.metadata (12 kB)\n",
            "Downloading corextopic-1.1-py3-none-any.whl (27 kB)\n",
            "Installing collected packages: corextopic\n",
            "Successfully installed corextopic-1.1\n"
          ]
        },
        {
          "output_type": "execute_result",
          "data": {
            "text/plain": [
              "['--2024-08-15 10:24:48--  https://raw.githubusercontent.com/aljubaer/Topic-Modeling-in-Bengali/master/code/stop_words.txt',\n",
              " 'Resolving raw.githubusercontent.com (raw.githubusercontent.com)... 185.199.108.133, 185.199.109.133, 185.199.110.133, ...',\n",
              " 'Connecting to raw.githubusercontent.com (raw.githubusercontent.com)|185.199.108.133|:443... connected.',\n",
              " 'HTTP request sent, awaiting response... 200 OK',\n",
              " 'Length: 5443 (5.3K) [text/plain]',\n",
              " 'Saving to: ‘stop_words.txt’',\n",
              " '',\n",
              " '',\n",
              " 'stop_words.txt        0%[                    ]       0  --.-KB/s               ',\n",
              " 'stop_words.txt      100%[===================>]   5.32K  --.-KB/s    in 0s      ',\n",
              " '',\n",
              " '2024-08-15 10:24:48 (46.2 MB/s) - ‘stop_words.txt’ saved [5443/5443]',\n",
              " '']"
            ]
          },
          "metadata": {},
          "execution_count": 8
        }
      ]
    },
    {
      "cell_type": "code",
      "source": [
        "stopwords_file = open('stop_words.txt', \"r+\", encoding='utf-8')\n",
        "all_stopwords = stopwords_file.read()\n",
        "stopwords = [word.strip() for word in all_stopwords.split()]\n",
        "print(stopwords)"
      ],
      "metadata": {
        "colab": {
          "base_uri": "https://localhost:8080/"
        },
        "id": "WkMiexkAK3bG",
        "outputId": "661e26b5-5eb1-475a-d5fa-0925fecd9e0b"
      },
      "execution_count": null,
      "outputs": [
        {
          "output_type": "stream",
          "name": "stdout",
          "text": [
            "['অতএব', 'অথচ', 'অথবা', 'অনুযায়ী', 'অনেক', 'অনেকে', 'অনেকেই', 'অন্তত', 'অন্য', 'অবধি', 'অবশ্য', 'অর্থাত', 'আই', 'আগামী', 'আগে', 'আগেই', 'আছে', 'আজ', 'আদ্যভাগে', 'আপনার', 'আপনি', 'আবার', 'আমরা', 'আমাকে', 'আমাদের', 'আমার', 'আমি', 'আর', 'আরও', 'ই', 'ইত্যাদি', 'ইহা', 'উচিত', 'উত্তর', 'উনি', 'উপর', 'উপরে', 'এ', 'এঁদের', 'এঁরা', 'এই', 'একই', 'একটি', 'একবার', 'একে', 'এক্', 'এখন', 'এখনও', 'এখানে', 'এখানেই', 'এটা', 'এটাই', 'এটি', 'এত', 'এতটাই', 'এতে', 'এদের', 'এব', 'এবং', 'এবার', 'এমন', 'এমনকী', 'এমনি', 'এর', 'এরা', 'এল', 'এস', 'এসে', 'ঐ', 'ও', 'ওঁদের', 'ওঁর', 'ওঁরা', 'ওই', 'ওকে', 'ওখানে', 'ওদের', 'ওর', 'ওরা', 'কখনও', 'কত', 'কবে', 'কমনে', 'কয়েক', 'কয়েকটি', 'করছে', 'করছেন', 'করতে', 'করবে', 'করবেন', 'করলে', 'করলেন', 'করা', 'করাই', 'করায়', 'করার', 'করি', 'করিতে', 'করিয়া', 'করিয়ে', 'করে', 'করেই', 'করেছিলেন', 'করেছে', 'করেছেন', 'করেন', 'কাউকে', 'কাছ', 'কাছে', 'কাজ', 'কাজে', 'কারও', 'কারণ', 'কি', 'কিংবা', 'কিছু', 'কিছুই', 'কিন্তু', 'কী', 'কে', 'কেউ', 'কেউই', 'কেখা', 'কেন', 'কোটি', 'কোন', 'কোনও', 'কোনো', 'ক্ষেত্রে', 'কয়েক', 'খুব', 'গিয়ে', 'গিয়েছে', 'গিয়ে', 'গুলি', 'গেছে', 'গেল', 'গেলে', 'গোটা', 'চলে', 'চান', 'চায়', 'চার', 'চালু', 'চেয়ে', 'চেষ্টা', 'ছাড়া', 'ছাড়াও', 'ছিল', 'ছিলেন', 'জন', 'জনকে', 'জনের', 'জন্য', 'জন্যওজে', 'জানতে', 'জানা', 'জানানো', 'জানায়', 'জানিয়ে', 'জানিয়েছে', 'জে', 'জ্নজন', 'টি', 'ঠিক', 'তখন', 'তত', 'তথা', 'তবু', 'তবে', 'তা', 'তাঁকে', 'তাঁদের', 'তাঁর', 'তাঁরা', 'তাঁাহারা', 'তাই', 'তাও', 'তাকে', 'তাতে', 'তাদের', 'তার', 'তারপর', 'তারা', 'তারৈ', 'তাহলে', 'তাহা', 'তাহাতে', 'তাহার', 'তিনঐ', 'তিনি', 'তিনিও', 'তুমি', 'তুলে', 'তেমন', 'তো', 'তোমার', 'থাকবে', 'থাকবেন', 'থাকা', 'থাকায়', 'থাকে', 'থাকেন', 'থেকে', 'থেকেই', 'থেকেও', 'দিকে', 'দিতে', 'দিন', 'দিয়ে', 'দিয়েছে', 'দিয়েছেন', 'দিলেন', 'দু', 'দুই', 'দুটি', 'দুটো', 'দেওয়া', 'দেওয়ার', 'দেওয়া', 'দেখতে', 'দেখা', 'দেখে', 'দেন', 'দেয়', 'দ্বারা', 'ধরা', 'ধরে', 'ধামার', 'নতুন', 'নয়', 'না', 'নাই', 'নাকি', 'নাগাদ', 'নানা', 'নিজে', 'নিজেই', 'নিজেদের', 'নিজের', 'নিতে', 'নিয়ে', 'নিয়ে', 'নেই', 'নেওয়া', 'নেওয়ার', 'নেওয়া', 'নয়', 'পক্ষে', 'পর', 'পরে', 'পরেই', 'পরেও', 'পর্যন্ত', 'পাওয়া', 'পাচ', 'পারি', 'পারে', 'পারেন', 'পি', 'পেয়ে', 'পেয়্র্', 'প্রতি', 'প্রথম', 'প্রভৃতি', 'প্রযন্ত', 'প্রাথমিক', 'প্রায়', 'প্রায়', 'ফলে', 'ফিরে', 'ফের', 'বক্তব্য', 'বদলে', 'বন', 'বরং', 'বলতে', 'বলল', 'বললেন', 'বলা', 'বলে', 'বলেছেন', 'বলেন', 'বসে', 'বহু', 'বা', 'বাদে', 'বার', 'বি', 'বিনা', 'বিভিন্ন', 'বিশেষ', 'বিষয়টি', 'বেশ', 'বেশি', 'ব্যবহার', 'ব্যাপারে', 'ভাবে', 'ভাবেই', 'মতো', 'মতোই', 'মধ্যভাগে', 'মধ্যে', 'মধ্যেই', 'মধ্যেও', 'মনে', 'মাত্র', 'মাধ্যমে', 'মোট', 'মোটেই', 'যখন', 'যত', 'যতটা', 'যথেষ্ট', 'যদি', 'যদিও', 'যা', 'যাঁর', 'যাঁরা', 'যাওয়া', 'যাওয়ার', 'যাওয়া', 'যাকে', 'যাচ্ছে', 'যাতে', 'যাদের', 'যান', 'যাবে', 'যায়', 'যার', 'যারা', 'যিনি', 'যে', 'যেখানে', 'যেতে', 'যেন', 'যেমন', 'র', 'রকম', 'রয়েছে', 'রাখা', 'রেখে', 'লক্ষ', 'শুধু', 'শুরু', 'সঙ্গে', 'সঙ্গেও', 'সব', 'সবার', 'সমস্ত', 'সম্প্রতি', 'সহ', 'সহিত', 'সাধারণ', 'সামনে', 'সি', 'সুতরাং', 'সে', 'সেই', 'সেখান', 'সেখানে', 'সেটা', 'সেটাই', 'সেটাও', 'সেটি', 'স্পষ্ট', 'স্বয়ং', 'হইতে', 'হইবে', 'হইয়া', 'হওয়া', 'হওয়ায়', 'হওয়ার', 'হচ্ছে', 'হত', 'হতে', 'হতেই', 'হন', 'হবে', 'হবেন', 'হয়', 'হয়তো', 'হয়নি', 'হয়ে', 'হয়েই', 'হয়েছিল', 'হয়েছে', 'হয়েছেন', 'হল', 'হলে', 'হলেই', 'হলেও', 'হলো', 'হাজার', 'হিসাবে', 'হৈলে', 'হোক', 'হয়']\n"
          ]
        }
      ]
    },
    {
      "cell_type": "code",
      "source": [
        "import numpy as np\n",
        "from sklearn.feature_extraction.text import CountVectorizer\n",
        "from corextopic import corextopic as ct\n",
        "import scipy.sparse as ss\n",
        "import regex\n",
        "\n",
        "def custom_analyzer(text):\n",
        "    words = regex.findall(r'\\w{2,}', text) # extract words of at least 2 letters\n",
        "    for w in words:\n",
        "        yield w\n",
        "\n",
        "vectorizer = CountVectorizer(stop_words=stopwords, analyzer = custom_analyzer, max_features=50000, binary=True)\n",
        "doc_word = vectorizer.fit_transform(nonethnic_articles)\n",
        "doc_word = ss.csr_matrix(doc_word)\n",
        "\n",
        "doc_word.shape # n_docs x m_words"
      ],
      "metadata": {
        "id": "6r-HFRtX4eF8",
        "colab": {
          "base_uri": "https://localhost:8080/"
        },
        "outputId": "cbcdff5e-ef0f-4868-fa4b-c9e773e68263"
      },
      "execution_count": 37,
      "outputs": [
        {
          "output_type": "execute_result",
          "data": {
            "text/plain": [
              "(100003, 50000)"
            ]
          },
          "metadata": {},
          "execution_count": 37
        }
      ]
    },
    {
      "cell_type": "code",
      "source": [
        "words = list(np.asarray(vectorizer.get_feature_names_out()))"
      ],
      "metadata": {
        "id": "crVMtbI7PdqA"
      },
      "execution_count": 38,
      "outputs": []
    },
    {
      "cell_type": "code",
      "source": [
        "not_digit_inds = [ind for ind,word in enumerate(words) if not word.isdigit()]\n",
        "doc_word = doc_word[:,not_digit_inds]\n",
        "words    = [word for ind,word in enumerate(words) if not word.isdigit()]\n",
        "\n",
        "doc_word.shape # n_docs x m_words\n"
      ],
      "metadata": {
        "colab": {
          "base_uri": "https://localhost:8080/"
        },
        "id": "lHyxkNg1Sa_z",
        "outputId": "c0077846-e310-4108-a843-6e9493db9e4a"
      },
      "execution_count": 39,
      "outputs": [
        {
          "output_type": "execute_result",
          "data": {
            "text/plain": [
              "(100003, 48906)"
            ]
          },
          "metadata": {},
          "execution_count": 39
        }
      ]
    },
    {
      "cell_type": "code",
      "source": [
        "words[10000:10020]"
      ],
      "metadata": {
        "colab": {
          "base_uri": "https://localhost:8080/"
        },
        "id": "HAaCzrZpSezJ",
        "outputId": "f2fa6341-6fb7-4d28-e54b-09d0a1deb69f"
      },
      "execution_count": 41,
      "outputs": [
        {
          "output_type": "execute_result",
          "data": {
            "text/plain": [
              "['কানু',\n",
              " 'কানুন',\n",
              " 'কানুনের',\n",
              " 'কানে',\n",
              " 'কানেকটিকাট',\n",
              " 'কানেকটিভিটি',\n",
              " 'কানেকশন',\n",
              " 'কানেক্ট',\n",
              " 'কানেক্টিভিটি',\n",
              " 'কানের',\n",
              " 'কান্ট্রি',\n",
              " 'কান্ডারি',\n",
              " 'কান্ত',\n",
              " 'কান্তি',\n",
              " 'কান্তে',\n",
              " 'কান্দাপাড়া',\n",
              " 'কান্দাহার',\n",
              " 'কান্দি',\n",
              " 'কান্দিরপাড়',\n",
              " 'কান্দে']"
            ]
          },
          "metadata": {},
          "execution_count": 41
        }
      ]
    },
    {
      "cell_type": "code",
      "source": [
        "anchors = [[\"ক্রীড়া\", \"রুপা\", \"স্বর্ণপদক\",  \"ব্রোঞ্জপদক\"], [\"নির্বাচন\",\"প্রার্থী\", \"চেয়ারম্যান\"], [\"পর্যটক\"], [\"উদযাপন\", \"নবান্ন\", \"উৎসব\"], [\"বিদ্রোহ\", \"কল্পনা\"], [\"মামলা\"] , [\"সরকার\", \"লুটপাট\", \"দুর্নীতি\", \"প্রশিক্ষণ\"], [ \"সেতু\", \"সংস্কার\", \"সংকট\", \"পানি\"], [\"বাংলাদেশ\", \"বিমানবাহিনী\", \"অফিসার\", \"ক্যাডেট\"] ]\n",
        "corex_model = ct.Corex(n_hidden=50, seed=1)\n",
        "corex_model.fit(doc_word, words=words, anchors=anchors, anchor_strength=3, docs=nonethnic_articles)"
      ],
      "metadata": {
        "colab": {
          "base_uri": "https://localhost:8080/"
        },
        "id": "hB4u2m4AKS-5",
        "outputId": "9fd35ea5-246f-48bc-ad7c-0395a760a07e"
      },
      "execution_count": 42,
      "outputs": [
        {
          "output_type": "execute_result",
          "data": {
            "text/plain": [
              "<corextopic.corextopic.Corex at 0x7c1794f13610>"
            ]
          },
          "metadata": {},
          "execution_count": 42
        }
      ]
    },
    {
      "cell_type": "code",
      "source": [
        "corex_model.tc"
      ],
      "metadata": {
        "colab": {
          "base_uri": "https://localhost:8080/"
        },
        "id": "tOmRVwW-nzqr",
        "outputId": "2060fa54-6a43-494e-b986-5d626e370633"
      },
      "execution_count": 43,
      "outputs": [
        {
          "data": {
            "text/plain": [
              "52.49676727298845"
            ]
          },
          "execution_count": 43,
          "metadata": {},
          "output_type": "execute_result"
        }
      ]
    },
    {
      "cell_type": "code",
      "source": [
        "topics = corex_model.get_topics()\n",
        "for topic_n, topic in enumerate(topics):\n",
        "    # w: word, mi: mutual information, s: sign\n",
        "    topic = [(w, mi, s) if s > 0 else ('~' + str(w), mi, s) for w, mi, s in topic]\n",
        "    # Unpack the info about the topic\n",
        "    topic_words, mis, signs = zip(*topic)\n",
        "\n",
        "    topic_str = f\"{topic_n + 1}: {topic_words}\"\n",
        "    print(topic_str)\n"
      ],
      "metadata": {
        "colab": {
          "base_uri": "https://localhost:8080/"
        },
        "id": "KrToCYveLkmP",
        "outputId": "14b209a8-e1f8-43b3-9080-1973971411b7"
      },
      "execution_count": 44,
      "outputs": [
        {
          "output_type": "stream",
          "name": "stdout",
          "text": [
            "1: ('ম্যাচে', 'ম্যাচ', 'বিপক্ষে', 'রান', 'ম্যাচের', 'ক্রিকেট', 'উইকেট', 'অধিনায়ক', 'খেলতে', 'খেলা')\n",
            "2: ('নির্বাচন', 'চেয়ারম্যান', 'প্রার্থী', 'আওয়ামী', 'লীগের', 'সম্পাদক', 'সভাপতি', 'বিএনপির', 'নেতা', 'সাধারণ')\n",
            "3: ('মাছ', 'পর্যটক', 'নদীর', 'কৃষি', 'পানির', 'টন', 'খাবার', 'কেজি', 'নদী', 'চাল')\n",
            "4: ('উৎসব', 'গান', 'উদযাপন', 'বাংলা', 'সাংস্কৃতিক', 'গানের', 'শিল্পী', 'অনুষ্ঠান', 'কবি', 'সংগীত')\n",
            "5: ('নেই', 'অনেক', 'আছে', 'যদি', 'কিছু', 'তাই', 'সব', 'কী', 'কি', 'তাহলে')\n",
            "6: ('মামলা', 'পুলিশ', 'থানার', 'ঘটনায়', 'থানায়', 'উদ্ধার', 'ওসি', 'পুলিশের', 'আহত', 'নিহত')\n",
            "7: ('সরকার', 'দুর্নীতি', 'প্রশিক্ষণ', 'লুটপাট', 'দমন', 'সরকারকে', 'দুদক', 'দুর্নীতির', 'দুদকের', 'প্রশিক্ষণের')\n",
            "8: ('পানি', 'সংকট', 'সেতু', 'হচ্ছে', 'কারণে', 'সংস্কার', 'ফলে', 'যাচ্ছে', 'সম্ভব', 'সৃষ্টি')\n",
            "9: ('বাংলাদেশ', 'বাংলাদেশের', 'বাংলাদেশকে', 'ক্যাডেট', 'অ্যাসোসিয়েশন', 'ফেডারেশনের', 'বিমানবাহিনী', 'অ্যাসোসিয়েশনের', 'ইনস্টিটিউট', 'ফেডারেশন')\n",
            "10: ('আমরা', 'আমি', 'আমার', 'আমাদের', 'করি', 'করেছি', 'করছি', 'আমাকে', 'চাই', 'পারি')\n",
            "11: ('করার', 'সালের', 'বছরের', 'সিদ্ধান্ত', 'দেওয়া', 'আগামী', 'অনুযায়ী', 'প্রকাশ', 'দিয়েছে', 'নির্দেশ')\n",
            "12: ('হয়ে', 'নিয়ে', 'যায়', 'তার', 'দিয়ে', 'ধরে', 'পড়ে', 'গিয়ে', 'দিন', 'এসে')\n",
            "13: ('জানান', 'গতকাল', 'জানায়', 'সকালে', 'জন', 'স্থানীয়', 'খবর', 'বৃহস্পতিবার', 'সোমবার', 'মঙ্গলবার')\n",
            "14: ('মোবাইল', 'ফোন', 'ভবন', 'ভবনের', 'ঈদের', 'ঈদুল', 'ট্রেন', 'স্টেশন', 'দোকান', 'বিমানবন্দরে')\n",
            "15: ('হয়', 'হয়েছে', 'নিয়ে', 'সময়', 'হয়ে', 'দিয়ে', 'যায়', 'দেওয়া', 'রয়েছে', 'নয়')\n",
            "16: ('সড়ক', 'চলাচল', 'বাস', 'যাত্রী', 'চালক', 'সড়কের', 'দুর্ঘটনা', 'যানবাহন', 'ট্রাক', 'গাড়ি')\n",
            "17: ('করোনা', 'আক্রান্ত', 'স্বাস্থ্য', 'সংক্রমণ', 'রোগী', 'করোনার', 'রোগীর', 'চিকিৎসা', 'করোনায়', 'রোগ')\n",
            "18: ('করা', 'হয়েছে', 'হয়', '~class', 'করেছে', 'গত', '~TEXT', 'ইত্তেফাক', 'এতে', 'বিষয়টি')\n",
            "19: ('এসব', 'বিশেষ', 'অংশ', 'কেন্দ্র', 'ছাড়াও', 'যুগান্তর', 'প্রচার', 'দৈনিক', 'কেন্দ্রের', 'প্রতিনিধিদের')\n",
            "20: ('আদালত', 'আদালতে', 'মামলায়', 'আদালতের', 'আইনজীবী', 'শুনানি', 'আদেশ', 'বিচারপতি', 'বিচারক', 'কারাগারে')\n",
            "21: ('মানুষের', 'মানুষ', 'নানা', 'যারা', 'জীবন', 'মানুষকে', 'সামাজিক', 'সারা', 'সমাজের', 'পৃথিবীর')\n",
            "22: ('উপজেলার', 'গ্রামের', 'হাসপাতালে', 'ইউনিয়নের', 'এলাকায়', 'এলাকার', 'গ্রামে', 'মেডিকেল', 'কলেজ', 'বাড়ি')\n",
            "23: ('একটু', 'চোখে', 'চোখ', 'রঙের', 'তারপর', 'মুখ', 'সাদা', 'করুন', 'নিন', 'রং')\n",
            "24: ('জন্য', 'বা', 'কাজ', 'ধরনের', 'তৈরি', 'যাবে', 'নতুন', 'ব্যবহার', 'বলা', 'করবে')\n",
            "25: ('উপজেলা', 'জেলা', 'মো', 'কর্মকর্তা', 'সদর', 'আবদুল', 'ভারপ্রাপ্ত', 'আবুল', 'উপজেলায়', 'ইউনিয়ন')\n",
            "26: ('হোসেন', 'দিকে', 'সকাল', 'রাত', 'বেলা', 'সাড়ে', 'আলী', 'ঢাকা', 'দুপুর', 'মিয়া')\n",
            "27: ('ছেলে', 'মা', 'বাবা', 'স্ত্রী', 'পরিবারের', 'মেয়ে', 'তাকে', 'বাড়িতে', 'ভাই', 'যান')\n",
            "28: ('না', 'যে', 'করতে', 'হবে', 'কোনো', 'তা', 'পারে', 'এই', 'নয়', 'হতে')\n",
            "29: ('মার্কিন', 'যুক্তরাষ্ট্রের', 'প্রেসিডেন্ট', 'যুক্তরাষ্ট্র', 'ট্রাম্প', 'ডলার', 'ডোনাল্ড', 'চীন', 'চীনের', 'ট্রাম্পের')\n",
            "30: ('দেখে', 'পানিতে', 'কেটে', 'খেতে', 'তুমি', 'নিচে', 'মাথা', 'বৃষ্টি', 'ঘরের', 'পা')\n",
            "31: ('হলে', 'চেষ্টা', 'সেখানে', 'তাঁদের', 'তাঁরা', 'করলে', 'সামনে', 'বের', 'নারী', 'নাম')\n",
            "32: ('তারা', 'তাদের', 'বলে', 'করছে', 'দাবি', 'দলের', 'দল', 'এদিকে', 'তিন', 'ব্যাপারে')\n",
            "33: ('ভারতের', 'দেশটির', 'ভারত', 'আন্তর্জাতিক', 'পাকিস্তানের', 'পাকিস্তান', 'ভারতীয়', 'সামরিক', 'বিশ্বের', 'আরব')\n",
            "34: ('www', 'com', 'href', 'target', '_blank', 'https', 'prothomalo', 'topic', 'http', 'article')\n",
            "35: ('সে', 'তখন', 'কাছে', 'আবার', 'কেউ', 'চলে', 'যেতে', 'একজন', 'অন্য', 'বাইরে')\n",
            "36: ('বেশি', 'শতাংশ', 'ক্ষেত্রে', 'কম', 'বৃদ্ধি', 'সংখ্যা', 'অর্থনৈতিক', 'কমে', 'দশমিক', 'বেড়ে')\n",
            "37: ('উপস্থিত', 'প্রমুখ', 'বক্তব্য', 'ছিলেন', 'অনুষ্ঠানে', 'সভাপতিত্বে', 'অনুষ্ঠিত', 'প্রধান', 'শেখ', 'জাতীয়')\n",
            "38: ('তিনি', 'কথা', 'সঙ্গে', 'বলেছেন', 'জানতে', 'করছেন', 'দিয়েছেন', 'করবেন', 'চাইলে', 'প্রশ্নের')\n",
            "39: ('আর', 'সেই', 'মনে', 'একটা', 'তো', 'ভালো', 'খুব', 'মতো', 'যখন', 'নিজের')\n",
            "40: ('করেন', 'বলেন', 'অভিযোগ', 'বিরুদ্ধে', 'দেন', 'করেছেন', 'দেয়া', 'দেয়ার', 'নেয়া', 'শেষে')\n",
            "41: ('বিশ্ববিদ্যালয়ের', 'শিক্ষক', 'শিক্ষার্থী', 'শিক্ষার্থীদের', 'বিশ্ববিদ্যালয়', 'শিক্ষা', 'ছাত্র', 'স্কুল', 'কলেজের', 'শিক্ষার্থীরা')\n",
            "42: ('অভিনয়', 'ছবির', 'ছবি', 'ছবিতে', 'চলচ্চিত্র', 'অভিনেত্রী', 'অভিনেতা', 'ছবিটি', 'শুটিং', 'চরিত্রে')\n",
            "43: ('মধ্যে', 'এর', 'পর্যন্ত', 'রয়েছে', 'শুরু', 'আরও', 'মোট', 'বর্তমানে', 'হওয়া', 'দিনের')\n",
            "44: ('দেশের', 'সরকারের', 'রাজনৈতিক', 'দেশ', 'প্রধানমন্ত্রী', 'দেশে', 'প্রতি', 'জনগণের', 'আহ্বান', 'ভূমিকা')\n",
            "45: ('হিসেবে', 'তুলে', 'গড়ে', 'হাতে', 'ওপর', 'হলেও', 'এগিয়ে', 'যার', 'চেয়ে', 'মূল')\n",
            "46: ('এবং', 'বিভিন্ন', 'মাধ্যমে', 'বিষয়ে', 'ব্যবস্থা', 'সরকারি', 'সংশ্লিষ্ট', 'তথ্য', 'মন্ত্রণালয়ের', 'গ্রহণ')\n",
            "47: ('করে', 'থেকে', 'একটি', 'এক', 'গেছে', 'জানা', 'সময়', 'ওই', 'পরে', 'দুই')\n",
            "48: ('কিন্তু', 'পর', 'তবে', 'ছিল', 'আগে', 'বছর', 'শেষ', 'দেখা', 'বড়', 'প্রথম')\n",
            "49: ('টাকা', 'কোটি', 'লাখ', 'হাজার', 'টাকার', 'ব্যাংক', 'অর্থ', 'দাম', 'বিক্রি', 'ব্যাংকের')\n",
            "50: ('ইসলাম', 'রহমান', 'হক', 'আলম', 'চৌধুরী', 'উদ্দিন', 'এম', 'আহমেদ', 'খান', 'মোহাম্মদ')\n"
          ]
        }
      ]
    },
    {
      "cell_type": "code",
      "source": [
        "top_docs = corex_model.get_top_docs(n_docs=20000, sort_by=\"tc\")\n",
        "THRESHOLD = 20.0\n",
        "docs_per_topic = []\n",
        "total_docs = 0\n",
        "for topic_n, top_docs in enumerate(top_docs):\n",
        "    docs, probs = zip(*top_docs)\n",
        "    top_docs_above_threshold = [doc for doc,prob in zip(docs,probs) if prob > THRESHOLD]\n",
        "    docs_per_topic.append(top_docs_above_threshold)\n",
        "    total_docs += len(top_docs_above_threshold)\n",
        "    print(f'Topic {topic_n}: {len(top_docs_above_threshold)}')\n",
        "print(total_docs)"
      ],
      "metadata": {
        "id": "BjiiODF2MIKe",
        "colab": {
          "base_uri": "https://localhost:8080/"
        },
        "outputId": "678032b7-9c70-4734-fcbc-f78ad684fbee"
      },
      "execution_count": 46,
      "outputs": [
        {
          "output_type": "stream",
          "name": "stdout",
          "text": [
            "WARNING: sorting by logz not well tested\n",
            "Topic 0: 4163\n",
            "Topic 1: 2507\n",
            "Topic 2: 1390\n",
            "Topic 3: 1665\n",
            "Topic 4: 1168\n",
            "Topic 5: 3047\n",
            "Topic 6: 44\n",
            "Topic 7: 795\n",
            "Topic 8: 0\n",
            "Topic 9: 492\n",
            "Topic 10: 467\n",
            "Topic 11: 96\n",
            "Topic 12: 45\n",
            "Topic 13: 297\n",
            "Topic 14: 1919\n",
            "Topic 15: 1171\n",
            "Topic 16: 951\n",
            "Topic 17: 0\n",
            "Topic 18: 25\n",
            "Topic 19: 1377\n",
            "Topic 20: 688\n",
            "Topic 21: 493\n",
            "Topic 22: 681\n",
            "Topic 23: 693\n",
            "Topic 24: 232\n",
            "Topic 25: 300\n",
            "Topic 26: 908\n",
            "Topic 27: 652\n",
            "Topic 28: 726\n",
            "Topic 29: 766\n",
            "Topic 30: 47\n",
            "Topic 31: 108\n",
            "Topic 32: 1214\n",
            "Topic 33: 967\n",
            "Topic 34: 329\n",
            "Topic 35: 1283\n",
            "Topic 36: 1573\n",
            "Topic 37: 46\n",
            "Topic 38: 1871\n",
            "Topic 39: 13\n",
            "Topic 40: 1096\n",
            "Topic 41: 1296\n",
            "Topic 42: 74\n",
            "Topic 43: 1689\n",
            "Topic 44: 41\n",
            "Topic 45: 1149\n",
            "Topic 46: 25\n",
            "Topic 47: 726\n",
            "Topic 48: 1423\n",
            "Topic 49: 1294\n",
            "44022\n"
          ]
        }
      ]
    },
    {
      "cell_type": "code",
      "source": [
        "TIME = \"150824\"\n",
        "EXPERIMENT_NAME = \"nonethnic_100k_corex\""
      ],
      "metadata": {
        "id": "ExomiD9bhO7P"
      },
      "execution_count": 48,
      "outputs": []
    },
    {
      "cell_type": "code",
      "source": [
        "joblib.dump(docs_per_topic, \"/content/drive/MyDrive/Representation Discrimination/{EXPERIMENT_NAME}_docs_per_topic_{TIME}.joblib\")"
      ],
      "metadata": {
        "colab": {
          "base_uri": "https://localhost:8080/"
        },
        "id": "VEHOHNXJh1YI",
        "outputId": "e9b8e925-df68-497a-c077-a438dd406ab4"
      },
      "execution_count": 49,
      "outputs": [
        {
          "output_type": "execute_result",
          "data": {
            "text/plain": [
              "['/content/drive/MyDrive/Representation Discrimination/{EXPERIMENT_NAME}_docs_per_topic_{TIME}.joblib']"
            ]
          },
          "metadata": {},
          "execution_count": 49
        }
      ]
    },
    {
      "cell_type": "code",
      "source": [
        "import matplotlib.pyplot as plt\n",
        "\n",
        "# Data\n",
        "genres = [\n",
        "    'Crime', 'Politics', 'Natural Disaster', 'Science & Environment',\n",
        "    'Govt. actions', 'Business & Economy', 'International Affairs',\n",
        "    'Education', 'Health', 'Sports', 'Accidents', 'Protests',\n",
        "    'Culture', 'Entertainment', 'Lifestyle', 'Tourism', 'Discourse'\n",
        "]\n",
        "\n",
        "counts = [\n",
        "    3117, 4304, 0, 0, 4994, 4096, 1940,\n",
        "    1096, 1444, 4163, 1171, 0,\n",
        "    1665, 1296, 2981, 0, 5021\n",
        "]\n",
        "\n",
        "# Plotting\n",
        "plt.figure(figsize=(14, 8))\n",
        "plt.barh(genres, counts, color='skyblue')\n",
        "plt.xlabel('Count')\n",
        "plt.ylabel('News Genres')\n",
        "plt.title('Distribution of News Genres')\n",
        "plt.grid(axis='x', linestyle='--', alpha=0.7)\n",
        "\n",
        "# Display the plot\n",
        "plt.show()\n"
      ],
      "metadata": {
        "id": "id6T2za3qDHM",
        "colab": {
          "base_uri": "https://localhost:8080/",
          "height": 738
        },
        "outputId": "2c9ae17b-bebb-4b8e-9a2c-ae6e061590dd"
      },
      "execution_count": 47,
      "outputs": [
        {
          "output_type": "display_data",
          "data": {
            "text/plain": [
              "<Figure size 1400x800 with 1 Axes>"
            ],
            "image/png": "[encoded data removed]"
          },
          "metadata": {}
        }
      ]
    },
    {
      "cell_type": "code",
      "source": [],
      "metadata": {
        "id": "6bP5j9bTAppv"
      },
      "execution_count": null,
      "outputs": []
    }
  ],
  "metadata": {
    "colab": {
      "machine_shape": "hm",
      "provenance": []
    },
    "kernelspec": {
      "display_name": "Python 3",
      "name": "python3"
    },
    "language_info": {
      "name": "python"
    }
  },
  "nbformat": 4,
  "nbformat_minor": 0
}