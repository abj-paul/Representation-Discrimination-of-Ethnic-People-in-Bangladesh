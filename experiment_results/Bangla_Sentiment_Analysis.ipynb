{
  "nbformat": 4,
  "nbformat_minor": 0,
  "metadata": {
    "colab": {
      "provenance": [],
      "collapsed_sections": [
        "_jQqGOqGXZ60",
        "SykXLkYMyoo7"
      ]
    },
    "kernelspec": {
      "name": "python3",
      "display_name": "Python 3"
    },
    "language_info": {
      "name": "python"
    }
  },
  "cells": [
    {
      "cell_type": "code",
      "source": [
        "from google.colab import drive\n",
        "drive.mount(\"/content/drive\")"
      ],
      "metadata": {
        "colab": {
          "base_uri": "https://localhost:8080/"
        },
        "id": "61wBnzkSec8W",
        "outputId": "be21669e-a3e4-45e0-c936-f457bf2b8a39"
      },
      "execution_count": 1,
      "outputs": [
        {
          "output_type": "stream",
          "name": "stdout",
          "text": [
            "Drive already mounted at /content/drive; to attempt to forcibly remount, call drive.mount(\"/content/drive\", force_remount=True).\n"
          ]
        }
      ]
    },
    {
      "cell_type": "code",
      "execution_count": 2,
      "metadata": {
        "id": "Hw23FDCXJBWP"
      },
      "outputs": [],
      "source": [
        "from transformers import pipeline"
      ]
    },
    {
      "cell_type": "code",
      "source": [
        "# Gradio interface function\n",
        "def predict_sentiment(text):\n",
        "    result = model(text)\n",
        "    sentiment = result[0]['label']\n",
        "    if sentiment == 1:\n",
        "      return \"Positive\"\n",
        "    elif sentiment == \"2\":\n",
        "      return \"Negative\"\n",
        "    else:\n",
        "      return \"Neutral\""
      ],
      "metadata": {
        "id": "tvMpHwtPJPgm"
      },
      "execution_count": 6,
      "outputs": []
    },
    {
      "cell_type": "code",
      "source": [
        "# Predefined examples\n",
        "predefined_examples = [\n",
        "    \"গবেষণার কাজে আমাদের সাহায্য করার জন্য রাইজকে অসংখ্য ধন্যবাদ\",\n",
        "              \"আমি বুয়েট এনএলপি এর হাগিং ফেস মডেলগুলি ব্যবহার করতে ভালোবাসি!\",\n",
        "              \"এই বইটি বিজ্ঞান ও প্রযুক্তির সমৃদ্ধি সম্পর্কে বিস্তারিত জ্ঞান প্রদান করে।\",\n",
        "              \"আমি খুব কষ্ট পাচ্ছি\", \"মডেলটি সঠিকভাবে অনুভূতি ধরতে ব্যর্থ হয়েছে।\",\n",
        "    \"আমার জীবন এখন একটি অস্বাভাবিক দুঃখে ভরা আছে।\",\n",
        "              \"এই বিষয়ে আমার কোন অভিজ্ঞতা নেই।\",\n",
        "              \"আমি এই ব্যাপারে কিছুই জানি না\",\n",
        "    \"আমি এই বইটি ভালোভাবে পড়তে পাচ্ছি\",\n",
        "    \"এটি একটি অসাধারণ অভিজ্ঞতা ছিল\",\n",
        "    \"আমার মনে হয় এই ফিল্মটি পুরস্কৃত হওয়া উচিত\"\n",
        "]"
      ],
      "metadata": {
        "id": "x0X7bYwlJ4nO"
      },
      "execution_count": 7,
      "outputs": []
    },
    {
      "cell_type": "markdown",
      "source": [
        "### Model Testing"
      ],
      "metadata": {
        "id": "v9M55yJtJ6Ts"
      }
    },
    {
      "cell_type": "code",
      "source": [
        "CONTEXT_LENGTH = 512\n",
        "model = pipeline(task=\"sentiment-analysis\", model=\"skl25/banglabert-sentiment\")\n",
        "\n",
        "predict_sentiment(\"আমি তোমাকে ঘৃণা করি \")"
      ],
      "metadata": {
        "colab": {
          "base_uri": "https://localhost:8080/",
          "height": 159
        },
        "id": "-bN5Ux53sSua",
        "outputId": "6761c957-f1ca-4026-b010-47d357208363"
      },
      "execution_count": 8,
      "outputs": [
        {
          "output_type": "stream",
          "name": "stderr",
          "text": [
            "/usr/local/lib/python3.10/dist-packages/huggingface_hub/utils/_token.py:89: UserWarning: \n",
            "The secret `HF_TOKEN` does not exist in your Colab secrets.\n",
            "To authenticate with the Hugging Face Hub, create a token in your settings tab (https://huggingface.co/settings/tokens), set it as secret in your Google Colab and restart your session.\n",
            "You will be able to reuse this secret in all of your notebooks.\n",
            "Please note that authentication is recommended but still optional to access public models or datasets.\n",
            "  warnings.warn(\n"
          ]
        },
        {
          "output_type": "execute_result",
          "data": {
            "text/plain": [
              "'Positive'"
            ],
            "application/vnd.google.colaboratory.intrinsic+json": {
              "type": "string"
            }
          },
          "metadata": {},
          "execution_count": 8
        }
      ]
    },
    {
      "cell_type": "code",
      "source": [
        "for example in predefined_examples:\n",
        "  print(f\"{example} -> {predict_sentiment(example)}\")"
      ],
      "metadata": {
        "colab": {
          "base_uri": "https://localhost:8080/"
        },
        "id": "q2OaIuBEJNRC",
        "outputId": "c875d800-8a86-46eb-ddde-584400abd48a"
      },
      "execution_count": 10,
      "outputs": [
        {
          "output_type": "stream",
          "name": "stdout",
          "text": [
            "গবেষণার কাজে আমাদের সাহায্য করার জন্য রাইজকে অসংখ্য ধন্যবাদ -> Positive\n",
            "আমি বুয়েট এনএলপি এর হাগিং ফেস মডেলগুলি ব্যবহার করতে ভালোবাসি! -> Neutral\n",
            "এই বইটি বিজ্ঞান ও প্রযুক্তির সমৃদ্ধি সম্পর্কে বিস্তারিত জ্ঞান প্রদান করে। -> Positive\n",
            "আমি খুব কষ্ট পাচ্ছি -> Neutral\n",
            "মডেলটি সঠিকভাবে অনুভূতি ধরতে ব্যর্থ হয়েছে। -> Neutral\n",
            "আমার জীবন এখন একটি অস্বাভাবিক দুঃখে ভরা আছে। -> Neutral\n",
            "এই বিষয়ে আমার কোন অভিজ্ঞতা নেই। -> Neutral\n",
            "আমি এই ব্যাপারে কিছুই জানি না -> Neutral\n",
            "আমি এই বইটি ভালোভাবে পড়তে পাচ্ছি -> Positive\n",
            "এটি একটি অসাধারণ অভিজ্ঞতা ছিল -> Positive\n",
            "আমার মনে হয় এই ফিল্মটি পুরস্কৃত হওয়া উচিত -> Positive\n"
          ]
        }
      ]
    },
    {
      "cell_type": "markdown",
      "source": [
        "### SBNLTK Bert"
      ],
      "metadata": {
        "id": "_jQqGOqGXZ60"
      }
    },
    {
      "cell_type": "code",
      "source": [
        "!pip3 install sbnltk\n",
        "!pip3 install simpletransformers\n",
        "!pip3 install fasttext\n",
        "!pip3 install scikit-learn"
      ],
      "metadata": {
        "colab": {
          "base_uri": "https://localhost:8080/"
        },
        "id": "CbbskqG0RBws",
        "outputId": "591b574c-04fd-4cfc-e84e-e32ab124fdb4"
      },
      "execution_count": 9,
      "outputs": [
        {
          "output_type": "stream",
          "name": "stdout",
          "text": [
            "Requirement already satisfied: sbnltk in /usr/local/lib/python3.10/dist-packages (2.0.2)\n",
            "Requirement already satisfied: gdown>=3.12.2 in /usr/local/lib/python3.10/dist-packages (from sbnltk) (5.1.0)\n",
            "Requirement already satisfied: google-trans-new>=1.1.9 in /usr/local/lib/python3.10/dist-packages (from sbnltk) (1.1.9)\n",
            "Requirement already satisfied: pandas>=1.2.2 in /usr/local/lib/python3.10/dist-packages (from sbnltk) (2.1.4)\n",
            "Requirement already satisfied: transformers>=4.3.2 in /usr/local/lib/python3.10/dist-packages (from sbnltk) (4.42.4)\n",
            "Requirement already satisfied: torch in /usr/local/lib/python3.10/dist-packages (from sbnltk) (2.3.1+cu121)\n",
            "Requirement already satisfied: tensorflow>=2.4.1 in /usr/local/lib/python3.10/dist-packages (from sbnltk) (2.17.0)\n",
            "Requirement already satisfied: sklearn-crfsuite>=0.3.6 in /usr/local/lib/python3.10/dist-packages (from sbnltk) (0.5.0)\n",
            "Requirement already satisfied: pytorch-pretrained-bert>=0.6.2 in /usr/local/lib/python3.10/dist-packages (from sbnltk) (0.6.2)\n",
            "Requirement already satisfied: sentence-transformers in /usr/local/lib/python3.10/dist-packages (from sbnltk) (3.0.1)\n",
            "Requirement already satisfied: beautifulsoup4 in /usr/local/lib/python3.10/dist-packages (from gdown>=3.12.2->sbnltk) (4.12.3)\n",
            "Requirement already satisfied: filelock in /usr/local/lib/python3.10/dist-packages (from gdown>=3.12.2->sbnltk) (3.15.4)\n",
            "Requirement already satisfied: requests[socks] in /usr/local/lib/python3.10/dist-packages (from gdown>=3.12.2->sbnltk) (2.32.3)\n",
            "Requirement already satisfied: tqdm in /usr/local/lib/python3.10/dist-packages (from gdown>=3.12.2->sbnltk) (4.66.5)\n",
            "Requirement already satisfied: numpy<2,>=1.22.4 in /usr/local/lib/python3.10/dist-packages (from pandas>=1.2.2->sbnltk) (1.26.4)\n",
            "Requirement already satisfied: python-dateutil>=2.8.2 in /usr/local/lib/python3.10/dist-packages (from pandas>=1.2.2->sbnltk) (2.8.2)\n",
            "Requirement already satisfied: pytz>=2020.1 in /usr/local/lib/python3.10/dist-packages (from pandas>=1.2.2->sbnltk) (2024.1)\n",
            "Requirement already satisfied: tzdata>=2022.1 in /usr/local/lib/python3.10/dist-packages (from pandas>=1.2.2->sbnltk) (2024.1)\n",
            "Requirement already satisfied: boto3 in /usr/local/lib/python3.10/dist-packages (from pytorch-pretrained-bert>=0.6.2->sbnltk) (1.35.5)\n",
            "Requirement already satisfied: regex in /usr/local/lib/python3.10/dist-packages (from pytorch-pretrained-bert>=0.6.2->sbnltk) (2024.5.15)\n",
            "Requirement already satisfied: python-crfsuite>=0.9.7 in /usr/local/lib/python3.10/dist-packages (from sklearn-crfsuite>=0.3.6->sbnltk) (0.9.10)\n",
            "Requirement already satisfied: scikit-learn>=0.24.0 in /usr/local/lib/python3.10/dist-packages (from sklearn-crfsuite>=0.3.6->sbnltk) (1.3.2)\n",
            "Requirement already satisfied: tabulate>=0.4.2 in /usr/local/lib/python3.10/dist-packages (from sklearn-crfsuite>=0.3.6->sbnltk) (0.9.0)\n",
            "Requirement already satisfied: absl-py>=1.0.0 in /usr/local/lib/python3.10/dist-packages (from tensorflow>=2.4.1->sbnltk) (1.4.0)\n",
            "Requirement already satisfied: astunparse>=1.6.0 in /usr/local/lib/python3.10/dist-packages (from tensorflow>=2.4.1->sbnltk) (1.6.3)\n",
            "Requirement already satisfied: flatbuffers>=24.3.25 in /usr/local/lib/python3.10/dist-packages (from tensorflow>=2.4.1->sbnltk) (24.3.25)\n",
            "Requirement already satisfied: gast!=0.5.0,!=0.5.1,!=0.5.2,>=0.2.1 in /usr/local/lib/python3.10/dist-packages (from tensorflow>=2.4.1->sbnltk) (0.6.0)\n",
            "Requirement already satisfied: google-pasta>=0.1.1 in /usr/local/lib/python3.10/dist-packages (from tensorflow>=2.4.1->sbnltk) (0.2.0)\n",
            "Requirement already satisfied: h5py>=3.10.0 in /usr/local/lib/python3.10/dist-packages (from tensorflow>=2.4.1->sbnltk) (3.11.0)\n",
            "Requirement already satisfied: libclang>=13.0.0 in /usr/local/lib/python3.10/dist-packages (from tensorflow>=2.4.1->sbnltk) (18.1.1)\n",
            "Requirement already satisfied: ml-dtypes<0.5.0,>=0.3.1 in /usr/local/lib/python3.10/dist-packages (from tensorflow>=2.4.1->sbnltk) (0.4.0)\n",
            "Requirement already satisfied: opt-einsum>=2.3.2 in /usr/local/lib/python3.10/dist-packages (from tensorflow>=2.4.1->sbnltk) (3.3.0)\n",
            "Requirement already satisfied: packaging in /usr/local/lib/python3.10/dist-packages (from tensorflow>=2.4.1->sbnltk) (24.1)\n",
            "Requirement already satisfied: protobuf!=4.21.0,!=4.21.1,!=4.21.2,!=4.21.3,!=4.21.4,!=4.21.5,<5.0.0dev,>=3.20.3 in /usr/local/lib/python3.10/dist-packages (from tensorflow>=2.4.1->sbnltk) (3.20.3)\n",
            "Requirement already satisfied: setuptools in /usr/local/lib/python3.10/dist-packages (from tensorflow>=2.4.1->sbnltk) (71.0.4)\n",
            "Requirement already satisfied: six>=1.12.0 in /usr/local/lib/python3.10/dist-packages (from tensorflow>=2.4.1->sbnltk) (1.16.0)\n",
            "Requirement already satisfied: termcolor>=1.1.0 in /usr/local/lib/python3.10/dist-packages (from tensorflow>=2.4.1->sbnltk) (2.4.0)\n",
            "Requirement already satisfied: typing-extensions>=3.6.6 in /usr/local/lib/python3.10/dist-packages (from tensorflow>=2.4.1->sbnltk) (4.12.2)\n",
            "Requirement already satisfied: wrapt>=1.11.0 in /usr/local/lib/python3.10/dist-packages (from tensorflow>=2.4.1->sbnltk) (1.16.0)\n",
            "Requirement already satisfied: grpcio<2.0,>=1.24.3 in /usr/local/lib/python3.10/dist-packages (from tensorflow>=2.4.1->sbnltk) (1.64.1)\n",
            "Requirement already satisfied: tensorboard<2.18,>=2.17 in /usr/local/lib/python3.10/dist-packages (from tensorflow>=2.4.1->sbnltk) (2.17.0)\n",
            "Requirement already satisfied: keras>=3.2.0 in /usr/local/lib/python3.10/dist-packages (from tensorflow>=2.4.1->sbnltk) (3.4.1)\n",
            "Requirement already satisfied: tensorflow-io-gcs-filesystem>=0.23.1 in /usr/local/lib/python3.10/dist-packages (from tensorflow>=2.4.1->sbnltk) (0.37.1)\n",
            "Requirement already satisfied: sympy in /usr/local/lib/python3.10/dist-packages (from torch->sbnltk) (1.13.2)\n",
            "Requirement already satisfied: networkx in /usr/local/lib/python3.10/dist-packages (from torch->sbnltk) (3.3)\n",
            "Requirement already satisfied: jinja2 in /usr/local/lib/python3.10/dist-packages (from torch->sbnltk) (3.1.4)\n",
            "Requirement already satisfied: fsspec in /usr/local/lib/python3.10/dist-packages (from torch->sbnltk) (2024.6.1)\n",
            "Requirement already satisfied: nvidia-cuda-nvrtc-cu12==12.1.105 in /usr/local/lib/python3.10/dist-packages (from torch->sbnltk) (12.1.105)\n",
            "Requirement already satisfied: nvidia-cuda-runtime-cu12==12.1.105 in /usr/local/lib/python3.10/dist-packages (from torch->sbnltk) (12.1.105)\n",
            "Requirement already satisfied: nvidia-cuda-cupti-cu12==12.1.105 in /usr/local/lib/python3.10/dist-packages (from torch->sbnltk) (12.1.105)\n",
            "Requirement already satisfied: nvidia-cudnn-cu12==8.9.2.26 in /usr/local/lib/python3.10/dist-packages (from torch->sbnltk) (8.9.2.26)\n",
            "Requirement already satisfied: nvidia-cublas-cu12==12.1.3.1 in /usr/local/lib/python3.10/dist-packages (from torch->sbnltk) (12.1.3.1)\n",
            "Requirement already satisfied: nvidia-cufft-cu12==11.0.2.54 in /usr/local/lib/python3.10/dist-packages (from torch->sbnltk) (11.0.2.54)\n",
            "Requirement already satisfied: nvidia-curand-cu12==10.3.2.106 in /usr/local/lib/python3.10/dist-packages (from torch->sbnltk) (10.3.2.106)\n",
            "Requirement already satisfied: nvidia-cusolver-cu12==11.4.5.107 in /usr/local/lib/python3.10/dist-packages (from torch->sbnltk) (11.4.5.107)\n",
            "Requirement already satisfied: nvidia-cusparse-cu12==12.1.0.106 in /usr/local/lib/python3.10/dist-packages (from torch->sbnltk) (12.1.0.106)\n",
            "Requirement already satisfied: nvidia-nccl-cu12==2.20.5 in /usr/local/lib/python3.10/dist-packages (from torch->sbnltk) (2.20.5)\n",
            "Requirement already satisfied: nvidia-nvtx-cu12==12.1.105 in /usr/local/lib/python3.10/dist-packages (from torch->sbnltk) (12.1.105)\n",
            "Requirement already satisfied: triton==2.3.1 in /usr/local/lib/python3.10/dist-packages (from torch->sbnltk) (2.3.1)\n",
            "Requirement already satisfied: nvidia-nvjitlink-cu12 in /usr/local/lib/python3.10/dist-packages (from nvidia-cusolver-cu12==11.4.5.107->torch->sbnltk) (12.6.20)\n",
            "Requirement already satisfied: huggingface-hub<1.0,>=0.23.2 in /usr/local/lib/python3.10/dist-packages (from transformers>=4.3.2->sbnltk) (0.23.5)\n",
            "Requirement already satisfied: pyyaml>=5.1 in /usr/local/lib/python3.10/dist-packages (from transformers>=4.3.2->sbnltk) (6.0.2)\n",
            "Requirement already satisfied: safetensors>=0.4.1 in /usr/local/lib/python3.10/dist-packages (from transformers>=4.3.2->sbnltk) (0.4.4)\n",
            "Requirement already satisfied: tokenizers<0.20,>=0.19 in /usr/local/lib/python3.10/dist-packages (from transformers>=4.3.2->sbnltk) (0.19.1)\n",
            "Requirement already satisfied: scipy in /usr/local/lib/python3.10/dist-packages (from sentence-transformers->sbnltk) (1.13.1)\n",
            "Requirement already satisfied: Pillow in /usr/local/lib/python3.10/dist-packages (from sentence-transformers->sbnltk) (9.4.0)\n",
            "Requirement already satisfied: wheel<1.0,>=0.23.0 in /usr/local/lib/python3.10/dist-packages (from astunparse>=1.6.0->tensorflow>=2.4.1->sbnltk) (0.44.0)\n",
            "Requirement already satisfied: rich in /usr/local/lib/python3.10/dist-packages (from keras>=3.2.0->tensorflow>=2.4.1->sbnltk) (13.7.1)\n",
            "Requirement already satisfied: namex in /usr/local/lib/python3.10/dist-packages (from keras>=3.2.0->tensorflow>=2.4.1->sbnltk) (0.0.8)\n",
            "Requirement already satisfied: optree in /usr/local/lib/python3.10/dist-packages (from keras>=3.2.0->tensorflow>=2.4.1->sbnltk) (0.12.1)\n",
            "Requirement already satisfied: charset-normalizer<4,>=2 in /usr/local/lib/python3.10/dist-packages (from requests[socks]->gdown>=3.12.2->sbnltk) (3.3.2)\n",
            "Requirement already satisfied: idna<4,>=2.5 in /usr/local/lib/python3.10/dist-packages (from requests[socks]->gdown>=3.12.2->sbnltk) (3.7)\n",
            "Requirement already satisfied: urllib3<3,>=1.21.1 in /usr/local/lib/python3.10/dist-packages (from requests[socks]->gdown>=3.12.2->sbnltk) (2.0.7)\n",
            "Requirement already satisfied: certifi>=2017.4.17 in /usr/local/lib/python3.10/dist-packages (from requests[socks]->gdown>=3.12.2->sbnltk) (2024.7.4)\n",
            "Requirement already satisfied: joblib>=1.1.1 in /usr/local/lib/python3.10/dist-packages (from scikit-learn>=0.24.0->sklearn-crfsuite>=0.3.6->sbnltk) (1.4.2)\n",
            "Requirement already satisfied: threadpoolctl>=2.0.0 in /usr/local/lib/python3.10/dist-packages (from scikit-learn>=0.24.0->sklearn-crfsuite>=0.3.6->sbnltk) (3.5.0)\n",
            "Requirement already satisfied: markdown>=2.6.8 in /usr/local/lib/python3.10/dist-packages (from tensorboard<2.18,>=2.17->tensorflow>=2.4.1->sbnltk) (3.7)\n",
            "Requirement already satisfied: tensorboard-data-server<0.8.0,>=0.7.0 in /usr/local/lib/python3.10/dist-packages (from tensorboard<2.18,>=2.17->tensorflow>=2.4.1->sbnltk) (0.7.2)\n",
            "Requirement already satisfied: werkzeug>=1.0.1 in /usr/local/lib/python3.10/dist-packages (from tensorboard<2.18,>=2.17->tensorflow>=2.4.1->sbnltk) (3.0.3)\n",
            "Requirement already satisfied: soupsieve>1.2 in /usr/local/lib/python3.10/dist-packages (from beautifulsoup4->gdown>=3.12.2->sbnltk) (2.6)\n",
            "Requirement already satisfied: botocore<1.36.0,>=1.35.5 in /usr/local/lib/python3.10/dist-packages (from boto3->pytorch-pretrained-bert>=0.6.2->sbnltk) (1.35.5)\n",
            "Requirement already satisfied: jmespath<2.0.0,>=0.7.1 in /usr/local/lib/python3.10/dist-packages (from boto3->pytorch-pretrained-bert>=0.6.2->sbnltk) (1.0.1)\n",
            "Requirement already satisfied: s3transfer<0.11.0,>=0.10.0 in /usr/local/lib/python3.10/dist-packages (from boto3->pytorch-pretrained-bert>=0.6.2->sbnltk) (0.10.2)\n",
            "Requirement already satisfied: MarkupSafe>=2.0 in /usr/local/lib/python3.10/dist-packages (from jinja2->torch->sbnltk) (2.1.5)\n",
            "Requirement already satisfied: PySocks!=1.5.7,>=1.5.6 in /usr/local/lib/python3.10/dist-packages (from requests[socks]->gdown>=3.12.2->sbnltk) (1.7.1)\n",
            "Requirement already satisfied: mpmath<1.4,>=1.1.0 in /usr/local/lib/python3.10/dist-packages (from sympy->torch->sbnltk) (1.3.0)\n",
            "Requirement already satisfied: markdown-it-py>=2.2.0 in /usr/local/lib/python3.10/dist-packages (from rich->keras>=3.2.0->tensorflow>=2.4.1->sbnltk) (3.0.0)\n",
            "Requirement already satisfied: pygments<3.0.0,>=2.13.0 in /usr/local/lib/python3.10/dist-packages (from rich->keras>=3.2.0->tensorflow>=2.4.1->sbnltk) (2.16.1)\n",
            "Requirement already satisfied: mdurl~=0.1 in /usr/local/lib/python3.10/dist-packages (from markdown-it-py>=2.2.0->rich->keras>=3.2.0->tensorflow>=2.4.1->sbnltk) (0.1.2)\n",
            "Requirement already satisfied: simpletransformers in /usr/local/lib/python3.10/dist-packages (0.70.1)\n",
            "Requirement already satisfied: numpy in /usr/local/lib/python3.10/dist-packages (from simpletransformers) (1.26.4)\n",
            "Requirement already satisfied: requests in /usr/local/lib/python3.10/dist-packages (from simpletransformers) (2.32.3)\n",
            "Requirement already satisfied: tqdm>=4.47.0 in /usr/local/lib/python3.10/dist-packages (from simpletransformers) (4.66.5)\n",
            "Requirement already satisfied: regex in /usr/local/lib/python3.10/dist-packages (from simpletransformers) (2024.5.15)\n",
            "Requirement already satisfied: transformers>=4.31.0 in /usr/local/lib/python3.10/dist-packages (from simpletransformers) (4.42.4)\n",
            "Requirement already satisfied: datasets in /usr/local/lib/python3.10/dist-packages (from simpletransformers) (2.21.0)\n",
            "Requirement already satisfied: scipy in /usr/local/lib/python3.10/dist-packages (from simpletransformers) (1.13.1)\n",
            "Requirement already satisfied: scikit-learn in /usr/local/lib/python3.10/dist-packages (from simpletransformers) (1.3.2)\n",
            "Requirement already satisfied: seqeval in /usr/local/lib/python3.10/dist-packages (from simpletransformers) (1.2.2)\n",
            "Requirement already satisfied: tensorboard in /usr/local/lib/python3.10/dist-packages (from simpletransformers) (2.17.0)\n",
            "Requirement already satisfied: tensorboardx in /usr/local/lib/python3.10/dist-packages (from simpletransformers) (2.6.2.2)\n",
            "Requirement already satisfied: pandas in /usr/local/lib/python3.10/dist-packages (from simpletransformers) (2.1.4)\n",
            "Requirement already satisfied: tokenizers in /usr/local/lib/python3.10/dist-packages (from simpletransformers) (0.19.1)\n",
            "Requirement already satisfied: wandb>=0.10.32 in /usr/local/lib/python3.10/dist-packages (from simpletransformers) (0.17.7)\n",
            "Requirement already satisfied: streamlit in /usr/local/lib/python3.10/dist-packages (from simpletransformers) (1.37.1)\n",
            "Requirement already satisfied: sentencepiece in /usr/local/lib/python3.10/dist-packages (from simpletransformers) (0.1.99)\n",
            "Requirement already satisfied: filelock in /usr/local/lib/python3.10/dist-packages (from transformers>=4.31.0->simpletransformers) (3.15.4)\n",
            "Requirement already satisfied: huggingface-hub<1.0,>=0.23.2 in /usr/local/lib/python3.10/dist-packages (from transformers>=4.31.0->simpletransformers) (0.23.5)\n",
            "Requirement already satisfied: packaging>=20.0 in /usr/local/lib/python3.10/dist-packages (from transformers>=4.31.0->simpletransformers) (24.1)\n",
            "Requirement already satisfied: pyyaml>=5.1 in /usr/local/lib/python3.10/dist-packages (from transformers>=4.31.0->simpletransformers) (6.0.2)\n",
            "Requirement already satisfied: safetensors>=0.4.1 in /usr/local/lib/python3.10/dist-packages (from transformers>=4.31.0->simpletransformers) (0.4.4)\n",
            "Requirement already satisfied: click!=8.0.0,>=7.1 in /usr/local/lib/python3.10/dist-packages (from wandb>=0.10.32->simpletransformers) (8.1.7)\n",
            "Requirement already satisfied: docker-pycreds>=0.4.0 in /usr/local/lib/python3.10/dist-packages (from wandb>=0.10.32->simpletransformers) (0.4.0)\n",
            "Requirement already satisfied: gitpython!=3.1.29,>=1.0.0 in /usr/local/lib/python3.10/dist-packages (from wandb>=0.10.32->simpletransformers) (3.1.43)\n",
            "Requirement already satisfied: platformdirs in /usr/local/lib/python3.10/dist-packages (from wandb>=0.10.32->simpletransformers) (4.2.2)\n",
            "Requirement already satisfied: protobuf!=4.21.0,<6,>=3.19.0 in /usr/local/lib/python3.10/dist-packages (from wandb>=0.10.32->simpletransformers) (3.20.3)\n",
            "Requirement already satisfied: psutil>=5.0.0 in /usr/local/lib/python3.10/dist-packages (from wandb>=0.10.32->simpletransformers) (5.9.5)\n",
            "Requirement already satisfied: sentry-sdk>=1.0.0 in /usr/local/lib/python3.10/dist-packages (from wandb>=0.10.32->simpletransformers) (2.13.0)\n",
            "Requirement already satisfied: setproctitle in /usr/local/lib/python3.10/dist-packages (from wandb>=0.10.32->simpletransformers) (1.3.3)\n",
            "Requirement already satisfied: setuptools in /usr/local/lib/python3.10/dist-packages (from wandb>=0.10.32->simpletransformers) (71.0.4)\n",
            "Requirement already satisfied: charset-normalizer<4,>=2 in /usr/local/lib/python3.10/dist-packages (from requests->simpletransformers) (3.3.2)\n",
            "Requirement already satisfied: idna<4,>=2.5 in /usr/local/lib/python3.10/dist-packages (from requests->simpletransformers) (3.7)\n",
            "Requirement already satisfied: urllib3<3,>=1.21.1 in /usr/local/lib/python3.10/dist-packages (from requests->simpletransformers) (2.0.7)\n",
            "Requirement already satisfied: certifi>=2017.4.17 in /usr/local/lib/python3.10/dist-packages (from requests->simpletransformers) (2024.7.4)\n",
            "Requirement already satisfied: pyarrow>=15.0.0 in /usr/local/lib/python3.10/dist-packages (from datasets->simpletransformers) (17.0.0)\n",
            "Requirement already satisfied: dill<0.3.9,>=0.3.0 in /usr/local/lib/python3.10/dist-packages (from datasets->simpletransformers) (0.3.8)\n",
            "Requirement already satisfied: xxhash in /usr/local/lib/python3.10/dist-packages (from datasets->simpletransformers) (3.5.0)\n",
            "Requirement already satisfied: multiprocess in /usr/local/lib/python3.10/dist-packages (from datasets->simpletransformers) (0.70.16)\n",
            "Requirement already satisfied: fsspec<=2024.6.1,>=2023.1.0 in /usr/local/lib/python3.10/dist-packages (from fsspec[http]<=2024.6.1,>=2023.1.0->datasets->simpletransformers) (2024.6.1)\n",
            "Requirement already satisfied: aiohttp in /usr/local/lib/python3.10/dist-packages (from datasets->simpletransformers) (3.10.5)\n",
            "Requirement already satisfied: python-dateutil>=2.8.2 in /usr/local/lib/python3.10/dist-packages (from pandas->simpletransformers) (2.8.2)\n",
            "Requirement already satisfied: pytz>=2020.1 in /usr/local/lib/python3.10/dist-packages (from pandas->simpletransformers) (2024.1)\n",
            "Requirement already satisfied: tzdata>=2022.1 in /usr/local/lib/python3.10/dist-packages (from pandas->simpletransformers) (2024.1)\n",
            "Requirement already satisfied: joblib>=1.1.1 in /usr/local/lib/python3.10/dist-packages (from scikit-learn->simpletransformers) (1.4.2)\n",
            "Requirement already satisfied: threadpoolctl>=2.0.0 in /usr/local/lib/python3.10/dist-packages (from scikit-learn->simpletransformers) (3.5.0)\n",
            "Requirement already satisfied: altair<6,>=4.0 in /usr/local/lib/python3.10/dist-packages (from streamlit->simpletransformers) (4.2.2)\n",
            "Requirement already satisfied: blinker<2,>=1.0.0 in /usr/lib/python3/dist-packages (from streamlit->simpletransformers) (1.4)\n",
            "Requirement already satisfied: cachetools<6,>=4.0 in /usr/local/lib/python3.10/dist-packages (from streamlit->simpletransformers) (5.5.0)\n",
            "Requirement already satisfied: pillow<11,>=7.1.0 in /usr/local/lib/python3.10/dist-packages (from streamlit->simpletransformers) (9.4.0)\n",
            "Requirement already satisfied: rich<14,>=10.14.0 in /usr/local/lib/python3.10/dist-packages (from streamlit->simpletransformers) (13.7.1)\n",
            "Requirement already satisfied: tenacity<9,>=8.1.0 in /usr/local/lib/python3.10/dist-packages (from streamlit->simpletransformers) (8.5.0)\n",
            "Requirement already satisfied: toml<2,>=0.10.1 in /usr/local/lib/python3.10/dist-packages (from streamlit->simpletransformers) (0.10.2)\n",
            "Requirement already satisfied: typing-extensions<5,>=4.3.0 in /usr/local/lib/python3.10/dist-packages (from streamlit->simpletransformers) (4.12.2)\n",
            "Requirement already satisfied: pydeck<1,>=0.8.0b4 in /usr/local/lib/python3.10/dist-packages (from streamlit->simpletransformers) (0.9.1)\n",
            "Requirement already satisfied: tornado<7,>=6.0.3 in /usr/local/lib/python3.10/dist-packages (from streamlit->simpletransformers) (6.3.3)\n",
            "Requirement already satisfied: watchdog<5,>=2.1.5 in /usr/local/lib/python3.10/dist-packages (from streamlit->simpletransformers) (4.0.2)\n",
            "Requirement already satisfied: absl-py>=0.4 in /usr/local/lib/python3.10/dist-packages (from tensorboard->simpletransformers) (1.4.0)\n",
            "Requirement already satisfied: grpcio>=1.48.2 in /usr/local/lib/python3.10/dist-packages (from tensorboard->simpletransformers) (1.64.1)\n",
            "Requirement already satisfied: markdown>=2.6.8 in /usr/local/lib/python3.10/dist-packages (from tensorboard->simpletransformers) (3.7)\n",
            "Requirement already satisfied: six>1.9 in /usr/local/lib/python3.10/dist-packages (from tensorboard->simpletransformers) (1.16.0)\n",
            "Requirement already satisfied: tensorboard-data-server<0.8.0,>=0.7.0 in /usr/local/lib/python3.10/dist-packages (from tensorboard->simpletransformers) (0.7.2)\n",
            "Requirement already satisfied: werkzeug>=1.0.1 in /usr/local/lib/python3.10/dist-packages (from tensorboard->simpletransformers) (3.0.3)\n",
            "Requirement already satisfied: entrypoints in /usr/local/lib/python3.10/dist-packages (from altair<6,>=4.0->streamlit->simpletransformers) (0.4)\n",
            "Requirement already satisfied: jinja2 in /usr/local/lib/python3.10/dist-packages (from altair<6,>=4.0->streamlit->simpletransformers) (3.1.4)\n",
            "Requirement already satisfied: jsonschema>=3.0 in /usr/local/lib/python3.10/dist-packages (from altair<6,>=4.0->streamlit->simpletransformers) (4.23.0)\n",
            "Requirement already satisfied: toolz in /usr/local/lib/python3.10/dist-packages (from altair<6,>=4.0->streamlit->simpletransformers) (0.12.1)\n",
            "Requirement already satisfied: aiohappyeyeballs>=2.3.0 in /usr/local/lib/python3.10/dist-packages (from aiohttp->datasets->simpletransformers) (2.4.0)\n",
            "Requirement already satisfied: aiosignal>=1.1.2 in /usr/local/lib/python3.10/dist-packages (from aiohttp->datasets->simpletransformers) (1.3.1)\n",
            "Requirement already satisfied: attrs>=17.3.0 in /usr/local/lib/python3.10/dist-packages (from aiohttp->datasets->simpletransformers) (24.2.0)\n",
            "Requirement already satisfied: frozenlist>=1.1.1 in /usr/local/lib/python3.10/dist-packages (from aiohttp->datasets->simpletransformers) (1.4.1)\n",
            "Requirement already satisfied: multidict<7.0,>=4.5 in /usr/local/lib/python3.10/dist-packages (from aiohttp->datasets->simpletransformers) (6.0.5)\n",
            "Requirement already satisfied: yarl<2.0,>=1.0 in /usr/local/lib/python3.10/dist-packages (from aiohttp->datasets->simpletransformers) (1.9.4)\n",
            "Requirement already satisfied: async-timeout<5.0,>=4.0 in /usr/local/lib/python3.10/dist-packages (from aiohttp->datasets->simpletransformers) (4.0.3)\n",
            "Requirement already satisfied: gitdb<5,>=4.0.1 in /usr/local/lib/python3.10/dist-packages (from gitpython!=3.1.29,>=1.0.0->wandb>=0.10.32->simpletransformers) (4.0.11)\n",
            "Requirement already satisfied: markdown-it-py>=2.2.0 in /usr/local/lib/python3.10/dist-packages (from rich<14,>=10.14.0->streamlit->simpletransformers) (3.0.0)\n",
            "Requirement already satisfied: pygments<3.0.0,>=2.13.0 in /usr/local/lib/python3.10/dist-packages (from rich<14,>=10.14.0->streamlit->simpletransformers) (2.16.1)\n",
            "Requirement already satisfied: MarkupSafe>=2.1.1 in /usr/local/lib/python3.10/dist-packages (from werkzeug>=1.0.1->tensorboard->simpletransformers) (2.1.5)\n",
            "Requirement already satisfied: smmap<6,>=3.0.1 in /usr/local/lib/python3.10/dist-packages (from gitdb<5,>=4.0.1->gitpython!=3.1.29,>=1.0.0->wandb>=0.10.32->simpletransformers) (5.0.1)\n",
            "Requirement already satisfied: jsonschema-specifications>=2023.03.6 in /usr/local/lib/python3.10/dist-packages (from jsonschema>=3.0->altair<6,>=4.0->streamlit->simpletransformers) (2023.12.1)\n",
            "Requirement already satisfied: referencing>=0.28.4 in /usr/local/lib/python3.10/dist-packages (from jsonschema>=3.0->altair<6,>=4.0->streamlit->simpletransformers) (0.35.1)\n",
            "Requirement already satisfied: rpds-py>=0.7.1 in /usr/local/lib/python3.10/dist-packages (from jsonschema>=3.0->altair<6,>=4.0->streamlit->simpletransformers) (0.20.0)\n",
            "Requirement already satisfied: mdurl~=0.1 in /usr/local/lib/python3.10/dist-packages (from markdown-it-py>=2.2.0->rich<14,>=10.14.0->streamlit->simpletransformers) (0.1.2)\n",
            "Collecting fasttext\n",
            "  Using cached fasttext-0.9.3.tar.gz (73 kB)\n",
            "  Installing build dependencies ... \u001b[?25l\u001b[?25hdone\n",
            "  Getting requirements to build wheel ... \u001b[?25l\u001b[?25hdone\n",
            "  Preparing metadata (pyproject.toml) ... \u001b[?25l\u001b[?25hdone\n",
            "Collecting pybind11>=2.2 (from fasttext)\n",
            "  Using cached pybind11-2.13.5-py3-none-any.whl.metadata (9.5 kB)\n",
            "Requirement already satisfied: setuptools>=0.7.0 in /usr/local/lib/python3.10/dist-packages (from fasttext) (71.0.4)\n",
            "Requirement already satisfied: numpy in /usr/local/lib/python3.10/dist-packages (from fasttext) (1.26.4)\n",
            "Using cached pybind11-2.13.5-py3-none-any.whl (240 kB)\n",
            "Building wheels for collected packages: fasttext\n",
            "  Building wheel for fasttext (pyproject.toml) ... \u001b[?25l\u001b[?25hdone\n",
            "  Created wheel for fasttext: filename=fasttext-0.9.3-cp310-cp310-linux_x86_64.whl size=4246561 sha256=631c6acd544687f4e3b94a23bf019de3092c998d355d788a3964f5220cc23cdb\n",
            "  Stored in directory: /root/.cache/pip/wheels/0d/a2/00/81db54d3e6a8199b829d58e02cec2ddb20ce3e59fad8d3c92a\n",
            "Successfully built fasttext\n",
            "Installing collected packages: pybind11, fasttext\n",
            "Successfully installed fasttext-0.9.3 pybind11-2.13.5\n",
            "Requirement already satisfied: scikit-learn in /usr/local/lib/python3.10/dist-packages (1.3.2)\n",
            "Requirement already satisfied: numpy<2.0,>=1.17.3 in /usr/local/lib/python3.10/dist-packages (from scikit-learn) (1.26.4)\n",
            "Requirement already satisfied: scipy>=1.5.0 in /usr/local/lib/python3.10/dist-packages (from scikit-learn) (1.13.1)\n",
            "Requirement already satisfied: joblib>=1.1.1 in /usr/local/lib/python3.10/dist-packages (from scikit-learn) (1.4.2)\n",
            "Requirement already satisfied: threadpoolctl>=2.0.0 in /usr/local/lib/python3.10/dist-packages (from scikit-learn) (3.5.0)\n"
          ]
        }
      ]
    },
    {
      "cell_type": "code",
      "source": [
        "import tensorflow as tf\n",
        "print(tf.__version__)"
      ],
      "metadata": {
        "colab": {
          "base_uri": "https://localhost:8080/"
        },
        "id": "LyvU9_vdS3Tk",
        "outputId": "de25fdfb-e819-4f2a-a3ef-8c65ad8eb965"
      },
      "execution_count": 16,
      "outputs": [
        {
          "output_type": "stream",
          "name": "stdout",
          "text": [
            "2.17.0\n"
          ]
        }
      ]
    },
    {
      "cell_type": "code",
      "source": [
        "!pip install tfa-nightly"
      ],
      "metadata": {
        "colab": {
          "base_uri": "https://localhost:8080/",
          "height": 414
        },
        "id": "SQOpyxYHSPkx",
        "outputId": "8784f13c-e2bc-49cc-b018-2ab588b7eb89"
      },
      "execution_count": 18,
      "outputs": [
        {
          "output_type": "stream",
          "name": "stdout",
          "text": [
            "Collecting tfa-nightly\n",
            "  Downloading tfa_nightly-0.23.0.dev20240415222534-cp310-cp310-manylinux_2_17_x86_64.manylinux2014_x86_64.whl.metadata (1.8 kB)\n",
            "Requirement already satisfied: packaging in /usr/local/lib/python3.10/dist-packages (from tfa-nightly) (24.1)\n",
            "Collecting typeguard<3.0.0,>=2.7 (from tfa-nightly)\n",
            "  Downloading typeguard-2.13.3-py3-none-any.whl.metadata (3.6 kB)\n",
            "Downloading tfa_nightly-0.23.0.dev20240415222534-cp310-cp310-manylinux_2_17_x86_64.manylinux2014_x86_64.whl (620 kB)\n",
            "\u001b[2K   \u001b[90m━━━━━━━━━━━━━━━━━━━━━━━━━━━━━━━━━━━━━━━━\u001b[0m \u001b[32m620.3/620.3 kB\u001b[0m \u001b[31m2.6 MB/s\u001b[0m eta \u001b[36m0:00:00\u001b[0m\n",
            "\u001b[?25hDownloading typeguard-2.13.3-py3-none-any.whl (17 kB)\n",
            "Installing collected packages: typeguard, tfa-nightly\n",
            "  Attempting uninstall: typeguard\n",
            "    Found existing installation: typeguard 4.3.0\n",
            "    Uninstalling typeguard-4.3.0:\n",
            "      Successfully uninstalled typeguard-4.3.0\n",
            "\u001b[31mERROR: pip's dependency resolver does not currently take into account all the packages that are installed. This behaviour is the source of the following dependency conflicts.\n",
            "inflect 7.3.1 requires typeguard>=4.0.1, but you have typeguard 2.13.3 which is incompatible.\u001b[0m\u001b[31m\n",
            "\u001b[0mSuccessfully installed tfa-nightly-0.23.0.dev20240415222534 typeguard-2.13.3\n"
          ]
        },
        {
          "output_type": "display_data",
          "data": {
            "application/vnd.colab-display-data+json": {
              "pip_warning": {
                "packages": [
                  "typeguard"
                ]
              },
              "id": "d3500fd54f854d7aa3a105ae5633eccd"
            }
          },
          "metadata": {}
        }
      ]
    },
    {
      "cell_type": "code",
      "source": [
        "import tensorflow as tf\n",
        "from sbnltk.SentimentAnalyzer import sentimentAnalyzer\n",
        "\n",
        "# Ensure the SentimentAnalyzer is correctly initialized\n",
        "sa = sentimentAnalyzer()\n",
        "\n",
        "# Function to convert inputs to the appropriate format\n",
        "def preprocess_texts(texts):\n",
        "    # Here, you would add any preprocessing steps required by your BERT model\n",
        "    return [tf.convert_to_tensor(text) for text in texts]\n",
        "\n",
        "# Texts for prediction\n",
        "texts = ['তাঁকে বাংলা ভাষার সর্বশ্রেষ্ঠ সাহিত্যিক মনে করা হয়',\n",
        "         'সে আমার ক্লাসের খারাপ ছেলে',\n",
        "         'তিনি এই কাজটি করতে চান না',\n",
        "         'সে তার ক্লাসে সর্বোচ্চ স্কোর পায়']\n",
        "\n",
        "# Preprocess texts (if necessary)\n",
        "texts = preprocess_texts(texts)\n",
        "\n",
        "# Predict sentiment\n",
        "predictions = sa.predict('BERT', texts)\n",
        "\n",
        "# Output the predictions\n",
        "print(predictions)\n",
        "\n",
        "# Expected format: ([predicted_labels], [confidence_scores])\n"
      ],
      "metadata": {
        "colab": {
          "base_uri": "https://localhost:8080/",
          "height": 1000
        },
        "id": "4ih9ElFy7eeY",
        "outputId": "010a120b-8362-46e5-b8fd-e75e1032f9c2"
      },
      "execution_count": 20,
      "outputs": [
        {
          "output_type": "stream",
          "name": "stderr",
          "text": [
            "loading configuration file config.json from cache at /root/.cache/huggingface/hub/models--bert-base-multilingual-cased/snapshots/3f076fdb1ab68d5b2880cb87a0886f315b8146f8/config.json\n",
            "Model config BertConfig {\n",
            "  \"architectures\": [\n",
            "    \"BertForMaskedLM\"\n",
            "  ],\n",
            "  \"attention_probs_dropout_prob\": 0.1,\n",
            "  \"classifier_dropout\": null,\n",
            "  \"directionality\": \"bidi\",\n",
            "  \"hidden_act\": \"gelu\",\n",
            "  \"hidden_dropout_prob\": 0.1,\n",
            "  \"hidden_size\": 768,\n",
            "  \"initializer_range\": 0.02,\n",
            "  \"intermediate_size\": 3072,\n",
            "  \"layer_norm_eps\": 1e-12,\n",
            "  \"max_position_embeddings\": 512,\n",
            "  \"model_type\": \"bert\",\n",
            "  \"num_attention_heads\": 12,\n",
            "  \"num_hidden_layers\": 12,\n",
            "  \"pad_token_id\": 0,\n",
            "  \"pooler_fc_size\": 768,\n",
            "  \"pooler_num_attention_heads\": 12,\n",
            "  \"pooler_num_fc_layers\": 3,\n",
            "  \"pooler_size_per_head\": 128,\n",
            "  \"pooler_type\": \"first_token_transform\",\n",
            "  \"position_embedding_type\": \"absolute\",\n",
            "  \"transformers_version\": \"4.42.4\",\n",
            "  \"type_vocab_size\": 2,\n",
            "  \"use_cache\": true,\n",
            "  \"vocab_size\": 119547\n",
            "}\n",
            "\n",
            "loading weights file model.safetensors from cache at /root/.cache/huggingface/hub/models--bert-base-multilingual-cased/snapshots/3f076fdb1ab68d5b2880cb87a0886f315b8146f8/model.safetensors\n",
            "Loaded 177,853,440 parameters in the TF 2.0 model.\n",
            "Some weights of the PyTorch model were not used when initializing the TF 2.0 model TFBertModel: ['cls.predictions.transform.LayerNorm.bias', 'cls.predictions.transform.LayerNorm.weight', 'cls.seq_relationship.bias', 'cls.predictions.bias', 'cls.seq_relationship.weight', 'cls.predictions.transform.dense.weight', 'cls.predictions.transform.dense.bias']\n",
            "- This IS expected if you are initializing TFBertModel from a PyTorch model trained on another task or with another architecture (e.g. initializing a TFBertForSequenceClassification model from a BertForPreTraining model).\n",
            "- This IS NOT expected if you are initializing TFBertModel from a PyTorch model that you expect to be exactly identical (e.g. initializing a TFBertForSequenceClassification model from a BertForSequenceClassification model).\n",
            "All the weights of TFBertModel were initialized from the PyTorch model.\n",
            "If your task is similar to the task the model of the checkpoint was trained on, you can already use TFBertModel for predictions without further training.\n"
          ]
        },
        {
          "output_type": "error",
          "ename": "ValueError",
          "evalue": "Exception encountered when calling layer 'tf_bert_model_1' (type TFBertModel).\n\nData of type <class 'keras.src.backend.common.keras_tensor.KerasTensor'> is not allowed only (<class 'tensorflow.python.framework.tensor.Tensor'>, <class 'bool'>, <class 'int'>, <class 'transformers.utils.generic.ModelOutput'>, <class 'tuple'>, <class 'list'>, <class 'dict'>, <class 'numpy.ndarray'>) is accepted for input_ids.\n\nCall arguments received by layer 'tf_bert_model_1' (type TFBertModel):\n  • input_ids=['<KerasTensor shape=(None, 147), dtype=int32, sparse=None, name=input_word_ids>', '<KerasTensor shape=(None, 147), dtype=int32, sparse=None, name=input_masks>', '<KerasTensor shape=(None, 147), dtype=int32, sparse=None, name=input_segment>']\n  • attention_mask=None\n  • token_type_ids=None\n  • position_ids=None\n  • head_mask=None\n  • inputs_embeds=None\n  • encoder_hidden_states=None\n  • encoder_attention_mask=None\n  • past_key_values=None\n  • use_cache=None\n  • output_attentions=None\n  • output_hidden_states=None\n  • return_dict=None\n  • training=False",
          "traceback": [
            "\u001b[0;31m---------------------------------------------------------------------------\u001b[0m",
            "\u001b[0;31mValueError\u001b[0m                                Traceback (most recent call last)",
            "\u001b[0;32m<ipython-input-20-fd6fe4134f91>\u001b[0m in \u001b[0;36m<cell line: 22>\u001b[0;34m()\u001b[0m\n\u001b[1;32m     20\u001b[0m \u001b[0;34m\u001b[0m\u001b[0m\n\u001b[1;32m     21\u001b[0m \u001b[0;31m# Predict sentiment\u001b[0m\u001b[0;34m\u001b[0m\u001b[0;34m\u001b[0m\u001b[0m\n\u001b[0;32m---> 22\u001b[0;31m \u001b[0mpredictions\u001b[0m \u001b[0;34m=\u001b[0m \u001b[0msa\u001b[0m\u001b[0;34m.\u001b[0m\u001b[0mpredict\u001b[0m\u001b[0;34m(\u001b[0m\u001b[0;34m'BERT'\u001b[0m\u001b[0;34m,\u001b[0m \u001b[0mtexts\u001b[0m\u001b[0;34m)\u001b[0m\u001b[0;34m\u001b[0m\u001b[0;34m\u001b[0m\u001b[0m\n\u001b[0m\u001b[1;32m     23\u001b[0m \u001b[0;34m\u001b[0m\u001b[0m\n\u001b[1;32m     24\u001b[0m \u001b[0;31m# Output the predictions\u001b[0m\u001b[0;34m\u001b[0m\u001b[0;34m\u001b[0m\u001b[0m\n",
            "\u001b[0;32m/usr/local/lib/python3.10/dist-packages/sbnltk/SentimentAnalyzer.py\u001b[0m in \u001b[0;36mpredict\u001b[0;34m(self, model_code, sentences)\u001b[0m\n\u001b[1;32m    149\u001b[0m             \u001b[0;32mreturn\u001b[0m \u001b[0mpred\u001b[0m\u001b[0;34m,\u001b[0m\u001b[0mprop\u001b[0m\u001b[0;34m\u001b[0m\u001b[0;34m\u001b[0m\u001b[0m\n\u001b[1;32m    150\u001b[0m         \u001b[0;32melif\u001b[0m \u001b[0mmodel_code\u001b[0m\u001b[0;34m==\u001b[0m\u001b[0;34m'BERT'\u001b[0m\u001b[0;34m:\u001b[0m\u001b[0;34m\u001b[0m\u001b[0;34m\u001b[0m\u001b[0m\n\u001b[0;32m--> 151\u001b[0;31m             \u001b[0mpred\u001b[0m\u001b[0;34m,\u001b[0m\u001b[0mprop\u001b[0m\u001b[0;34m=\u001b[0m\u001b[0mself\u001b[0m\u001b[0;34m.\u001b[0m\u001b[0m__BERT\u001b[0m\u001b[0;34m(\u001b[0m\u001b[0msentences\u001b[0m\u001b[0;34m)\u001b[0m\u001b[0;34m\u001b[0m\u001b[0;34m\u001b[0m\u001b[0m\n\u001b[0m\u001b[1;32m    152\u001b[0m             \u001b[0;32mreturn\u001b[0m \u001b[0mpred\u001b[0m\u001b[0;34m,\u001b[0m\u001b[0mprop\u001b[0m\u001b[0;34m\u001b[0m\u001b[0;34m\u001b[0m\u001b[0m\n\u001b[1;32m    153\u001b[0m         \u001b[0;32melse\u001b[0m\u001b[0;34m:\u001b[0m\u001b[0;34m\u001b[0m\u001b[0;34m\u001b[0m\u001b[0m\n",
            "\u001b[0;32m/usr/local/lib/python3.10/dist-packages/sbnltk/SentimentAnalyzer.py\u001b[0m in \u001b[0;36m__BERT\u001b[0;34m(self, sentence)\u001b[0m\n\u001b[1;32m    130\u001b[0m         \u001b[0mself\u001b[0m\u001b[0;34m.\u001b[0m\u001b[0m__dl\u001b[0m\u001b[0;34m.\u001b[0m\u001b[0mdownload\u001b[0m\u001b[0;34m(\u001b[0m\u001b[0;34m'sentiment_BERT'\u001b[0m\u001b[0;34m,\u001b[0m\u001b[0msbnltk_default\u001b[0m\u001b[0;34m.\u001b[0m\u001b[0msbnltk_root_path\u001b[0m\u001b[0;34m+\u001b[0m \u001b[0;34m'model/'\u001b[0m\u001b[0;34m)\u001b[0m\u001b[0;34m\u001b[0m\u001b[0;34m\u001b[0m\u001b[0m\n\u001b[1;32m    131\u001b[0m         \u001b[0mself\u001b[0m\u001b[0;34m.\u001b[0m\u001b[0m__dl\u001b[0m\u001b[0;34m.\u001b[0m\u001b[0mdownload\u001b[0m\u001b[0;34m(\u001b[0m\u001b[0;34m'sentiment_multilingual_vocab'\u001b[0m\u001b[0;34m,\u001b[0m\u001b[0msbnltk_default\u001b[0m\u001b[0;34m.\u001b[0m\u001b[0msbnltk_root_path\u001b[0m\u001b[0;34m+\u001b[0m\u001b[0;34m'model/'\u001b[0m\u001b[0;34m)\u001b[0m\u001b[0;34m\u001b[0m\u001b[0;34m\u001b[0m\u001b[0m\n\u001b[0;32m--> 132\u001b[0;31m         \u001b[0mbert\u001b[0m \u001b[0;34m=\u001b[0m \u001b[0mself\u001b[0m\u001b[0;34m.\u001b[0m\u001b[0m__create_sentiment_bert\u001b[0m\u001b[0;34m(\u001b[0m\u001b[0;34m)\u001b[0m\u001b[0;34m\u001b[0m\u001b[0;34m\u001b[0m\u001b[0m\n\u001b[0m\u001b[1;32m    133\u001b[0m         \u001b[0mbert\u001b[0m\u001b[0;34m.\u001b[0m\u001b[0mload_weights\u001b[0m\u001b[0;34m(\u001b[0m\u001b[0msbnltk_default\u001b[0m\u001b[0;34m.\u001b[0m\u001b[0msbnltk_root_path\u001b[0m\u001b[0;34m+\u001b[0m\u001b[0;34m'model/sentiment_BERT.h5'\u001b[0m\u001b[0;34m)\u001b[0m\u001b[0;34m\u001b[0m\u001b[0;34m\u001b[0m\u001b[0m\n\u001b[1;32m    134\u001b[0m         \u001b[0;32mreturn\u001b[0m \u001b[0mself\u001b[0m\u001b[0;34m.\u001b[0m\u001b[0m__b_predict\u001b[0m\u001b[0;34m(\u001b[0m\u001b[0mbert\u001b[0m\u001b[0;34m,\u001b[0m\u001b[0msentence\u001b[0m\u001b[0;34m)\u001b[0m\u001b[0;34m\u001b[0m\u001b[0;34m\u001b[0m\u001b[0m\n",
            "\u001b[0;32m/usr/local/lib/python3.10/dist-packages/sbnltk/SentimentAnalyzer.py\u001b[0m in \u001b[0;36m__create_sentiment_bert\u001b[0;34m(self)\u001b[0m\n\u001b[1;32m    118\u001b[0m         \u001b[0mmask_inputs\u001b[0m \u001b[0;34m=\u001b[0m \u001b[0mtf\u001b[0m\u001b[0;34m.\u001b[0m\u001b[0mkeras\u001b[0m\u001b[0;34m.\u001b[0m\u001b[0mlayers\u001b[0m\u001b[0;34m.\u001b[0m\u001b[0mInput\u001b[0m\u001b[0;34m(\u001b[0m\u001b[0;34m(\u001b[0m\u001b[0mSEQ_LEN\u001b[0m\u001b[0;34m,\u001b[0m\u001b[0;34m)\u001b[0m\u001b[0;34m,\u001b[0m \u001b[0mdtype\u001b[0m\u001b[0;34m=\u001b[0m\u001b[0mtf\u001b[0m\u001b[0;34m.\u001b[0m\u001b[0mint32\u001b[0m\u001b[0;34m,\u001b[0m \u001b[0mname\u001b[0m\u001b[0;34m=\u001b[0m\u001b[0;34m'input_masks'\u001b[0m\u001b[0;34m)\u001b[0m\u001b[0;34m\u001b[0m\u001b[0;34m\u001b[0m\u001b[0m\n\u001b[1;32m    119\u001b[0m         \u001b[0msegment_inputs\u001b[0m \u001b[0;34m=\u001b[0m \u001b[0mtf\u001b[0m\u001b[0;34m.\u001b[0m\u001b[0mkeras\u001b[0m\u001b[0;34m.\u001b[0m\u001b[0mlayers\u001b[0m\u001b[0;34m.\u001b[0m\u001b[0mInput\u001b[0m\u001b[0;34m(\u001b[0m\u001b[0;34m(\u001b[0m\u001b[0mSEQ_LEN\u001b[0m\u001b[0;34m,\u001b[0m\u001b[0;34m)\u001b[0m\u001b[0;34m,\u001b[0m \u001b[0mdtype\u001b[0m\u001b[0;34m=\u001b[0m\u001b[0mtf\u001b[0m\u001b[0;34m.\u001b[0m\u001b[0mint32\u001b[0m\u001b[0;34m,\u001b[0m \u001b[0mname\u001b[0m\u001b[0;34m=\u001b[0m\u001b[0;34m'input_segment'\u001b[0m\u001b[0;34m)\u001b[0m\u001b[0;34m\u001b[0m\u001b[0;34m\u001b[0m\u001b[0m\n\u001b[0;32m--> 120\u001b[0;31m         \u001b[0mbert_outputs\u001b[0m \u001b[0;34m=\u001b[0m \u001b[0mmodel\u001b[0m\u001b[0;34m(\u001b[0m\u001b[0;34m[\u001b[0m\u001b[0mtoken_inputs\u001b[0m\u001b[0;34m,\u001b[0m \u001b[0mmask_inputs\u001b[0m\u001b[0;34m,\u001b[0m \u001b[0msegment_inputs\u001b[0m\u001b[0;34m]\u001b[0m\u001b[0;34m)\u001b[0m\u001b[0;34m\u001b[0m\u001b[0;34m\u001b[0m\u001b[0m\n\u001b[0m\u001b[1;32m    121\u001b[0m         \u001b[0mbert_outputs\u001b[0m \u001b[0;34m=\u001b[0m \u001b[0mbert_outputs\u001b[0m\u001b[0;34m[\u001b[0m\u001b[0;36m1\u001b[0m\u001b[0;34m]\u001b[0m\u001b[0;34m\u001b[0m\u001b[0;34m\u001b[0m\u001b[0m\n\u001b[1;32m    122\u001b[0m         sentiment_first = tf.keras.layers.Dense(1, activation='sigmoid',\n",
            "\u001b[0;32m/usr/local/lib/python3.10/dist-packages/tf_keras/src/utils/traceback_utils.py\u001b[0m in \u001b[0;36merror_handler\u001b[0;34m(*args, **kwargs)\u001b[0m\n\u001b[1;32m     68\u001b[0m             \u001b[0;31m# To get the full stack trace, call:\u001b[0m\u001b[0;34m\u001b[0m\u001b[0;34m\u001b[0m\u001b[0m\n\u001b[1;32m     69\u001b[0m             \u001b[0;31m# `tf.debugging.disable_traceback_filtering()`\u001b[0m\u001b[0;34m\u001b[0m\u001b[0;34m\u001b[0m\u001b[0m\n\u001b[0;32m---> 70\u001b[0;31m             \u001b[0;32mraise\u001b[0m \u001b[0me\u001b[0m\u001b[0;34m.\u001b[0m\u001b[0mwith_traceback\u001b[0m\u001b[0;34m(\u001b[0m\u001b[0mfiltered_tb\u001b[0m\u001b[0;34m)\u001b[0m \u001b[0;32mfrom\u001b[0m \u001b[0;32mNone\u001b[0m\u001b[0;34m\u001b[0m\u001b[0;34m\u001b[0m\u001b[0m\n\u001b[0m\u001b[1;32m     71\u001b[0m         \u001b[0;32mfinally\u001b[0m\u001b[0;34m:\u001b[0m\u001b[0;34m\u001b[0m\u001b[0;34m\u001b[0m\u001b[0m\n\u001b[1;32m     72\u001b[0m             \u001b[0;32mdel\u001b[0m \u001b[0mfiltered_tb\u001b[0m\u001b[0;34m\u001b[0m\u001b[0;34m\u001b[0m\u001b[0m\n",
            "\u001b[0;32m/usr/local/lib/python3.10/dist-packages/transformers/modeling_tf_utils.py\u001b[0m in \u001b[0;36mrun_call_with_unpacked_inputs\u001b[0;34m(self, *args, **kwargs)\u001b[0m\n\u001b[1;32m    434\u001b[0m             \u001b[0mconfig\u001b[0m \u001b[0;34m=\u001b[0m \u001b[0mself\u001b[0m\u001b[0;34m.\u001b[0m\u001b[0mconfig\u001b[0m\u001b[0;34m\u001b[0m\u001b[0;34m\u001b[0m\u001b[0m\n\u001b[1;32m    435\u001b[0m \u001b[0;34m\u001b[0m\u001b[0m\n\u001b[0;32m--> 436\u001b[0;31m         \u001b[0munpacked_inputs\u001b[0m \u001b[0;34m=\u001b[0m \u001b[0minput_processing\u001b[0m\u001b[0;34m(\u001b[0m\u001b[0mfunc\u001b[0m\u001b[0;34m,\u001b[0m \u001b[0mconfig\u001b[0m\u001b[0;34m,\u001b[0m \u001b[0;34m**\u001b[0m\u001b[0mfn_args_and_kwargs\u001b[0m\u001b[0;34m)\u001b[0m\u001b[0;34m\u001b[0m\u001b[0;34m\u001b[0m\u001b[0m\n\u001b[0m\u001b[1;32m    437\u001b[0m         \u001b[0;32mreturn\u001b[0m \u001b[0mfunc\u001b[0m\u001b[0;34m(\u001b[0m\u001b[0mself\u001b[0m\u001b[0;34m,\u001b[0m \u001b[0;34m**\u001b[0m\u001b[0munpacked_inputs\u001b[0m\u001b[0;34m)\u001b[0m\u001b[0;34m\u001b[0m\u001b[0;34m\u001b[0m\u001b[0m\n\u001b[1;32m    438\u001b[0m \u001b[0;34m\u001b[0m\u001b[0m\n",
            "\u001b[0;32m/usr/local/lib/python3.10/dist-packages/transformers/modeling_tf_utils.py\u001b[0m in \u001b[0;36minput_processing\u001b[0;34m(func, config, **kwargs)\u001b[0m\n\u001b[1;32m    528\u001b[0m                 \u001b[0moutput\u001b[0m\u001b[0;34m[\u001b[0m\u001b[0mparameter_names\u001b[0m\u001b[0;34m[\u001b[0m\u001b[0mi\u001b[0m\u001b[0;34m]\u001b[0m\u001b[0;34m]\u001b[0m \u001b[0;34m=\u001b[0m \u001b[0minput\u001b[0m\u001b[0;34m\u001b[0m\u001b[0;34m\u001b[0m\u001b[0m\n\u001b[1;32m    529\u001b[0m             \u001b[0;32melse\u001b[0m\u001b[0;34m:\u001b[0m\u001b[0;34m\u001b[0m\u001b[0;34m\u001b[0m\u001b[0m\n\u001b[0;32m--> 530\u001b[0;31m                 raise ValueError(\n\u001b[0m\u001b[1;32m    531\u001b[0m                     \u001b[0;34mf\"Data of type {type(input)} is not allowed only {allowed_types} is accepted for\"\u001b[0m\u001b[0;34m\u001b[0m\u001b[0;34m\u001b[0m\u001b[0m\n\u001b[1;32m    532\u001b[0m                     \u001b[0;34mf\" {parameter_names[i]}.\"\u001b[0m\u001b[0;34m\u001b[0m\u001b[0;34m\u001b[0m\u001b[0m\n",
            "\u001b[0;31mValueError\u001b[0m: Exception encountered when calling layer 'tf_bert_model_1' (type TFBertModel).\n\nData of type <class 'keras.src.backend.common.keras_tensor.KerasTensor'> is not allowed only (<class 'tensorflow.python.framework.tensor.Tensor'>, <class 'bool'>, <class 'int'>, <class 'transformers.utils.generic.ModelOutput'>, <class 'tuple'>, <class 'list'>, <class 'dict'>, <class 'numpy.ndarray'>) is accepted for input_ids.\n\nCall arguments received by layer 'tf_bert_model_1' (type TFBertModel):\n  • input_ids=['<KerasTensor shape=(None, 147), dtype=int32, sparse=None, name=input_word_ids>', '<KerasTensor shape=(None, 147), dtype=int32, sparse=None, name=input_masks>', '<KerasTensor shape=(None, 147), dtype=int32, sparse=None, name=input_segment>']\n  • attention_mask=None\n  • token_type_ids=None\n  • position_ids=None\n  • head_mask=None\n  • inputs_embeds=None\n  • encoder_hidden_states=None\n  • encoder_attention_mask=None\n  • past_key_values=None\n  • use_cache=None\n  • output_attentions=None\n  • output_hidden_states=None\n  • return_dict=None\n  • training=False"
          ]
        }
      ]
    },
    {
      "cell_type": "code",
      "source": [
        "from sbnltk.SentimentAnalyzer import sentimentAnalyzer\n",
        "sa=sentimentAnalyzer()\n",
        "print(sa.predict('LR',['তাঁকে বাংলা ভাষার সর্বশ্রেষ্ঠ সাহিত্যিক মনে করা হয়','সে আমার ক্লাসের খারাপ ছেলে',\n",
        "                       'তিনি এই কাজটি করতে চান না','সে তার ক্লাসে সর্বোচ্চ স্কোর পায়']))\n",
        "\n",
        "# ([1, 0, 0, 1], [0.6449975713588612, 0.45778114564313, 0.46393594035665886, 0.8066192798190904])"
      ],
      "metadata": {
        "colab": {
          "base_uri": "https://localhost:8080/",
          "height": 704
        },
        "id": "-S-hQxQNXeGi",
        "outputId": "5aee20e5-0f19-4845-b523-d040413b8859"
      },
      "execution_count": 24,
      "outputs": [
        {
          "output_type": "error",
          "ename": "ValueError",
          "evalue": "Error when downloading model!! Check internet Connection!!",
          "traceback": [
            "\u001b[0;31m---------------------------------------------------------------------------\u001b[0m",
            "\u001b[0;31mFileURLRetrievalError\u001b[0m                     Traceback (most recent call last)",
            "\u001b[0;32m/usr/local/lib/python3.10/dist-packages/gdown/download.py\u001b[0m in \u001b[0;36mdownload\u001b[0;34m(url, output, quiet, proxy, speed, use_cookies, verify, id, fuzzy, resume, format, user_agent, log_messages)\u001b[0m\n\u001b[1;32m    252\u001b[0m         \u001b[0;32mtry\u001b[0m\u001b[0;34m:\u001b[0m\u001b[0;34m\u001b[0m\u001b[0;34m\u001b[0m\u001b[0m\n\u001b[0;32m--> 253\u001b[0;31m             \u001b[0murl\u001b[0m \u001b[0;34m=\u001b[0m \u001b[0mget_url_from_gdrive_confirmation\u001b[0m\u001b[0;34m(\u001b[0m\u001b[0mres\u001b[0m\u001b[0;34m.\u001b[0m\u001b[0mtext\u001b[0m\u001b[0;34m)\u001b[0m\u001b[0;34m\u001b[0m\u001b[0;34m\u001b[0m\u001b[0m\n\u001b[0m\u001b[1;32m    254\u001b[0m         \u001b[0;32mexcept\u001b[0m \u001b[0mFileURLRetrievalError\u001b[0m \u001b[0;32mas\u001b[0m \u001b[0me\u001b[0m\u001b[0;34m:\u001b[0m\u001b[0;34m\u001b[0m\u001b[0;34m\u001b[0m\u001b[0m\n",
            "\u001b[0;32m/usr/local/lib/python3.10/dist-packages/gdown/download.py\u001b[0m in \u001b[0;36mget_url_from_gdrive_confirmation\u001b[0;34m(contents)\u001b[0m\n\u001b[1;32m     53\u001b[0m     \u001b[0;32mif\u001b[0m \u001b[0;32mnot\u001b[0m \u001b[0murl\u001b[0m\u001b[0;34m:\u001b[0m\u001b[0;34m\u001b[0m\u001b[0;34m\u001b[0m\u001b[0m\n\u001b[0;32m---> 54\u001b[0;31m         raise FileURLRetrievalError(\n\u001b[0m\u001b[1;32m     55\u001b[0m             \u001b[0;34m\"Cannot retrieve the public link of the file. \"\u001b[0m\u001b[0;34m\u001b[0m\u001b[0;34m\u001b[0m\u001b[0m\n",
            "\u001b[0;31mFileURLRetrievalError\u001b[0m: Cannot retrieve the public link of the file. You may need to change the permission to 'Anyone with the link', or have had many accesses. Check FAQ in https://github.com/wkentaro/gdown?tab=readme-ov-file#faq.",
            "\nDuring handling of the above exception, another exception occurred:\n",
            "\u001b[0;31mFileURLRetrievalError\u001b[0m                     Traceback (most recent call last)",
            "\u001b[0;32m/usr/local/lib/python3.10/dist-packages/sbnltk/Downloader.py\u001b[0m in \u001b[0;36mdownload\u001b[0;34m(self, model, model_path)\u001b[0m\n\u001b[1;32m     50\u001b[0m                 \u001b[0moutput\u001b[0m \u001b[0;34m=\u001b[0m \u001b[0mmodel_path\u001b[0m\u001b[0;34m\u001b[0m\u001b[0;34m\u001b[0m\u001b[0m\n\u001b[0;32m---> 51\u001b[0;31m                 \u001b[0mgdown\u001b[0m\u001b[0;34m.\u001b[0m\u001b[0mdownload\u001b[0m\u001b[0;34m(\u001b[0m\u001b[0murl\u001b[0m\u001b[0;34m,\u001b[0m \u001b[0moutput\u001b[0m\u001b[0;34m,\u001b[0m \u001b[0mquiet\u001b[0m\u001b[0;34m=\u001b[0m\u001b[0;32mFalse\u001b[0m\u001b[0;34m)\u001b[0m\u001b[0;34m\u001b[0m\u001b[0;34m\u001b[0m\u001b[0m\n\u001b[0m\u001b[1;32m     52\u001b[0m         \u001b[0;32mexcept\u001b[0m\u001b[0;34m:\u001b[0m\u001b[0;34m\u001b[0m\u001b[0;34m\u001b[0m\u001b[0m\n",
            "\u001b[0;32m/usr/local/lib/python3.10/dist-packages/gdown/download.py\u001b[0m in \u001b[0;36mdownload\u001b[0;34m(url, output, quiet, proxy, speed, use_cookies, verify, id, fuzzy, resume, format, user_agent, log_messages)\u001b[0m\n\u001b[1;32m    263\u001b[0m             )\n\u001b[0;32m--> 264\u001b[0;31m             \u001b[0;32mraise\u001b[0m \u001b[0mFileURLRetrievalError\u001b[0m\u001b[0;34m(\u001b[0m\u001b[0mmessage\u001b[0m\u001b[0;34m)\u001b[0m\u001b[0;34m\u001b[0m\u001b[0;34m\u001b[0m\u001b[0m\n\u001b[0m\u001b[1;32m    265\u001b[0m \u001b[0;34m\u001b[0m\u001b[0m\n",
            "\u001b[0;31mFileURLRetrievalError\u001b[0m: Failed to retrieve file url:\n\n\tCannot retrieve the public link of the file. You may need to change\n\tthe permission to 'Anyone with the link', or have had many accesses.\n\tCheck FAQ in https://github.com/wkentaro/gdown?tab=readme-ov-file#faq.\n\nYou may still be able to access the file from the browser:\n\n\thttps://drive.google.com/uc?id=1HLtC8HDlxRxaxi90O3vWqdrZPb0cl_H_\n\nbut Gdown can't. Please check connections and permissions.",
            "\nDuring handling of the above exception, another exception occurred:\n",
            "\u001b[0;31mValueError\u001b[0m                                Traceback (most recent call last)",
            "\u001b[0;32m<ipython-input-24-dcb2ff6c6280>\u001b[0m in \u001b[0;36m<cell line: 3>\u001b[0;34m()\u001b[0m\n\u001b[1;32m      1\u001b[0m \u001b[0;32mfrom\u001b[0m \u001b[0msbnltk\u001b[0m\u001b[0;34m.\u001b[0m\u001b[0mSentimentAnalyzer\u001b[0m \u001b[0;32mimport\u001b[0m \u001b[0msentimentAnalyzer\u001b[0m\u001b[0;34m\u001b[0m\u001b[0;34m\u001b[0m\u001b[0m\n\u001b[1;32m      2\u001b[0m \u001b[0msa\u001b[0m\u001b[0;34m=\u001b[0m\u001b[0msentimentAnalyzer\u001b[0m\u001b[0;34m(\u001b[0m\u001b[0;34m)\u001b[0m\u001b[0;34m\u001b[0m\u001b[0;34m\u001b[0m\u001b[0m\n\u001b[0;32m----> 3\u001b[0;31m print(sa.predict('LR',['তাঁকে বাংলা ভাষার সর্বশ্রেষ্ঠ সাহিত্যিক মনে করা হয়','সে আমার ক্লাসের খারাপ ছেলে',\n\u001b[0m\u001b[1;32m      4\u001b[0m                        'তিনি এই কাজটি করতে চান না','সে তার ক্লাসে সর্বোচ্চ স্কোর পায়']))\n\u001b[1;32m      5\u001b[0m \u001b[0;34m\u001b[0m\u001b[0m\n",
            "\u001b[0;32m/usr/local/lib/python3.10/dist-packages/sbnltk/SentimentAnalyzer.py\u001b[0m in \u001b[0;36mpredict\u001b[0;34m(self, model_code, sentences)\u001b[0m\n\u001b[1;32m    137\u001b[0m             \u001b[0;32mraise\u001b[0m \u001b[0mValueError\u001b[0m\u001b[0;34m(\u001b[0m\u001b[0;34m'Empty list of Sentences is detected in Sentiment analysis!!'\u001b[0m\u001b[0;34m)\u001b[0m\u001b[0;34m\u001b[0m\u001b[0;34m\u001b[0m\u001b[0m\n\u001b[1;32m    138\u001b[0m         \u001b[0;32mif\u001b[0m \u001b[0mmodel_code\u001b[0m\u001b[0;34m==\u001b[0m\u001b[0;34m'LR'\u001b[0m\u001b[0;34m:\u001b[0m\u001b[0;34m\u001b[0m\u001b[0;34m\u001b[0m\u001b[0m\n\u001b[0;32m--> 139\u001b[0;31m                \u001b[0mpred\u001b[0m\u001b[0;34m,\u001b[0m\u001b[0mprop\u001b[0m\u001b[0;34m=\u001b[0m\u001b[0mself\u001b[0m\u001b[0;34m.\u001b[0m\u001b[0m__LR\u001b[0m\u001b[0;34m(\u001b[0m\u001b[0msentences\u001b[0m\u001b[0;34m)\u001b[0m\u001b[0;34m\u001b[0m\u001b[0;34m\u001b[0m\u001b[0m\n\u001b[0m\u001b[1;32m    140\u001b[0m                \u001b[0;32mreturn\u001b[0m \u001b[0mpred\u001b[0m\u001b[0;34m,\u001b[0m\u001b[0mprop\u001b[0m\u001b[0;34m\u001b[0m\u001b[0;34m\u001b[0m\u001b[0m\n\u001b[1;32m    141\u001b[0m         \u001b[0;32melif\u001b[0m \u001b[0mmodel_code\u001b[0m\u001b[0;34m==\u001b[0m\u001b[0;34m'LSVC'\u001b[0m\u001b[0;34m:\u001b[0m\u001b[0;34m\u001b[0m\u001b[0;34m\u001b[0m\u001b[0m\n",
            "\u001b[0;32m/usr/local/lib/python3.10/dist-packages/sbnltk/SentimentAnalyzer.py\u001b[0m in \u001b[0;36m__LR\u001b[0;34m(self, sentences)\u001b[0m\n\u001b[1;32m     31\u001b[0m         \u001b[0;32mreturn\u001b[0m \u001b[0mst\u001b[0m\u001b[0;34m\u001b[0m\u001b[0;34m\u001b[0m\u001b[0m\n\u001b[1;32m     32\u001b[0m     \u001b[0;32mdef\u001b[0m \u001b[0m__LR\u001b[0m\u001b[0;34m(\u001b[0m\u001b[0mself\u001b[0m\u001b[0;34m,\u001b[0m\u001b[0msentences\u001b[0m\u001b[0;34m)\u001b[0m\u001b[0;34m:\u001b[0m\u001b[0;34m\u001b[0m\u001b[0;34m\u001b[0m\u001b[0m\n\u001b[0;32m---> 33\u001b[0;31m         \u001b[0mself\u001b[0m\u001b[0;34m.\u001b[0m\u001b[0m__dl\u001b[0m\u001b[0;34m.\u001b[0m\u001b[0mdownload\u001b[0m\u001b[0;34m(\u001b[0m\u001b[0;34m'sentiment_LR'\u001b[0m\u001b[0;34m,\u001b[0m\u001b[0msbnltk_default\u001b[0m\u001b[0;34m.\u001b[0m\u001b[0msbnltk_root_path\u001b[0m\u001b[0;34m+\u001b[0m\u001b[0;34m'model/'\u001b[0m\u001b[0;34m)\u001b[0m\u001b[0;34m\u001b[0m\u001b[0;34m\u001b[0m\u001b[0m\n\u001b[0m\u001b[1;32m     34\u001b[0m         \u001b[0mself\u001b[0m\u001b[0;34m.\u001b[0m\u001b[0m__dl\u001b[0m\u001b[0;34m.\u001b[0m\u001b[0mdownload\u001b[0m\u001b[0;34m(\u001b[0m\u001b[0;34m'sentiment_vector'\u001b[0m\u001b[0;34m,\u001b[0m\u001b[0msbnltk_default\u001b[0m\u001b[0;34m.\u001b[0m\u001b[0msbnltk_root_path\u001b[0m\u001b[0;34m+\u001b[0m\u001b[0;34m'model/'\u001b[0m\u001b[0;34m)\u001b[0m\u001b[0;34m\u001b[0m\u001b[0;34m\u001b[0m\u001b[0m\n\u001b[1;32m     35\u001b[0m         \u001b[0mlogreg\u001b[0m \u001b[0;34m=\u001b[0m \u001b[0mpickle\u001b[0m\u001b[0;34m.\u001b[0m\u001b[0mload\u001b[0m\u001b[0;34m(\u001b[0m\u001b[0mopen\u001b[0m\u001b[0;34m(\u001b[0m\u001b[0msbnltk_default\u001b[0m\u001b[0;34m.\u001b[0m\u001b[0msbnltk_root_path\u001b[0m\u001b[0;34m+\u001b[0m\u001b[0;34m'model/sentiment_LR.pkl'\u001b[0m\u001b[0;34m,\u001b[0m \u001b[0;34m'rb'\u001b[0m\u001b[0;34m)\u001b[0m\u001b[0;34m)\u001b[0m\u001b[0;34m\u001b[0m\u001b[0;34m\u001b[0m\u001b[0m\n",
            "\u001b[0;32m/usr/local/lib/python3.10/dist-packages/sbnltk/Downloader.py\u001b[0m in \u001b[0;36mdownload\u001b[0;34m(self, model, model_path)\u001b[0m\n\u001b[1;32m     51\u001b[0m                 \u001b[0mgdown\u001b[0m\u001b[0;34m.\u001b[0m\u001b[0mdownload\u001b[0m\u001b[0;34m(\u001b[0m\u001b[0murl\u001b[0m\u001b[0;34m,\u001b[0m \u001b[0moutput\u001b[0m\u001b[0;34m,\u001b[0m \u001b[0mquiet\u001b[0m\u001b[0;34m=\u001b[0m\u001b[0;32mFalse\u001b[0m\u001b[0;34m)\u001b[0m\u001b[0;34m\u001b[0m\u001b[0;34m\u001b[0m\u001b[0m\n\u001b[1;32m     52\u001b[0m         \u001b[0;32mexcept\u001b[0m\u001b[0;34m:\u001b[0m\u001b[0;34m\u001b[0m\u001b[0;34m\u001b[0m\u001b[0m\n\u001b[0;32m---> 53\u001b[0;31m             \u001b[0;32mraise\u001b[0m \u001b[0mValueError\u001b[0m\u001b[0;34m(\u001b[0m\u001b[0;34m\"Error when downloading model!! Check internet Connection!!\"\u001b[0m\u001b[0;34m)\u001b[0m\u001b[0;34m\u001b[0m\u001b[0;34m\u001b[0m\u001b[0m\n\u001b[0m\u001b[1;32m     54\u001b[0m \u001b[0;34m\u001b[0m\u001b[0m\n\u001b[1;32m     55\u001b[0m     \u001b[0;32mdef\u001b[0m \u001b[0mremove\u001b[0m\u001b[0;34m(\u001b[0m\u001b[0mself\u001b[0m\u001b[0;34m,\u001b[0m\u001b[0mmodel_path\u001b[0m\u001b[0;34m)\u001b[0m\u001b[0;34m:\u001b[0m\u001b[0;34m\u001b[0m\u001b[0;34m\u001b[0m\u001b[0m\n",
            "\u001b[0;31mValueError\u001b[0m: Error when downloading model!! Check internet Connection!!"
          ]
        }
      ]
    },
    {
      "cell_type": "markdown",
      "source": [
        "### Sentiment Analysis for our dataset"
      ],
      "metadata": {
        "id": "SykXLkYMyoo7"
      }
    },
    {
      "cell_type": "code",
      "source": [
        "import joblib\n",
        "nonethnic_articles = joblib.load(\"/content/drive/MyDrive/Representation Discrimination/data/nonethnic_dataset_100k.joblib\")\n",
        "nonethnic_articles[0]"
      ],
      "metadata": {
        "id": "lvFJ4Vl9KDkz",
        "colab": {
          "base_uri": "https://localhost:8080/",
          "height": 105
        },
        "outputId": "9234b610-bca4-4d39-cd76-5c5680b76bb5"
      },
      "execution_count": 7,
      "outputs": [
        {
          "output_type": "execute_result",
          "data": {
            "text/plain": [
              "'<p>কার্তিক শেষ হলো কাল। আজ অগ্রহায়ণের প্রথম দিন। শীতের আগমনী বার্তা এখন রাজধানীর আকাশে-বাতাসে। এমন আবহাওয়ায় গতকাল সন্ধ্যায় সেগুনবাগিচার শিল্পকলা একাডেমির জাতীয় নাট্যশালায় মিলনায়তন নিক্বণধ্বনিতে জমে উঠেছিল। এখানে শুরু হয় নয় দিনের দ্বিতীয় জাতীয় নৃত্যনাট্য উৎসব।<br />সোমবার সন্ধ্যায় শিল্পকলা একাডেমির মূল হলে উৎসবের উদ্বোধন করেন অর্থমন্ত্রী আবুল মাল আবদুল মুহিত। অর্থমন্ত্রী সমাজ রক্ষা, উন্নয়ন, মানবিক গুণাবলি বিকাশের জন্যও নৃত্যনাট্য চর্চার গুরুত্ব রয়েছে বলে মন্তব্য করেন। তিনি বলেন, ‘সংস্কৃতির নানা মাধ্যমের মধ্যে নৃত্যনাট্য একটি শক্তিশালী মাধ্যম, যা নানা শিক্ষা দেয়। এই মাধ্যম থেকে রস আস্বাদন করে আমরা সমৃদ্ধ হতে পারি।’<br />অনুষ্ঠানে বিশেষ অতিথির বক্তব্য দেন সংস্কৃতিসচিব আকতারী মমতাজ। আরও বক্তব্য দেন নাট্যব্যক্তিত্ব নাসির উদ্দীন ইউসুফ, প্রবীণ নৃত্যশিল্পী রাহিজা খানম ও বাংলাদেশ নৃত্যশিল্পী সংস্থার সভাপতি মিনু হক। সভাপতিত্ব করেন শিল্পকলা একাডেমির মহাপরিচালক লিয়াকত আলী। রাহিজা খানম সংস্কৃতি খাতে বাজেটের অপ্রতুলতার দিকটি তুলে ধরে বলেন, ‘বাজেটের জন্য আমরা অনেক ভালো কাজ করতে চেয়েও পারি না।’ তার কথার সূত্র ধরে সংস্কৃতি খাতে সরকারি পৃষ্ঠপোষকতা বাড়ানোর দাবি জানান নাসির উদ্দীন ইউসুফ। জাতীয় উৎসবগুলো কেন্দ্রীয়ভাবে হওয়ার চেয়ে সারা দেশের স্কুল-কলেজে হওয়াই গুরুত্বপূর্ণ বলে মন্তব্য করেন তিনি।<br />উদ্বোধন ও বক্তৃতাপর্ব শেষে ফারহানা চৌধুরীর পরিচালনায় বাংলাদেশ একাডেমি অব ফাইন আর্টস পরিবেশন করে নৃত্যনাট্য নকশী কাঁথার মাঠ।</p>'"
            ],
            "application/vnd.google.colaboratory.intrinsic+json": {
              "type": "string"
            }
          },
          "metadata": {},
          "execution_count": 7
        }
      ]
    },
    {
      "cell_type": "code",
      "source": [
        "import pandas as pd\n",
        "ethnic_articles = pd.read_csv(\"/content/drive/MyDrive/Representation Discrimination/data/ethnic_dataset_4893_after_removing_rakhain.csv\")[\"content\"].values.tolist()\n",
        "ethnic_articles[0]"
      ],
      "metadata": {
        "colab": {
          "base_uri": "https://localhost:8080/",
          "height": 105
        },
        "id": "woEfJ5ZHdJZg",
        "outputId": "52b7ec47-b5b0-45eb-dd7f-545627225517"
      },
      "execution_count": 8,
      "outputs": [
        {
          "output_type": "execute_result",
          "data": {
            "text/plain": [
              "'রমেল হত্যায় মানবাধিকার কমিশনের তদন্ত শুরুরাঙ্গামাটি প্রতিনিধিরাঙ্গামাটিতে পাহাড়ি ছাত্র পরিষদের (পিসিপি) নেতা রমেল চাকমার মৃত্যু নিয়ে অভিযোগ তদন্তে কার্যক্রম শুরু করেছে জাতীয় মানবাধিকার কমিশন। ঘটনাটিকে হত্যা দাবি করে নির্যাতনের কারণে রমেলের মৃত্যু হয়েছে বলে অভিযোগ করা হয়। এ ঘটনায় অভিযোগ তদন্তে তিন সদস্যের একটি কমিটি গঠন করে জাতীয় মানবাধিকার কমিশন। তদন্ত কমিটিতে জাতীয় মানবাধিকার কমিশনের সদস্য ও রাঙ্গামাটি সরকারি কলেজের সাবেক অধ্যক্ষ প্রফেসর বাঞ্চিতা চাকমাকে আহ্বায়ক, কমিশনের রাঙ্গামাটি অফিসের উপ-পরিচালক গাজী মো. সালাউদ্দিনকে সদস্যসচিব ও রাঙ্গামাটি জেলা প্রশাসনের নির্বাহী ম্যাজিস্ট্রেট অলি উজ্জামানকে সদস্য করা হয়েছে।সোনাগাজীতে অস্ত্রসহ যুবলীগ নেতা গ্রেফতারফেনী প্রতিনিধিফেনীর সোনাগাজী উপজেলার চরমজলিশপুর ইউনিয়নের কুঠিরহাটে ১টি বিদেশী পিস্তল ও ৪ রাউন্ড গুলিসহ যুবলীগ নেতা কামালকে গ্রেফতার করেছে পুলিশ। কামাল মজলিশপুরের আওয়ামী লীগের সাবেক সভাপতি মনজুতের রহমানের ছেলে ও ইউনিয়ন যুবলীগের সাবেক যুগ্ম-আহ্বায়ক। পুলিশ সূত্রে জানা যায়, গোপন সংবাদের ভিত্তিতে মঙ্গলবার সকাল ১১টা কুঠিরহাট বাজারে অভিযান চালিয়ে তাকে গ্রেফতার করে এসআই ডালিম মজুমদার।ফেনীতে সংখ্যালঘু পাড়ায় সশস্ত্র হামলা : আহত ৮ফেনী প্রতিনিধিফেনীর শহরতলীর পূর্ব মধুপুরে দাসপাড়ায় তুচ্ছ ঘটনায় স্থানীয় ক্যাডারদের হামলা ও ভাংচুরে নারী-পুরুষসহ ৮ জন আহত হয়েছেন। আহতদের মধ্যে ৩ জনকে আশঙ্কাজনক অবস্থায় ফেনী সদর হাসপাতালে ভর্তি করা হয়েছে। অন্যরা প্রাথমিক চিকিৎসা নিয়েছেন। রোববার রাত সাড়ে ১০টায় ফেনী পৌরসভার ১৫নং ওয়ার্ডে মায়েরবাড়ীর সংখ্যালঘু পাড়ায় এ সংঘর্ষের ঘটনা ঘটে।লক্ষ্মীপুরে ছাত্রলীগের দু’পক্ষের সংঘর্ষলক্ষ্মীপুর প্রতিনিধিলক্ষ্মীপুরে আধিপত্য বিস্তারকে কেন্দ্র করে ছাত্রলীগের দু’গ্রুপের মধ্যে পাল্টা-পাল্টি হামলা ও ধাওয়া পাল্টা-ধাওয়ার ঘটনা ঘটেছে। এতে ছাত্রলীগ নেতা সিপাত চৌধুরী ও তানভির মাহমুদ অন্তর আহত হয়। রোববার রাতে পৌর শহরের বাগবাড়িতে এ ঘটনা ঘটে। আহত সিপাতের অবস্থা আশঙ্কাজনক। তাকে ঢাকা মেডিকেল কলেজ হাসপাতালে প্রেরণ করা হয়েছে।সেন্টমার্টিনের বসতি না ভাঙার দাবিকক্সবাজার প্রতিনিধিস্থাপনা নির্মাণে অভিন্ন নীতিমালা প্রণয়নের দাবি জানিয়ে প্রবালদ্বীপ সেন্টমার্টিনের বসতি রক্ষায় প্রধানমন্ত্রীর হস্তক্ষেপ কামনা করেছেন দ্বীপবাসী। এসব স্থাপনা উচ্ছেদ করা হলে পর্যটন ব্যবসায় ধ্বস নামার পাশাপাশি সেন্টমার্টিনের ১০ হাজার অধিবাসীর মানবিক বিপর্যয় ঘটার আশঙ্কা রয়েছে বলে দাবি করেন তারা। মঙ্গলবার দুপুরে কক্সবাজার জেলা প্রশাসকের কার্যালয়ের সামনে মানববন্ধনে এ দাবি জানান সেন্টমার্টিনের অধিবাসীরা।দাগনভূঞায় পানিতে ডুবে শিশুর মৃত্যুদাগনভূঞা প্রতিনিধিদাগনভূঞা উপজেলার দেবরামপুর গ্রামে সোমবার দুপুরে পানিতে ডুবে শিশুর করুণ মৃত্যু হয়েছে। পুলিশ ও স্থানীয় সূত্রে জানা যায়, ওইদিন বেলা ১১টায় উপজেলার দেবরামপুর গ্রামের মোল্লা বাড়ির জাহেদুল হাসানের আড়াই বছর বয়সী মেয়ে সুরাইয়া হাসান মীম পুকুরের পানিতে পড়ে যায়। পরিবারের লোকজন তাকে অনেক খোঁজাখুঁজি করলে অবশেষে শিশুটির মৃতদেহ পুকুরে ভাসতে দেখা যায়।চট্টগ্রামে অনুষ্ঠানে হামলাকারীদের শাস্তি দাবিচট্টগ্রাম ব্যুরোজেলা শিল্পকলা একাডেমিতে অনুষ্ঠান চলাকালীন সময়ে হামলাকারীদের ২৪ ঘণ্টার মধ্যে গ্রেফতারের দাবি জানিয়েছেন চট্টগ্রামের সংস্কৃতিকর্মীরা। সোমবার জেলা শিল্পকলা একাডেমির সামনে সর্বস্তরের শিল্পী, সাহিত্যিক, সাংবাদিক ও প্রগতিবাদী ব্যানারে অনুষ্ঠিত মানববন্ধনে এ দাবি জানানো হয়। এ সময় বিভিন্ন সাংস্কৃতিক সংগঠনের শতাধিক সদস্য উপস্থিত ছিলেন।রায়পুরে বাণিজ্য মেলা : দু’জনকে পুলিশে সোপর্দরায়পুর (লক্ষ্মীপুর) প্রতিনিধিলক্ষ্মীপুরের রায়পুরে বাণিজ্য মেলার নামে প্রশাসনের নিষেধ অমান্য করে অবৈধভাবে লটারি বিক্রি করায় সিএনজিসহ দু’চালককে আটক করেছে পুলিশ। আটককৃত দু’জন রিপন ও নজরুল জেলা সদরের বাসিন্দা। সোমবার দুপুরে শহরের মোহাম্মদিয়া হোটেলের সামনে পথচারী ও ক্ষুদ্র ব্যবসায়ীদের কাছে লটারি বিক্রির সময় কয়েকজন সচেতন ব্যবসায়ী দুই সিএনজিচালককে আটক করে থানা পুলিশে সোপর্দ করেছেন।নানিয়ারচরে পিসিপি কর্মী আটকরাঙ্গামাটি প্রতিনিধিরাঙ্গামাটির নানিয়ারচরে রিপন আলো চাকমা নামে এক পিসিপি কর্মীকে আটক করেছে নিরাপত্তাবাহিনী। রিপন আলো চাকমা ইউপিডিএফ সমর্থনপুষ্ট ছাত্র সংগঠন বৃহত্তর চট্টগ্রাম পাহাড়ি ছাত্র পরিষদের (পিসিপি) রাঙ্গামাটি জেলা শাখার সহ-সাধারণ সম্পাদক।ওসি বলেন, আটক রিপন আলো চাকমাকে মঙ্গলবার দুপুরে রাঙ্গামাটির আদালতে চালান দেয়া হয়েছে।চাঁদপুরে পোলট্রি ব্যবসায়ীদের মানববন্ধনচাঁদপুর প্রতিনিধিপোলট্রির বাচ্চার দাম বৃদ্ধির প্রতিবাদে চাঁদপুরে পোলট্রি ব্যবসায়ীরা মানববন্ধন করেছে। মঙ্গলবার সকাল সাড়ে ১১টায় চাঁদপুর জেলা প্রশাসকের কার্যালয়ের সামনে এ মানববন্ধন কর্মসূচি পালন করা হয়। মানববন্ধন ব্যবসায়ী নেতারা দাবি করে বলেন, হ্যাচারি ও ফিড ব্যবসায়ীরা তিনগুণ বেশি দামে মুরগির বাচ্চা বিক্রি করছে।ফরিদগঞ্জে প্রাথমিক শিক্ষক সমিতির মানববন্ধনফরিদগঞ্জ (চাঁদপুর) প্রতিনিধিসহকারী শিক্ষক ও প্রধান শিক্ষকদের শতভাগ বিভাগীয় পদোন্নতি প্রদান, সহকারী শিক্ষকদের প্রধান শিক্ষকের এক ধাপ নিচে বেতন ও প্রধান শিক্ষকদের ১ গ্রেডসহ ক্রসপন্ডিং স্কেল দ্রুত বাস্তবায়ন ও প্রধানমন্ত্রীর হস্তক্ষেপের দাবিতে মঙ্গলবার সকালে বাংলাদেশ উপজেলা প্রাথমিক শিক্ষক সমিতি ফরিদগঞ্জ শাখা মানববন্ধন করেছে।লক্ষ্মীপুরে ছাত্রলীগের ৪ নেতা বহিষ্কারলক্ষ্মীপুর প্রতিনিধিসংগঠনের শৃঙ্খলাবিরোধী কর্মকাণ্ডে জড়িত থাকার অভিযোগ এনে লক্ষ্মীপুরে ৪ ছাত্রলীগ নেতাকে সাময়িকভাবে বহিষ্কার করা হয়েছে। বহিষ্কৃতরা হলেন- লক্ষ্মীপুর জেলা ছাত্রলীগের উপ-দফতরবিষয়ক সম্পাদক সেবাব নেওয়াজ, সহ-সম্পাদক পলক আহম্মদ, সদস্য পিয়াস পাঠান ও ছাত্রলীগ সদস্য মিনহাজ আলম সজিব।পটিয়ায় ১০ বসতবাড়িসহ দোকানঘরে হামলা ভাংচুরচট্টগ্রাম ব্যুরোপটিয়ায় পরকীয়ার জেরে রাতের আঁধারে ১০ বসতঘরসহ দুই দোকানঘরে হামলা ও ভাংচুর চালিয়েছে দুর্বৃত্তরা। সোমবার রাতে পৌরসদরের কাগজীপাড়ায় এ ঘটনা ঘটে। ক্ষতিগ্রস্তরা হল- কামাল মিস্ত্রি, মো. আনোয়ার, জালাল মিয়া, এয়াকুব, সাইফুরের দোকানঘর, শাহ মোহছেন স্টোর, ফরিদ সওদাগরসহ নুর জাহান বেগম। এ ঘটনায় নুর জাহান বেগম বাদী হয়ে অভিযোগ দায়ের করেছেন। ১নং ওয়ার্ডের কাগজীপাড়া এলাকায় গৃহবধূর সঙ্গে সাইফুদ্দীন ভোলার অবৈধ সম্পর্কের জের ধরে কথা কাটাকাটি হয়। '"
            ],
            "application/vnd.google.colaboratory.intrinsic+json": {
              "type": "string"
            }
          },
          "metadata": {},
          "execution_count": 8
        }
      ]
    },
    {
      "cell_type": "code",
      "source": [
        "from tqdm import tqdm\n",
        "sentiments = []\n",
        "\n",
        "for ethnic_article in tqdm(ethnic_articles, desc=\"article \"):\n",
        "  sentiments.append(predict_sentiment(ethnic_article[:CONTEXT_LENGTH]))"
      ],
      "metadata": {
        "colab": {
          "base_uri": "https://localhost:8080/"
        },
        "id": "gxvf1SS8elES",
        "outputId": "86fc96d2-dcc9-4832-b1b5-a3cebef6a78c"
      },
      "execution_count": 12,
      "outputs": [
        {
          "output_type": "stream",
          "name": "stderr",
          "text": [
            "article : 100%|██████████| 4893/4893 [39:25<00:00,  2.07it/s]\n"
          ]
        }
      ]
    },
    {
      "cell_type": "code",
      "source": [
        "import matplotlib.pyplot as plt\n",
        "from collections import Counter\n",
        "\n",
        "sentiment_counts = Counter(sentiments)\n",
        "\n",
        "# Separate the sentiment labels and their counts\n",
        "labels, counts = zip(*sentiment_counts.items())\n",
        "\n",
        "# Plotting the bar chart\n",
        "plt.figure(figsize=(10, 6))\n",
        "plt.bar(labels, counts, color=['green', 'blue', 'red'], alpha=0.7)\n",
        "plt.title('Sentiment Distribution')\n",
        "plt.xlabel('Sentiment')\n",
        "plt.ylabel('Frequency')\n",
        "plt.grid(axis='y', linestyle='--', alpha=0.7)\n",
        "\n",
        "# Show the plot\n",
        "plt.show()"
      ],
      "metadata": {
        "colab": {
          "base_uri": "https://localhost:8080/",
          "height": 564
        },
        "id": "QlD4XNcAezYM",
        "outputId": "8c18f6b8-a79a-4690-965e-75829edc2514"
      },
      "execution_count": 14,
      "outputs": [
        {
          "output_type": "display_data",
          "data": {
            "text/plain": [
              "<Figure size 1000x600 with 1 Axes>"
            ],
            "image/png": "[encoded data removed]"
          },
          "metadata": {}
        }
      ]
    },
    {
      "cell_type": "code",
      "source": [],
      "metadata": {
        "id": "n2ynP1E1sMxb"
      },
      "execution_count": null,
      "outputs": []
    }
  ]
}