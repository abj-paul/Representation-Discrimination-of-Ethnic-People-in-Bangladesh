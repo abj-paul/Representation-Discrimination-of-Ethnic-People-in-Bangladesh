{
  "cells": [
    {
      "cell_type": "markdown",
      "metadata": {
        "id": "chdELC97b7ha"
      },
      "source": [
        "### Download dataset from Kaggle"
      ]
    },
    {
      "cell_type": "code",
      "execution_count": 1,
      "metadata": {
        "colab": {
          "base_uri": "https://localhost:8080/",
          "height": 94
        },
        "id": "EVuKn-6xVSU1",
        "outputId": "1fe4f482-5d55-42e4-a813-343d35e9f1d9"
      },
      "outputs": [
        {
          "output_type": "display_data",
          "data": {
            "text/plain": [
              "<IPython.core.display.HTML object>"
            ],
            "text/html": [
              "\n",
              "     <input type=\"file\" id=\"files-73bc05a6-b1d3-4ccc-bd1a-b79ebaed88b6\" name=\"files[]\" multiple disabled\n",
              "        style=\"border:none\" />\n",
              "     <output id=\"result-73bc05a6-b1d3-4ccc-bd1a-b79ebaed88b6\">\n",
              "      Upload widget is only available when the cell has been executed in the\n",
              "      current browser session. Please rerun this cell to enable.\n",
              "      </output>\n",
              "      <script>// Copyright 2017 Google LLC\n",
              "//\n",
              "// Licensed under the Apache License, Version 2.0 (the \"License\");\n",
              "// you may not use this file except in compliance with the License.\n",
              "// You may obtain a copy of the License at\n",
              "//\n",
              "//      http://www.apache.org/licenses/LICENSE-2.0\n",
              "//\n",
              "// Unless required by applicable law or agreed to in writing, software\n",
              "// distributed under the License is distributed on an \"AS IS\" BASIS,\n",
              "// WITHOUT WARRANTIES OR CONDITIONS OF ANY KIND, either express or implied.\n",
              "// See the License for the specific language governing permissions and\n",
              "// limitations under the License.\n",
              "\n",
              "/**\n",
              " * @fileoverview Helpers for google.colab Python module.\n",
              " */\n",
              "(function(scope) {\n",
              "function span(text, styleAttributes = {}) {\n",
              "  const element = document.createElement('span');\n",
              "  element.textContent = text;\n",
              "  for (const key of Object.keys(styleAttributes)) {\n",
              "    element.style[key] = styleAttributes[key];\n",
              "  }\n",
              "  return element;\n",
              "}\n",
              "\n",
              "// Max number of bytes which will be uploaded at a time.\n",
              "const MAX_PAYLOAD_SIZE = 100 * 1024;\n",
              "\n",
              "function _uploadFiles(inputId, outputId) {\n",
              "  const steps = uploadFilesStep(inputId, outputId);\n",
              "  const outputElement = document.getElementById(outputId);\n",
              "  // Cache steps on the outputElement to make it available for the next call\n",
              "  // to uploadFilesContinue from Python.\n",
              "  outputElement.steps = steps;\n",
              "\n",
              "  return _uploadFilesContinue(outputId);\n",
              "}\n",
              "\n",
              "// This is roughly an async generator (not supported in the browser yet),\n",
              "// where there are multiple asynchronous steps and the Python side is going\n",
              "// to poll for completion of each step.\n",
              "// This uses a Promise to block the python side on completion of each step,\n",
              "// then passes the result of the previous step as the input to the next step.\n",
              "function _uploadFilesContinue(outputId) {\n",
              "  const outputElement = document.getElementById(outputId);\n",
              "  const steps = outputElement.steps;\n",
              "\n",
              "  const next = steps.next(outputElement.lastPromiseValue);\n",
              "  return Promise.resolve(next.value.promise).then((value) => {\n",
              "    // Cache the last promise value to make it available to the next\n",
              "    // step of the generator.\n",
              "    outputElement.lastPromiseValue = value;\n",
              "    return next.value.response;\n",
              "  });\n",
              "}\n",
              "\n",
              "/**\n",
              " * Generator function which is called between each async step of the upload\n",
              " * process.\n",
              " * @param {string} inputId Element ID of the input file picker element.\n",
              " * @param {string} outputId Element ID of the output display.\n",
              " * @return {!Iterable<!Object>} Iterable of next steps.\n",
              " */\n",
              "function* uploadFilesStep(inputId, outputId) {\n",
              "  const inputElement = document.getElementById(inputId);\n",
              "  inputElement.disabled = false;\n",
              "\n",
              "  const outputElement = document.getElementById(outputId);\n",
              "  outputElement.innerHTML = '';\n",
              "\n",
              "  const pickedPromise = new Promise((resolve) => {\n",
              "    inputElement.addEventListener('change', (e) => {\n",
              "      resolve(e.target.files);\n",
              "    });\n",
              "  });\n",
              "\n",
              "  const cancel = document.createElement('button');\n",
              "  inputElement.parentElement.appendChild(cancel);\n",
              "  cancel.textContent = 'Cancel upload';\n",
              "  const cancelPromise = new Promise((resolve) => {\n",
              "    cancel.onclick = () => {\n",
              "      resolve(null);\n",
              "    };\n",
              "  });\n",
              "\n",
              "  // Wait for the user to pick the files.\n",
              "  const files = yield {\n",
              "    promise: Promise.race([pickedPromise, cancelPromise]),\n",
              "    response: {\n",
              "      action: 'starting',\n",
              "    }\n",
              "  };\n",
              "\n",
              "  cancel.remove();\n",
              "\n",
              "  // Disable the input element since further picks are not allowed.\n",
              "  inputElement.disabled = true;\n",
              "\n",
              "  if (!files) {\n",
              "    return {\n",
              "      response: {\n",
              "        action: 'complete',\n",
              "      }\n",
              "    };\n",
              "  }\n",
              "\n",
              "  for (const file of files) {\n",
              "    const li = document.createElement('li');\n",
              "    li.append(span(file.name, {fontWeight: 'bold'}));\n",
              "    li.append(span(\n",
              "        `(${file.type || 'n/a'}) - ${file.size} bytes, ` +\n",
              "        `last modified: ${\n",
              "            file.lastModifiedDate ? file.lastModifiedDate.toLocaleDateString() :\n",
              "                                    'n/a'} - `));\n",
              "    const percent = span('0% done');\n",
              "    li.appendChild(percent);\n",
              "\n",
              "    outputElement.appendChild(li);\n",
              "\n",
              "    const fileDataPromise = new Promise((resolve) => {\n",
              "      const reader = new FileReader();\n",
              "      reader.onload = (e) => {\n",
              "        resolve(e.target.result);\n",
              "      };\n",
              "      reader.readAsArrayBuffer(file);\n",
              "    });\n",
              "    // Wait for the data to be ready.\n",
              "    let fileData = yield {\n",
              "      promise: fileDataPromise,\n",
              "      response: {\n",
              "        action: 'continue',\n",
              "      }\n",
              "    };\n",
              "\n",
              "    // Use a chunked sending to avoid message size limits. See b/62115660.\n",
              "    let position = 0;\n",
              "    do {\n",
              "      const length = Math.min(fileData.byteLength - position, MAX_PAYLOAD_SIZE);\n",
              "      const chunk = new Uint8Array(fileData, position, length);\n",
              "      position += length;\n",
              "\n",
              "      const base64 = btoa(String.fromCharCode.apply(null, chunk));\n",
              "      yield {\n",
              "        response: {\n",
              "          action: 'append',\n",
              "          file: file.name,\n",
              "          data: base64,\n",
              "        },\n",
              "      };\n",
              "\n",
              "      let percentDone = fileData.byteLength === 0 ?\n",
              "          100 :\n",
              "          Math.round((position / fileData.byteLength) * 100);\n",
              "      percent.textContent = `${percentDone}% done`;\n",
              "\n",
              "    } while (position < fileData.byteLength);\n",
              "  }\n",
              "\n",
              "  // All done.\n",
              "  yield {\n",
              "    response: {\n",
              "      action: 'complete',\n",
              "    }\n",
              "  };\n",
              "}\n",
              "\n",
              "scope.google = scope.google || {};\n",
              "scope.google.colab = scope.google.colab || {};\n",
              "scope.google.colab._files = {\n",
              "  _uploadFiles,\n",
              "  _uploadFilesContinue,\n",
              "};\n",
              "})(self);\n",
              "</script> "
            ]
          },
          "metadata": {}
        },
        {
          "output_type": "stream",
          "name": "stdout",
          "text": [
            "Saving kaggle.json to kaggle.json\n"
          ]
        },
        {
          "output_type": "execute_result",
          "data": {
            "text/plain": [
              "{'kaggle.json': b'{\"username\":\"abjpaul\",\"key\":\"32349daeaf607a6a4b88a12507714105\"}'}"
            ]
          },
          "metadata": {},
          "execution_count": 1
        }
      ],
      "source": [
        "import os\n",
        "from google.colab import files\n",
        "\n",
        "files.upload()"
      ]
    },
    {
      "cell_type": "code",
      "execution_count": 2,
      "metadata": {
        "colab": {
          "base_uri": "https://localhost:8080/"
        },
        "id": "NO-y1r5XB96m",
        "outputId": "2c5996b7-54a0-4f5f-946b-a793318b5fe4"
      },
      "outputs": [
        {
          "output_type": "stream",
          "name": "stdout",
          "text": [
            "Mounted at /content/drive\n"
          ]
        }
      ],
      "source": [
        "from google.colab import drive\n",
        "drive.mount('/content/drive')"
      ]
    },
    {
      "cell_type": "code",
      "execution_count": 3,
      "metadata": {
        "colab": {
          "base_uri": "https://localhost:8080/"
        },
        "id": "IoyAxMY5Y_KE",
        "outputId": "2d7aa529-677d-4f25-8978-97318e7efb21"
      },
      "outputs": [
        {
          "output_type": "stream",
          "name": "stdout",
          "text": [
            "Warning: Looks like you're using an outdated API Version, please consider updating (server 1.6.14 / client 1.6.12)\n",
            "ref                                                              title                                              size  lastUpdated          downloadCount  voteCount  usabilityRating  \n",
            "---------------------------------------------------------------  ------------------------------------------------  -----  -------------------  -------------  ---------  ---------------  \n",
            "rahulvyasm/netflix-movies-and-tv-shows                           Netflix Movies and TV Shows                         1MB  2024-04-10 09:48:38          20582        458  1.0              \n",
            "jainaru/world-happiness-report-2024-yearly-updated               World Happiness Report- 2024                       62KB  2024-05-15 19:04:34           1271         28  1.0              \n",
            "sahirmaharajj/school-student-daily-attendance                    School Student Daily Attendance                     2MB  2024-04-29 19:29:56           5269        111  1.0              \n",
            "jainaru/thyroid-disease-data                                     Thyroid Disease Data                                3KB  2024-05-10 12:06:31           1845         50  1.0              \n",
            "ashishkumarak/netflix-reviews-playstore-daily-updated            Netflix Reviews [DAILY UPDATED]                    12MB  2024-05-18 23:19:16           1397         35  1.0              \n",
            "willianoliveiragibin/death-alzheimers                            Death  Alzheimer's                                 39KB  2024-05-16 22:32:26            437         27  1.0              \n",
            "sahirmaharajj/college-exam-results-sat                           College Exam Results (SAT)                         10KB  2024-05-06 14:37:56           2565         47  1.0              \n",
            "shivanirana63/food-demand-forecasting                            Food Demand Forecasting                             6MB  2024-04-25 04:51:55           1191         25  0.9411765        \n",
            "raminhuseyn/airline-customer-satisfaction                        Airline Customer Satisfaction                       2MB  2024-05-06 19:05:14           1196         29  1.0              \n",
            "sarahjeffreson/large-random-spotify-artist-sample-with-metadata  Large random Spotify artist sample with metadata    2MB  2024-05-13 16:15:20            555         30  1.0              \n",
            "mexwell/heart-disease-dataset                                    🫀 Heart Disease Dataset                           399KB  2024-04-08 09:43:49           9485        147  1.0              \n",
            "chopper53/data-engineer-salary-in-2024                           Data Engineer Salary in 2024                      108KB  2024-04-24 20:23:25           2431         54  1.0              \n",
            "supriyoain/water-quality-data                                    Water Quality Data 🌊                               22KB  2024-04-28 15:56:34           2180         39  1.0              \n",
            "ehababoelnaga/anemia-types-classification                        Anemia Types Classification                        22KB  2024-05-12 21:30:09            660         29  0.9411765        \n",
            "konradb/greenhouse-gas-giants                                    Greenhouse gas giants                               2MB  2024-05-15 23:16:16            506         26  1.0              \n",
            "aadarshvelu/aids-virus-infection-prediction                      AIDS Virus Infection Prediction 💉                   2MB  2024-04-28 03:22:18           3154         74  1.0              \n",
            "ashishkumarak/amazon-shopping-reviews-daily-updated              Amazon Shopping Reviews [Daily Updated]             7MB  2024-05-18 23:19:06           1270         33  1.0              \n",
            "jainaru/diversity-in-tech-companies                              Diversity in Tech Companies                         1KB  2024-05-14 19:45:37            532         28  1.0              \n",
            "daniilkrasnoproshin/alzheimers-disease-and-healthy-aging-data    Alzheimer's Disease and Healthy Aging Data         10MB  2024-05-14 07:59:01            343         68  1.0              \n",
            "prishasawhney/mushroom-dataset                                   Mushroom Dataset (Binary Classification)          602KB  2024-04-18 19:56:44           4141        125  1.0              \n"
          ]
        }
      ],
      "source": [
        "! mkdir ~/.kaggle\n",
        "! cp kaggle.json ~/.kaggle/\n",
        "! chmod 600 ~/.kaggle/kaggle.json\n",
        "! kaggle datasets list"
      ]
    },
    {
      "cell_type": "code",
      "execution_count": 4,
      "metadata": {
        "colab": {
          "base_uri": "https://localhost:8080/"
        },
        "id": "MyuwkDz3ZKSR",
        "outputId": "2a486c6f-8722-44f2-ebb4-fccd04d673d6"
      },
      "outputs": [
        {
          "output_type": "stream",
          "name": "stdout",
          "text": [
            "Warning: Looks like you're using an outdated API Version, please consider updating (server 1.6.14 / client 1.6.12)\n",
            "Dataset URL: https://www.kaggle.com/datasets/ebiswas/bangla-largest-newspaper-dataset\n",
            "License(s): CC0-1.0\n",
            "Downloading bangla-largest-newspaper-dataset.zip to /content\n",
            " 99% 3.00G/3.02G [00:25<00:00, 153MB/s]\n",
            "100% 3.02G/3.02G [00:25<00:00, 127MB/s]\n"
          ]
        }
      ],
      "source": [
        "! kaggle datasets download -d ebiswas/bangla-largest-newspaper-dataset"
      ]
    },
    {
      "cell_type": "code",
      "execution_count": 5,
      "metadata": {
        "colab": {
          "base_uri": "https://localhost:8080/"
        },
        "id": "IbllFScCbahE",
        "outputId": "84a70667-ca1c-460d-eab0-d87173839584"
      },
      "outputs": [
        {
          "output_type": "stream",
          "name": "stdout",
          "text": [
            "bangla-largest-newspaper-dataset.zip  drive  kaggle.json  sample_data\n",
            "Archive:  ebd-dataset/bangla-largest-newspaper-dataset.zip\n",
            "  inflating: itte-part-0.json        \n",
            "  inflating: itte-part-1.json        \n",
            "  inflating: itte-part-2.json        \n",
            "  inflating: itte-part-3.json        \n",
            "  inflating: itte-part-4.json        \n",
            "  inflating: jug-part-0.json         \n",
            "  inflating: jug-part-1.json         \n",
            "  inflating: jug-part-2.json         \n",
            "  inflating: jug-part-3.json         \n",
            "  inflating: pro-part-0.json         \n",
            "  inflating: pro-part-1.json         \n",
            "  inflating: pro-part-10.json        \n",
            "  inflating: pro-part-11.json        \n",
            "  inflating: pro-part-2.json         \n",
            "  inflating: pro-part-3.json         \n",
            "  inflating: pro-part-4.json         \n",
            "  inflating: pro-part-5.json         \n",
            "  inflating: pro-part-6.json         \n",
            "  inflating: pro-part-7.json         \n",
            "  inflating: pro-part-8.json         \n",
            "  inflating: pro-part-9.json         \n",
            "drive\t\t  itte-part-3.json  jug-part-3.json   pro-part-1.json  pro-part-6.json\n",
            "ebd-dataset\t  itte-part-4.json  kaggle.json       pro-part-2.json  pro-part-7.json\n",
            "itte-part-0.json  jug-part-0.json   pro-part-0.json   pro-part-3.json  pro-part-8.json\n",
            "itte-part-1.json  jug-part-1.json   pro-part-10.json  pro-part-4.json  pro-part-9.json\n",
            "itte-part-2.json  jug-part-2.json   pro-part-11.json  pro-part-5.json  sample_data\n"
          ]
        }
      ],
      "source": [
        "!ls\n",
        "!mkdir ebd-dataset\n",
        "!mv bangla-largest-newspaper-dataset.zip ebd-dataset\n",
        "!unzip ebd-dataset/bangla-largest-newspaper-dataset.zip\n",
        "!ls"
      ]
    },
    {
      "cell_type": "code",
      "execution_count": 6,
      "metadata": {
        "colab": {
          "base_uri": "https://localhost:8080/"
        },
        "id": "QdFTF_TWcYiI",
        "outputId": "bc92d440-985d-4b86-a84b-77201c6dd4f9"
      },
      "outputs": [
        {
          "output_type": "stream",
          "name": "stdout",
          "text": [
            "bangla-largest-newspaper-dataset.zip  jug-part-0.json  pro-part-10.json  pro-part-5.json\n",
            "itte-part-0.json\t\t      jug-part-1.json  pro-part-11.json  pro-part-6.json\n",
            "itte-part-1.json\t\t      jug-part-2.json  pro-part-1.json\t pro-part-7.json\n",
            "itte-part-2.json\t\t      jug-part-3.json  pro-part-2.json\t pro-part-8.json\n",
            "itte-part-3.json\t\t      kaggle.json      pro-part-3.json\t pro-part-9.json\n",
            "itte-part-4.json\t\t      pro-part-0.json  pro-part-4.json\n"
          ]
        }
      ],
      "source": [
        "!mv *.json ebd-dataset/\n",
        "!ls ebd-dataset"
      ]
    },
    {
      "cell_type": "code",
      "execution_count": 7,
      "metadata": {
        "colab": {
          "base_uri": "https://localhost:8080/"
        },
        "id": "wdBeIu-scZ6u",
        "outputId": "ed3ffc21-71ec-4b43-f35b-81fa9cf71f36"
      },
      "outputs": [
        {
          "output_type": "stream",
          "name": "stdout",
          "text": [
            "itte-part-0.json  jug-part-0.json  pro-part-10.json  pro-part-4.json  pro-part-9.json\n",
            "itte-part-1.json  jug-part-1.json  pro-part-11.json  pro-part-5.json\n",
            "itte-part-2.json  jug-part-2.json  pro-part-1.json   pro-part-6.json\n",
            "itte-part-3.json  jug-part-3.json  pro-part-2.json   pro-part-7.json\n",
            "itte-part-4.json  pro-part-0.json  pro-part-3.json   pro-part-8.json\n"
          ]
        }
      ],
      "source": [
        "!rm ebd-dataset/bangla-largest-newspaper-dataset.zip\n",
        "!mv ebd-dataset/kaggle.json .\n",
        "!ls ebd-dataset"
      ]
    },
    {
      "cell_type": "code",
      "execution_count": 8,
      "metadata": {
        "colab": {
          "base_uri": "https://localhost:8080/"
        },
        "id": "ub6USnV7eKbz",
        "outputId": "f6088c5d-9200-4d6d-a1e8-3cb936679b00"
      },
      "outputs": [
        {
          "output_type": "stream",
          "name": "stdout",
          "text": [
            "--2024-05-19 12:02:44--  https://github.com/aljubaer/Topic-Modeling-in-Bengali/blob/master/code/stop_words.txt\n",
            "Resolving github.com (github.com)... 140.82.112.4\n",
            "Connecting to github.com (github.com)|140.82.112.4|:443... connected.\n",
            "HTTP request sent, awaiting response... 200 OK\n",
            "Length: unspecified [text/html]\n",
            "Saving to: ‘stop_words.txt’\n",
            "\n",
            "stop_words.txt          [ <=>                ] 154.53K  --.-KB/s    in 0.1s    \n",
            "\n",
            "2024-05-19 12:02:44 (1.53 MB/s) - ‘stop_words.txt’ saved [158238]\n",
            "\n"
          ]
        }
      ],
      "source": [
        "!wget https://github.com/aljubaer/Topic-Modeling-in-Bengali/blob/master/code/stop_words.txt"
      ]
    },
    {
      "cell_type": "code",
      "source": [
        "!rm ebd-dataset/kaggle\\ \\(1\\).json"
      ],
      "metadata": {
        "id": "UFfseznY2VcO",
        "colab": {
          "base_uri": "https://localhost:8080/"
        },
        "outputId": "c327083f-f4aa-423f-9bf2-28b4b8879b73"
      },
      "execution_count": 9,
      "outputs": [
        {
          "output_type": "stream",
          "name": "stdout",
          "text": [
            "rm: cannot remove 'ebd-dataset/kaggle (1).json': No such file or directory\n"
          ]
        }
      ]
    },
    {
      "cell_type": "markdown",
      "metadata": {
        "id": "Sn4JePsrd4r9"
      },
      "source": [
        "### Loading & Preprocessing Dataset\n",
        "https://github.com/aljubaer/Topic-Modeling-in-Bengali/blob/master/code/data-preprocessor.ipynb"
      ]
    },
    {
      "cell_type": "code",
      "execution_count": 10,
      "metadata": {
        "id": "wweU3OfYd2mQ"
      },
      "outputs": [],
      "source": [
        "import re\n",
        "import numpy as np\n",
        "import pandas as pd\n",
        "from pprint import pprint\n",
        "# Gensim\n",
        "import gensim\n",
        "import gensim.corpora as corpora\n",
        "from gensim.utils import simple_preprocess\n",
        "from gensim.models import CoherenceModel\n",
        "import nltk\n",
        "import json\n",
        "import os\n"
      ]
    },
    {
      "cell_type": "code",
      "execution_count": 11,
      "metadata": {
        "colab": {
          "base_uri": "https://localhost:8080/"
        },
        "id": "fD3369N8gvDc",
        "outputId": "eb70cdff-b37a-494e-b438-45df5ff25049"
      },
      "outputs": [
        {
          "output_type": "stream",
          "name": "stdout",
          "text": [
            "pro-part-11.json\n",
            "itte-part-0.json\n",
            "pro-part-7.json\n",
            "jug-part-2.json\n",
            "pro-part-10.json\n",
            "jug-part-0.json\n",
            "jug-part-3.json\n",
            "pro-part-4.json\n",
            "itte-part-3.json\n",
            "pro-part-1.json\n",
            "pro-part-5.json\n",
            "pro-part-3.json\n",
            "pro-part-8.json\n",
            "pro-part-2.json\n",
            "jug-part-1.json\n",
            "pro-part-9.json\n",
            "itte-part-1.json\n",
            "itte-part-2.json\n",
            "pro-part-6.json\n",
            "pro-part-0.json\n",
            "itte-part-4.json\n"
          ]
        },
        {
          "output_type": "execute_result",
          "data": {
            "text/plain": [
              "(2294710, 14)"
            ]
          },
          "metadata": {},
          "execution_count": 11
        }
      ],
      "source": [
        "import os\n",
        "\n",
        "directory = 'ebd-dataset'\n",
        "files = [file for file in os.listdir(directory) if file.endswith('.json')]\n",
        "\n",
        "dfs = []\n",
        "\n",
        "for file in files:\n",
        "    print(file)\n",
        "    df = pd.read_json(os.path.join(directory, file))\n",
        "    dfs.append(df)\n",
        "\n",
        "# Concatenate all DataFrames into one\n",
        "combined_df = pd.concat(dfs, ignore_index=True)\n",
        "combined_df.shape"
      ]
    },
    {
      "cell_type": "code",
      "execution_count": 12,
      "metadata": {
        "colab": {
          "base_uri": "https://localhost:8080/",
          "height": 224
        },
        "id": "kZIwJ5aTg0H5",
        "outputId": "1569a772-6162-4fe6-d29b-531dc3cd30df"
      },
      "outputs": [
        {
          "output_type": "stream",
          "name": "stdout",
          "text": [
            "(2294710, 2)\n"
          ]
        },
        {
          "output_type": "execute_result",
          "data": {
            "text/plain": [
              "  category                                               body\n",
              "0      NaN  [<p>বোরকা নিষিদ্ধ করার পথে আরও এক ধাপ এগিয়ে গে...\n",
              "1      NaN  [<p>মগডালে ঝুলে আছে</p><p>পাকা পাকা আম</p><p>র...\n",
              "2      NaN  [<p>গাজীপুরের টঙ্গীতে নোয়াগাঁও হিমারদীঘির এলাক...\n",
              "3      NaN  [<p>ব্রাহ্মণবাড়িয়ায় ভেজাল জুস ও লাচ্ছি তৈরির অ...\n",
              "4      NaN  [<p>ন্যায্য পাওনা দাও না তোমরা</p><p>কাঁদি আমর..."
            ],
            "text/html": [
              "\n",
              "  <div id=\"df-42ae2879-68e2-4bd7-90c4-07780469774e\" class=\"colab-df-container\">\n",
              "    <div>\n",
              "<style scoped>\n",
              "    .dataframe tbody tr th:only-of-type {\n",
              "        vertical-align: middle;\n",
              "    }\n",
              "\n",
              "    .dataframe tbody tr th {\n",
              "        vertical-align: top;\n",
              "    }\n",
              "\n",
              "    .dataframe thead th {\n",
              "        text-align: right;\n",
              "    }\n",
              "</style>\n",
              "<table border=\"1\" class=\"dataframe\">\n",
              "  <thead>\n",
              "    <tr style=\"text-align: right;\">\n",
              "      <th></th>\n",
              "      <th>category</th>\n",
              "      <th>body</th>\n",
              "    </tr>\n",
              "  </thead>\n",
              "  <tbody>\n",
              "    <tr>\n",
              "      <th>0</th>\n",
              "      <td>NaN</td>\n",
              "      <td>[&lt;p&gt;বোরকা নিষিদ্ধ করার পথে আরও এক ধাপ এগিয়ে গে...</td>\n",
              "    </tr>\n",
              "    <tr>\n",
              "      <th>1</th>\n",
              "      <td>NaN</td>\n",
              "      <td>[&lt;p&gt;মগডালে ঝুলে আছে&lt;/p&gt;&lt;p&gt;পাকা পাকা আম&lt;/p&gt;&lt;p&gt;র...</td>\n",
              "    </tr>\n",
              "    <tr>\n",
              "      <th>2</th>\n",
              "      <td>NaN</td>\n",
              "      <td>[&lt;p&gt;গাজীপুরের টঙ্গীতে নোয়াগাঁও হিমারদীঘির এলাক...</td>\n",
              "    </tr>\n",
              "    <tr>\n",
              "      <th>3</th>\n",
              "      <td>NaN</td>\n",
              "      <td>[&lt;p&gt;ব্রাহ্মণবাড়িয়ায় ভেজাল জুস ও লাচ্ছি তৈরির অ...</td>\n",
              "    </tr>\n",
              "    <tr>\n",
              "      <th>4</th>\n",
              "      <td>NaN</td>\n",
              "      <td>[&lt;p&gt;ন্যায্য পাওনা দাও না তোমরা&lt;/p&gt;&lt;p&gt;কাঁদি আমর...</td>\n",
              "    </tr>\n",
              "  </tbody>\n",
              "</table>\n",
              "</div>\n",
              "    <div class=\"colab-df-buttons\">\n",
              "\n",
              "  <div class=\"colab-df-container\">\n",
              "    <button class=\"colab-df-convert\" onclick=\"convertToInteractive('df-42ae2879-68e2-4bd7-90c4-07780469774e')\"\n",
              "            title=\"Convert this dataframe to an interactive table.\"\n",
              "            style=\"display:none;\">\n",
              "\n",
              "  <svg xmlns=\"http://www.w3.org/2000/svg\" height=\"24px\" viewBox=\"0 -960 960 960\">\n",
              "    <path d=\"M120-120v-720h720v720H120Zm60-500h600v-160H180v160Zm220 220h160v-160H400v160Zm0 220h160v-160H400v160ZM180-400h160v-160H180v160Zm440 0h160v-160H620v160ZM180-180h160v-160H180v160Zm440 0h160v-160H620v160Z\"/>\n",
              "  </svg>\n",
              "    </button>\n",
              "\n",
              "  <style>\n",
              "    .colab-df-container {\n",
              "      display:flex;\n",
              "      gap: 12px;\n",
              "    }\n",
              "\n",
              "    .colab-df-convert {\n",
              "      background-color: #E8F0FE;\n",
              "      border: none;\n",
              "      border-radius: 50%;\n",
              "      cursor: pointer;\n",
              "      display: none;\n",
              "      fill: #1967D2;\n",
              "      height: 32px;\n",
              "      padding: 0 0 0 0;\n",
              "      width: 32px;\n",
              "    }\n",
              "\n",
              "    .colab-df-convert:hover {\n",
              "      background-color: #E2EBFA;\n",
              "      box-shadow: 0px 1px 2px rgba(60, 64, 67, 0.3), 0px 1px 3px 1px rgba(60, 64, 67, 0.15);\n",
              "      fill: #174EA6;\n",
              "    }\n",
              "\n",
              "    .colab-df-buttons div {\n",
              "      margin-bottom: 4px;\n",
              "    }\n",
              "\n",
              "    [theme=dark] .colab-df-convert {\n",
              "      background-color: #3B4455;\n",
              "      fill: #D2E3FC;\n",
              "    }\n",
              "\n",
              "    [theme=dark] .colab-df-convert:hover {\n",
              "      background-color: #434B5C;\n",
              "      box-shadow: 0px 1px 3px 1px rgba(0, 0, 0, 0.15);\n",
              "      filter: drop-shadow(0px 1px 2px rgba(0, 0, 0, 0.3));\n",
              "      fill: #FFFFFF;\n",
              "    }\n",
              "  </style>\n",
              "\n",
              "    <script>\n",
              "      const buttonEl =\n",
              "        document.querySelector('#df-42ae2879-68e2-4bd7-90c4-07780469774e button.colab-df-convert');\n",
              "      buttonEl.style.display =\n",
              "        google.colab.kernel.accessAllowed ? 'block' : 'none';\n",
              "\n",
              "      async function convertToInteractive(key) {\n",
              "        const element = document.querySelector('#df-42ae2879-68e2-4bd7-90c4-07780469774e');\n",
              "        const dataTable =\n",
              "          await google.colab.kernel.invokeFunction('convertToInteractive',\n",
              "                                                    [key], {});\n",
              "        if (!dataTable) return;\n",
              "\n",
              "        const docLinkHtml = 'Like what you see? Visit the ' +\n",
              "          '<a target=\"_blank\" href=https://colab.research.google.com/notebooks/data_table.ipynb>data table notebook</a>'\n",
              "          + ' to learn more about interactive tables.';\n",
              "        element.innerHTML = '';\n",
              "        dataTable['output_type'] = 'display_data';\n",
              "        await google.colab.output.renderOutput(dataTable, element);\n",
              "        const docLink = document.createElement('div');\n",
              "        docLink.innerHTML = docLinkHtml;\n",
              "        element.appendChild(docLink);\n",
              "      }\n",
              "    </script>\n",
              "  </div>\n",
              "\n",
              "\n",
              "<div id=\"df-27b8b024-b268-4a22-90fe-9ad0db02c26b\">\n",
              "  <button class=\"colab-df-quickchart\" onclick=\"quickchart('df-27b8b024-b268-4a22-90fe-9ad0db02c26b')\"\n",
              "            title=\"Suggest charts\"\n",
              "            style=\"display:none;\">\n",
              "\n",
              "<svg xmlns=\"http://www.w3.org/2000/svg\" height=\"24px\"viewBox=\"0 0 24 24\"\n",
              "     width=\"24px\">\n",
              "    <g>\n",
              "        <path d=\"M19 3H5c-1.1 0-2 .9-2 2v14c0 1.1.9 2 2 2h14c1.1 0 2-.9 2-2V5c0-1.1-.9-2-2-2zM9 17H7v-7h2v7zm4 0h-2V7h2v10zm4 0h-2v-4h2v4z\"/>\n",
              "    </g>\n",
              "</svg>\n",
              "  </button>\n",
              "\n",
              "<style>\n",
              "  .colab-df-quickchart {\n",
              "      --bg-color: #E8F0FE;\n",
              "      --fill-color: #1967D2;\n",
              "      --hover-bg-color: #E2EBFA;\n",
              "      --hover-fill-color: #174EA6;\n",
              "      --disabled-fill-color: #AAA;\n",
              "      --disabled-bg-color: #DDD;\n",
              "  }\n",
              "\n",
              "  [theme=dark] .colab-df-quickchart {\n",
              "      --bg-color: #3B4455;\n",
              "      --fill-color: #D2E3FC;\n",
              "      --hover-bg-color: #434B5C;\n",
              "      --hover-fill-color: #FFFFFF;\n",
              "      --disabled-bg-color: #3B4455;\n",
              "      --disabled-fill-color: #666;\n",
              "  }\n",
              "\n",
              "  .colab-df-quickchart {\n",
              "    background-color: var(--bg-color);\n",
              "    border: none;\n",
              "    border-radius: 50%;\n",
              "    cursor: pointer;\n",
              "    display: none;\n",
              "    fill: var(--fill-color);\n",
              "    height: 32px;\n",
              "    padding: 0;\n",
              "    width: 32px;\n",
              "  }\n",
              "\n",
              "  .colab-df-quickchart:hover {\n",
              "    background-color: var(--hover-bg-color);\n",
              "    box-shadow: 0 1px 2px rgba(60, 64, 67, 0.3), 0 1px 3px 1px rgba(60, 64, 67, 0.15);\n",
              "    fill: var(--button-hover-fill-color);\n",
              "  }\n",
              "\n",
              "  .colab-df-quickchart-complete:disabled,\n",
              "  .colab-df-quickchart-complete:disabled:hover {\n",
              "    background-color: var(--disabled-bg-color);\n",
              "    fill: var(--disabled-fill-color);\n",
              "    box-shadow: none;\n",
              "  }\n",
              "\n",
              "  .colab-df-spinner {\n",
              "    border: 2px solid var(--fill-color);\n",
              "    border-color: transparent;\n",
              "    border-bottom-color: var(--fill-color);\n",
              "    animation:\n",
              "      spin 1s steps(1) infinite;\n",
              "  }\n",
              "\n",
              "  @keyframes spin {\n",
              "    0% {\n",
              "      border-color: transparent;\n",
              "      border-bottom-color: var(--fill-color);\n",
              "      border-left-color: var(--fill-color);\n",
              "    }\n",
              "    20% {\n",
              "      border-color: transparent;\n",
              "      border-left-color: var(--fill-color);\n",
              "      border-top-color: var(--fill-color);\n",
              "    }\n",
              "    30% {\n",
              "      border-color: transparent;\n",
              "      border-left-color: var(--fill-color);\n",
              "      border-top-color: var(--fill-color);\n",
              "      border-right-color: var(--fill-color);\n",
              "    }\n",
              "    40% {\n",
              "      border-color: transparent;\n",
              "      border-right-color: var(--fill-color);\n",
              "      border-top-color: var(--fill-color);\n",
              "    }\n",
              "    60% {\n",
              "      border-color: transparent;\n",
              "      border-right-color: var(--fill-color);\n",
              "    }\n",
              "    80% {\n",
              "      border-color: transparent;\n",
              "      border-right-color: var(--fill-color);\n",
              "      border-bottom-color: var(--fill-color);\n",
              "    }\n",
              "    90% {\n",
              "      border-color: transparent;\n",
              "      border-bottom-color: var(--fill-color);\n",
              "    }\n",
              "  }\n",
              "</style>\n",
              "\n",
              "  <script>\n",
              "    async function quickchart(key) {\n",
              "      const quickchartButtonEl =\n",
              "        document.querySelector('#' + key + ' button');\n",
              "      quickchartButtonEl.disabled = true;  // To prevent multiple clicks.\n",
              "      quickchartButtonEl.classList.add('colab-df-spinner');\n",
              "      try {\n",
              "        const charts = await google.colab.kernel.invokeFunction(\n",
              "            'suggestCharts', [key], {});\n",
              "      } catch (error) {\n",
              "        console.error('Error during call to suggestCharts:', error);\n",
              "      }\n",
              "      quickchartButtonEl.classList.remove('colab-df-spinner');\n",
              "      quickchartButtonEl.classList.add('colab-df-quickchart-complete');\n",
              "    }\n",
              "    (() => {\n",
              "      let quickchartButtonEl =\n",
              "        document.querySelector('#df-27b8b024-b268-4a22-90fe-9ad0db02c26b button');\n",
              "      quickchartButtonEl.style.display =\n",
              "        google.colab.kernel.accessAllowed ? 'block' : 'none';\n",
              "    })();\n",
              "  </script>\n",
              "</div>\n",
              "\n",
              "    </div>\n",
              "  </div>\n"
            ],
            "application/vnd.google.colaboratory.intrinsic+json": {
              "type": "dataframe",
              "variable_name": "df"
            }
          },
          "metadata": {},
          "execution_count": 12
        }
      ],
      "source": [
        "df = combined_df\n",
        "df = df[['category', 'body']]\n",
        "print(df.shape)\n",
        "df.head()"
      ]
    },
    {
      "cell_type": "code",
      "execution_count": 13,
      "metadata": {
        "colab": {
          "base_uri": "https://localhost:8080/"
        },
        "id": "igEh6oam6Kjh",
        "outputId": "8404fff5-57f7-42ad-ceda-25bf440de7be"
      },
      "outputs": [
        {
          "output_type": "stream",
          "name": "stderr",
          "text": [
            "[nltk_data] Downloading package punkt to /root/nltk_data...\n",
            "[nltk_data]   Unzipping tokenizers/punkt.zip.\n"
          ]
        },
        {
          "output_type": "execute_result",
          "data": {
            "text/plain": [
              "True"
            ]
          },
          "metadata": {},
          "execution_count": 13
        }
      ],
      "source": [
        "import nltk\n",
        "nltk.download('punkt')"
      ]
    },
    {
      "cell_type": "code",
      "execution_count": 14,
      "metadata": {
        "colab": {
          "base_uri": "https://localhost:8080/"
        },
        "id": "-tXvm9js6jhJ",
        "outputId": "2265ff08-3e78-4e31-fc6d-9e1e7ef456cf"
      },
      "outputs": [
        {
          "output_type": "stream",
          "name": "stdout",
          "text": [
            "Collecting sbnltk\n",
            "  Downloading sbnltk-2.0.2.tar.gz (28 kB)\n",
            "  Preparing metadata (setup.py) ... \u001b[?25l\u001b[?25hdone\n",
            "Requirement already satisfied: gdown>=3.12.2 in /usr/local/lib/python3.10/dist-packages (from sbnltk) (5.1.0)\n",
            "Collecting google_trans_new>=1.1.9 (from sbnltk)\n",
            "  Downloading google_trans_new-1.1.9-py3-none-any.whl (9.2 kB)\n",
            "Requirement already satisfied: pandas>=1.2.2 in /usr/local/lib/python3.10/dist-packages (from sbnltk) (2.0.3)\n",
            "Requirement already satisfied: transformers>=4.3.2 in /usr/local/lib/python3.10/dist-packages (from sbnltk) (4.40.2)\n",
            "Requirement already satisfied: torch in /usr/local/lib/python3.10/dist-packages (from sbnltk) (2.2.1+cu121)\n",
            "Requirement already satisfied: tensorflow>=2.4.1 in /usr/local/lib/python3.10/dist-packages (from sbnltk) (2.15.0)\n",
            "Collecting sklearn_crfsuite>=0.3.6 (from sbnltk)\n",
            "  Downloading sklearn_crfsuite-0.3.6-py2.py3-none-any.whl (12 kB)\n",
            "Collecting pytorch_pretrained_bert>=0.6.2 (from sbnltk)\n",
            "  Downloading pytorch_pretrained_bert-0.6.2-py3-none-any.whl (123 kB)\n",
            "\u001b[2K     \u001b[90m━━━━━━━━━━━━━━━━━━━━━━━━━━━━━━━━━━━━━━━━\u001b[0m \u001b[32m123.8/123.8 kB\u001b[0m \u001b[31m2.4 MB/s\u001b[0m eta \u001b[36m0:00:00\u001b[0m\n",
            "\u001b[?25hCollecting sentence_transformers (from sbnltk)\n",
            "  Downloading sentence_transformers-2.7.0-py3-none-any.whl (171 kB)\n",
            "\u001b[2K     \u001b[90m━━━━━━━━━━━━━━━━━━━━━━━━━━━━━━━━━━━━━━━━\u001b[0m \u001b[32m171.5/171.5 kB\u001b[0m \u001b[31m10.1 MB/s\u001b[0m eta \u001b[36m0:00:00\u001b[0m\n",
            "\u001b[?25hRequirement already satisfied: beautifulsoup4 in /usr/local/lib/python3.10/dist-packages (from gdown>=3.12.2->sbnltk) (4.12.3)\n",
            "Requirement already satisfied: filelock in /usr/local/lib/python3.10/dist-packages (from gdown>=3.12.2->sbnltk) (3.14.0)\n",
            "Requirement already satisfied: requests[socks] in /usr/local/lib/python3.10/dist-packages (from gdown>=3.12.2->sbnltk) (2.31.0)\n",
            "Requirement already satisfied: tqdm in /usr/local/lib/python3.10/dist-packages (from gdown>=3.12.2->sbnltk) (4.66.4)\n",
            "Requirement already satisfied: python-dateutil>=2.8.2 in /usr/local/lib/python3.10/dist-packages (from pandas>=1.2.2->sbnltk) (2.8.2)\n",
            "Requirement already satisfied: pytz>=2020.1 in /usr/local/lib/python3.10/dist-packages (from pandas>=1.2.2->sbnltk) (2023.4)\n",
            "Requirement already satisfied: tzdata>=2022.1 in /usr/local/lib/python3.10/dist-packages (from pandas>=1.2.2->sbnltk) (2024.1)\n",
            "Requirement already satisfied: numpy>=1.21.0 in /usr/local/lib/python3.10/dist-packages (from pandas>=1.2.2->sbnltk) (1.25.2)\n",
            "Collecting boto3 (from pytorch_pretrained_bert>=0.6.2->sbnltk)\n",
            "  Downloading boto3-1.34.108-py3-none-any.whl (139 kB)\n",
            "\u001b[2K     \u001b[90m━━━━━━━━━━━━━━━━━━━━━━━━━━━━━━━━━━━━━━━━\u001b[0m \u001b[32m139.3/139.3 kB\u001b[0m \u001b[31m12.2 MB/s\u001b[0m eta \u001b[36m0:00:00\u001b[0m\n",
            "\u001b[?25hRequirement already satisfied: regex in /usr/local/lib/python3.10/dist-packages (from pytorch_pretrained_bert>=0.6.2->sbnltk) (2023.12.25)\n",
            "Collecting python-crfsuite>=0.8.3 (from sklearn_crfsuite>=0.3.6->sbnltk)\n",
            "  Downloading python_crfsuite-0.9.10-cp310-cp310-manylinux_2_17_x86_64.manylinux2014_x86_64.whl (1.1 MB)\n",
            "\u001b[2K     \u001b[90m━━━━━━━━━━━━━━━━━━━━━━━━━━━━━━━━━━━━━━━━\u001b[0m \u001b[32m1.1/1.1 MB\u001b[0m \u001b[31m14.5 MB/s\u001b[0m eta \u001b[36m0:00:00\u001b[0m\n",
            "\u001b[?25hRequirement already satisfied: six in /usr/local/lib/python3.10/dist-packages (from sklearn_crfsuite>=0.3.6->sbnltk) (1.16.0)\n",
            "Requirement already satisfied: tabulate in /usr/local/lib/python3.10/dist-packages (from sklearn_crfsuite>=0.3.6->sbnltk) (0.9.0)\n",
            "Requirement already satisfied: absl-py>=1.0.0 in /usr/local/lib/python3.10/dist-packages (from tensorflow>=2.4.1->sbnltk) (1.4.0)\n",
            "Requirement already satisfied: astunparse>=1.6.0 in /usr/local/lib/python3.10/dist-packages (from tensorflow>=2.4.1->sbnltk) (1.6.3)\n",
            "Requirement already satisfied: flatbuffers>=23.5.26 in /usr/local/lib/python3.10/dist-packages (from tensorflow>=2.4.1->sbnltk) (24.3.25)\n",
            "Requirement already satisfied: gast!=0.5.0,!=0.5.1,!=0.5.2,>=0.2.1 in /usr/local/lib/python3.10/dist-packages (from tensorflow>=2.4.1->sbnltk) (0.5.4)\n",
            "Requirement already satisfied: google-pasta>=0.1.1 in /usr/local/lib/python3.10/dist-packages (from tensorflow>=2.4.1->sbnltk) (0.2.0)\n",
            "Requirement already satisfied: h5py>=2.9.0 in /usr/local/lib/python3.10/dist-packages (from tensorflow>=2.4.1->sbnltk) (3.9.0)\n",
            "Requirement already satisfied: libclang>=13.0.0 in /usr/local/lib/python3.10/dist-packages (from tensorflow>=2.4.1->sbnltk) (18.1.1)\n",
            "Requirement already satisfied: ml-dtypes~=0.2.0 in /usr/local/lib/python3.10/dist-packages (from tensorflow>=2.4.1->sbnltk) (0.2.0)\n",
            "Requirement already satisfied: opt-einsum>=2.3.2 in /usr/local/lib/python3.10/dist-packages (from tensorflow>=2.4.1->sbnltk) (3.3.0)\n",
            "Requirement already satisfied: packaging in /usr/local/lib/python3.10/dist-packages (from tensorflow>=2.4.1->sbnltk) (24.0)\n",
            "Requirement already satisfied: protobuf!=4.21.0,!=4.21.1,!=4.21.2,!=4.21.3,!=4.21.4,!=4.21.5,<5.0.0dev,>=3.20.3 in /usr/local/lib/python3.10/dist-packages (from tensorflow>=2.4.1->sbnltk) (3.20.3)\n",
            "Requirement already satisfied: setuptools in /usr/local/lib/python3.10/dist-packages (from tensorflow>=2.4.1->sbnltk) (67.7.2)\n",
            "Requirement already satisfied: termcolor>=1.1.0 in /usr/local/lib/python3.10/dist-packages (from tensorflow>=2.4.1->sbnltk) (2.4.0)\n",
            "Requirement already satisfied: typing-extensions>=3.6.6 in /usr/local/lib/python3.10/dist-packages (from tensorflow>=2.4.1->sbnltk) (4.11.0)\n",
            "Requirement already satisfied: wrapt<1.15,>=1.11.0 in /usr/local/lib/python3.10/dist-packages (from tensorflow>=2.4.1->sbnltk) (1.14.1)\n",
            "Requirement already satisfied: tensorflow-io-gcs-filesystem>=0.23.1 in /usr/local/lib/python3.10/dist-packages (from tensorflow>=2.4.1->sbnltk) (0.37.0)\n",
            "Requirement already satisfied: grpcio<2.0,>=1.24.3 in /usr/local/lib/python3.10/dist-packages (from tensorflow>=2.4.1->sbnltk) (1.63.0)\n",
            "Requirement already satisfied: tensorboard<2.16,>=2.15 in /usr/local/lib/python3.10/dist-packages (from tensorflow>=2.4.1->sbnltk) (2.15.2)\n",
            "Requirement already satisfied: tensorflow-estimator<2.16,>=2.15.0 in /usr/local/lib/python3.10/dist-packages (from tensorflow>=2.4.1->sbnltk) (2.15.0)\n",
            "Requirement already satisfied: keras<2.16,>=2.15.0 in /usr/local/lib/python3.10/dist-packages (from tensorflow>=2.4.1->sbnltk) (2.15.0)\n",
            "Requirement already satisfied: sympy in /usr/local/lib/python3.10/dist-packages (from torch->sbnltk) (1.12)\n",
            "Requirement already satisfied: networkx in /usr/local/lib/python3.10/dist-packages (from torch->sbnltk) (3.3)\n",
            "Requirement already satisfied: jinja2 in /usr/local/lib/python3.10/dist-packages (from torch->sbnltk) (3.1.4)\n",
            "Requirement already satisfied: fsspec in /usr/local/lib/python3.10/dist-packages (from torch->sbnltk) (2023.6.0)\n",
            "Collecting nvidia-cuda-nvrtc-cu12==12.1.105 (from torch->sbnltk)\n",
            "  Using cached nvidia_cuda_nvrtc_cu12-12.1.105-py3-none-manylinux1_x86_64.whl (23.7 MB)\n",
            "Collecting nvidia-cuda-runtime-cu12==12.1.105 (from torch->sbnltk)\n",
            "  Using cached nvidia_cuda_runtime_cu12-12.1.105-py3-none-manylinux1_x86_64.whl (823 kB)\n",
            "Collecting nvidia-cuda-cupti-cu12==12.1.105 (from torch->sbnltk)\n",
            "  Using cached nvidia_cuda_cupti_cu12-12.1.105-py3-none-manylinux1_x86_64.whl (14.1 MB)\n",
            "Collecting nvidia-cudnn-cu12==8.9.2.26 (from torch->sbnltk)\n",
            "  Using cached nvidia_cudnn_cu12-8.9.2.26-py3-none-manylinux1_x86_64.whl (731.7 MB)\n",
            "Collecting nvidia-cublas-cu12==12.1.3.1 (from torch->sbnltk)\n",
            "  Using cached nvidia_cublas_cu12-12.1.3.1-py3-none-manylinux1_x86_64.whl (410.6 MB)\n",
            "Collecting nvidia-cufft-cu12==11.0.2.54 (from torch->sbnltk)\n",
            "  Using cached nvidia_cufft_cu12-11.0.2.54-py3-none-manylinux1_x86_64.whl (121.6 MB)\n",
            "Collecting nvidia-curand-cu12==10.3.2.106 (from torch->sbnltk)\n",
            "  Using cached nvidia_curand_cu12-10.3.2.106-py3-none-manylinux1_x86_64.whl (56.5 MB)\n",
            "Collecting nvidia-cusolver-cu12==11.4.5.107 (from torch->sbnltk)\n",
            "  Using cached nvidia_cusolver_cu12-11.4.5.107-py3-none-manylinux1_x86_64.whl (124.2 MB)\n",
            "Collecting nvidia-cusparse-cu12==12.1.0.106 (from torch->sbnltk)\n",
            "  Using cached nvidia_cusparse_cu12-12.1.0.106-py3-none-manylinux1_x86_64.whl (196.0 MB)\n",
            "Collecting nvidia-nccl-cu12==2.19.3 (from torch->sbnltk)\n",
            "  Using cached nvidia_nccl_cu12-2.19.3-py3-none-manylinux1_x86_64.whl (166.0 MB)\n",
            "Collecting nvidia-nvtx-cu12==12.1.105 (from torch->sbnltk)\n",
            "  Using cached nvidia_nvtx_cu12-12.1.105-py3-none-manylinux1_x86_64.whl (99 kB)\n",
            "Requirement already satisfied: triton==2.2.0 in /usr/local/lib/python3.10/dist-packages (from torch->sbnltk) (2.2.0)\n",
            "Collecting nvidia-nvjitlink-cu12 (from nvidia-cusolver-cu12==11.4.5.107->torch->sbnltk)\n",
            "  Using cached nvidia_nvjitlink_cu12-12.4.127-py3-none-manylinux2014_x86_64.whl (21.1 MB)\n",
            "Requirement already satisfied: huggingface-hub<1.0,>=0.19.3 in /usr/local/lib/python3.10/dist-packages (from transformers>=4.3.2->sbnltk) (0.20.3)\n",
            "Requirement already satisfied: pyyaml>=5.1 in /usr/local/lib/python3.10/dist-packages (from transformers>=4.3.2->sbnltk) (6.0.1)\n",
            "Requirement already satisfied: tokenizers<0.20,>=0.19 in /usr/local/lib/python3.10/dist-packages (from transformers>=4.3.2->sbnltk) (0.19.1)\n",
            "Requirement already satisfied: safetensors>=0.4.1 in /usr/local/lib/python3.10/dist-packages (from transformers>=4.3.2->sbnltk) (0.4.3)\n",
            "Requirement already satisfied: scikit-learn in /usr/local/lib/python3.10/dist-packages (from sentence_transformers->sbnltk) (1.2.2)\n",
            "Requirement already satisfied: scipy in /usr/local/lib/python3.10/dist-packages (from sentence_transformers->sbnltk) (1.11.4)\n",
            "Requirement already satisfied: Pillow in /usr/local/lib/python3.10/dist-packages (from sentence_transformers->sbnltk) (9.4.0)\n",
            "Requirement already satisfied: wheel<1.0,>=0.23.0 in /usr/local/lib/python3.10/dist-packages (from astunparse>=1.6.0->tensorflow>=2.4.1->sbnltk) (0.43.0)\n",
            "Requirement already satisfied: google-auth<3,>=1.6.3 in /usr/local/lib/python3.10/dist-packages (from tensorboard<2.16,>=2.15->tensorflow>=2.4.1->sbnltk) (2.27.0)\n",
            "Requirement already satisfied: google-auth-oauthlib<2,>=0.5 in /usr/local/lib/python3.10/dist-packages (from tensorboard<2.16,>=2.15->tensorflow>=2.4.1->sbnltk) (1.2.0)\n",
            "Requirement already satisfied: markdown>=2.6.8 in /usr/local/lib/python3.10/dist-packages (from tensorboard<2.16,>=2.15->tensorflow>=2.4.1->sbnltk) (3.6)\n",
            "Requirement already satisfied: tensorboard-data-server<0.8.0,>=0.7.0 in /usr/local/lib/python3.10/dist-packages (from tensorboard<2.16,>=2.15->tensorflow>=2.4.1->sbnltk) (0.7.2)\n",
            "Requirement already satisfied: werkzeug>=1.0.1 in /usr/local/lib/python3.10/dist-packages (from tensorboard<2.16,>=2.15->tensorflow>=2.4.1->sbnltk) (3.0.3)\n",
            "Requirement already satisfied: charset-normalizer<4,>=2 in /usr/local/lib/python3.10/dist-packages (from requests[socks]->gdown>=3.12.2->sbnltk) (3.3.2)\n",
            "Requirement already satisfied: idna<4,>=2.5 in /usr/local/lib/python3.10/dist-packages (from requests[socks]->gdown>=3.12.2->sbnltk) (3.7)\n",
            "Requirement already satisfied: urllib3<3,>=1.21.1 in /usr/local/lib/python3.10/dist-packages (from requests[socks]->gdown>=3.12.2->sbnltk) (2.0.7)\n",
            "Requirement already satisfied: certifi>=2017.4.17 in /usr/local/lib/python3.10/dist-packages (from requests[socks]->gdown>=3.12.2->sbnltk) (2024.2.2)\n",
            "Requirement already satisfied: soupsieve>1.2 in /usr/local/lib/python3.10/dist-packages (from beautifulsoup4->gdown>=3.12.2->sbnltk) (2.5)\n",
            "Collecting botocore<1.35.0,>=1.34.108 (from boto3->pytorch_pretrained_bert>=0.6.2->sbnltk)\n",
            "  Downloading botocore-1.34.108-py3-none-any.whl (12.2 MB)\n",
            "\u001b[2K     \u001b[90m━━━━━━━━━━━━━━━━━━━━━━━━━━━━━━━━━━━━━━━━\u001b[0m \u001b[32m12.2/12.2 MB\u001b[0m \u001b[31m32.8 MB/s\u001b[0m eta \u001b[36m0:00:00\u001b[0m\n",
            "\u001b[?25hCollecting jmespath<2.0.0,>=0.7.1 (from boto3->pytorch_pretrained_bert>=0.6.2->sbnltk)\n",
            "  Downloading jmespath-1.0.1-py3-none-any.whl (20 kB)\n",
            "Collecting s3transfer<0.11.0,>=0.10.0 (from boto3->pytorch_pretrained_bert>=0.6.2->sbnltk)\n",
            "  Downloading s3transfer-0.10.1-py3-none-any.whl (82 kB)\n",
            "\u001b[2K     \u001b[90m━━━━━━━━━━━━━━━━━━━━━━━━━━━━━━━━━━━━━━━━\u001b[0m \u001b[32m82.2/82.2 kB\u001b[0m \u001b[31m8.3 MB/s\u001b[0m eta \u001b[36m0:00:00\u001b[0m\n",
            "\u001b[?25hRequirement already satisfied: MarkupSafe>=2.0 in /usr/local/lib/python3.10/dist-packages (from jinja2->torch->sbnltk) (2.1.5)\n",
            "Requirement already satisfied: PySocks!=1.5.7,>=1.5.6 in /usr/local/lib/python3.10/dist-packages (from requests[socks]->gdown>=3.12.2->sbnltk) (1.7.1)\n",
            "Requirement already satisfied: joblib>=1.1.1 in /usr/local/lib/python3.10/dist-packages (from scikit-learn->sentence_transformers->sbnltk) (1.4.2)\n",
            "Requirement already satisfied: threadpoolctl>=2.0.0 in /usr/local/lib/python3.10/dist-packages (from scikit-learn->sentence_transformers->sbnltk) (3.5.0)\n",
            "Requirement already satisfied: mpmath>=0.19 in /usr/local/lib/python3.10/dist-packages (from sympy->torch->sbnltk) (1.3.0)\n",
            "Requirement already satisfied: cachetools<6.0,>=2.0.0 in /usr/local/lib/python3.10/dist-packages (from google-auth<3,>=1.6.3->tensorboard<2.16,>=2.15->tensorflow>=2.4.1->sbnltk) (5.3.3)\n",
            "Requirement already satisfied: pyasn1-modules>=0.2.1 in /usr/local/lib/python3.10/dist-packages (from google-auth<3,>=1.6.3->tensorboard<2.16,>=2.15->tensorflow>=2.4.1->sbnltk) (0.4.0)\n",
            "Requirement already satisfied: rsa<5,>=3.1.4 in /usr/local/lib/python3.10/dist-packages (from google-auth<3,>=1.6.3->tensorboard<2.16,>=2.15->tensorflow>=2.4.1->sbnltk) (4.9)\n",
            "Requirement already satisfied: requests-oauthlib>=0.7.0 in /usr/local/lib/python3.10/dist-packages (from google-auth-oauthlib<2,>=0.5->tensorboard<2.16,>=2.15->tensorflow>=2.4.1->sbnltk) (1.3.1)\n",
            "Requirement already satisfied: pyasn1<0.7.0,>=0.4.6 in /usr/local/lib/python3.10/dist-packages (from pyasn1-modules>=0.2.1->google-auth<3,>=1.6.3->tensorboard<2.16,>=2.15->tensorflow>=2.4.1->sbnltk) (0.6.0)\n",
            "Requirement already satisfied: oauthlib>=3.0.0 in /usr/local/lib/python3.10/dist-packages (from requests-oauthlib>=0.7.0->google-auth-oauthlib<2,>=0.5->tensorboard<2.16,>=2.15->tensorflow>=2.4.1->sbnltk) (3.2.2)\n",
            "Building wheels for collected packages: sbnltk\n",
            "  Building wheel for sbnltk (setup.py) ... \u001b[?25l\u001b[?25hdone\n",
            "  Created wheel for sbnltk: filename=sbnltk-2.0.2-py3-none-any.whl size=31768 sha256=19aba30862187f8beac29200eed5492ff314e24f71defd6f19054cc305906e9e\n",
            "  Stored in directory: /root/.cache/pip/wheels/bf/28/f7/edaa538b6d892af6d3a1ea6c622b62303658ce7928a413bcbe\n",
            "Successfully built sbnltk\n",
            "Installing collected packages: python-crfsuite, google_trans_new, sklearn_crfsuite, nvidia-nvtx-cu12, nvidia-nvjitlink-cu12, nvidia-nccl-cu12, nvidia-curand-cu12, nvidia-cufft-cu12, nvidia-cuda-runtime-cu12, nvidia-cuda-nvrtc-cu12, nvidia-cuda-cupti-cu12, nvidia-cublas-cu12, jmespath, nvidia-cusparse-cu12, nvidia-cudnn-cu12, botocore, s3transfer, nvidia-cusolver-cu12, boto3, sentence_transformers, pytorch_pretrained_bert, sbnltk\n",
            "Successfully installed boto3-1.34.108 botocore-1.34.108 google_trans_new-1.1.9 jmespath-1.0.1 nvidia-cublas-cu12-12.1.3.1 nvidia-cuda-cupti-cu12-12.1.105 nvidia-cuda-nvrtc-cu12-12.1.105 nvidia-cuda-runtime-cu12-12.1.105 nvidia-cudnn-cu12-8.9.2.26 nvidia-cufft-cu12-11.0.2.54 nvidia-curand-cu12-10.3.2.106 nvidia-cusolver-cu12-11.4.5.107 nvidia-cusparse-cu12-12.1.0.106 nvidia-nccl-cu12-2.19.3 nvidia-nvjitlink-cu12-12.4.127 nvidia-nvtx-cu12-12.1.105 python-crfsuite-0.9.10 pytorch_pretrained_bert-0.6.2 s3transfer-0.10.1 sbnltk-2.0.2 sentence_transformers-2.7.0 sklearn_crfsuite-0.3.6\n"
          ]
        }
      ],
      "source": [
        "!pip install sbnltk"
      ]
    },
    {
      "cell_type": "code",
      "execution_count": 15,
      "metadata": {
        "id": "_QypyoA2ePZH",
        "colab": {
          "base_uri": "https://localhost:8080/"
        },
        "outputId": "cd3c3cb3-196e-4d0b-f230-308f5c69bab4"
      },
      "outputs": [
        {
          "output_type": "stream",
          "name": "stderr",
          "text": [
            "Downloading...\n",
            "From: https://drive.google.com/uc?id=142XvJg9xdpgzuYD31Y4pm-ZVdMaWmtuq\n",
            "To: /usr/local/lib/python3.10/dist-packages/sbnltk/dataset/download_link.txt\n",
            "100%|██████████| 1.66k/1.66k [00:00<00:00, 3.05MB/s]\n",
            "Downloading...\n",
            "From: https://drive.google.com/uc?id=1UIR2arP_6Fm0MqJVbcG2Q9iLCnjQriDB\n",
            "To: /usr/local/lib/python3.10/dist-packages/sbnltk/dataset/bangla_word_list.txt\n",
            "100%|██████████| 15.4M/15.4M [00:00<00:00, 132MB/s]\n",
            "Downloading...\n",
            "From: https://drive.google.com/uc?id=1e4x5FQrdGyEfBBzQ_DOJ9wBxZZ1F7bx7\n",
            "To: /usr/local/lib/python3.10/dist-packages/sbnltk/dataset/stopword_list.txt\n",
            "100%|██████████| 4.77k/4.77k [00:00<00:00, 2.35MB/s]\n",
            "Downloading...\n",
            "From: https://drive.google.com/uc?id=1ohRYMGAeq4RZTa3W-7DXEsaUCaVNIxgO\n",
            "To: /usr/local/lib/python3.10/dist-packages/sbnltk/dataset/rootword_list.txt\n",
            "100%|██████████| 2.00M/2.00M [00:00<00:00, 68.1MB/s]\n",
            "Downloading...\n",
            "From: https://drive.google.com/uc?id=1oBEK2DUs6Jt155AmMyc9565dHJJFZd_N\n",
            "To: /usr/local/lib/python3.10/dist-packages/sbnltk/dataset/ner_static.txt\n",
            "100%|██████████| 20.2M/20.2M [00:00<00:00, 121MB/s] \n"
          ]
        }
      ],
      "source": [
        "stopwords_file = open('stop_words.txt', \"r+\", encoding = 'utf-8')\n",
        "all_stopwords = stopwords_file.read()\n",
        "stopwords_ready = [word.strip() for word in all_stopwords.split()]\n",
        "def convertToDataFrame(data_json):\n",
        "    df = pd.DataFrame(data_json)\n",
        "    print('DataFrame shape' + str(df.shape))\n",
        "    return df\n",
        "\n",
        "def remove_stopwords(content):\n",
        "    without_stopwords = []\n",
        "    for word in content:\n",
        "        if word not in stopwords_ready and len(word) > 5:\n",
        "            without_stopwords.append(word)\n",
        "    return without_stopwords\n",
        "def remove_stopwords_list(data_list):\n",
        "    data_without_stopwords_list = []\n",
        "    for content in data_list:\n",
        "        data_without_stopwords_list.append(remove_stopwords(content))\n",
        "    return data_without_stopwords_list\n",
        "    def valid_bengali_letters(char):\n",
        "      return ord(char) >= 2433 and ord(char) <= 2543\n",
        "\n",
        "def get_replacement(char):\n",
        "    if valid_bengali_letters(char):\n",
        "        return char\n",
        "    newlines = [10, 2404, 2405, 2551, 9576]\n",
        "    if ord(char) in newlines:\n",
        "        return ' '\n",
        "    return ' ';\n",
        "\n",
        "def get_valid_lines(line):\n",
        "    copy_line = ''\n",
        "    for letter in line:\n",
        "        copy_line += get_replacement(letter)\n",
        "    return copy_line\n",
        "\n",
        "def sent_to_words(sentences):\n",
        "    for sentence in sentences:\n",
        "        yield(nltk.word_tokenize(get_valid_lines(sentence)))  # deacc=True removes punctuations\n",
        "\n",
        "from sbnltk.Stemmer import stemmerOP\n",
        "bn_stemmer=stemmerOP()\n",
        "def stemming_data(content):\n",
        "    for i, word in enumerate(content):\n",
        "        content[i] = bn_stemmer.stemWord(word)\n",
        "    return content\n",
        "def stemming_data_list(data_list):\n",
        "    for i, sdata in enumerate(data_list):\n",
        "        data_list[i] = stemming_data(sdata)\n",
        "    return data_list\n",
        "def valid_bengali_letters(char):\n",
        "    return ord(char) >= 2433 and ord(char) <= 2543\n"
      ]
    },
    {
      "cell_type": "code",
      "source": [
        "def preprocess_data(data_json):\n",
        "    data_tokenized_list = list(sent_to_words(data_json))\n",
        "    data_without_stopwords_list = remove_stopwords_list(data_tokenized_list)\n",
        "    data_stemmed_list = stemming_data_list(data_without_stopwords_list)\n",
        "    return data_stemmed_list"
      ],
      "metadata": {
        "id": "7SNl-YejkNhf"
      },
      "execution_count": 16,
      "outputs": []
    },
    {
      "cell_type": "code",
      "execution_count": 17,
      "metadata": {
        "colab": {
          "base_uri": "https://localhost:8080/"
        },
        "id": "NXRaAVjs5WIb",
        "outputId": "2cc69420-bd3c-49a4-caaf-ae9e21e5cb94"
      },
      "outputs": [
        {
          "output_type": "stream",
          "name": "stdout",
          "text": [
            "Before cleaning lists: 2294710\n",
            "After cleaning lists: 4568371\n"
          ]
        }
      ],
      "source": [
        "corpus = []\n",
        "for entry in df[\"body\"].values.tolist():\n",
        "  if isinstance(entry, list):\n",
        "    for article in entry:\n",
        "      corpus.append(article)\n",
        "  else:\n",
        "    corpus.append(entry)\n",
        "print(f\"Before cleaning lists: {len(df['body'].values.tolist())}\")\n",
        "print(f\"After cleaning lists: {len(corpus)}\")"
      ]
    },
    {
      "cell_type": "code",
      "source": [
        "import joblib\n",
        "joblib.dump(corpus, \"/content/drive/MyDrive/corpus.joblib\")"
      ],
      "metadata": {
        "colab": {
          "base_uri": "https://localhost:8080/"
        },
        "id": "9Q3W-zrZuAiq",
        "outputId": "29b899ae-ef7f-4d2c-d330-c168cf005a4c"
      },
      "execution_count": 18,
      "outputs": [
        {
          "output_type": "execute_result",
          "data": {
            "text/plain": [
              "['/content/drive/MyDrive/corpus.joblib']"
            ]
          },
          "metadata": {},
          "execution_count": 18
        }
      ]
    },
    {
      "cell_type": "markdown",
      "metadata": {
        "id": "0-rw2feBRDNI"
      },
      "source": [
        "### Batch Processing"
      ]
    },
    {
      "cell_type": "code",
      "execution_count": null,
      "metadata": {
        "id": "ITe1pZiQLJv9"
      },
      "outputs": [],
      "source": [
        "from gensim.models import Word2Vec\n",
        "import multiprocessing\n",
        "import pandas as pd\n",
        "import os\n",
        "\n",
        "# Function to save the current state of the Word2Vec model and training progress\n",
        "def save_checkpoint(model, epoch):\n",
        "    model_dir = \"checkpoints\"\n",
        "    os.makedirs(model_dir, exist_ok=True)\n",
        "    model_path = os.path.join(model_dir, f\"/content/drive/MyDrive/word2vec_model_epoch{epoch}.model\")\n",
        "    model.save(model_path)\n",
        "    print(f\"Checkpoint saved: {model_path}\")\n",
        "\n",
        "# Load and preprocess the data in batches\n",
        "batch_size = 4000\n",
        "num_batches = 4\n",
        "data_batches = []\n",
        "\n",
        "for i in range(num_batches):\n",
        "    start_index = i * batch_size\n",
        "    end_index = (i + 1) * batch_size\n",
        "    data_batch = corpus[start_index:end_index]  # Assuming 'corpus' is your list of articles\n",
        "    preprocessed_batch = preprocess_data(data_batch)\n",
        "    data_batches.append(preprocessed_batch)\n",
        "\n",
        "# Initialize Word2Vec model\n",
        "model = Word2Vec(size=400, window=20, min_count=5, sg=0, negative=3, workers=multiprocessing.cpu_count()-1)\n",
        "\n",
        "# Train Word2Vec model batch by batch\n",
        "for epoch, data_batch in enumerate(data_batches):\n",
        "    model.build_vocab(data_batch, progress_per=10000)\n",
        "    model.train(data_batch, total_examples=model.corpus_count, epochs=30, report_delay=1)\n",
        "    save_checkpoint(model, epoch)\n",
        "\n",
        "# Save the final trained model\n",
        "final_model_path = \"final_word2vec_model.model\"\n",
        "model.save(final_model_path)\n",
        "print(f\"Final model saved: {final_model_path}\")\n"
      ]
    },
    {
      "cell_type": "code",
      "execution_count": null,
      "metadata": {
        "id": "KJLXUPFpRGe5"
      },
      "outputs": [],
      "source": [
        "joblib.dump(model, \"/content/drive/MyDrive/model.joblib\")"
      ]
    },
    {
      "cell_type": "code",
      "execution_count": null,
      "metadata": {
        "id": "NdrNSHX6RI93"
      },
      "outputs": [],
      "source": []
    }
  ],
  "metadata": {
    "colab": {
      "machine_shape": "hm",
      "provenance": []
    },
    "kernelspec": {
      "display_name": "Python 3",
      "name": "python3"
    },
    "language_info": {
      "name": "python"
    }
  },
  "nbformat": 4,
  "nbformat_minor": 0
}