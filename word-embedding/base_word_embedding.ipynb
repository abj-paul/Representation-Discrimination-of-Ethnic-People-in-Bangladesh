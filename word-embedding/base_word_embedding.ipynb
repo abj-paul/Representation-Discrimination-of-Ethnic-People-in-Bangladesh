{
  "cells": [
    {
      "cell_type": "markdown",
      "metadata": {
        "id": "chdELC97b7ha"
      },
      "source": [
        "### Download dataset from Kaggle"
      ]
    },
    {
      "cell_type": "code",
      "execution_count": null,
      "metadata": {
        "colab": {
          "base_uri": "https://localhost:8080/",
          "height": 94
        },
        "id": "EVuKn-6xVSU1",
        "outputId": "425491c2-754b-4289-bf53-8e510d8dd367"
      },
      "outputs": [
        {
          "output_type": "display_data",
          "data": {
            "text/plain": [
              "<IPython.core.display.HTML object>"
            ],
            "text/html": [
              "\n",
              "     <input type=\"file\" id=\"files-236c5016-b99a-4fd4-af95-0b00c07bf58e\" name=\"files[]\" multiple disabled\n",
              "        style=\"border:none\" />\n",
              "     <output id=\"result-236c5016-b99a-4fd4-af95-0b00c07bf58e\">\n",
              "      Upload widget is only available when the cell has been executed in the\n",
              "      current browser session. Please rerun this cell to enable.\n",
              "      </output>\n",
              "      <script>// Copyright 2017 Google LLC\n",
              "//\n",
              "// Licensed under the Apache License, Version 2.0 (the \"License\");\n",
              "// you may not use this file except in compliance with the License.\n",
              "// You may obtain a copy of the License at\n",
              "//\n",
              "//      http://www.apache.org/licenses/LICENSE-2.0\n",
              "//\n",
              "// Unless required by applicable law or agreed to in writing, software\n",
              "// distributed under the License is distributed on an \"AS IS\" BASIS,\n",
              "// WITHOUT WARRANTIES OR CONDITIONS OF ANY KIND, either express or implied.\n",
              "// See the License for the specific language governing permissions and\n",
              "// limitations under the License.\n",
              "\n",
              "/**\n",
              " * @fileoverview Helpers for google.colab Python module.\n",
              " */\n",
              "(function(scope) {\n",
              "function span(text, styleAttributes = {}) {\n",
              "  const element = document.createElement('span');\n",
              "  element.textContent = text;\n",
              "  for (const key of Object.keys(styleAttributes)) {\n",
              "    element.style[key] = styleAttributes[key];\n",
              "  }\n",
              "  return element;\n",
              "}\n",
              "\n",
              "// Max number of bytes which will be uploaded at a time.\n",
              "const MAX_PAYLOAD_SIZE = 100 * 1024;\n",
              "\n",
              "function _uploadFiles(inputId, outputId) {\n",
              "  const steps = uploadFilesStep(inputId, outputId);\n",
              "  const outputElement = document.getElementById(outputId);\n",
              "  // Cache steps on the outputElement to make it available for the next call\n",
              "  // to uploadFilesContinue from Python.\n",
              "  outputElement.steps = steps;\n",
              "\n",
              "  return _uploadFilesContinue(outputId);\n",
              "}\n",
              "\n",
              "// This is roughly an async generator (not supported in the browser yet),\n",
              "// where there are multiple asynchronous steps and the Python side is going\n",
              "// to poll for completion of each step.\n",
              "// This uses a Promise to block the python side on completion of each step,\n",
              "// then passes the result of the previous step as the input to the next step.\n",
              "function _uploadFilesContinue(outputId) {\n",
              "  const outputElement = document.getElementById(outputId);\n",
              "  const steps = outputElement.steps;\n",
              "\n",
              "  const next = steps.next(outputElement.lastPromiseValue);\n",
              "  return Promise.resolve(next.value.promise).then((value) => {\n",
              "    // Cache the last promise value to make it available to the next\n",
              "    // step of the generator.\n",
              "    outputElement.lastPromiseValue = value;\n",
              "    return next.value.response;\n",
              "  });\n",
              "}\n",
              "\n",
              "/**\n",
              " * Generator function which is called between each async step of the upload\n",
              " * process.\n",
              " * @param {string} inputId Element ID of the input file picker element.\n",
              " * @param {string} outputId Element ID of the output display.\n",
              " * @return {!Iterable<!Object>} Iterable of next steps.\n",
              " */\n",
              "function* uploadFilesStep(inputId, outputId) {\n",
              "  const inputElement = document.getElementById(inputId);\n",
              "  inputElement.disabled = false;\n",
              "\n",
              "  const outputElement = document.getElementById(outputId);\n",
              "  outputElement.innerHTML = '';\n",
              "\n",
              "  const pickedPromise = new Promise((resolve) => {\n",
              "    inputElement.addEventListener('change', (e) => {\n",
              "      resolve(e.target.files);\n",
              "    });\n",
              "  });\n",
              "\n",
              "  const cancel = document.createElement('button');\n",
              "  inputElement.parentElement.appendChild(cancel);\n",
              "  cancel.textContent = 'Cancel upload';\n",
              "  const cancelPromise = new Promise((resolve) => {\n",
              "    cancel.onclick = () => {\n",
              "      resolve(null);\n",
              "    };\n",
              "  });\n",
              "\n",
              "  // Wait for the user to pick the files.\n",
              "  const files = yield {\n",
              "    promise: Promise.race([pickedPromise, cancelPromise]),\n",
              "    response: {\n",
              "      action: 'starting',\n",
              "    }\n",
              "  };\n",
              "\n",
              "  cancel.remove();\n",
              "\n",
              "  // Disable the input element since further picks are not allowed.\n",
              "  inputElement.disabled = true;\n",
              "\n",
              "  if (!files) {\n",
              "    return {\n",
              "      response: {\n",
              "        action: 'complete',\n",
              "      }\n",
              "    };\n",
              "  }\n",
              "\n",
              "  for (const file of files) {\n",
              "    const li = document.createElement('li');\n",
              "    li.append(span(file.name, {fontWeight: 'bold'}));\n",
              "    li.append(span(\n",
              "        `(${file.type || 'n/a'}) - ${file.size} bytes, ` +\n",
              "        `last modified: ${\n",
              "            file.lastModifiedDate ? file.lastModifiedDate.toLocaleDateString() :\n",
              "                                    'n/a'} - `));\n",
              "    const percent = span('0% done');\n",
              "    li.appendChild(percent);\n",
              "\n",
              "    outputElement.appendChild(li);\n",
              "\n",
              "    const fileDataPromise = new Promise((resolve) => {\n",
              "      const reader = new FileReader();\n",
              "      reader.onload = (e) => {\n",
              "        resolve(e.target.result);\n",
              "      };\n",
              "      reader.readAsArrayBuffer(file);\n",
              "    });\n",
              "    // Wait for the data to be ready.\n",
              "    let fileData = yield {\n",
              "      promise: fileDataPromise,\n",
              "      response: {\n",
              "        action: 'continue',\n",
              "      }\n",
              "    };\n",
              "\n",
              "    // Use a chunked sending to avoid message size limits. See b/62115660.\n",
              "    let position = 0;\n",
              "    do {\n",
              "      const length = Math.min(fileData.byteLength - position, MAX_PAYLOAD_SIZE);\n",
              "      const chunk = new Uint8Array(fileData, position, length);\n",
              "      position += length;\n",
              "\n",
              "      const base64 = btoa(String.fromCharCode.apply(null, chunk));\n",
              "      yield {\n",
              "        response: {\n",
              "          action: 'append',\n",
              "          file: file.name,\n",
              "          data: base64,\n",
              "        },\n",
              "      };\n",
              "\n",
              "      let percentDone = fileData.byteLength === 0 ?\n",
              "          100 :\n",
              "          Math.round((position / fileData.byteLength) * 100);\n",
              "      percent.textContent = `${percentDone}% done`;\n",
              "\n",
              "    } while (position < fileData.byteLength);\n",
              "  }\n",
              "\n",
              "  // All done.\n",
              "  yield {\n",
              "    response: {\n",
              "      action: 'complete',\n",
              "    }\n",
              "  };\n",
              "}\n",
              "\n",
              "scope.google = scope.google || {};\n",
              "scope.google.colab = scope.google.colab || {};\n",
              "scope.google.colab._files = {\n",
              "  _uploadFiles,\n",
              "  _uploadFilesContinue,\n",
              "};\n",
              "})(self);\n",
              "</script> "
            ]
          },
          "metadata": {}
        },
        {
          "output_type": "stream",
          "name": "stdout",
          "text": [
            "Saving kaggle.json to kaggle.json\n"
          ]
        },
        {
          "output_type": "execute_result",
          "data": {
            "text/plain": [
              "{'kaggle.json': b'{\"username\":\"abjpaul\",\"key\":\"32349daeaf607a6a4b88a12507714105\"}'}"
            ]
          },
          "metadata": {},
          "execution_count": 2
        }
      ],
      "source": [
        "import os\n",
        "from google.colab import files\n",
        "\n",
        "files.upload()"
      ]
    },
    {
      "cell_type": "code",
      "execution_count": null,
      "metadata": {
        "colab": {
          "base_uri": "https://localhost:8080/"
        },
        "id": "NO-y1r5XB96m",
        "outputId": "d1331318-eebf-453c-d8f2-bdd9084ff072"
      },
      "outputs": [
        {
          "output_type": "stream",
          "name": "stdout",
          "text": [
            "Mounted at /content/drive\n"
          ]
        }
      ],
      "source": [
        "from google.colab import drive\n",
        "drive.mount('/content/drive')"
      ]
    },
    {
      "cell_type": "code",
      "execution_count": null,
      "metadata": {
        "colab": {
          "base_uri": "https://localhost:8080/"
        },
        "id": "IoyAxMY5Y_KE",
        "outputId": "1ef5b597-fb98-4736-9304-41b27244f75e"
      },
      "outputs": [
        {
          "output_type": "stream",
          "name": "stdout",
          "text": [
            "mkdir: cannot create directory ‘/root/.kaggle’: File exists\n",
            "Warning: Looks like you're using an outdated API Version, please consider updating (server 1.6.12 / client 1.5.16)\n",
            "ref                                                    title                                                size  lastUpdated          downloadCount  voteCount  usabilityRating  \n",
            "-----------------------------------------------------  --------------------------------------------------  -----  -------------------  -------------  ---------  ---------------  \n",
            "rahulvyasm/netflix-movies-and-tv-shows                 Netflix Movies and TV Shows                           1MB  2024-04-10 09:48:38           3327         67  1.0              \n",
            "sudarshan24byte/online-food-dataset                    Online Food Dataset                                   3KB  2024-03-02 18:50:30          30250        583  0.9411765        \n",
            "nayanack/netflix                                       Netflix Chronicles: Exploring Movies and TV Shows     1MB  2024-04-16 07:36:08           1074         23  0.88235295       \n",
            "sakshisatre/social-advertisement-dataset               Social Media Consumer Buying Behavior Dataset         1KB  2024-04-14 08:47:43            876         29  1.0              \n",
            "mexwell/heart-disease-dataset                          🫀 Heart Disease Dataset                             399KB  2024-04-08 09:43:49           1767         32  1.0              \n",
            "asaniczka/university-employee-salaries-2011-present    University Employee Salaries (2011 - Present)        17MB  2024-04-07 10:11:15           1503         43  1.0              \n",
            "akankshaaa013/top-grossing-movies-dataset              Top Grossing Movies Dataset                          33KB  2024-04-08 08:29:47           1550         35  1.0              \n",
            "prishasawhney/mushroom-dataset                         Mushroom Dataset (Binary Classification)            602KB  2024-04-18 19:56:44            408         45  1.0              \n",
            "fatemehmehrparvar/obesity-levels                       Obesity Levels                                       58KB  2024-04-07 16:28:30           3052         55  0.88235295       \n",
            "sanyacodes/movies-dataset-netflix-prime-video-disney   Movies Dataset (Netflix, Prime Video, Disney+)      166KB  2024-04-12 05:10:53           1102         29  0.8235294        \n",
            "sunnykakar/spotify-charts-all-audio-data               Spotify Charts (All Audio Data)                       3GB  2024-04-15 20:15:15            864         31  1.0              \n",
            "arnavsmayan/amazon-prime-userbase-dataset              Amazon Prime Userbase Dataset                       104KB  2024-04-15 06:25:10           1100         26  1.0              \n",
            "sahirmaharajj/employee-salaries-analysis               Employee Salaries Analysis                          101KB  2024-03-31 16:32:47           2269         56  1.0              \n",
            "prishasawhney/good-reads-top-1000-books                Good Reads Dataset (Top 1000 Books)                  26KB  2024-04-17 20:02:53            241         43  1.0              \n",
            "bhavikjikadara/student-study-performance               Student Study Performance                             9KB  2024-03-07 06:14:09          14239        178  1.0              \n",
            "sanyamgoyal401/customer-purchases-behaviour-dataset    Customer Purchases Behaviour Dataset                  1MB  2024-04-06 18:42:01           2213         46  1.0              \n",
            "joshuanaude/effects-of-alcohol-on-student-performance  Effects of Alcohol on Student Performance.            9KB  2024-03-25 12:08:03           2386         44  1.0              \n",
            "nitishjolly/consumers-buying-behavior                  Consumer's Buying Behavior                            1KB  2024-04-17 02:22:44            644         23  0.88235295       \n",
            "anandshaw2001/customer-churn-dataset                   Customer Churn Dataset                              262KB  2024-04-09 18:41:58           1076         27  1.0              \n",
            "startalks/pii-models                                   pii-models                                            1GB  2024-03-21 21:23:40            181         24  1.0              \n"
          ]
        }
      ],
      "source": [
        "! mkdir ~/.kaggle\n",
        "! cp kaggle.json ~/.kaggle/\n",
        "! chmod 600 ~/.kaggle/kaggle.json\n",
        "! kaggle datasets list"
      ]
    },
    {
      "cell_type": "code",
      "execution_count": null,
      "metadata": {
        "colab": {
          "base_uri": "https://localhost:8080/"
        },
        "id": "MyuwkDz3ZKSR",
        "outputId": "b612f4a5-cf84-4501-f07e-2b7d71e36d67"
      },
      "outputs": [
        {
          "output_type": "stream",
          "name": "stdout",
          "text": [
            "Downloading bangla-largest-newspaper-dataset.zip to /content\n",
            " 99% 3.00G/3.02G [00:20<00:00, 203MB/s]\n",
            "100% 3.02G/3.02G [00:20<00:00, 161MB/s]\n"
          ]
        }
      ],
      "source": [
        "! kaggle datasets download -d ebiswas/bangla-largest-newspaper-dataset"
      ]
    },
    {
      "cell_type": "code",
      "execution_count": null,
      "metadata": {
        "colab": {
          "base_uri": "https://localhost:8080/"
        },
        "id": "IbllFScCbahE",
        "outputId": "62452d5b-13e1-4e6e-88e4-6815671d2b0e"
      },
      "outputs": [
        {
          "output_type": "stream",
          "name": "stdout",
          "text": [
            "bangla-largest-newspaper-dataset.zip  drive  kaggle.json  sample_data\n",
            "Archive:  ebd-dataset/bangla-largest-newspaper-dataset.zip\n",
            "  inflating: itte-part-0.json        \n",
            "  inflating: itte-part-1.json        \n",
            "  inflating: itte-part-2.json        \n",
            "  inflating: itte-part-3.json        \n",
            "  inflating: itte-part-4.json        \n",
            "  inflating: jug-part-0.json         \n",
            "  inflating: jug-part-1.json         \n",
            "  inflating: jug-part-2.json         \n",
            "  inflating: jug-part-3.json         \n",
            "  inflating: pro-part-0.json         \n",
            "  inflating: pro-part-1.json         \n",
            "  inflating: pro-part-10.json        \n",
            "  inflating: pro-part-11.json        \n",
            "  inflating: pro-part-2.json         \n",
            "  inflating: pro-part-3.json         \n",
            "  inflating: pro-part-4.json         \n",
            "  inflating: pro-part-5.json         \n",
            "  inflating: pro-part-6.json         \n",
            "  inflating: pro-part-7.json         \n",
            "  inflating: pro-part-8.json         \n",
            "  inflating: pro-part-9.json         \n",
            "drive\t\t  itte-part-3.json  jug-part-3.json   pro-part-1.json  pro-part-6.json\n",
            "ebd-dataset\t  itte-part-4.json  kaggle.json       pro-part-2.json  pro-part-7.json\n",
            "itte-part-0.json  jug-part-0.json   pro-part-0.json   pro-part-3.json  pro-part-8.json\n",
            "itte-part-1.json  jug-part-1.json   pro-part-10.json  pro-part-4.json  pro-part-9.json\n",
            "itte-part-2.json  jug-part-2.json   pro-part-11.json  pro-part-5.json  sample_data\n"
          ]
        }
      ],
      "source": [
        "!ls\n",
        "!mkdir ebd-dataset\n",
        "!mv bangla-largest-newspaper-dataset.zip ebd-dataset\n",
        "!unzip ebd-dataset/bangla-largest-newspaper-dataset.zip\n",
        "!ls"
      ]
    },
    {
      "cell_type": "code",
      "execution_count": null,
      "metadata": {
        "colab": {
          "base_uri": "https://localhost:8080/"
        },
        "id": "QdFTF_TWcYiI",
        "outputId": "6dd91523-ec9c-4f61-a1ba-074da51b4b09"
      },
      "outputs": [
        {
          "output_type": "stream",
          "name": "stdout",
          "text": [
            "bangla-largest-newspaper-dataset.zip  jug-part-0.json  pro-part-10.json  pro-part-5.json\n",
            "itte-part-0.json\t\t      jug-part-1.json  pro-part-11.json  pro-part-6.json\n",
            "itte-part-1.json\t\t      jug-part-2.json  pro-part-1.json\t pro-part-7.json\n",
            "itte-part-2.json\t\t      jug-part-3.json  pro-part-2.json\t pro-part-8.json\n",
            "itte-part-3.json\t\t      kaggle.json      pro-part-3.json\t pro-part-9.json\n",
            "itte-part-4.json\t\t      pro-part-0.json  pro-part-4.json\n"
          ]
        }
      ],
      "source": [
        "!mv *.json ebd-dataset/\n",
        "!ls ebd-dataset"
      ]
    },
    {
      "cell_type": "code",
      "execution_count": null,
      "metadata": {
        "colab": {
          "base_uri": "https://localhost:8080/"
        },
        "id": "wdBeIu-scZ6u",
        "outputId": "c891c7b0-3ec1-4ba4-c4dd-381f98d69535"
      },
      "outputs": [
        {
          "output_type": "stream",
          "name": "stdout",
          "text": [
            "itte-part-0.json  jug-part-0.json  pro-part-10.json  pro-part-4.json  pro-part-9.json\n",
            "itte-part-1.json  jug-part-1.json  pro-part-11.json  pro-part-5.json\n",
            "itte-part-2.json  jug-part-2.json  pro-part-1.json   pro-part-6.json\n",
            "itte-part-3.json  jug-part-3.json  pro-part-2.json   pro-part-7.json\n",
            "itte-part-4.json  pro-part-0.json  pro-part-3.json   pro-part-8.json\n"
          ]
        }
      ],
      "source": [
        "!rm ebd-dataset/bangla-largest-newspaper-dataset.zip\n",
        "!mv ebd-dataset/kaggle.json .\n",
        "!ls ebd-dataset"
      ]
    },
    {
      "cell_type": "code",
      "execution_count": null,
      "metadata": {
        "colab": {
          "base_uri": "https://localhost:8080/"
        },
        "id": "ub6USnV7eKbz",
        "outputId": "48719c7b-94d3-4ffa-b9d3-93cfc004398a"
      },
      "outputs": [
        {
          "output_type": "stream",
          "name": "stdout",
          "text": [
            "--2024-04-21 06:06:40--  https://github.com/aljubaer/Topic-Modeling-in-Bengali/blob/master/code/stop_words.txt\n",
            "Resolving github.com (github.com)... 140.82.114.3\n",
            "Connecting to github.com (github.com)|140.82.114.3|:443... connected.\n",
            "HTTP request sent, awaiting response... 200 OK\n",
            "Length: unspecified [text/html]\n",
            "Saving to: ‘stop_words.txt’\n",
            "\n",
            "stop_words.txt          [ <=>                ] 154.26K  --.-KB/s    in 0.07s   \n",
            "\n",
            "2024-04-21 06:06:40 (2.07 MB/s) - ‘stop_words.txt’ saved [157964]\n",
            "\n"
          ]
        }
      ],
      "source": [
        "!wget https://github.com/aljubaer/Topic-Modeling-in-Bengali/blob/master/code/stop_words.txt"
      ]
    },
    {
      "cell_type": "markdown",
      "metadata": {
        "id": "Sn4JePsrd4r9"
      },
      "source": [
        "### Loading & Preprocessing Dataset\n",
        "https://github.com/aljubaer/Topic-Modeling-in-Bengali/blob/master/code/data-preprocessor.ipynb"
      ]
    },
    {
      "cell_type": "code",
      "execution_count": null,
      "metadata": {
        "id": "wweU3OfYd2mQ"
      },
      "outputs": [],
      "source": [
        "import re\n",
        "import numpy as np\n",
        "import pandas as pd\n",
        "from pprint import pprint\n",
        "# Gensim\n",
        "import gensim\n",
        "import gensim.corpora as corpora\n",
        "from gensim.utils import simple_preprocess\n",
        "from gensim.models import CoherenceModel\n",
        "import nltk\n",
        "import json\n",
        "import os\n"
      ]
    },
    {
      "cell_type": "code",
      "execution_count": null,
      "metadata": {
        "colab": {
          "base_uri": "https://localhost:8080/"
        },
        "id": "fD3369N8gvDc",
        "outputId": "a09d573b-3e41-4034-fbcc-970ad9b4b9e2"
      },
      "outputs": [
        {
          "output_type": "stream",
          "name": "stdout",
          "text": [
            "pro-part-6.json\n",
            "pro-part-4.json\n",
            "jug-part-1.json\n",
            "pro-part-11.json\n",
            "itte-part-2.json\n",
            "itte-part-4.json\n",
            "itte-part-0.json\n",
            "pro-part-1.json\n",
            "jug-part-2.json\n",
            "pro-part-5.json\n"
          ]
        }
      ],
      "source": [
        "import os\n",
        "\n",
        "directory = 'ebd-dataset'\n",
        "files = [file for file in os.listdir(directory) if file.endswith('.json')]\n",
        "\n",
        "dfs = []\n",
        "\n",
        "for file in files:\n",
        "    print(file)\n",
        "    df = pd.read_json(os.path.join(directory, file))\n",
        "    dfs.append(df)\n",
        "\n",
        "# Concatenate all DataFrames into one\n",
        "combined_df = pd.concat(dfs, ignore_index=True)\n",
        "combined_df.shape"
      ]
    },
    {
      "cell_type": "code",
      "execution_count": null,
      "metadata": {
        "id": "kZIwJ5aTg0H5"
      },
      "outputs": [],
      "source": [
        "df = combined_df\n",
        "df = df[['category', 'body']]\n",
        "print(df.shape)\n",
        "df.head()"
      ]
    },
    {
      "cell_type": "code",
      "execution_count": null,
      "metadata": {
        "id": "igEh6oam6Kjh"
      },
      "outputs": [],
      "source": [
        "import nltk\n",
        "nltk.download('punkt')"
      ]
    },
    {
      "cell_type": "code",
      "execution_count": null,
      "metadata": {
        "colab": {
          "base_uri": "https://localhost:8080/"
        },
        "id": "-tXvm9js6jhJ",
        "outputId": "16ad67f0-4d12-4d0e-b5f2-c60b1d106dfd"
      },
      "outputs": [
        {
          "output_type": "stream",
          "name": "stdout",
          "text": [
            "Collecting sbnltk\n",
            "  Downloading sbnltk-2.0.2.tar.gz (28 kB)\n",
            "  Preparing metadata (setup.py) ... \u001b[?25l\u001b[?25hdone\n",
            "Requirement already satisfied: gdown>=3.12.2 in /usr/local/lib/python3.10/dist-packages (from sbnltk) (4.7.3)\n",
            "Collecting google_trans_new>=1.1.9 (from sbnltk)\n",
            "  Downloading google_trans_new-1.1.9-py3-none-any.whl (9.2 kB)\n",
            "Requirement already satisfied: pandas>=1.2.2 in /usr/local/lib/python3.10/dist-packages (from sbnltk) (2.0.3)\n",
            "Requirement already satisfied: transformers>=4.3.2 in /usr/local/lib/python3.10/dist-packages (from sbnltk) (4.38.2)\n",
            "Requirement already satisfied: torch in /usr/local/lib/python3.10/dist-packages (from sbnltk) (2.2.1+cu121)\n",
            "Requirement already satisfied: tensorflow>=2.4.1 in /usr/local/lib/python3.10/dist-packages (from sbnltk) (2.15.0)\n",
            "Collecting sklearn_crfsuite>=0.3.6 (from sbnltk)\n",
            "  Downloading sklearn_crfsuite-0.3.6-py2.py3-none-any.whl (12 kB)\n",
            "Collecting pytorch_pretrained_bert>=0.6.2 (from sbnltk)\n",
            "  Downloading pytorch_pretrained_bert-0.6.2-py3-none-any.whl (123 kB)\n",
            "\u001b[2K     \u001b[90m━━━━━━━━━━━━━━━━━━━━━━━━━━━━━━━━━━━━━━━━\u001b[0m \u001b[32m123.8/123.8 kB\u001b[0m \u001b[31m5.0 MB/s\u001b[0m eta \u001b[36m0:00:00\u001b[0m\n",
            "\u001b[?25hCollecting sentence_transformers (from sbnltk)\n",
            "  Downloading sentence_transformers-2.7.0-py3-none-any.whl (171 kB)\n",
            "\u001b[2K     \u001b[90m━━━━━━━━━━━━━━━━━━━━━━━━━━━━━━━━━━━━━━━━\u001b[0m \u001b[32m171.5/171.5 kB\u001b[0m \u001b[31m6.5 MB/s\u001b[0m eta \u001b[36m0:00:00\u001b[0m\n",
            "\u001b[?25hRequirement already satisfied: filelock in /usr/local/lib/python3.10/dist-packages (from gdown>=3.12.2->sbnltk) (3.13.4)\n",
            "Requirement already satisfied: requests[socks] in /usr/local/lib/python3.10/dist-packages (from gdown>=3.12.2->sbnltk) (2.31.0)\n",
            "Requirement already satisfied: six in /usr/local/lib/python3.10/dist-packages (from gdown>=3.12.2->sbnltk) (1.16.0)\n",
            "Requirement already satisfied: tqdm in /usr/local/lib/python3.10/dist-packages (from gdown>=3.12.2->sbnltk) (4.66.2)\n",
            "Requirement already satisfied: beautifulsoup4 in /usr/local/lib/python3.10/dist-packages (from gdown>=3.12.2->sbnltk) (4.12.3)\n",
            "Requirement already satisfied: python-dateutil>=2.8.2 in /usr/local/lib/python3.10/dist-packages (from pandas>=1.2.2->sbnltk) (2.8.2)\n",
            "Requirement already satisfied: pytz>=2020.1 in /usr/local/lib/python3.10/dist-packages (from pandas>=1.2.2->sbnltk) (2023.4)\n",
            "Requirement already satisfied: tzdata>=2022.1 in /usr/local/lib/python3.10/dist-packages (from pandas>=1.2.2->sbnltk) (2024.1)\n",
            "Requirement already satisfied: numpy>=1.21.0 in /usr/local/lib/python3.10/dist-packages (from pandas>=1.2.2->sbnltk) (1.25.2)\n",
            "Collecting boto3 (from pytorch_pretrained_bert>=0.6.2->sbnltk)\n",
            "  Downloading boto3-1.34.88-py3-none-any.whl (139 kB)\n",
            "\u001b[2K     \u001b[90m━━━━━━━━━━━━━━━━━━━━━━━━━━━━━━━━━━━━━━━━\u001b[0m \u001b[32m139.3/139.3 kB\u001b[0m \u001b[31m7.9 MB/s\u001b[0m eta \u001b[36m0:00:00\u001b[0m\n",
            "\u001b[?25hRequirement already satisfied: regex in /usr/local/lib/python3.10/dist-packages (from pytorch_pretrained_bert>=0.6.2->sbnltk) (2023.12.25)\n",
            "Collecting python-crfsuite>=0.8.3 (from sklearn_crfsuite>=0.3.6->sbnltk)\n",
            "  Downloading python_crfsuite-0.9.10-cp310-cp310-manylinux_2_17_x86_64.manylinux2014_x86_64.whl (1.1 MB)\n",
            "\u001b[2K     \u001b[90m━━━━━━━━━━━━━━━━━━━━━━━━━━━━━━━━━━━━━━━━\u001b[0m \u001b[32m1.1/1.1 MB\u001b[0m \u001b[31m10.5 MB/s\u001b[0m eta \u001b[36m0:00:00\u001b[0m\n",
            "\u001b[?25hRequirement already satisfied: tabulate in /usr/local/lib/python3.10/dist-packages (from sklearn_crfsuite>=0.3.6->sbnltk) (0.9.0)\n",
            "Requirement already satisfied: absl-py>=1.0.0 in /usr/local/lib/python3.10/dist-packages (from tensorflow>=2.4.1->sbnltk) (1.4.0)\n",
            "Requirement already satisfied: astunparse>=1.6.0 in /usr/local/lib/python3.10/dist-packages (from tensorflow>=2.4.1->sbnltk) (1.6.3)\n",
            "Requirement already satisfied: flatbuffers>=23.5.26 in /usr/local/lib/python3.10/dist-packages (from tensorflow>=2.4.1->sbnltk) (24.3.25)\n",
            "Requirement already satisfied: gast!=0.5.0,!=0.5.1,!=0.5.2,>=0.2.1 in /usr/local/lib/python3.10/dist-packages (from tensorflow>=2.4.1->sbnltk) (0.5.4)\n",
            "Requirement already satisfied: google-pasta>=0.1.1 in /usr/local/lib/python3.10/dist-packages (from tensorflow>=2.4.1->sbnltk) (0.2.0)\n",
            "Requirement already satisfied: h5py>=2.9.0 in /usr/local/lib/python3.10/dist-packages (from tensorflow>=2.4.1->sbnltk) (3.9.0)\n",
            "Requirement already satisfied: libclang>=13.0.0 in /usr/local/lib/python3.10/dist-packages (from tensorflow>=2.4.1->sbnltk) (18.1.1)\n",
            "Requirement already satisfied: ml-dtypes~=0.2.0 in /usr/local/lib/python3.10/dist-packages (from tensorflow>=2.4.1->sbnltk) (0.2.0)\n",
            "Requirement already satisfied: opt-einsum>=2.3.2 in /usr/local/lib/python3.10/dist-packages (from tensorflow>=2.4.1->sbnltk) (3.3.0)\n",
            "Requirement already satisfied: packaging in /usr/local/lib/python3.10/dist-packages (from tensorflow>=2.4.1->sbnltk) (24.0)\n",
            "Requirement already satisfied: protobuf!=4.21.0,!=4.21.1,!=4.21.2,!=4.21.3,!=4.21.4,!=4.21.5,<5.0.0dev,>=3.20.3 in /usr/local/lib/python3.10/dist-packages (from tensorflow>=2.4.1->sbnltk) (3.20.3)\n",
            "Requirement already satisfied: setuptools in /usr/local/lib/python3.10/dist-packages (from tensorflow>=2.4.1->sbnltk) (67.7.2)\n",
            "Requirement already satisfied: termcolor>=1.1.0 in /usr/local/lib/python3.10/dist-packages (from tensorflow>=2.4.1->sbnltk) (2.4.0)\n",
            "Requirement already satisfied: typing-extensions>=3.6.6 in /usr/local/lib/python3.10/dist-packages (from tensorflow>=2.4.1->sbnltk) (4.11.0)\n",
            "Requirement already satisfied: wrapt<1.15,>=1.11.0 in /usr/local/lib/python3.10/dist-packages (from tensorflow>=2.4.1->sbnltk) (1.14.1)\n",
            "Requirement already satisfied: tensorflow-io-gcs-filesystem>=0.23.1 in /usr/local/lib/python3.10/dist-packages (from tensorflow>=2.4.1->sbnltk) (0.36.0)\n",
            "Requirement already satisfied: grpcio<2.0,>=1.24.3 in /usr/local/lib/python3.10/dist-packages (from tensorflow>=2.4.1->sbnltk) (1.62.1)\n",
            "Requirement already satisfied: tensorboard<2.16,>=2.15 in /usr/local/lib/python3.10/dist-packages (from tensorflow>=2.4.1->sbnltk) (2.15.2)\n",
            "Requirement already satisfied: tensorflow-estimator<2.16,>=2.15.0 in /usr/local/lib/python3.10/dist-packages (from tensorflow>=2.4.1->sbnltk) (2.15.0)\n",
            "Requirement already satisfied: keras<2.16,>=2.15.0 in /usr/local/lib/python3.10/dist-packages (from tensorflow>=2.4.1->sbnltk) (2.15.0)\n",
            "Requirement already satisfied: sympy in /usr/local/lib/python3.10/dist-packages (from torch->sbnltk) (1.12)\n",
            "Requirement already satisfied: networkx in /usr/local/lib/python3.10/dist-packages (from torch->sbnltk) (3.3)\n",
            "Requirement already satisfied: jinja2 in /usr/local/lib/python3.10/dist-packages (from torch->sbnltk) (3.1.3)\n",
            "Requirement already satisfied: fsspec in /usr/local/lib/python3.10/dist-packages (from torch->sbnltk) (2023.6.0)\n",
            "Collecting nvidia-cuda-nvrtc-cu12==12.1.105 (from torch->sbnltk)\n",
            "  Using cached nvidia_cuda_nvrtc_cu12-12.1.105-py3-none-manylinux1_x86_64.whl (23.7 MB)\n",
            "Collecting nvidia-cuda-runtime-cu12==12.1.105 (from torch->sbnltk)\n",
            "  Using cached nvidia_cuda_runtime_cu12-12.1.105-py3-none-manylinux1_x86_64.whl (823 kB)\n",
            "Collecting nvidia-cuda-cupti-cu12==12.1.105 (from torch->sbnltk)\n",
            "  Using cached nvidia_cuda_cupti_cu12-12.1.105-py3-none-manylinux1_x86_64.whl (14.1 MB)\n",
            "Collecting nvidia-cudnn-cu12==8.9.2.26 (from torch->sbnltk)\n",
            "  Using cached nvidia_cudnn_cu12-8.9.2.26-py3-none-manylinux1_x86_64.whl (731.7 MB)\n",
            "Collecting nvidia-cublas-cu12==12.1.3.1 (from torch->sbnltk)\n",
            "  Using cached nvidia_cublas_cu12-12.1.3.1-py3-none-manylinux1_x86_64.whl (410.6 MB)\n",
            "Collecting nvidia-cufft-cu12==11.0.2.54 (from torch->sbnltk)\n",
            "  Using cached nvidia_cufft_cu12-11.0.2.54-py3-none-manylinux1_x86_64.whl (121.6 MB)\n",
            "Collecting nvidia-curand-cu12==10.3.2.106 (from torch->sbnltk)\n",
            "  Using cached nvidia_curand_cu12-10.3.2.106-py3-none-manylinux1_x86_64.whl (56.5 MB)\n",
            "Collecting nvidia-cusolver-cu12==11.4.5.107 (from torch->sbnltk)\n",
            "  Using cached nvidia_cusolver_cu12-11.4.5.107-py3-none-manylinux1_x86_64.whl (124.2 MB)\n",
            "Collecting nvidia-cusparse-cu12==12.1.0.106 (from torch->sbnltk)\n",
            "  Using cached nvidia_cusparse_cu12-12.1.0.106-py3-none-manylinux1_x86_64.whl (196.0 MB)\n",
            "Collecting nvidia-nccl-cu12==2.19.3 (from torch->sbnltk)\n",
            "  Using cached nvidia_nccl_cu12-2.19.3-py3-none-manylinux1_x86_64.whl (166.0 MB)\n",
            "Collecting nvidia-nvtx-cu12==12.1.105 (from torch->sbnltk)\n",
            "  Using cached nvidia_nvtx_cu12-12.1.105-py3-none-manylinux1_x86_64.whl (99 kB)\n",
            "Requirement already satisfied: triton==2.2.0 in /usr/local/lib/python3.10/dist-packages (from torch->sbnltk) (2.2.0)\n",
            "Collecting nvidia-nvjitlink-cu12 (from nvidia-cusolver-cu12==11.4.5.107->torch->sbnltk)\n",
            "  Using cached nvidia_nvjitlink_cu12-12.4.127-py3-none-manylinux2014_x86_64.whl (21.1 MB)\n",
            "Requirement already satisfied: huggingface-hub<1.0,>=0.19.3 in /usr/local/lib/python3.10/dist-packages (from transformers>=4.3.2->sbnltk) (0.20.3)\n",
            "Requirement already satisfied: pyyaml>=5.1 in /usr/local/lib/python3.10/dist-packages (from transformers>=4.3.2->sbnltk) (6.0.1)\n",
            "Requirement already satisfied: tokenizers<0.19,>=0.14 in /usr/local/lib/python3.10/dist-packages (from transformers>=4.3.2->sbnltk) (0.15.2)\n",
            "Requirement already satisfied: safetensors>=0.4.1 in /usr/local/lib/python3.10/dist-packages (from transformers>=4.3.2->sbnltk) (0.4.3)\n",
            "Requirement already satisfied: scikit-learn in /usr/local/lib/python3.10/dist-packages (from sentence_transformers->sbnltk) (1.2.2)\n",
            "Requirement already satisfied: scipy in /usr/local/lib/python3.10/dist-packages (from sentence_transformers->sbnltk) (1.11.4)\n",
            "Requirement already satisfied: Pillow in /usr/local/lib/python3.10/dist-packages (from sentence_transformers->sbnltk) (9.4.0)\n",
            "Requirement already satisfied: wheel<1.0,>=0.23.0 in /usr/local/lib/python3.10/dist-packages (from astunparse>=1.6.0->tensorflow>=2.4.1->sbnltk) (0.43.0)\n",
            "Requirement already satisfied: google-auth<3,>=1.6.3 in /usr/local/lib/python3.10/dist-packages (from tensorboard<2.16,>=2.15->tensorflow>=2.4.1->sbnltk) (2.27.0)\n",
            "Requirement already satisfied: google-auth-oauthlib<2,>=0.5 in /usr/local/lib/python3.10/dist-packages (from tensorboard<2.16,>=2.15->tensorflow>=2.4.1->sbnltk) (1.2.0)\n",
            "Requirement already satisfied: markdown>=2.6.8 in /usr/local/lib/python3.10/dist-packages (from tensorboard<2.16,>=2.15->tensorflow>=2.4.1->sbnltk) (3.6)\n",
            "Requirement already satisfied: tensorboard-data-server<0.8.0,>=0.7.0 in /usr/local/lib/python3.10/dist-packages (from tensorboard<2.16,>=2.15->tensorflow>=2.4.1->sbnltk) (0.7.2)\n",
            "Requirement already satisfied: werkzeug>=1.0.1 in /usr/local/lib/python3.10/dist-packages (from tensorboard<2.16,>=2.15->tensorflow>=2.4.1->sbnltk) (3.0.2)\n",
            "Requirement already satisfied: charset-normalizer<4,>=2 in /usr/local/lib/python3.10/dist-packages (from requests[socks]->gdown>=3.12.2->sbnltk) (3.3.2)\n",
            "Requirement already satisfied: idna<4,>=2.5 in /usr/local/lib/python3.10/dist-packages (from requests[socks]->gdown>=3.12.2->sbnltk) (3.7)\n",
            "Requirement already satisfied: urllib3<3,>=1.21.1 in /usr/local/lib/python3.10/dist-packages (from requests[socks]->gdown>=3.12.2->sbnltk) (2.0.7)\n",
            "Requirement already satisfied: certifi>=2017.4.17 in /usr/local/lib/python3.10/dist-packages (from requests[socks]->gdown>=3.12.2->sbnltk) (2024.2.2)\n",
            "Requirement already satisfied: soupsieve>1.2 in /usr/local/lib/python3.10/dist-packages (from beautifulsoup4->gdown>=3.12.2->sbnltk) (2.5)\n",
            "Collecting botocore<1.35.0,>=1.34.88 (from boto3->pytorch_pretrained_bert>=0.6.2->sbnltk)\n",
            "  Downloading botocore-1.34.88-py3-none-any.whl (12.2 MB)\n",
            "\u001b[2K     \u001b[90m━━━━━━━━━━━━━━━━━━━━━━━━━━━━━━━━━━━━━━━━\u001b[0m \u001b[32m12.2/12.2 MB\u001b[0m \u001b[31m38.6 MB/s\u001b[0m eta \u001b[36m0:00:00\u001b[0m\n",
            "\u001b[?25hCollecting jmespath<2.0.0,>=0.7.1 (from boto3->pytorch_pretrained_bert>=0.6.2->sbnltk)\n",
            "  Downloading jmespath-1.0.1-py3-none-any.whl (20 kB)\n",
            "Collecting s3transfer<0.11.0,>=0.10.0 (from boto3->pytorch_pretrained_bert>=0.6.2->sbnltk)\n",
            "  Downloading s3transfer-0.10.1-py3-none-any.whl (82 kB)\n",
            "\u001b[2K     \u001b[90m━━━━━━━━━━━━━━━━━━━━━━━━━━━━━━━━━━━━━━━━\u001b[0m \u001b[32m82.2/82.2 kB\u001b[0m \u001b[31m13.2 MB/s\u001b[0m eta \u001b[36m0:00:00\u001b[0m\n",
            "\u001b[?25hRequirement already satisfied: MarkupSafe>=2.0 in /usr/local/lib/python3.10/dist-packages (from jinja2->torch->sbnltk) (2.1.5)\n",
            "Requirement already satisfied: PySocks!=1.5.7,>=1.5.6 in /usr/local/lib/python3.10/dist-packages (from requests[socks]->gdown>=3.12.2->sbnltk) (1.7.1)\n",
            "Requirement already satisfied: joblib>=1.1.1 in /usr/local/lib/python3.10/dist-packages (from scikit-learn->sentence_transformers->sbnltk) (1.4.0)\n",
            "Requirement already satisfied: threadpoolctl>=2.0.0 in /usr/local/lib/python3.10/dist-packages (from scikit-learn->sentence_transformers->sbnltk) (3.4.0)\n",
            "Requirement already satisfied: mpmath>=0.19 in /usr/local/lib/python3.10/dist-packages (from sympy->torch->sbnltk) (1.3.0)\n",
            "Requirement already satisfied: cachetools<6.0,>=2.0.0 in /usr/local/lib/python3.10/dist-packages (from google-auth<3,>=1.6.3->tensorboard<2.16,>=2.15->tensorflow>=2.4.1->sbnltk) (5.3.3)\n",
            "Requirement already satisfied: pyasn1-modules>=0.2.1 in /usr/local/lib/python3.10/dist-packages (from google-auth<3,>=1.6.3->tensorboard<2.16,>=2.15->tensorflow>=2.4.1->sbnltk) (0.4.0)\n",
            "Requirement already satisfied: rsa<5,>=3.1.4 in /usr/local/lib/python3.10/dist-packages (from google-auth<3,>=1.6.3->tensorboard<2.16,>=2.15->tensorflow>=2.4.1->sbnltk) (4.9)\n",
            "Requirement already satisfied: requests-oauthlib>=0.7.0 in /usr/local/lib/python3.10/dist-packages (from google-auth-oauthlib<2,>=0.5->tensorboard<2.16,>=2.15->tensorflow>=2.4.1->sbnltk) (1.3.1)\n",
            "Requirement already satisfied: pyasn1<0.7.0,>=0.4.6 in /usr/local/lib/python3.10/dist-packages (from pyasn1-modules>=0.2.1->google-auth<3,>=1.6.3->tensorboard<2.16,>=2.15->tensorflow>=2.4.1->sbnltk) (0.6.0)\n",
            "Requirement already satisfied: oauthlib>=3.0.0 in /usr/local/lib/python3.10/dist-packages (from requests-oauthlib>=0.7.0->google-auth-oauthlib<2,>=0.5->tensorboard<2.16,>=2.15->tensorflow>=2.4.1->sbnltk) (3.2.2)\n",
            "Building wheels for collected packages: sbnltk\n",
            "  Building wheel for sbnltk (setup.py) ... \u001b[?25l\u001b[?25hdone\n",
            "  Created wheel for sbnltk: filename=sbnltk-2.0.2-py3-none-any.whl size=31768 sha256=a03dba06f7555cbfc0f1471e71bfbbf9096c88ed4725342c28d4b9cb54b5fc99\n",
            "  Stored in directory: /root/.cache/pip/wheels/bf/28/f7/edaa538b6d892af6d3a1ea6c622b62303658ce7928a413bcbe\n",
            "Successfully built sbnltk\n",
            "Installing collected packages: python-crfsuite, google_trans_new, sklearn_crfsuite, nvidia-nvtx-cu12, nvidia-nvjitlink-cu12, nvidia-nccl-cu12, nvidia-curand-cu12, nvidia-cufft-cu12, nvidia-cuda-runtime-cu12, nvidia-cuda-nvrtc-cu12, nvidia-cuda-cupti-cu12, nvidia-cublas-cu12, jmespath, nvidia-cusparse-cu12, nvidia-cudnn-cu12, botocore, s3transfer, nvidia-cusolver-cu12, boto3, sentence_transformers, pytorch_pretrained_bert, sbnltk\n",
            "Successfully installed boto3-1.34.88 botocore-1.34.88 google_trans_new-1.1.9 jmespath-1.0.1 nvidia-cublas-cu12-12.1.3.1 nvidia-cuda-cupti-cu12-12.1.105 nvidia-cuda-nvrtc-cu12-12.1.105 nvidia-cuda-runtime-cu12-12.1.105 nvidia-cudnn-cu12-8.9.2.26 nvidia-cufft-cu12-11.0.2.54 nvidia-curand-cu12-10.3.2.106 nvidia-cusolver-cu12-11.4.5.107 nvidia-cusparse-cu12-12.1.0.106 nvidia-nccl-cu12-2.19.3 nvidia-nvjitlink-cu12-12.4.127 nvidia-nvtx-cu12-12.1.105 python-crfsuite-0.9.10 pytorch_pretrained_bert-0.6.2 s3transfer-0.10.1 sbnltk-2.0.2 sentence_transformers-2.7.0 sklearn_crfsuite-0.3.6\n"
          ]
        }
      ],
      "source": [
        "!pip install sbnltk"
      ]
    },
    {
      "cell_type": "code",
      "execution_count": 2,
      "metadata": {
        "id": "_QypyoA2ePZH",
        "colab": {
          "base_uri": "https://localhost:8080/",
          "height": 106
        },
        "outputId": "992dcac6-862b-4b8b-ab0d-9031fcea4ff7"
      },
      "outputs": [
        {
          "output_type": "error",
          "ename": "IndentationError",
          "evalue": "expected an indented block after function definition on line 20 (<ipython-input-2-62a5988c1e4d>, line 21)",
          "traceback": [
            "\u001b[0;36m  File \u001b[0;32m\"<ipython-input-2-62a5988c1e4d>\"\u001b[0;36m, line \u001b[0;32m21\u001b[0m\n\u001b[0;31m    return ord(char) >= 2433 and ord(char) <= 2543\u001b[0m\n\u001b[0m    ^\u001b[0m\n\u001b[0;31mIndentationError\u001b[0m\u001b[0;31m:\u001b[0m expected an indented block after function definition on line 20\n"
          ]
        }
      ],
      "source": [
        "stopwords_file = open('stop_words.txt', \"r+\", encoding = 'utf-8')\n",
        "all_stopwords = stopwords_file.read()\n",
        "stopwords_ready = [word.strip() for word in all_stopwords.split()]\n",
        "def convertToDataFrame(data_json):\n",
        "    df = pd.DataFrame(data_json)\n",
        "    print('DataFrame shape' + str(df.shape))\n",
        "    return df\n",
        "\n",
        "def remove_stopwords(content):\n",
        "    without_stopwords = []\n",
        "    for word in content:\n",
        "        if word not in stopwords_ready and len(word) > 5:\n",
        "            without_stopwords.append(word)\n",
        "    return without_stopwords\n",
        "def remove_stopwords_list(data_list):\n",
        "    data_without_stopwords_list = []\n",
        "    for content in data_list:\n",
        "        data_without_stopwords_list.append(remove_stopwords(content))\n",
        "    return data_without_stopwords_list\n",
        "    def valid_bengali_letters(char):\n",
        "    return ord(char) >= 2433 and ord(char) <= 2543\n",
        "\n",
        "def get_replacement(char):\n",
        "    if valid_bengali_letters(char):\n",
        "        return char\n",
        "    newlines = [10, 2404, 2405, 2551, 9576]\n",
        "    if ord(char) in newlines:\n",
        "        return ' '\n",
        "    return ' ';\n",
        "\n",
        "def get_valid_lines(line):\n",
        "    copy_line = ''\n",
        "    for letter in line:\n",
        "        copy_line += get_replacement(letter)\n",
        "    return copy_line\n",
        "\n",
        "def sent_to_words(sentences):\n",
        "    for sentence in sentences:\n",
        "        yield(nltk.word_tokenize(get_valid_lines(sentence)))  # deacc=True removes punctuations\n",
        "\n",
        "from sbnltk.Stemmer import stemmerOP\n",
        "bn_stemmer=stemmerOP()\n",
        "def stemming_data(content):\n",
        "    for i, word in enumerate(content):\n",
        "        content[i] = bn_stemmer.stemWord(word)\n",
        "    return content\n",
        "def stemming_data_list(data_list):\n",
        "    for i, sdata in enumerate(data_list):\n",
        "        data_list[i] = stemming_data(sdata)\n",
        "    return data_list"
      ]
    },
    {
      "cell_type": "code",
      "execution_count": null,
      "metadata": {
        "colab": {
          "base_uri": "https://localhost:8080/"
        },
        "id": "NXRaAVjs5WIb",
        "outputId": "0a4bce43-23d6-4e2f-ac51-43f69f4128af"
      },
      "outputs": [
        {
          "output_type": "stream",
          "name": "stdout",
          "text": [
            "Before cleaning lists: 2294710\n",
            "After cleaning lists: 4568371\n"
          ]
        }
      ],
      "source": [
        "corpus = []\n",
        "for entry in df[\"body\"].values.tolist():\n",
        "  if isinstance(entry, list):\n",
        "    for article in entry:\n",
        "      corpus.append(article)\n",
        "  else:\n",
        "    corpus.append(entry)\n",
        "print(f\"Before cleaning lists: {len(df['body'].values.tolist())}\")\n",
        "print(f\"After cleaning lists: {len(corpus)}\")"
      ]
    },
    {
      "cell_type": "code",
      "execution_count": null,
      "metadata": {
        "id": "6ORtmfI1eXg3"
      },
      "outputs": [],
      "source": [
        "data_tokenized_list = list(sent_to_words(corpus))\n",
        "data_without_stopwords_list = remove_stopwords_list(data_tokenized_list)\n",
        "data_stemmed_list = stemming_data_list(data_without_stopwords_list)\n",
        "data_stemmed_list[0]"
      ]
    },
    {
      "cell_type": "code",
      "execution_count": null,
      "metadata": {
        "id": "M41YK_kF73Y5"
      },
      "outputs": [],
      "source": []
    },
    {
      "cell_type": "code",
      "execution_count": null,
      "metadata": {
        "id": "yCPSv7Zz_YgJ"
      },
      "outputs": [],
      "source": [
        "import joblib\n",
        "joblib.dump(data_stemmed_list, \"/content/drive/My Drive/data_stemmed_list_total.joblib\")"
      ]
    },
    {
      "cell_type": "markdown",
      "metadata": {
        "id": "kkNVj9_zerk4"
      },
      "source": [
        "### Training Word Embedding\n",
        "https://www.kaggle.com/code/nuhashafnan/bangla-word2vec-training-and-visualization"
      ]
    },
    {
      "cell_type": "code",
      "execution_count": null,
      "metadata": {
        "id": "OYfmvqZVeeMZ"
      },
      "outputs": [],
      "source": [
        "from gensim.models import Word2Vec\n",
        "model = Word2Vec(data_stemmed_list, size=400, window=20, min_count=5,sg=0,negative=3,workers=multiprocessing.cpu_count()-1)"
      ]
    },
    {
      "cell_type": "code",
      "source": [
        "joblib.dump(model, \"/content/drive/My Drive/model.joblib\")"
      ],
      "metadata": {
        "id": "BnKowLD_LH0u"
      },
      "execution_count": null,
      "outputs": []
    },
    {
      "cell_type": "markdown",
      "source": [
        "### Batch Processing"
      ],
      "metadata": {
        "id": "0-rw2feBRDNI"
      }
    },
    {
      "cell_type": "code",
      "source": [
        "from gensim.models import Word2Vec\n",
        "import nltk\n",
        "import multiprocessing\n",
        "import pandas as pd\n",
        "\n",
        "def preprocess_data(data_json):\n",
        "    data_tokenized_list = list(sent_to_words(data_json))\n",
        "    data_without_stopwords_list = remove_stopwords_list(data_tokenized_list)\n",
        "    data_stemmed_list = stemming_data_list(data_without_stopwords_list)\n",
        "    return data_stemmed_list\n",
        "\n",
        "\n",
        "# Load and preprocess the data in batches\n",
        "batch_size = 1000000\n",
        "num_batches = 4\n",
        "data_batches = []\n",
        "\n",
        "for i in range(num_batches):\n",
        "    start_index = i * batch_size\n",
        "    end_index = (i + 1) * batch_size\n",
        "    data_batch = corpus[start_index:end_index]  # Assuming 'corpus' is your list of articles\n",
        "    preprocessed_batch = preprocess_data(data_batch, stopwords_ready)\n",
        "    data_batches.append(preprocessed_batch)\n",
        "\n",
        "# Train Word2Vec model batch by batch\n",
        "model = Word2Vec(size=400, window=20, min_count=5, sg=0, negative=3, workers=multiprocessing.cpu_count()-1)\n",
        "\n",
        "for data_batch in data_batches:\n",
        "    model.build_vocab(data_batch, progress_per=10000)\n",
        "    model.train(data_batch, total_examples=model.corpus_count, epochs=30, report_delay=1)\n",
        "\n",
        "# Save the trained model\n",
        "model.save(\"word2vec_model\")\n"
      ],
      "metadata": {
        "id": "ITe1pZiQLJv9",
        "colab": {
          "base_uri": "https://localhost:8080/",
          "height": 211
        },
        "outputId": "b3c738da-a762-4282-ddb9-93f66fa52318"
      },
      "execution_count": 3,
      "outputs": [
        {
          "output_type": "error",
          "ename": "NameError",
          "evalue": "name 'corpus' is not defined",
          "traceback": [
            "\u001b[0;31m---------------------------------------------------------------------------\u001b[0m",
            "\u001b[0;31mNameError\u001b[0m                                 Traceback (most recent call last)",
            "\u001b[0;32m<ipython-input-3-2714eca04137>\u001b[0m in \u001b[0;36m<cell line: 18>\u001b[0;34m()\u001b[0m\n\u001b[1;32m     19\u001b[0m     \u001b[0mstart_index\u001b[0m \u001b[0;34m=\u001b[0m \u001b[0mi\u001b[0m \u001b[0;34m*\u001b[0m \u001b[0mbatch_size\u001b[0m\u001b[0;34m\u001b[0m\u001b[0;34m\u001b[0m\u001b[0m\n\u001b[1;32m     20\u001b[0m     \u001b[0mend_index\u001b[0m \u001b[0;34m=\u001b[0m \u001b[0;34m(\u001b[0m\u001b[0mi\u001b[0m \u001b[0;34m+\u001b[0m \u001b[0;36m1\u001b[0m\u001b[0;34m)\u001b[0m \u001b[0;34m*\u001b[0m \u001b[0mbatch_size\u001b[0m\u001b[0;34m\u001b[0m\u001b[0;34m\u001b[0m\u001b[0m\n\u001b[0;32m---> 21\u001b[0;31m     \u001b[0mdata_batch\u001b[0m \u001b[0;34m=\u001b[0m \u001b[0mcorpus\u001b[0m\u001b[0;34m[\u001b[0m\u001b[0mstart_index\u001b[0m\u001b[0;34m:\u001b[0m\u001b[0mend_index\u001b[0m\u001b[0;34m]\u001b[0m  \u001b[0;31m# Assuming 'corpus' is your list of articles\u001b[0m\u001b[0;34m\u001b[0m\u001b[0;34m\u001b[0m\u001b[0m\n\u001b[0m\u001b[1;32m     22\u001b[0m     \u001b[0mpreprocessed_batch\u001b[0m \u001b[0;34m=\u001b[0m \u001b[0mpreprocess_data\u001b[0m\u001b[0;34m(\u001b[0m\u001b[0mdata_batch\u001b[0m\u001b[0;34m,\u001b[0m \u001b[0mstopwords_ready\u001b[0m\u001b[0;34m)\u001b[0m\u001b[0;34m\u001b[0m\u001b[0;34m\u001b[0m\u001b[0m\n\u001b[1;32m     23\u001b[0m     \u001b[0mdata_batches\u001b[0m\u001b[0;34m.\u001b[0m\u001b[0mappend\u001b[0m\u001b[0;34m(\u001b[0m\u001b[0mpreprocessed_batch\u001b[0m\u001b[0;34m)\u001b[0m\u001b[0;34m\u001b[0m\u001b[0;34m\u001b[0m\u001b[0m\n",
            "\u001b[0;31mNameError\u001b[0m: name 'corpus' is not defined"
          ]
        }
      ]
    },
    {
      "cell_type": "code",
      "source": [
        "joblib.dump(model, \"/content/drive/My Drive/model.joblib\")"
      ],
      "metadata": {
        "id": "KJLXUPFpRGe5"
      },
      "execution_count": null,
      "outputs": []
    },
    {
      "cell_type": "code",
      "source": [],
      "metadata": {
        "id": "NdrNSHX6RI93"
      },
      "execution_count": null,
      "outputs": []
    }
  ],
  "metadata": {
    "colab": {
      "machine_shape": "hm",
      "provenance": []
    },
    "kernelspec": {
      "display_name": "Python 3",
      "name": "python3"
    },
    "language_info": {
      "name": "python"
    }
  },
  "nbformat": 4,
  "nbformat_minor": 0
}