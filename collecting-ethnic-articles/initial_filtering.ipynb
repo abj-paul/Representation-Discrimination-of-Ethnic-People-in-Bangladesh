{
 "cells": [
  {
   "cell_type": "code",
   "execution_count": null,
   "id": "3d62a8af",
   "metadata": {
    "papermill": {
     "duration": 0.01154,
     "end_time": "2024-03-24T07:36:14.290697",
     "exception": false,
     "start_time": "2024-03-24T07:36:14.279157",
     "status": "completed"
    },
    "tags": []
   },
   "outputs": [],
   "source": []
  },
  {
   "cell_type": "code",
   "execution_count": 1,
   "id": "c39f208f",
   "metadata": {
    "_cell_guid": "b1076dfc-b9ad-4769-8c92-a6c4dae69d19",
    "_uuid": "8f2839f25d086af736a60e9eeb907d3b93b6e0e5",
    "execution": {
     "iopub.execute_input": "2024-03-24T07:36:14.316661Z",
     "iopub.status.busy": "2024-03-24T07:36:14.315809Z",
     "iopub.status.idle": "2024-03-24T07:36:15.515406Z",
     "shell.execute_reply": "2024-03-24T07:36:15.514064Z"
    },
    "papermill": {
     "duration": 1.215181,
     "end_time": "2024-03-24T07:36:15.518420",
     "exception": false,
     "start_time": "2024-03-24T07:36:14.303239",
     "status": "completed"
    },
    "tags": []
   },
   "outputs": [
    {
     "name": "stdout",
     "output_type": "stream",
     "text": [
      "/kaggle/input/bangla-largest-newspaper-dataset/jug-part-1.json\n",
      "/kaggle/input/bangla-largest-newspaper-dataset/jug-part-0.json\n",
      "/kaggle/input/bangla-largest-newspaper-dataset/itte-part-4.json\n",
      "/kaggle/input/bangla-largest-newspaper-dataset/jug-part-3.json\n",
      "/kaggle/input/bangla-largest-newspaper-dataset/pro-part-2.json\n",
      "/kaggle/input/bangla-largest-newspaper-dataset/pro-part-6.json\n",
      "/kaggle/input/bangla-largest-newspaper-dataset/itte-part-1.json\n",
      "/kaggle/input/bangla-largest-newspaper-dataset/itte-part-2.json\n",
      "/kaggle/input/bangla-largest-newspaper-dataset/pro-part-3.json\n",
      "/kaggle/input/bangla-largest-newspaper-dataset/pro-part-0.json\n",
      "/kaggle/input/bangla-largest-newspaper-dataset/itte-part-3.json\n",
      "/kaggle/input/bangla-largest-newspaper-dataset/pro-part-11.json\n",
      "/kaggle/input/bangla-largest-newspaper-dataset/pro-part-8.json\n",
      "/kaggle/input/bangla-largest-newspaper-dataset/itte-part-0.json\n",
      "/kaggle/input/bangla-largest-newspaper-dataset/pro-part-9.json\n",
      "/kaggle/input/bangla-largest-newspaper-dataset/pro-part-5.json\n",
      "/kaggle/input/bangla-largest-newspaper-dataset/pro-part-10.json\n",
      "/kaggle/input/bangla-largest-newspaper-dataset/pro-part-1.json\n",
      "/kaggle/input/bangla-largest-newspaper-dataset/pro-part-4.json\n",
      "/kaggle/input/bangla-largest-newspaper-dataset/pro-part-7.json\n",
      "/kaggle/input/bangla-largest-newspaper-dataset/jug-part-2.json\n"
     ]
    }
   ],
   "source": [
    "import numpy as np # linear algebra\n",
    "import pandas as pd # data processing, CSV file I/O (e.g. pd.read_csv)\n",
    "\n",
    "\n",
    "import os\n",
    "for dirname, _, filenames in os.walk('/kaggle/input'):\n",
    "    for filename in filenames:\n",
    "        print(os.path.join(dirname, filename))\n",
    "\n"
   ]
  },
  {
   "cell_type": "code",
   "execution_count": 2,
   "id": "87cf30e0",
   "metadata": {
    "execution": {
     "iopub.execute_input": "2024-03-24T07:36:15.544888Z",
     "iopub.status.busy": "2024-03-24T07:36:15.544274Z",
     "iopub.status.idle": "2024-03-24T07:41:37.311251Z",
     "shell.execute_reply": "2024-03-24T07:41:37.310048Z"
    },
    "papermill": {
     "duration": 321.801172,
     "end_time": "2024-03-24T07:41:37.330913",
     "exception": false,
     "start_time": "2024-03-24T07:36:15.529741",
     "status": "completed"
    },
    "tags": []
   },
   "outputs": [
    {
     "data": {
      "text/plain": [
       "(2294710, 14)"
      ]
     },
     "execution_count": 2,
     "metadata": {},
     "output_type": "execute_result"
    }
   ],
   "source": [
    "directory = '/kaggle/input/bangla-largest-newspaper-dataset/'\n",
    "files = [file for file in os.listdir(directory) if file.endswith('.json')]\n",
    "\n",
    "dfs = []\n",
    "\n",
    "for file in files:\n",
    "    df = pd.read_json(os.path.join(directory, file))\n",
    "    dfs.append(df)\n",
    "\n",
    "# Concatenate all DataFrames into one\n",
    "combined_df = pd.concat(dfs, ignore_index=True)\n",
    "combined_df.shape"
   ]
  },
  {
   "cell_type": "code",
   "execution_count": 3,
   "id": "3b1857a1",
   "metadata": {
    "execution": {
     "iopub.execute_input": "2024-03-24T07:41:37.355800Z",
     "iopub.status.busy": "2024-03-24T07:41:37.355369Z",
     "iopub.status.idle": "2024-03-24T07:41:37.361147Z",
     "shell.execute_reply": "2024-03-24T07:41:37.359489Z"
    },
    "papermill": {
     "duration": 0.021668,
     "end_time": "2024-03-24T07:41:37.363756",
     "exception": false,
     "start_time": "2024-03-24T07:41:37.342088",
     "status": "completed"
    },
    "tags": []
   },
   "outputs": [],
   "source": [
    "df = combined_df"
   ]
  },
  {
   "cell_type": "code",
   "execution_count": 4,
   "id": "d755beec",
   "metadata": {
    "execution": {
     "iopub.execute_input": "2024-03-24T07:41:37.392041Z",
     "iopub.status.busy": "2024-03-24T07:41:37.391431Z",
     "iopub.status.idle": "2024-03-24T07:41:37.422348Z",
     "shell.execute_reply": "2024-03-24T07:41:37.421059Z"
    },
    "papermill": {
     "duration": 0.050335,
     "end_time": "2024-03-24T07:41:37.425268",
     "exception": false,
     "start_time": "2024-03-24T07:41:37.374933",
     "status": "completed"
    },
    "tags": []
   },
   "outputs": [
    {
     "data": {
      "text/html": [
       "<div>\n",
       "<style scoped>\n",
       "    .dataframe tbody tr th:only-of-type {\n",
       "        vertical-align: middle;\n",
       "    }\n",
       "\n",
       "    .dataframe tbody tr th {\n",
       "        vertical-align: top;\n",
       "    }\n",
       "\n",
       "    .dataframe thead th {\n",
       "        text-align: right;\n",
       "    }\n",
       "</style>\n",
       "<table border=\"1\" class=\"dataframe\">\n",
       "  <thead>\n",
       "    <tr style=\"text-align: right;\">\n",
       "      <th></th>\n",
       "      <th>url</th>\n",
       "      <th>category</th>\n",
       "      <th>headline</th>\n",
       "      <th>reporter</th>\n",
       "      <th>time</th>\n",
       "      <th>body</th>\n",
       "      <th>gen_type</th>\n",
       "      <th>additional_info</th>\n",
       "      <th>tags</th>\n",
       "      <th>content_type</th>\n",
       "      <th>content_id</th>\n",
       "      <th>added_time</th>\n",
       "      <th>updated_time</th>\n",
       "      <th>general_type</th>\n",
       "    </tr>\n",
       "  </thead>\n",
       "  <tbody>\n",
       "    <tr>\n",
       "      <th>0</th>\n",
       "      <td>https://www.jugantor.com/news-archive/today-pr...</td>\n",
       "      <td>বাংলার মুখ</td>\n",
       "      <td>ঝালকাঠিতে সনদ জালিয়াতির দায়ে শিক্ষকের কারাদণ্ড</td>\n",
       "      <td>ঝালকাঠি প্রতিনিধি</td>\n",
       "      <td>০৬ জুলাই ২০১৭, ১২:০০ এএম  |  প্রিন্ট সংস্করণ</td>\n",
       "      <td>\\nশিক্ষাগত যোগ্যতার সনদ জালিয়াতিসহ বিভিন্ন অভি...</td>\n",
       "      <td>NaN</td>\n",
       "      <td>NaN</td>\n",
       "      <td>NaN</td>\n",
       "      <td>NaN</td>\n",
       "      <td>NaN</td>\n",
       "      <td>NaT</td>\n",
       "      <td>NaT</td>\n",
       "      <td>NaN</td>\n",
       "    </tr>\n",
       "    <tr>\n",
       "      <th>1</th>\n",
       "      <td>https://www.jugantor.com/news-archive/today-pr...</td>\n",
       "      <td>দশ দিগন্ত</td>\n",
       "      <td>ট্রাম্পের সঙ্গে নিউইয়র্ক টাইমসের টুইটার যুদ্ধ</td>\n",
       "      <td>যুগান্তর ডেস্ক</td>\n",
       "      <td>১৫ নভেম্বর ২০১৬, ১২:০০ এএম  |  প্রিন্ট সংস্করণ</td>\n",
       "      <td>\\nযুক্তরাষ্ট্রের নবনির্বাচিত প্রেসিডেন্ট ডোনাল...</td>\n",
       "      <td>NaN</td>\n",
       "      <td>NaN</td>\n",
       "      <td>NaN</td>\n",
       "      <td>NaN</td>\n",
       "      <td>NaN</td>\n",
       "      <td>NaT</td>\n",
       "      <td>NaT</td>\n",
       "      <td>NaN</td>\n",
       "    </tr>\n",
       "    <tr>\n",
       "      <th>2</th>\n",
       "      <td>https://www.jugantor.com/news-archive/today-pr...</td>\n",
       "      <td>আবহমান চট্টগ্রাম</td>\n",
       "      <td>সংক্ষিপ্ত সংবাদ</td>\n",
       "      <td></td>\n",
       "      <td>১৯ সেপ্টেম্বর ২০১৭, ১২:০০ এএম  |  প্রিন্ট সংস...</td>\n",
       "      <td>\\nরামগঞ্জে মাছের পোনা অবমুক্তরামগঞ্জ (লক্ষ্মীপ...</td>\n",
       "      <td>NaN</td>\n",
       "      <td>NaN</td>\n",
       "      <td>NaN</td>\n",
       "      <td>NaN</td>\n",
       "      <td>NaN</td>\n",
       "      <td>NaT</td>\n",
       "      <td>NaT</td>\n",
       "      <td>NaN</td>\n",
       "    </tr>\n",
       "    <tr>\n",
       "      <th>3</th>\n",
       "      <td>https://www.jugantor.com/news-archive/today-pr...</td>\n",
       "      <td>আবহমান চট্টগ্রাম</td>\n",
       "      <td>সংক্ষিপ্ত সংবাদ</td>\n",
       "      <td></td>\n",
       "      <td>১৭ নভেম্বর ২০১৭, ১২:০০ এএম  |  প্রিন্ট সংস্করণ</td>\n",
       "      <td>\\nচট্টগ্রামে গৃহবধূর লাশ উদ্ধারচট্টগ্রাম ব্যুর...</td>\n",
       "      <td>NaN</td>\n",
       "      <td>NaN</td>\n",
       "      <td>NaN</td>\n",
       "      <td>NaN</td>\n",
       "      <td>NaN</td>\n",
       "      <td>NaT</td>\n",
       "      <td>NaT</td>\n",
       "      <td>NaN</td>\n",
       "    </tr>\n",
       "    <tr>\n",
       "      <th>4</th>\n",
       "      <td>https://www.jugantor.com/news-archive/today-pr...</td>\n",
       "      <td>বাংলার মুখ</td>\n",
       "      <td>গোলাপগঞ্জের হাওরপারে অন্নের জন্য হাহাকার</td>\n",
       "      <td>হারিছ আলী, গোলাপগঞ্জ</td>\n",
       "      <td>০৪ জুন ২০১৭, ১২:০০ এএম  |  প্রিন্ট সংস্করণ</td>\n",
       "      <td>\\nসিলেটের গোলাপগঞ্জে দারুণ কষ্টে পড়েছেন বন্যায়...</td>\n",
       "      <td>NaN</td>\n",
       "      <td>NaN</td>\n",
       "      <td>NaN</td>\n",
       "      <td>NaN</td>\n",
       "      <td>NaN</td>\n",
       "      <td>NaT</td>\n",
       "      <td>NaT</td>\n",
       "      <td>NaN</td>\n",
       "    </tr>\n",
       "  </tbody>\n",
       "</table>\n",
       "</div>"
      ],
      "text/plain": [
       "                                                 url          category  \\\n",
       "0  https://www.jugantor.com/news-archive/today-pr...        বাংলার মুখ   \n",
       "1  https://www.jugantor.com/news-archive/today-pr...         দশ দিগন্ত   \n",
       "2  https://www.jugantor.com/news-archive/today-pr...  আবহমান চট্টগ্রাম   \n",
       "3  https://www.jugantor.com/news-archive/today-pr...  আবহমান চট্টগ্রাম   \n",
       "4  https://www.jugantor.com/news-archive/today-pr...        বাংলার মুখ   \n",
       "\n",
       "                                         headline                reporter  \\\n",
       "0  ঝালকাঠিতে সনদ জালিয়াতির দায়ে শিক্ষকের কারাদণ্ড      ঝালকাঠি প্রতিনিধি    \n",
       "1   ট্রাম্পের সঙ্গে নিউইয়র্ক টাইমসের টুইটার যুদ্ধ         যুগান্তর ডেস্ক    \n",
       "2                                 সংক্ষিপ্ত সংবাদ                           \n",
       "3                                 সংক্ষিপ্ত সংবাদ                           \n",
       "4        গোলাপগঞ্জের হাওরপারে অন্নের জন্য হাহাকার   হারিছ আলী, গোলাপগঞ্জ    \n",
       "\n",
       "                                                time  \\\n",
       "0       ০৬ জুলাই ২০১৭, ১২:০০ এএম  |  প্রিন্ট সংস্করণ   \n",
       "1     ১৫ নভেম্বর ২০১৬, ১২:০০ এএম  |  প্রিন্ট সংস্করণ   \n",
       "2   ১৯ সেপ্টেম্বর ২০১৭, ১২:০০ এএম  |  প্রিন্ট সংস...   \n",
       "3     ১৭ নভেম্বর ২০১৭, ১২:০০ এএম  |  প্রিন্ট সংস্করণ   \n",
       "4         ০৪ জুন ২০১৭, ১২:০০ এএম  |  প্রিন্ট সংস্করণ   \n",
       "\n",
       "                                                body gen_type additional_info  \\\n",
       "0  \\nশিক্ষাগত যোগ্যতার সনদ জালিয়াতিসহ বিভিন্ন অভি...      NaN             NaN   \n",
       "1  \\nযুক্তরাষ্ট্রের নবনির্বাচিত প্রেসিডেন্ট ডোনাল...      NaN             NaN   \n",
       "2  \\nরামগঞ্জে মাছের পোনা অবমুক্তরামগঞ্জ (লক্ষ্মীপ...      NaN             NaN   \n",
       "3  \\nচট্টগ্রামে গৃহবধূর লাশ উদ্ধারচট্টগ্রাম ব্যুর...      NaN             NaN   \n",
       "4  \\nসিলেটের গোলাপগঞ্জে দারুণ কষ্টে পড়েছেন বন্যায়...      NaN             NaN   \n",
       "\n",
       "  tags content_type content_id added_time updated_time general_type  \n",
       "0  NaN          NaN        NaN        NaT          NaT          NaN  \n",
       "1  NaN          NaN        NaN        NaT          NaT          NaN  \n",
       "2  NaN          NaN        NaN        NaT          NaT          NaN  \n",
       "3  NaN          NaN        NaN        NaT          NaT          NaN  \n",
       "4  NaN          NaN        NaN        NaT          NaT          NaN  "
      ]
     },
     "execution_count": 4,
     "metadata": {},
     "output_type": "execute_result"
    }
   ],
   "source": [
    "df.head()"
   ]
  },
  {
   "cell_type": "code",
   "execution_count": 5,
   "id": "84929c5b",
   "metadata": {
    "execution": {
     "iopub.execute_input": "2024-03-24T07:41:37.451167Z",
     "iopub.status.busy": "2024-03-24T07:41:37.450504Z",
     "iopub.status.idle": "2024-03-24T07:41:37.661808Z",
     "shell.execute_reply": "2024-03-24T07:41:37.660874Z"
    },
    "papermill": {
     "duration": 0.227504,
     "end_time": "2024-03-24T07:41:37.664894",
     "exception": false,
     "start_time": "2024-03-24T07:41:37.437390",
     "status": "completed"
    },
    "tags": []
   },
   "outputs": [
    {
     "data": {
      "text/html": [
       "<div>\n",
       "<style scoped>\n",
       "    .dataframe tbody tr th:only-of-type {\n",
       "        vertical-align: middle;\n",
       "    }\n",
       "\n",
       "    .dataframe tbody tr th {\n",
       "        vertical-align: top;\n",
       "    }\n",
       "\n",
       "    .dataframe thead th {\n",
       "        text-align: right;\n",
       "    }\n",
       "</style>\n",
       "<table border=\"1\" class=\"dataframe\">\n",
       "  <thead>\n",
       "    <tr style=\"text-align: right;\">\n",
       "      <th></th>\n",
       "      <th>category</th>\n",
       "      <th>body</th>\n",
       "    </tr>\n",
       "  </thead>\n",
       "  <tbody>\n",
       "    <tr>\n",
       "      <th>0</th>\n",
       "      <td>বাংলার মুখ</td>\n",
       "      <td>\\nশিক্ষাগত যোগ্যতার সনদ জালিয়াতিসহ বিভিন্ন অভি...</td>\n",
       "    </tr>\n",
       "    <tr>\n",
       "      <th>1</th>\n",
       "      <td>দশ দিগন্ত</td>\n",
       "      <td>\\nযুক্তরাষ্ট্রের নবনির্বাচিত প্রেসিডেন্ট ডোনাল...</td>\n",
       "    </tr>\n",
       "    <tr>\n",
       "      <th>2</th>\n",
       "      <td>আবহমান চট্টগ্রাম</td>\n",
       "      <td>\\nরামগঞ্জে মাছের পোনা অবমুক্তরামগঞ্জ (লক্ষ্মীপ...</td>\n",
       "    </tr>\n",
       "    <tr>\n",
       "      <th>3</th>\n",
       "      <td>আবহমান চট্টগ্রাম</td>\n",
       "      <td>\\nচট্টগ্রামে গৃহবধূর লাশ উদ্ধারচট্টগ্রাম ব্যুর...</td>\n",
       "    </tr>\n",
       "    <tr>\n",
       "      <th>4</th>\n",
       "      <td>বাংলার মুখ</td>\n",
       "      <td>\\nসিলেটের গোলাপগঞ্জে দারুণ কষ্টে পড়েছেন বন্যায়...</td>\n",
       "    </tr>\n",
       "    <tr>\n",
       "      <th>...</th>\n",
       "      <td>...</td>\n",
       "      <td>...</td>\n",
       "    </tr>\n",
       "    <tr>\n",
       "      <th>2294705</th>\n",
       "      <td>খেলা</td>\n",
       "      <td>\\nনিউজিল্যান্ড সফরটা দারুণ যাচ্ছে বাংলাদেশ অনূ...</td>\n",
       "    </tr>\n",
       "    <tr>\n",
       "      <th>2294706</th>\n",
       "      <td>একদিন প্রতিদিন</td>\n",
       "      <td>\\nএকনজরে জেনে নিই টিভি পর্দায় আজ রয়েছে যেসব খে...</td>\n",
       "    </tr>\n",
       "    <tr>\n",
       "      <th>2294707</th>\n",
       "      <td>আন্তর্জাতিক</td>\n",
       "      <td>\\nযুক্তরাষ্ট্র ইরানের সামরিক ক্ষমতাকে ভয় পায় ব...</td>\n",
       "    </tr>\n",
       "    <tr>\n",
       "      <th>2294708</th>\n",
       "      <td>আন্তর্জাতিক</td>\n",
       "      <td>\\nকরোনাভাইরাসের সংক্রমণ রোধে কুয়েতে দীর্ঘদিন ব...</td>\n",
       "    </tr>\n",
       "    <tr>\n",
       "      <th>2294709</th>\n",
       "      <td>সারাদেশ</td>\n",
       "      <td>\\n ঝিনাইদহ জেলা শহরের একটি বাড়িতে এক যুবক নিজ ...</td>\n",
       "    </tr>\n",
       "  </tbody>\n",
       "</table>\n",
       "<p>2294710 rows × 2 columns</p>\n",
       "</div>"
      ],
      "text/plain": [
       "                 category                                               body\n",
       "0              বাংলার মুখ  \\nশিক্ষাগত যোগ্যতার সনদ জালিয়াতিসহ বিভিন্ন অভি...\n",
       "1               দশ দিগন্ত  \\nযুক্তরাষ্ট্রের নবনির্বাচিত প্রেসিডেন্ট ডোনাল...\n",
       "2        আবহমান চট্টগ্রাম  \\nরামগঞ্জে মাছের পোনা অবমুক্তরামগঞ্জ (লক্ষ্মীপ...\n",
       "3        আবহমান চট্টগ্রাম  \\nচট্টগ্রামে গৃহবধূর লাশ উদ্ধারচট্টগ্রাম ব্যুর...\n",
       "4              বাংলার মুখ  \\nসিলেটের গোলাপগঞ্জে দারুণ কষ্টে পড়েছেন বন্যায়...\n",
       "...                   ...                                                ...\n",
       "2294705              খেলা  \\nনিউজিল্যান্ড সফরটা দারুণ যাচ্ছে বাংলাদেশ অনূ...\n",
       "2294706    একদিন প্রতিদিন  \\nএকনজরে জেনে নিই টিভি পর্দায় আজ রয়েছে যেসব খে...\n",
       "2294707       আন্তর্জাতিক  \\nযুক্তরাষ্ট্র ইরানের সামরিক ক্ষমতাকে ভয় পায় ব...\n",
       "2294708       আন্তর্জাতিক  \\nকরোনাভাইরাসের সংক্রমণ রোধে কুয়েতে দীর্ঘদিন ব...\n",
       "2294709           সারাদেশ  \\n ঝিনাইদহ জেলা শহরের একটি বাড়িতে এক যুবক নিজ ...\n",
       "\n",
       "[2294710 rows x 2 columns]"
      ]
     },
     "execution_count": 5,
     "metadata": {},
     "output_type": "execute_result"
    }
   ],
   "source": [
    "df = df[['category', 'body']]\n",
    "df"
   ]
  },
  {
   "cell_type": "code",
   "execution_count": 6,
   "id": "d13a0b65",
   "metadata": {
    "execution": {
     "iopub.execute_input": "2024-03-24T07:41:37.691025Z",
     "iopub.status.busy": "2024-03-24T07:41:37.690576Z",
     "iopub.status.idle": "2024-03-24T07:41:37.704751Z",
     "shell.execute_reply": "2024-03-24T07:41:37.703272Z"
    },
    "papermill": {
     "duration": 0.030763,
     "end_time": "2024-03-24T07:41:37.707526",
     "exception": false,
     "start_time": "2024-03-24T07:41:37.676763",
     "status": "completed"
    },
    "tags": []
   },
   "outputs": [
    {
     "name": "stdout",
     "output_type": "stream",
     "text": [
      "\n",
      "শিক্ষাগত যোগ্যতার সনদ জালিয়াতিসহ বিভিন্ন অভিযোগে দায়েরকৃত মামলায় নলছিটি ডেবরা বালিকা মাধ্যমিক বিদ্যালয়ের প্রধান শিক্ষক রুহুল আমিন বশিরকে ১২ বছরের কারাদণ্ড দিয়েছেন আদালত। বুধবার ঝালকাঠির চিফ জুডিশিয়াল ম্যাজিস্ট্রেট আদালত এ রায় ঘোষণা করেন। জানা যায়, জাল সনদে শিক্ষকতা, প্রতারণা ও সরকারি কাজে বাধা দেয়ার অভিযোগে ২০১১ সালের ২৬ জুন প্রধান শিক্ষক রুহুল আমিনের বিরুদ্ধে মামলা করেন মাধ্যমিক শিক্ষা কর্মকর্তা একেএম হারুন অর রশিদ। অভিযোগপত্রে বলা হয়, ‘স্কুলের চাকরিতে যোগদানের সময় রুহুল আমিনের দাখিল করা এসএসসি, এইচএসসি সনদকে যশোর শিক্ষা বোর্ড এবং বিএ ও বিএড পরীক্ষার সনদকে জাতীয় বিশ্ববিদ্যালয় ভুয়া বলে প্রত্যয়ন প্রদান করে। ’ \n"
     ]
    }
   ],
   "source": [
    "first_body_content = df.loc[0, 'body']\n",
    "print(first_body_content)"
   ]
  },
  {
   "cell_type": "code",
   "execution_count": 7,
   "id": "c6ce3582",
   "metadata": {
    "execution": {
     "iopub.execute_input": "2024-03-24T07:41:37.734479Z",
     "iopub.status.busy": "2024-03-24T07:41:37.734062Z",
     "iopub.status.idle": "2024-03-24T07:41:37.991277Z",
     "shell.execute_reply": "2024-03-24T07:41:37.989852Z"
    },
    "papermill": {
     "duration": 0.273676,
     "end_time": "2024-03-24T07:41:37.993840",
     "exception": false,
     "start_time": "2024-03-24T07:41:37.720164",
     "status": "completed"
    },
    "tags": []
   },
   "outputs": [
    {
     "data": {
      "text/plain": [
       "category\n",
       "বাংলার মুখ                     76671\n",
       "খেলা                           64744\n",
       "দ্বিতীয় সংস্করণ               60666\n",
       "আজকের পত্রিকা                  58000\n",
       "খবর                            53932\n",
       "                               ...  \n",
       "দুর্গা পূজা                        1\n",
       "১৭ বছরে যুগান্তর                   1\n",
       "এইচএসসির ফল ২০১৪                   1\n",
       "জাতীয় শোক দিবস                     1\n",
       "নিহতদের প্রতি জাতির শ্রদ্ধা        1\n",
       "Name: count, Length: 141, dtype: int64"
      ]
     },
     "execution_count": 7,
     "metadata": {},
     "output_type": "execute_result"
    }
   ],
   "source": [
    "df['category'].value_counts()"
   ]
  },
  {
   "cell_type": "code",
   "execution_count": 8,
   "id": "5efb3b1d",
   "metadata": {
    "execution": {
     "iopub.execute_input": "2024-03-24T07:41:38.022940Z",
     "iopub.status.busy": "2024-03-24T07:41:38.021976Z",
     "iopub.status.idle": "2024-03-24T07:41:38.158323Z",
     "shell.execute_reply": "2024-03-24T07:41:38.156917Z"
    },
    "papermill": {
     "duration": 0.155353,
     "end_time": "2024-03-24T07:41:38.161357",
     "exception": false,
     "start_time": "2024-03-24T07:41:38.006004",
     "status": "completed"
    },
    "tags": []
   },
   "outputs": [
    {
     "data": {
      "text/plain": [
       "2294710"
      ]
     },
     "execution_count": 8,
     "metadata": {},
     "output_type": "execute_result"
    }
   ],
   "source": [
    "bangla_news_articles = df[\"body\"].values.tolist()\n",
    "len(bangla_news_articles)"
   ]
  },
  {
   "cell_type": "code",
   "execution_count": 9,
   "id": "94a30c8e",
   "metadata": {
    "execution": {
     "iopub.execute_input": "2024-03-24T07:41:38.188099Z",
     "iopub.status.busy": "2024-03-24T07:41:38.187653Z",
     "iopub.status.idle": "2024-03-24T07:41:38.196923Z",
     "shell.execute_reply": "2024-03-24T07:41:38.195425Z"
    },
    "papermill": {
     "duration": 0.025978,
     "end_time": "2024-03-24T07:41:38.199901",
     "exception": false,
     "start_time": "2024-03-24T07:41:38.173923",
     "status": "completed"
    },
    "tags": []
   },
   "outputs": [],
   "source": [
    "ethnic_tribe_names = [\n",
    "    \"চাকমা\", \"মারমা\", \"সাঁওতাল\", \"ত্রিপুরা\", \"গারো\", \"ওঁরাও\", \"তঞ্চ্যঙ্গা\", \"ম্রো\", \"বম\",\n",
    "    \"পাংখো\", \"চাক\", \"খেয়াং\", \"খুমি\", \"লুসাই\", \"কোচ\", \"ডালু\", \"কুকি\", \"রাখাইন\", \"মণিপুরী\",\n",
    "    \"হাজং\", \"খাসিয়া বা খাসি\", \"মং\", \"বর্মন\", \"পাহাড়ি পাহাড়ি\", \"মালপাহাড়ি\", \"মুন্ডা\", \"ভূমিজ\",\n",
    "    \"কোল\", \"কন্দ\", \"পাঙন মুসলিম\", \"লাওরা মুসলিম\", \"মুরং\", \"রাজবংশী\", \"পাত্র\", \"গণ্ড\", \"বাগদী\",\n",
    "    \"ভিল\"\n",
    "]\n",
    "\n",
    "ethnicity_directed_words = [\n",
    "    \"আদিবাসী\" , \"আদিবাসি\" , \"উপজাতি\", \"নৃগোষ্ঠী\"\n",
    "]\n",
    "ethnic_dictionary = ethnic_tribe_names + ethnicity_directed_words"
   ]
  },
  {
   "cell_type": "code",
   "execution_count": 10,
   "id": "8ef86e9d",
   "metadata": {
    "execution": {
     "iopub.execute_input": "2024-03-24T07:41:38.232643Z",
     "iopub.status.busy": "2024-03-24T07:41:38.232078Z",
     "iopub.status.idle": "2024-03-24T07:41:38.240011Z",
     "shell.execute_reply": "2024-03-24T07:41:38.238444Z"
    },
    "papermill": {
     "duration": 0.030425,
     "end_time": "2024-03-24T07:41:38.242885",
     "exception": false,
     "start_time": "2024-03-24T07:41:38.212460",
     "status": "completed"
    },
    "tags": []
   },
   "outputs": [
    {
     "name": "stdout",
     "output_type": "stream",
     "text": [
      "\n",
      "শিক্ষাগত যোগ্যতার সনদ জালিয়াতিসহ বিভিন্ন অভিযোগে দায়েরকৃত মামলায় নলছিটি ডেবরা বালিকা মাধ্যমিক বিদ্যালয়ের প্রধান শিক্ষক রুহুল আমিন বশিরকে ১২ বছরের কারাদণ্ড দিয়েছেন আদালত। বুধবার ঝালকাঠির চিফ জুডিশিয়াল ম্যাজিস্ট্রেট আদালত এ রায় ঘোষণা করেন। জানা যায়, জাল সনদে শিক্ষকতা, প্রতারণা ও সরকারি কাজে বাধা দেয়ার অভিযোগে ২০১১ সালের ২৬ জুন প্রধান শিক্ষক রুহুল আমিনের বিরুদ্ধে মামলা করেন মাধ্যমিক শিক্ষা কর্মকর্তা একেএম হারুন অর রশিদ। অভিযোগপত্রে বলা হয়, ‘স্কুলের চাকরিতে যোগদানের সময় রুহুল আমিনের দাখিল করা এসএসসি, এইচএসসি সনদকে যশোর শিক্ষা বোর্ড এবং বিএ ও বিএড পরীক্ষার সনদকে জাতীয় বিশ্ববিদ্যালয় ভুয়া বলে প্রত্যয়ন প্রদান করে। ’ \n"
     ]
    }
   ],
   "source": [
    "print(bangla_news_articles[0])"
   ]
  },
  {
   "cell_type": "code",
   "execution_count": 11,
   "id": "a79c7da1",
   "metadata": {
    "execution": {
     "iopub.execute_input": "2024-03-24T07:41:38.281080Z",
     "iopub.status.busy": "2024-03-24T07:41:38.279691Z",
     "iopub.status.idle": "2024-03-24T07:45:52.576483Z",
     "shell.execute_reply": "2024-03-24T07:45:52.574966Z"
    },
    "papermill": {
     "duration": 254.331688,
     "end_time": "2024-03-24T07:45:52.591740",
     "exception": false,
     "start_time": "2024-03-24T07:41:38.260052",
     "status": "completed"
    },
    "tags": []
   },
   "outputs": [
    {
     "name": "stdout",
     "output_type": "stream",
     "text": [
      "Total ethnicity related articles = 84210\n"
     ]
    }
   ],
   "source": [
    "ethnicity_related_article_count = 0\n",
    "sus_entries = []\n",
    "for news_article in bangla_news_articles:\n",
    "    try:\n",
    "        for word in news_article.split():\n",
    "            if word in ethnic_dictionary:\n",
    "                ethnicity_related_article_count += 1\n",
    "                #print(f\"{ethnicity_related_article_count}) {word}\")\n",
    "    except:\n",
    "        sus_entries.append(news_article)\n",
    "\n",
    "print(f\"Total ethnicity related articles = {ethnicity_related_article_count}\")"
   ]
  },
  {
   "cell_type": "code",
   "execution_count": 12,
   "id": "54ca3352",
   "metadata": {
    "execution": {
     "iopub.execute_input": "2024-03-24T07:45:52.621495Z",
     "iopub.status.busy": "2024-03-24T07:45:52.620576Z",
     "iopub.status.idle": "2024-03-24T07:54:36.098038Z",
     "shell.execute_reply": "2024-03-24T07:54:36.096263Z"
    },
    "papermill": {
     "duration": 523.512066,
     "end_time": "2024-03-24T07:54:36.118059",
     "exception": false,
     "start_time": "2024-03-24T07:45:52.605993",
     "status": "completed"
    },
    "tags": []
   },
   "outputs": [
    {
     "name": "stdout",
     "output_type": "stream",
     "text": [
      "Ethnic dataset length = 107254\n",
      "Non-ethnic dataset length = 4568371\n",
      "Sus dataset length = 0\n"
     ]
    }
   ],
   "source": [
    "ethnic_dataset = []\n",
    "nonethnic_dataset = []\n",
    "sus_entries = []\n",
    "for news_article in bangla_news_articles:\n",
    "    try:\n",
    "        if isinstance(news_article, list):\n",
    "            for article in news_article:\n",
    "                for word in article.split():\n",
    "                    if word in ethnic_dictionary:\n",
    "                        ethnic_dataset.append(news_article)\n",
    "                        break\n",
    "                nonethnic_dataset.append(news_article)\n",
    "        else:\n",
    "            for word in news_article.split():\n",
    "                if word in ethnic_dictionary:\n",
    "                    ethnic_dataset.append(news_article)\n",
    "                    break\n",
    "            nonethnic_dataset.append(news_article)\n",
    "    except:\n",
    "        sus_entries.append(news_article) \n",
    "\n",
    "print(f\"Ethnic dataset length = {len(ethnic_dataset)}\")\n",
    "print(f\"Non-ethnic dataset length = {len(nonethnic_dataset)}\")\n",
    "print(f\"Sus dataset length = {len(sus_entries)}\")"
   ]
  },
  {
   "cell_type": "code",
   "execution_count": 13,
   "id": "1046e6b1",
   "metadata": {
    "execution": {
     "iopub.execute_input": "2024-03-24T07:54:36.163924Z",
     "iopub.status.busy": "2024-03-24T07:54:36.162870Z",
     "iopub.status.idle": "2024-03-24T07:56:34.131787Z",
     "shell.execute_reply": "2024-03-24T07:56:34.130299Z"
    },
    "papermill": {
     "duration": 118.008898,
     "end_time": "2024-03-24T07:56:34.146903",
     "exception": false,
     "start_time": "2024-03-24T07:54:36.138005",
     "status": "completed"
    },
    "tags": []
   },
   "outputs": [
    {
     "data": {
      "text/plain": [
       "['sus_entries.joblib']"
      ]
     },
     "execution_count": 13,
     "metadata": {},
     "output_type": "execute_result"
    }
   ],
   "source": [
    "import joblib\n",
    "joblib.dump(ethnic_dataset, \"ethnic_dataset.joblib\")\n",
    "joblib.dump(nonethnic_dataset, \"nonethnic_dataset.joblib\")\n",
    "joblib.dump(sus_entries, \"sus_entries.joblib\")"
   ]
  },
  {
   "cell_type": "code",
   "execution_count": 14,
   "id": "1dfdabc2",
   "metadata": {
    "execution": {
     "iopub.execute_input": "2024-03-24T07:56:34.174113Z",
     "iopub.status.busy": "2024-03-24T07:56:34.173652Z",
     "iopub.status.idle": "2024-03-24T07:56:34.181571Z",
     "shell.execute_reply": "2024-03-24T07:56:34.180710Z"
    },
    "papermill": {
     "duration": 0.024175,
     "end_time": "2024-03-24T07:56:34.183672",
     "exception": false,
     "start_time": "2024-03-24T07:56:34.159497",
     "status": "completed"
    },
    "tags": []
   },
   "outputs": [
    {
     "data": {
      "text/html": [
       "<a href='ethnic_dataset.joblib' target='_blank'>ethnic_dataset.joblib</a><br>"
      ],
      "text/plain": [
       "/kaggle/working/ethnic_dataset.joblib"
      ]
     },
     "execution_count": 14,
     "metadata": {},
     "output_type": "execute_result"
    }
   ],
   "source": [
    "from IPython.display import FileLink\n",
    "FileLink(r'ethnic_dataset.joblib')"
   ]
  },
  {
   "cell_type": "code",
   "execution_count": 15,
   "id": "3b9c40b6",
   "metadata": {
    "execution": {
     "iopub.execute_input": "2024-03-24T07:56:34.216351Z",
     "iopub.status.busy": "2024-03-24T07:56:34.215831Z",
     "iopub.status.idle": "2024-03-24T07:56:34.223591Z",
     "shell.execute_reply": "2024-03-24T07:56:34.222335Z"
    },
    "papermill": {
     "duration": 0.028761,
     "end_time": "2024-03-24T07:56:34.226306",
     "exception": false,
     "start_time": "2024-03-24T07:56:34.197545",
     "status": "completed"
    },
    "tags": []
   },
   "outputs": [
    {
     "data": {
      "text/plain": [
       "'\\nচট্টগ্রামে গৃহবধূর লাশ উদ্ধারচট্টগ্রাম ব্যুরোনগরীর চান্দগাঁও থানার পশ্চিম মোহরা এলাকার নিজ বাসা থেকে এক গৃহবধূর লাশ উদ্ধার করেছে পুলিশ। নিহতের নাম রোশনি আকতার। তিনি ওই এলাকার মো. ইউনুসের স্ত্রী। বুধবার রাত ১০টার দিকে পুলিশ তার লাশ উদ্ধার করে ময়নাতদন্তের জন্য মর্গে পাঠায়। ওসি আবুল বাশার বলেন, প্রাথমিকভাবে ঘটনাটিকে হত্যাকাণ্ড বলে সন্দেহ হওয়ায় নিহতের স্বামী ইউনূসকে আটক করে জিজ্ঞাসাবাদ করা হয়েছে। তিনি দাবি করেছেন, পারিবারিক বিভিন্ন বিষয় নিয়ে ঝগড়ার একপর্যায়ে স্ত্রী রোশনিকে থাপ্পড় দেন। এরই একপর্যায়ে রোশনি গলায় ফাঁস দিয়ে আত্মহত্যা করেন। তবে ঘটনার পর ইউনূস তার স্ত্রীর লাশ ঝুলন্ত অবস্থা থেকে নামিয়ে ফেলেন। এ কারণেই মূলত তাকে ঘিরে সন্দেহের সৃষ্টি হয়।নোবিপ্রবিতে কৃষি দিবসে র\\u200c্যালিনোয়াখালী প্রতিনিধিনোয়াখালী বিজ্ঞান ও প্রযুক্তি বিশ্ববিদ্যালয়ে (নোবিপ্রবি) জাতীয় কৃষি দিবস পালিত হয়েছে। দিবসটি উপলক্ষে বৃহস্পতিবার সকালে ভিসি প্রফেসর ড. এম অহিদুজ্জামানের নেতৃত্বে র\\u200c্যালি বের করা হয়। র\\u200c্যালিটি ক্যাম্পাস প্রদক্ষিণ করে বঙ্গবন্ধুর ম্যুরালে পুষ্পস্তবক অর্পণের মাধ্যমে শেষ হয়। পরে ভিসি বিশ্ববিদ্যালয়ের অডিটোরিয়াম সংলগ্ন প্রবেশমুখে একটি বৃক্ষরোপণ করেন। কৃষি বিভাগের আয়োজনে কর্মসূচিসমূহে বিশ্ববিদ্যালয়ের রেজিস্ট্রার প্রফেসর মো. মমিনুল হক, বিভাগের চেয়ারম্যান ড. আতিকুর রহমান ভূঞা প্রমুখ অংশ নেন।খাগড়াছড়ি যুব মহিলা লীগের কমিটিখাগড়াছড়ি প্রতিনিধিজেলা যুব মহিলা লীগের কমিটি গঠন করা হয়েছে। খাগড়াছড়ি সদর উপজেলা পরিষদের ভাইস চেয়ারম্যান বিউটি রানী ত্রিপুরাকে আহ্বায়ক এবং ফারজানা আজমকে সদস্য সচিব করে ৫১ সদস্যবিশিষ্ট কমিটি গঠন করা হয়। বৃহস্পতিবার সকালে নবগঠিত কমিটি কুজেন্দ্র লাল ত্রিপুরা এমপির সঙ্গে শুভেচ্ছাবিনিময় করেন।লক্ষ্মীপুরে শিশুকে মারধরের ঘটনায় মামলালক্ষ্মীপুর প্রতিনিধিলক্ষ্মীপুরে অসামাজিক কাজের অভিযোগ এনে চা দোকানের কর্মচারী শিশু সোহেলকে (১০) গাছের সঙ্গে বেঁধে মারধরের ঘটনায় মামলা হয়েছে। বুধবার রাতে সোহেলের মা আনোয়ারা বেগম বাদী হয়ে ৩ জনকে আসামি করে চন্দ্রগঞ্জ থানায় মামলা করেন। রাতেই অভিযুক্ত দুই আসামিকে গ্রেফতার করেছে পুলিশ। বৃহস্পতিবার দুপুরে গ্রেফতার জবিউল্যাহ পাটোয়ারী ও কালু পাটোয়ারীকে আদালতে পাঠানো হয়। প্রসঙ্গত, মঙ্গলবার স্থানীয় জবিউল্যা পাটোয়ারী ও কালু পাটোয়ারী তাদের গরুর সঙ্গে অসামাজিক কাজ করার অভিযোগ এনে সোহেলকে গাছের সঙ্গে রশি দিয়ে কয়েক ঘণ্টা বেঁধে রাখে।ফরিদগঞ্জে ভাটিয়ালপুর-হরিণা সড়ক সংস্কার শুরুফরিদগঞ্জ (চাঁদপুর) প্রতিনিধিফরিদগঞ্জের ভাটিয়ালপুর-হরিণা সড়কের ৬ কোটি টাকা ব্যয়ে ১১.২৯ কিলোমিটার সড়কের সংস্কার কাজের উদ্বোধন হয়েছে। বুধবার সন্ধ্যায় সড়কের উদ্বোধন করেন, ড. মোহাম্মদ শামছুল হক ভূঁইয়া এমপি। গোবিন্দপুর উত্তর ইউনিয়ন আওয়ামী লীগের সভাপতি মোনায়েম খানের সভাপতিত্বে ইউপি চেয়ারম্যান সোহেল চৌধুরীর পরিচালনায় এ সময় বিশেষ অতিথি ছিলেন উপজেলা পরিষদ চেয়ারম্যান আবু সাহেদ সরকার, ভাইস চেয়ারম্যান ওয়াহিদুর রহমান রানা। এছাড়া উপজেলা আওয়ামী লীগের সাবেক সম্পাদক আবুল কাশেম, আলমগীর হোসেন স্বপন, কামাল হোসেন মিজি প্রমুখ উপস্থিত ছিলেন।চট্টগ্রামে ইয়াবাসহ যুবক আটকচট্টগ্রাম ব্যুরোদেড় হাজার পিস ইয়াবাসহ মো. সোহেল নামে এক যুবককে আটক করেছে পুলিশ। বৃহস্পতিবার সকালে নগরীর বাকলিয়া থানার শাহ আমানত সেতু এলাকা থেকে তল্লাশি চালিয়ে তাকে আটক করা হয়। সোহেল কক্সবাজারের উখিয়া উপজেলার সেকান্দারপাড়ার পাগলিরবিল এলাকার মুজিবুর রহমানের ছেলে। '"
      ]
     },
     "execution_count": 15,
     "metadata": {},
     "output_type": "execute_result"
    }
   ],
   "source": [
    "ethnic_dataset[0]"
   ]
  },
  {
   "cell_type": "markdown",
   "id": "4d0a098a",
   "metadata": {
    "papermill": {
     "duration": 0.012862,
     "end_time": "2024-03-24T07:56:34.253716",
     "exception": false,
     "start_time": "2024-03-24T07:56:34.240854",
     "status": "completed"
    },
    "tags": []
   },
   "source": [
    "# Pick top articles only"
   ]
  },
  {
   "cell_type": "code",
   "execution_count": 16,
   "id": "fa84ce4e",
   "metadata": {
    "execution": {
     "iopub.execute_input": "2024-03-24T07:56:34.284163Z",
     "iopub.status.busy": "2024-03-24T07:56:34.282910Z",
     "iopub.status.idle": "2024-03-24T07:56:47.169930Z",
     "shell.execute_reply": "2024-03-24T07:56:47.167499Z"
    },
    "papermill": {
     "duration": 12.906189,
     "end_time": "2024-03-24T07:56:47.173127",
     "exception": false,
     "start_time": "2024-03-24T07:56:34.266938",
     "status": "completed"
    },
    "tags": []
   },
   "outputs": [
    {
     "name": "stdout",
     "output_type": "stream",
     "text": [
      "Median: 0.0\n",
      "Mean: 0.09177103050103283\n",
      "Mode: 0\n"
     ]
    }
   ],
   "source": [
    "import statistics\n",
    "\n",
    "ethnic_word_frequency_mapping = {}\n",
    "\n",
    "for article in ethnic_dataset:\n",
    "    if isinstance(article, list):\n",
    "        for individual_part in article:\n",
    "            count = 0\n",
    "            for word in individual_part.split():\n",
    "                if word in ethnicity_directed_words:\n",
    "                    count += 1\n",
    "            ethnic_word_frequency_mapping[individual_part] = count\n",
    "    else:\n",
    "        count = 0\n",
    "        for word in article.split():\n",
    "            if word in ethnicity_directed_words:\n",
    "                count += 1\n",
    "        ethnic_word_frequency_mapping[article] = count\n",
    "        \n",
    "\n",
    "print(f\"Median: {statistics.median(ethnic_word_frequency_mapping.values())}\\nMean: {statistics.mean(ethnic_word_frequency_mapping.values())}\\nMode: {statistics.mode(ethnic_word_frequency_mapping.values())}\")\n",
    "\n",
    "THRESHOLD = 4\n",
    "\n",
    "filtered_ethnic_dataset = []\n",
    "for ethnic_article, ethnic_word_frequency in ethnic_word_frequency_mapping.items():\n",
    "    if ethnic_word_frequency > THRESHOLD:\n",
    "        filtered_ethnic_dataset.append(ethnic_article)"
   ]
  },
  {
   "cell_type": "code",
   "execution_count": 17,
   "id": "bc666945",
   "metadata": {
    "execution": {
     "iopub.execute_input": "2024-03-24T07:56:47.203665Z",
     "iopub.status.busy": "2024-03-24T07:56:47.203002Z",
     "iopub.status.idle": "2024-03-24T07:56:47.210813Z",
     "shell.execute_reply": "2024-03-24T07:56:47.209443Z"
    },
    "papermill": {
     "duration": 0.026668,
     "end_time": "2024-03-24T07:56:47.213901",
     "exception": false,
     "start_time": "2024-03-24T07:56:47.187233",
     "status": "completed"
    },
    "tags": []
   },
   "outputs": [
    {
     "data": {
      "text/plain": [
       "813"
      ]
     },
     "execution_count": 17,
     "metadata": {},
     "output_type": "execute_result"
    }
   ],
   "source": [
    "len(filtered_ethnic_dataset)"
   ]
  },
  {
   "cell_type": "code",
   "execution_count": 18,
   "id": "21a7cf43",
   "metadata": {
    "execution": {
     "iopub.execute_input": "2024-03-24T07:56:47.243370Z",
     "iopub.status.busy": "2024-03-24T07:56:47.242933Z",
     "iopub.status.idle": "2024-03-24T07:56:47.250678Z",
     "shell.execute_reply": "2024-03-24T07:56:47.249352Z"
    },
    "papermill": {
     "duration": 0.025821,
     "end_time": "2024-03-24T07:56:47.253542",
     "exception": false,
     "start_time": "2024-03-24T07:56:47.227721",
     "status": "completed"
    },
    "tags": []
   },
   "outputs": [
    {
     "data": {
      "text/plain": [
       "107254"
      ]
     },
     "execution_count": 18,
     "metadata": {},
     "output_type": "execute_result"
    }
   ],
   "source": [
    "len(ethnic_dataset)"
   ]
  },
  {
   "cell_type": "markdown",
   "id": "3239c63c",
   "metadata": {
    "papermill": {
     "duration": 0.014298,
     "end_time": "2024-03-24T07:56:47.282418",
     "exception": false,
     "start_time": "2024-03-24T07:56:47.268120",
     "status": "completed"
    },
    "tags": []
   },
   "source": [
    "# Preprocess "
   ]
  },
  {
   "cell_type": "code",
   "execution_count": 19,
   "id": "885ac8d7",
   "metadata": {
    "execution": {
     "iopub.execute_input": "2024-03-24T07:56:47.312185Z",
     "iopub.status.busy": "2024-03-24T07:56:47.311769Z",
     "iopub.status.idle": "2024-03-24T07:57:05.794881Z",
     "shell.execute_reply": "2024-03-24T07:57:05.792114Z"
    },
    "papermill": {
     "duration": 18.501536,
     "end_time": "2024-03-24T07:57:05.798172",
     "exception": false,
     "start_time": "2024-03-24T07:56:47.296636",
     "status": "completed"
    },
    "tags": []
   },
   "outputs": [
    {
     "name": "stdout",
     "output_type": "stream",
     "text": [
      "Requirement already satisfied: scikit-learn in /opt/conda/lib/python3.10/site-packages (1.2.2)\r\n",
      "Requirement already satisfied: numpy>=1.17.3 in /opt/conda/lib/python3.10/site-packages (from scikit-learn) (1.26.4)\r\n",
      "Requirement already satisfied: scipy>=1.3.2 in /opt/conda/lib/python3.10/site-packages (from scikit-learn) (1.11.4)\r\n",
      "Requirement already satisfied: joblib>=1.1.1 in /opt/conda/lib/python3.10/site-packages (from scikit-learn) (1.3.2)\r\n",
      "Requirement already satisfied: threadpoolctl>=2.0.0 in /opt/conda/lib/python3.10/site-packages (from scikit-learn) (3.2.0)\r\n"
     ]
    }
   ],
   "source": [
    "!pip install scikit-learn"
   ]
  },
  {
   "cell_type": "code",
   "execution_count": 20,
   "id": "f3422cea",
   "metadata": {
    "execution": {
     "iopub.execute_input": "2024-03-24T07:57:05.838239Z",
     "iopub.status.busy": "2024-03-24T07:57:05.837701Z",
     "iopub.status.idle": "2024-03-24T07:57:08.458873Z",
     "shell.execute_reply": "2024-03-24T07:57:08.457345Z"
    },
    "papermill": {
     "duration": 2.643358,
     "end_time": "2024-03-24T07:57:08.462054",
     "exception": false,
     "start_time": "2024-03-24T07:57:05.818696",
     "status": "completed"
    },
    "tags": []
   },
   "outputs": [],
   "source": [
    "import nltk\n",
    "def valid_bengali_letters(char):\n",
    "    return ord(char) >= 2433 and ord(char) <= 2543 \n",
    "\n",
    "def get_replacement(char):\n",
    "    if valid_bengali_letters(char):\n",
    "        return char\n",
    "    newlines = [10, 2404, 2405, 2551, 9576]\n",
    "    if ord(char) in newlines: \n",
    "        return ' '\n",
    "    return ' ';\n",
    "\n",
    "def get_valid_lines(line):\n",
    "    copy_line = ''\n",
    "    for letter in line:\n",
    "        copy_line += get_replacement(letter)\n",
    "    return copy_line\n",
    "def sent_to_words(sentences):\n",
    "    for sentence in sentences:\n",
    "        yield(nltk.word_tokenize(get_valid_lines(sentence)))  # deacc=True removes punctuations"
   ]
  },
  {
   "cell_type": "code",
   "execution_count": 21,
   "id": "4c00eec3",
   "metadata": {
    "execution": {
     "iopub.execute_input": "2024-03-24T07:57:08.492236Z",
     "iopub.status.busy": "2024-03-24T07:57:08.491753Z",
     "iopub.status.idle": "2024-03-24T07:57:12.010453Z",
     "shell.execute_reply": "2024-03-24T07:57:12.008866Z"
    },
    "papermill": {
     "duration": 3.537312,
     "end_time": "2024-03-24T07:57:12.013758",
     "exception": false,
     "start_time": "2024-03-24T07:57:08.476446",
     "status": "completed"
    },
    "tags": []
   },
   "outputs": [
    {
     "name": "stdout",
     "output_type": "stream",
     "text": [
      "--2024-03-24 07:57:09--  https://github.com/aljubaer/Topic-Modeling-in-Bengali/blob/master/code/stop_words.txt\r\n",
      "Resolving github.com (github.com)... 140.82.121.3\r\n",
      "Connecting to github.com (github.com)|140.82.121.3|:443... connected.\r\n",
      "HTTP request sent, awaiting response... 200 OK\r\n",
      "Length: unspecified [text/html]\r\n",
      "Saving to: 'stop_words.txt'\r\n",
      "\r\n",
      "stop_words.txt          [ <=>                ] 152.84K  --.-KB/s    in 0.03s   \r\n",
      "\r\n",
      "2024-03-24 07:57:10 (5.13 MB/s) - 'stop_words.txt' saved [156510]\r\n",
      "\r\n",
      "__notebook__.ipynb     nonethnic_dataset.joblib  sus_entries.joblib\r\n",
      "ethnic_dataset.joblib  stop_words.txt\r\n"
     ]
    }
   ],
   "source": [
    "!wget https://github.com/aljubaer/Topic-Modeling-in-Bengali/blob/master/code/stop_words.txt\n",
    "!ls"
   ]
  },
  {
   "cell_type": "code",
   "execution_count": 22,
   "id": "fc26800d",
   "metadata": {
    "execution": {
     "iopub.execute_input": "2024-03-24T07:57:12.045417Z",
     "iopub.status.busy": "2024-03-24T07:57:12.044928Z",
     "iopub.status.idle": "2024-03-24T07:57:13.550213Z",
     "shell.execute_reply": "2024-03-24T07:57:13.548938Z"
    },
    "papermill": {
     "duration": 1.52491,
     "end_time": "2024-03-24T07:57:13.553410",
     "exception": false,
     "start_time": "2024-03-24T07:57:12.028500",
     "status": "completed"
    },
    "tags": []
   },
   "outputs": [
    {
     "name": "stdout",
     "output_type": "stream",
     "text": [
      "__notebook__.ipynb     nonethnic_dataset.joblib  sus_entries.joblib\r\n",
      "ethnic_dataset.joblib  stop_words.txt\r\n"
     ]
    }
   ],
   "source": [
    "!ls"
   ]
  },
  {
   "cell_type": "code",
   "execution_count": 23,
   "id": "91063466",
   "metadata": {
    "execution": {
     "iopub.execute_input": "2024-03-24T07:57:13.585106Z",
     "iopub.status.busy": "2024-03-24T07:57:13.584513Z",
     "iopub.status.idle": "2024-03-24T07:57:13.593410Z",
     "shell.execute_reply": "2024-03-24T07:57:13.592064Z"
    },
    "papermill": {
     "duration": 0.028322,
     "end_time": "2024-03-24T07:57:13.596048",
     "exception": false,
     "start_time": "2024-03-24T07:57:13.567726",
     "status": "completed"
    },
    "tags": []
   },
   "outputs": [],
   "source": [
    "def remove_stop_words(pre_data):\n",
    "    f = open('stop_words.txt', \"r+\", encoding = 'utf-8')\n",
    "    aa = f.read()\n",
    "    data_stop = [d.strip() for d in aa.split()]\n",
    "    new_data = []\n",
    "    for i,line in enumerate(pre_data):\n",
    "        i_new_data = []\n",
    "        for word in line:\n",
    "            if word not in data_stop and len(word) > 2:\n",
    "                i_new_data.append(word)\n",
    "        new_data.append(i_new_data)\n",
    "    return new_data"
   ]
  },
  {
   "cell_type": "code",
   "execution_count": null,
   "id": "1fb6fbec",
   "metadata": {
    "papermill": {
     "duration": 0.013833,
     "end_time": "2024-03-24T07:57:13.624200",
     "exception": false,
     "start_time": "2024-03-24T07:57:13.610367",
     "status": "completed"
    },
    "tags": []
   },
   "outputs": [],
   "source": []
  },
  {
   "cell_type": "code",
   "execution_count": 24,
   "id": "787feaaa",
   "metadata": {
    "execution": {
     "iopub.execute_input": "2024-03-24T07:57:13.655139Z",
     "iopub.status.busy": "2024-03-24T07:57:13.654711Z",
     "iopub.status.idle": "2024-03-24T07:57:31.102308Z",
     "shell.execute_reply": "2024-03-24T07:57:31.101104Z"
    },
    "papermill": {
     "duration": 17.46709,
     "end_time": "2024-03-24T07:57:31.105491",
     "exception": false,
     "start_time": "2024-03-24T07:57:13.638401",
     "status": "completed"
    },
    "tags": []
   },
   "outputs": [],
   "source": [
    "import re\n",
    "import gensim\n",
    "import gensim.corpora as corpora\n",
    "from gensim.utils import simple_preprocess\n",
    "from gensim.models import CoherenceModel\n",
    "\n",
    "\n",
    "skipped_data = []\n",
    "def preprocess_corpus(data):\n",
    "    # Ensure data is a list\n",
    "    if not isinstance(data, list):\n",
    "        raise TypeError(\"Data must be a list of strings\")\n",
    "\n",
    "    #print(data[:1])\n",
    "    \n",
    "    # Remove new line characters and distracting single quotes\n",
    "    cleaned_data = []\n",
    "    for sent in data:\n",
    "        if isinstance(sent, str):\n",
    "            cleaned_sent = re.sub('\\s+', ' ', sent)\n",
    "            cleaned_sent = re.sub(\"\\'\", \"\", cleaned_sent)\n",
    "            cleaned_data.append(cleaned_sent)\n",
    "        else:\n",
    "            skipped_data.append(sent)\n",
    "\n",
    "    data = cleaned_data\n",
    "\n",
    "    data_words = list(sent_to_words(data))\n",
    "\n",
    "    for row, single_data in enumerate(data_words):\n",
    "        for column, word in enumerate(single_data):\n",
    "            data_words[row][column] = word # stem\n",
    "\n",
    "    # Build the bigram and trigram models\n",
    "    bigram = gensim.models.Phrases(data_words, min_count=5, threshold=100) # higher threshold fewer phrases.\n",
    "    trigram = gensim.models.Phrases(bigram[data_words], threshold=100)  \n",
    "\n",
    "    # Faster way to get a sentence clubbed as a trigram/bigram\n",
    "    bigram_mod = gensim.models.phrases.Phraser(bigram)\n",
    "    trigram_mod = gensim.models.phrases.Phraser(trigram)\n",
    "\n",
    "    data_ready = remove_stop_words(data_words)\n",
    "    return data_ready"
   ]
  },
  {
   "cell_type": "code",
   "execution_count": null,
   "id": "a40d75d6",
   "metadata": {
    "papermill": {
     "duration": 0.013965,
     "end_time": "2024-03-24T07:57:31.135033",
     "exception": false,
     "start_time": "2024-03-24T07:57:31.121068",
     "status": "completed"
    },
    "tags": []
   },
   "outputs": [],
   "source": []
  },
  {
   "cell_type": "code",
   "execution_count": 25,
   "id": "7315c02e",
   "metadata": {
    "execution": {
     "iopub.execute_input": "2024-03-24T07:57:31.166060Z",
     "iopub.status.busy": "2024-03-24T07:57:31.165265Z",
     "iopub.status.idle": "2024-03-24T08:39:23.162157Z",
     "shell.execute_reply": "2024-03-24T08:39:23.160571Z"
    },
    "papermill": {
     "duration": 2512.016174,
     "end_time": "2024-03-24T08:39:23.165554",
     "exception": false,
     "start_time": "2024-03-24T07:57:31.149380",
     "status": "completed"
    },
    "tags": []
   },
   "outputs": [],
   "source": [
    "data = ethnic_dataset\n",
    "data_ready = preprocess_corpus(data)"
   ]
  },
  {
   "cell_type": "code",
   "execution_count": 26,
   "id": "b9c44d30",
   "metadata": {
    "execution": {
     "iopub.execute_input": "2024-03-24T08:39:23.200733Z",
     "iopub.status.busy": "2024-03-24T08:39:23.200266Z",
     "iopub.status.idle": "2024-03-24T08:39:23.208423Z",
     "shell.execute_reply": "2024-03-24T08:39:23.206885Z"
    },
    "papermill": {
     "duration": 0.029189,
     "end_time": "2024-03-24T08:39:23.211021",
     "exception": false,
     "start_time": "2024-03-24T08:39:23.181832",
     "status": "completed"
    },
    "tags": []
   },
   "outputs": [
    {
     "data": {
      "text/plain": [
       "64119"
      ]
     },
     "execution_count": 26,
     "metadata": {},
     "output_type": "execute_result"
    }
   ],
   "source": [
    "len(skipped_data)"
   ]
  },
  {
   "cell_type": "code",
   "execution_count": 27,
   "id": "6f31526e",
   "metadata": {
    "execution": {
     "iopub.execute_input": "2024-03-24T08:39:23.243152Z",
     "iopub.status.busy": "2024-03-24T08:39:23.242708Z",
     "iopub.status.idle": "2024-03-24T18:47:47.546277Z",
     "shell.execute_reply": "2024-03-24T18:47:47.542860Z"
    },
    "papermill": {
     "duration": 36504.368521,
     "end_time": "2024-03-24T18:47:47.594117",
     "exception": false,
     "start_time": "2024-03-24T08:39:23.225596",
     "status": "completed"
    },
    "tags": []
   },
   "outputs": [
    {
     "name": "stdout",
     "output_type": "stream",
     "text": [
      "[(0,\n",
      "  '0.041*\"করা\" + 0.034*\"হয়েছে\" + 0.028*\"পুলিশ\" + 0.018*\"করেছে\" + '\n",
      "  '0.015*\"অভিযোগ\" + 0.015*\"জানান\" + 0.014*\"নারী\" + 0.014*\"বিরুদ্ধে\" + '\n",
      "  '0.013*\"ঘটনা\" + 0.013*\"হত্যা\" + 0.012*\"ঘটনায়\" + 0.011*\"তাদের\" + '\n",
      "  '0.010*\"থানার\" + 0.010*\"জানায়\" + 0.010*\"মামলা\" + 0.010*\"একটি\" + '\n",
      "  '0.009*\"ঘটনার\" + 0.009*\"পালিয়ে\" + 0.009*\"এলাকার\" + 0.009*\"দাবি\" + '\n",
      "  '0.008*\"অভিযান\" + 0.008*\"বাড়ি\" + 0.008*\"জানিয়েছে\" + 0.008*\"পুলিশের\" + '\n",
      "  '0.008*\"তদন্ত\"'),\n",
      " (1,\n",
      "  '0.029*\"ম্যাচে\" + 0.025*\"গোল\" + 0.021*\"শেষ\" + 0.020*\"মেসি\" + 0.015*\"দ্বিতীয়\" '\n",
      "  '+ 0.014*\"প্রথম\" + 0.014*\"গোলে\" + 0.014*\"এগিয়ে\" + 0.013*\"বোর্ড\" + '\n",
      "  '0.013*\"খেলোয়াড়\" + 0.013*\"শিরোপা\" + 0.012*\"জয়ের\" + 0.012*\"করেছি\" + '\n",
      "  '0.012*\"তবে\" + 0.011*\"মিনিটে\" + 0.011*\"মেসির\" + 0.011*\"রিয়াল\" + 0.010*\"হেরে\" '\n",
      "  '+ 0.010*\"হারিয়ে\" + 0.009*\"দুই\" + 0.009*\"ম্যাচের\" + 0.009*\"এটি\" + '\n",
      "  '0.009*\"২০১৭\" + 0.009*\"যারা\" + 0.009*\"ছিল\"'),\n",
      " (2,\n",
      "  '0.091*\"রোহিঙ্গা\" + 0.067*\"মিয়ানমারের\" + 0.063*\"রোহিঙ্গাদের\" + '\n",
      "  '0.049*\"মিয়ানমার\" + 0.039*\"দেশটির\" + 0.038*\"রাখাইন\" + 0.029*\"বাংলাদেশে\" + '\n",
      "  '0.028*\"প্রেসিডেন্ট\" + 0.026*\"আশ্রয়\" + 0.022*\"রাজ্যে\" + 0.019*\"সেনাবাহিনীর\" '\n",
      "  '+ 0.019*\"আন্তর্জাতিক\" + 0.019*\"মার্কিন\" + 0.017*\"মিয়ানমারে\" + 0.016*\"বৈঠকে\" '\n",
      "  '+ 0.015*\"ওপর\" + 0.015*\"রোহিঙ্গারা\" + 0.014*\"সরকারের\" + 0.014*\"সরকার\" + '\n",
      "  '0.013*\"প্রত্যাবাসন\" + 0.011*\"যুক্তরাষ্ট্রের\" + 0.011*\"সান\" + 0.010*\"সংকট\" + '\n",
      "  '0.008*\"চীনের\" + 0.008*\"পররাষ্ট্রমন্ত্রী\"'),\n",
      " (3,\n",
      "  '0.048*\"বলেন\" + 0.036*\"হবে\" + 0.036*\"জন্য\" + 0.031*\"সঙ্গে\" + 0.028*\"তাদের\" + '\n",
      "  '0.027*\"করতে\" + 0.025*\"এবং\" + 0.025*\"তারা\" + 0.023*\"তিনি\" + 0.018*\"কোনো\" + '\n",
      "  '0.017*\"কথা\" + 0.016*\"তবে\" + 0.014*\"নিয়ে\" + 0.014*\"বলে\" + 0.014*\"করার\" + '\n",
      "  '0.013*\"হয়েছে\" + 0.012*\"করা\" + 0.012*\"দেয়া\" + 0.012*\"করে\" + 0.011*\"পারে\" + '\n",
      "  '0.011*\"মধ্যে\" + 0.011*\"দেশের\" + 0.010*\"নতুন\" + 0.010*\"কিন্তু\" + '\n",
      "  '0.010*\"হচ্ছে\"'),\n",
      " (4,\n",
      "  '0.079*\"ত্রিপুরা\" + 0.049*\"পাশে\" + 0.043*\"বাস\" + 0.038*\"পরিষদ\" + '\n",
      "  '0.030*\"ক্ষুদ্র\" + 0.029*\"যারা\" + 0.029*\"এটি\" + 0.024*\"এখানে\" + 0.024*\"উৎসব\" '\n",
      "  '+ 0.022*\"বান্দরবান\" + 0.021*\"সুমন\" + 0.021*\"বাঙালি\" + 0.020*\"ভাষা\" + '\n",
      "  '0.019*\"পাহাড়ের\" + 0.018*\"আঞ্চলিক\" + 0.015*\"বন্ধু\" + 0.015*\"গোষ্ঠীর\" + '\n",
      "  '0.015*\"কাদের\" + 0.013*\"পরিচিত\" + 0.013*\"পৃথিবীর\" + 0.012*\"খেতে\" + '\n",
      "  '0.012*\"ফুল\" + 0.011*\"স্বাভাবিক\" + 0.011*\"উৎসবের\" + 0.011*\"তৈরি\"'),\n",
      " (5,\n",
      "  '0.061*\"কোন\" + 0.050*\"পুরস্কার\" + 0.040*\"শিক্ষা\" + 0.039*\"বাংলা\" + '\n",
      "  '0.031*\"ভারতে\" + 0.027*\"সালে\" + 0.025*\"ইতিহাস\" + 0.022*\"দিবস\" + '\n",
      "  '0.021*\"শিক্ষক\" + 0.020*\"প্রথম\" + 0.019*\"যুদ্ধ\" + 0.019*\"প্রতিষ্ঠিত\" + '\n",
      "  '0.019*\"বাংলার\" + 0.017*\"মানুষের\" + 0.016*\"সমাজ\" + 0.015*\"সমাজের\" + '\n",
      "  '0.014*\"বিজয়\" + 0.013*\"প্রতিষ্ঠা\" + 0.012*\"দেশ\" + 0.011*\"লাভ\" + 0.011*\"রোগে\" '\n",
      "  '+ 0.010*\"উত্তর\" + 0.010*\"স্কুল\" + 0.009*\"১৯৭১\" + 0.009*\"বক্সের\"'),\n",
      " (6,\n",
      "  '0.128*\"প্রধানমন্ত্রী\" + 0.059*\"জাতিসংঘের\" + 0.054*\"আহ্বান\" + '\n",
      "  '0.044*\"জাতিসংঘ\" + 0.036*\"বিচার\" + 0.033*\"গণহত্যা\" + 0.033*\"সংখ্যালঘু\" + '\n",
      "  '0.028*\"নির্যাতনের\" + 0.023*\"নির্যাতন\" + 0.021*\"নিরাপত্তা\" + '\n",
      "  '0.021*\"নাগরিকত্ব\" + 0.020*\"মুসলমানদের\" + 0.019*\"রয়টার্স\" + 0.019*\"পদক্ষেপ\" '\n",
      "  '+ 0.017*\"রাশিয়ার\" + 0.015*\"বিক্ষোভ\" + 0.013*\"মালয়েশিয়া\" + 0.012*\"নিন্দা\" + '\n",
      "  '0.012*\"সহিংসতার\" + 0.011*\"মুসলিমদের\" + 0.011*\"মহাসচিব\" + 0.008*\"উদ্বেগ\" + '\n",
      "  '0.007*\"সরকারের\" + 0.007*\"প্রতিবাদ\" + 0.006*\"দ্রুততম\"'),\n",
      " (7,\n",
      "  '0.038*\"থেকে\" + 0.037*\"ক্রিকেট\" + 0.021*\"তিন\" + 0.020*\"দুই\" + 0.019*\"ভারতের\" '\n",
      "  '+ 0.018*\"শুরু\" + 0.014*\"ভারতীয়\" + 0.014*\"দিয়েছেন\" + 0.013*\"প্রধান\" + '\n",
      "  '0.013*\"হয়নি\" + 0.012*\"গেছে\" + 0.012*\"বছরের\" + 0.012*\"হলে\" + 0.012*\"কেউ\" + '\n",
      "  '0.011*\"ভারত\" + 0.010*\"তৈরি\" + 0.010*\"বেশ\" + 0.009*\"আহমেদ\" + 0.009*\"দেয়\" + '\n",
      "  '0.008*\"পালন\" + 0.008*\"থাকতে\" + 0.008*\"দুটি\" + 0.008*\"পেয়ে\" + 0.008*\"জাতীয়\" '\n",
      "  '+ 0.008*\"আলী\"'),\n",
      " (8,\n",
      "  '0.056*\"কোচ\" + 0.045*\"দলের\" + 0.024*\"বিপক্ষে\" + 0.022*\"ম্যাচ\" + 0.020*\"আমার\" '\n",
      "  '+ 0.018*\"তিনি\" + 0.017*\"সাবেক\" + 0.016*\"জাতীয়\" + 0.016*\"দলে\" + 0.016*\"তার\" '\n",
      "  '+ 0.014*\"হিসেবে\" + 0.013*\"মাঠে\" + 0.013*\"প্রথম\" + 0.013*\"বছর\" + 0.013*\"হয়ে\" '\n",
      "  '+ 0.013*\"পাকিস্তান\" + 0.013*\"ক্রিকেটার\" + 0.011*\"খেলতে\" + 0.011*\"দায়িত্ব\" + '\n",
      "  '0.011*\"তবে\" + 0.011*\"আগে\" + 0.010*\"অনেক\" + 0.010*\"রান\" + 0.009*\"খেলার\" + '\n",
      "  '0.009*\"ওয়ানডে\"'),\n",
      " (9,\n",
      "  '0.000*\"রত্ননন্দিনী\" + 0.000*\"এস্পানেয়লের\" + 0.000*\"ক্যাসিয়া\" + '\n",
      "  '0.000*\"রণাঙ্গণ\" + 0.000*\"টাইমেও\" + 0.000*\"রেরে\" + 0.000*\"ধ্বজো\" + '\n",
      "  '0.000*\"যৌথপাঠ\" + 0.000*\"মেস্তরীর\" + 0.000*\"মৃিশল্প\" + 0.000*\"মান্দিদের\" + '\n",
      "  '0.000*\"মনটোয়া\" + 0.000*\"মাচ্ছাবেত্\" + 0.000*\"মমত্বের\" + 0.000*\"ভাগ্যবতী\" + '\n",
      "  '0.000*\"বিদেহ\" + 0.000*\"প্রাচ্যনাট্যের\" + 0.000*\"প্রফেশনালিজম\" + '\n",
      "  '0.000*\"প্রদর্শনীরও\" + 0.000*\"পৌঁছতেপারা\" + 0.000*\"নাট্যাঙ্গিক\" + '\n",
      "  '0.000*\"নসি\" + 0.000*\"শেষমুহূর্ত\" + 0.000*\"মাচ্ছাদু\" + 0.000*\"অটিস্টিকে\"'),\n",
      " (10,\n",
      "  '0.057*\"ইসলাম\" + 0.052*\"সম্পাদক\" + 0.048*\"রহমান\" + 0.044*\"হোসেন\" + '\n",
      "  '0.038*\"সভাপতি\" + 0.030*\"ছিলেন\" + 0.030*\"চেয়ারম্যান\" + 0.021*\"আবদুল\" + '\n",
      "  '0.021*\"উপস্থিত\" + 0.020*\"সাবেক\" + 0.020*\"করেন\" + 0.019*\"আদিবাসী\" + '\n",
      "  '0.019*\"পরিষদের\" + 0.019*\"কেন্দ্রীয়\" + 0.018*\"জেলা\" + 0.017*\"হাসান\" + '\n",
      "  '0.015*\"অনুষ্ঠানে\" + 0.014*\"বক্তব্য\" + 0.013*\"খান\" + 0.012*\"রাখেন\" + '\n",
      "  '0.011*\"প্রধান\" + 0.011*\"রায়\" + 0.011*\"সাংবাদিক\" + 0.010*\"আক্তার\" + '\n",
      "  '0.010*\"সাংস্কৃতিক\"'),\n",
      " (11,\n",
      "  '0.172*\"বাংলাদেশ\" + 0.086*\"বাংলাদেশের\" + 0.041*\"মোহাম্মদ\" + 0.037*\"ঢাকা\" + '\n",
      "  '0.023*\"ব্যবহার\" + 0.022*\"পেয়েছেন\" + 0.021*\"ঢাকায়\" + 0.018*\"মারমা\" + '\n",
      "  '0.015*\"অনূর্ধ্ব\" + 0.014*\"অনুষ্ঠিত\" + 0.013*\"সিনিয়র\" + 0.013*\"ক্লাবের\" + '\n",
      "  '0.013*\"জুলাই\" + 0.013*\"আলাদা\" + 0.011*\"রবি\" + 0.011*\"আন্তর্জাতিক\" + '\n",
      "  '0.011*\"প্রস্তুতি\" + 0.010*\"বিভাগ\" + 0.010*\"উদ্দেশে\" + 0.010*\"দাস\" + '\n",
      "  '0.010*\"দেশে\" + 0.010*\"সবাইকে\" + 0.009*\"চোট\" + 0.009*\"অনুশীলন\" + '\n",
      "  '0.008*\"ম্যানেজার\"'),\n",
      " (12,\n",
      "  '0.000*\"রত্ননন্দিনী\" + 0.000*\"এস্পানেয়লের\" + 0.000*\"ক্যাসিয়া\" + '\n",
      "  '0.000*\"রণাঙ্গণ\" + 0.000*\"টাইমেও\" + 0.000*\"রেরে\" + 0.000*\"ধ্বজো\" + '\n",
      "  '0.000*\"যৌথপাঠ\" + 0.000*\"মেস্তরীর\" + 0.000*\"মৃিশল্প\" + 0.000*\"মান্দিদের\" + '\n",
      "  '0.000*\"মনটোয়া\" + 0.000*\"মাচ্ছাবেত্\" + 0.000*\"মমত্বের\" + 0.000*\"ভাগ্যবতী\" + '\n",
      "  '0.000*\"বিদেহ\" + 0.000*\"প্রাচ্যনাট্যের\" + 0.000*\"প্রফেশনালিজম\" + '\n",
      "  '0.000*\"প্রদর্শনীরও\" + 0.000*\"পৌঁছতেপারা\" + 0.000*\"নাট্যাঙ্গিক\" + '\n",
      "  '0.000*\"নসি\" + 0.000*\"শেষমুহূর্ত\" + 0.000*\"মাচ্ছাদু\" + 0.000*\"অটিস্টিকে\"'),\n",
      " (13,\n",
      "  '0.032*\"থেকে\" + 0.028*\"করা\" + 0.021*\"হাজার\" + 0.016*\"বিভিন্ন\" + 0.015*\"এবং\" '\n",
      "  '+ 0.014*\"লাখ\" + 0.013*\"প্রায়\" + 0.013*\"টাকা\" + 0.013*\"হয়েছে\" + 0.013*\"এসব\" '\n",
      "  '+ 0.012*\"অনেক\" + 0.012*\"রয়েছে\" + 0.012*\"কারণে\" + 0.011*\"মধ্যে\" + '\n",
      "  '0.011*\"মানুষ\" + 0.011*\"করে\" + 0.011*\"হয়ে\" + 0.011*\"বেশি\" + 0.010*\"আমার\" + '\n",
      "  '0.010*\"হচ্ছে\" + 0.010*\"থাকে\" + 0.010*\"হলো\" + 0.009*\"মাধ্যমে\" + 0.009*\"ঢাকা\" '\n",
      "  '+ 0.009*\"কিছু\"'),\n",
      " (14,\n",
      "  '0.095*\"করে\" + 0.057*\"তার\" + 0.043*\"তিনি\" + 0.042*\"করেন\" + 0.037*\"থেকে\" + '\n",
      "  '0.023*\"দিয়ে\" + 0.022*\"নিয়ে\" + 0.020*\"হয়ে\" + 0.020*\"তাকে\" + 0.019*\"সময়\" + '\n",
      "  '0.018*\"যায়\" + 0.018*\"একটি\" + 0.014*\"পরে\" + 0.014*\"দিকে\" + 0.012*\"ছিলেন\" + '\n",
      "  '0.012*\"দেন\" + 0.012*\"ফুটবল\" + 0.011*\"করেছেন\" + 0.011*\"ছিল\" + 0.010*\"দিন\" + '\n",
      "  '0.010*\"একজন\" + 0.010*\"নাম\" + 0.010*\"ধরে\" + 0.008*\"বলে\" + 0.008*\"গিয়ে\"'),\n",
      " (15,\n",
      "  '0.055*\"কোচের\" + 0.046*\"লীগ\" + 0.032*\"সবার\" + 0.032*\"চান\" + 0.028*\"স্বপ্ন\" + '\n",
      "  '0.028*\"আর্জেন্টিনার\" + 0.026*\"নিয়োগ\" + 0.026*\"পথে\" + 0.022*\"একমাত্র\" + '\n",
      "  '0.022*\"সন্তান\" + 0.021*\"মাসে\" + 0.020*\"পদে\" + 0.020*\"করেই\" + 0.019*\"পারবেন\" '\n",
      "  '+ 0.019*\"প্রিমিয়ার\" + 0.017*\"বলতে\" + 0.016*\"নির্বাচনে\" + 0.015*\"কিছুই\" + '\n",
      "  '0.015*\"ইংলিশ\" + 0.015*\"আসন\" + 0.014*\"মতে\" + 0.013*\"জানুয়ারি\" + 0.013*\"ড্র\" '\n",
      "  '+ 0.013*\"এটাই\" + 0.012*\"হচ্ছেন\"'),\n",
      " (16,\n",
      "  '0.000*\"রত্ননন্দিনী\" + 0.000*\"এস্পানেয়লের\" + 0.000*\"ক্যাসিয়া\" + '\n",
      "  '0.000*\"রণাঙ্গণ\" + 0.000*\"টাইমেও\" + 0.000*\"রেরে\" + 0.000*\"ধ্বজো\" + '\n",
      "  '0.000*\"যৌথপাঠ\" + 0.000*\"মেস্তরীর\" + 0.000*\"মৃিশল্প\" + 0.000*\"মান্দিদের\" + '\n",
      "  '0.000*\"মনটোয়া\" + 0.000*\"মাচ্ছাবেত্\" + 0.000*\"মমত্বের\" + 0.000*\"ভাগ্যবতী\" + '\n",
      "  '0.000*\"বিদেহ\" + 0.000*\"প্রাচ্যনাট্যের\" + 0.000*\"প্রফেশনালিজম\" + '\n",
      "  '0.000*\"প্রদর্শনীরও\" + 0.000*\"পৌঁছতেপারা\" + 0.000*\"নাট্যাঙ্গিক\" + '\n",
      "  '0.000*\"নসি\" + 0.000*\"শেষমুহূর্ত\" + 0.000*\"মাচ্ছাদু\" + 0.000*\"অটিস্টিকে\"'),\n",
      " (17,\n",
      "  '0.056*\"আমি\" + 0.047*\"আমরা\" + 0.043*\"আমাদের\" + 0.039*\"ভালো\" + 0.029*\"আছে\" + '\n",
      "  '0.027*\"সেই\" + 0.025*\"অধিনায়ক\" + 0.024*\"মনে\" + 0.022*\"নিয়ে\" + 0.020*\"ছিল\" + '\n",
      "  '0.019*\"খেলা\" + 0.018*\"কিন্তু\" + 0.017*\"একটা\" + 0.017*\"মতো\" + 0.017*\"এমন\" + '\n",
      "  '0.016*\"যদি\" + 0.015*\"এটা\" + 0.014*\"নেই\" + 0.013*\"খুব\" + 0.013*\"করি\" + '\n",
      "  '0.013*\"এখন\" + 0.013*\"নিজেদের\" + 0.013*\"বেশি\" + 0.012*\"চাই\" + 0.012*\"তাই\"'),\n",
      " (18,\n",
      "  '0.000*\"রত্ননন্দিনী\" + 0.000*\"এস্পানেয়লের\" + 0.000*\"ক্যাসিয়া\" + '\n",
      "  '0.000*\"রণাঙ্গণ\" + 0.000*\"টাইমেও\" + 0.000*\"রেরে\" + 0.000*\"ধ্বজো\" + '\n",
      "  '0.000*\"যৌথপাঠ\" + 0.000*\"মেস্তরীর\" + 0.000*\"মৃিশল্প\" + 0.000*\"মান্দিদের\" + '\n",
      "  '0.000*\"মনটোয়া\" + 0.000*\"মাচ্ছাবেত্\" + 0.000*\"মমত্বের\" + 0.000*\"ভাগ্যবতী\" + '\n",
      "  '0.000*\"বিদেহ\" + 0.000*\"প্রাচ্যনাট্যের\" + 0.000*\"প্রফেশনালিজম\" + '\n",
      "  '0.000*\"প্রদর্শনীরও\" + 0.000*\"পৌঁছতেপারা\" + 0.000*\"নাট্যাঙ্গিক\" + '\n",
      "  '0.000*\"নসি\" + 0.000*\"শেষমুহূর্ত\" + 0.000*\"মাচ্ছাদু\" + 0.000*\"অটিস্টিকে\"'),\n",
      " (19,\n",
      "  '0.031*\"চাকমা\" + 0.029*\"আওয়ামী\" + 0.028*\"জানান\" + 0.027*\"উপজেলার\" + '\n",
      "  '0.022*\"উপজেলা\" + 0.022*\"জেলা\" + 0.019*\"সাধারণ\" + 0.019*\"সদস্য\" + '\n",
      "  '0.018*\"হাসপাতালে\" + 0.015*\"গ্রামের\" + 0.015*\"সদর\" + 0.014*\"আলম\" + '\n",
      "  '0.014*\"ছেলে\" + 0.014*\"ইউনিয়নের\" + 0.014*\"কর্মকর্তা\" + 0.013*\"চট্টগ্রাম\" + '\n",
      "  '0.013*\"স্থানীয়\" + 0.013*\"এলাকায়\" + 0.013*\"লীগের\" + 0.012*\"আহত\" + '\n",
      "  '0.012*\"ওসি\" + 0.011*\"মৃত্যু\" + 0.011*\"চৌধুরী\" + 0.011*\"নিহত\" + '\n",
      "  '0.011*\"হয়েছে\"')]\n"
     ]
    }
   ],
   "source": [
    "from pprint import pprint\n",
    "# Create Dictionary\n",
    "id2word = corpora.Dictionary(data_ready)\n",
    "\n",
    "# Create Corpus: Term Document Frequency\n",
    "corpus = [id2word.doc2bow(text) for text in data_ready]\n",
    "\n",
    "# Build LDA model\n",
    "lda_model = gensim.models.ldamodel.LdaModel(corpus=corpus,\n",
    "                                           id2word=id2word,\n",
    "                                           num_topics=20, \n",
    "                                           random_state=100,\n",
    "                                           update_every=1,\n",
    "                                           chunksize=30,\n",
    "                                           passes=30,\n",
    "                                           alpha='auto',\n",
    "                                           iterations=1000,\n",
    "                                           per_word_topics=True)\n",
    "\n",
    "pprint(lda_model.print_topics(num_words = 25))"
   ]
  },
  {
   "cell_type": "markdown",
   "id": "f2d5bec2",
   "metadata": {
    "papermill": {
     "duration": 0.015822,
     "end_time": "2024-03-24T18:47:47.626334",
     "exception": false,
     "start_time": "2024-03-24T18:47:47.610512",
     "status": "completed"
    },
    "tags": []
   },
   "source": [
    "## Resources\n",
    "    1. https://www.kaggle.com/code/iamsdt/bengali-fake-news-classification-using-bert\n",
    "    2. https://huggingface.co/csebuetnlp/banglabert\n",
    "    3. https://github.com/omar-sharif03/NAACL-SRW-2021/blob/main/Code%20Snippets/ML_Algorithms_NAACL_(Emotion_Data).ipynb\n",
    "    4. https://github.com/aljubaer/Topic-Modeling-in-Bengali/blob/master/code/lda-visualizer.ipynb"
   ]
  },
  {
   "cell_type": "code",
   "execution_count": null,
   "id": "26137377",
   "metadata": {
    "papermill": {
     "duration": 0.01491,
     "end_time": "2024-03-24T18:47:47.656514",
     "exception": false,
     "start_time": "2024-03-24T18:47:47.641604",
     "status": "completed"
    },
    "tags": []
   },
   "outputs": [],
   "source": []
  }
 ],
 "metadata": {
  "kaggle": {
   "accelerator": "none",
   "dataSources": [
    {
     "datasetId": 1105150,
     "sourceId": 3563095,
     "sourceType": "datasetVersion"
    }
   ],
   "dockerImageVersionId": 30664,
   "isGpuEnabled": false,
   "isInternetEnabled": true,
   "language": "python",
   "sourceType": "notebook"
  },
  "kernelspec": {
   "display_name": "Python 3",
   "language": "python",
   "name": "python3"
  },
  "language_info": {
   "codemirror_mode": {
    "name": "ipython",
    "version": 3
   },
   "file_extension": ".py",
   "mimetype": "text/x-python",
   "name": "python",
   "nbconvert_exporter": "python",
   "pygments_lexer": "ipython3",
   "version": "3.10.13"
  },
  "papermill": {
   "default_parameters": {},
   "duration": 40301.187259,
   "end_time": "2024-03-24T18:47:51.903586",
   "environment_variables": {},
   "exception": null,
   "input_path": "__notebook__.ipynb",
   "output_path": "__notebook__.ipynb",
   "parameters": {},
   "start_time": "2024-03-24T07:36:10.716327",
   "version": "2.5.0"
  }
 },
 "nbformat": 4,
 "nbformat_minor": 5
}
